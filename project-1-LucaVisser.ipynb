{
 "cells": [
  {
   "cell_type": "code",
   "execution_count": null,
   "metadata": {},
   "outputs": [],
   "source": [
    "import pandas as pd\n",
    "import numpy as np\n",
    "import datetime\n",
    "\n",
    "# read in data\n",
    "bicycle_data_2021 = pd.read_csv(\"input/bicycle-counter-prediction/fietstelpaal-coupure-links-2021-gent.csv\", sep = \";\")\n",
    "bicycle_data_2022 = pd.read_csv(\"input/bicycle-counter-prediction/fietstelpaal-coupure-links-2022-gent.csv\", sep = \";\")\n",
    "bicycle_data_2023 = pd.read_csv(\"input/bicycle-counter-prediction/fietstelpaal-coupure-links-2023-gent.csv\", sep = \";\")\n",
    "bicycle_data = pd.concat([bicycle_data_2021, bicycle_data_2022, bicycle_data_2023])\n",
    "bicycle_data[\"Date_hour\"] = bicycle_data['Ordening'].str.extract(r'^(.*?T\\d{2})..')\n",
    "bicycle_data = bicycle_data.groupby(['Datum', 'Date_hour'])['Totaal'].sum().reset_index(name ='Totaal')\n",
    "print(bicycle_data.shape)\n",
    "print(min(bicycle_data[\"Date_hour\"]))\n",
    "print(max(bicycle_data[\"Date_hour\"]))\n",
    "bicycle_data.head()"
   ]
  },
  {
   "cell_type": "code",
   "execution_count": null,
   "metadata": {},
   "outputs": [],
   "source": [
    "train_rawdata = pd.read_csv(\"input/bicycle-counter-prediction/train_data.csv\")\n",
    "print(train_rawdata.shape)\n",
    "print(min(train_rawdata[\"Date_hour\"]))\n",
    "print(max(train_rawdata[\"Date_hour\"]))\n",
    "train_rawdata.head()"
   ]
  },
  {
   "cell_type": "code",
   "execution_count": null,
   "metadata": {},
   "outputs": [],
   "source": [
    "test_rawdata = pd.read_csv(\"input/bicycle-counter-prediction/test_data.csv\")\n",
    "print(test_rawdata.shape)\n",
    "print(min(test_rawdata[\"Date_hour\"]))\n",
    "print(max(test_rawdata[\"Date_hour\"]))\n",
    "test_rawdata.head()"
   ]
  },
  {
   "cell_type": "code",
   "execution_count": null,
   "metadata": {},
   "outputs": [],
   "source": [
    "# read in data\n",
    "weather_rawdata = pd.read_csv(\"input/bicycle-counter-prediction/open-meteo-51.10N3.70E13m.csv\", skiprows=2).dropna()\n",
    "print(weather_rawdata.shape)\n",
    "print(weather_rawdata.isna().sum())\n",
    "weather_rawdata.head()"
   ]
  },
  {
   "cell_type": "code",
   "execution_count": null,
   "metadata": {},
   "outputs": [],
   "source": [
    "school_holidays_data = pd.read_csv(\"input/bicycle-counter-prediction/school_holidays.csv\", sep = \";\")\n",
    "school_holidays_data.head()"
   ]
  },
  {
   "cell_type": "code",
   "execution_count": null,
   "metadata": {},
   "outputs": [],
   "source": [
    "import holidays\n",
    "belgian_holidays = holidays.Belgium(years=[2021, 2022, 2023])\n",
    "print(belgian_holidays)"
   ]
  },
  {
   "cell_type": "code",
   "execution_count": null,
   "metadata": {},
   "outputs": [],
   "source": [
    "import datetime\n",
    "school_holidays = {}\n",
    "for index, row in school_holidays_data.iterrows():\n",
    "    school_holidays[row['name']] = [datetime.datetime.strptime(row['start'], '%Y-%m-%d'), datetime.datetime.strptime(row['end'], '%Y-%m-%d')]\n",
    "print(school_holidays)"
   ]
  },
  {
   "cell_type": "code",
   "execution_count": null,
   "metadata": {},
   "outputs": [],
   "source": [
    "from datetime import timedelta\n",
    "\n",
    "weather_data = weather_rawdata.copy()\n",
    "weather_data.columns = weather_data.columns.str.split(' ').str[0]\n",
    "weather_data[\"Date_hour\"] = weather_data[\"time\"].str.split(':', expand = True)[0]\n",
    "weather_data = weather_data.drop(\"time\", axis = 1)\n",
    "weather_data = weather_data[(min(bicycle_data[\"Date_hour\"]) <= weather_data['Date_hour']) & (weather_data['Date_hour'] <= max(test_rawdata[\"Date_hour\"]))]\n",
    "date_time = pd.to_datetime(weather_data['Date_hour'])\n",
    "weather_data[\"date\"] = date_time.dt.date\n",
    "\n",
    "print(weather_data.shape)\n",
    "print(min(weather_data[\"Date_hour\"]))\n",
    "print(max(weather_data[\"Date_hour\"]))\n",
    "weather_data.head()"
   ]
  },
  {
   "cell_type": "code",
   "execution_count": null,
   "metadata": {},
   "outputs": [],
   "source": [
    "feature_data = weather_data.copy()\n",
    "feature_data['weekday'] = date_time.dt.strftime('%A')\n",
    "feature_data['hour'] = date_time.dt.hour\n",
    "feature_data[\"month\"] = date_time.dt.month\n",
    "feature_data['hour_sin'] = np.sin(2 * np.pi * feature_data['hour'] / 24)\n",
    "def get_season(date):\n",
    "    month = date.month\n",
    "    if 3 <= month <= 5:\n",
    "        return 'Spring'\n",
    "    elif 6 <= month <= 8:\n",
    "        return 'Summer'\n",
    "    elif 9 <= month <= 11:\n",
    "        return 'Fall'\n",
    "    else:\n",
    "        return 'Winter'\n",
    "feature_data['season'] = feature_data['date'].apply(get_season)\n",
    "feature_data['next_day'] = date_time + timedelta(days=1)\n",
    "feature_data['prev_day'] = date_time - timedelta(days=1)\n",
    "print(feature_data.shape)\n",
    "feature_data.head()"
   ]
  },
  {
   "cell_type": "code",
   "execution_count": null,
   "metadata": {},
   "outputs": [],
   "source": [
    "feature_data['is_school_hours'] = ((date_time.dt.hour >= 8) & (date_time.dt.hour <= 17)).astype(int)\n",
    "feature_data['is_weekend'] = (feature_data['weekday'].isin([\"Saturday\", \"Sunday\"])).astype(int)\n",
    "feature_data['is_university_lessons'] = (weather_data[\"Date_hour\"].apply(lambda dt:('02-13' <= dt <= '04-01') or ('04-17' <= dt <= '05-20'))).astype(int)\n",
    "feature_data['is_Ghent_event'] = (weather_data[\"Date_hour\"].apply(lambda dt:('07-14' <= dt <= '07-23'))).astype(int)\n",
    "\n",
    "print(feature_data.shape)\n",
    "feature_data.head()"
   ]
  },
  {
   "cell_type": "code",
   "execution_count": null,
   "metadata": {},
   "outputs": [],
   "source": [
    "feature_data['is_public_holiday'] = (date_time.dt.date.isin(belgian_holidays)).astype(int)\n",
    "# feature_data['is_bridge_day'] = (feature_data['weekday'].isin([\"Monday\", \"Friday\"]) & feature_data['next_day'].dt.date.isin(belgian_holidays) | weather_data['prev_day'].dt.date.isin(belgian_holidays)).astype(int)\n",
    "is_school_holiday = [0] * len(date_time)\n",
    "for i, check_date in enumerate(date_time):\n",
    "    for holiday, date_range in school_holidays.items():\n",
    "        start_date = date_range[0]\n",
    "        end_date = date_range[1]\n",
    "        if start_date <= check_date <= end_date:\n",
    "            is_school_holiday[i] = 1\n",
    "feature_data[\"is_school_holiday\"] = is_school_holiday\n",
    "print(feature_data.shape)\n",
    "feature_data.head()"
   ]
  },
  {
   "cell_type": "code",
   "execution_count": null,
   "metadata": {},
   "outputs": [],
   "source": [
    "dummies = pd.concat([pd.get_dummies(feature_data.weekday), pd.get_dummies(feature_data.season)], axis = 1)\n",
    "dummies.head()"
   ]
  },
  {
   "cell_type": "code",
   "execution_count": null,
   "metadata": {},
   "outputs": [],
   "source": [
    "feature_data = pd.concat([feature_data, dummies], axis=1)\n",
    "print(feature_data.shape)\n",
    "feature_data.head()"
   ]
  },
  {
   "cell_type": "code",
   "execution_count": null,
   "metadata": {},
   "outputs": [],
   "source": [
    "all_data = feature_data.merge(bicycle_data, on = \"Date_hour\")\n",
    "train_data = all_data[all_data[\"Date_hour\"] < min(test_rawdata[\"Date_hour\"])]\n",
    "print(train_data.shape)\n",
    "train_data.head()"
   ]
  }
 ],
 "metadata": {
  "language_info": {
   "name": "python"
  }
 },
 "nbformat": 4,
 "nbformat_minor": 2
}
