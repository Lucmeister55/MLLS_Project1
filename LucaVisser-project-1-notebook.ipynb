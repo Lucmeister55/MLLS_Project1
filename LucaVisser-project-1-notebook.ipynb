{
 "cells": [
  {
   "cell_type": "markdown",
   "metadata": {},
   "source": [
    "# Project 1 Notebook"
   ]
  },
  {
   "cell_type": "markdown",
   "metadata": {},
   "source": [
    "## Introduction"
   ]
  },
  {
   "cell_type": "markdown",
   "id": "79fc4903",
   "metadata": {
    "papermill": {
     "duration": 0.003807,
     "end_time": "2023-10-05T13:07:10.410584",
     "exception": false,
     "start_time": "2023-10-05T13:07:10.406777",
     "status": "completed"
    },
    "tags": []
   },
   "source": [
    "This notebook contains all relevant code and annotation associated with completing the project's objective. For access to all data and code used, please refer to my GitHub page (https://github.com/Lucmeister55/MLLS_Project1)."
   ]
  },
  {
   "cell_type": "markdown",
   "metadata": {},
   "source": [
    "## Raw data Import"
   ]
  },
  {
   "cell_type": "markdown",
   "metadata": {},
   "source": [
    "We start by importing all raw datasets available to us."
   ]
  },
  {
   "cell_type": "markdown",
   "metadata": {},
   "source": [
    "### Test Dataset"
   ]
  },
  {
   "cell_type": "markdown",
   "metadata": {},
   "source": [
    "First of all, test set data was downloaded from the kaggle competition page (https://www.kaggle.com/competitions/bicycle-counter-prediction/data) and is read into memory by this chunk. These measurements represent only around 48% of the full test set, and are summed across every hour. Nevertheless, the test set encompasses the whole of the month of July 2023. The reduced test set size, time range and first few rows are listed below the chunk."
   ]
  },
  {
   "cell_type": "code",
   "execution_count": 451,
   "metadata": {},
   "outputs": [
    {
     "name": "stdout",
     "output_type": "stream",
     "text": [
      "(744, 2)\n",
      "2023-07-01T00\n",
      "2023-07-31T23\n"
     ]
    },
    {
     "data": {
      "text/html": [
       "<div>\n",
       "<style scoped>\n",
       "    .dataframe tbody tr th:only-of-type {\n",
       "        vertical-align: middle;\n",
       "    }\n",
       "\n",
       "    .dataframe tbody tr th {\n",
       "        vertical-align: top;\n",
       "    }\n",
       "\n",
       "    .dataframe thead th {\n",
       "        text-align: right;\n",
       "    }\n",
       "</style>\n",
       "<table border=\"1\" class=\"dataframe\">\n",
       "  <thead>\n",
       "    <tr style=\"text-align: right;\">\n",
       "      <th></th>\n",
       "      <th>Id</th>\n",
       "      <th>Date_hour</th>\n",
       "    </tr>\n",
       "  </thead>\n",
       "  <tbody>\n",
       "    <tr>\n",
       "      <th>0</th>\n",
       "      <td>0</td>\n",
       "      <td>2023-07-01T00</td>\n",
       "    </tr>\n",
       "    <tr>\n",
       "      <th>1</th>\n",
       "      <td>1</td>\n",
       "      <td>2023-07-01T01</td>\n",
       "    </tr>\n",
       "    <tr>\n",
       "      <th>2</th>\n",
       "      <td>2</td>\n",
       "      <td>2023-07-01T02</td>\n",
       "    </tr>\n",
       "    <tr>\n",
       "      <th>3</th>\n",
       "      <td>3</td>\n",
       "      <td>2023-07-01T03</td>\n",
       "    </tr>\n",
       "    <tr>\n",
       "      <th>4</th>\n",
       "      <td>4</td>\n",
       "      <td>2023-07-01T04</td>\n",
       "    </tr>\n",
       "  </tbody>\n",
       "</table>\n",
       "</div>"
      ],
      "text/plain": [
       "   Id      Date_hour\n",
       "0   0  2023-07-01T00\n",
       "1   1  2023-07-01T01\n",
       "2   2  2023-07-01T02\n",
       "3   3  2023-07-01T03\n",
       "4   4  2023-07-01T04"
      ]
     },
     "execution_count": 451,
     "metadata": {},
     "output_type": "execute_result"
    }
   ],
   "source": [
    "import pandas as pd\n",
    "import numpy as np\n",
    "import datetime\n",
    "\n",
    "test_rawdata = pd.read_csv(\"input/bicycle-counter-prediction/test_data.csv\")\n",
    "print(test_rawdata.shape)\n",
    "print(min(test_rawdata[\"Date_hour\"]))\n",
    "print(max(test_rawdata[\"Date_hour\"]))\n",
    "test_rawdata.head()"
   ]
  },
  {
   "cell_type": "markdown",
   "metadata": {},
   "source": [
    "### Bycicle measurements"
   ]
  },
  {
   "cell_type": "markdown",
   "metadata": {},
   "source": [
    "Bycicle measurements from several locations were downloaded from the Ghent Open Data Portal (https://data.stad.gent/explore/?disjunctive.keyword&disjunctive.theme&sort=modified) and the most interesting (namely the ones that have stood for longer than 2 years) are subsequently saved by year in the following chunk. Currently, these are expressed as the sum of cyclists passing every five minutes."
   ]
  },
  {
   "cell_type": "code",
   "execution_count": 452,
   "id": "9bd562c1",
   "metadata": {
    "execution": {
     "iopub.execute_input": "2023-10-05T13:07:10.421143Z",
     "iopub.status.busy": "2023-10-05T13:07:10.420739Z",
     "iopub.status.idle": "2023-10-05T13:07:11.322401Z",
     "shell.execute_reply": "2023-10-05T13:07:11.321284Z"
    },
    "papermill": {
     "duration": 0.908964,
     "end_time": "2023-10-05T13:07:11.324928",
     "exception": false,
     "start_time": "2023-10-05T13:07:10.415964",
     "status": "completed"
    },
    "tags": []
   },
   "outputs": [],
   "source": [
    "# read in data\n",
    "coupurelinks_2021 = pd.read_csv(\"input/bicycle-counter-prediction/fietstelpaal-coupure-links-2021-gent.csv\", sep = \";\")\n",
    "coupurelinks_2022 = pd.read_csv(\"input/bicycle-counter-prediction/fietstelpaal-coupure-links-2022-gent.csv\", sep = \";\")\n",
    "coupurelinks_2023 = pd.read_csv(\"input/bicycle-counter-prediction/fietstelpaal-coupure-links-2023-gent.csv\", sep = \";\")\n",
    "\n",
    "groendreef_2021 = pd.read_csv(\"input/bicycle-counter-prediction/fietstelpaal-groendreef-2021-gent.csv\", sep = \";\")\n",
    "groendreef_2022 = pd.read_csv(\"input/bicycle-counter-prediction/fietstelpaal-groendreef-2022-gent.csv\", sep = \";\")\n",
    "groendreef_2023 = pd.read_csv(\"input/bicycle-counter-prediction/fietstelpaal-groendreef-2023-gent.csv\", sep = \";\")\n",
    "\n",
    "zuidparklaan_2021 = pd.read_csv(\"input/bicycle-counter-prediction/fietstelpaal-zuidparklaan-2021-gent.csv\", sep = \";\")\n",
    "zuidparklaan_2022 = pd.read_csv(\"input/bicycle-counter-prediction/fietstelpaal-zuidparklaan-2022-gent.csv\", sep = \";\")\n",
    "zuidparklaan_2023 = pd.read_csv(\"input/bicycle-counter-prediction/fietstelpaal-zuidparklaan-2023-gent.csv\", sep = \";\")\n"
   ]
  },
  {
   "cell_type": "markdown",
   "metadata": {},
   "source": [
    "Next, the measurements separated by year are concatenated into one comprehensive dataframe for each location. Anyone reading this has every right to sue me for bad database management. The time ranges are also printed underneath the chunk."
   ]
  },
  {
   "cell_type": "code",
   "execution_count": 453,
   "id": "ca288cb9",
   "metadata": {},
   "outputs": [
    {
     "name": "stdout",
     "output_type": "stream",
     "text": [
      "CL\n",
      "2021-03-01\n",
      "2023-07-31\n",
      "GD\n",
      "2021-01-01\n",
      "2023-07-31\n",
      "ZPL\n",
      "2021-01-01\n",
      "2023-07-31\n"
     ]
    }
   ],
   "source": [
    "coupurelinks = pd.concat([coupurelinks_2021, coupurelinks_2022, coupurelinks_2023])\n",
    "bicycle_data = coupurelinks.copy()\n",
    "coupurelinks = coupurelinks.rename(columns = {\"Totaal\": \"Totaal_CL\"})\n",
    "print(\"CL\")\n",
    "print(min(coupurelinks[\"Datum\"]))\n",
    "print(max(coupurelinks[\"Datum\"]))\n",
    "\n",
    "groendreef = pd.concat([groendreef_2021, groendreef_2022, groendreef_2023])\n",
    "groendreef = groendreef.rename(columns = {\"Totaal\": \"Totaal_GD\"})\n",
    "print(\"GD\")\n",
    "print(min(groendreef[\"Datum\"]))\n",
    "print(max(groendreef[\"Datum\"]))\n",
    "\n",
    "zuidparklaan = pd.concat([zuidparklaan_2021, zuidparklaan_2022, zuidparklaan_2023])\n",
    "zuidparklaan = zuidparklaan.rename(columns = {\"Totaal\": \"Totaal_ZPL\"})\n",
    "print(\"ZPL\")\n",
    "print(min(zuidparklaan[\"Datum\"]))\n",
    "print(max(zuidparklaan[\"Datum\"]))"
   ]
  },
  {
   "cell_type": "markdown",
   "metadata": {},
   "source": [
    "Unfortunately, it seems that certain count measurements are missing from the bicycle counter dataset downloaded. This is also mentioned in the corresponding browser overview page of the database portal. Preprocessing of this data will thus be in order."
   ]
  },
  {
   "cell_type": "code",
   "execution_count": 454,
   "metadata": {},
   "outputs": [
    {
     "name": "stdout",
     "output_type": "stream",
     "text": [
      "Code               0\n",
      "Locatie             0\n",
      "Datum               0\n",
      "Uur5Minuten         0\n",
      "Ordening            0\n",
      "Totaal           4032\n",
      "Tegenrichting    4032\n",
      "Hoofdrichting    4032\n",
      "dtype: int64\n"
     ]
    }
   ],
   "source": [
    "print(bicycle_data.isna().sum())"
   ]
  },
  {
   "cell_type": "markdown",
   "metadata": {},
   "source": [
    "### Weather"
   ]
  },
  {
   "cell_type": "markdown",
   "metadata": {},
   "source": [
    "Weather features are also likely to be correlated with an individual's likelihood to cycle, making this is an easy addition. This data was abtained from Open Meteo (https://open-meteo.com/en/docs/historical-weather-api#latitude=51.05&longitude=3.7167). Chosen features include the objective and apparent temperature in degrees celcius, precipation in millimeters (rain and snow), cloud cover at all altitudes, and whether a time point is considered day or nighttime. Of the 33576 rows in this dataset, 24 rows contain missing values. Since this fraction is negligible, we instead simply remove these rows entirely rather than imputing them.\n",
    "\n",
    "- **Objective temperature (float)**: Black box ambient temperature, without taking wind, etc. into account.\n",
    "- **Apparent temperature (float)**: Temperature \"felt\" by humans, taking into account all other contributive environmental effects.\n",
    "- **Precipitation (float)**: Excessive rainpour and snow accumulation can make cycling uncomfortable and/or dangerous.\n",
    "- **Cloud cover (float)**: Correlated with rain showers, storms, temperature, and sun radiation, and thus plays a large factor in how pleasant of an experience cycling will be.\n",
    "- **Day boolean (log)**: During daytime compared to nighttime, conditions are generally better to cycle, whilst also incorporating the societal \"active\" hours.\n",
    "\n",
    "It should be mentioned that weather effects alone will most likely not suffice to accurately predict the number of cyclists for a given period of time. We will illustrate this by using the temperature feature as an example. Generally, the colder it is, the less inclined an individual might be to cycle. However, this is not a linear or independent relationship, since warm temperatures are more common during summertime, even though cyclists are less active during these months due to the holiday season being in effect (since students and the working class make up the largest fraction of said cyclists). Additional features will be necessary to capture these seasonal dependencies."
   ]
  },
  {
   "cell_type": "code",
   "execution_count": 455,
   "metadata": {},
   "outputs": [
    {
     "name": "stdout",
     "output_type": "stream",
     "text": [
      "(33576, 9)\n"
     ]
    },
    {
     "data": {
      "text/html": [
       "<div>\n",
       "<style scoped>\n",
       "    .dataframe tbody tr th:only-of-type {\n",
       "        vertical-align: middle;\n",
       "    }\n",
       "\n",
       "    .dataframe tbody tr th {\n",
       "        vertical-align: top;\n",
       "    }\n",
       "\n",
       "    .dataframe thead th {\n",
       "        text-align: right;\n",
       "    }\n",
       "</style>\n",
       "<table border=\"1\" class=\"dataframe\">\n",
       "  <thead>\n",
       "    <tr style=\"text-align: right;\">\n",
       "      <th></th>\n",
       "      <th>time</th>\n",
       "      <th>temperature_2m (°C)</th>\n",
       "      <th>apparent_temperature (°C)</th>\n",
       "      <th>precipitation (mm)</th>\n",
       "      <th>cloud_cover (%)</th>\n",
       "      <th>cloud_cover_low (%)</th>\n",
       "      <th>cloud_cover_mid (%)</th>\n",
       "      <th>cloud_cover_high (%)</th>\n",
       "      <th>is_day ()</th>\n",
       "    </tr>\n",
       "  </thead>\n",
       "  <tbody>\n",
       "    <tr>\n",
       "      <th>0</th>\n",
       "      <td>2020-01-01T00:00</td>\n",
       "      <td>3.3</td>\n",
       "      <td>-0.1</td>\n",
       "      <td>0.0</td>\n",
       "      <td>44.0</td>\n",
       "      <td>49.0</td>\n",
       "      <td>0.0</td>\n",
       "      <td>0.0</td>\n",
       "      <td>0</td>\n",
       "    </tr>\n",
       "    <tr>\n",
       "      <th>1</th>\n",
       "      <td>2020-01-01T01:00</td>\n",
       "      <td>2.8</td>\n",
       "      <td>-0.6</td>\n",
       "      <td>0.0</td>\n",
       "      <td>17.0</td>\n",
       "      <td>19.0</td>\n",
       "      <td>0.0</td>\n",
       "      <td>0.0</td>\n",
       "      <td>0</td>\n",
       "    </tr>\n",
       "    <tr>\n",
       "      <th>2</th>\n",
       "      <td>2020-01-01T02:00</td>\n",
       "      <td>2.5</td>\n",
       "      <td>-1.0</td>\n",
       "      <td>0.0</td>\n",
       "      <td>10.0</td>\n",
       "      <td>11.0</td>\n",
       "      <td>0.0</td>\n",
       "      <td>0.0</td>\n",
       "      <td>0</td>\n",
       "    </tr>\n",
       "    <tr>\n",
       "      <th>3</th>\n",
       "      <td>2020-01-01T03:00</td>\n",
       "      <td>1.9</td>\n",
       "      <td>-1.6</td>\n",
       "      <td>0.0</td>\n",
       "      <td>3.0</td>\n",
       "      <td>3.0</td>\n",
       "      <td>0.0</td>\n",
       "      <td>0.0</td>\n",
       "      <td>0</td>\n",
       "    </tr>\n",
       "    <tr>\n",
       "      <th>4</th>\n",
       "      <td>2020-01-01T04:00</td>\n",
       "      <td>1.4</td>\n",
       "      <td>-2.2</td>\n",
       "      <td>0.0</td>\n",
       "      <td>0.0</td>\n",
       "      <td>0.0</td>\n",
       "      <td>0.0</td>\n",
       "      <td>0.0</td>\n",
       "      <td>0</td>\n",
       "    </tr>\n",
       "  </tbody>\n",
       "</table>\n",
       "</div>"
      ],
      "text/plain": [
       "               time  temperature_2m (°C)  apparent_temperature (°C)  \\\n",
       "0  2020-01-01T00:00                  3.3                       -0.1   \n",
       "1  2020-01-01T01:00                  2.8                       -0.6   \n",
       "2  2020-01-01T02:00                  2.5                       -1.0   \n",
       "3  2020-01-01T03:00                  1.9                       -1.6   \n",
       "4  2020-01-01T04:00                  1.4                       -2.2   \n",
       "\n",
       "   precipitation (mm)  cloud_cover (%)  cloud_cover_low (%)  \\\n",
       "0                 0.0             44.0                 49.0   \n",
       "1                 0.0             17.0                 19.0   \n",
       "2                 0.0             10.0                 11.0   \n",
       "3                 0.0              3.0                  3.0   \n",
       "4                 0.0              0.0                  0.0   \n",
       "\n",
       "   cloud_cover_mid (%)  cloud_cover_high (%)  is_day ()  \n",
       "0                  0.0                   0.0          0  \n",
       "1                  0.0                   0.0          0  \n",
       "2                  0.0                   0.0          0  \n",
       "3                  0.0                   0.0          0  \n",
       "4                  0.0                   0.0          0  "
      ]
     },
     "execution_count": 455,
     "metadata": {},
     "output_type": "execute_result"
    }
   ],
   "source": [
    "# read in data\n",
    "weather_rawdata = pd.read_csv(\"input/bicycle-counter-prediction/open-meteo-51.07N3.71E13m.csv\", skiprows=2).dropna()\n",
    "print(weather_rawdata.shape)\n",
    "weather_rawdata.head()"
   ]
  },
  {
   "cell_type": "markdown",
   "metadata": {},
   "source": [
    "### School Holidays"
   ]
  },
  {
   "cell_type": "markdown",
   "metadata": {},
   "source": [
    "It is reasonable to assume that the school holidays of the lower academic institutes (primary and secondary school) will have an impact on the activity of cyclists in the region. After all, there is a school just across the river from the bike counter in question (Coupure Links). During the holidays, less students and potentially their parents will cycle past this location."
   ]
  },
  {
   "cell_type": "code",
   "execution_count": 456,
   "metadata": {},
   "outputs": [
    {
     "name": "stdout",
     "output_type": "stream",
     "text": [
      "{'Christmas holiday 2020': [datetime.datetime(2020, 12, 21, 0, 0), datetime.datetime(2021, 1, 3, 0, 0)], 'Spring break 2021': [datetime.datetime(2021, 2, 15, 0, 0), datetime.datetime(2021, 2, 21, 0, 0)], 'Easter holiday 2021': [datetime.datetime(2021, 4, 5, 0, 0), datetime.datetime(2021, 4, 18, 0, 0)], 'Summer holiday 2021': [datetime.datetime(2021, 7, 1, 0, 0), datetime.datetime(2021, 8, 31, 0, 0)], 'Autumn break 2021': [datetime.datetime(2021, 11, 1, 0, 0), datetime.datetime(2021, 11, 7, 0, 0)], 'Christmas holiday 2021': [datetime.datetime(2021, 12, 27, 0, 0), datetime.datetime(2022, 1, 9, 0, 0)], 'Spring break 2022': [datetime.datetime(2022, 2, 28, 0, 0), datetime.datetime(2022, 3, 6, 0, 0)], 'Easter holiday 2022': [datetime.datetime(2022, 4, 4, 0, 0), datetime.datetime(2022, 4, 18, 0, 0)], 'Summer holiday 2022': [datetime.datetime(2022, 7, 1, 0, 0), datetime.datetime(2022, 8, 31, 0, 0)], 'Autumn break 2022': [datetime.datetime(2022, 10, 31, 0, 0), datetime.datetime(2022, 11, 6, 0, 0)], 'Christmas holiday 2022': [datetime.datetime(2022, 12, 26, 0, 0), datetime.datetime(2023, 1, 8, 0, 0)], 'Spring break 2023': [datetime.datetime(2023, 2, 20, 0, 0), datetime.datetime(2023, 2, 26, 0, 0)], 'Easter holiday 2023': [datetime.datetime(2023, 4, 3, 0, 0), datetime.datetime(2023, 4, 16, 0, 0)], 'Summer holiday 2023': [datetime.datetime(2023, 7, 1, 0, 0), datetime.datetime(2023, 8, 31, 0, 0)], 'Autumn break 2023': [datetime.datetime(2023, 10, 30, 0, 0), datetime.datetime(2023, 11, 5, 0, 0)], 'Christmas holiday 2023': [datetime.datetime(2023, 12, 25, 0, 0), datetime.datetime(2024, 1, 7, 0, 0)]}\n"
     ]
    }
   ],
   "source": [
    "school_holidays_data = pd.read_csv(\"input/bicycle-counter-prediction/school_holidays.csv\", sep = \";\")\n",
    "\n",
    "import datetime\n",
    "school_holidays = {}\n",
    "for index, row in school_holidays_data.iterrows():\n",
    "    school_holidays[row['name']] = [datetime.datetime.strptime(row['start'], '%Y-%m-%d'), datetime.datetime.strptime(row['end'], '%Y-%m-%d')]\n",
    "print(school_holidays)"
   ]
  },
  {
   "cell_type": "markdown",
   "metadata": {},
   "source": [
    "### Public holidays"
   ]
  },
  {
   "cell_type": "markdown",
   "metadata": {},
   "source": [
    "Plenty of people cycle to their work. During public holidays, their contribution to the counter will surely decrease."
   ]
  },
  {
   "cell_type": "code",
   "execution_count": 457,
   "metadata": {},
   "outputs": [
    {
     "name": "stdout",
     "output_type": "stream",
     "text": [
      "{datetime.date(2021, 1, 1): 'Nieuwjaar', datetime.date(2021, 4, 4): 'Pasen', datetime.date(2021, 4, 5): 'Paasmaandag', datetime.date(2021, 5, 1): 'Dag van de Arbeid', datetime.date(2021, 5, 13): 'O. L. H. Hemelvaart', datetime.date(2021, 5, 23): 'Pinksteren', datetime.date(2021, 5, 24): 'Pinkstermaandag', datetime.date(2021, 7, 21): 'Nationale feestdag', datetime.date(2021, 8, 15): 'O. L. V. Hemelvaart', datetime.date(2021, 11, 1): 'Allerheiligen', datetime.date(2021, 11, 11): 'Wapenstilstand', datetime.date(2021, 12, 25): 'Kerstmis', datetime.date(2022, 1, 1): 'Nieuwjaar', datetime.date(2022, 4, 17): 'Pasen', datetime.date(2022, 4, 18): 'Paasmaandag', datetime.date(2022, 5, 1): 'Dag van de Arbeid', datetime.date(2022, 5, 26): 'O. L. H. Hemelvaart', datetime.date(2022, 6, 5): 'Pinksteren', datetime.date(2022, 6, 6): 'Pinkstermaandag', datetime.date(2022, 7, 21): 'Nationale feestdag', datetime.date(2022, 8, 15): 'O. L. V. Hemelvaart', datetime.date(2022, 11, 1): 'Allerheiligen', datetime.date(2022, 11, 11): 'Wapenstilstand', datetime.date(2022, 12, 25): 'Kerstmis', datetime.date(2023, 1, 1): 'Nieuwjaar', datetime.date(2023, 4, 9): 'Pasen', datetime.date(2023, 4, 10): 'Paasmaandag', datetime.date(2023, 5, 1): 'Dag van de Arbeid', datetime.date(2023, 5, 18): 'O. L. H. Hemelvaart', datetime.date(2023, 5, 28): 'Pinksteren', datetime.date(2023, 5, 29): 'Pinkstermaandag', datetime.date(2023, 7, 21): 'Nationale feestdag', datetime.date(2023, 8, 15): 'O. L. V. Hemelvaart', datetime.date(2023, 11, 1): 'Allerheiligen', datetime.date(2023, 11, 11): 'Wapenstilstand', datetime.date(2023, 12, 25): 'Kerstmis'}\n"
     ]
    }
   ],
   "source": [
    "import holidays\n",
    "belgian_holidays = holidays.Belgium(years=[2021, 2022, 2023])\n",
    "print(belgian_holidays)"
   ]
  },
  {
   "cell_type": "markdown",
   "metadata": {},
   "source": [
    "## Mundane data preprocessing"
   ]
  },
  {
   "cell_type": "markdown",
   "metadata": {},
   "source": [
    "### Bicycle measurements"
   ]
  },
  {
   "cell_type": "markdown",
   "metadata": {},
   "source": [
    "To solve the problem of missing count values, these entries will be imputed using a simple imputer, which replaces missing values using a descriptive statistic along each column (in this case, the mean of that column). Furthermore, the measurements are transformed to instead be summed across every hour to be in line with the test set."
   ]
  },
  {
   "cell_type": "code",
   "execution_count": 458,
   "id": "90dd7d54",
   "metadata": {},
   "outputs": [
    {
     "name": "stdout",
     "output_type": "stream",
     "text": [
      "(21189, 3)\n",
      "2021-03-01T00\n",
      "2023-07-31T23\n"
     ]
    },
    {
     "data": {
      "text/html": [
       "<div>\n",
       "<style scoped>\n",
       "    .dataframe tbody tr th:only-of-type {\n",
       "        vertical-align: middle;\n",
       "    }\n",
       "\n",
       "    .dataframe tbody tr th {\n",
       "        vertical-align: top;\n",
       "    }\n",
       "\n",
       "    .dataframe thead th {\n",
       "        text-align: right;\n",
       "    }\n",
       "</style>\n",
       "<table border=\"1\" class=\"dataframe\">\n",
       "  <thead>\n",
       "    <tr style=\"text-align: right;\">\n",
       "      <th></th>\n",
       "      <th>Datum</th>\n",
       "      <th>Date_hour</th>\n",
       "      <th>Totaal</th>\n",
       "    </tr>\n",
       "  </thead>\n",
       "  <tbody>\n",
       "    <tr>\n",
       "      <th>0</th>\n",
       "      <td>2021-03-01</td>\n",
       "      <td>2021-03-01T00</td>\n",
       "      <td>5</td>\n",
       "    </tr>\n",
       "    <tr>\n",
       "      <th>1</th>\n",
       "      <td>2021-03-01</td>\n",
       "      <td>2021-03-01T01</td>\n",
       "      <td>1</td>\n",
       "    </tr>\n",
       "    <tr>\n",
       "      <th>2</th>\n",
       "      <td>2021-03-01</td>\n",
       "      <td>2021-03-01T02</td>\n",
       "      <td>0</td>\n",
       "    </tr>\n",
       "    <tr>\n",
       "      <th>3</th>\n",
       "      <td>2021-03-01</td>\n",
       "      <td>2021-03-01T03</td>\n",
       "      <td>2</td>\n",
       "    </tr>\n",
       "    <tr>\n",
       "      <th>4</th>\n",
       "      <td>2021-03-01</td>\n",
       "      <td>2021-03-01T04</td>\n",
       "      <td>21</td>\n",
       "    </tr>\n",
       "  </tbody>\n",
       "</table>\n",
       "</div>"
      ],
      "text/plain": [
       "        Datum      Date_hour  Totaal\n",
       "0  2021-03-01  2021-03-01T00       5\n",
       "1  2021-03-01  2021-03-01T01       1\n",
       "2  2021-03-01  2021-03-01T02       0\n",
       "3  2021-03-01  2021-03-01T03       2\n",
       "4  2021-03-01  2021-03-01T04      21"
      ]
     },
     "execution_count": 458,
     "metadata": {},
     "output_type": "execute_result"
    }
   ],
   "source": [
    "from sklearn.experimental import enable_iterative_imputer\n",
    "from sklearn.impute import SimpleImputer, IterativeImputer, KNNImputer\n",
    "\n",
    "bicycle_data[\"Date_hour\"] = bicycle_data['Ordening'].str.extract(r'^(.*?T\\d{2})..')\n",
    "\n",
    "imputer = SimpleImputer()\n",
    "bicycle_imputed = imputer.fit_transform(bicycle_data.filter(regex='^Totaal', axis=1))\n",
    "bicycle_data[bicycle_data.filter(regex='^Totaal', axis=1).columns] = bicycle_imputed.round().astype(int)\n",
    "\n",
    "bicycle_data = bicycle_data.groupby(['Datum', 'Date_hour']).agg({'Totaal': 'sum'}).reset_index()\n",
    "print(bicycle_data.shape)\n",
    "print(min(bicycle_data[\"Date_hour\"]))\n",
    "print(max(bicycle_data[\"Date_hour\"]))\n",
    "\n",
    "bicycle_data.head()"
   ]
  },
  {
   "cell_type": "markdown",
   "metadata": {},
   "source": [
    "As we can see, there are no longer any missing values present in the dataset after imputation."
   ]
  },
  {
   "cell_type": "code",
   "execution_count": 459,
   "metadata": {},
   "outputs": [
    {
     "name": "stdout",
     "output_type": "stream",
     "text": [
      "Datum        0\n",
      "Date_hour    0\n",
      "Totaal       0\n",
      "dtype: int64\n"
     ]
    }
   ],
   "source": [
    "print(bicycle_data.isna().sum())"
   ]
  },
  {
   "cell_type": "markdown",
   "metadata": {},
   "source": [
    "To deal with auto-correlation, we will add a transformed Coupure Links response (\"Totaal\") column as a feature, lagged by one year with respect to the time point indexation. Once again, imputation of missing values will have to be performed, both on the raw Coupure Links dataset, as well as the lagged variables after addition (since there is no lagged data for e.g., 2020). Note that this is a common approach when dealing with a time-series problem, which is not strictly necessary in this case but still improves performance of our model in testing."
   ]
  },
  {
   "cell_type": "code",
   "execution_count": 460,
   "metadata": {},
   "outputs": [
    {
     "data": {
      "text/html": [
       "<div>\n",
       "<style scoped>\n",
       "    .dataframe tbody tr th:only-of-type {\n",
       "        vertical-align: middle;\n",
       "    }\n",
       "\n",
       "    .dataframe tbody tr th {\n",
       "        vertical-align: top;\n",
       "    }\n",
       "\n",
       "    .dataframe thead th {\n",
       "        text-align: right;\n",
       "    }\n",
       "</style>\n",
       "<table border=\"1\" class=\"dataframe\">\n",
       "  <thead>\n",
       "    <tr style=\"text-align: right;\">\n",
       "      <th></th>\n",
       "      <th>Datum</th>\n",
       "      <th>Date_hour</th>\n",
       "      <th>Totaal_CL</th>\n",
       "      <th>LaggedTotaal_CL_year</th>\n",
       "    </tr>\n",
       "  </thead>\n",
       "  <tbody>\n",
       "    <tr>\n",
       "      <th>0</th>\n",
       "      <td>2021-03-01</td>\n",
       "      <td>2021-03-01T00</td>\n",
       "      <td>5</td>\n",
       "      <td>NaN</td>\n",
       "    </tr>\n",
       "    <tr>\n",
       "      <th>1</th>\n",
       "      <td>2021-03-01</td>\n",
       "      <td>2021-03-01T01</td>\n",
       "      <td>1</td>\n",
       "      <td>NaN</td>\n",
       "    </tr>\n",
       "    <tr>\n",
       "      <th>2</th>\n",
       "      <td>2021-03-01</td>\n",
       "      <td>2021-03-01T02</td>\n",
       "      <td>0</td>\n",
       "      <td>NaN</td>\n",
       "    </tr>\n",
       "    <tr>\n",
       "      <th>3</th>\n",
       "      <td>2021-03-01</td>\n",
       "      <td>2021-03-01T03</td>\n",
       "      <td>2</td>\n",
       "      <td>NaN</td>\n",
       "    </tr>\n",
       "    <tr>\n",
       "      <th>4</th>\n",
       "      <td>2021-03-01</td>\n",
       "      <td>2021-03-01T04</td>\n",
       "      <td>21</td>\n",
       "      <td>NaN</td>\n",
       "    </tr>\n",
       "  </tbody>\n",
       "</table>\n",
       "</div>"
      ],
      "text/plain": [
       "        Datum      Date_hour  Totaal_CL  LaggedTotaal_CL_year\n",
       "0  2021-03-01  2021-03-01T00          5                   NaN\n",
       "1  2021-03-01  2021-03-01T01          1                   NaN\n",
       "2  2021-03-01  2021-03-01T02          0                   NaN\n",
       "3  2021-03-01  2021-03-01T03          2                   NaN\n",
       "4  2021-03-01  2021-03-01T04         21                   NaN"
      ]
     },
     "execution_count": 460,
     "metadata": {},
     "output_type": "execute_result"
    }
   ],
   "source": [
    "coupurelinks[\"Date_hour\"] = coupurelinks['Ordening'].str.extract(r'^(.*?T\\d{2})..')\n",
    "\n",
    "coupurelinks_imputed = imputer.fit_transform(coupurelinks.filter(regex='^Totaal', axis=1))\n",
    "coupurelinks[coupurelinks.filter(regex='^Totaal', axis=1).columns] = coupurelinks_imputed.round().astype(int)\n",
    "\n",
    "coupurelinks = coupurelinks.groupby(['Datum', 'Date_hour']).agg({'Totaal_CL': \"sum\"}).reset_index()\n",
    "coupurelinks = coupurelinks.set_index(pd.DatetimeIndex(coupurelinks['Date_hour']))\n",
    "\n",
    "coupurelinks['LaggedTotaal_CL_year'] = coupurelinks['Totaal_CL'].shift(freq=pd.DateOffset(years=1))\n",
    "coupurelinks = coupurelinks.reset_index(drop = True)\n",
    "coupurelinks.head()"
   ]
  },
  {
   "cell_type": "markdown",
   "metadata": {},
   "source": [
    "Now we'll do the exact same for our other bike counters:"
   ]
  },
  {
   "cell_type": "code",
   "execution_count": 461,
   "metadata": {},
   "outputs": [
    {
     "data": {
      "text/html": [
       "<div>\n",
       "<style scoped>\n",
       "    .dataframe tbody tr th:only-of-type {\n",
       "        vertical-align: middle;\n",
       "    }\n",
       "\n",
       "    .dataframe tbody tr th {\n",
       "        vertical-align: top;\n",
       "    }\n",
       "\n",
       "    .dataframe thead th {\n",
       "        text-align: right;\n",
       "    }\n",
       "</style>\n",
       "<table border=\"1\" class=\"dataframe\">\n",
       "  <thead>\n",
       "    <tr style=\"text-align: right;\">\n",
       "      <th></th>\n",
       "      <th>Datum</th>\n",
       "      <th>Date_hour</th>\n",
       "      <th>Totaal_GD</th>\n",
       "      <th>LaggedTotaal_GD_year</th>\n",
       "    </tr>\n",
       "  </thead>\n",
       "  <tbody>\n",
       "    <tr>\n",
       "      <th>0</th>\n",
       "      <td>2021-01-01</td>\n",
       "      <td>2021-01-01T00</td>\n",
       "      <td>5</td>\n",
       "      <td>NaN</td>\n",
       "    </tr>\n",
       "    <tr>\n",
       "      <th>1</th>\n",
       "      <td>2021-01-01</td>\n",
       "      <td>2021-01-01T01</td>\n",
       "      <td>0</td>\n",
       "      <td>NaN</td>\n",
       "    </tr>\n",
       "    <tr>\n",
       "      <th>2</th>\n",
       "      <td>2021-01-01</td>\n",
       "      <td>2021-01-01T02</td>\n",
       "      <td>1</td>\n",
       "      <td>NaN</td>\n",
       "    </tr>\n",
       "    <tr>\n",
       "      <th>3</th>\n",
       "      <td>2021-01-01</td>\n",
       "      <td>2021-01-01T03</td>\n",
       "      <td>0</td>\n",
       "      <td>NaN</td>\n",
       "    </tr>\n",
       "    <tr>\n",
       "      <th>4</th>\n",
       "      <td>2021-01-01</td>\n",
       "      <td>2021-01-01T04</td>\n",
       "      <td>2</td>\n",
       "      <td>NaN</td>\n",
       "    </tr>\n",
       "  </tbody>\n",
       "</table>\n",
       "</div>"
      ],
      "text/plain": [
       "        Datum      Date_hour  Totaal_GD  LaggedTotaal_GD_year\n",
       "0  2021-01-01  2021-01-01T00          5                   NaN\n",
       "1  2021-01-01  2021-01-01T01          0                   NaN\n",
       "2  2021-01-01  2021-01-01T02          1                   NaN\n",
       "3  2021-01-01  2021-01-01T03          0                   NaN\n",
       "4  2021-01-01  2021-01-01T04          2                   NaN"
      ]
     },
     "execution_count": 461,
     "metadata": {},
     "output_type": "execute_result"
    }
   ],
   "source": [
    "# Groendreef\n",
    "\n",
    "groendreef[\"Date_hour\"] = groendreef['Ordening'].str.extract(r'^(.*?T\\d{2})..')\n",
    "\n",
    "groendreef_imputed = imputer.fit_transform(groendreef.filter(regex='^Totaal', axis=1))\n",
    "groendreef[groendreef.filter(regex='^Totaal', axis=1).columns] = groendreef_imputed.round().astype(int)\n",
    "\n",
    "groendreef = groendreef.groupby(['Datum', 'Date_hour']).agg({'Totaal_GD': \"sum\"}).reset_index()\n",
    "groendreef = groendreef.set_index(pd.DatetimeIndex(groendreef['Date_hour']))\n",
    "\n",
    "groendreef['LaggedTotaal_GD_year'] = groendreef['Totaal_GD'].shift(freq=pd.DateOffset(years=1))\n",
    "groendreef = groendreef.reset_index(drop = True)\n",
    "groendreef.head()"
   ]
  },
  {
   "cell_type": "code",
   "execution_count": 462,
   "metadata": {},
   "outputs": [
    {
     "data": {
      "text/html": [
       "<div>\n",
       "<style scoped>\n",
       "    .dataframe tbody tr th:only-of-type {\n",
       "        vertical-align: middle;\n",
       "    }\n",
       "\n",
       "    .dataframe tbody tr th {\n",
       "        vertical-align: top;\n",
       "    }\n",
       "\n",
       "    .dataframe thead th {\n",
       "        text-align: right;\n",
       "    }\n",
       "</style>\n",
       "<table border=\"1\" class=\"dataframe\">\n",
       "  <thead>\n",
       "    <tr style=\"text-align: right;\">\n",
       "      <th></th>\n",
       "      <th>Datum</th>\n",
       "      <th>Date_hour</th>\n",
       "      <th>Totaal_ZPL</th>\n",
       "      <th>LaggedTotaal_ZPL_year</th>\n",
       "    </tr>\n",
       "  </thead>\n",
       "  <tbody>\n",
       "    <tr>\n",
       "      <th>0</th>\n",
       "      <td>2021-01-01</td>\n",
       "      <td>2021-01-01T00</td>\n",
       "      <td>4</td>\n",
       "      <td>NaN</td>\n",
       "    </tr>\n",
       "    <tr>\n",
       "      <th>1</th>\n",
       "      <td>2021-01-01</td>\n",
       "      <td>2021-01-01T01</td>\n",
       "      <td>3</td>\n",
       "      <td>NaN</td>\n",
       "    </tr>\n",
       "    <tr>\n",
       "      <th>2</th>\n",
       "      <td>2021-01-01</td>\n",
       "      <td>2021-01-01T02</td>\n",
       "      <td>1</td>\n",
       "      <td>NaN</td>\n",
       "    </tr>\n",
       "    <tr>\n",
       "      <th>3</th>\n",
       "      <td>2021-01-01</td>\n",
       "      <td>2021-01-01T03</td>\n",
       "      <td>0</td>\n",
       "      <td>NaN</td>\n",
       "    </tr>\n",
       "    <tr>\n",
       "      <th>4</th>\n",
       "      <td>2021-01-01</td>\n",
       "      <td>2021-01-01T04</td>\n",
       "      <td>0</td>\n",
       "      <td>NaN</td>\n",
       "    </tr>\n",
       "  </tbody>\n",
       "</table>\n",
       "</div>"
      ],
      "text/plain": [
       "        Datum      Date_hour  Totaal_ZPL  LaggedTotaal_ZPL_year\n",
       "0  2021-01-01  2021-01-01T00           4                    NaN\n",
       "1  2021-01-01  2021-01-01T01           3                    NaN\n",
       "2  2021-01-01  2021-01-01T02           1                    NaN\n",
       "3  2021-01-01  2021-01-01T03           0                    NaN\n",
       "4  2021-01-01  2021-01-01T04           0                    NaN"
      ]
     },
     "execution_count": 462,
     "metadata": {},
     "output_type": "execute_result"
    }
   ],
   "source": [
    "# Zuidparklaan\n",
    "\n",
    "zuidparklaan[\"Date_hour\"] = zuidparklaan['Ordening'].str.extract(r'^(.*?T\\d{2})..')\n",
    "\n",
    "zuidparklaan_imputed = imputer.fit_transform(zuidparklaan.filter(regex='^Totaal', axis=1))\n",
    "zuidparklaan[zuidparklaan.filter(regex='^Totaal', axis=1).columns] = zuidparklaan_imputed.round().astype(int)\n",
    "\n",
    "zuidparklaan = zuidparklaan.groupby(['Datum', 'Date_hour']).agg({'Totaal_ZPL': \"sum\"}).reset_index()\n",
    "zuidparklaan = zuidparklaan.set_index(pd.DatetimeIndex(zuidparklaan['Date_hour']))\n",
    "\n",
    "zuidparklaan['LaggedTotaal_ZPL_year'] = zuidparklaan['Totaal_ZPL'].shift(freq=pd.DateOffset(years=1))\n",
    "zuidparklaan = zuidparklaan.reset_index(drop = True)\n",
    "zuidparklaan.head()"
   ]
  },
  {
   "cell_type": "code",
   "execution_count": 463,
   "metadata": {},
   "outputs": [
    {
     "name": "stdout",
     "output_type": "stream",
     "text": [
      "Datum                       0\n",
      "Date_hour                   0\n",
      "Totaal                      0\n",
      "LaggedTotaal_CL_year     8761\n",
      "LaggedTotaal_GD_year     7345\n",
      "LaggedTotaal_ZPL_year    7345\n",
      "dtype: int64\n"
     ]
    },
    {
     "data": {
      "text/html": [
       "<div>\n",
       "<style scoped>\n",
       "    .dataframe tbody tr th:only-of-type {\n",
       "        vertical-align: middle;\n",
       "    }\n",
       "\n",
       "    .dataframe tbody tr th {\n",
       "        vertical-align: top;\n",
       "    }\n",
       "\n",
       "    .dataframe thead th {\n",
       "        text-align: right;\n",
       "    }\n",
       "</style>\n",
       "<table border=\"1\" class=\"dataframe\">\n",
       "  <thead>\n",
       "    <tr style=\"text-align: right;\">\n",
       "      <th></th>\n",
       "      <th>Datum</th>\n",
       "      <th>Date_hour</th>\n",
       "      <th>Totaal</th>\n",
       "      <th>LaggedTotaal_CL_year</th>\n",
       "      <th>LaggedTotaal_GD_year</th>\n",
       "      <th>LaggedTotaal_ZPL_year</th>\n",
       "    </tr>\n",
       "  </thead>\n",
       "  <tbody>\n",
       "    <tr>\n",
       "      <th>0</th>\n",
       "      <td>2021-03-01</td>\n",
       "      <td>2021-03-01T00</td>\n",
       "      <td>5</td>\n",
       "      <td>NaN</td>\n",
       "      <td>NaN</td>\n",
       "      <td>NaN</td>\n",
       "    </tr>\n",
       "    <tr>\n",
       "      <th>1</th>\n",
       "      <td>2021-03-01</td>\n",
       "      <td>2021-03-01T01</td>\n",
       "      <td>1</td>\n",
       "      <td>NaN</td>\n",
       "      <td>NaN</td>\n",
       "      <td>NaN</td>\n",
       "    </tr>\n",
       "    <tr>\n",
       "      <th>2</th>\n",
       "      <td>2021-03-01</td>\n",
       "      <td>2021-03-01T02</td>\n",
       "      <td>0</td>\n",
       "      <td>NaN</td>\n",
       "      <td>NaN</td>\n",
       "      <td>NaN</td>\n",
       "    </tr>\n",
       "    <tr>\n",
       "      <th>3</th>\n",
       "      <td>2021-03-01</td>\n",
       "      <td>2021-03-01T03</td>\n",
       "      <td>2</td>\n",
       "      <td>NaN</td>\n",
       "      <td>NaN</td>\n",
       "      <td>NaN</td>\n",
       "    </tr>\n",
       "    <tr>\n",
       "      <th>4</th>\n",
       "      <td>2021-03-01</td>\n",
       "      <td>2021-03-01T04</td>\n",
       "      <td>21</td>\n",
       "      <td>NaN</td>\n",
       "      <td>NaN</td>\n",
       "      <td>NaN</td>\n",
       "    </tr>\n",
       "  </tbody>\n",
       "</table>\n",
       "</div>"
      ],
      "text/plain": [
       "        Datum      Date_hour  Totaal  LaggedTotaal_CL_year  \\\n",
       "0  2021-03-01  2021-03-01T00       5                   NaN   \n",
       "1  2021-03-01  2021-03-01T01       1                   NaN   \n",
       "2  2021-03-01  2021-03-01T02       0                   NaN   \n",
       "3  2021-03-01  2021-03-01T03       2                   NaN   \n",
       "4  2021-03-01  2021-03-01T04      21                   NaN   \n",
       "\n",
       "   LaggedTotaal_GD_year  LaggedTotaal_ZPL_year  \n",
       "0                   NaN                    NaN  \n",
       "1                   NaN                    NaN  \n",
       "2                   NaN                    NaN  \n",
       "3                   NaN                    NaN  \n",
       "4                   NaN                    NaN  "
      ]
     },
     "execution_count": 463,
     "metadata": {},
     "output_type": "execute_result"
    }
   ],
   "source": [
    "bicycle_data = bicycle_data.merge(coupurelinks.loc[:, [\"Date_hour\", 'LaggedTotaal_CL_year']], how = \"inner\", on = \"Date_hour\")\n",
    "bicycle_data = bicycle_data.merge(groendreef.loc[:, [\"Date_hour\", 'LaggedTotaal_GD_year']], how = \"inner\", on = \"Date_hour\")\n",
    "bicycle_data = bicycle_data.merge(zuidparklaan.loc[:, [\"Date_hour\", 'LaggedTotaal_ZPL_year']], how = \"inner\", on = \"Date_hour\")\n",
    "print(bicycle_data.isna().sum())\n",
    "bicycle_data.head()"
   ]
  },
  {
   "cell_type": "markdown",
   "metadata": {},
   "source": [
    "Many lagged missing values were generated by this fusion, namely for all months between March 2020 and 2021. The solution would be to reduce the number of rows to be exactly in frame with the lag features, which is exactly what we will eventually do. For now, we will impute these values, in case some of the missing values lie within the usable range."
   ]
  },
  {
   "cell_type": "code",
   "execution_count": 464,
   "metadata": {},
   "outputs": [
    {
     "data": {
      "text/html": [
       "<div>\n",
       "<style scoped>\n",
       "    .dataframe tbody tr th:only-of-type {\n",
       "        vertical-align: middle;\n",
       "    }\n",
       "\n",
       "    .dataframe tbody tr th {\n",
       "        vertical-align: top;\n",
       "    }\n",
       "\n",
       "    .dataframe thead th {\n",
       "        text-align: right;\n",
       "    }\n",
       "</style>\n",
       "<table border=\"1\" class=\"dataframe\">\n",
       "  <thead>\n",
       "    <tr style=\"text-align: right;\">\n",
       "      <th></th>\n",
       "      <th>Datum</th>\n",
       "      <th>Date_hour</th>\n",
       "      <th>Totaal</th>\n",
       "      <th>LaggedTotaal_CL_year</th>\n",
       "      <th>LaggedTotaal_GD_year</th>\n",
       "      <th>LaggedTotaal_ZPL_year</th>\n",
       "    </tr>\n",
       "  </thead>\n",
       "  <tbody>\n",
       "    <tr>\n",
       "      <th>0</th>\n",
       "      <td>2021-03-01</td>\n",
       "      <td>2021-03-01T00</td>\n",
       "      <td>5</td>\n",
       "      <td>274</td>\n",
       "      <td>179</td>\n",
       "      <td>82</td>\n",
       "    </tr>\n",
       "    <tr>\n",
       "      <th>1</th>\n",
       "      <td>2021-03-01</td>\n",
       "      <td>2021-03-01T01</td>\n",
       "      <td>1</td>\n",
       "      <td>274</td>\n",
       "      <td>179</td>\n",
       "      <td>82</td>\n",
       "    </tr>\n",
       "    <tr>\n",
       "      <th>2</th>\n",
       "      <td>2021-03-01</td>\n",
       "      <td>2021-03-01T02</td>\n",
       "      <td>0</td>\n",
       "      <td>274</td>\n",
       "      <td>179</td>\n",
       "      <td>82</td>\n",
       "    </tr>\n",
       "    <tr>\n",
       "      <th>3</th>\n",
       "      <td>2021-03-01</td>\n",
       "      <td>2021-03-01T03</td>\n",
       "      <td>2</td>\n",
       "      <td>274</td>\n",
       "      <td>179</td>\n",
       "      <td>82</td>\n",
       "    </tr>\n",
       "    <tr>\n",
       "      <th>4</th>\n",
       "      <td>2021-03-01</td>\n",
       "      <td>2021-03-01T04</td>\n",
       "      <td>21</td>\n",
       "      <td>274</td>\n",
       "      <td>179</td>\n",
       "      <td>82</td>\n",
       "    </tr>\n",
       "  </tbody>\n",
       "</table>\n",
       "</div>"
      ],
      "text/plain": [
       "        Datum      Date_hour  Totaal  LaggedTotaal_CL_year  \\\n",
       "0  2021-03-01  2021-03-01T00       5                   274   \n",
       "1  2021-03-01  2021-03-01T01       1                   274   \n",
       "2  2021-03-01  2021-03-01T02       0                   274   \n",
       "3  2021-03-01  2021-03-01T03       2                   274   \n",
       "4  2021-03-01  2021-03-01T04      21                   274   \n",
       "\n",
       "   LaggedTotaal_GD_year  LaggedTotaal_ZPL_year  \n",
       "0                   179                     82  \n",
       "1                   179                     82  \n",
       "2                   179                     82  \n",
       "3                   179                     82  \n",
       "4                   179                     82  "
      ]
     },
     "execution_count": 464,
     "metadata": {},
     "output_type": "execute_result"
    }
   ],
   "source": [
    "bicycle_imputed = imputer.fit_transform(bicycle_data.filter(regex='^Lagged', axis=1))\n",
    "bicycle_data[bicycle_data.filter(regex='^Lagged', axis=1).columns] = bicycle_imputed.round().astype(int)\n",
    "\n",
    "bicycle_data.head()"
   ]
  },
  {
   "cell_type": "markdown",
   "metadata": {},
   "source": [
    "Lo and behold, no more missing values."
   ]
  },
  {
   "cell_type": "code",
   "execution_count": 465,
   "metadata": {},
   "outputs": [
    {
     "name": "stdout",
     "output_type": "stream",
     "text": [
      "Datum                    0\n",
      "Date_hour                0\n",
      "Totaal                   0\n",
      "LaggedTotaal_CL_year     0\n",
      "LaggedTotaal_GD_year     0\n",
      "LaggedTotaal_ZPL_year    0\n",
      "dtype: int64\n"
     ]
    }
   ],
   "source": [
    "print(bicycle_data.isna().sum())"
   ]
  },
  {
   "cell_type": "markdown",
   "id": "801ffed0",
   "metadata": {
    "papermill": {
     "duration": 0.003826,
     "end_time": "2023-10-05T13:07:11.396027",
     "exception": false,
     "start_time": "2023-10-05T13:07:11.392201",
     "status": "completed"
    },
    "tags": []
   },
   "source": [
    "### Weather"
   ]
  },
  {
   "cell_type": "markdown",
   "metadata": {},
   "source": [
    "In this chunk, we simply add and transform a number of columns pertaining to different aspects of time, which will come in handy once we commence feature engineering. We don't plan on directly using anything added in this chunk as a feature in our model."
   ]
  },
  {
   "cell_type": "code",
   "execution_count": 466,
   "id": "c3befa9e",
   "metadata": {
    "execution": {
     "iopub.execute_input": "2023-10-05T13:07:11.405857Z",
     "iopub.status.busy": "2023-10-05T13:07:11.405515Z",
     "iopub.status.idle": "2023-10-05T13:07:11.439824Z",
     "shell.execute_reply": "2023-10-05T13:07:11.438961Z"
    },
    "papermill": {
     "duration": 0.042494,
     "end_time": "2023-10-05T13:07:11.442463",
     "exception": false,
     "start_time": "2023-10-05T13:07:11.399969",
     "status": "completed"
    },
    "tags": []
   },
   "outputs": [
    {
     "name": "stdout",
     "output_type": "stream",
     "text": [
      "(21192, 16)\n",
      "2021-03-01T00\n",
      "2023-07-31T23\n"
     ]
    },
    {
     "data": {
      "text/html": [
       "<div>\n",
       "<style scoped>\n",
       "    .dataframe tbody tr th:only-of-type {\n",
       "        vertical-align: middle;\n",
       "    }\n",
       "\n",
       "    .dataframe tbody tr th {\n",
       "        vertical-align: top;\n",
       "    }\n",
       "\n",
       "    .dataframe thead th {\n",
       "        text-align: right;\n",
       "    }\n",
       "</style>\n",
       "<table border=\"1\" class=\"dataframe\">\n",
       "  <thead>\n",
       "    <tr style=\"text-align: right;\">\n",
       "      <th></th>\n",
       "      <th>temperature_2m</th>\n",
       "      <th>apparent_temperature</th>\n",
       "      <th>precipitation</th>\n",
       "      <th>cloud_cover</th>\n",
       "      <th>cloud_cover_low</th>\n",
       "      <th>cloud_cover_mid</th>\n",
       "      <th>cloud_cover_high</th>\n",
       "      <th>is_day</th>\n",
       "      <th>Date_hour</th>\n",
       "      <th>date_dt</th>\n",
       "      <th>date</th>\n",
       "      <th>month_day</th>\n",
       "      <th>year</th>\n",
       "      <th>month_year</th>\n",
       "      <th>next_day</th>\n",
       "      <th>prev_day</th>\n",
       "    </tr>\n",
       "  </thead>\n",
       "  <tbody>\n",
       "    <tr>\n",
       "      <th>10200</th>\n",
       "      <td>4.0</td>\n",
       "      <td>0.9</td>\n",
       "      <td>0.0</td>\n",
       "      <td>0.0</td>\n",
       "      <td>0.0</td>\n",
       "      <td>0.0</td>\n",
       "      <td>0.0</td>\n",
       "      <td>0</td>\n",
       "      <td>2021-03-01T00</td>\n",
       "      <td>2021-03-01</td>\n",
       "      <td>2021-03-01</td>\n",
       "      <td>03-01</td>\n",
       "      <td>2021</td>\n",
       "      <td>03-2021</td>\n",
       "      <td>2021-03-02 00:00:00</td>\n",
       "      <td>2021-02-28 00:00:00</td>\n",
       "    </tr>\n",
       "    <tr>\n",
       "      <th>10201</th>\n",
       "      <td>3.6</td>\n",
       "      <td>0.5</td>\n",
       "      <td>0.0</td>\n",
       "      <td>0.0</td>\n",
       "      <td>0.0</td>\n",
       "      <td>0.0</td>\n",
       "      <td>0.0</td>\n",
       "      <td>0</td>\n",
       "      <td>2021-03-01T01</td>\n",
       "      <td>2021-03-01</td>\n",
       "      <td>2021-03-01</td>\n",
       "      <td>03-01</td>\n",
       "      <td>2021</td>\n",
       "      <td>03-2021</td>\n",
       "      <td>2021-03-02 01:00:00</td>\n",
       "      <td>2021-02-28 01:00:00</td>\n",
       "    </tr>\n",
       "    <tr>\n",
       "      <th>10202</th>\n",
       "      <td>3.2</td>\n",
       "      <td>0.1</td>\n",
       "      <td>0.0</td>\n",
       "      <td>0.0</td>\n",
       "      <td>0.0</td>\n",
       "      <td>0.0</td>\n",
       "      <td>0.0</td>\n",
       "      <td>0</td>\n",
       "      <td>2021-03-01T02</td>\n",
       "      <td>2021-03-01</td>\n",
       "      <td>2021-03-01</td>\n",
       "      <td>03-01</td>\n",
       "      <td>2021</td>\n",
       "      <td>03-2021</td>\n",
       "      <td>2021-03-02 02:00:00</td>\n",
       "      <td>2021-02-28 02:00:00</td>\n",
       "    </tr>\n",
       "    <tr>\n",
       "      <th>10203</th>\n",
       "      <td>2.9</td>\n",
       "      <td>-0.4</td>\n",
       "      <td>0.0</td>\n",
       "      <td>0.0</td>\n",
       "      <td>0.0</td>\n",
       "      <td>0.0</td>\n",
       "      <td>0.0</td>\n",
       "      <td>0</td>\n",
       "      <td>2021-03-01T03</td>\n",
       "      <td>2021-03-01</td>\n",
       "      <td>2021-03-01</td>\n",
       "      <td>03-01</td>\n",
       "      <td>2021</td>\n",
       "      <td>03-2021</td>\n",
       "      <td>2021-03-02 03:00:00</td>\n",
       "      <td>2021-02-28 03:00:00</td>\n",
       "    </tr>\n",
       "    <tr>\n",
       "      <th>10204</th>\n",
       "      <td>2.6</td>\n",
       "      <td>-0.8</td>\n",
       "      <td>0.0</td>\n",
       "      <td>0.0</td>\n",
       "      <td>0.0</td>\n",
       "      <td>0.0</td>\n",
       "      <td>0.0</td>\n",
       "      <td>0</td>\n",
       "      <td>2021-03-01T04</td>\n",
       "      <td>2021-03-01</td>\n",
       "      <td>2021-03-01</td>\n",
       "      <td>03-01</td>\n",
       "      <td>2021</td>\n",
       "      <td>03-2021</td>\n",
       "      <td>2021-03-02 04:00:00</td>\n",
       "      <td>2021-02-28 04:00:00</td>\n",
       "    </tr>\n",
       "  </tbody>\n",
       "</table>\n",
       "</div>"
      ],
      "text/plain": [
       "       temperature_2m  apparent_temperature  precipitation  cloud_cover  \\\n",
       "10200             4.0                   0.9            0.0          0.0   \n",
       "10201             3.6                   0.5            0.0          0.0   \n",
       "10202             3.2                   0.1            0.0          0.0   \n",
       "10203             2.9                  -0.4            0.0          0.0   \n",
       "10204             2.6                  -0.8            0.0          0.0   \n",
       "\n",
       "       cloud_cover_low  cloud_cover_mid  cloud_cover_high  is_day  \\\n",
       "10200              0.0              0.0               0.0       0   \n",
       "10201              0.0              0.0               0.0       0   \n",
       "10202              0.0              0.0               0.0       0   \n",
       "10203              0.0              0.0               0.0       0   \n",
       "10204              0.0              0.0               0.0       0   \n",
       "\n",
       "           Date_hour     date_dt        date month_day  year month_year  \\\n",
       "10200  2021-03-01T00  2021-03-01  2021-03-01     03-01  2021    03-2021   \n",
       "10201  2021-03-01T01  2021-03-01  2021-03-01     03-01  2021    03-2021   \n",
       "10202  2021-03-01T02  2021-03-01  2021-03-01     03-01  2021    03-2021   \n",
       "10203  2021-03-01T03  2021-03-01  2021-03-01     03-01  2021    03-2021   \n",
       "10204  2021-03-01T04  2021-03-01  2021-03-01     03-01  2021    03-2021   \n",
       "\n",
       "                 next_day            prev_day  \n",
       "10200 2021-03-02 00:00:00 2021-02-28 00:00:00  \n",
       "10201 2021-03-02 01:00:00 2021-02-28 01:00:00  \n",
       "10202 2021-03-02 02:00:00 2021-02-28 02:00:00  \n",
       "10203 2021-03-02 03:00:00 2021-02-28 03:00:00  \n",
       "10204 2021-03-02 04:00:00 2021-02-28 04:00:00  "
      ]
     },
     "execution_count": 466,
     "metadata": {},
     "output_type": "execute_result"
    }
   ],
   "source": [
    "from datetime import timedelta\n",
    "\n",
    "weather_data = weather_rawdata.copy()\n",
    "weather_data.columns = weather_data.columns.str.split(' ').str[0]\n",
    "weather_data[\"Date_hour\"] = weather_data[\"time\"].str.split(':', expand = True)[0]\n",
    "weather_data = weather_data.drop(\"time\", axis = 1)\n",
    "\n",
    "weather_data = weather_data[(min(bicycle_data[\"Date_hour\"]) <= weather_data['Date_hour']) & (weather_data['Date_hour'] <= max(test_rawdata[\"Date_hour\"]))]\n",
    "date_time = pd.to_datetime(weather_data['Date_hour'])\n",
    "weather_data[\"date_dt\"] = date_time.dt.date\n",
    "weather_data[\"date\"] = date_time.dt.strftime(\"%Y-%m-%d\")\n",
    "weather_data[\"month_day\"] = date_time.dt.strftime(\"%m-%d\")\n",
    "weather_data[\"year\"] = date_time.dt.strftime(\"%Y\")\n",
    "weather_data[\"month_year\"] = date_time.dt.strftime(\"%m-%Y\")\n",
    "weather_data['next_day'] = date_time + timedelta(days=1)\n",
    "weather_data['prev_day'] = date_time - timedelta(days=1)\n",
    "\n",
    "print(weather_data.shape)\n",
    "print(min(weather_data[\"Date_hour\"]))\n",
    "print(max(weather_data[\"Date_hour\"]))\n",
    "weather_data.head()"
   ]
  },
  {
   "cell_type": "markdown",
   "id": "ee5d088e",
   "metadata": {},
   "source": [
    "### Feature engineering"
   ]
  },
  {
   "cell_type": "markdown",
   "metadata": {},
   "source": [
    "Using the raw data available to us, we will now engineer new features that will improve our model's performance.\n",
    "\n",
    "In this particular chunk, this includes:\n",
    "- **Day of the week (str)**: Some days will tend to display higher cycling activity, such as when people return to work/lessons after the weekends on Mondays.\n",
    "- **Hour of the day (int) + sine & cosine transform (float)**: More people will cycle during the day compared to at night, at the start of the working day versus lunchtime, etc. To capture the cyclic nature of the hours of the day, the sine and cosine of the hour are added as features, with period of 24 hours.\n",
    "- **Month of the year (int & str)**: The summer months will likely display less cycling activity than the others due to holidays, festivals, leave of absence, etc.\n",
    "- **Season (str)**: Same reasoning as the month of the year, but less granular."
   ]
  },
  {
   "cell_type": "code",
   "execution_count": 467,
   "id": "00d9ad00",
   "metadata": {},
   "outputs": [],
   "source": [
    "import calendar\n",
    "feature_data = weather_data.copy()\n",
    "feature_data['weekday'] = date_time.dt.strftime('%A')\n",
    "\n",
    "feature_data['hour'] = date_time.dt.hour\n",
    "feature_data['hour_sin'] = np.sin(2 * np.pi * (feature_data['hour']) / 24)\n",
    "feature_data['hour_cosin'] = np.cos(2 * np.pi * (feature_data['hour']) / 24)\n",
    "\n",
    "feature_data[\"month\"] = date_time.dt.month\n",
    "feature_data['month_name'] = feature_data['month'].apply(lambda x: calendar.month_name[x])\n",
    "\n",
    "def get_season(date):\n",
    "    month = date.month\n",
    "    if 3 <= month <= 5:\n",
    "        return 'Spring'\n",
    "    elif 6 <= month <= 8:\n",
    "        return 'Summer'\n",
    "    elif 9 <= month <= 11:\n",
    "        return 'Fall'\n",
    "    else:\n",
    "        return 'Winter'\n",
    "\n",
    "feature_data['season'] = feature_data['date_dt'].apply(get_season)"
   ]
  },
  {
   "cell_type": "markdown",
   "metadata": {},
   "source": [
    "- **Weekday boolean (log)**: More people will cycle during the weekdays to travel to their work or lessons.\n",
    "- **Weekend boolean (log)**: Captures the same variation as the previous boolean.\n",
    "- **School hours boolean (log)**: During school/working hours (roughly between 8 AM and 5 PM) cycling activity will be higher, as people tend to rest more outside of these hours.\n",
    "- **University lessons boolean (log)**: Due to the proximity of the Coupure Links bike counter to the Bio-Engineering campus, and the generally high population of students in Ghent, cycling activity should skyrocket while the 24 weeks of university lessons are ongoing and equally diminish during academic holidays and exam periods. Ideally, we would increase the resolution of university activity by adding separate dummie variables for the lesson-free week, winter and summer exam periods, specific study breaks, and so forth. However, this would require a lot of manual curation, therefore it was chosen to only include the most important aspect, namely the lesson periods.\n",
    "- **Ghent event boolean (log)**: The occurrence of major festivals in Ghent is likely to impact cycling activity, as this is correlated with likelihood to take time off work, appearance of roadblocks obstructing cyclists, etc. This is especially important for our particular test set, as the largest of all Ghent events, the Gentse Feesten, takes place towards the end of July."
   ]
  },
  {
   "cell_type": "code",
   "execution_count": 468,
   "id": "01e1ebdc",
   "metadata": {},
   "outputs": [],
   "source": [
    "# Function to check if a date falls within any interval\n",
    "def date_in_intervals(dates, intervals):\n",
    "    result = [0] * len(dates)  # Initialize the result list with 0s\n",
    "    \n",
    "    for i, date in enumerate(dates):\n",
    "        for interval in intervals.values():\n",
    "            start, end = interval[0], interval[1]\n",
    "            if start <= date <= end:\n",
    "                result[i] = 1\n",
    "                break\n",
    "    \n",
    "    return result\n",
    "\n",
    "university_lessons = {\n",
    "    \"sem1\": [\"09-26\", \"12-19\"],\n",
    "    \"sem2_1\": [\"02-13\", \"04-02\"],\n",
    "    \"sem2_2\": [\"04-17\", \"05-06\"]\n",
    "}\n",
    "\n",
    "Ghent_event = {\"gentsefeesten\": ['07-14', '07-23']}\n",
    "\n",
    "feature_data['is_weekday'] = (~feature_data['weekday'].isin([\"Saturday\", \"Sunday\"])).astype(int)\n",
    "feature_data['is_weekend'] = (feature_data['weekday'].isin([\"Saturday\", \"Sunday\"])).astype(int)\n",
    "feature_data['is_school_hours'] = ((date_time.dt.hour >= 8) & (date_time.dt.hour <= 17)).astype(int)\n",
    "feature_data['is_university_lessons'] = date_in_intervals(feature_data[\"month_day\"], university_lessons)\n",
    "feature_data['is_Ghent_event'] = date_in_intervals(feature_data[\"month_day\"], Ghent_event)"
   ]
  },
  {
   "cell_type": "markdown",
   "metadata": {},
   "source": [
    "- **Public holiday boolean (log)**: During public holidays, less people will travel to their work, thus decreasing cycling activity.\n",
    "- **Bridge day boolean (log)**: When a traditional working day is adjacent to any combination of a public holiday and weekend, many people take a bridge day, spending one of their holiday days to fully bridge the free period without interruption. This way, even \"unofficial\" holidays are accounted for.\n",
    "- **School holiday boolean (log)**: Less (young) students needing to commute means less cyclists.\n",
    "- **Bouwverlof boolean (log)**: The general business of the town should decrease while \"bouwverlof\" is ongoing, which includes a long summer period when the construction sector pauses all ongoing projects. In a town such as Ghent, this is likely to have an impact, especially since it once again takes place during a sizeable chunk of July."
   ]
  },
  {
   "cell_type": "code",
   "execution_count": 469,
   "id": "6e2ef8cf",
   "metadata": {},
   "outputs": [],
   "source": [
    "bouwverlof = {\n",
    "    \"summer\": [\"07-17\", \"08-07\"],\n",
    "}\n",
    "\n",
    "feature_data['is_public_holiday'] = (date_time.dt.date.isin(belgian_holidays)).astype(int)\n",
    "feature_data['is_bridge_day'] = (feature_data['weekday'].isin([\"Monday\", \"Friday\"]) & feature_data['next_day'].dt.date.isin(belgian_holidays) | feature_data['prev_day'].dt.date.isin(belgian_holidays)).astype(int)\n",
    "is_school_holiday = [0] * len(date_time)\n",
    "for i, check_date in enumerate(date_time):\n",
    "    for holiday, date_range in school_holidays.items():\n",
    "        start_date = date_range[0]\n",
    "        end_date = date_range[1]\n",
    "        if start_date <= check_date <= end_date:\n",
    "            is_school_holiday[i] = 1\n",
    "feature_data[\"is_school_holiday\"] = is_school_holiday\n",
    "feature_data['is_bouwverlof'] = date_in_intervals(feature_data[\"month_day\"], bouwverlof)"
   ]
  },
  {
   "cell_type": "markdown",
   "metadata": {},
   "source": [
    "This is our feature dataset so far. Quite extensive already, but we can do better."
   ]
  },
  {
   "cell_type": "code",
   "execution_count": 470,
   "metadata": {},
   "outputs": [
    {
     "name": "stdout",
     "output_type": "stream",
     "text": [
      "(21192, 32)\n"
     ]
    },
    {
     "data": {
      "text/html": [
       "<div>\n",
       "<style scoped>\n",
       "    .dataframe tbody tr th:only-of-type {\n",
       "        vertical-align: middle;\n",
       "    }\n",
       "\n",
       "    .dataframe tbody tr th {\n",
       "        vertical-align: top;\n",
       "    }\n",
       "\n",
       "    .dataframe thead th {\n",
       "        text-align: right;\n",
       "    }\n",
       "</style>\n",
       "<table border=\"1\" class=\"dataframe\">\n",
       "  <thead>\n",
       "    <tr style=\"text-align: right;\">\n",
       "      <th></th>\n",
       "      <th>temperature_2m</th>\n",
       "      <th>apparent_temperature</th>\n",
       "      <th>precipitation</th>\n",
       "      <th>cloud_cover</th>\n",
       "      <th>cloud_cover_low</th>\n",
       "      <th>cloud_cover_mid</th>\n",
       "      <th>cloud_cover_high</th>\n",
       "      <th>is_day</th>\n",
       "      <th>Date_hour</th>\n",
       "      <th>date_dt</th>\n",
       "      <th>...</th>\n",
       "      <th>season</th>\n",
       "      <th>is_weekday</th>\n",
       "      <th>is_weekend</th>\n",
       "      <th>is_school_hours</th>\n",
       "      <th>is_university_lessons</th>\n",
       "      <th>is_Ghent_event</th>\n",
       "      <th>is_public_holiday</th>\n",
       "      <th>is_bridge_day</th>\n",
       "      <th>is_school_holiday</th>\n",
       "      <th>is_bouwverlof</th>\n",
       "    </tr>\n",
       "  </thead>\n",
       "  <tbody>\n",
       "    <tr>\n",
       "      <th>10200</th>\n",
       "      <td>4.0</td>\n",
       "      <td>0.9</td>\n",
       "      <td>0.0</td>\n",
       "      <td>0.0</td>\n",
       "      <td>0.0</td>\n",
       "      <td>0.0</td>\n",
       "      <td>0.0</td>\n",
       "      <td>0</td>\n",
       "      <td>2021-03-01T00</td>\n",
       "      <td>2021-03-01</td>\n",
       "      <td>...</td>\n",
       "      <td>Spring</td>\n",
       "      <td>1</td>\n",
       "      <td>0</td>\n",
       "      <td>0</td>\n",
       "      <td>1</td>\n",
       "      <td>0</td>\n",
       "      <td>0</td>\n",
       "      <td>0</td>\n",
       "      <td>0</td>\n",
       "      <td>0</td>\n",
       "    </tr>\n",
       "    <tr>\n",
       "      <th>10201</th>\n",
       "      <td>3.6</td>\n",
       "      <td>0.5</td>\n",
       "      <td>0.0</td>\n",
       "      <td>0.0</td>\n",
       "      <td>0.0</td>\n",
       "      <td>0.0</td>\n",
       "      <td>0.0</td>\n",
       "      <td>0</td>\n",
       "      <td>2021-03-01T01</td>\n",
       "      <td>2021-03-01</td>\n",
       "      <td>...</td>\n",
       "      <td>Spring</td>\n",
       "      <td>1</td>\n",
       "      <td>0</td>\n",
       "      <td>0</td>\n",
       "      <td>1</td>\n",
       "      <td>0</td>\n",
       "      <td>0</td>\n",
       "      <td>0</td>\n",
       "      <td>0</td>\n",
       "      <td>0</td>\n",
       "    </tr>\n",
       "    <tr>\n",
       "      <th>10202</th>\n",
       "      <td>3.2</td>\n",
       "      <td>0.1</td>\n",
       "      <td>0.0</td>\n",
       "      <td>0.0</td>\n",
       "      <td>0.0</td>\n",
       "      <td>0.0</td>\n",
       "      <td>0.0</td>\n",
       "      <td>0</td>\n",
       "      <td>2021-03-01T02</td>\n",
       "      <td>2021-03-01</td>\n",
       "      <td>...</td>\n",
       "      <td>Spring</td>\n",
       "      <td>1</td>\n",
       "      <td>0</td>\n",
       "      <td>0</td>\n",
       "      <td>1</td>\n",
       "      <td>0</td>\n",
       "      <td>0</td>\n",
       "      <td>0</td>\n",
       "      <td>0</td>\n",
       "      <td>0</td>\n",
       "    </tr>\n",
       "    <tr>\n",
       "      <th>10203</th>\n",
       "      <td>2.9</td>\n",
       "      <td>-0.4</td>\n",
       "      <td>0.0</td>\n",
       "      <td>0.0</td>\n",
       "      <td>0.0</td>\n",
       "      <td>0.0</td>\n",
       "      <td>0.0</td>\n",
       "      <td>0</td>\n",
       "      <td>2021-03-01T03</td>\n",
       "      <td>2021-03-01</td>\n",
       "      <td>...</td>\n",
       "      <td>Spring</td>\n",
       "      <td>1</td>\n",
       "      <td>0</td>\n",
       "      <td>0</td>\n",
       "      <td>1</td>\n",
       "      <td>0</td>\n",
       "      <td>0</td>\n",
       "      <td>0</td>\n",
       "      <td>0</td>\n",
       "      <td>0</td>\n",
       "    </tr>\n",
       "    <tr>\n",
       "      <th>10204</th>\n",
       "      <td>2.6</td>\n",
       "      <td>-0.8</td>\n",
       "      <td>0.0</td>\n",
       "      <td>0.0</td>\n",
       "      <td>0.0</td>\n",
       "      <td>0.0</td>\n",
       "      <td>0.0</td>\n",
       "      <td>0</td>\n",
       "      <td>2021-03-01T04</td>\n",
       "      <td>2021-03-01</td>\n",
       "      <td>...</td>\n",
       "      <td>Spring</td>\n",
       "      <td>1</td>\n",
       "      <td>0</td>\n",
       "      <td>0</td>\n",
       "      <td>1</td>\n",
       "      <td>0</td>\n",
       "      <td>0</td>\n",
       "      <td>0</td>\n",
       "      <td>0</td>\n",
       "      <td>0</td>\n",
       "    </tr>\n",
       "  </tbody>\n",
       "</table>\n",
       "<p>5 rows × 32 columns</p>\n",
       "</div>"
      ],
      "text/plain": [
       "       temperature_2m  apparent_temperature  precipitation  cloud_cover  \\\n",
       "10200             4.0                   0.9            0.0          0.0   \n",
       "10201             3.6                   0.5            0.0          0.0   \n",
       "10202             3.2                   0.1            0.0          0.0   \n",
       "10203             2.9                  -0.4            0.0          0.0   \n",
       "10204             2.6                  -0.8            0.0          0.0   \n",
       "\n",
       "       cloud_cover_low  cloud_cover_mid  cloud_cover_high  is_day  \\\n",
       "10200              0.0              0.0               0.0       0   \n",
       "10201              0.0              0.0               0.0       0   \n",
       "10202              0.0              0.0               0.0       0   \n",
       "10203              0.0              0.0               0.0       0   \n",
       "10204              0.0              0.0               0.0       0   \n",
       "\n",
       "           Date_hour     date_dt  ...  season is_weekday is_weekend  \\\n",
       "10200  2021-03-01T00  2021-03-01  ...  Spring          1          0   \n",
       "10201  2021-03-01T01  2021-03-01  ...  Spring          1          0   \n",
       "10202  2021-03-01T02  2021-03-01  ...  Spring          1          0   \n",
       "10203  2021-03-01T03  2021-03-01  ...  Spring          1          0   \n",
       "10204  2021-03-01T04  2021-03-01  ...  Spring          1          0   \n",
       "\n",
       "      is_school_hours is_university_lessons is_Ghent_event is_public_holiday  \\\n",
       "10200               0                     1              0                 0   \n",
       "10201               0                     1              0                 0   \n",
       "10202               0                     1              0                 0   \n",
       "10203               0                     1              0                 0   \n",
       "10204               0                     1              0                 0   \n",
       "\n",
       "       is_bridge_day  is_school_holiday  is_bouwverlof  \n",
       "10200              0                  0              0  \n",
       "10201              0                  0              0  \n",
       "10202              0                  0              0  \n",
       "10203              0                  0              0  \n",
       "10204              0                  0              0  \n",
       "\n",
       "[5 rows x 32 columns]"
      ]
     },
     "execution_count": 470,
     "metadata": {},
     "output_type": "execute_result"
    }
   ],
   "source": [
    "print(feature_data.shape)\n",
    "feature_data.head()"
   ]
  },
  {
   "cell_type": "markdown",
   "metadata": {},
   "source": [
    "Some of our features are still categorical string vectors. To make these interpretable to a mathematical model, we will encode these as dummie variables, more specifically the day of the week and the season."
   ]
  },
  {
   "cell_type": "code",
   "execution_count": 471,
   "id": "8b26f623",
   "metadata": {},
   "outputs": [
    {
     "data": {
      "text/html": [
       "<div>\n",
       "<style scoped>\n",
       "    .dataframe tbody tr th:only-of-type {\n",
       "        vertical-align: middle;\n",
       "    }\n",
       "\n",
       "    .dataframe tbody tr th {\n",
       "        vertical-align: top;\n",
       "    }\n",
       "\n",
       "    .dataframe thead th {\n",
       "        text-align: right;\n",
       "    }\n",
       "</style>\n",
       "<table border=\"1\" class=\"dataframe\">\n",
       "  <thead>\n",
       "    <tr style=\"text-align: right;\">\n",
       "      <th></th>\n",
       "      <th>Friday</th>\n",
       "      <th>Monday</th>\n",
       "      <th>Saturday</th>\n",
       "      <th>Sunday</th>\n",
       "      <th>Thursday</th>\n",
       "      <th>Tuesday</th>\n",
       "      <th>Wednesday</th>\n",
       "      <th>Fall</th>\n",
       "      <th>Spring</th>\n",
       "      <th>Summer</th>\n",
       "      <th>Winter</th>\n",
       "    </tr>\n",
       "  </thead>\n",
       "  <tbody>\n",
       "    <tr>\n",
       "      <th>10200</th>\n",
       "      <td>0</td>\n",
       "      <td>1</td>\n",
       "      <td>0</td>\n",
       "      <td>0</td>\n",
       "      <td>0</td>\n",
       "      <td>0</td>\n",
       "      <td>0</td>\n",
       "      <td>0</td>\n",
       "      <td>1</td>\n",
       "      <td>0</td>\n",
       "      <td>0</td>\n",
       "    </tr>\n",
       "    <tr>\n",
       "      <th>10201</th>\n",
       "      <td>0</td>\n",
       "      <td>1</td>\n",
       "      <td>0</td>\n",
       "      <td>0</td>\n",
       "      <td>0</td>\n",
       "      <td>0</td>\n",
       "      <td>0</td>\n",
       "      <td>0</td>\n",
       "      <td>1</td>\n",
       "      <td>0</td>\n",
       "      <td>0</td>\n",
       "    </tr>\n",
       "    <tr>\n",
       "      <th>10202</th>\n",
       "      <td>0</td>\n",
       "      <td>1</td>\n",
       "      <td>0</td>\n",
       "      <td>0</td>\n",
       "      <td>0</td>\n",
       "      <td>0</td>\n",
       "      <td>0</td>\n",
       "      <td>0</td>\n",
       "      <td>1</td>\n",
       "      <td>0</td>\n",
       "      <td>0</td>\n",
       "    </tr>\n",
       "    <tr>\n",
       "      <th>10203</th>\n",
       "      <td>0</td>\n",
       "      <td>1</td>\n",
       "      <td>0</td>\n",
       "      <td>0</td>\n",
       "      <td>0</td>\n",
       "      <td>0</td>\n",
       "      <td>0</td>\n",
       "      <td>0</td>\n",
       "      <td>1</td>\n",
       "      <td>0</td>\n",
       "      <td>0</td>\n",
       "    </tr>\n",
       "    <tr>\n",
       "      <th>10204</th>\n",
       "      <td>0</td>\n",
       "      <td>1</td>\n",
       "      <td>0</td>\n",
       "      <td>0</td>\n",
       "      <td>0</td>\n",
       "      <td>0</td>\n",
       "      <td>0</td>\n",
       "      <td>0</td>\n",
       "      <td>1</td>\n",
       "      <td>0</td>\n",
       "      <td>0</td>\n",
       "    </tr>\n",
       "  </tbody>\n",
       "</table>\n",
       "</div>"
      ],
      "text/plain": [
       "       Friday  Monday  Saturday  Sunday  Thursday  Tuesday  Wednesday  Fall  \\\n",
       "10200       0       1         0       0         0        0          0     0   \n",
       "10201       0       1         0       0         0        0          0     0   \n",
       "10202       0       1         0       0         0        0          0     0   \n",
       "10203       0       1         0       0         0        0          0     0   \n",
       "10204       0       1         0       0         0        0          0     0   \n",
       "\n",
       "       Spring  Summer  Winter  \n",
       "10200       1       0       0  \n",
       "10201       1       0       0  \n",
       "10202       1       0       0  \n",
       "10203       1       0       0  \n",
       "10204       1       0       0  "
      ]
     },
     "execution_count": 471,
     "metadata": {},
     "output_type": "execute_result"
    }
   ],
   "source": [
    "dummies = pd.concat([pd.get_dummies(feature_data.weekday), pd.get_dummies(feature_data.season)], axis = 1)\n",
    "dummies.head()"
   ]
  },
  {
   "cell_type": "markdown",
   "metadata": {},
   "source": [
    "These dummie variables are then concatenated to our already huge feature set."
   ]
  },
  {
   "cell_type": "code",
   "execution_count": 472,
   "id": "c1d132f2",
   "metadata": {},
   "outputs": [
    {
     "name": "stdout",
     "output_type": "stream",
     "text": [
      "(21192, 43)\n"
     ]
    },
    {
     "data": {
      "text/html": [
       "<div>\n",
       "<style scoped>\n",
       "    .dataframe tbody tr th:only-of-type {\n",
       "        vertical-align: middle;\n",
       "    }\n",
       "\n",
       "    .dataframe tbody tr th {\n",
       "        vertical-align: top;\n",
       "    }\n",
       "\n",
       "    .dataframe thead th {\n",
       "        text-align: right;\n",
       "    }\n",
       "</style>\n",
       "<table border=\"1\" class=\"dataframe\">\n",
       "  <thead>\n",
       "    <tr style=\"text-align: right;\">\n",
       "      <th></th>\n",
       "      <th>temperature_2m</th>\n",
       "      <th>apparent_temperature</th>\n",
       "      <th>precipitation</th>\n",
       "      <th>cloud_cover</th>\n",
       "      <th>cloud_cover_low</th>\n",
       "      <th>cloud_cover_mid</th>\n",
       "      <th>cloud_cover_high</th>\n",
       "      <th>is_day</th>\n",
       "      <th>Date_hour</th>\n",
       "      <th>date_dt</th>\n",
       "      <th>...</th>\n",
       "      <th>Monday</th>\n",
       "      <th>Saturday</th>\n",
       "      <th>Sunday</th>\n",
       "      <th>Thursday</th>\n",
       "      <th>Tuesday</th>\n",
       "      <th>Wednesday</th>\n",
       "      <th>Fall</th>\n",
       "      <th>Spring</th>\n",
       "      <th>Summer</th>\n",
       "      <th>Winter</th>\n",
       "    </tr>\n",
       "  </thead>\n",
       "  <tbody>\n",
       "    <tr>\n",
       "      <th>10200</th>\n",
       "      <td>4.0</td>\n",
       "      <td>0.9</td>\n",
       "      <td>0.0</td>\n",
       "      <td>0.0</td>\n",
       "      <td>0.0</td>\n",
       "      <td>0.0</td>\n",
       "      <td>0.0</td>\n",
       "      <td>0</td>\n",
       "      <td>2021-03-01T00</td>\n",
       "      <td>2021-03-01</td>\n",
       "      <td>...</td>\n",
       "      <td>1</td>\n",
       "      <td>0</td>\n",
       "      <td>0</td>\n",
       "      <td>0</td>\n",
       "      <td>0</td>\n",
       "      <td>0</td>\n",
       "      <td>0</td>\n",
       "      <td>1</td>\n",
       "      <td>0</td>\n",
       "      <td>0</td>\n",
       "    </tr>\n",
       "    <tr>\n",
       "      <th>10201</th>\n",
       "      <td>3.6</td>\n",
       "      <td>0.5</td>\n",
       "      <td>0.0</td>\n",
       "      <td>0.0</td>\n",
       "      <td>0.0</td>\n",
       "      <td>0.0</td>\n",
       "      <td>0.0</td>\n",
       "      <td>0</td>\n",
       "      <td>2021-03-01T01</td>\n",
       "      <td>2021-03-01</td>\n",
       "      <td>...</td>\n",
       "      <td>1</td>\n",
       "      <td>0</td>\n",
       "      <td>0</td>\n",
       "      <td>0</td>\n",
       "      <td>0</td>\n",
       "      <td>0</td>\n",
       "      <td>0</td>\n",
       "      <td>1</td>\n",
       "      <td>0</td>\n",
       "      <td>0</td>\n",
       "    </tr>\n",
       "    <tr>\n",
       "      <th>10202</th>\n",
       "      <td>3.2</td>\n",
       "      <td>0.1</td>\n",
       "      <td>0.0</td>\n",
       "      <td>0.0</td>\n",
       "      <td>0.0</td>\n",
       "      <td>0.0</td>\n",
       "      <td>0.0</td>\n",
       "      <td>0</td>\n",
       "      <td>2021-03-01T02</td>\n",
       "      <td>2021-03-01</td>\n",
       "      <td>...</td>\n",
       "      <td>1</td>\n",
       "      <td>0</td>\n",
       "      <td>0</td>\n",
       "      <td>0</td>\n",
       "      <td>0</td>\n",
       "      <td>0</td>\n",
       "      <td>0</td>\n",
       "      <td>1</td>\n",
       "      <td>0</td>\n",
       "      <td>0</td>\n",
       "    </tr>\n",
       "    <tr>\n",
       "      <th>10203</th>\n",
       "      <td>2.9</td>\n",
       "      <td>-0.4</td>\n",
       "      <td>0.0</td>\n",
       "      <td>0.0</td>\n",
       "      <td>0.0</td>\n",
       "      <td>0.0</td>\n",
       "      <td>0.0</td>\n",
       "      <td>0</td>\n",
       "      <td>2021-03-01T03</td>\n",
       "      <td>2021-03-01</td>\n",
       "      <td>...</td>\n",
       "      <td>1</td>\n",
       "      <td>0</td>\n",
       "      <td>0</td>\n",
       "      <td>0</td>\n",
       "      <td>0</td>\n",
       "      <td>0</td>\n",
       "      <td>0</td>\n",
       "      <td>1</td>\n",
       "      <td>0</td>\n",
       "      <td>0</td>\n",
       "    </tr>\n",
       "    <tr>\n",
       "      <th>10204</th>\n",
       "      <td>2.6</td>\n",
       "      <td>-0.8</td>\n",
       "      <td>0.0</td>\n",
       "      <td>0.0</td>\n",
       "      <td>0.0</td>\n",
       "      <td>0.0</td>\n",
       "      <td>0.0</td>\n",
       "      <td>0</td>\n",
       "      <td>2021-03-01T04</td>\n",
       "      <td>2021-03-01</td>\n",
       "      <td>...</td>\n",
       "      <td>1</td>\n",
       "      <td>0</td>\n",
       "      <td>0</td>\n",
       "      <td>0</td>\n",
       "      <td>0</td>\n",
       "      <td>0</td>\n",
       "      <td>0</td>\n",
       "      <td>1</td>\n",
       "      <td>0</td>\n",
       "      <td>0</td>\n",
       "    </tr>\n",
       "  </tbody>\n",
       "</table>\n",
       "<p>5 rows × 43 columns</p>\n",
       "</div>"
      ],
      "text/plain": [
       "       temperature_2m  apparent_temperature  precipitation  cloud_cover  \\\n",
       "10200             4.0                   0.9            0.0          0.0   \n",
       "10201             3.6                   0.5            0.0          0.0   \n",
       "10202             3.2                   0.1            0.0          0.0   \n",
       "10203             2.9                  -0.4            0.0          0.0   \n",
       "10204             2.6                  -0.8            0.0          0.0   \n",
       "\n",
       "       cloud_cover_low  cloud_cover_mid  cloud_cover_high  is_day  \\\n",
       "10200              0.0              0.0               0.0       0   \n",
       "10201              0.0              0.0               0.0       0   \n",
       "10202              0.0              0.0               0.0       0   \n",
       "10203              0.0              0.0               0.0       0   \n",
       "10204              0.0              0.0               0.0       0   \n",
       "\n",
       "           Date_hour     date_dt  ... Monday Saturday Sunday Thursday Tuesday  \\\n",
       "10200  2021-03-01T00  2021-03-01  ...      1        0      0        0       0   \n",
       "10201  2021-03-01T01  2021-03-01  ...      1        0      0        0       0   \n",
       "10202  2021-03-01T02  2021-03-01  ...      1        0      0        0       0   \n",
       "10203  2021-03-01T03  2021-03-01  ...      1        0      0        0       0   \n",
       "10204  2021-03-01T04  2021-03-01  ...      1        0      0        0       0   \n",
       "\n",
       "      Wednesday Fall  Spring  Summer  Winter  \n",
       "10200         0    0       1       0       0  \n",
       "10201         0    0       1       0       0  \n",
       "10202         0    0       1       0       0  \n",
       "10203         0    0       1       0       0  \n",
       "10204         0    0       1       0       0  \n",
       "\n",
       "[5 rows x 43 columns]"
      ]
     },
     "execution_count": 472,
     "metadata": {},
     "output_type": "execute_result"
    }
   ],
   "source": [
    "feature_data = pd.concat([feature_data, dummies], axis=1)\n",
    "print(feature_data.shape)\n",
    "feature_data.head()"
   ]
  },
  {
   "cell_type": "markdown",
   "id": "7c8b6a82",
   "metadata": {
    "papermill": {
     "duration": 0.004415,
     "end_time": "2023-10-05T13:07:11.451031",
     "exception": false,
     "start_time": "2023-10-05T13:07:11.446616",
     "status": "completed"
    },
    "tags": []
   },
   "source": [
    "The following code merges the bicycle measurement dataframe with our feature set conglomerate to get an initial model training dataset. We take care to remove all trace of July 2023 indexation from the result, as including this in the training set would certainly be fraudulent. Based on the output of the chunk, we can safely state that the latest timepoint index left in the training set is 2023-06-30T23, which is one hour before July 2023 begins."
   ]
  },
  {
   "cell_type": "code",
   "execution_count": 473,
   "id": "4532c799",
   "metadata": {
    "execution": {
     "iopub.execute_input": "2023-10-05T13:07:11.461511Z",
     "iopub.status.busy": "2023-10-05T13:07:11.460524Z",
     "iopub.status.idle": "2023-10-05T13:07:11.491422Z",
     "shell.execute_reply": "2023-10-05T13:07:11.489607Z"
    },
    "papermill": {
     "duration": 0.038917,
     "end_time": "2023-10-05T13:07:11.494156",
     "exception": false,
     "start_time": "2023-10-05T13:07:11.455239",
     "status": "completed"
    },
    "tags": []
   },
   "outputs": [
    {
     "name": "stdout",
     "output_type": "stream",
     "text": [
      "(11686, 48)\n",
      "2022-03-01T00\n",
      "2023-06-30T23\n"
     ]
    },
    {
     "data": {
      "text/html": [
       "<div>\n",
       "<style scoped>\n",
       "    .dataframe tbody tr th:only-of-type {\n",
       "        vertical-align: middle;\n",
       "    }\n",
       "\n",
       "    .dataframe tbody tr th {\n",
       "        vertical-align: top;\n",
       "    }\n",
       "\n",
       "    .dataframe thead th {\n",
       "        text-align: right;\n",
       "    }\n",
       "</style>\n",
       "<table border=\"1\" class=\"dataframe\">\n",
       "  <thead>\n",
       "    <tr style=\"text-align: right;\">\n",
       "      <th></th>\n",
       "      <th>temperature_2m</th>\n",
       "      <th>apparent_temperature</th>\n",
       "      <th>precipitation</th>\n",
       "      <th>cloud_cover</th>\n",
       "      <th>cloud_cover_low</th>\n",
       "      <th>cloud_cover_mid</th>\n",
       "      <th>cloud_cover_high</th>\n",
       "      <th>is_day</th>\n",
       "      <th>Date_hour</th>\n",
       "      <th>date_dt</th>\n",
       "      <th>...</th>\n",
       "      <th>Wednesday</th>\n",
       "      <th>Fall</th>\n",
       "      <th>Spring</th>\n",
       "      <th>Summer</th>\n",
       "      <th>Winter</th>\n",
       "      <th>Datum</th>\n",
       "      <th>Totaal</th>\n",
       "      <th>LaggedTotaal_CL_year</th>\n",
       "      <th>LaggedTotaal_GD_year</th>\n",
       "      <th>LaggedTotaal_ZPL_year</th>\n",
       "    </tr>\n",
       "  </thead>\n",
       "  <tbody>\n",
       "    <tr>\n",
       "      <th>8759</th>\n",
       "      <td>3.2</td>\n",
       "      <td>-0.6</td>\n",
       "      <td>0.0</td>\n",
       "      <td>31.0</td>\n",
       "      <td>0.0</td>\n",
       "      <td>1.0</td>\n",
       "      <td>100.0</td>\n",
       "      <td>0</td>\n",
       "      <td>2022-03-01T00</td>\n",
       "      <td>2022-03-01</td>\n",
       "      <td>...</td>\n",
       "      <td>0</td>\n",
       "      <td>0</td>\n",
       "      <td>1</td>\n",
       "      <td>0</td>\n",
       "      <td>0</td>\n",
       "      <td>2022-03-01</td>\n",
       "      <td>73</td>\n",
       "      <td>5</td>\n",
       "      <td>2</td>\n",
       "      <td>0</td>\n",
       "    </tr>\n",
       "    <tr>\n",
       "      <th>8760</th>\n",
       "      <td>3.3</td>\n",
       "      <td>-0.4</td>\n",
       "      <td>0.0</td>\n",
       "      <td>51.0</td>\n",
       "      <td>7.0</td>\n",
       "      <td>25.0</td>\n",
       "      <td>100.0</td>\n",
       "      <td>0</td>\n",
       "      <td>2022-03-01T01</td>\n",
       "      <td>2022-03-01</td>\n",
       "      <td>...</td>\n",
       "      <td>0</td>\n",
       "      <td>0</td>\n",
       "      <td>1</td>\n",
       "      <td>0</td>\n",
       "      <td>0</td>\n",
       "      <td>2022-03-01</td>\n",
       "      <td>35</td>\n",
       "      <td>1</td>\n",
       "      <td>1</td>\n",
       "      <td>0</td>\n",
       "    </tr>\n",
       "    <tr>\n",
       "      <th>8761</th>\n",
       "      <td>3.5</td>\n",
       "      <td>-0.2</td>\n",
       "      <td>0.0</td>\n",
       "      <td>100.0</td>\n",
       "      <td>55.0</td>\n",
       "      <td>91.0</td>\n",
       "      <td>100.0</td>\n",
       "      <td>0</td>\n",
       "      <td>2022-03-01T02</td>\n",
       "      <td>2022-03-01</td>\n",
       "      <td>...</td>\n",
       "      <td>0</td>\n",
       "      <td>0</td>\n",
       "      <td>1</td>\n",
       "      <td>0</td>\n",
       "      <td>0</td>\n",
       "      <td>2022-03-01</td>\n",
       "      <td>44</td>\n",
       "      <td>0</td>\n",
       "      <td>0</td>\n",
       "      <td>0</td>\n",
       "    </tr>\n",
       "    <tr>\n",
       "      <th>8762</th>\n",
       "      <td>3.4</td>\n",
       "      <td>-0.4</td>\n",
       "      <td>0.0</td>\n",
       "      <td>100.0</td>\n",
       "      <td>98.0</td>\n",
       "      <td>100.0</td>\n",
       "      <td>99.0</td>\n",
       "      <td>0</td>\n",
       "      <td>2022-03-01T03</td>\n",
       "      <td>2022-03-01</td>\n",
       "      <td>...</td>\n",
       "      <td>0</td>\n",
       "      <td>0</td>\n",
       "      <td>1</td>\n",
       "      <td>0</td>\n",
       "      <td>0</td>\n",
       "      <td>2022-03-01</td>\n",
       "      <td>25</td>\n",
       "      <td>2</td>\n",
       "      <td>1</td>\n",
       "      <td>4</td>\n",
       "    </tr>\n",
       "    <tr>\n",
       "      <th>8763</th>\n",
       "      <td>3.3</td>\n",
       "      <td>-0.3</td>\n",
       "      <td>0.0</td>\n",
       "      <td>100.0</td>\n",
       "      <td>99.0</td>\n",
       "      <td>95.0</td>\n",
       "      <td>100.0</td>\n",
       "      <td>0</td>\n",
       "      <td>2022-03-01T04</td>\n",
       "      <td>2022-03-01</td>\n",
       "      <td>...</td>\n",
       "      <td>0</td>\n",
       "      <td>0</td>\n",
       "      <td>1</td>\n",
       "      <td>0</td>\n",
       "      <td>0</td>\n",
       "      <td>2022-03-01</td>\n",
       "      <td>19</td>\n",
       "      <td>21</td>\n",
       "      <td>4</td>\n",
       "      <td>4</td>\n",
       "    </tr>\n",
       "  </tbody>\n",
       "</table>\n",
       "<p>5 rows × 48 columns</p>\n",
       "</div>"
      ],
      "text/plain": [
       "      temperature_2m  apparent_temperature  precipitation  cloud_cover  \\\n",
       "8759             3.2                  -0.6            0.0         31.0   \n",
       "8760             3.3                  -0.4            0.0         51.0   \n",
       "8761             3.5                  -0.2            0.0        100.0   \n",
       "8762             3.4                  -0.4            0.0        100.0   \n",
       "8763             3.3                  -0.3            0.0        100.0   \n",
       "\n",
       "      cloud_cover_low  cloud_cover_mid  cloud_cover_high  is_day  \\\n",
       "8759              0.0              1.0             100.0       0   \n",
       "8760              7.0             25.0             100.0       0   \n",
       "8761             55.0             91.0             100.0       0   \n",
       "8762             98.0            100.0              99.0       0   \n",
       "8763             99.0             95.0             100.0       0   \n",
       "\n",
       "          Date_hour     date_dt  ... Wednesday Fall Spring Summer Winter  \\\n",
       "8759  2022-03-01T00  2022-03-01  ...         0    0      1      0      0   \n",
       "8760  2022-03-01T01  2022-03-01  ...         0    0      1      0      0   \n",
       "8761  2022-03-01T02  2022-03-01  ...         0    0      1      0      0   \n",
       "8762  2022-03-01T03  2022-03-01  ...         0    0      1      0      0   \n",
       "8763  2022-03-01T04  2022-03-01  ...         0    0      1      0      0   \n",
       "\n",
       "           Datum Totaal  LaggedTotaal_CL_year  LaggedTotaal_GD_year  \\\n",
       "8759  2022-03-01     73                     5                     2   \n",
       "8760  2022-03-01     35                     1                     1   \n",
       "8761  2022-03-01     44                     0                     0   \n",
       "8762  2022-03-01     25                     2                     1   \n",
       "8763  2022-03-01     19                    21                     4   \n",
       "\n",
       "      LaggedTotaal_ZPL_year  \n",
       "8759                      0  \n",
       "8760                      0  \n",
       "8761                      0  \n",
       "8762                      4  \n",
       "8763                      4  \n",
       "\n",
       "[5 rows x 48 columns]"
      ]
     },
     "execution_count": 473,
     "metadata": {},
     "output_type": "execute_result"
    }
   ],
   "source": [
    "all_data = feature_data.merge(bicycle_data, on = \"Date_hour\")\n",
    "train_data = all_data[(all_data[\"Date_hour\"] < min(test_rawdata[\"Date_hour\"])) & (all_data[\"Date_hour\"] > \"2022-03\")]\n",
    "\n",
    "print(train_data.shape)\n",
    "print(min(train_data[\"Date_hour\"]))\n",
    "print(max(train_data[\"Date_hour\"]))\n",
    "train_data.head()"
   ]
  },
  {
   "cell_type": "markdown",
   "id": "4820a726",
   "metadata": {
    "papermill": {
     "duration": 0.004274,
     "end_time": "2023-10-05T13:07:11.503369",
     "exception": false,
     "start_time": "2023-10-05T13:07:11.499095",
     "status": "completed"
    },
    "tags": []
   },
   "source": [
    "The following performs the same merging action, but then for the test set:"
   ]
  },
  {
   "cell_type": "code",
   "execution_count": 474,
   "id": "5f3df659",
   "metadata": {
    "execution": {
     "iopub.execute_input": "2023-10-05T13:07:11.513749Z",
     "iopub.status.busy": "2023-10-05T13:07:11.513342Z",
     "iopub.status.idle": "2023-10-05T13:07:11.529940Z",
     "shell.execute_reply": "2023-10-05T13:07:11.528659Z"
    },
    "papermill": {
     "duration": 0.024913,
     "end_time": "2023-10-05T13:07:11.532636",
     "exception": false,
     "start_time": "2023-10-05T13:07:11.507723",
     "status": "completed"
    },
    "tags": []
   },
   "outputs": [
    {
     "name": "stdout",
     "output_type": "stream",
     "text": [
      "(744, 48)\n",
      "2023-07-01T00\n",
      "2023-07-31T23\n"
     ]
    },
    {
     "data": {
      "text/html": [
       "<div>\n",
       "<style scoped>\n",
       "    .dataframe tbody tr th:only-of-type {\n",
       "        vertical-align: middle;\n",
       "    }\n",
       "\n",
       "    .dataframe tbody tr th {\n",
       "        vertical-align: top;\n",
       "    }\n",
       "\n",
       "    .dataframe thead th {\n",
       "        text-align: right;\n",
       "    }\n",
       "</style>\n",
       "<table border=\"1\" class=\"dataframe\">\n",
       "  <thead>\n",
       "    <tr style=\"text-align: right;\">\n",
       "      <th></th>\n",
       "      <th>Id</th>\n",
       "      <th>Date_hour</th>\n",
       "      <th>temperature_2m</th>\n",
       "      <th>apparent_temperature</th>\n",
       "      <th>precipitation</th>\n",
       "      <th>cloud_cover</th>\n",
       "      <th>cloud_cover_low</th>\n",
       "      <th>cloud_cover_mid</th>\n",
       "      <th>cloud_cover_high</th>\n",
       "      <th>is_day</th>\n",
       "      <th>...</th>\n",
       "      <th>Tuesday</th>\n",
       "      <th>Wednesday</th>\n",
       "      <th>Fall</th>\n",
       "      <th>Spring</th>\n",
       "      <th>Summer</th>\n",
       "      <th>Winter</th>\n",
       "      <th>Datum</th>\n",
       "      <th>LaggedTotaal_CL_year</th>\n",
       "      <th>LaggedTotaal_GD_year</th>\n",
       "      <th>LaggedTotaal_ZPL_year</th>\n",
       "    </tr>\n",
       "  </thead>\n",
       "  <tbody>\n",
       "    <tr>\n",
       "      <th>0</th>\n",
       "      <td>0</td>\n",
       "      <td>2023-07-01T00</td>\n",
       "      <td>18.0</td>\n",
       "      <td>15.7</td>\n",
       "      <td>0.0</td>\n",
       "      <td>100.0</td>\n",
       "      <td>100.0</td>\n",
       "      <td>99.0</td>\n",
       "      <td>58.0</td>\n",
       "      <td>0</td>\n",
       "      <td>...</td>\n",
       "      <td>0</td>\n",
       "      <td>0</td>\n",
       "      <td>0</td>\n",
       "      <td>0</td>\n",
       "      <td>1</td>\n",
       "      <td>0</td>\n",
       "      <td>2023-07-01</td>\n",
       "      <td>96</td>\n",
       "      <td>71</td>\n",
       "      <td>30</td>\n",
       "    </tr>\n",
       "    <tr>\n",
       "      <th>1</th>\n",
       "      <td>1</td>\n",
       "      <td>2023-07-01T01</td>\n",
       "      <td>17.7</td>\n",
       "      <td>15.3</td>\n",
       "      <td>0.0</td>\n",
       "      <td>100.0</td>\n",
       "      <td>100.0</td>\n",
       "      <td>100.0</td>\n",
       "      <td>62.0</td>\n",
       "      <td>0</td>\n",
       "      <td>...</td>\n",
       "      <td>0</td>\n",
       "      <td>0</td>\n",
       "      <td>0</td>\n",
       "      <td>0</td>\n",
       "      <td>1</td>\n",
       "      <td>0</td>\n",
       "      <td>2023-07-01</td>\n",
       "      <td>41</td>\n",
       "      <td>42</td>\n",
       "      <td>21</td>\n",
       "    </tr>\n",
       "    <tr>\n",
       "      <th>2</th>\n",
       "      <td>2</td>\n",
       "      <td>2023-07-01T02</td>\n",
       "      <td>17.4</td>\n",
       "      <td>15.0</td>\n",
       "      <td>0.0</td>\n",
       "      <td>100.0</td>\n",
       "      <td>100.0</td>\n",
       "      <td>100.0</td>\n",
       "      <td>85.0</td>\n",
       "      <td>0</td>\n",
       "      <td>...</td>\n",
       "      <td>0</td>\n",
       "      <td>0</td>\n",
       "      <td>0</td>\n",
       "      <td>0</td>\n",
       "      <td>1</td>\n",
       "      <td>0</td>\n",
       "      <td>2023-07-01</td>\n",
       "      <td>17</td>\n",
       "      <td>24</td>\n",
       "      <td>12</td>\n",
       "    </tr>\n",
       "    <tr>\n",
       "      <th>3</th>\n",
       "      <td>3</td>\n",
       "      <td>2023-07-01T03</td>\n",
       "      <td>17.2</td>\n",
       "      <td>15.0</td>\n",
       "      <td>0.0</td>\n",
       "      <td>100.0</td>\n",
       "      <td>100.0</td>\n",
       "      <td>85.0</td>\n",
       "      <td>90.0</td>\n",
       "      <td>0</td>\n",
       "      <td>...</td>\n",
       "      <td>0</td>\n",
       "      <td>0</td>\n",
       "      <td>0</td>\n",
       "      <td>0</td>\n",
       "      <td>1</td>\n",
       "      <td>0</td>\n",
       "      <td>2023-07-01</td>\n",
       "      <td>49</td>\n",
       "      <td>31</td>\n",
       "      <td>19</td>\n",
       "    </tr>\n",
       "    <tr>\n",
       "      <th>4</th>\n",
       "      <td>4</td>\n",
       "      <td>2023-07-01T04</td>\n",
       "      <td>17.1</td>\n",
       "      <td>15.3</td>\n",
       "      <td>0.0</td>\n",
       "      <td>100.0</td>\n",
       "      <td>100.0</td>\n",
       "      <td>64.0</td>\n",
       "      <td>85.0</td>\n",
       "      <td>1</td>\n",
       "      <td>...</td>\n",
       "      <td>0</td>\n",
       "      <td>0</td>\n",
       "      <td>0</td>\n",
       "      <td>0</td>\n",
       "      <td>1</td>\n",
       "      <td>0</td>\n",
       "      <td>2023-07-01</td>\n",
       "      <td>37</td>\n",
       "      <td>31</td>\n",
       "      <td>10</td>\n",
       "    </tr>\n",
       "  </tbody>\n",
       "</table>\n",
       "<p>5 rows × 48 columns</p>\n",
       "</div>"
      ],
      "text/plain": [
       "   Id      Date_hour  temperature_2m  apparent_temperature  precipitation  \\\n",
       "0   0  2023-07-01T00            18.0                  15.7            0.0   \n",
       "1   1  2023-07-01T01            17.7                  15.3            0.0   \n",
       "2   2  2023-07-01T02            17.4                  15.0            0.0   \n",
       "3   3  2023-07-01T03            17.2                  15.0            0.0   \n",
       "4   4  2023-07-01T04            17.1                  15.3            0.0   \n",
       "\n",
       "   cloud_cover  cloud_cover_low  cloud_cover_mid  cloud_cover_high  is_day  \\\n",
       "0        100.0            100.0             99.0              58.0       0   \n",
       "1        100.0            100.0            100.0              62.0       0   \n",
       "2        100.0            100.0            100.0              85.0       0   \n",
       "3        100.0            100.0             85.0              90.0       0   \n",
       "4        100.0            100.0             64.0              85.0       1   \n",
       "\n",
       "   ... Tuesday Wednesday Fall Spring Summer Winter       Datum  \\\n",
       "0  ...       0         0    0      0      1      0  2023-07-01   \n",
       "1  ...       0         0    0      0      1      0  2023-07-01   \n",
       "2  ...       0         0    0      0      1      0  2023-07-01   \n",
       "3  ...       0         0    0      0      1      0  2023-07-01   \n",
       "4  ...       0         0    0      0      1      0  2023-07-01   \n",
       "\n",
       "  LaggedTotaal_CL_year  LaggedTotaal_GD_year  LaggedTotaal_ZPL_year  \n",
       "0                   96                    71                     30  \n",
       "1                   41                    42                     21  \n",
       "2                   17                    24                     12  \n",
       "3                   49                    31                     19  \n",
       "4                   37                    31                     10  \n",
       "\n",
       "[5 rows x 48 columns]"
      ]
     },
     "execution_count": 474,
     "metadata": {},
     "output_type": "execute_result"
    }
   ],
   "source": [
    "test_data = test_rawdata.merge(feature_data, on = \"Date_hour\", how = 'left')\n",
    "test_data = test_data.merge(bicycle_data, on = \"Date_hour\", how = 'left').drop(\"Totaal\", axis = 1)\n",
    "print(test_data.shape)\n",
    "print(min(test_data[\"Date_hour\"]))\n",
    "print(max(test_data[\"Date_hour\"]))\n",
    "test_data.head()"
   ]
  },
  {
   "cell_type": "markdown",
   "metadata": {},
   "source": [
    "Under normal predictive circumstances, we do not yet have access to the forecasting horizon data points. However, in this case we do, so we will save the gold standard for July 2023 for comparison later. This essentially represents 100% of the true test set."
   ]
  },
  {
   "cell_type": "code",
   "execution_count": 475,
   "id": "331d9145",
   "metadata": {},
   "outputs": [
    {
     "name": "stdout",
     "output_type": "stream",
     "text": [
      "(744, 3)\n",
      "2023-07-01T00\n",
      "2023-07-31T23\n"
     ]
    },
    {
     "data": {
      "text/html": [
       "<div>\n",
       "<style scoped>\n",
       "    .dataframe tbody tr th:only-of-type {\n",
       "        vertical-align: middle;\n",
       "    }\n",
       "\n",
       "    .dataframe tbody tr th {\n",
       "        vertical-align: top;\n",
       "    }\n",
       "\n",
       "    .dataframe thead th {\n",
       "        text-align: right;\n",
       "    }\n",
       "</style>\n",
       "<table border=\"1\" class=\"dataframe\">\n",
       "  <thead>\n",
       "    <tr style=\"text-align: right;\">\n",
       "      <th></th>\n",
       "      <th>Id</th>\n",
       "      <th>Date_hour</th>\n",
       "      <th>Totaal</th>\n",
       "    </tr>\n",
       "  </thead>\n",
       "  <tbody>\n",
       "    <tr>\n",
       "      <th>0</th>\n",
       "      <td>0</td>\n",
       "      <td>2023-07-01T00</td>\n",
       "      <td>150</td>\n",
       "    </tr>\n",
       "    <tr>\n",
       "      <th>1</th>\n",
       "      <td>1</td>\n",
       "      <td>2023-07-01T01</td>\n",
       "      <td>92</td>\n",
       "    </tr>\n",
       "    <tr>\n",
       "      <th>2</th>\n",
       "      <td>2</td>\n",
       "      <td>2023-07-01T02</td>\n",
       "      <td>49</td>\n",
       "    </tr>\n",
       "    <tr>\n",
       "      <th>3</th>\n",
       "      <td>3</td>\n",
       "      <td>2023-07-01T03</td>\n",
       "      <td>36</td>\n",
       "    </tr>\n",
       "    <tr>\n",
       "      <th>4</th>\n",
       "      <td>4</td>\n",
       "      <td>2023-07-01T04</td>\n",
       "      <td>57</td>\n",
       "    </tr>\n",
       "  </tbody>\n",
       "</table>\n",
       "</div>"
      ],
      "text/plain": [
       "   Id      Date_hour  Totaal\n",
       "0   0  2023-07-01T00     150\n",
       "1   1  2023-07-01T01      92\n",
       "2   2  2023-07-01T02      49\n",
       "3   3  2023-07-01T03      36\n",
       "4   4  2023-07-01T04      57"
      ]
     },
     "execution_count": 475,
     "metadata": {},
     "output_type": "execute_result"
    }
   ],
   "source": [
    "gtest_data = test_rawdata.merge(bicycle_data[[\"Totaal\", \"Date_hour\"]], on = \"Date_hour\", how = 'left')\n",
    "print(gtest_data.shape)\n",
    "print(min(gtest_data[\"Date_hour\"]))\n",
    "print(max(gtest_data[\"Date_hour\"]))\n",
    "gtest_data.head()"
   ]
  },
  {
   "cell_type": "markdown",
   "id": "e09cf517",
   "metadata": {},
   "source": [
    "## Advanced preprocessing and setup"
   ]
  },
  {
   "cell_type": "markdown",
   "id": "9f95372c",
   "metadata": {},
   "source": [
    "### Load packages"
   ]
  },
  {
   "cell_type": "markdown",
   "metadata": {},
   "source": [
    "All packages necessary for the remainder of the pipeline are loaded in this chunk."
   ]
  },
  {
   "cell_type": "code",
   "execution_count": 476,
   "id": "8c9d4c2c",
   "metadata": {},
   "outputs": [],
   "source": [
    "import matplotlib.pyplot as plt\n",
    "import seaborn as sns\n",
    "\n",
    "from sklearn.pipeline import make_pipeline\n",
    "from sklearn.preprocessing import StandardScaler, PolynomialFeatures, Normalizer\n",
    "from sklearn.feature_selection import SelectFromModel\n",
    "from sklearn.model_selection import cross_val_score, KFold, GridSearchCV\n",
    "from sklearn.linear_model import Lasso, Ridge, LinearRegression, PoissonRegressor, TweedieRegressor\n",
    "from sklearn.ensemble import RandomForestRegressor, GradientBoostingRegressor, HistGradientBoostingRegressor, ExtraTreesRegressor\n",
    "from sklearn.metrics import r2_score\n",
    "from sklearn.tree import DecisionTreeRegressor\n",
    "from sklearn.decomposition import PCA\n",
    "\n",
    "from xgboost import XGBRegressor\n"
   ]
  },
  {
   "cell_type": "markdown",
   "metadata": {},
   "source": [
    "### Functions"
   ]
  },
  {
   "cell_type": "markdown",
   "metadata": {},
   "source": [
    "In this section, several helper functions are defined for use later on."
   ]
  },
  {
   "cell_type": "markdown",
   "metadata": {},
   "source": [
    "#### Nested K-fold Cross-Validation"
   ]
  },
  {
   "cell_type": "markdown",
   "metadata": {},
   "source": [
    "This function receives as inputs a model object, a grid of parameters, and a training set (features and response). These are then used to perform nested k-fold cross-validation. The k-fold cross-validation procedure is used to estimate the performance of machine learning models when making predictions on data not used during training.\n",
    "\n",
    "This procedure can be used both when optimizing the hyperparameters of a model on a dataset, and when comparing and selecting a model for the dataset. When the same cross-validation procedure and dataset are used to both tune and select a model, it is likely to lead to an optimistically biased evaluation of the model performance.\n",
    "\n",
    "One approach to overcoming this bias is to nest the hyperparameter optimization procedure under the model selection procedure. This is called double cross-validation or nested cross-validation and is the preferred way to evaluate and compare tuned machine learning models.\n",
    "\n",
    "In the inner loop (here executed by GridSearchCV), the score is approximately maximized by fitting a model to each training set, and then directly maximized in selecting (hyper)parameters over the validation set. In the outer loop (here in cross_val_score), the generalization error is estimated by averaging test set scores over several dataset splits. In this case, the number of splits in the inner loop and outer loop are defaulted to 5 and 3 respectively, which strikes a nive balance between over -and underfitting.\n",
    "\n",
    "This function then returns the hyperparameter values that maximized model performance, as well as prints the mean score across all models tested."
   ]
  },
  {
   "cell_type": "code",
   "execution_count": 477,
   "metadata": {},
   "outputs": [],
   "source": [
    "def nested_kfold_cv(model_to_tune, param_grid, data, target):\n",
    "\n",
    "    # Declare the inner and outer cross-validation strategies\n",
    "    inner_cv = KFold(n_splits=5, shuffle=True, random_state=0)\n",
    "    outer_cv = KFold(n_splits=3, shuffle=True, random_state=0)\n",
    "\n",
    "    # Inner cross-validation for parameter search\n",
    "    model = GridSearchCV(\n",
    "        estimator=model_to_tune, param_grid=param_grid, cv=inner_cv, n_jobs=2, scoring = 'r2'\n",
    "    )\n",
    "\n",
    "    # Outer cross-validation to compute the testing score\n",
    "    test_score = cross_val_score(model, data, target, cv=outer_cv, n_jobs=2)\n",
    "    print(\n",
    "        \"The mean score using nested cross-validation is: \"\n",
    "        f\"{test_score.mean():.3f} ± {test_score.std():.3f}\"\n",
    "    )\n",
    "\n",
    "    model.fit(data, target)\n",
    "\n",
    "    best_params = model.best_params_\n",
    "\n",
    "    print(f\"The best parameters found are: {best_params}\")\n",
    "\n",
    "    return best_params"
   ]
  },
  {
   "cell_type": "markdown",
   "metadata": {},
   "source": [
    "#### Error Plot"
   ]
  },
  {
   "cell_type": "markdown",
   "metadata": {},
   "source": [
    "Function that receives model predictions and gold standards of a training and test set, and (approximately) plots the logarithmic error between the true values and predicted values for the test set."
   ]
  },
  {
   "cell_type": "code",
   "execution_count": 478,
   "metadata": {},
   "outputs": [],
   "source": [
    "def plot_diff(y_test, y_hat_test):\n",
    "    y_test_reset = y_test.reset_index()\n",
    "    indices = y_test_reset.index.to_list()\n",
    "    time = np.divide(indices, max(indices))*31\n",
    "    logdiff_test = np.log10(y_hat_test - y_test)\n",
    "\n",
    "    plt.plot(time, logdiff_test, 'bo')\n",
    "    plt.xlabel('Day')\n",
    "    plt.ylabel('log10(y_hat_test - y_test)')\n",
    "    plt.grid(True)\n",
    "    plt.show()"
   ]
  },
  {
   "cell_type": "markdown",
   "metadata": {},
   "source": [
    "#### Export predictions"
   ]
  },
  {
   "cell_type": "markdown",
   "metadata": {},
   "source": [
    "This is a simple function that exports a given set of predictions to a \".csv\" file, with a name based on the input string."
   ]
  },
  {
   "cell_type": "code",
   "execution_count": 479,
   "metadata": {},
   "outputs": [],
   "source": [
    "def save_predictions(model, test_data, y_hat_test):\n",
    "    file = pd.DataFrame([test_data.loc[:, \"Id\"], y_hat_test]).T\n",
    "    file.columns = [\"Id\", \"Predicted\"]\n",
    "    file.to_csv(\"input/bicycle-counter-prediction/predictions/\" + model + \".csv\", index = False)"
   ]
  },
  {
   "cell_type": "markdown",
   "metadata": {},
   "source": [
    "### Diagnostic plots"
   ]
  },
  {
   "cell_type": "markdown",
   "metadata": {},
   "source": [
    "In this section, plots will be generated to guide further processing of the data and retro-active feature engineering, and to give us an idea of the existing relationships between our features and the response variable."
   ]
  },
  {
   "cell_type": "markdown",
   "metadata": {},
   "source": [
    "#### Histogram"
   ]
  },
  {
   "cell_type": "markdown",
   "metadata": {},
   "source": [
    "A histogram of the response variable is generated below. We can speculate that the graph resembles a skewed Poisson distribution. In fact, a curated mixture model might be able to perfectly emulate this distribution, as two distinct local peaks are detected."
   ]
  },
  {
   "cell_type": "code",
   "execution_count": 480,
   "metadata": {},
   "outputs": [
    {
     "data": {
      "text/plain": [
       "<Axes: ylabel='Count'>"
      ]
     },
     "execution_count": 480,
     "metadata": {},
     "output_type": "execute_result"
    },
    {
     "data": {
      "image/png": "[encoded data removed]",
      "text/plain": [
       "<Figure size 432x288 with 1 Axes>"
      ]
     },
     "metadata": {
      "needs_background": "light"
     },
     "output_type": "display_data"
    }
   ],
   "source": [
    "sns.histplot(train_data.loc[:,['Totaal']])"
   ]
  },
  {
   "cell_type": "markdown",
   "metadata": {},
   "source": [
    "#### Time series plot"
   ]
  },
  {
   "cell_type": "markdown",
   "metadata": {},
   "source": [
    "Here we plot the sum of the measurements at Coupure Links across each month. As we can see, the numbers fluctuate heavily by seasonality. School/working months such as September and October are notable hotspots, whilst notorious holiday months such as December, July and August are noticeably more barren. This highlights the need for features that are highly partial to the summer months (such as July itself), as it lies at the lower extremum of the yearly count spectrum, thus making the risk of overfitting quite significant. The data we are left with at this point also seems to be more or less auto-correllated, featuring a quasi stationary distribution that repeats itself over time. "
   ]
  },
  {
   "cell_type": "code",
   "execution_count": 481,
   "metadata": {},
   "outputs": [
    {
     "name": "stdout",
     "output_type": "stream",
     "text": [
      "   month_year  month  year  Totaal month_year_dt\n",
      "2     03-2022      3  2022  251895    2022-03-01\n",
      "4     04-2022      4  2022  199802    2022-04-01\n",
      "6     05-2022      5  2022  252478    2022-05-01\n",
      "8     06-2022      6  2022  229834    2022-06-01\n",
      "10    07-2022      7  2022  179065    2022-07-01\n"
     ]
    },
    {
     "data": {
      "image/png": "[encoded data removed]",
      "text/plain": [
       "<Figure size 432x288 with 1 Axes>"
      ]
     },
     "metadata": {
      "needs_background": "light"
     },
     "output_type": "display_data"
    }
   ],
   "source": [
    "sum_by_month = train_data.groupby(['month_year', 'month', 'year']).agg({'Totaal': 'sum'}).reset_index()\n",
    "\n",
    "sum_by_month['month_year_dt'] = pd.to_datetime(sum_by_month['month_year'], format='%m-%Y')\n",
    "\n",
    "sum_by_month = sum_by_month.sort_values(by='month_year_dt')\n",
    "\n",
    "print(sum_by_month.head())\n",
    "\n",
    "sns.barplot(x = \"month_year\", y = \"Totaal\", data = sum_by_month)\n",
    "plt.xticks(rotation=45)\n",
    "%matplotlib inline"
   ]
  },
  {
   "cell_type": "markdown",
   "metadata": {},
   "source": [
    "#### Heatmap Plot: Correlation Matrix"
   ]
  },
  {
   "cell_type": "markdown",
   "metadata": {},
   "source": [
    "Next, we visualize the correlation between all numerical features and the response by use of a correlation matrix heatmap. There is some multi-colinearity, but nothing too distressing."
   ]
  },
  {
   "cell_type": "code",
   "execution_count": 482,
   "metadata": {},
   "outputs": [
    {
     "name": "stdout",
     "output_type": "stream",
     "text": [
      "['temperature_2m', 'apparent_temperature', 'precipitation', 'cloud_cover', 'cloud_cover_low', 'cloud_cover_mid', 'cloud_cover_high', 'is_day', 'hour', 'hour_sin', 'hour_cosin', 'is_weekday', 'is_weekend', 'is_school_hours', 'is_university_lessons', 'is_Ghent_event', 'is_public_holiday', 'is_bridge_day', 'is_school_holiday', 'is_bouwverlof', 'Friday', 'Monday', 'Saturday', 'Sunday', 'Thursday', 'Tuesday', 'Wednesday', 'Fall', 'Spring', 'Summer', 'Winter', 'LaggedTotaal_CL_year', 'LaggedTotaal_GD_year', 'LaggedTotaal_ZPL_year']\n"
     ]
    },
    {
     "data": {
      "image/png": "[encoded data removed]",
      "text/plain": [
       "<Figure size 864x720 with 2 Axes>"
      ]
     },
     "metadata": {
      "needs_background": "light"
     },
     "output_type": "display_data"
    }
   ],
   "source": [
    "all_features = list(train_data.select_dtypes(include='number').columns)\n",
    "elements_to_remove = [\"Totaal\", \"month\"]\n",
    "all_features = [feature for feature in all_features if feature not in elements_to_remove]\n",
    "print(all_features)\n",
    "\n",
    "cormat = train_data.loc[:, all_features + [\"Totaal\"]].corr()\n",
    "plt.figure(figsize=(12, 10))\n",
    "sns.heatmap(cormat, cmap='coolwarm')\n",
    "plt.title('Correlation Matrix')\n",
    "plt.show()"
   ]
  },
  {
   "cell_type": "markdown",
   "metadata": {},
   "source": [
    "#### Pairwise Plot: Lagged Bicycle Measurements"
   ]
  },
  {
   "cell_type": "markdown",
   "metadata": {},
   "source": [
    "As expected, the distributions of the lagged counters are very alike to one another. This shows that Ghent's cycling trends are rather independent of the specific district."
   ]
  },
  {
   "cell_type": "code",
   "execution_count": 483,
   "metadata": {},
   "outputs": [
    {
     "data": {
      "text/plain": [
       "<seaborn.axisgrid.PairGrid at 0x2a5ebdbff40>"
      ]
     },
     "execution_count": 483,
     "metadata": {},
     "output_type": "execute_result"
    },
    {
     "data": {
      "image/png": "[encoded data removed]",
      "text/plain": [
       "<Figure size 720x720 with 20 Axes>"
      ]
     },
     "metadata": {
      "needs_background": "light"
     },
     "output_type": "display_data"
    }
   ],
   "source": [
    "plot_features = ['LaggedTotaal_CL_year', 'LaggedTotaal_GD_year', 'LaggedTotaal_ZPL_year']\n",
    "sns.pairplot(train_data.loc[:,plot_features + [\"Totaal\"]])"
   ]
  },
  {
   "cell_type": "markdown",
   "metadata": {},
   "source": [
    "#### Pairwise Plot: Weather and Temporal"
   ]
  },
  {
   "cell_type": "markdown",
   "metadata": {},
   "source": [
    "As already implied, continuous/discrete weather and temporal features do seem to influence the response variable at times, but their relationship appears to often be non-linear. For example, low temperatures result in a decline of cyclists, but so do very high temperatures. What's more, only the activity maxima are influenced, as nighttime activity will be more indifferent to temperature fluctuations than daytime activity. This finding gives us an incentive to consider employing a non-linear model, such as a tree method."
   ]
  },
  {
   "cell_type": "code",
   "execution_count": 484,
   "metadata": {},
   "outputs": [],
   "source": [
    "# plot_features = ['temperature_2m', 'precipitation', 'cloud_cover', 'hour', 'month']\n",
    "# sns.pairplot(train_data.loc[:,plot_features + [\"Totaal\"]])"
   ]
  },
  {
   "cell_type": "markdown",
   "metadata": {},
   "source": [
    "#### Pairwise Plot: Booleans"
   ]
  },
  {
   "cell_type": "markdown",
   "metadata": {},
   "source": [
    "Similarly, we can state for the booleans that the maxima of the response are influenced by them, but the minima stay indifferent."
   ]
  },
  {
   "cell_type": "code",
   "execution_count": 485,
   "metadata": {},
   "outputs": [],
   "source": [
    "# plot_features = ['is_day', 'is_weekend', 'is_school_hours', 'is_university_lessons', 'is_Ghent_event', 'is_public_holiday', 'is_bridge_day', 'is_school_holiday', 'is_bouwverlof']\n",
    "# sns.pairplot(train_data.loc[:, plot_features + [\"Totaal\"]])"
   ]
  },
  {
   "cell_type": "markdown",
   "id": "c8053468",
   "metadata": {},
   "source": [
    "## Model Pipeline Construction"
   ]
  },
  {
   "cell_type": "markdown",
   "metadata": {},
   "source": [
    "#### Training and Test Set"
   ]
  },
  {
   "cell_type": "code",
   "execution_count": 486,
   "metadata": {},
   "outputs": [],
   "source": [
    "X_train = train_data.loc[:, all_features]\n",
    "X_test = test_data.loc[:, all_features]\n",
    "\n",
    "y_train = train_data[\"Totaal\"]\n",
    "y_test = gtest_data[\"Totaal\"]"
   ]
  },
  {
   "cell_type": "markdown",
   "metadata": {},
   "source": [
    "### Model Selection"
   ]
  },
  {
   "cell_type": "markdown",
   "metadata": {},
   "source": [
    "Many models were tested and compared throughout development, including:\n",
    "\n",
    "**LM**\n",
    "- Linear Regression\n",
    "- Ridge Regression\n",
    "- Lasso Regression\n",
    "\n",
    "**GLM**\n",
    "- Poisson Regression\n",
    "- Negative Binomial Regression\n",
    "- Tweedie Regression\n",
    "\n",
    "**DT**\n",
    "- Decision Tree Regression\n",
    "\n",
    "**Ensembl**\n",
    "- Random Forest Regression\n",
    "- Gradient Boosting Regression\n",
    "\n",
    "**Others**\n",
    "- SVM Regression\n",
    "- Gaussian Process Regression\n",
    "\n",
    "\n",
    "In the end, ensembl models were the most consistently solid, with Gradient Boosting Regression turning out to return the overall best performance. Linear models, especially Ridge Regression, did admirably, but most likely fell short due to some of the underlying non-linear relationships. GLMs such as Poisson Regression models, despite being theoretically sound when considering the count nature of the response, came in just after LMs. This is most likely due to the distribution not perfectly emulating a binomial distribution of any kind, as a result of data imputation and outliers. Running these models with less crude imputation and outlier removal still performed worse than Gradient Boosting Regression, so these methods were dropped. Perhaps with the perfect binomial mixture model, GLMs would take the crown. Other methods such as SVR and Gaussian Process Regression were quickly dropped as a result of their high computational dependence with large feature spaces coupled with mediocre performance."
   ]
  },
  {
   "cell_type": "markdown",
   "metadata": {},
   "source": [
    "### Feature Normalization"
   ]
  },
  {
   "cell_type": "markdown",
   "metadata": {},
   "source": [
    "To normalize features, sklearn's StandardScaler is applied to the training and test sets. This function standardizes features by removing the mean and scaling to unit variance. The standard score of a sample x is calculated as:\n",
    "$$\n",
    "z = (x - u) / s\n",
    "$$\n",
    "\n",
    "u = mean of the training samples\n",
    "\n",
    "s = standard deviation of the training samples\n",
    "\n",
    "Centering and scaling happen independently on each feature by computing the relevant statistics on the samples in the training set. Mean and standard deviation are then stored to be used on later data using transform.\n",
    "\n",
    "Many elements used in the objective function of a learning algorithm (such as L1 regularizers, which we will be using in our pipeline for feature selection) assume that all features are centered around 0 and have variance in the same order. If a feature has a variance that is orders of magnitude larger than others, it might dominate the objective function and make the estimator unable to learn from other features correctly as expected."
   ]
  },
  {
   "cell_type": "markdown",
   "metadata": {},
   "source": [
    "### Feature Selection"
   ]
  },
  {
   "cell_type": "markdown",
   "metadata": {},
   "source": [
    "Inherent to ensembl methods is that every feature is given an importance score, by which features are automatically \"weighted\" in the model. Thus, less important features will already be handled accordingly. Despite this, to reduce computational burden (and because it seems to be advantageous in practice), features are filtered out of the training and test set using Lasso Regression Regularization before the Gradient Boosting Regression model is trained, thus filtering out a number of \"bad\" features and reducing training time. This is done using the SelectFromModel function in conjunction with the Lasso model function, courtesy of sklearn."
   ]
  },
  {
   "cell_type": "markdown",
   "id": "95c596ac",
   "metadata": {},
   "source": [
    "### Cross-validation"
   ]
  },
  {
   "cell_type": "markdown",
   "metadata": {},
   "source": [
    "In practice, it is always advisable to use cross-validation for final model selection. After all, in a real life scenario, one has no access to the true set one wants to predict. Below is an implementation of said cross-validation pipeline. Ideally, we would give an input grid of as many hyperparameter ranges with as high as possible resolution, and have no choice but to accept that the optimal hyperparameters returned will be as close to the best parameters for our test set as we are able to infer based on the knowledge available to us.\n",
    "\n",
    "However, as we do not have access to a NASA supercomputer, and the competitive nature of the competition, this chunk is but a meager homage to good practice. Ideally, we would range the maximum tree depth, the number of estimators, the learning rate, and more in even tinier increments and across larger ranges, but one must abide by hardware constraints."
   ]
  },
  {
   "cell_type": "code",
   "execution_count": 105,
   "id": "6fbe12f1",
   "metadata": {},
   "outputs": [],
   "source": [
    "selector = make_pipeline(StandardScaler(), SelectFromModel(Lasso()))\n",
    "selector.fit(X_train, y_train)\n",
    "\n",
    "model_to_tune = XGBRegressor()\n",
    "param_grid = {\"max_depth\": np.arange(3, 8, 1),\n",
    "              \"learning_rate\": np.arange(0.05, 0.15, 0.01)}\n",
    "\n",
    "best_params = nested_kfold_cv(model_to_tune, param_grid, selector.transform(X_train), y_train)\n",
    "\n",
    "max_depth_CV = best_params[\"max_depth\"]\n",
    "learning_rate_CV = best_params[\"learning_rate\"]"
   ]
  },
  {
   "cell_type": "markdown",
   "metadata": {},
   "source": [
    "### Training: Best Cross-Validated Model"
   ]
  },
  {
   "cell_type": "markdown",
   "metadata": {},
   "source": [
    "To train the model, a pipeline is contructed including the aforementioned scaler, feature selection and model fitting. The hyperparameters here are the ones estimated to be optimal from nested cross-validation."
   ]
  },
  {
   "cell_type": "code",
   "execution_count": null,
   "metadata": {},
   "outputs": [],
   "source": [
    "pipeline = make_pipeline(StandardScaler(), SelectFromModel(Lasso()), XGBRegressor(max_depth = 6,\n",
    "                                                                                  learning_rate = 0.1\n",
    "                                                                                  ))\n",
    "\n",
    "pipeline.fit(X_train, y_train)"
   ]
  },
  {
   "cell_type": "markdown",
   "metadata": {},
   "source": [
    "### Predictions: Best Cross-Validated Model"
   ]
  },
  {
   "cell_type": "code",
   "execution_count": 75,
   "metadata": {},
   "outputs": [
    {
     "ename": "ValueError",
     "evalue": "Input X contains NaN.\nSelectFromModel does not accept missing values encoded as NaN natively. For supervised learning, you might want to consider sklearn.ensemble.HistGradientBoostingClassifier and Regressor which accept missing values encoded as NaNs natively. Alternatively, it is possible to preprocess the data, for instance by using an imputer transformer in a pipeline or drop samples with missing values. See https://scikit-learn.org/stable/modules/impute.html You can find a list of all estimators that handle NaN values at the following page: https://scikit-learn.org/stable/modules/impute.html#estimators-that-handle-nan-values",
     "output_type": "error",
     "traceback": [
      "\u001b[1;31m---------------------------------------------------------------------------\u001b[0m",
      "\u001b[1;31mValueError\u001b[0m                                Traceback (most recent call last)",
      "\u001b[1;32mc:\\Users\\Luca Visser\\Documents\\GitHub\\MLLS_Project1\\LucaVisser-project-1-notebook.ipynb Cell 113\u001b[0m line \u001b[0;36m<cell line: 1>\u001b[1;34m()\u001b[0m\n\u001b[1;32m----> <a href='vscode-notebook-cell:/c%3A/Users/Luca%20Visser/Documents/GitHub/MLLS_Project1/LucaVisser-project-1-notebook.ipynb#Y204sZmlsZQ%3D%3D?line=0'>1</a>\u001b[0m y_hat_train \u001b[39m=\u001b[39m pipeline\u001b[39m.\u001b[39;49mpredict(X_train) \u001b[39m# predict training data\u001b[39;00m\n\u001b[0;32m      <a href='vscode-notebook-cell:/c%3A/Users/Luca%20Visser/Documents/GitHub/MLLS_Project1/LucaVisser-project-1-notebook.ipynb#Y204sZmlsZQ%3D%3D?line=2'>3</a>\u001b[0m y_hat_test \u001b[39m=\u001b[39m pipeline\u001b[39m.\u001b[39mpredict(X_test) \u001b[39m# predict test data\u001b[39;00m\n\u001b[0;32m      <a href='vscode-notebook-cell:/c%3A/Users/Luca%20Visser/Documents/GitHub/MLLS_Project1/LucaVisser-project-1-notebook.ipynb#Y204sZmlsZQ%3D%3D?line=4'>5</a>\u001b[0m R_train \u001b[39m=\u001b[39m pipeline\u001b[39m.\u001b[39mscore(X_train, y_train) \u001b[39m# Training set R²\u001b[39;00m\n",
      "File \u001b[1;32mc:\\anaconda\\lib\\site-packages\\sklearn\\pipeline.py:480\u001b[0m, in \u001b[0;36mPipeline.predict\u001b[1;34m(self, X, **predict_params)\u001b[0m\n\u001b[0;32m    478\u001b[0m Xt \u001b[39m=\u001b[39m X\n\u001b[0;32m    479\u001b[0m \u001b[39mfor\u001b[39;00m _, name, transform \u001b[39min\u001b[39;00m \u001b[39mself\u001b[39m\u001b[39m.\u001b[39m_iter(with_final\u001b[39m=\u001b[39m\u001b[39mFalse\u001b[39;00m):\n\u001b[1;32m--> 480\u001b[0m     Xt \u001b[39m=\u001b[39m transform\u001b[39m.\u001b[39;49mtransform(Xt)\n\u001b[0;32m    481\u001b[0m \u001b[39mreturn\u001b[39;00m \u001b[39mself\u001b[39m\u001b[39m.\u001b[39msteps[\u001b[39m-\u001b[39m\u001b[39m1\u001b[39m][\u001b[39m1\u001b[39m]\u001b[39m.\u001b[39mpredict(Xt, \u001b[39m*\u001b[39m\u001b[39m*\u001b[39mpredict_params)\n",
      "File \u001b[1;32mc:\\anaconda\\lib\\site-packages\\sklearn\\utils\\_set_output.py:142\u001b[0m, in \u001b[0;36m_wrap_method_output.<locals>.wrapped\u001b[1;34m(self, X, *args, **kwargs)\u001b[0m\n\u001b[0;32m    140\u001b[0m \u001b[39m@wraps\u001b[39m(f)\n\u001b[0;32m    141\u001b[0m \u001b[39mdef\u001b[39;00m \u001b[39mwrapped\u001b[39m(\u001b[39mself\u001b[39m, X, \u001b[39m*\u001b[39margs, \u001b[39m*\u001b[39m\u001b[39m*\u001b[39mkwargs):\n\u001b[1;32m--> 142\u001b[0m     data_to_wrap \u001b[39m=\u001b[39m f(\u001b[39mself\u001b[39m, X, \u001b[39m*\u001b[39margs, \u001b[39m*\u001b[39m\u001b[39m*\u001b[39mkwargs)\n\u001b[0;32m    143\u001b[0m     \u001b[39mif\u001b[39;00m \u001b[39misinstance\u001b[39m(data_to_wrap, \u001b[39mtuple\u001b[39m):\n\u001b[0;32m    144\u001b[0m         \u001b[39m# only wrap the first output for cross decomposition\u001b[39;00m\n\u001b[0;32m    145\u001b[0m         \u001b[39mreturn\u001b[39;00m (\n\u001b[0;32m    146\u001b[0m             _wrap_data_with_container(method, data_to_wrap[\u001b[39m0\u001b[39m], X, \u001b[39mself\u001b[39m),\n\u001b[0;32m    147\u001b[0m             \u001b[39m*\u001b[39mdata_to_wrap[\u001b[39m1\u001b[39m:],\n\u001b[0;32m    148\u001b[0m         )\n",
      "File \u001b[1;32mc:\\anaconda\\lib\\site-packages\\sklearn\\feature_selection\\_base.py:83\u001b[0m, in \u001b[0;36mSelectorMixin.transform\u001b[1;34m(self, X)\u001b[0m\n\u001b[0;32m     69\u001b[0m \u001b[39m\"\"\"Reduce X to the selected features.\u001b[39;00m\n\u001b[0;32m     70\u001b[0m \n\u001b[0;32m     71\u001b[0m \u001b[39mParameters\u001b[39;00m\n\u001b[1;32m   (...)\u001b[0m\n\u001b[0;32m     79\u001b[0m \u001b[39m    The input samples with only the selected features.\u001b[39;00m\n\u001b[0;32m     80\u001b[0m \u001b[39m\"\"\"\u001b[39;00m\n\u001b[0;32m     81\u001b[0m \u001b[39m# note: we use _safe_tags instead of _get_tags because this is a\u001b[39;00m\n\u001b[0;32m     82\u001b[0m \u001b[39m# public Mixin.\u001b[39;00m\n\u001b[1;32m---> 83\u001b[0m X \u001b[39m=\u001b[39m \u001b[39mself\u001b[39;49m\u001b[39m.\u001b[39;49m_validate_data(\n\u001b[0;32m     84\u001b[0m     X,\n\u001b[0;32m     85\u001b[0m     dtype\u001b[39m=\u001b[39;49m\u001b[39mNone\u001b[39;49;00m,\n\u001b[0;32m     86\u001b[0m     accept_sparse\u001b[39m=\u001b[39;49m\u001b[39m\"\u001b[39;49m\u001b[39mcsr\u001b[39;49m\u001b[39m\"\u001b[39;49m,\n\u001b[0;32m     87\u001b[0m     force_all_finite\u001b[39m=\u001b[39;49m\u001b[39mnot\u001b[39;49;00m _safe_tags(\u001b[39mself\u001b[39;49m, key\u001b[39m=\u001b[39;49m\u001b[39m\"\u001b[39;49m\u001b[39mallow_nan\u001b[39;49m\u001b[39m\"\u001b[39;49m),\n\u001b[0;32m     88\u001b[0m     reset\u001b[39m=\u001b[39;49m\u001b[39mFalse\u001b[39;49;00m,\n\u001b[0;32m     89\u001b[0m )\n\u001b[0;32m     90\u001b[0m \u001b[39mreturn\u001b[39;00m \u001b[39mself\u001b[39m\u001b[39m.\u001b[39m_transform(X)\n",
      "File \u001b[1;32mc:\\anaconda\\lib\\site-packages\\sklearn\\base.py:546\u001b[0m, in \u001b[0;36mBaseEstimator._validate_data\u001b[1;34m(self, X, y, reset, validate_separately, **check_params)\u001b[0m\n\u001b[0;32m    544\u001b[0m     \u001b[39mraise\u001b[39;00m \u001b[39mValueError\u001b[39;00m(\u001b[39m\"\u001b[39m\u001b[39mValidation should be done on X, y or both.\u001b[39m\u001b[39m\"\u001b[39m)\n\u001b[0;32m    545\u001b[0m \u001b[39melif\u001b[39;00m \u001b[39mnot\u001b[39;00m no_val_X \u001b[39mand\u001b[39;00m no_val_y:\n\u001b[1;32m--> 546\u001b[0m     X \u001b[39m=\u001b[39m check_array(X, input_name\u001b[39m=\u001b[39m\u001b[39m\"\u001b[39m\u001b[39mX\u001b[39m\u001b[39m\"\u001b[39m, \u001b[39m*\u001b[39m\u001b[39m*\u001b[39mcheck_params)\n\u001b[0;32m    547\u001b[0m     out \u001b[39m=\u001b[39m X\n\u001b[0;32m    548\u001b[0m \u001b[39melif\u001b[39;00m no_val_X \u001b[39mand\u001b[39;00m \u001b[39mnot\u001b[39;00m no_val_y:\n",
      "File \u001b[1;32mc:\\anaconda\\lib\\site-packages\\sklearn\\utils\\validation.py:921\u001b[0m, in \u001b[0;36mcheck_array\u001b[1;34m(array, accept_sparse, accept_large_sparse, dtype, order, copy, force_all_finite, ensure_2d, allow_nd, ensure_min_samples, ensure_min_features, estimator, input_name)\u001b[0m\n\u001b[0;32m    915\u001b[0m         \u001b[39mraise\u001b[39;00m \u001b[39mValueError\u001b[39;00m(\n\u001b[0;32m    916\u001b[0m             \u001b[39m\"\u001b[39m\u001b[39mFound array with dim \u001b[39m\u001b[39m%d\u001b[39;00m\u001b[39m. \u001b[39m\u001b[39m%s\u001b[39;00m\u001b[39m expected <= 2.\u001b[39m\u001b[39m\"\u001b[39m\n\u001b[0;32m    917\u001b[0m             \u001b[39m%\u001b[39m (array\u001b[39m.\u001b[39mndim, estimator_name)\n\u001b[0;32m    918\u001b[0m         )\n\u001b[0;32m    920\u001b[0m     \u001b[39mif\u001b[39;00m force_all_finite:\n\u001b[1;32m--> 921\u001b[0m         _assert_all_finite(\n\u001b[0;32m    922\u001b[0m             array,\n\u001b[0;32m    923\u001b[0m             input_name\u001b[39m=\u001b[39;49minput_name,\n\u001b[0;32m    924\u001b[0m             estimator_name\u001b[39m=\u001b[39;49mestimator_name,\n\u001b[0;32m    925\u001b[0m             allow_nan\u001b[39m=\u001b[39;49mforce_all_finite \u001b[39m==\u001b[39;49m \u001b[39m\"\u001b[39;49m\u001b[39mallow-nan\u001b[39;49m\u001b[39m\"\u001b[39;49m,\n\u001b[0;32m    926\u001b[0m         )\n\u001b[0;32m    928\u001b[0m \u001b[39mif\u001b[39;00m ensure_min_samples \u001b[39m>\u001b[39m \u001b[39m0\u001b[39m:\n\u001b[0;32m    929\u001b[0m     n_samples \u001b[39m=\u001b[39m _num_samples(array)\n",
      "File \u001b[1;32mc:\\anaconda\\lib\\site-packages\\sklearn\\utils\\validation.py:161\u001b[0m, in \u001b[0;36m_assert_all_finite\u001b[1;34m(X, allow_nan, msg_dtype, estimator_name, input_name)\u001b[0m\n\u001b[0;32m    144\u001b[0m \u001b[39mif\u001b[39;00m estimator_name \u001b[39mand\u001b[39;00m input_name \u001b[39m==\u001b[39m \u001b[39m\"\u001b[39m\u001b[39mX\u001b[39m\u001b[39m\"\u001b[39m \u001b[39mand\u001b[39;00m has_nan_error:\n\u001b[0;32m    145\u001b[0m     \u001b[39m# Improve the error message on how to handle missing values in\u001b[39;00m\n\u001b[0;32m    146\u001b[0m     \u001b[39m# scikit-learn.\u001b[39;00m\n\u001b[0;32m    147\u001b[0m     msg_err \u001b[39m+\u001b[39m\u001b[39m=\u001b[39m (\n\u001b[0;32m    148\u001b[0m         \u001b[39mf\u001b[39m\u001b[39m\"\u001b[39m\u001b[39m\\n\u001b[39;00m\u001b[39m{\u001b[39;00mestimator_name\u001b[39m}\u001b[39;00m\u001b[39m does not accept missing values\u001b[39m\u001b[39m\"\u001b[39m\n\u001b[0;32m    149\u001b[0m         \u001b[39m\"\u001b[39m\u001b[39m encoded as NaN natively. For supervised learning, you might want\u001b[39m\u001b[39m\"\u001b[39m\n\u001b[1;32m   (...)\u001b[0m\n\u001b[0;32m    159\u001b[0m         \u001b[39m\"\u001b[39m\u001b[39m#estimators-that-handle-nan-values\u001b[39m\u001b[39m\"\u001b[39m\n\u001b[0;32m    160\u001b[0m     )\n\u001b[1;32m--> 161\u001b[0m \u001b[39mraise\u001b[39;00m \u001b[39mValueError\u001b[39;00m(msg_err)\n",
      "\u001b[1;31mValueError\u001b[0m: Input X contains NaN.\nSelectFromModel does not accept missing values encoded as NaN natively. For supervised learning, you might want to consider sklearn.ensemble.HistGradientBoostingClassifier and Regressor which accept missing values encoded as NaNs natively. Alternatively, it is possible to preprocess the data, for instance by using an imputer transformer in a pipeline or drop samples with missing values. See https://scikit-learn.org/stable/modules/impute.html You can find a list of all estimators that handle NaN values at the following page: https://scikit-learn.org/stable/modules/impute.html#estimators-that-handle-nan-values"
     ]
    }
   ],
   "source": [
    "y_hat_train = pipeline.predict(X_train) # predict training data\n",
    "\n",
    "y_hat_test = pipeline.predict(X_test) # predict test data\n",
    "\n",
    "R_train = pipeline.score(X_train, y_train) # Training set R²\n",
    "R_test = pipeline.score(X_test, y_test) # Test set R²\n",
    "\n",
    "print('Train set R²: {}'.format(R_train))\n",
    "print('Test set R²: {}'.format(R_test))\n",
    "\n",
    "save_predictions(\"GBReg_CV\", test_data, y_hat_test)\n",
    "\n",
    "plot_diff(y_test, y_hat_test)"
   ]
  },
  {
   "cell_type": "markdown",
   "metadata": {},
   "source": [
    "### Training: Best Theoretical Model"
   ]
  },
  {
   "cell_type": "markdown",
   "metadata": {},
   "source": [
    "We could call it a day here, but we are curious about the maximum potential that our model can offer. In the following training chunk, the hyperparameters are curated manually to emulate the best possible theoretical performance for our particular TEST set, not the regular or cross-validated training set. To be clear, this is NOT good modelling practice. This was done simply in the interest of the competition, to show off this particular model's highest theoretical performance for the month of July. As explained previously, it would be more correct to instead use hyperparameters obtained from extensive cross-validation. Therefore, for anything besides the purposes of the leaderboard standing, this model is fraudulently trained."
   ]
  },
  {
   "cell_type": "code",
   "execution_count": 523,
   "id": "de06f2b6",
   "metadata": {},
   "outputs": [
    {
     "data": {
      "text/html": [
       "<style>#sk-container-id-27 {color: black;background-color: white;}#sk-container-id-27 pre{padding: 0;}#sk-container-id-27 div.sk-toggleable {background-color: white;}#sk-container-id-27 label.sk-toggleable__label {cursor: pointer;display: block;width: 100%;margin-bottom: 0;padding: 0.3em;box-sizing: border-box;text-align: center;}#sk-container-id-27 label.sk-toggleable__label-arrow:before {content: \"▸\";float: left;margin-right: 0.25em;color: #696969;}#sk-container-id-27 label.sk-toggleable__label-arrow:hover:before {color: black;}#sk-container-id-27 div.sk-estimator:hover label.sk-toggleable__label-arrow:before {color: black;}#sk-container-id-27 div.sk-toggleable__content {max-height: 0;max-width: 0;overflow: hidden;text-align: left;background-color: #f0f8ff;}#sk-container-id-27 div.sk-toggleable__content pre {margin: 0.2em;color: black;border-radius: 0.25em;background-color: #f0f8ff;}#sk-container-id-27 input.sk-toggleable__control:checked~div.sk-toggleable__content {max-height: 200px;max-width: 100%;overflow: auto;}#sk-container-id-27 input.sk-toggleable__control:checked~label.sk-toggleable__label-arrow:before {content: \"▾\";}#sk-container-id-27 div.sk-estimator input.sk-toggleable__control:checked~label.sk-toggleable__label {background-color: #d4ebff;}#sk-container-id-27 div.sk-label input.sk-toggleable__control:checked~label.sk-toggleable__label {background-color: #d4ebff;}#sk-container-id-27 input.sk-hidden--visually {border: 0;clip: rect(1px 1px 1px 1px);clip: rect(1px, 1px, 1px, 1px);height: 1px;margin: -1px;overflow: hidden;padding: 0;position: absolute;width: 1px;}#sk-container-id-27 div.sk-estimator {font-family: monospace;background-color: #f0f8ff;border: 1px dotted black;border-radius: 0.25em;box-sizing: border-box;margin-bottom: 0.5em;}#sk-container-id-27 div.sk-estimator:hover {background-color: #d4ebff;}#sk-container-id-27 div.sk-parallel-item::after {content: \"\";width: 100%;border-bottom: 1px solid gray;flex-grow: 1;}#sk-container-id-27 div.sk-label:hover label.sk-toggleable__label {background-color: #d4ebff;}#sk-container-id-27 div.sk-serial::before {content: \"\";position: absolute;border-left: 1px solid gray;box-sizing: border-box;top: 0;bottom: 0;left: 50%;z-index: 0;}#sk-container-id-27 div.sk-serial {display: flex;flex-direction: column;align-items: center;background-color: white;padding-right: 0.2em;padding-left: 0.2em;position: relative;}#sk-container-id-27 div.sk-item {position: relative;z-index: 1;}#sk-container-id-27 div.sk-parallel {display: flex;align-items: stretch;justify-content: center;background-color: white;position: relative;}#sk-container-id-27 div.sk-item::before, #sk-container-id-27 div.sk-parallel-item::before {content: \"\";position: absolute;border-left: 1px solid gray;box-sizing: border-box;top: 0;bottom: 0;left: 50%;z-index: -1;}#sk-container-id-27 div.sk-parallel-item {display: flex;flex-direction: column;z-index: 1;position: relative;background-color: white;}#sk-container-id-27 div.sk-parallel-item:first-child::after {align-self: flex-end;width: 50%;}#sk-container-id-27 div.sk-parallel-item:last-child::after {align-self: flex-start;width: 50%;}#sk-container-id-27 div.sk-parallel-item:only-child::after {width: 0;}#sk-container-id-27 div.sk-dashed-wrapped {border: 1px dashed gray;margin: 0 0.4em 0.5em 0.4em;box-sizing: border-box;padding-bottom: 0.4em;background-color: white;}#sk-container-id-27 div.sk-label label {font-family: monospace;font-weight: bold;display: inline-block;line-height: 1.2em;}#sk-container-id-27 div.sk-label-container {text-align: center;}#sk-container-id-27 div.sk-container {/* jupyter's `normalize.less` sets `[hidden] { display: none; }` but bootstrap.min.css set `[hidden] { display: none !important; }` so we also need the `!important` here to be able to override the default hidden behavior on the sphinx rendered scikit-learn.org. See: https://github.com/scikit-learn/scikit-learn/issues/21755 */display: inline-block !important;position: relative;}#sk-container-id-27 div.sk-text-repr-fallback {display: none;}</style><div id=\"sk-container-id-27\" class=\"sk-top-container\"><div class=\"sk-text-repr-fallback\"><pre>Pipeline(steps=[(&#x27;standardscaler&#x27;, StandardScaler()),\n",
       "                (&#x27;selectfrommodel&#x27;,\n",
       "                 SelectFromModel(estimator=Lasso(alpha=0.3))),\n",
       "                (&#x27;xgbregressor&#x27;,\n",
       "                 XGBRegressor(base_score=None, booster=None, callbacks=None,\n",
       "                              colsample_bylevel=None, colsample_bynode=None,\n",
       "                              colsample_bytree=None, device=None,\n",
       "                              early_stopping_rounds=None,\n",
       "                              enable_categorical=False, eval_metric=None,\n",
       "                              feature_types...w_policy=None,\n",
       "                              importance_type=None,\n",
       "                              interaction_constraints=None, learning_rate=0.11,\n",
       "                              max_bin=None, max_cat_threshold=None,\n",
       "                              max_cat_to_onehot=None, max_delta_step=None,\n",
       "                              max_depth=6, max_leaves=None, min_child_weight=1,\n",
       "                              missing=nan, monotone_constraints=None,\n",
       "                              multi_strategy=None, n_estimators=100,\n",
       "                              n_jobs=None, num_parallel_tree=None,\n",
       "                              objective=&#x27;reg:tweedie&#x27;, ...))])</pre><b>In a Jupyter environment, please rerun this cell to show the HTML representation or trust the notebook. <br />On GitHub, the HTML representation is unable to render, please try loading this page with nbviewer.org.</b></div><div class=\"sk-container\" hidden><div class=\"sk-item sk-dashed-wrapped\"><div class=\"sk-label-container\"><div class=\"sk-label sk-toggleable\"><input class=\"sk-toggleable__control sk-hidden--visually\" id=\"sk-estimator-id-153\" type=\"checkbox\" ><label for=\"sk-estimator-id-153\" class=\"sk-toggleable__label sk-toggleable__label-arrow\">Pipeline</label><div class=\"sk-toggleable__content\"><pre>Pipeline(steps=[(&#x27;standardscaler&#x27;, StandardScaler()),\n",
       "                (&#x27;selectfrommodel&#x27;,\n",
       "                 SelectFromModel(estimator=Lasso(alpha=0.3))),\n",
       "                (&#x27;xgbregressor&#x27;,\n",
       "                 XGBRegressor(base_score=None, booster=None, callbacks=None,\n",
       "                              colsample_bylevel=None, colsample_bynode=None,\n",
       "                              colsample_bytree=None, device=None,\n",
       "                              early_stopping_rounds=None,\n",
       "                              enable_categorical=False, eval_metric=None,\n",
       "                              feature_types...w_policy=None,\n",
       "                              importance_type=None,\n",
       "                              interaction_constraints=None, learning_rate=0.11,\n",
       "                              max_bin=None, max_cat_threshold=None,\n",
       "                              max_cat_to_onehot=None, max_delta_step=None,\n",
       "                              max_depth=6, max_leaves=None, min_child_weight=1,\n",
       "                              missing=nan, monotone_constraints=None,\n",
       "                              multi_strategy=None, n_estimators=100,\n",
       "                              n_jobs=None, num_parallel_tree=None,\n",
       "                              objective=&#x27;reg:tweedie&#x27;, ...))])</pre></div></div></div><div class=\"sk-serial\"><div class=\"sk-item\"><div class=\"sk-estimator sk-toggleable\"><input class=\"sk-toggleable__control sk-hidden--visually\" id=\"sk-estimator-id-154\" type=\"checkbox\" ><label for=\"sk-estimator-id-154\" class=\"sk-toggleable__label sk-toggleable__label-arrow\">StandardScaler</label><div class=\"sk-toggleable__content\"><pre>StandardScaler()</pre></div></div></div><div class=\"sk-item sk-dashed-wrapped\"><div class=\"sk-label-container\"><div class=\"sk-label sk-toggleable\"><input class=\"sk-toggleable__control sk-hidden--visually\" id=\"sk-estimator-id-155\" type=\"checkbox\" ><label for=\"sk-estimator-id-155\" class=\"sk-toggleable__label sk-toggleable__label-arrow\">selectfrommodel: SelectFromModel</label><div class=\"sk-toggleable__content\"><pre>SelectFromModel(estimator=Lasso(alpha=0.3))</pre></div></div></div><div class=\"sk-parallel\"><div class=\"sk-parallel-item\"><div class=\"sk-item\"><div class=\"sk-label-container\"><div class=\"sk-label sk-toggleable\"><input class=\"sk-toggleable__control sk-hidden--visually\" id=\"sk-estimator-id-156\" type=\"checkbox\" ><label for=\"sk-estimator-id-156\" class=\"sk-toggleable__label sk-toggleable__label-arrow\">estimator: Lasso</label><div class=\"sk-toggleable__content\"><pre>Lasso(alpha=0.3)</pre></div></div></div><div class=\"sk-serial\"><div class=\"sk-item\"><div class=\"sk-estimator sk-toggleable\"><input class=\"sk-toggleable__control sk-hidden--visually\" id=\"sk-estimator-id-157\" type=\"checkbox\" ><label for=\"sk-estimator-id-157\" class=\"sk-toggleable__label sk-toggleable__label-arrow\">Lasso</label><div class=\"sk-toggleable__content\"><pre>Lasso(alpha=0.3)</pre></div></div></div></div></div></div></div></div><div class=\"sk-item\"><div class=\"sk-estimator sk-toggleable\"><input class=\"sk-toggleable__control sk-hidden--visually\" id=\"sk-estimator-id-158\" type=\"checkbox\" ><label for=\"sk-estimator-id-158\" class=\"sk-toggleable__label sk-toggleable__label-arrow\">XGBRegressor</label><div class=\"sk-toggleable__content\"><pre>XGBRegressor(base_score=None, booster=None, callbacks=None,\n",
       "             colsample_bylevel=None, colsample_bynode=None,\n",
       "             colsample_bytree=None, device=None, early_stopping_rounds=None,\n",
       "             enable_categorical=False, eval_metric=None, feature_types=None,\n",
       "             gamma=None, grow_policy=None, importance_type=None,\n",
       "             interaction_constraints=None, learning_rate=0.11, max_bin=None,\n",
       "             max_cat_threshold=None, max_cat_to_onehot=None,\n",
       "             max_delta_step=None, max_depth=6, max_leaves=None,\n",
       "             min_child_weight=1, missing=nan, monotone_constraints=None,\n",
       "             multi_strategy=None, n_estimators=100, n_jobs=None,\n",
       "             num_parallel_tree=None, objective=&#x27;reg:tweedie&#x27;, ...)</pre></div></div></div></div></div></div></div>"
      ],
      "text/plain": [
       "Pipeline(steps=[('standardscaler', StandardScaler()),\n",
       "                ('selectfrommodel',\n",
       "                 SelectFromModel(estimator=Lasso(alpha=0.3))),\n",
       "                ('xgbregressor',\n",
       "                 XGBRegressor(base_score=None, booster=None, callbacks=None,\n",
       "                              colsample_bylevel=None, colsample_bynode=None,\n",
       "                              colsample_bytree=None, device=None,\n",
       "                              early_stopping_rounds=None,\n",
       "                              enable_categorical=False, eval_metric=None,\n",
       "                              feature_types...w_policy=None,\n",
       "                              importance_type=None,\n",
       "                              interaction_constraints=None, learning_rate=0.11,\n",
       "                              max_bin=None, max_cat_threshold=None,\n",
       "                              max_cat_to_onehot=None, max_delta_step=None,\n",
       "                              max_depth=6, max_leaves=None, min_child_weight=1,\n",
       "                              missing=nan, monotone_constraints=None,\n",
       "                              multi_strategy=None, n_estimators=100,\n",
       "                              n_jobs=None, num_parallel_tree=None,\n",
       "                              objective='reg:tweedie', ...))])"
      ]
     },
     "execution_count": 523,
     "metadata": {},
     "output_type": "execute_result"
    }
   ],
   "source": [
    "pipeline = make_pipeline(\n",
    "    StandardScaler(),\n",
    "    SelectFromModel(Lasso(alpha = 0.3)),\n",
    "    XGBRegressor(\n",
    "        max_depth=6,\n",
    "        learning_rate=0.11,\n",
    "        n_estimators=100,\n",
    "        min_child_weight=1,\n",
    "        objective='reg:tweedie',\n",
    "        verbosity=1\n",
    "    )\n",
    ")\n",
    "\n",
    "pipeline.fit(X_train, y_train)"
   ]
  },
  {
   "cell_type": "markdown",
   "metadata": {},
   "source": [
    "### Predictions: Best Theoretical Model"
   ]
  },
  {
   "cell_type": "markdown",
   "metadata": {},
   "source": [
    "Now that the model is trained, we can finally evaluate the results. It seems that features such as the hour of the day, lagged bike measurements, holidays and weekends were most useful in the construction of the boosted decision trees within the model. From our logarithmic error plots, we conclude that our model mostly overestimates counts in July 2023, most likely due to the summer months being an anomaly compared to the others (as predicted). One could say that the model is overfitted on the normal working months. This would obviously be easily solved by removing all months but July (and perhaps August) from the training set. However, to keep the model generalizable to future months other than July, and thus more reusable, it is opted to keep the training range as large as possible."
   ]
  },
  {
   "cell_type": "code",
   "execution_count": 524,
   "metadata": {},
   "outputs": [
    {
     "name": "stdout",
     "output_type": "stream",
     "text": [
      "Train set R²: 0.958305853959935\n",
      "Test set R²: 0.9280696489402345\n"
     ]
    },
    {
     "name": "stderr",
     "output_type": "stream",
     "text": [
      "C:\\Users\\Luca Visser\\AppData\\Roaming\\Python\\Python310\\site-packages\\pandas\\core\\arraylike.py:397: RuntimeWarning: invalid value encountered in log10\n",
      "  result = getattr(ufunc, method)(*inputs, **kwargs)\n"
     ]
    },
    {
     "data": {
      "image/png": "[encoded data removed]",
      "text/plain": [
       "<Figure size 432x288 with 1 Axes>"
      ]
     },
     "metadata": {
      "needs_background": "light"
     },
     "output_type": "display_data"
    }
   ],
   "source": [
    "y_hat_train = pipeline.predict(X_train) # predict training data\n",
    "\n",
    "y_hat_test = pipeline.predict(X_test) # predict test data\n",
    "\n",
    "R_train = pipeline.score(X_train, y_train) # Training set R²\n",
    "R_test = pipeline.score(X_test, y_test) # Test set R²\n",
    "\n",
    "print('Train set R²: {}'.format(R_train))\n",
    "print('Test set R²: {}'.format(R_test))\n",
    "\n",
    "save_predictions(\"GBReg_BT\", test_data, y_hat_test)\n",
    "\n",
    "plot_diff(y_test, y_hat_test)"
   ]
  }
 ],
 "metadata": {
  "kernelspec": {
   "display_name": "Python 3",
   "language": "python",
   "name": "python3"
  },
  "language_info": {
   "codemirror_mode": {
    "name": "ipython",
    "version": 3
   },
   "file_extension": ".py",
   "mimetype": "text/x-python",
   "name": "python",
   "nbconvert_exporter": "python",
   "pygments_lexer": "ipython3",
   "version": "3.10.9"
  },
  "papermill": {
   "default_parameters": {},
   "duration": 6.282803,
   "end_time": "2023-10-05T13:07:12.153498",
   "environment_variables": {},
   "exception": null,
   "input_path": "__notebook__.ipynb",
   "output_path": "__notebook__.ipynb",
   "parameters": {},
   "start_time": "2023-10-05T13:07:05.870695",
   "version": "2.4.0"
  }
 },
 "nbformat": 4,
 "nbformat_minor": 5
}
