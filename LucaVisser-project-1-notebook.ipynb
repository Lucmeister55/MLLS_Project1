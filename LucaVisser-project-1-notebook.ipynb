{
 "cells": [
  {
   "cell_type": "markdown",
   "metadata": {},
   "source": [
    "# Project 1 Notebook"
   ]
  },
  {
   "cell_type": "markdown",
   "metadata": {},
   "source": [
    "## Introduction"
   ]
  },
  {
   "cell_type": "markdown",
   "id": "79fc4903",
   "metadata": {
    "papermill": {
     "duration": 0.003807,
     "end_time": "2023-10-05T13:07:10.410584",
     "exception": false,
     "start_time": "2023-10-05T13:07:10.406777",
     "status": "completed"
    },
    "tags": []
   },
   "source": [
    "GitHub Copilot: This notebook contains all the necessary code and annotations for the project. It includes data preprocessing, exploratory data analysis, feature selection, model training, and evaluation steps. For a comprehensive view of all the data and code used in this project, please visit my GitHub page: [GitHub Repository](https://github.com/Lucmeister55/MLLS_Project1)."
   ]
  },
  {
   "cell_type": "markdown",
   "metadata": {},
   "source": [
    "## Raw data Import"
   ]
  },
  {
   "cell_type": "markdown",
   "metadata": {},
   "source": [
    "The first step in our process is to import all the raw datasets that we have at our disposal."
   ]
  },
  {
   "cell_type": "markdown",
   "metadata": {},
   "source": [
    "### Test Dataset"
   ]
  },
  {
   "cell_type": "markdown",
   "metadata": {},
   "source": [
    "Initially, the test set data was procured from the Kaggle competition page (https://www.kaggle.com/competitions/bicycle-counter-prediction/data). This dataset, which represents approximately 48% of the full test set, is aggregated on an hourly basis. Despite its reduced size, the test set covers the entire month of July 2023. The dimensions of the test set, its time range, and a preview of the initial few rows are displayed below."
   ]
  },
  {
   "cell_type": "code",
   "execution_count": 399,
   "metadata": {},
   "outputs": [
    {
     "name": "stdout",
     "output_type": "stream",
     "text": [
      "(744, 2)\n",
      "2023-07-01T00\n",
      "2023-07-31T23\n"
     ]
    },
    {
     "data": {
      "text/html": [
       "<div>\n",
       "<style scoped>\n",
       "    .dataframe tbody tr th:only-of-type {\n",
       "        vertical-align: middle;\n",
       "    }\n",
       "\n",
       "    .dataframe tbody tr th {\n",
       "        vertical-align: top;\n",
       "    }\n",
       "\n",
       "    .dataframe thead th {\n",
       "        text-align: right;\n",
       "    }\n",
       "</style>\n",
       "<table border=\"1\" class=\"dataframe\">\n",
       "  <thead>\n",
       "    <tr style=\"text-align: right;\">\n",
       "      <th></th>\n",
       "      <th>Id</th>\n",
       "      <th>Date_hour</th>\n",
       "    </tr>\n",
       "  </thead>\n",
       "  <tbody>\n",
       "    <tr>\n",
       "      <th>0</th>\n",
       "      <td>0</td>\n",
       "      <td>2023-07-01T00</td>\n",
       "    </tr>\n",
       "    <tr>\n",
       "      <th>1</th>\n",
       "      <td>1</td>\n",
       "      <td>2023-07-01T01</td>\n",
       "    </tr>\n",
       "    <tr>\n",
       "      <th>2</th>\n",
       "      <td>2</td>\n",
       "      <td>2023-07-01T02</td>\n",
       "    </tr>\n",
       "    <tr>\n",
       "      <th>3</th>\n",
       "      <td>3</td>\n",
       "      <td>2023-07-01T03</td>\n",
       "    </tr>\n",
       "    <tr>\n",
       "      <th>4</th>\n",
       "      <td>4</td>\n",
       "      <td>2023-07-01T04</td>\n",
       "    </tr>\n",
       "  </tbody>\n",
       "</table>\n",
       "</div>"
      ],
      "text/plain": [
       "   Id      Date_hour\n",
       "0   0  2023-07-01T00\n",
       "1   1  2023-07-01T01\n",
       "2   2  2023-07-01T02\n",
       "3   3  2023-07-01T03\n",
       "4   4  2023-07-01T04"
      ]
     },
     "execution_count": 399,
     "metadata": {},
     "output_type": "execute_result"
    }
   ],
   "source": [
    "# Import necessary libraries\n",
    "import pandas as pd\n",
    "import numpy as np\n",
    "import datetime\n",
    "\n",
    "# Load the test data from a CSV file\n",
    "test_rawdata = pd.read_csv(\"input/bicycle-counter-prediction/test_data.csv\")\n",
    "\n",
    "# Print the shape of the data (number of rows, number of columns)\n",
    "print(test_rawdata.shape)\n",
    "\n",
    "# Print the earliest date in the \"Date_hour\" column\n",
    "print(min(test_rawdata[\"Date_hour\"]))\n",
    "\n",
    "# Print the latest date in the \"Date_hour\" column\n",
    "print(max(test_rawdata[\"Date_hour\"]))\n",
    "\n",
    "# Display the first 5 rows of the data\n",
    "test_rawdata.head()"
   ]
  },
  {
   "cell_type": "markdown",
   "metadata": {},
   "source": [
    "### Bycicle measurements"
   ]
  },
  {
   "cell_type": "markdown",
   "metadata": {},
   "source": [
    "Bicycle count data from various locations was obtained from the Ghent Open Data Portal (https://data.stad.gent/explore/?disjunctive.keyword&disjunctive.theme&sort=modified). The most relevant datasets, specifically those with a duration of more than two years, were selected for further analysis. These datasets, which represent the cumulative count of cyclists passing every five minutes, were saved yearly in the subsequent code chunk."
   ]
  },
  {
   "cell_type": "code",
   "execution_count": 400,
   "id": "9bd562c1",
   "metadata": {
    "execution": {
     "iopub.execute_input": "2023-10-05T13:07:10.421143Z",
     "iopub.status.busy": "2023-10-05T13:07:10.420739Z",
     "iopub.status.idle": "2023-10-05T13:07:11.322401Z",
     "shell.execute_reply": "2023-10-05T13:07:11.321284Z"
    },
    "papermill": {
     "duration": 0.908964,
     "end_time": "2023-10-05T13:07:11.324928",
     "exception": false,
     "start_time": "2023-10-05T13:07:10.415964",
     "status": "completed"
    },
    "tags": []
   },
   "outputs": [],
   "source": [
    "# Read in data for Coupure Links for the years 2021, 2022, and 2023\n",
    "coupurelinks_2021 = pd.read_csv(\"input/bicycle-counter-prediction/fietstelpaal-coupure-links-2021-gent.csv\", sep = \";\")\n",
    "coupurelinks_2022 = pd.read_csv(\"input/bicycle-counter-prediction/fietstelpaal-coupure-links-2022-gent.csv\", sep = \";\")\n",
    "coupurelinks_2023 = pd.read_csv(\"input/bicycle-counter-prediction/fietstelpaal-coupure-links-2023-gent.csv\", sep = \";\")\n",
    "\n",
    "# Read in data for Groendreef for the years 2021, 2022, and 2023\n",
    "groendreef_2021 = pd.read_csv(\"input/bicycle-counter-prediction/fietstelpaal-groendreef-2021-gent.csv\", sep = \";\")\n",
    "groendreef_2022 = pd.read_csv(\"input/bicycle-counter-prediction/fietstelpaal-groendreef-2022-gent.csv\", sep = \";\")\n",
    "groendreef_2023 = pd.read_csv(\"input/bicycle-counter-prediction/fietstelpaal-groendreef-2023-gent.csv\", sep = \";\")"
   ]
  },
  {
   "cell_type": "markdown",
   "metadata": {},
   "source": [
    "The following step involves merging the yearly datasets for each location into a single comprehensive dataframe. This process allows for a more streamlined analysis of the data over multiple years. Please note that the time ranges for each dataset are also displayed for reference."
   ]
  },
  {
   "cell_type": "code",
   "execution_count": 401,
   "id": "ca288cb9",
   "metadata": {},
   "outputs": [
    {
     "name": "stdout",
     "output_type": "stream",
     "text": [
      "CL\n",
      "2021-03-01\n",
      "2023-07-31\n",
      "GD\n",
      "2021-01-01\n",
      "2023-07-31\n"
     ]
    }
   ],
   "source": [
    "# Concatenate the data for Coupure Links for the years 2021, 2022, and 2023\n",
    "coupurelinks = pd.concat([coupurelinks_2021, coupurelinks_2022, coupurelinks_2023])\n",
    "\n",
    "# Create a copy of the concatenated data\n",
    "bicycle_data = coupurelinks.copy()\n",
    "\n",
    "# Rename the \"Totaal\" column to \"Totaal_CL\"\n",
    "coupurelinks = coupurelinks.rename(columns = {\"Totaal\": \"Totaal_CL\"})\n",
    "\n",
    "# Print the earliest and latest dates in the \"Datum\" column for Coupure Links\n",
    "print(\"CL\")\n",
    "print(min(coupurelinks[\"Datum\"]))\n",
    "print(max(coupurelinks[\"Datum\"]))\n",
    "\n",
    "# Concatenate the data for Groendreef for the years 2021, 2022, and 2023\n",
    "groendreef = pd.concat([groendreef_2021, groendreef_2022, groendreef_2023])\n",
    "\n",
    "# Rename the \"Totaal\" column to \"Totaal_GD\"\n",
    "groendreef = groendreef.rename(columns = {\"Totaal\": \"Totaal_GD\"})\n",
    "\n",
    "# Print the earliest and latest dates in the \"Datum\" column for Groendreef\n",
    "print(\"GD\")\n",
    "print(min(groendreef[\"Datum\"]))\n",
    "print(max(groendreef[\"Datum\"]))"
   ]
  },
  {
   "cell_type": "markdown",
   "metadata": {},
   "source": [
    "Unfortunately, it seems that certain count measurements are missing from the bicycle counter dataset downloaded. This is also mentioned in the corresponding browser overview page of the database portal. Preprocessing of this data will thus be in order."
   ]
  },
  {
   "cell_type": "code",
   "execution_count": 402,
   "metadata": {},
   "outputs": [
    {
     "name": "stdout",
     "output_type": "stream",
     "text": [
      "Code               0\n",
      "Locatie             0\n",
      "Datum               0\n",
      "Uur5Minuten         0\n",
      "Ordening            0\n",
      "Totaal           4032\n",
      "Tegenrichting    4032\n",
      "Hoofdrichting    4032\n",
      "dtype: int64\n"
     ]
    }
   ],
   "source": [
    "# Print the number of missing values in each column of the bicycle_data DataFrame\n",
    "print(bicycle_data.isna().sum())"
   ]
  },
  {
   "cell_type": "markdown",
   "metadata": {},
   "source": [
    "### Weather"
   ]
  },
  {
   "cell_type": "markdown",
   "metadata": {},
   "source": [
    "Weather conditions play a pivotal role in influencing an individual's decision to cycle, making it a crucial factor in our predictive model. The weather data used in this analysis was sourced from Open Meteo (https://open-meteo.com/en/docs/historical-weather-api#latitude=51.05&longitude=3.7167). The features we selected for this study include objective and apparent temperature (measured in degrees Celsius), precipitation (recorded in millimeters for both rain and snow), cloud cover at all altitudes, and a boolean variable indicating day or nighttime.\n",
    "\n",
    "Out of the 33,576 rows in this dataset, 24 contain missing values. Given the negligible fraction of missing data, we decided to remove these rows instead of imputing them.\n",
    "\n",
    "- **Objective temperature (float)**: This feature represents the ambient temperature, excluding the effects of wind and other environmental factors.\n",
    "- **Apparent temperature (float)**: This is the temperature as perceived by humans, taking into account all environmental effects such as wind and humidity.\n",
    "- **Precipitation (float)**: High levels of rainfall or snow accumulation can deter individuals from cycling due to discomfort or safety concerns. This feature captures the total precipitation in millimeters.\n",
    "- **Cloud cover (float)**: This feature represents the fraction of the sky obscured by clouds at all altitudes. It is associated with weather conditions like rain, storms, and temperature, and can significantly impact the cycling experience.\n",
    "- **Day boolean (log)**: This boolean variable indicates whether it's day or night. Generally, cycling conditions are better during the day, which also aligns with societal \"active\" hours.\n",
    "\n",
    "While weather conditions significantly influence cycling patterns, it's important to note that they alone may not be sufficient to accurately predict the number of cyclists at a given time. For instance, while colder temperatures might deter cycling, this isn't a linear or independent relationship. Warmer temperatures are more prevalent during summer, a period when cycling activity may decrease due to holidays (given that students and working individuals constitute a large portion of cyclists). Therefore, additional features are necessary to capture these seasonal variations.\n",
    "\n",
    "In addition to weather data, other factors such as local events, public holidays, school schedules, and traffic conditions can also influence cycling patterns. By incorporating these additional features into our model, we can better capture the complex interplay of factors that influence an individual's decision to cycle, thereby improving the accuracy of our predictions."
   ]
  },
  {
   "cell_type": "code",
   "execution_count": 403,
   "metadata": {},
   "outputs": [
    {
     "name": "stdout",
     "output_type": "stream",
     "text": [
      "(33576, 9)\n"
     ]
    },
    {
     "data": {
      "text/html": [
       "<div>\n",
       "<style scoped>\n",
       "    .dataframe tbody tr th:only-of-type {\n",
       "        vertical-align: middle;\n",
       "    }\n",
       "\n",
       "    .dataframe tbody tr th {\n",
       "        vertical-align: top;\n",
       "    }\n",
       "\n",
       "    .dataframe thead th {\n",
       "        text-align: right;\n",
       "    }\n",
       "</style>\n",
       "<table border=\"1\" class=\"dataframe\">\n",
       "  <thead>\n",
       "    <tr style=\"text-align: right;\">\n",
       "      <th></th>\n",
       "      <th>time</th>\n",
       "      <th>temperature_2m (°C)</th>\n",
       "      <th>apparent_temperature (°C)</th>\n",
       "      <th>precipitation (mm)</th>\n",
       "      <th>cloud_cover (%)</th>\n",
       "      <th>cloud_cover_low (%)</th>\n",
       "      <th>cloud_cover_mid (%)</th>\n",
       "      <th>cloud_cover_high (%)</th>\n",
       "      <th>is_day ()</th>\n",
       "    </tr>\n",
       "  </thead>\n",
       "  <tbody>\n",
       "    <tr>\n",
       "      <th>0</th>\n",
       "      <td>2020-01-01T00:00</td>\n",
       "      <td>3.3</td>\n",
       "      <td>-0.1</td>\n",
       "      <td>0.0</td>\n",
       "      <td>44.0</td>\n",
       "      <td>49.0</td>\n",
       "      <td>0.0</td>\n",
       "      <td>0.0</td>\n",
       "      <td>0</td>\n",
       "    </tr>\n",
       "    <tr>\n",
       "      <th>1</th>\n",
       "      <td>2020-01-01T01:00</td>\n",
       "      <td>2.8</td>\n",
       "      <td>-0.6</td>\n",
       "      <td>0.0</td>\n",
       "      <td>17.0</td>\n",
       "      <td>19.0</td>\n",
       "      <td>0.0</td>\n",
       "      <td>0.0</td>\n",
       "      <td>0</td>\n",
       "    </tr>\n",
       "    <tr>\n",
       "      <th>2</th>\n",
       "      <td>2020-01-01T02:00</td>\n",
       "      <td>2.5</td>\n",
       "      <td>-1.0</td>\n",
       "      <td>0.0</td>\n",
       "      <td>10.0</td>\n",
       "      <td>11.0</td>\n",
       "      <td>0.0</td>\n",
       "      <td>0.0</td>\n",
       "      <td>0</td>\n",
       "    </tr>\n",
       "    <tr>\n",
       "      <th>3</th>\n",
       "      <td>2020-01-01T03:00</td>\n",
       "      <td>1.9</td>\n",
       "      <td>-1.6</td>\n",
       "      <td>0.0</td>\n",
       "      <td>3.0</td>\n",
       "      <td>3.0</td>\n",
       "      <td>0.0</td>\n",
       "      <td>0.0</td>\n",
       "      <td>0</td>\n",
       "    </tr>\n",
       "    <tr>\n",
       "      <th>4</th>\n",
       "      <td>2020-01-01T04:00</td>\n",
       "      <td>1.4</td>\n",
       "      <td>-2.2</td>\n",
       "      <td>0.0</td>\n",
       "      <td>0.0</td>\n",
       "      <td>0.0</td>\n",
       "      <td>0.0</td>\n",
       "      <td>0.0</td>\n",
       "      <td>0</td>\n",
       "    </tr>\n",
       "  </tbody>\n",
       "</table>\n",
       "</div>"
      ],
      "text/plain": [
       "               time  temperature_2m (°C)  apparent_temperature (°C)  \\\n",
       "0  2020-01-01T00:00                  3.3                       -0.1   \n",
       "1  2020-01-01T01:00                  2.8                       -0.6   \n",
       "2  2020-01-01T02:00                  2.5                       -1.0   \n",
       "3  2020-01-01T03:00                  1.9                       -1.6   \n",
       "4  2020-01-01T04:00                  1.4                       -2.2   \n",
       "\n",
       "   precipitation (mm)  cloud_cover (%)  cloud_cover_low (%)  \\\n",
       "0                 0.0             44.0                 49.0   \n",
       "1                 0.0             17.0                 19.0   \n",
       "2                 0.0             10.0                 11.0   \n",
       "3                 0.0              3.0                  3.0   \n",
       "4                 0.0              0.0                  0.0   \n",
       "\n",
       "   cloud_cover_mid (%)  cloud_cover_high (%)  is_day ()  \n",
       "0                  0.0                   0.0          0  \n",
       "1                  0.0                   0.0          0  \n",
       "2                  0.0                   0.0          0  \n",
       "3                  0.0                   0.0          0  \n",
       "4                  0.0                   0.0          0  "
      ]
     },
     "execution_count": 403,
     "metadata": {},
     "output_type": "execute_result"
    }
   ],
   "source": [
    "# Read in weather data from a CSV file, skipping the first 2 rows and dropping any rows with missing values\n",
    "weather_rawdata = pd.read_csv(\"input/bicycle-counter-prediction/open-meteo-51.07N3.71E13m.csv\", skiprows=2).dropna()\n",
    "\n",
    "# Print the shape of the weather data (number of rows, number of columns)\n",
    "print(weather_rawdata.shape)\n",
    "\n",
    "# Display the first 5 rows of the weather data\n",
    "weather_rawdata.head()"
   ]
  },
  {
   "cell_type": "markdown",
   "metadata": {},
   "source": [
    "### School Holidays"
   ]
  },
  {
   "cell_type": "markdown",
   "metadata": {},
   "source": [
    "School holidays in primary and secondary academic institutions can significantly impact the number of cyclists in the region. This is particularly true for areas near schools, where cycling is a common mode of transportation for students and their parents. \n",
    "\n",
    "For instance, there's a school located just across the river from the bicycle counter at Coupure Links. On a typical school day, this area would see a high volume of cycling traffic as students and parents commute to and from school. However, during school holidays, this pattern changes. \n",
    "\n",
    "With no school sessions, the need for students and their parents to commute reduces drastically. As a result, we can expect a noticeable decrease in cycling traffic at this location during these periods. This pattern is not just limited to the immediate vicinity of the school. The ripple effect of school holidays could potentially influence cycling patterns in the broader region as well.\n",
    "\n",
    "Therefore, when predicting bicycle counts, it's crucial to take into account the school calendar. By doing so, we can make more accurate predictions that reflect the real-world fluctuations in cycling activity."
   ]
  },
  {
   "cell_type": "code",
   "execution_count": 404,
   "metadata": {},
   "outputs": [
    {
     "name": "stdout",
     "output_type": "stream",
     "text": [
      "{'Christmas holiday 2020': [datetime.datetime(2020, 12, 21, 0, 0), datetime.datetime(2021, 1, 3, 0, 0)], 'Spring break 2021': [datetime.datetime(2021, 2, 15, 0, 0), datetime.datetime(2021, 2, 21, 0, 0)], 'Easter holiday 2021': [datetime.datetime(2021, 4, 5, 0, 0), datetime.datetime(2021, 4, 18, 0, 0)], 'Summer holiday 2021': [datetime.datetime(2021, 7, 1, 0, 0), datetime.datetime(2021, 8, 31, 0, 0)], 'Autumn break 2021': [datetime.datetime(2021, 11, 1, 0, 0), datetime.datetime(2021, 11, 7, 0, 0)], 'Christmas holiday 2021': [datetime.datetime(2021, 12, 27, 0, 0), datetime.datetime(2022, 1, 9, 0, 0)], 'Spring break 2022': [datetime.datetime(2022, 2, 28, 0, 0), datetime.datetime(2022, 3, 6, 0, 0)], 'Easter holiday 2022': [datetime.datetime(2022, 4, 4, 0, 0), datetime.datetime(2022, 4, 18, 0, 0)], 'Summer holiday 2022': [datetime.datetime(2022, 7, 1, 0, 0), datetime.datetime(2022, 8, 31, 0, 0)], 'Autumn break 2022': [datetime.datetime(2022, 10, 31, 0, 0), datetime.datetime(2022, 11, 6, 0, 0)], 'Christmas holiday 2022': [datetime.datetime(2022, 12, 26, 0, 0), datetime.datetime(2023, 1, 8, 0, 0)], 'Spring break 2023': [datetime.datetime(2023, 2, 20, 0, 0), datetime.datetime(2023, 2, 26, 0, 0)], 'Easter holiday 2023': [datetime.datetime(2023, 4, 3, 0, 0), datetime.datetime(2023, 4, 16, 0, 0)], 'Summer holiday 2023': [datetime.datetime(2023, 7, 1, 0, 0), datetime.datetime(2023, 8, 31, 0, 0)], 'Autumn break 2023': [datetime.datetime(2023, 10, 30, 0, 0), datetime.datetime(2023, 11, 5, 0, 0)], 'Christmas holiday 2023': [datetime.datetime(2023, 12, 25, 0, 0), datetime.datetime(2024, 1, 7, 0, 0)]}\n"
     ]
    }
   ],
   "source": [
    "# Read in school holidays data from a CSV file\n",
    "school_holidays_data = pd.read_csv(\"input/bicycle-counter-prediction/school_holidays.csv\", sep = \";\")\n",
    "\n",
    "# Import the datetime module\n",
    "import datetime\n",
    "\n",
    "# Initialize an empty dictionary to store the school holidays data\n",
    "school_holidays = {}\n",
    "\n",
    "# Loop over each row in the school holidays data\n",
    "for index, row in school_holidays_data.iterrows():\n",
    "    # For each row, add an entry to the dictionary with the name of the holiday as the key and the start and end dates as the value\n",
    "    school_holidays[row['name']] = [datetime.datetime.strptime(row['start'], '%Y-%m-%d'), datetime.datetime.strptime(row['end'], '%Y-%m-%d')]\n",
    "\n",
    "# Print the school holidays dictionary\n",
    "print(school_holidays)"
   ]
  },
  {
   "cell_type": "markdown",
   "metadata": {},
   "source": [
    "### Public holidays"
   ]
  },
  {
   "cell_type": "markdown",
   "metadata": {},
   "source": [
    "Cycling is a common mode of transportation for many individuals commuting to work. On public holidays, however, we can anticipate a significant reduction in this type of cycling traffic. This is because many workplaces are closed on these days, eliminating the need for employees to commute. Therefore, the count of cyclists recorded on public holidays is likely to be lower compared to regular working days. This factor is important to consider when predicting bicycle counts."
   ]
  },
  {
   "cell_type": "code",
   "execution_count": 405,
   "metadata": {},
   "outputs": [
    {
     "name": "stdout",
     "output_type": "stream",
     "text": [
      "{datetime.date(2021, 1, 1): 'Nieuwjaar', datetime.date(2021, 4, 4): 'Pasen', datetime.date(2021, 4, 5): 'Paasmaandag', datetime.date(2021, 5, 1): 'Dag van de Arbeid', datetime.date(2021, 5, 13): 'O. L. H. Hemelvaart', datetime.date(2021, 5, 23): 'Pinksteren', datetime.date(2021, 5, 24): 'Pinkstermaandag', datetime.date(2021, 7, 21): 'Nationale feestdag', datetime.date(2021, 8, 15): 'O. L. V. Hemelvaart', datetime.date(2021, 11, 1): 'Allerheiligen', datetime.date(2021, 11, 11): 'Wapenstilstand', datetime.date(2021, 12, 25): 'Kerstmis', datetime.date(2022, 1, 1): 'Nieuwjaar', datetime.date(2022, 4, 17): 'Pasen', datetime.date(2022, 4, 18): 'Paasmaandag', datetime.date(2022, 5, 1): 'Dag van de Arbeid', datetime.date(2022, 5, 26): 'O. L. H. Hemelvaart', datetime.date(2022, 6, 5): 'Pinksteren', datetime.date(2022, 6, 6): 'Pinkstermaandag', datetime.date(2022, 7, 21): 'Nationale feestdag', datetime.date(2022, 8, 15): 'O. L. V. Hemelvaart', datetime.date(2022, 11, 1): 'Allerheiligen', datetime.date(2022, 11, 11): 'Wapenstilstand', datetime.date(2022, 12, 25): 'Kerstmis', datetime.date(2023, 1, 1): 'Nieuwjaar', datetime.date(2023, 4, 9): 'Pasen', datetime.date(2023, 4, 10): 'Paasmaandag', datetime.date(2023, 5, 1): 'Dag van de Arbeid', datetime.date(2023, 5, 18): 'O. L. H. Hemelvaart', datetime.date(2023, 5, 28): 'Pinksteren', datetime.date(2023, 5, 29): 'Pinkstermaandag', datetime.date(2023, 7, 21): 'Nationale feestdag', datetime.date(2023, 8, 15): 'O. L. V. Hemelvaart', datetime.date(2023, 11, 1): 'Allerheiligen', datetime.date(2023, 11, 11): 'Wapenstilstand', datetime.date(2023, 12, 25): 'Kerstmis'}\n"
     ]
    }
   ],
   "source": [
    "# Import the holidays library\n",
    "import holidays\n",
    "\n",
    "# Get a list of Belgian holidays for the years 2021, 2022, and 2023\n",
    "belgian_holidays = holidays.Belgium(years=[2021, 2022, 2023])\n",
    "\n",
    "# Print the list of Belgian holidays\n",
    "print(belgian_holidays)"
   ]
  },
  {
   "cell_type": "markdown",
   "metadata": {},
   "source": [
    "## Mundane data preprocessing"
   ]
  },
  {
   "cell_type": "markdown",
   "metadata": {},
   "source": [
    "### Bicycle measurements"
   ]
  },
  {
   "cell_type": "markdown",
   "metadata": {},
   "source": [
    "To address the issue of missing count values in our dataset, we will employ an imputation strategy. Specifically, we will use a simple imputer, a method that replaces missing values with a descriptive statistic calculated for each column. In this case, we will use the mean of each column to replace the missing values. This approach helps maintain the overall distribution of the data while filling in the gaps where data is missing.\n",
    "\n",
    "However, it's important to note that imputation methods can introduce some level of bias into the data, as they essentially involve making assumptions about the missing values based on the existing data. Therefore, the choice of imputation method should be carefully considered based on the nature of the data and the specific requirements of the analysis.\n",
    "\n",
    "In addition to imputing missing values, we will also transform the measurements to be summed across every hour. This is to ensure consistency with the test set, which is aggregated on an hourly basis. By aligning the granularity of our training data with that of the test set, we can ensure that our model is trained and evaluated on data with the same structure and scale, thereby improving the reliability of our predictions."
   ]
  },
  {
   "cell_type": "code",
   "execution_count": 406,
   "id": "90dd7d54",
   "metadata": {},
   "outputs": [
    {
     "name": "stdout",
     "output_type": "stream",
     "text": [
      "(21189, 3)\n",
      "2021-03-01T00\n",
      "2023-07-31T23\n"
     ]
    },
    {
     "data": {
      "text/html": [
       "<div>\n",
       "<style scoped>\n",
       "    .dataframe tbody tr th:only-of-type {\n",
       "        vertical-align: middle;\n",
       "    }\n",
       "\n",
       "    .dataframe tbody tr th {\n",
       "        vertical-align: top;\n",
       "    }\n",
       "\n",
       "    .dataframe thead th {\n",
       "        text-align: right;\n",
       "    }\n",
       "</style>\n",
       "<table border=\"1\" class=\"dataframe\">\n",
       "  <thead>\n",
       "    <tr style=\"text-align: right;\">\n",
       "      <th></th>\n",
       "      <th>Datum</th>\n",
       "      <th>Date_hour</th>\n",
       "      <th>Totaal</th>\n",
       "    </tr>\n",
       "  </thead>\n",
       "  <tbody>\n",
       "    <tr>\n",
       "      <th>0</th>\n",
       "      <td>2021-03-01</td>\n",
       "      <td>2021-03-01T00</td>\n",
       "      <td>5</td>\n",
       "    </tr>\n",
       "    <tr>\n",
       "      <th>1</th>\n",
       "      <td>2021-03-01</td>\n",
       "      <td>2021-03-01T01</td>\n",
       "      <td>1</td>\n",
       "    </tr>\n",
       "    <tr>\n",
       "      <th>2</th>\n",
       "      <td>2021-03-01</td>\n",
       "      <td>2021-03-01T02</td>\n",
       "      <td>0</td>\n",
       "    </tr>\n",
       "    <tr>\n",
       "      <th>3</th>\n",
       "      <td>2021-03-01</td>\n",
       "      <td>2021-03-01T03</td>\n",
       "      <td>2</td>\n",
       "    </tr>\n",
       "    <tr>\n",
       "      <th>4</th>\n",
       "      <td>2021-03-01</td>\n",
       "      <td>2021-03-01T04</td>\n",
       "      <td>21</td>\n",
       "    </tr>\n",
       "  </tbody>\n",
       "</table>\n",
       "</div>"
      ],
      "text/plain": [
       "        Datum      Date_hour  Totaal\n",
       "0  2021-03-01  2021-03-01T00       5\n",
       "1  2021-03-01  2021-03-01T01       1\n",
       "2  2021-03-01  2021-03-01T02       0\n",
       "3  2021-03-01  2021-03-01T03       2\n",
       "4  2021-03-01  2021-03-01T04      21"
      ]
     },
     "execution_count": 406,
     "metadata": {},
     "output_type": "execute_result"
    }
   ],
   "source": [
    "# Import necessary modules for imputation\n",
    "from sklearn.experimental import enable_iterative_imputer\n",
    "from sklearn.impute import SimpleImputer, IterativeImputer, KNNImputer\n",
    "\n",
    "# Extract the date and hour from the 'Ordening' column and store it in a new column 'Date_hour'\n",
    "bicycle_data[\"Date_hour\"] = bicycle_data['Ordening'].str.extract(r'^(.*?T\\d{2})..')\n",
    "\n",
    "# Initialize a SimpleImputer\n",
    "imputer = SimpleImputer()\n",
    "\n",
    "# Use the imputer to fill in missing values in the columns that start with 'Totaal'\n",
    "bicycle_imputed = imputer.fit_transform(bicycle_data.filter(regex='^Totaal', axis=1))\n",
    "\n",
    "# Replace the original columns with the imputed data, rounding to the nearest integer\n",
    "bicycle_data[bicycle_data.filter(regex='^Totaal', axis=1).columns] = bicycle_imputed.round().astype(int)\n",
    "\n",
    "# Group the data by 'Datum' and 'Date_hour', summing the 'Totaal' column, and reset the index\n",
    "bicycle_data = bicycle_data.groupby(['Datum', 'Date_hour']).agg({'Totaal': 'sum'}).reset_index()\n",
    "\n",
    "# Print the shape of the data (number of rows, number of columns)\n",
    "print(bicycle_data.shape)\n",
    "\n",
    "# Print the earliest and latest dates in the 'Date_hour' column\n",
    "print(min(bicycle_data[\"Date_hour\"]))\n",
    "print(max(bicycle_data[\"Date_hour\"]))\n",
    "\n",
    "# Display the first 5 rows of the data\n",
    "bicycle_data.head()"
   ]
  },
  {
   "cell_type": "markdown",
   "metadata": {},
   "source": [
    "As we can see, there are no longer any missing values present in the dataset after imputation."
   ]
  },
  {
   "cell_type": "code",
   "execution_count": 407,
   "metadata": {},
   "outputs": [
    {
     "name": "stdout",
     "output_type": "stream",
     "text": [
      "Datum        0\n",
      "Date_hour    0\n",
      "Totaal       0\n",
      "dtype: int64\n"
     ]
    }
   ],
   "source": [
    "# Print the number of missing values in each column of the bicycle_data DataFrame\n",
    "print(bicycle_data.isna().sum())"
   ]
  },
  {
   "cell_type": "markdown",
   "metadata": {},
   "source": [
    "To address the issue of autocorrelation in our dataset, we will incorporate a transformed Coupure Links response (\"Totaal\") column as a feature. This feature will be lagged by one year relative to the time point indexation. Autocorrelation refers to the correlation of a time series with a lagged version of itself. By including a lagged feature in our model, we can capture the temporal dependencies in our data, which is a common approach in time-series analysis.\n",
    "\n",
    "However, this approach introduces additional missing values in our dataset. This is because for the initial period of our dataset (e.g., 2020), there is no corresponding lagged data from the previous year. Therefore, we will need to perform imputation on both the raw Coupure Links dataset and the newly created lagged feature.\n",
    "\n",
    "It's important to note that while dealing with autocorrelation is a common practice in time-series analysis, it's not strictly necessary in this case. However, our preliminary analysis suggests that including a lagged feature improves the performance of our model on the test set.\n",
    "\n",
    "In time-series analysis, it's crucial to consider the temporal dependencies in the data. By incorporating a lagged feature in our model, we are able to capture the influence of past observations on the current observation. This can provide our model with valuable information that can enhance its predictive power. However, this approach should be used with caution, as it can introduce additional complexity into our model and may lead to overfitting if not properly managed."
   ]
  },
  {
   "cell_type": "code",
   "execution_count": 408,
   "metadata": {},
   "outputs": [
    {
     "data": {
      "text/html": [
       "<div>\n",
       "<style scoped>\n",
       "    .dataframe tbody tr th:only-of-type {\n",
       "        vertical-align: middle;\n",
       "    }\n",
       "\n",
       "    .dataframe tbody tr th {\n",
       "        vertical-align: top;\n",
       "    }\n",
       "\n",
       "    .dataframe thead th {\n",
       "        text-align: right;\n",
       "    }\n",
       "</style>\n",
       "<table border=\"1\" class=\"dataframe\">\n",
       "  <thead>\n",
       "    <tr style=\"text-align: right;\">\n",
       "      <th></th>\n",
       "      <th>Datum</th>\n",
       "      <th>Date_hour</th>\n",
       "      <th>Totaal_CL</th>\n",
       "      <th>LaggedTotaal_CL_year</th>\n",
       "    </tr>\n",
       "  </thead>\n",
       "  <tbody>\n",
       "    <tr>\n",
       "      <th>0</th>\n",
       "      <td>2021-03-01</td>\n",
       "      <td>2021-03-01T00</td>\n",
       "      <td>5</td>\n",
       "      <td>NaN</td>\n",
       "    </tr>\n",
       "    <tr>\n",
       "      <th>1</th>\n",
       "      <td>2021-03-01</td>\n",
       "      <td>2021-03-01T01</td>\n",
       "      <td>1</td>\n",
       "      <td>NaN</td>\n",
       "    </tr>\n",
       "    <tr>\n",
       "      <th>2</th>\n",
       "      <td>2021-03-01</td>\n",
       "      <td>2021-03-01T02</td>\n",
       "      <td>0</td>\n",
       "      <td>NaN</td>\n",
       "    </tr>\n",
       "    <tr>\n",
       "      <th>3</th>\n",
       "      <td>2021-03-01</td>\n",
       "      <td>2021-03-01T03</td>\n",
       "      <td>2</td>\n",
       "      <td>NaN</td>\n",
       "    </tr>\n",
       "    <tr>\n",
       "      <th>4</th>\n",
       "      <td>2021-03-01</td>\n",
       "      <td>2021-03-01T04</td>\n",
       "      <td>21</td>\n",
       "      <td>NaN</td>\n",
       "    </tr>\n",
       "  </tbody>\n",
       "</table>\n",
       "</div>"
      ],
      "text/plain": [
       "        Datum      Date_hour  Totaal_CL  LaggedTotaal_CL_year\n",
       "0  2021-03-01  2021-03-01T00          5                   NaN\n",
       "1  2021-03-01  2021-03-01T01          1                   NaN\n",
       "2  2021-03-01  2021-03-01T02          0                   NaN\n",
       "3  2021-03-01  2021-03-01T03          2                   NaN\n",
       "4  2021-03-01  2021-03-01T04         21                   NaN"
      ]
     },
     "execution_count": 408,
     "metadata": {},
     "output_type": "execute_result"
    }
   ],
   "source": [
    "# Extract the date and hour from the 'Ordening' column and store it in a new column 'Date_hour'\n",
    "coupurelinks[\"Date_hour\"] = coupurelinks['Ordening'].str.extract(r'^(.*?T\\d{2})..')\n",
    "\n",
    "# Use the imputer to fill in missing values in the columns that start with 'Totaal'\n",
    "coupurelinks_imputed = imputer.fit_transform(coupurelinks.filter(regex='^Totaal', axis=1))\n",
    "\n",
    "# Replace the original columns with the imputed data, rounding to the nearest integer\n",
    "coupurelinks[coupurelinks.filter(regex='^Totaal', axis=1).columns] = coupurelinks_imputed.round().astype(int)\n",
    "\n",
    "# Group the data by 'Datum' and 'Date_hour', summing the 'Totaal_CL' column, and reset the index\n",
    "coupurelinks = coupurelinks.groupby(['Datum', 'Date_hour']).agg({'Totaal_CL': \"sum\"}).reset_index()\n",
    "\n",
    "# Set the index of the DataFrame to be the 'Date_hour' column\n",
    "coupurelinks = coupurelinks.set_index(pd.DatetimeIndex(coupurelinks['Date_hour']))\n",
    "\n",
    "# Create a new column 'LaggedTotaal_CL_year' that is the 'Totaal_CL' column shifted by one year\n",
    "coupurelinks['LaggedTotaal_CL_year'] = coupurelinks['Totaal_CL'].shift(freq=pd.DateOffset(years=1))\n",
    "\n",
    "# Reset the index of the DataFrame\n",
    "coupurelinks = coupurelinks.reset_index(drop = True)\n",
    "\n",
    "# Display the first 5 rows of the DataFrame\n",
    "coupurelinks.head()"
   ]
  },
  {
   "cell_type": "markdown",
   "metadata": {},
   "source": [
    "Now we'll do the exact same for our other bike counters:"
   ]
  },
  {
   "cell_type": "code",
   "execution_count": 409,
   "metadata": {},
   "outputs": [
    {
     "data": {
      "text/html": [
       "<div>\n",
       "<style scoped>\n",
       "    .dataframe tbody tr th:only-of-type {\n",
       "        vertical-align: middle;\n",
       "    }\n",
       "\n",
       "    .dataframe tbody tr th {\n",
       "        vertical-align: top;\n",
       "    }\n",
       "\n",
       "    .dataframe thead th {\n",
       "        text-align: right;\n",
       "    }\n",
       "</style>\n",
       "<table border=\"1\" class=\"dataframe\">\n",
       "  <thead>\n",
       "    <tr style=\"text-align: right;\">\n",
       "      <th></th>\n",
       "      <th>Datum</th>\n",
       "      <th>Date_hour</th>\n",
       "      <th>Totaal_GD</th>\n",
       "      <th>LaggedTotaal_GD_year</th>\n",
       "    </tr>\n",
       "  </thead>\n",
       "  <tbody>\n",
       "    <tr>\n",
       "      <th>0</th>\n",
       "      <td>2021-01-01</td>\n",
       "      <td>2021-01-01T00</td>\n",
       "      <td>5</td>\n",
       "      <td>NaN</td>\n",
       "    </tr>\n",
       "    <tr>\n",
       "      <th>1</th>\n",
       "      <td>2021-01-01</td>\n",
       "      <td>2021-01-01T01</td>\n",
       "      <td>0</td>\n",
       "      <td>NaN</td>\n",
       "    </tr>\n",
       "    <tr>\n",
       "      <th>2</th>\n",
       "      <td>2021-01-01</td>\n",
       "      <td>2021-01-01T02</td>\n",
       "      <td>1</td>\n",
       "      <td>NaN</td>\n",
       "    </tr>\n",
       "    <tr>\n",
       "      <th>3</th>\n",
       "      <td>2021-01-01</td>\n",
       "      <td>2021-01-01T03</td>\n",
       "      <td>0</td>\n",
       "      <td>NaN</td>\n",
       "    </tr>\n",
       "    <tr>\n",
       "      <th>4</th>\n",
       "      <td>2021-01-01</td>\n",
       "      <td>2021-01-01T04</td>\n",
       "      <td>2</td>\n",
       "      <td>NaN</td>\n",
       "    </tr>\n",
       "  </tbody>\n",
       "</table>\n",
       "</div>"
      ],
      "text/plain": [
       "        Datum      Date_hour  Totaal_GD  LaggedTotaal_GD_year\n",
       "0  2021-01-01  2021-01-01T00          5                   NaN\n",
       "1  2021-01-01  2021-01-01T01          0                   NaN\n",
       "2  2021-01-01  2021-01-01T02          1                   NaN\n",
       "3  2021-01-01  2021-01-01T03          0                   NaN\n",
       "4  2021-01-01  2021-01-01T04          2                   NaN"
      ]
     },
     "execution_count": 409,
     "metadata": {},
     "output_type": "execute_result"
    }
   ],
   "source": [
    "# Groendreef\n",
    "\n",
    "# Extract the date and hour from the 'Ordening' column and store it in a new column 'Date_hour'\n",
    "groendreef[\"Date_hour\"] = groendreef['Ordening'].str.extract(r'^(.*?T\\d{2})..')\n",
    "\n",
    "# Use the imputer to fill in missing values in the columns that start with 'Totaal'\n",
    "groendreef_imputed = imputer.fit_transform(groendreef.filter(regex='^Totaal', axis=1))\n",
    "\n",
    "# Replace the original columns with the imputed data, rounding to the nearest integer\n",
    "groendreef[groendreef.filter(regex='^Totaal', axis=1).columns] = groendreef_imputed.round().astype(int)\n",
    "\n",
    "# Group the data by 'Datum' and 'Date_hour', summing the 'Totaal_GD' column, and reset the index\n",
    "groendreef = groendreef.groupby(['Datum', 'Date_hour']).agg({'Totaal_GD': \"sum\"}).reset_index()\n",
    "\n",
    "# Set the index of the DataFrame to be the 'Date_hour' column\n",
    "groendreef = groendreef.set_index(pd.DatetimeIndex(groendreef['Date_hour']))\n",
    "\n",
    "# Create a new column 'LaggedTotaal_GD_year' that is the 'Totaal_GD' column shifted by one year\n",
    "groendreef['LaggedTotaal_GD_year'] = groendreef['Totaal_GD'].shift(freq=pd.DateOffset(years=1))\n",
    "\n",
    "# Reset the index of the DataFrame\n",
    "groendreef = groendreef.reset_index(drop = True)\n",
    "\n",
    "# Display the first 5 rows of the DataFrame\n",
    "groendreef.head()"
   ]
  },
  {
   "cell_type": "markdown",
   "metadata": {},
   "source": [
    "In this code snippet, the lagged features are merged with the main Coupure Links bicycle DataFrame."
   ]
  },
  {
   "cell_type": "code",
   "execution_count": 410,
   "metadata": {},
   "outputs": [
    {
     "name": "stdout",
     "output_type": "stream",
     "text": [
      "Datum                      0\n",
      "Date_hour                  0\n",
      "Totaal                     0\n",
      "LaggedTotaal_CL_year    8761\n",
      "LaggedTotaal_GD_year    7345\n",
      "dtype: int64\n"
     ]
    },
    {
     "data": {
      "text/html": [
       "<div>\n",
       "<style scoped>\n",
       "    .dataframe tbody tr th:only-of-type {\n",
       "        vertical-align: middle;\n",
       "    }\n",
       "\n",
       "    .dataframe tbody tr th {\n",
       "        vertical-align: top;\n",
       "    }\n",
       "\n",
       "    .dataframe thead th {\n",
       "        text-align: right;\n",
       "    }\n",
       "</style>\n",
       "<table border=\"1\" class=\"dataframe\">\n",
       "  <thead>\n",
       "    <tr style=\"text-align: right;\">\n",
       "      <th></th>\n",
       "      <th>Datum</th>\n",
       "      <th>Date_hour</th>\n",
       "      <th>Totaal</th>\n",
       "      <th>LaggedTotaal_CL_year</th>\n",
       "      <th>LaggedTotaal_GD_year</th>\n",
       "    </tr>\n",
       "  </thead>\n",
       "  <tbody>\n",
       "    <tr>\n",
       "      <th>0</th>\n",
       "      <td>2021-03-01</td>\n",
       "      <td>2021-03-01T00</td>\n",
       "      <td>5</td>\n",
       "      <td>NaN</td>\n",
       "      <td>NaN</td>\n",
       "    </tr>\n",
       "    <tr>\n",
       "      <th>1</th>\n",
       "      <td>2021-03-01</td>\n",
       "      <td>2021-03-01T01</td>\n",
       "      <td>1</td>\n",
       "      <td>NaN</td>\n",
       "      <td>NaN</td>\n",
       "    </tr>\n",
       "    <tr>\n",
       "      <th>2</th>\n",
       "      <td>2021-03-01</td>\n",
       "      <td>2021-03-01T02</td>\n",
       "      <td>0</td>\n",
       "      <td>NaN</td>\n",
       "      <td>NaN</td>\n",
       "    </tr>\n",
       "    <tr>\n",
       "      <th>3</th>\n",
       "      <td>2021-03-01</td>\n",
       "      <td>2021-03-01T03</td>\n",
       "      <td>2</td>\n",
       "      <td>NaN</td>\n",
       "      <td>NaN</td>\n",
       "    </tr>\n",
       "    <tr>\n",
       "      <th>4</th>\n",
       "      <td>2021-03-01</td>\n",
       "      <td>2021-03-01T04</td>\n",
       "      <td>21</td>\n",
       "      <td>NaN</td>\n",
       "      <td>NaN</td>\n",
       "    </tr>\n",
       "  </tbody>\n",
       "</table>\n",
       "</div>"
      ],
      "text/plain": [
       "        Datum      Date_hour  Totaal  LaggedTotaal_CL_year  \\\n",
       "0  2021-03-01  2021-03-01T00       5                   NaN   \n",
       "1  2021-03-01  2021-03-01T01       1                   NaN   \n",
       "2  2021-03-01  2021-03-01T02       0                   NaN   \n",
       "3  2021-03-01  2021-03-01T03       2                   NaN   \n",
       "4  2021-03-01  2021-03-01T04      21                   NaN   \n",
       "\n",
       "   LaggedTotaal_GD_year  \n",
       "0                   NaN  \n",
       "1                   NaN  \n",
       "2                   NaN  \n",
       "3                   NaN  \n",
       "4                   NaN  "
      ]
     },
     "execution_count": 410,
     "metadata": {},
     "output_type": "execute_result"
    }
   ],
   "source": [
    "# Merge the 'LaggedTotaal_CL_year' column from the coupurelinks DataFrame into the bicycle_data DataFrame, matching on 'Date_hour'\n",
    "bicycle_data = bicycle_data.merge(coupurelinks.loc[:, [\"Date_hour\", 'LaggedTotaal_CL_year']], how = \"inner\", on = \"Date_hour\")\n",
    "\n",
    "# Merge the 'LaggedTotaal_GD_year' column from the groendreef DataFrame into the bicycle_data DataFrame, matching on 'Date_hour'\n",
    "bicycle_data = bicycle_data.merge(groendreef.loc[:, [\"Date_hour\", 'LaggedTotaal_GD_year']], how = \"inner\", on = \"Date_hour\")\n",
    "\n",
    "# Print the number of missing values in each column of the bicycle_data DataFrame\n",
    "print(bicycle_data.isna().sum())\n",
    "\n",
    "# Display the first 5 rows of the bicycle_data DataFrame\n",
    "bicycle_data.head()"
   ]
  },
  {
   "cell_type": "markdown",
   "metadata": {},
   "source": [
    "The process of merging the lagged features into our dataset has resulted in a significant number of missing values. Specifically, these missing values correspond to the months between March 2020 and 2021, for which there is no corresponding data from the previous year to populate the lagged features.\n",
    "\n",
    "While these missing values could potentially be a concern, we have a strategy to address this issue. One approach would be to reduce the number of rows in our dataset to align exactly with the range of the lagged features. This would effectively eliminate the rows with missing values in the lagged features.\n",
    "\n",
    "However, we will not implement this solution immediately. Instead, we will first impute these missing values. This step is crucial as some of the missing values may fall within the range of data that we intend to use for our analysis. By imputing these values, we ensure that we do not inadvertently exclude potentially useful data from our analysis."
   ]
  },
  {
   "cell_type": "code",
   "execution_count": 411,
   "metadata": {},
   "outputs": [
    {
     "data": {
      "text/html": [
       "<div>\n",
       "<style scoped>\n",
       "    .dataframe tbody tr th:only-of-type {\n",
       "        vertical-align: middle;\n",
       "    }\n",
       "\n",
       "    .dataframe tbody tr th {\n",
       "        vertical-align: top;\n",
       "    }\n",
       "\n",
       "    .dataframe thead th {\n",
       "        text-align: right;\n",
       "    }\n",
       "</style>\n",
       "<table border=\"1\" class=\"dataframe\">\n",
       "  <thead>\n",
       "    <tr style=\"text-align: right;\">\n",
       "      <th></th>\n",
       "      <th>Datum</th>\n",
       "      <th>Date_hour</th>\n",
       "      <th>Totaal</th>\n",
       "      <th>LaggedTotaal_CL_year</th>\n",
       "      <th>LaggedTotaal_GD_year</th>\n",
       "    </tr>\n",
       "  </thead>\n",
       "  <tbody>\n",
       "    <tr>\n",
       "      <th>0</th>\n",
       "      <td>2021-03-01</td>\n",
       "      <td>2021-03-01T00</td>\n",
       "      <td>5</td>\n",
       "      <td>274</td>\n",
       "      <td>179</td>\n",
       "    </tr>\n",
       "    <tr>\n",
       "      <th>1</th>\n",
       "      <td>2021-03-01</td>\n",
       "      <td>2021-03-01T01</td>\n",
       "      <td>1</td>\n",
       "      <td>274</td>\n",
       "      <td>179</td>\n",
       "    </tr>\n",
       "    <tr>\n",
       "      <th>2</th>\n",
       "      <td>2021-03-01</td>\n",
       "      <td>2021-03-01T02</td>\n",
       "      <td>0</td>\n",
       "      <td>274</td>\n",
       "      <td>179</td>\n",
       "    </tr>\n",
       "    <tr>\n",
       "      <th>3</th>\n",
       "      <td>2021-03-01</td>\n",
       "      <td>2021-03-01T03</td>\n",
       "      <td>2</td>\n",
       "      <td>274</td>\n",
       "      <td>179</td>\n",
       "    </tr>\n",
       "    <tr>\n",
       "      <th>4</th>\n",
       "      <td>2021-03-01</td>\n",
       "      <td>2021-03-01T04</td>\n",
       "      <td>21</td>\n",
       "      <td>274</td>\n",
       "      <td>179</td>\n",
       "    </tr>\n",
       "  </tbody>\n",
       "</table>\n",
       "</div>"
      ],
      "text/plain": [
       "        Datum      Date_hour  Totaal  LaggedTotaal_CL_year  \\\n",
       "0  2021-03-01  2021-03-01T00       5                   274   \n",
       "1  2021-03-01  2021-03-01T01       1                   274   \n",
       "2  2021-03-01  2021-03-01T02       0                   274   \n",
       "3  2021-03-01  2021-03-01T03       2                   274   \n",
       "4  2021-03-01  2021-03-01T04      21                   274   \n",
       "\n",
       "   LaggedTotaal_GD_year  \n",
       "0                   179  \n",
       "1                   179  \n",
       "2                   179  \n",
       "3                   179  \n",
       "4                   179  "
      ]
     },
     "execution_count": 411,
     "metadata": {},
     "output_type": "execute_result"
    }
   ],
   "source": [
    "# Use the imputer to fill in missing values in the columns that start with 'Lagged'\n",
    "bicycle_imputed = imputer.fit_transform(bicycle_data.filter(regex='^Lagged', axis=1))\n",
    "\n",
    "# Replace the original columns with the imputed data, rounding to the nearest integer\n",
    "bicycle_data[bicycle_data.filter(regex='^Lagged', axis=1).columns] = bicycle_imputed.round().astype(int)\n",
    "\n",
    "# Display the first 5 rows of the bicycle_data DataFrame\n",
    "bicycle_data.head()"
   ]
  },
  {
   "cell_type": "markdown",
   "metadata": {},
   "source": [
    "Lo and behold, no more missing values."
   ]
  },
  {
   "cell_type": "code",
   "execution_count": 412,
   "metadata": {},
   "outputs": [
    {
     "name": "stdout",
     "output_type": "stream",
     "text": [
      "Datum                   0\n",
      "Date_hour               0\n",
      "Totaal                  0\n",
      "LaggedTotaal_CL_year    0\n",
      "LaggedTotaal_GD_year    0\n",
      "dtype: int64\n"
     ]
    }
   ],
   "source": [
    "# Print the number of missing values in each column of the bicycle_data DataFrame\n",
    "print(bicycle_data.isna().sum())"
   ]
  },
  {
   "cell_type": "markdown",
   "id": "801ffed0",
   "metadata": {
    "papermill": {
     "duration": 0.003826,
     "end_time": "2023-10-05T13:07:11.396027",
     "exception": false,
     "start_time": "2023-10-05T13:07:11.392201",
     "status": "completed"
    },
    "tags": []
   },
   "source": [
    "### Features"
   ]
  },
  {
   "cell_type": "markdown",
   "metadata": {},
   "source": [
    "In this section, we're enhancing our dataset by adding and transforming several time-related columns. These modifications will be beneficial when we start the feature engineering process.\n",
    "\n",
    "While these newly added columns won't be used directly as features in our model, they will serve as the basis for creating more complex features during the feature engineering stage. For instance, we could use these columns to create features that capture the interaction between different aspects of time (e.g., the effect of weekends versus weekdays at different times of the day).\n",
    "\n",
    "By enriching our dataset with these time-related columns, we're setting the stage for a more comprehensive and nuanced analysis of our data. This will ultimately help us build a more accurate and robust predictive model."
   ]
  },
  {
   "cell_type": "code",
   "execution_count": 413,
   "id": "c3befa9e",
   "metadata": {
    "execution": {
     "iopub.execute_input": "2023-10-05T13:07:11.405857Z",
     "iopub.status.busy": "2023-10-05T13:07:11.405515Z",
     "iopub.status.idle": "2023-10-05T13:07:11.439824Z",
     "shell.execute_reply": "2023-10-05T13:07:11.438961Z"
    },
    "papermill": {
     "duration": 0.042494,
     "end_time": "2023-10-05T13:07:11.442463",
     "exception": false,
     "start_time": "2023-10-05T13:07:11.399969",
     "status": "completed"
    },
    "tags": []
   },
   "outputs": [
    {
     "name": "stdout",
     "output_type": "stream",
     "text": [
      "(21192, 16)\n",
      "2021-03-01T00\n",
      "2023-07-31T23\n"
     ]
    },
    {
     "data": {
      "text/html": [
       "<div>\n",
       "<style scoped>\n",
       "    .dataframe tbody tr th:only-of-type {\n",
       "        vertical-align: middle;\n",
       "    }\n",
       "\n",
       "    .dataframe tbody tr th {\n",
       "        vertical-align: top;\n",
       "    }\n",
       "\n",
       "    .dataframe thead th {\n",
       "        text-align: right;\n",
       "    }\n",
       "</style>\n",
       "<table border=\"1\" class=\"dataframe\">\n",
       "  <thead>\n",
       "    <tr style=\"text-align: right;\">\n",
       "      <th></th>\n",
       "      <th>temperature_2m</th>\n",
       "      <th>apparent_temperature</th>\n",
       "      <th>precipitation</th>\n",
       "      <th>cloud_cover</th>\n",
       "      <th>cloud_cover_low</th>\n",
       "      <th>cloud_cover_mid</th>\n",
       "      <th>cloud_cover_high</th>\n",
       "      <th>is_day</th>\n",
       "      <th>Date_hour</th>\n",
       "      <th>date_dt</th>\n",
       "      <th>date</th>\n",
       "      <th>month_day</th>\n",
       "      <th>year</th>\n",
       "      <th>month_year</th>\n",
       "      <th>next_day</th>\n",
       "      <th>prev_day</th>\n",
       "    </tr>\n",
       "  </thead>\n",
       "  <tbody>\n",
       "    <tr>\n",
       "      <th>10200</th>\n",
       "      <td>4.0</td>\n",
       "      <td>0.9</td>\n",
       "      <td>0.0</td>\n",
       "      <td>0.0</td>\n",
       "      <td>0.0</td>\n",
       "      <td>0.0</td>\n",
       "      <td>0.0</td>\n",
       "      <td>0</td>\n",
       "      <td>2021-03-01T00</td>\n",
       "      <td>2021-03-01</td>\n",
       "      <td>2021-03-01</td>\n",
       "      <td>03-01</td>\n",
       "      <td>2021</td>\n",
       "      <td>03-2021</td>\n",
       "      <td>2021-03-02 00:00:00</td>\n",
       "      <td>2021-02-28 00:00:00</td>\n",
       "    </tr>\n",
       "    <tr>\n",
       "      <th>10201</th>\n",
       "      <td>3.6</td>\n",
       "      <td>0.5</td>\n",
       "      <td>0.0</td>\n",
       "      <td>0.0</td>\n",
       "      <td>0.0</td>\n",
       "      <td>0.0</td>\n",
       "      <td>0.0</td>\n",
       "      <td>0</td>\n",
       "      <td>2021-03-01T01</td>\n",
       "      <td>2021-03-01</td>\n",
       "      <td>2021-03-01</td>\n",
       "      <td>03-01</td>\n",
       "      <td>2021</td>\n",
       "      <td>03-2021</td>\n",
       "      <td>2021-03-02 01:00:00</td>\n",
       "      <td>2021-02-28 01:00:00</td>\n",
       "    </tr>\n",
       "    <tr>\n",
       "      <th>10202</th>\n",
       "      <td>3.2</td>\n",
       "      <td>0.1</td>\n",
       "      <td>0.0</td>\n",
       "      <td>0.0</td>\n",
       "      <td>0.0</td>\n",
       "      <td>0.0</td>\n",
       "      <td>0.0</td>\n",
       "      <td>0</td>\n",
       "      <td>2021-03-01T02</td>\n",
       "      <td>2021-03-01</td>\n",
       "      <td>2021-03-01</td>\n",
       "      <td>03-01</td>\n",
       "      <td>2021</td>\n",
       "      <td>03-2021</td>\n",
       "      <td>2021-03-02 02:00:00</td>\n",
       "      <td>2021-02-28 02:00:00</td>\n",
       "    </tr>\n",
       "    <tr>\n",
       "      <th>10203</th>\n",
       "      <td>2.9</td>\n",
       "      <td>-0.4</td>\n",
       "      <td>0.0</td>\n",
       "      <td>0.0</td>\n",
       "      <td>0.0</td>\n",
       "      <td>0.0</td>\n",
       "      <td>0.0</td>\n",
       "      <td>0</td>\n",
       "      <td>2021-03-01T03</td>\n",
       "      <td>2021-03-01</td>\n",
       "      <td>2021-03-01</td>\n",
       "      <td>03-01</td>\n",
       "      <td>2021</td>\n",
       "      <td>03-2021</td>\n",
       "      <td>2021-03-02 03:00:00</td>\n",
       "      <td>2021-02-28 03:00:00</td>\n",
       "    </tr>\n",
       "    <tr>\n",
       "      <th>10204</th>\n",
       "      <td>2.6</td>\n",
       "      <td>-0.8</td>\n",
       "      <td>0.0</td>\n",
       "      <td>0.0</td>\n",
       "      <td>0.0</td>\n",
       "      <td>0.0</td>\n",
       "      <td>0.0</td>\n",
       "      <td>0</td>\n",
       "      <td>2021-03-01T04</td>\n",
       "      <td>2021-03-01</td>\n",
       "      <td>2021-03-01</td>\n",
       "      <td>03-01</td>\n",
       "      <td>2021</td>\n",
       "      <td>03-2021</td>\n",
       "      <td>2021-03-02 04:00:00</td>\n",
       "      <td>2021-02-28 04:00:00</td>\n",
       "    </tr>\n",
       "  </tbody>\n",
       "</table>\n",
       "</div>"
      ],
      "text/plain": [
       "       temperature_2m  apparent_temperature  precipitation  cloud_cover  \\\n",
       "10200             4.0                   0.9            0.0          0.0   \n",
       "10201             3.6                   0.5            0.0          0.0   \n",
       "10202             3.2                   0.1            0.0          0.0   \n",
       "10203             2.9                  -0.4            0.0          0.0   \n",
       "10204             2.6                  -0.8            0.0          0.0   \n",
       "\n",
       "       cloud_cover_low  cloud_cover_mid  cloud_cover_high  is_day  \\\n",
       "10200              0.0              0.0               0.0       0   \n",
       "10201              0.0              0.0               0.0       0   \n",
       "10202              0.0              0.0               0.0       0   \n",
       "10203              0.0              0.0               0.0       0   \n",
       "10204              0.0              0.0               0.0       0   \n",
       "\n",
       "           Date_hour     date_dt        date month_day  year month_year  \\\n",
       "10200  2021-03-01T00  2021-03-01  2021-03-01     03-01  2021    03-2021   \n",
       "10201  2021-03-01T01  2021-03-01  2021-03-01     03-01  2021    03-2021   \n",
       "10202  2021-03-01T02  2021-03-01  2021-03-01     03-01  2021    03-2021   \n",
       "10203  2021-03-01T03  2021-03-01  2021-03-01     03-01  2021    03-2021   \n",
       "10204  2021-03-01T04  2021-03-01  2021-03-01     03-01  2021    03-2021   \n",
       "\n",
       "                 next_day            prev_day  \n",
       "10200 2021-03-02 00:00:00 2021-02-28 00:00:00  \n",
       "10201 2021-03-02 01:00:00 2021-02-28 01:00:00  \n",
       "10202 2021-03-02 02:00:00 2021-02-28 02:00:00  \n",
       "10203 2021-03-02 03:00:00 2021-02-28 03:00:00  \n",
       "10204 2021-03-02 04:00:00 2021-02-28 04:00:00  "
      ]
     },
     "execution_count": 413,
     "metadata": {},
     "output_type": "execute_result"
    }
   ],
   "source": [
    "# Import the timedelta function from the datetime module\n",
    "from datetime import timedelta\n",
    "\n",
    "# Create a copy of the weather_rawdata DataFrame\n",
    "weather_data = weather_rawdata.copy()\n",
    "\n",
    "# Split the column names on spaces and keep only the first part\n",
    "weather_data.columns = weather_data.columns.str.split(' ').str[0]\n",
    "\n",
    "# Extract the date and hour from the 'time' column and store it in a new column 'Date_hour'\n",
    "weather_data[\"Date_hour\"] = weather_data[\"time\"].str.split(':', expand = True)[0]\n",
    "\n",
    "# Drop the 'time' column from the DataFrame\n",
    "weather_data = weather_data.drop(\"time\", axis = 1)\n",
    "\n",
    "# Filter the DataFrame to only include rows where 'Date_hour' is between the minimum 'Date_hour' in bicycle_data and the maximum 'Date_hour' in test_rawdata\n",
    "weather_data = weather_data[(min(bicycle_data[\"Date_hour\"]) <= weather_data['Date_hour']) & (weather_data['Date_hour'] <= max(test_rawdata[\"Date_hour\"]))]\n",
    "\n",
    "# Convert the 'Date_hour' column to datetime format\n",
    "date_time = pd.to_datetime(weather_data['Date_hour'])\n",
    "\n",
    "# Create new columns for the date, year, month, and day\n",
    "weather_data[\"date_dt\"] = date_time.dt.date\n",
    "weather_data[\"date\"] = date_time.dt.strftime(\"%Y-%m-%d\")\n",
    "weather_data[\"month_day\"] = date_time.dt.strftime(\"%m-%d\")\n",
    "weather_data[\"year\"] = date_time.dt.strftime(\"%Y\")\n",
    "weather_data[\"month_year\"] = date_time.dt.strftime(\"%m-%Y\")\n",
    "\n",
    "# Create new columns for the next and previous day\n",
    "weather_data['next_day'] = date_time + timedelta(days=1)\n",
    "weather_data['prev_day'] = date_time - timedelta(days=1)\n",
    "\n",
    "# Print the shape of the data (number of rows, number of columns)\n",
    "print(weather_data.shape)\n",
    "\n",
    "# Print the earliest and latest dates in the 'Date_hour' column\n",
    "print(min(weather_data[\"Date_hour\"]))\n",
    "print(max(weather_data[\"Date_hour\"]))\n",
    "\n",
    "# Display the first 5 rows of the data\n",
    "weather_data.head()"
   ]
  },
  {
   "cell_type": "markdown",
   "id": "ee5d088e",
   "metadata": {},
   "source": [
    "### Feature engineering"
   ]
  },
  {
   "cell_type": "markdown",
   "metadata": {},
   "source": [
    "In this section, we're enhancing our dataset by engineering new features from the raw data available to us. The goal of feature engineering is to provide more meaningful input to our model, thereby improving its predictive performance.\n",
    "\n",
    "The features we're creating in this chunk are primarily time-related, capturing various aspects of the temporal patterns in our data. These features include:\n",
    "\n",
    "- **Day of the week (str)**: This feature captures the specific day of the week for each observation. The rationale behind this feature is that certain days of the week may exhibit higher cycling activity. For instance, Mondays might see an increase in cycling traffic as people return to work or school after the weekend.\n",
    "\n",
    "- **Hour of the day (int) + sine & cosine transform (float)**: This feature represents the specific hour of the day for each observation. The cycling activity is likely to vary throughout the day, with more people cycling during daylight hours and at the start of the workday compared to nighttime or lunchtime. To capture the cyclic nature of the hours of the day, we also add the sine and cosine of the hour as features, with a period of 24 hours. This transformation helps our model understand that the hours of the day are a cyclical feature, with hour 23 being as close to hour 0 as to hour 22.\n",
    "\n",
    "- **Month of the year (int & str)**: This feature indicates the specific month of the year for each observation. The assumption here is that cycling activity may vary by month. For example, the summer months might see less cycling activity due to holidays, festivals, or leaves of absence.\n",
    "\n",
    "- **Season (str)**: This feature categorizes each observation into one of the four seasons: spring, summer, autumn, or winter. The reasoning behind this feature is similar to that of the month of the year, but it provides a less granular view. The idea is that cycling activity may vary by season, with certain seasons potentially seeing more cycling activity due to favorable weather conditions."
   ]
  },
  {
   "cell_type": "code",
   "execution_count": 414,
   "id": "00d9ad00",
   "metadata": {},
   "outputs": [],
   "source": [
    "# Import the calendar module\n",
    "import calendar\n",
    "\n",
    "# Create a copy of the weather_data DataFrame\n",
    "feature_data = weather_data.copy()\n",
    "\n",
    "# Create a new column 'weekday' that contains the day of the week for each date\n",
    "feature_data['weekday'] = date_time.dt.strftime('%A')\n",
    "\n",
    "# Create a new column 'hour' that contains the hour for each date\n",
    "feature_data['hour'] = date_time.dt.hour\n",
    "\n",
    "# Create a new column 'hour_sin' that contains the sine of the hour (for circular encoding)\n",
    "feature_data['hour_sin'] = np.sin(2 * np.pi * (feature_data['hour']) / 24)\n",
    "\n",
    "# Create a new column 'hour_cosin' that contains the cosine of the hour (for circular encoding)\n",
    "feature_data['hour_cosin'] = np.cos(2 * np.pi * (feature_data['hour']) / 24)\n",
    "\n",
    "# Create a new column 'month' that contains the month for each date\n",
    "feature_data[\"month\"] = date_time.dt.month\n",
    "\n",
    "# Create a new column 'month_name' that contains the name of the month for each date\n",
    "feature_data['month_name'] = feature_data['month'].apply(lambda x: calendar.month_name[x])\n",
    "\n",
    "# Define a function to get the season based on the month\n",
    "def get_season(date):\n",
    "    month = date.month\n",
    "    if 3 <= month <= 5:\n",
    "        return 'Spring'\n",
    "    elif 6 <= month <= 8:\n",
    "        return 'Summer'\n",
    "    elif 9 <= month <= 11:\n",
    "        return 'Fall'\n",
    "    else:\n",
    "        return 'Winter'\n",
    "\n",
    "# Create a new column 'season' that contains the season for each date\n",
    "feature_data['season'] = feature_data['date_dt'].apply(get_season)"
   ]
  },
  {
   "cell_type": "markdown",
   "metadata": {},
   "source": [
    "In this section, we're further enhancing our dataset by adding several boolean features. These features are designed to capture specific patterns in our data that are likely to influence cycling activity. \n",
    "\n",
    "- **Weekday boolean (log)**: This feature indicates whether a given day is a weekday. The assumption here is that cycling activity will be higher during weekdays as people commute to work or school. \n",
    "\n",
    "- **Weekend boolean (log)**: This feature indicates whether a given day falls on a weekend. It captures the same variation as the weekday boolean but from a different perspective. The rationale is that cycling patterns may differ on weekends when people are off work and school.\n",
    "\n",
    "- **School hours boolean (log)**: This feature indicates whether a given time falls within school or working hours, roughly between 8 AM and 5 PM. The hypothesis is that cycling activity will be higher during these hours as people are more likely to be active and commuting.\n",
    "\n",
    "- **University lessons boolean (log)**: Given the proximity of the Coupure Links bike counter to the Bio-Engineering campus and the high population of students in Ghent, we expect cycling activity to increase during university lesson periods and decrease during academic holidays and exam periods. While it would be ideal to include more granular information about university activity, such as specific study breaks or exam periods, this would require extensive manual curation. Therefore, we've chosen to focus on the most significant aspect, which is the lesson periods.\n",
    "\n",
    "- **Ghent event boolean (log)**: This feature indicates the occurrence of major festivals in Ghent. Such events are likely to impact cycling activity due to factors such as people taking time off work, roadblocks obstructing cyclists, and increased tourist activity. This feature is particularly relevant for our test set, as it includes the period of the Gentse Feesten, the largest event in Ghent, which takes place towards the end of July."
   ]
  },
  {
   "cell_type": "code",
   "execution_count": 415,
   "id": "01e1ebdc",
   "metadata": {},
   "outputs": [],
   "source": [
    "# Define a function to check if a date falls within any interval\n",
    "def date_in_intervals(dates, intervals):\n",
    "    result = [0] * len(dates)  # Initialize the result list with 0s\n",
    "    \n",
    "    for i, date in enumerate(dates):\n",
    "        for interval in intervals.values():\n",
    "            start, end = interval[0], interval[1]\n",
    "            if start <= date <= end:\n",
    "                result[i] = 1\n",
    "                break\n",
    "    \n",
    "    return result\n",
    "\n",
    "# Define the dates of university lessons\n",
    "university_lessons = {\n",
    "    \"sem1\": [\"09-26\", \"12-19\"],\n",
    "    \"sem2_1\": [\"02-13\", \"04-02\"],\n",
    "    \"sem2_2\": [\"04-17\", \"05-06\"]\n",
    "}\n",
    "\n",
    "# Define the dates of the Ghent event\n",
    "Ghent_event = {\"gentsefeesten\": ['07-14', '07-23']}\n",
    "\n",
    "# Create a new column 'is_weekday' that is 1 if the day is a weekday and 0 otherwise\n",
    "feature_data['is_weekday'] = (~feature_data['weekday'].isin([\"Saturday\", \"Sunday\"])).astype(int)\n",
    "\n",
    "# Create a new column 'is_weekend' that is 1 if the day is a weekend and 0 otherwise\n",
    "feature_data['is_weekend'] = (feature_data['weekday'].isin([\"Saturday\", \"Sunday\"])).astype(int)\n",
    "\n",
    "# Create a new column 'is_school_hours' that is 1 if the hour is between 8 and 17 and 0 otherwise\n",
    "feature_data['is_school_hours'] = ((date_time.dt.hour >= 8) & (date_time.dt.hour <= 17)).astype(int)\n",
    "\n",
    "# Create a new column 'is_university_lessons' that is 1 if the date is during university lessons and 0 otherwise\n",
    "feature_data['is_university_lessons'] = date_in_intervals(feature_data[\"month_day\"], university_lessons)\n",
    "\n",
    "# Create a new column 'is_Ghent_event' that is 1 if the date is during the Ghent event and 0 otherwise\n",
    "feature_data['is_Ghent_event'] = date_in_intervals(feature_data[\"month_day\"], Ghent_event)"
   ]
  },
  {
   "cell_type": "markdown",
   "metadata": {},
   "source": [
    "- **Public holiday boolean (log)**: This feature indicates whether a given day is a public holiday. The assumption here is that cycling activity will decrease on public holidays as fewer people will be commuting to work. This is particularly relevant in a city like Ghent, where a significant portion of the population is likely to be employed and thus affected by public holidays.\n",
    "\n",
    "- **Bridge day boolean (log)**: This feature identifies the days that fall between a weekend and a public holiday, often referred to as \"bridge days\". On these days, many people choose to take a day off from work to extend their holiday period. As a result, we can expect a decrease in cycling activity on bridge days, similar to public holidays.\n",
    "\n",
    "- **School holiday boolean (log)**: This feature indicates whether a given day falls within a school holiday period. The rationale behind this feature is that cycling activity will decrease during school holidays as fewer students will be commuting. This is especially relevant in a city like Ghent, which has a high student population.\n",
    "\n",
    "- **Construction holiday boolean (log)**: This feature identifies the period known as the \"construction holiday\", during which the construction sector pauses all ongoing projects. This period typically occurs during the summer and can have a significant impact on the overall activity in the city. The assumption here is that cycling activity will decrease during the construction holiday due to a reduction in the number of construction workers commuting and a general slowdown in city activity."
   ]
  },
  {
   "cell_type": "code",
   "execution_count": 416,
   "id": "6e2ef8cf",
   "metadata": {},
   "outputs": [],
   "source": [
    "# Define the dates of the construction holiday\n",
    "bouwverlof = {\n",
    "    \"summer\": [\"07-17\", \"08-07\"],\n",
    "}\n",
    "\n",
    "# Create a new column 'is_public_holiday' that is 1 if the date is a public holiday and 0 otherwise\n",
    "feature_data['is_public_holiday'] = (date_time.dt.date.isin(belgian_holidays)).astype(int)\n",
    "\n",
    "# Create a new column 'is_bridge_day' that is 1 if the day is a Monday or Friday and the next or previous day is a public holiday, and 0 otherwise\n",
    "feature_data['is_bridge_day'] = (feature_data['weekday'].isin([\"Monday\", \"Friday\"]) & feature_data['next_day'].dt.date.isin(belgian_holidays) | feature_data['prev_day'].dt.date.isin(belgian_holidays)).astype(int)\n",
    "\n",
    "# Initialize a list to store whether each date is a school holiday\n",
    "is_school_holiday = [0] * len(date_time)\n",
    "\n",
    "# For each date, check if it falls within any of the school holiday date ranges\n",
    "for i, check_date in enumerate(date_time):\n",
    "    for holiday, date_range in school_holidays.items():\n",
    "        start_date = date_range[0]\n",
    "        end_date = date_range[1]\n",
    "        if start_date <= check_date <= end_date:\n",
    "            is_school_holiday[i] = 1\n",
    "\n",
    "# Create a new column 'is_school_holiday' that is 1 if the date is a school holiday and 0 otherwise\n",
    "feature_data[\"is_school_holiday\"] = is_school_holiday\n",
    "\n",
    "# Create a new column 'is_bouwverlof' that is 1 if the date is during the construction holiday and 0 otherwise\n",
    "feature_data['is_bouwverlof'] = date_in_intervals(feature_data[\"month_day\"], bouwverlof)"
   ]
  },
  {
   "cell_type": "markdown",
   "metadata": {},
   "source": [
    "This is our feature dataset so far. Quite extensive already, but we can do better."
   ]
  },
  {
   "cell_type": "code",
   "execution_count": 417,
   "metadata": {},
   "outputs": [
    {
     "name": "stdout",
     "output_type": "stream",
     "text": [
      "(21192, 32)\n"
     ]
    },
    {
     "data": {
      "text/html": [
       "<div>\n",
       "<style scoped>\n",
       "    .dataframe tbody tr th:only-of-type {\n",
       "        vertical-align: middle;\n",
       "    }\n",
       "\n",
       "    .dataframe tbody tr th {\n",
       "        vertical-align: top;\n",
       "    }\n",
       "\n",
       "    .dataframe thead th {\n",
       "        text-align: right;\n",
       "    }\n",
       "</style>\n",
       "<table border=\"1\" class=\"dataframe\">\n",
       "  <thead>\n",
       "    <tr style=\"text-align: right;\">\n",
       "      <th></th>\n",
       "      <th>temperature_2m</th>\n",
       "      <th>apparent_temperature</th>\n",
       "      <th>precipitation</th>\n",
       "      <th>cloud_cover</th>\n",
       "      <th>cloud_cover_low</th>\n",
       "      <th>cloud_cover_mid</th>\n",
       "      <th>cloud_cover_high</th>\n",
       "      <th>is_day</th>\n",
       "      <th>Date_hour</th>\n",
       "      <th>date_dt</th>\n",
       "      <th>...</th>\n",
       "      <th>season</th>\n",
       "      <th>is_weekday</th>\n",
       "      <th>is_weekend</th>\n",
       "      <th>is_school_hours</th>\n",
       "      <th>is_university_lessons</th>\n",
       "      <th>is_Ghent_event</th>\n",
       "      <th>is_public_holiday</th>\n",
       "      <th>is_bridge_day</th>\n",
       "      <th>is_school_holiday</th>\n",
       "      <th>is_bouwverlof</th>\n",
       "    </tr>\n",
       "  </thead>\n",
       "  <tbody>\n",
       "    <tr>\n",
       "      <th>10200</th>\n",
       "      <td>4.0</td>\n",
       "      <td>0.9</td>\n",
       "      <td>0.0</td>\n",
       "      <td>0.0</td>\n",
       "      <td>0.0</td>\n",
       "      <td>0.0</td>\n",
       "      <td>0.0</td>\n",
       "      <td>0</td>\n",
       "      <td>2021-03-01T00</td>\n",
       "      <td>2021-03-01</td>\n",
       "      <td>...</td>\n",
       "      <td>Spring</td>\n",
       "      <td>1</td>\n",
       "      <td>0</td>\n",
       "      <td>0</td>\n",
       "      <td>1</td>\n",
       "      <td>0</td>\n",
       "      <td>0</td>\n",
       "      <td>0</td>\n",
       "      <td>0</td>\n",
       "      <td>0</td>\n",
       "    </tr>\n",
       "    <tr>\n",
       "      <th>10201</th>\n",
       "      <td>3.6</td>\n",
       "      <td>0.5</td>\n",
       "      <td>0.0</td>\n",
       "      <td>0.0</td>\n",
       "      <td>0.0</td>\n",
       "      <td>0.0</td>\n",
       "      <td>0.0</td>\n",
       "      <td>0</td>\n",
       "      <td>2021-03-01T01</td>\n",
       "      <td>2021-03-01</td>\n",
       "      <td>...</td>\n",
       "      <td>Spring</td>\n",
       "      <td>1</td>\n",
       "      <td>0</td>\n",
       "      <td>0</td>\n",
       "      <td>1</td>\n",
       "      <td>0</td>\n",
       "      <td>0</td>\n",
       "      <td>0</td>\n",
       "      <td>0</td>\n",
       "      <td>0</td>\n",
       "    </tr>\n",
       "    <tr>\n",
       "      <th>10202</th>\n",
       "      <td>3.2</td>\n",
       "      <td>0.1</td>\n",
       "      <td>0.0</td>\n",
       "      <td>0.0</td>\n",
       "      <td>0.0</td>\n",
       "      <td>0.0</td>\n",
       "      <td>0.0</td>\n",
       "      <td>0</td>\n",
       "      <td>2021-03-01T02</td>\n",
       "      <td>2021-03-01</td>\n",
       "      <td>...</td>\n",
       "      <td>Spring</td>\n",
       "      <td>1</td>\n",
       "      <td>0</td>\n",
       "      <td>0</td>\n",
       "      <td>1</td>\n",
       "      <td>0</td>\n",
       "      <td>0</td>\n",
       "      <td>0</td>\n",
       "      <td>0</td>\n",
       "      <td>0</td>\n",
       "    </tr>\n",
       "    <tr>\n",
       "      <th>10203</th>\n",
       "      <td>2.9</td>\n",
       "      <td>-0.4</td>\n",
       "      <td>0.0</td>\n",
       "      <td>0.0</td>\n",
       "      <td>0.0</td>\n",
       "      <td>0.0</td>\n",
       "      <td>0.0</td>\n",
       "      <td>0</td>\n",
       "      <td>2021-03-01T03</td>\n",
       "      <td>2021-03-01</td>\n",
       "      <td>...</td>\n",
       "      <td>Spring</td>\n",
       "      <td>1</td>\n",
       "      <td>0</td>\n",
       "      <td>0</td>\n",
       "      <td>1</td>\n",
       "      <td>0</td>\n",
       "      <td>0</td>\n",
       "      <td>0</td>\n",
       "      <td>0</td>\n",
       "      <td>0</td>\n",
       "    </tr>\n",
       "    <tr>\n",
       "      <th>10204</th>\n",
       "      <td>2.6</td>\n",
       "      <td>-0.8</td>\n",
       "      <td>0.0</td>\n",
       "      <td>0.0</td>\n",
       "      <td>0.0</td>\n",
       "      <td>0.0</td>\n",
       "      <td>0.0</td>\n",
       "      <td>0</td>\n",
       "      <td>2021-03-01T04</td>\n",
       "      <td>2021-03-01</td>\n",
       "      <td>...</td>\n",
       "      <td>Spring</td>\n",
       "      <td>1</td>\n",
       "      <td>0</td>\n",
       "      <td>0</td>\n",
       "      <td>1</td>\n",
       "      <td>0</td>\n",
       "      <td>0</td>\n",
       "      <td>0</td>\n",
       "      <td>0</td>\n",
       "      <td>0</td>\n",
       "    </tr>\n",
       "  </tbody>\n",
       "</table>\n",
       "<p>5 rows × 32 columns</p>\n",
       "</div>"
      ],
      "text/plain": [
       "       temperature_2m  apparent_temperature  precipitation  cloud_cover  \\\n",
       "10200             4.0                   0.9            0.0          0.0   \n",
       "10201             3.6                   0.5            0.0          0.0   \n",
       "10202             3.2                   0.1            0.0          0.0   \n",
       "10203             2.9                  -0.4            0.0          0.0   \n",
       "10204             2.6                  -0.8            0.0          0.0   \n",
       "\n",
       "       cloud_cover_low  cloud_cover_mid  cloud_cover_high  is_day  \\\n",
       "10200              0.0              0.0               0.0       0   \n",
       "10201              0.0              0.0               0.0       0   \n",
       "10202              0.0              0.0               0.0       0   \n",
       "10203              0.0              0.0               0.0       0   \n",
       "10204              0.0              0.0               0.0       0   \n",
       "\n",
       "           Date_hour     date_dt  ...  season is_weekday is_weekend  \\\n",
       "10200  2021-03-01T00  2021-03-01  ...  Spring          1          0   \n",
       "10201  2021-03-01T01  2021-03-01  ...  Spring          1          0   \n",
       "10202  2021-03-01T02  2021-03-01  ...  Spring          1          0   \n",
       "10203  2021-03-01T03  2021-03-01  ...  Spring          1          0   \n",
       "10204  2021-03-01T04  2021-03-01  ...  Spring          1          0   \n",
       "\n",
       "      is_school_hours is_university_lessons is_Ghent_event is_public_holiday  \\\n",
       "10200               0                     1              0                 0   \n",
       "10201               0                     1              0                 0   \n",
       "10202               0                     1              0                 0   \n",
       "10203               0                     1              0                 0   \n",
       "10204               0                     1              0                 0   \n",
       "\n",
       "       is_bridge_day  is_school_holiday  is_bouwverlof  \n",
       "10200              0                  0              0  \n",
       "10201              0                  0              0  \n",
       "10202              0                  0              0  \n",
       "10203              0                  0              0  \n",
       "10204              0                  0              0  \n",
       "\n",
       "[5 rows x 32 columns]"
      ]
     },
     "execution_count": 417,
     "metadata": {},
     "output_type": "execute_result"
    }
   ],
   "source": [
    "# Print the shape of the feature_data DataFrame (number of rows, number of columns)\n",
    "print(feature_data.shape)\n",
    "\n",
    "# Display the first 5 rows of the feature_data DataFrame\n",
    "feature_data.head()"
   ]
  },
  {
   "cell_type": "markdown",
   "metadata": {},
   "source": [
    "Several of our features, specifically the day of the week and the season, are currently represented as categorical string variables. While these variables provide valuable information, they are not in a format that can be directly interpreted by a mathematical model. \n",
    "\n",
    "To address this, we will transform these categorical variables into a numerical format using a technique known as dummy encoding. Dummy encoding involves creating a new binary (0 or 1) variable for each category of the original variable. For instance, the 'day of the week' feature, which has seven categories (Monday to Sunday), will be transformed into seven new binary features.\n",
    "\n",
    "This transformation allows us to retain the valuable information contained in these categorical variables in a format that can be readily processed by our model. However, it's important to note that dummy encoding can significantly increase the dimensionality of our dataset, as each category of each categorical variable becomes a new feature. Therefore, it's crucial to use this technique judiciously and ensure that it contributes positively to the performance of our model."
   ]
  },
  {
   "cell_type": "code",
   "execution_count": 418,
   "id": "8b26f623",
   "metadata": {},
   "outputs": [
    {
     "data": {
      "text/html": [
       "<div>\n",
       "<style scoped>\n",
       "    .dataframe tbody tr th:only-of-type {\n",
       "        vertical-align: middle;\n",
       "    }\n",
       "\n",
       "    .dataframe tbody tr th {\n",
       "        vertical-align: top;\n",
       "    }\n",
       "\n",
       "    .dataframe thead th {\n",
       "        text-align: right;\n",
       "    }\n",
       "</style>\n",
       "<table border=\"1\" class=\"dataframe\">\n",
       "  <thead>\n",
       "    <tr style=\"text-align: right;\">\n",
       "      <th></th>\n",
       "      <th>Friday</th>\n",
       "      <th>Monday</th>\n",
       "      <th>Saturday</th>\n",
       "      <th>Sunday</th>\n",
       "      <th>Thursday</th>\n",
       "      <th>Tuesday</th>\n",
       "      <th>Wednesday</th>\n",
       "      <th>Fall</th>\n",
       "      <th>Spring</th>\n",
       "      <th>Summer</th>\n",
       "      <th>Winter</th>\n",
       "    </tr>\n",
       "  </thead>\n",
       "  <tbody>\n",
       "    <tr>\n",
       "      <th>10200</th>\n",
       "      <td>0</td>\n",
       "      <td>1</td>\n",
       "      <td>0</td>\n",
       "      <td>0</td>\n",
       "      <td>0</td>\n",
       "      <td>0</td>\n",
       "      <td>0</td>\n",
       "      <td>0</td>\n",
       "      <td>1</td>\n",
       "      <td>0</td>\n",
       "      <td>0</td>\n",
       "    </tr>\n",
       "    <tr>\n",
       "      <th>10201</th>\n",
       "      <td>0</td>\n",
       "      <td>1</td>\n",
       "      <td>0</td>\n",
       "      <td>0</td>\n",
       "      <td>0</td>\n",
       "      <td>0</td>\n",
       "      <td>0</td>\n",
       "      <td>0</td>\n",
       "      <td>1</td>\n",
       "      <td>0</td>\n",
       "      <td>0</td>\n",
       "    </tr>\n",
       "    <tr>\n",
       "      <th>10202</th>\n",
       "      <td>0</td>\n",
       "      <td>1</td>\n",
       "      <td>0</td>\n",
       "      <td>0</td>\n",
       "      <td>0</td>\n",
       "      <td>0</td>\n",
       "      <td>0</td>\n",
       "      <td>0</td>\n",
       "      <td>1</td>\n",
       "      <td>0</td>\n",
       "      <td>0</td>\n",
       "    </tr>\n",
       "    <tr>\n",
       "      <th>10203</th>\n",
       "      <td>0</td>\n",
       "      <td>1</td>\n",
       "      <td>0</td>\n",
       "      <td>0</td>\n",
       "      <td>0</td>\n",
       "      <td>0</td>\n",
       "      <td>0</td>\n",
       "      <td>0</td>\n",
       "      <td>1</td>\n",
       "      <td>0</td>\n",
       "      <td>0</td>\n",
       "    </tr>\n",
       "    <tr>\n",
       "      <th>10204</th>\n",
       "      <td>0</td>\n",
       "      <td>1</td>\n",
       "      <td>0</td>\n",
       "      <td>0</td>\n",
       "      <td>0</td>\n",
       "      <td>0</td>\n",
       "      <td>0</td>\n",
       "      <td>0</td>\n",
       "      <td>1</td>\n",
       "      <td>0</td>\n",
       "      <td>0</td>\n",
       "    </tr>\n",
       "  </tbody>\n",
       "</table>\n",
       "</div>"
      ],
      "text/plain": [
       "       Friday  Monday  Saturday  Sunday  Thursday  Tuesday  Wednesday  Fall  \\\n",
       "10200       0       1         0       0         0        0          0     0   \n",
       "10201       0       1         0       0         0        0          0     0   \n",
       "10202       0       1         0       0         0        0          0     0   \n",
       "10203       0       1         0       0         0        0          0     0   \n",
       "10204       0       1         0       0         0        0          0     0   \n",
       "\n",
       "       Spring  Summer  Winter  \n",
       "10200       1       0       0  \n",
       "10201       1       0       0  \n",
       "10202       1       0       0  \n",
       "10203       1       0       0  \n",
       "10204       1       0       0  "
      ]
     },
     "execution_count": 418,
     "metadata": {},
     "output_type": "execute_result"
    }
   ],
   "source": [
    "# Create dummy variables for the 'weekday' and 'season' columns and concatenate them into a new DataFrame 'dummies'\n",
    "dummies = pd.concat([pd.get_dummies(feature_data.weekday), pd.get_dummies(feature_data.season)], axis = 1)\n",
    "\n",
    "# Display the first 5 rows of the 'dummies' DataFrame\n",
    "dummies.head()"
   ]
  },
  {
   "cell_type": "markdown",
   "metadata": {},
   "source": [
    "These dummie variables are then concatenated to our already huge feature set."
   ]
  },
  {
   "cell_type": "code",
   "execution_count": 419,
   "id": "c1d132f2",
   "metadata": {},
   "outputs": [
    {
     "name": "stdout",
     "output_type": "stream",
     "text": [
      "(21192, 43)\n"
     ]
    },
    {
     "data": {
      "text/html": [
       "<div>\n",
       "<style scoped>\n",
       "    .dataframe tbody tr th:only-of-type {\n",
       "        vertical-align: middle;\n",
       "    }\n",
       "\n",
       "    .dataframe tbody tr th {\n",
       "        vertical-align: top;\n",
       "    }\n",
       "\n",
       "    .dataframe thead th {\n",
       "        text-align: right;\n",
       "    }\n",
       "</style>\n",
       "<table border=\"1\" class=\"dataframe\">\n",
       "  <thead>\n",
       "    <tr style=\"text-align: right;\">\n",
       "      <th></th>\n",
       "      <th>temperature_2m</th>\n",
       "      <th>apparent_temperature</th>\n",
       "      <th>precipitation</th>\n",
       "      <th>cloud_cover</th>\n",
       "      <th>cloud_cover_low</th>\n",
       "      <th>cloud_cover_mid</th>\n",
       "      <th>cloud_cover_high</th>\n",
       "      <th>is_day</th>\n",
       "      <th>Date_hour</th>\n",
       "      <th>date_dt</th>\n",
       "      <th>...</th>\n",
       "      <th>Monday</th>\n",
       "      <th>Saturday</th>\n",
       "      <th>Sunday</th>\n",
       "      <th>Thursday</th>\n",
       "      <th>Tuesday</th>\n",
       "      <th>Wednesday</th>\n",
       "      <th>Fall</th>\n",
       "      <th>Spring</th>\n",
       "      <th>Summer</th>\n",
       "      <th>Winter</th>\n",
       "    </tr>\n",
       "  </thead>\n",
       "  <tbody>\n",
       "    <tr>\n",
       "      <th>10200</th>\n",
       "      <td>4.0</td>\n",
       "      <td>0.9</td>\n",
       "      <td>0.0</td>\n",
       "      <td>0.0</td>\n",
       "      <td>0.0</td>\n",
       "      <td>0.0</td>\n",
       "      <td>0.0</td>\n",
       "      <td>0</td>\n",
       "      <td>2021-03-01T00</td>\n",
       "      <td>2021-03-01</td>\n",
       "      <td>...</td>\n",
       "      <td>1</td>\n",
       "      <td>0</td>\n",
       "      <td>0</td>\n",
       "      <td>0</td>\n",
       "      <td>0</td>\n",
       "      <td>0</td>\n",
       "      <td>0</td>\n",
       "      <td>1</td>\n",
       "      <td>0</td>\n",
       "      <td>0</td>\n",
       "    </tr>\n",
       "    <tr>\n",
       "      <th>10201</th>\n",
       "      <td>3.6</td>\n",
       "      <td>0.5</td>\n",
       "      <td>0.0</td>\n",
       "      <td>0.0</td>\n",
       "      <td>0.0</td>\n",
       "      <td>0.0</td>\n",
       "      <td>0.0</td>\n",
       "      <td>0</td>\n",
       "      <td>2021-03-01T01</td>\n",
       "      <td>2021-03-01</td>\n",
       "      <td>...</td>\n",
       "      <td>1</td>\n",
       "      <td>0</td>\n",
       "      <td>0</td>\n",
       "      <td>0</td>\n",
       "      <td>0</td>\n",
       "      <td>0</td>\n",
       "      <td>0</td>\n",
       "      <td>1</td>\n",
       "      <td>0</td>\n",
       "      <td>0</td>\n",
       "    </tr>\n",
       "    <tr>\n",
       "      <th>10202</th>\n",
       "      <td>3.2</td>\n",
       "      <td>0.1</td>\n",
       "      <td>0.0</td>\n",
       "      <td>0.0</td>\n",
       "      <td>0.0</td>\n",
       "      <td>0.0</td>\n",
       "      <td>0.0</td>\n",
       "      <td>0</td>\n",
       "      <td>2021-03-01T02</td>\n",
       "      <td>2021-03-01</td>\n",
       "      <td>...</td>\n",
       "      <td>1</td>\n",
       "      <td>0</td>\n",
       "      <td>0</td>\n",
       "      <td>0</td>\n",
       "      <td>0</td>\n",
       "      <td>0</td>\n",
       "      <td>0</td>\n",
       "      <td>1</td>\n",
       "      <td>0</td>\n",
       "      <td>0</td>\n",
       "    </tr>\n",
       "    <tr>\n",
       "      <th>10203</th>\n",
       "      <td>2.9</td>\n",
       "      <td>-0.4</td>\n",
       "      <td>0.0</td>\n",
       "      <td>0.0</td>\n",
       "      <td>0.0</td>\n",
       "      <td>0.0</td>\n",
       "      <td>0.0</td>\n",
       "      <td>0</td>\n",
       "      <td>2021-03-01T03</td>\n",
       "      <td>2021-03-01</td>\n",
       "      <td>...</td>\n",
       "      <td>1</td>\n",
       "      <td>0</td>\n",
       "      <td>0</td>\n",
       "      <td>0</td>\n",
       "      <td>0</td>\n",
       "      <td>0</td>\n",
       "      <td>0</td>\n",
       "      <td>1</td>\n",
       "      <td>0</td>\n",
       "      <td>0</td>\n",
       "    </tr>\n",
       "    <tr>\n",
       "      <th>10204</th>\n",
       "      <td>2.6</td>\n",
       "      <td>-0.8</td>\n",
       "      <td>0.0</td>\n",
       "      <td>0.0</td>\n",
       "      <td>0.0</td>\n",
       "      <td>0.0</td>\n",
       "      <td>0.0</td>\n",
       "      <td>0</td>\n",
       "      <td>2021-03-01T04</td>\n",
       "      <td>2021-03-01</td>\n",
       "      <td>...</td>\n",
       "      <td>1</td>\n",
       "      <td>0</td>\n",
       "      <td>0</td>\n",
       "      <td>0</td>\n",
       "      <td>0</td>\n",
       "      <td>0</td>\n",
       "      <td>0</td>\n",
       "      <td>1</td>\n",
       "      <td>0</td>\n",
       "      <td>0</td>\n",
       "    </tr>\n",
       "  </tbody>\n",
       "</table>\n",
       "<p>5 rows × 43 columns</p>\n",
       "</div>"
      ],
      "text/plain": [
       "       temperature_2m  apparent_temperature  precipitation  cloud_cover  \\\n",
       "10200             4.0                   0.9            0.0          0.0   \n",
       "10201             3.6                   0.5            0.0          0.0   \n",
       "10202             3.2                   0.1            0.0          0.0   \n",
       "10203             2.9                  -0.4            0.0          0.0   \n",
       "10204             2.6                  -0.8            0.0          0.0   \n",
       "\n",
       "       cloud_cover_low  cloud_cover_mid  cloud_cover_high  is_day  \\\n",
       "10200              0.0              0.0               0.0       0   \n",
       "10201              0.0              0.0               0.0       0   \n",
       "10202              0.0              0.0               0.0       0   \n",
       "10203              0.0              0.0               0.0       0   \n",
       "10204              0.0              0.0               0.0       0   \n",
       "\n",
       "           Date_hour     date_dt  ... Monday Saturday Sunday Thursday Tuesday  \\\n",
       "10200  2021-03-01T00  2021-03-01  ...      1        0      0        0       0   \n",
       "10201  2021-03-01T01  2021-03-01  ...      1        0      0        0       0   \n",
       "10202  2021-03-01T02  2021-03-01  ...      1        0      0        0       0   \n",
       "10203  2021-03-01T03  2021-03-01  ...      1        0      0        0       0   \n",
       "10204  2021-03-01T04  2021-03-01  ...      1        0      0        0       0   \n",
       "\n",
       "      Wednesday Fall  Spring  Summer  Winter  \n",
       "10200         0    0       1       0       0  \n",
       "10201         0    0       1       0       0  \n",
       "10202         0    0       1       0       0  \n",
       "10203         0    0       1       0       0  \n",
       "10204         0    0       1       0       0  \n",
       "\n",
       "[5 rows x 43 columns]"
      ]
     },
     "execution_count": 419,
     "metadata": {},
     "output_type": "execute_result"
    }
   ],
   "source": [
    "# Concatenate the 'dummies' DataFrame with the 'feature_data' DataFrame\n",
    "feature_data = pd.concat([feature_data, dummies], axis=1)\n",
    "\n",
    "# Print the shape of the 'feature_data' DataFrame (number of rows, number of columns)\n",
    "print(feature_data.shape)\n",
    "\n",
    "# Display the first 5 rows of the 'feature_data' DataFrame\n",
    "feature_data.head()"
   ]
  },
  {
   "cell_type": "markdown",
   "metadata": {},
   "source": [
    "In the following section, we're merging our bicycle measurement dataframe with our feature set to create an initial dataset for model training. This is a crucial step in preparing our data for machine learning, as it brings together our target variable (bicycle counts) and the features we've engineered to predict it.\n",
    "\n",
    "We're careful to exclude any data from July 2023 onwards from our training set. Including this data would be inappropriate, as it falls within the period we're aiming to predict. Training our model on this data would essentially be \"cheating\", as it would give our model access to information about the future that it wouldn't have in a real-world scenario.\n",
    "\n",
    "After merging the dataframes, we verify that the latest timepoint in our training set is 2023-06-30T23. This is exactly one hour before July 2023 begins, confirming that we've successfully excluded the future data from our training set.\n",
    "\n",
    "This process of carefully defining our training and test sets is fundamental to ensuring the validity of our model. It's crucial that our model is trained on past data and tested on future data, as this is the scenario it will encounter when deployed in the real world. By adhering to this principle, we can ensure that our model's performance during testing is a reliable indicator of its future performance."
   ]
  },
  {
   "cell_type": "code",
   "execution_count": 420,
   "id": "4532c799",
   "metadata": {
    "execution": {
     "iopub.execute_input": "2023-10-05T13:07:11.461511Z",
     "iopub.status.busy": "2023-10-05T13:07:11.460524Z",
     "iopub.status.idle": "2023-10-05T13:07:11.491422Z",
     "shell.execute_reply": "2023-10-05T13:07:11.489607Z"
    },
    "papermill": {
     "duration": 0.038917,
     "end_time": "2023-10-05T13:07:11.494156",
     "exception": false,
     "start_time": "2023-10-05T13:07:11.455239",
     "status": "completed"
    },
    "tags": []
   },
   "outputs": [
    {
     "name": "stdout",
     "output_type": "stream",
     "text": [
      "(11686, 47)\n",
      "2022-03-01T00\n",
      "2023-06-30T23\n"
     ]
    },
    {
     "data": {
      "text/html": [
       "<div>\n",
       "<style scoped>\n",
       "    .dataframe tbody tr th:only-of-type {\n",
       "        vertical-align: middle;\n",
       "    }\n",
       "\n",
       "    .dataframe tbody tr th {\n",
       "        vertical-align: top;\n",
       "    }\n",
       "\n",
       "    .dataframe thead th {\n",
       "        text-align: right;\n",
       "    }\n",
       "</style>\n",
       "<table border=\"1\" class=\"dataframe\">\n",
       "  <thead>\n",
       "    <tr style=\"text-align: right;\">\n",
       "      <th></th>\n",
       "      <th>temperature_2m</th>\n",
       "      <th>apparent_temperature</th>\n",
       "      <th>precipitation</th>\n",
       "      <th>cloud_cover</th>\n",
       "      <th>cloud_cover_low</th>\n",
       "      <th>cloud_cover_mid</th>\n",
       "      <th>cloud_cover_high</th>\n",
       "      <th>is_day</th>\n",
       "      <th>Date_hour</th>\n",
       "      <th>date_dt</th>\n",
       "      <th>...</th>\n",
       "      <th>Tuesday</th>\n",
       "      <th>Wednesday</th>\n",
       "      <th>Fall</th>\n",
       "      <th>Spring</th>\n",
       "      <th>Summer</th>\n",
       "      <th>Winter</th>\n",
       "      <th>Datum</th>\n",
       "      <th>Totaal</th>\n",
       "      <th>LaggedTotaal_CL_year</th>\n",
       "      <th>LaggedTotaal_GD_year</th>\n",
       "    </tr>\n",
       "  </thead>\n",
       "  <tbody>\n",
       "    <tr>\n",
       "      <th>8759</th>\n",
       "      <td>3.2</td>\n",
       "      <td>-0.6</td>\n",
       "      <td>0.0</td>\n",
       "      <td>31.0</td>\n",
       "      <td>0.0</td>\n",
       "      <td>1.0</td>\n",
       "      <td>100.0</td>\n",
       "      <td>0</td>\n",
       "      <td>2022-03-01T00</td>\n",
       "      <td>2022-03-01</td>\n",
       "      <td>...</td>\n",
       "      <td>1</td>\n",
       "      <td>0</td>\n",
       "      <td>0</td>\n",
       "      <td>1</td>\n",
       "      <td>0</td>\n",
       "      <td>0</td>\n",
       "      <td>2022-03-01</td>\n",
       "      <td>73</td>\n",
       "      <td>5</td>\n",
       "      <td>2</td>\n",
       "    </tr>\n",
       "    <tr>\n",
       "      <th>8760</th>\n",
       "      <td>3.3</td>\n",
       "      <td>-0.4</td>\n",
       "      <td>0.0</td>\n",
       "      <td>51.0</td>\n",
       "      <td>7.0</td>\n",
       "      <td>25.0</td>\n",
       "      <td>100.0</td>\n",
       "      <td>0</td>\n",
       "      <td>2022-03-01T01</td>\n",
       "      <td>2022-03-01</td>\n",
       "      <td>...</td>\n",
       "      <td>1</td>\n",
       "      <td>0</td>\n",
       "      <td>0</td>\n",
       "      <td>1</td>\n",
       "      <td>0</td>\n",
       "      <td>0</td>\n",
       "      <td>2022-03-01</td>\n",
       "      <td>35</td>\n",
       "      <td>1</td>\n",
       "      <td>1</td>\n",
       "    </tr>\n",
       "    <tr>\n",
       "      <th>8761</th>\n",
       "      <td>3.5</td>\n",
       "      <td>-0.2</td>\n",
       "      <td>0.0</td>\n",
       "      <td>100.0</td>\n",
       "      <td>55.0</td>\n",
       "      <td>91.0</td>\n",
       "      <td>100.0</td>\n",
       "      <td>0</td>\n",
       "      <td>2022-03-01T02</td>\n",
       "      <td>2022-03-01</td>\n",
       "      <td>...</td>\n",
       "      <td>1</td>\n",
       "      <td>0</td>\n",
       "      <td>0</td>\n",
       "      <td>1</td>\n",
       "      <td>0</td>\n",
       "      <td>0</td>\n",
       "      <td>2022-03-01</td>\n",
       "      <td>44</td>\n",
       "      <td>0</td>\n",
       "      <td>0</td>\n",
       "    </tr>\n",
       "    <tr>\n",
       "      <th>8762</th>\n",
       "      <td>3.4</td>\n",
       "      <td>-0.4</td>\n",
       "      <td>0.0</td>\n",
       "      <td>100.0</td>\n",
       "      <td>98.0</td>\n",
       "      <td>100.0</td>\n",
       "      <td>99.0</td>\n",
       "      <td>0</td>\n",
       "      <td>2022-03-01T03</td>\n",
       "      <td>2022-03-01</td>\n",
       "      <td>...</td>\n",
       "      <td>1</td>\n",
       "      <td>0</td>\n",
       "      <td>0</td>\n",
       "      <td>1</td>\n",
       "      <td>0</td>\n",
       "      <td>0</td>\n",
       "      <td>2022-03-01</td>\n",
       "      <td>25</td>\n",
       "      <td>2</td>\n",
       "      <td>1</td>\n",
       "    </tr>\n",
       "    <tr>\n",
       "      <th>8763</th>\n",
       "      <td>3.3</td>\n",
       "      <td>-0.3</td>\n",
       "      <td>0.0</td>\n",
       "      <td>100.0</td>\n",
       "      <td>99.0</td>\n",
       "      <td>95.0</td>\n",
       "      <td>100.0</td>\n",
       "      <td>0</td>\n",
       "      <td>2022-03-01T04</td>\n",
       "      <td>2022-03-01</td>\n",
       "      <td>...</td>\n",
       "      <td>1</td>\n",
       "      <td>0</td>\n",
       "      <td>0</td>\n",
       "      <td>1</td>\n",
       "      <td>0</td>\n",
       "      <td>0</td>\n",
       "      <td>2022-03-01</td>\n",
       "      <td>19</td>\n",
       "      <td>21</td>\n",
       "      <td>4</td>\n",
       "    </tr>\n",
       "  </tbody>\n",
       "</table>\n",
       "<p>5 rows × 47 columns</p>\n",
       "</div>"
      ],
      "text/plain": [
       "      temperature_2m  apparent_temperature  precipitation  cloud_cover  \\\n",
       "8759             3.2                  -0.6            0.0         31.0   \n",
       "8760             3.3                  -0.4            0.0         51.0   \n",
       "8761             3.5                  -0.2            0.0        100.0   \n",
       "8762             3.4                  -0.4            0.0        100.0   \n",
       "8763             3.3                  -0.3            0.0        100.0   \n",
       "\n",
       "      cloud_cover_low  cloud_cover_mid  cloud_cover_high  is_day  \\\n",
       "8759              0.0              1.0             100.0       0   \n",
       "8760              7.0             25.0             100.0       0   \n",
       "8761             55.0             91.0             100.0       0   \n",
       "8762             98.0            100.0              99.0       0   \n",
       "8763             99.0             95.0             100.0       0   \n",
       "\n",
       "          Date_hour     date_dt  ... Tuesday Wednesday Fall Spring Summer  \\\n",
       "8759  2022-03-01T00  2022-03-01  ...       1         0    0      1      0   \n",
       "8760  2022-03-01T01  2022-03-01  ...       1         0    0      1      0   \n",
       "8761  2022-03-01T02  2022-03-01  ...       1         0    0      1      0   \n",
       "8762  2022-03-01T03  2022-03-01  ...       1         0    0      1      0   \n",
       "8763  2022-03-01T04  2022-03-01  ...       1         0    0      1      0   \n",
       "\n",
       "     Winter       Datum  Totaal  LaggedTotaal_CL_year  LaggedTotaal_GD_year  \n",
       "8759      0  2022-03-01      73                     5                     2  \n",
       "8760      0  2022-03-01      35                     1                     1  \n",
       "8761      0  2022-03-01      44                     0                     0  \n",
       "8762      0  2022-03-01      25                     2                     1  \n",
       "8763      0  2022-03-01      19                    21                     4  \n",
       "\n",
       "[5 rows x 47 columns]"
      ]
     },
     "execution_count": 420,
     "metadata": {},
     "output_type": "execute_result"
    }
   ],
   "source": [
    "# Merge the 'feature_data' DataFrame with the 'bicycle_data' DataFrame on the 'Date_hour' column\n",
    "all_data = feature_data.merge(bicycle_data, on = \"Date_hour\")\n",
    "\n",
    "# Filter the 'all_data' DataFrame to only include rows where 'Date_hour' is before the minimum 'Date_hour' in 'test_rawdata' and after 2022-03\n",
    "train_data = all_data[(all_data[\"Date_hour\"] < min(test_rawdata[\"Date_hour\"])) & (all_data[\"Date_hour\"] > \"2022-03\")]\n",
    "\n",
    "# Print the shape of the 'train_data' DataFrame (number of rows, number of columns)\n",
    "print(train_data.shape)\n",
    "\n",
    "# Print the earliest and latest dates in the 'Date_hour' column of the 'train_data' DataFrame\n",
    "print(min(train_data[\"Date_hour\"]))\n",
    "print(max(train_data[\"Date_hour\"]))\n",
    "\n",
    "# Display the first 5 rows of the 'train_data' DataFrame\n",
    "train_data.head()"
   ]
  },
  {
   "cell_type": "markdown",
   "id": "4820a726",
   "metadata": {
    "papermill": {
     "duration": 0.004274,
     "end_time": "2023-10-05T13:07:11.503369",
     "exception": false,
     "start_time": "2023-10-05T13:07:11.499095",
     "status": "completed"
    },
    "tags": []
   },
   "source": [
    "The following performs the same merging action, but then for the test set:"
   ]
  },
  {
   "cell_type": "code",
   "execution_count": 421,
   "id": "5f3df659",
   "metadata": {
    "execution": {
     "iopub.execute_input": "2023-10-05T13:07:11.513749Z",
     "iopub.status.busy": "2023-10-05T13:07:11.513342Z",
     "iopub.status.idle": "2023-10-05T13:07:11.529940Z",
     "shell.execute_reply": "2023-10-05T13:07:11.528659Z"
    },
    "papermill": {
     "duration": 0.024913,
     "end_time": "2023-10-05T13:07:11.532636",
     "exception": false,
     "start_time": "2023-10-05T13:07:11.507723",
     "status": "completed"
    },
    "tags": []
   },
   "outputs": [
    {
     "name": "stdout",
     "output_type": "stream",
     "text": [
      "(744, 47)\n",
      "2023-07-01T00\n",
      "2023-07-31T23\n"
     ]
    },
    {
     "data": {
      "text/html": [
       "<div>\n",
       "<style scoped>\n",
       "    .dataframe tbody tr th:only-of-type {\n",
       "        vertical-align: middle;\n",
       "    }\n",
       "\n",
       "    .dataframe tbody tr th {\n",
       "        vertical-align: top;\n",
       "    }\n",
       "\n",
       "    .dataframe thead th {\n",
       "        text-align: right;\n",
       "    }\n",
       "</style>\n",
       "<table border=\"1\" class=\"dataframe\">\n",
       "  <thead>\n",
       "    <tr style=\"text-align: right;\">\n",
       "      <th></th>\n",
       "      <th>Id</th>\n",
       "      <th>Date_hour</th>\n",
       "      <th>temperature_2m</th>\n",
       "      <th>apparent_temperature</th>\n",
       "      <th>precipitation</th>\n",
       "      <th>cloud_cover</th>\n",
       "      <th>cloud_cover_low</th>\n",
       "      <th>cloud_cover_mid</th>\n",
       "      <th>cloud_cover_high</th>\n",
       "      <th>is_day</th>\n",
       "      <th>...</th>\n",
       "      <th>Thursday</th>\n",
       "      <th>Tuesday</th>\n",
       "      <th>Wednesday</th>\n",
       "      <th>Fall</th>\n",
       "      <th>Spring</th>\n",
       "      <th>Summer</th>\n",
       "      <th>Winter</th>\n",
       "      <th>Datum</th>\n",
       "      <th>LaggedTotaal_CL_year</th>\n",
       "      <th>LaggedTotaal_GD_year</th>\n",
       "    </tr>\n",
       "  </thead>\n",
       "  <tbody>\n",
       "    <tr>\n",
       "      <th>0</th>\n",
       "      <td>0</td>\n",
       "      <td>2023-07-01T00</td>\n",
       "      <td>18.0</td>\n",
       "      <td>15.7</td>\n",
       "      <td>0.0</td>\n",
       "      <td>100.0</td>\n",
       "      <td>100.0</td>\n",
       "      <td>99.0</td>\n",
       "      <td>58.0</td>\n",
       "      <td>0</td>\n",
       "      <td>...</td>\n",
       "      <td>0</td>\n",
       "      <td>0</td>\n",
       "      <td>0</td>\n",
       "      <td>0</td>\n",
       "      <td>0</td>\n",
       "      <td>1</td>\n",
       "      <td>0</td>\n",
       "      <td>2023-07-01</td>\n",
       "      <td>96</td>\n",
       "      <td>71</td>\n",
       "    </tr>\n",
       "    <tr>\n",
       "      <th>1</th>\n",
       "      <td>1</td>\n",
       "      <td>2023-07-01T01</td>\n",
       "      <td>17.7</td>\n",
       "      <td>15.3</td>\n",
       "      <td>0.0</td>\n",
       "      <td>100.0</td>\n",
       "      <td>100.0</td>\n",
       "      <td>100.0</td>\n",
       "      <td>62.0</td>\n",
       "      <td>0</td>\n",
       "      <td>...</td>\n",
       "      <td>0</td>\n",
       "      <td>0</td>\n",
       "      <td>0</td>\n",
       "      <td>0</td>\n",
       "      <td>0</td>\n",
       "      <td>1</td>\n",
       "      <td>0</td>\n",
       "      <td>2023-07-01</td>\n",
       "      <td>41</td>\n",
       "      <td>42</td>\n",
       "    </tr>\n",
       "    <tr>\n",
       "      <th>2</th>\n",
       "      <td>2</td>\n",
       "      <td>2023-07-01T02</td>\n",
       "      <td>17.4</td>\n",
       "      <td>15.0</td>\n",
       "      <td>0.0</td>\n",
       "      <td>100.0</td>\n",
       "      <td>100.0</td>\n",
       "      <td>100.0</td>\n",
       "      <td>85.0</td>\n",
       "      <td>0</td>\n",
       "      <td>...</td>\n",
       "      <td>0</td>\n",
       "      <td>0</td>\n",
       "      <td>0</td>\n",
       "      <td>0</td>\n",
       "      <td>0</td>\n",
       "      <td>1</td>\n",
       "      <td>0</td>\n",
       "      <td>2023-07-01</td>\n",
       "      <td>17</td>\n",
       "      <td>24</td>\n",
       "    </tr>\n",
       "    <tr>\n",
       "      <th>3</th>\n",
       "      <td>3</td>\n",
       "      <td>2023-07-01T03</td>\n",
       "      <td>17.2</td>\n",
       "      <td>15.0</td>\n",
       "      <td>0.0</td>\n",
       "      <td>100.0</td>\n",
       "      <td>100.0</td>\n",
       "      <td>85.0</td>\n",
       "      <td>90.0</td>\n",
       "      <td>0</td>\n",
       "      <td>...</td>\n",
       "      <td>0</td>\n",
       "      <td>0</td>\n",
       "      <td>0</td>\n",
       "      <td>0</td>\n",
       "      <td>0</td>\n",
       "      <td>1</td>\n",
       "      <td>0</td>\n",
       "      <td>2023-07-01</td>\n",
       "      <td>49</td>\n",
       "      <td>31</td>\n",
       "    </tr>\n",
       "    <tr>\n",
       "      <th>4</th>\n",
       "      <td>4</td>\n",
       "      <td>2023-07-01T04</td>\n",
       "      <td>17.1</td>\n",
       "      <td>15.3</td>\n",
       "      <td>0.0</td>\n",
       "      <td>100.0</td>\n",
       "      <td>100.0</td>\n",
       "      <td>64.0</td>\n",
       "      <td>85.0</td>\n",
       "      <td>1</td>\n",
       "      <td>...</td>\n",
       "      <td>0</td>\n",
       "      <td>0</td>\n",
       "      <td>0</td>\n",
       "      <td>0</td>\n",
       "      <td>0</td>\n",
       "      <td>1</td>\n",
       "      <td>0</td>\n",
       "      <td>2023-07-01</td>\n",
       "      <td>37</td>\n",
       "      <td>31</td>\n",
       "    </tr>\n",
       "  </tbody>\n",
       "</table>\n",
       "<p>5 rows × 47 columns</p>\n",
       "</div>"
      ],
      "text/plain": [
       "   Id      Date_hour  temperature_2m  apparent_temperature  precipitation  \\\n",
       "0   0  2023-07-01T00            18.0                  15.7            0.0   \n",
       "1   1  2023-07-01T01            17.7                  15.3            0.0   \n",
       "2   2  2023-07-01T02            17.4                  15.0            0.0   \n",
       "3   3  2023-07-01T03            17.2                  15.0            0.0   \n",
       "4   4  2023-07-01T04            17.1                  15.3            0.0   \n",
       "\n",
       "   cloud_cover  cloud_cover_low  cloud_cover_mid  cloud_cover_high  is_day  \\\n",
       "0        100.0            100.0             99.0              58.0       0   \n",
       "1        100.0            100.0            100.0              62.0       0   \n",
       "2        100.0            100.0            100.0              85.0       0   \n",
       "3        100.0            100.0             85.0              90.0       0   \n",
       "4        100.0            100.0             64.0              85.0       1   \n",
       "\n",
       "   ... Thursday Tuesday Wednesday Fall Spring Summer Winter       Datum  \\\n",
       "0  ...        0       0         0    0      0      1      0  2023-07-01   \n",
       "1  ...        0       0         0    0      0      1      0  2023-07-01   \n",
       "2  ...        0       0         0    0      0      1      0  2023-07-01   \n",
       "3  ...        0       0         0    0      0      1      0  2023-07-01   \n",
       "4  ...        0       0         0    0      0      1      0  2023-07-01   \n",
       "\n",
       "   LaggedTotaal_CL_year  LaggedTotaal_GD_year  \n",
       "0                    96                    71  \n",
       "1                    41                    42  \n",
       "2                    17                    24  \n",
       "3                    49                    31  \n",
       "4                    37                    31  \n",
       "\n",
       "[5 rows x 47 columns]"
      ]
     },
     "execution_count": 421,
     "metadata": {},
     "output_type": "execute_result"
    }
   ],
   "source": [
    "# Merge the 'test_rawdata' DataFrame with the 'feature_data' DataFrame on the 'Date_hour' column\n",
    "test_data = test_rawdata.merge(feature_data, on = \"Date_hour\", how = 'left')\n",
    "\n",
    "# Merge the resulting DataFrame with the 'bicycle_data' DataFrame on the 'Date_hour' column and drop the 'Totaal' column\n",
    "test_data = test_data.merge(bicycle_data, on = \"Date_hour\", how = 'left').drop(\"Totaal\", axis = 1)\n",
    "\n",
    "# Print the shape of the 'test_data' DataFrame (number of rows, number of columns)\n",
    "print(test_data.shape)\n",
    "\n",
    "# Print the earliest and latest dates in the 'Date_hour' column of the 'test_data' DataFrame\n",
    "print(min(test_data[\"Date_hour\"]))\n",
    "print(max(test_data[\"Date_hour\"]))\n",
    "\n",
    "# Display the first 5 rows of the 'test_data' DataFrame\n",
    "test_data.head()"
   ]
  },
  {
   "cell_type": "markdown",
   "metadata": {},
   "source": [
    "In typical predictive modeling scenarios, we don't have access to the actual values of the data points we're trying to predict. However, in this particular case, we do have access to the true values for the period we're forecasting, which is July 2023. \n",
    "\n",
    "This data, often referred to as the \"gold standard\", represents the actual outcomes that our model will attempt to predict. Having this data available provides us with a unique opportunity to evaluate the performance of our model in a more concrete and meaningful way. \n",
    "\n",
    "Instead of relying solely on statistical measures of model performance, we can compare our model's predictions directly with the true outcomes. This allows us to assess how well our model is able to capture the actual trends and patterns in the data, and provides a more intuitive understanding of its predictive capabilities.\n",
    "\n",
    "In this context, we will save the gold standard data for July 2023 for later comparison with our model's predictions. This data essentially represents 100% of the true test set, providing a complete picture of the actual outcomes for the period we're forecasting."
   ]
  },
  {
   "cell_type": "code",
   "execution_count": 422,
   "id": "331d9145",
   "metadata": {},
   "outputs": [
    {
     "name": "stdout",
     "output_type": "stream",
     "text": [
      "(744, 3)\n",
      "2023-07-01T00\n",
      "2023-07-31T23\n"
     ]
    },
    {
     "data": {
      "text/html": [
       "<div>\n",
       "<style scoped>\n",
       "    .dataframe tbody tr th:only-of-type {\n",
       "        vertical-align: middle;\n",
       "    }\n",
       "\n",
       "    .dataframe tbody tr th {\n",
       "        vertical-align: top;\n",
       "    }\n",
       "\n",
       "    .dataframe thead th {\n",
       "        text-align: right;\n",
       "    }\n",
       "</style>\n",
       "<table border=\"1\" class=\"dataframe\">\n",
       "  <thead>\n",
       "    <tr style=\"text-align: right;\">\n",
       "      <th></th>\n",
       "      <th>Id</th>\n",
       "      <th>Date_hour</th>\n",
       "      <th>Totaal</th>\n",
       "    </tr>\n",
       "  </thead>\n",
       "  <tbody>\n",
       "    <tr>\n",
       "      <th>0</th>\n",
       "      <td>0</td>\n",
       "      <td>2023-07-01T00</td>\n",
       "      <td>150</td>\n",
       "    </tr>\n",
       "    <tr>\n",
       "      <th>1</th>\n",
       "      <td>1</td>\n",
       "      <td>2023-07-01T01</td>\n",
       "      <td>92</td>\n",
       "    </tr>\n",
       "    <tr>\n",
       "      <th>2</th>\n",
       "      <td>2</td>\n",
       "      <td>2023-07-01T02</td>\n",
       "      <td>49</td>\n",
       "    </tr>\n",
       "    <tr>\n",
       "      <th>3</th>\n",
       "      <td>3</td>\n",
       "      <td>2023-07-01T03</td>\n",
       "      <td>36</td>\n",
       "    </tr>\n",
       "    <tr>\n",
       "      <th>4</th>\n",
       "      <td>4</td>\n",
       "      <td>2023-07-01T04</td>\n",
       "      <td>57</td>\n",
       "    </tr>\n",
       "  </tbody>\n",
       "</table>\n",
       "</div>"
      ],
      "text/plain": [
       "   Id      Date_hour  Totaal\n",
       "0   0  2023-07-01T00     150\n",
       "1   1  2023-07-01T01      92\n",
       "2   2  2023-07-01T02      49\n",
       "3   3  2023-07-01T03      36\n",
       "4   4  2023-07-01T04      57"
      ]
     },
     "execution_count": 422,
     "metadata": {},
     "output_type": "execute_result"
    }
   ],
   "source": [
    "# Merge the 'test_rawdata' DataFrame with the 'Totaal' and 'Date_hour' columns of the 'bicycle_data' DataFrame on the 'Date_hour' column\n",
    "gtest_data = test_rawdata.merge(bicycle_data[[\"Totaal\", \"Date_hour\"]], on = \"Date_hour\", how = 'left')\n",
    "\n",
    "# Print the shape of the 'gtest_data' DataFrame (number of rows, number of columns)\n",
    "print(gtest_data.shape)\n",
    "\n",
    "# Print the earliest and latest dates in the 'Date_hour' column of the 'gtest_data' DataFrame\n",
    "print(min(gtest_data[\"Date_hour\"]))\n",
    "print(max(gtest_data[\"Date_hour\"]))\n",
    "\n",
    "# Display the first 5 rows of the 'gtest_data' DataFrame\n",
    "gtest_data.head()"
   ]
  },
  {
   "cell_type": "markdown",
   "metadata": {},
   "source": [
    "As we conclude this section, it's important to identify the \"usable\" features in our dataset. These are the features that will be used to train and test our predictive model. \n",
    "\n",
    "In this context, \"usable\" features are defined as those that are numerical vectors. This is because most machine learning algorithms can only process numerical data. They cannot handle string or datetime objects directly. Therefore, we need to exclude these non-numerical features from our dataset before we proceed with model training and testing.\n",
    "\n",
    "However, it's important to note that this doesn't mean that non-numerical data is not useful. On the contrary, string and datetime objects often contain valuable information that can enhance our model's predictive performance. But to utilize this information, we need to transform these non-numerical features into a numerical format, a process known as feature encoding.\n",
    "\n",
    "In this case, we've already performed this encoding process for several of our features, transforming categorical string variables into numerical format using dummy encoding. Therefore, the remaining string and datetime objects in our dataset are those that we've deemed not useful for our model, and these will be excluded.\n",
    "\n",
    "By defining our \"usable\" features in this way, we ensure that our model is trained on relevant, informative data, which is crucial for achieving good predictive performance."
   ]
  },
  {
   "cell_type": "code",
   "execution_count": 423,
   "metadata": {},
   "outputs": [
    {
     "name": "stdout",
     "output_type": "stream",
     "text": [
      "['temperature_2m', 'apparent_temperature', 'precipitation', 'cloud_cover', 'cloud_cover_low', 'cloud_cover_mid', 'cloud_cover_high', 'is_day', 'hour', 'hour_sin', 'hour_cosin', 'month', 'is_weekday', 'is_weekend', 'is_school_hours', 'is_university_lessons', 'is_Ghent_event', 'is_public_holiday', 'is_bridge_day', 'is_school_holiday', 'is_bouwverlof', 'Friday', 'Monday', 'Saturday', 'Sunday', 'Thursday', 'Tuesday', 'Wednesday', 'Fall', 'Spring', 'Summer', 'Winter', 'LaggedTotaal_CL_year', 'LaggedTotaal_GD_year']\n"
     ]
    }
   ],
   "source": [
    "# Get a list of all numeric features in 'train_data' and store it in 'all_features'\n",
    "all_features = list(train_data.select_dtypes(include='number').columns)\n",
    "\n",
    "# Define a list of features to remove\n",
    "elements_to_remove = [\"Totaal\"]\n",
    "\n",
    "# Remove the features in 'elements_to_remove' from 'all_features'\n",
    "all_features = [feature for feature in all_features if feature not in elements_to_remove]\n",
    "\n",
    "print(all_features)"
   ]
  },
  {
   "cell_type": "markdown",
   "id": "e09cf517",
   "metadata": {},
   "source": [
    "## Advanced preprocessing and setup"
   ]
  },
  {
   "cell_type": "markdown",
   "id": "9f95372c",
   "metadata": {},
   "source": [
    "### Load packages"
   ]
  },
  {
   "cell_type": "markdown",
   "metadata": {},
   "source": [
    "All packages necessary for the remainder of the pipeline are loaded in this chunk."
   ]
  },
  {
   "cell_type": "code",
   "execution_count": 424,
   "id": "8c9d4c2c",
   "metadata": {},
   "outputs": [],
   "source": [
    "# Import the matplotlib.pyplot module for creating static, animated, and interactive visualizations\n",
    "import matplotlib.pyplot as plt\n",
    "\n",
    "# Import the seaborn module for statistical data visualization\n",
    "import seaborn as sns\n",
    "\n",
    "# Import various modules from sklearn for machine learning tasks\n",
    "from sklearn.pipeline import make_pipeline\n",
    "from sklearn.preprocessing import StandardScaler, PolynomialFeatures, Normalizer\n",
    "from sklearn.feature_selection import SelectFromModel\n",
    "from sklearn.model_selection import cross_val_score, KFold, GridSearchCV\n",
    "from sklearn.linear_model import Lasso\n",
    "from sklearn.metrics import r2_score\n",
    "\n",
    "# Import the XGBRegressor class from the xgboost module for XGBoost regression\n",
    "from xgboost import XGBRegressor"
   ]
  },
  {
   "cell_type": "markdown",
   "metadata": {},
   "source": [
    "### Functions"
   ]
  },
  {
   "cell_type": "markdown",
   "metadata": {},
   "source": [
    "In this section, we're defining a set of helper functions that will be instrumental in our subsequent data analysis and modeling tasks. \n",
    "\n",
    "Helper functions are custom functions that we create to perform specific tasks that are not readily available in the libraries we're using, or to simplify complex tasks into single function calls. These functions help to keep our code organized, reusable, and easy to understand."
   ]
  },
  {
   "cell_type": "markdown",
   "metadata": {},
   "source": [
    "#### Nested K-fold Cross-Validation"
   ]
  },
  {
   "cell_type": "markdown",
   "metadata": {},
   "source": [
    "This function is designed to perform nested k-fold cross-validation, a robust method for estimating the performance of machine learning models and optimizing their hyperparameters. \n",
    "\n",
    "Nested k-fold cross-validation is essentially a combination of cross-validation and grid search. It involves two loops: an inner loop for hyperparameter tuning, and an outer loop for model evaluation. \n",
    "\n",
    "In the inner loop, the function uses the `GridSearchCV` method to fit a model to each training set and select the best hyperparameters based on the validation set. This process is repeated for each combination of hyperparameters in the provided grid, and the combination that yields the highest validation score is selected.\n",
    "\n",
    "In the outer loop, the function uses the `cross_val_score` method to estimate the generalization error of the model. This is done by dividing the data into several splits, fitting the model (with the optimized hyperparameters) to each training split, and then evaluating its performance on the corresponding test split. The average test score across all splits is used as the estimate of the model's generalization error.\n",
    "\n",
    "By default, the function uses 5 splits in the inner loop and 3 splits in the outer loop. This balance helps to prevent overfitting (which can occur with too many splits) and underfitting (which can occur with too few splits).\n",
    "\n",
    "The function returns the hyperparameters that maximized the model's performance, providing valuable insights for further tuning and optimization. It also prints the mean score across all models tested, giving a comprehensive overview of the model's performance.\n",
    "\n",
    "This nested k-fold cross-validation function is a powerful tool for model selection and hyperparameter tuning. It provides a more reliable estimate of model performance than traditional methods, helping to ensure that the selected model will perform well on unseen data."
   ]
  },
  {
   "cell_type": "code",
   "execution_count": 425,
   "metadata": {},
   "outputs": [],
   "source": [
    "# Define a function for nested k-fold cross-validation\n",
    "def nested_kfold_cv(model_to_tune, param_grid, data, target):\n",
    "    # Declare the inner and outer cross-validation strategies\n",
    "    inner_cv = KFold(n_splits=5, shuffle=True, random_state=0)\n",
    "    outer_cv = KFold(n_splits=3, shuffle=True, random_state=0)\n",
    "\n",
    "    # Inner cross-validation for parameter search\n",
    "    model = GridSearchCV(\n",
    "        estimator=model_to_tune, param_grid=param_grid, cv=inner_cv, n_jobs=2, scoring = 'r2'\n",
    "    )\n",
    "\n",
    "    # Outer cross-validation to compute the testing score\n",
    "    test_score = cross_val_score(model, data, target, cv=outer_cv, n_jobs=2)\n",
    "    print(\n",
    "        \"The mean score using nested cross-validation is: \"\n",
    "        f\"{test_score.mean():.3f} ± {test_score.std():.3f}\"\n",
    "    )\n",
    "\n",
    "    # Fit the model to the data\n",
    "    model.fit(data, target)\n",
    "\n",
    "    # Get the best parameters found by the GridSearchCV\n",
    "    best_params = model.best_params_\n",
    "\n",
    "    # Print the best parameters\n",
    "    print(f\"The best parameters found are: {best_params}\")\n",
    "\n",
    "    # Return the best parameters\n",
    "    return best_params"
   ]
  },
  {
   "cell_type": "markdown",
   "metadata": {},
   "source": [
    "#### Error Plot"
   ]
  },
  {
   "cell_type": "markdown",
   "metadata": {},
   "source": [
    "This function is designed to visually represent the logarithmic error between the true values and predicted values for a test set. It accepts model predictions and gold standards (actual values) for both a training set and a test set.\n",
    "\n",
    "The function primarily focuses on the test set, as this is where we're interested in evaluating the model's performance. However, the training set is also included to provide a point of comparison and to help identify any potential issues with overfitting or underfitting.\n",
    "\n",
    "The function plots the logarithmic error, which is a measure of the difference between the predicted and actual values. This error measure is particularly useful in our context, as it can help highlight the magnitude of the errors made by the model, especially when dealing with large numbers.\n",
    "\n",
    "The plot generated by this function provides a visual representation of the model's performance, making it easier to identify patterns and trends in the errors. For instance, if the errors are randomly distributed around zero, this indicates that the model's predictions are generally accurate. On the other hand, if the errors show a systematic pattern, this suggests that the model is consistently overestimating or underestimating the target variable.\n",
    "\n",
    "By providing a visual representation of the model's errors, this function offers a valuable tool for model evaluation and diagnostics. It can help identify areas where the model is performing well, as well as areas where improvements may be needed."
   ]
  },
  {
   "cell_type": "code",
   "execution_count": 426,
   "metadata": {},
   "outputs": [],
   "source": [
    "# Define a function to plot the difference between the actual test values and the predicted test values\n",
    "def plot_diff(y_test, y_hat_test):\n",
    "    # Reset the index of the 'y_test' DataFrame and store the result in 'y_test_reset'\n",
    "    y_test_reset = y_test.reset_index()\n",
    "    \n",
    "    # Get the list of indices of the 'y_test_reset' DataFrame and store it in 'indices'\n",
    "    indices = y_test_reset.index.to_list()\n",
    "    \n",
    "    # Calculate the time in days and store it in 'time'\n",
    "    time = np.divide(indices, max(indices))*31\n",
    "    \n",
    "    # Take the absolute difference between the predicted test values and the actual test values, apply the logarithm, and store the result in 'logdiff_test'\n",
    "    logdiff_test = np.log10(np.abs(y_hat_test - y_test))\n",
    "\n",
    "    # Plot 'logdiff_test' against 'time' with blue circles\n",
    "    plt.plot(time, logdiff_test, 'bo')\n",
    "    \n",
    "    # Set the x-axis label to 'Day'\n",
    "    plt.xlabel('Day')\n",
    "    \n",
    "    # Set the y-axis label to 'log10(|y_hat_test - y_test|)'\n",
    "    plt.ylabel('log10(|y_hat_test - y_test|)')\n",
    "    \n",
    "    # Enable the grid\n",
    "    plt.grid(True)\n",
    "    \n",
    "    # Display the plot\n",
    "    plt.show()"
   ]
  },
  {
   "cell_type": "markdown",
   "metadata": {},
   "source": [
    "#### Export predictions"
   ]
  },
  {
   "cell_type": "markdown",
   "metadata": {},
   "source": [
    "This is a simple function that exports a given set of predictions to a \".csv\" file, with a name based on the input string."
   ]
  },
  {
   "cell_type": "code",
   "execution_count": 427,
   "metadata": {},
   "outputs": [],
   "source": [
    "# Define a function to save the predictions\n",
    "def save_predictions(name, test_data, y_hat_test):\n",
    "    # Create a DataFrame with the 'Id' column from 'test_data' and 'y_hat_test', and transpose it\n",
    "    file = pd.DataFrame([test_data.loc[:, \"Id\"], y_hat_test]).T\n",
    "    \n",
    "    # Set the column names of 'file' to 'Id' and 'Predicted'\n",
    "    file.columns = [\"Id\", \"Predicted\"]\n",
    "    \n",
    "    # Save 'file' as a CSV file in the specified directory, without including the index in the output file\n",
    "    file.to_csv(\"input/bicycle-counter-prediction/predictions/\" + name + \".csv\", index = False)"
   ]
  },
  {
   "cell_type": "markdown",
   "metadata": {},
   "source": [
    "### Diagnostic plots"
   ]
  },
  {
   "cell_type": "markdown",
   "metadata": {},
   "source": [
    "In this section, we will generate a series of plots to facilitate a deeper understanding of our data and guide the process of feature engineering. These visualizations will serve multiple purposes:\n",
    "\n",
    "1. **Data Exploration**: The plots will help us explore the structure and characteristics of our data. This includes identifying patterns, trends, and outliers, as well as understanding the distribution of different variables.\n",
    "\n",
    "2. **Feature-Response Relationships**: By visualizing the relationship between our features and the response variable, we can gain insights into which features might be influential in predicting the response. This can guide us in selecting features for our model.\n",
    "\n",
    "3. **Guide for Feature Engineering**: The visualizations can also provide guidance for further feature engineering. For instance, if we observe non-linear relationships between some features and the response, we might consider transforming those features to capture the non-linearity.\n",
    "\n",
    "4. **Model Diagnostics**: Finally, the plots can be used for model diagnostics, helping us identify any issues with our model and guiding us in improving its performance."
   ]
  },
  {
   "cell_type": "markdown",
   "metadata": {},
   "source": [
    "#### Histogram"
   ]
  },
  {
   "cell_type": "markdown",
   "metadata": {},
   "source": [
    "The histogram below provides a visual representation of the distribution of our response variable. At first glance, the distribution appears to be skewed, resembling a Poisson distribution. This is a common occurrence in count data, which our response variable represents.\n",
    "\n",
    "Interestingly, the distribution seems to exhibit two distinct local peaks, suggesting that it might be a mixture of two different distributions. This observation could be indicative of two different groups or states within our data, each with its own distinct distribution.\n",
    "\n",
    "A mixture model, which is a probabilistic model for representing the presence of subpopulations within an overall population, might be a suitable approach to accurately capture this distribution. This model could potentially provide a more nuanced understanding of our data and improve the predictive performance of our subsequent models."
   ]
  },
  {
   "cell_type": "code",
   "execution_count": 428,
   "metadata": {},
   "outputs": [
    {
     "data": {
      "text/plain": [
       "<Axes: ylabel='Count'>"
      ]
     },
     "execution_count": 428,
     "metadata": {},
     "output_type": "execute_result"
    },
    {
     "data": {
      "image/png": "[encoded data removed]",
      "text/plain": [
       "<Figure size 640x480 with 1 Axes>"
      ]
     },
     "metadata": {},
     "output_type": "display_data"
    }
   ],
   "source": [
    "# Plot a histogram of the 'Totaal' column of the 'train_data' DataFrame using seaborn\n",
    "sns.histplot(train_data.loc[:,['Totaal']])"
   ]
  },
  {
   "cell_type": "markdown",
   "metadata": {},
   "source": [
    "#### Time series plot"
   ]
  },
  {
   "cell_type": "markdown",
   "metadata": {},
   "source": [
    "In this section, we're visualizing the sum of bicycle counts at the Coupure Links location, aggregated by month. The resulting plot reveals a clear pattern of seasonality in the data, with bicycle counts fluctuating significantly throughout the year.\n",
    "\n",
    "Notably, the months of September and October stand out as periods of high bicycle activity. This could be attributed to these months being typical school and work months, where commuting by bicycle is more prevalent. Conversely, the months of December, July, and August show noticeably lower bicycle counts. These months coincide with common holiday periods, where regular commuting patterns are disrupted, leading to a decrease in bicycle usage.\n",
    "\n",
    "This seasonality is particularly important when considering the month of July, which is the focus of our prediction task. As the data shows, July falls at the lower end of the yearly count spectrum. This presents a risk of overfitting if our model is trained predominantly on data from higher-activity months. Therefore, it's crucial to include features that capture this seasonal variation in our model.\n",
    "\n",
    "Additionally, the data appears to exhibit autocorrelation, meaning that the bicycle counts at a given time are influenced by the counts at previous times. This is evident in the quasi-stationary distribution that repeats over time. Autocorrelation is a common characteristic of time series data and can be leveraged to improve the predictive performance of our model."
   ]
  },
  {
   "cell_type": "code",
   "execution_count": 429,
   "metadata": {},
   "outputs": [
    {
     "name": "stdout",
     "output_type": "stream",
     "text": [
      "   month_year  month  year  Totaal month_year_dt\n",
      "2     03-2022      3  2022  251895    2022-03-01\n",
      "4     04-2022      4  2022  199802    2022-04-01\n",
      "6     05-2022      5  2022  252478    2022-05-01\n",
      "8     06-2022      6  2022  229834    2022-06-01\n",
      "10    07-2022      7  2022  179065    2022-07-01\n"
     ]
    },
    {
     "data": {
      "image/png": "[encoded data removed]",
      "text/plain": [
       "<Figure size 640x480 with 1 Axes>"
      ]
     },
     "metadata": {},
     "output_type": "display_data"
    }
   ],
   "source": [
    "# Group the 'train_data' DataFrame by 'month_year', 'month', and 'year', calculate the sum of the 'Totaal' column for each group, reset the index, and store the result in 'sum_by_month'\n",
    "sum_by_month = train_data.groupby(['month_year', 'month', 'year']).agg({'Totaal': 'sum'}).reset_index()\n",
    "\n",
    "# Convert the 'month_year' column of 'sum_by_month' to datetime format and store the result in 'month_year_dt'\n",
    "sum_by_month['month_year_dt'] = pd.to_datetime(sum_by_month['month_year'], format='%m-%Y')\n",
    "\n",
    "# Sort 'sum_by_month' by 'month_year_dt' and store the result back in 'sum_by_month'\n",
    "sum_by_month = sum_by_month.sort_values(by='month_year_dt')\n",
    "\n",
    "# Print the first 5 rows of 'sum_by_month'\n",
    "print(sum_by_month.head())\n",
    "\n",
    "# Create a bar plot of the 'Totaal' column of 'sum_by_month' against the 'month_year' column\n",
    "sns.barplot(x = \"month_year\", y = \"Totaal\", data = sum_by_month)\n",
    "\n",
    "# Rotate the x-axis labels by 45 degrees\n",
    "plt.xticks(rotation=45)\n",
    "\n",
    "# Display the plot\n",
    "%matplotlib inline"
   ]
  },
  {
   "cell_type": "markdown",
   "metadata": {},
   "source": [
    "#### Heatmap Plot: Correlation Matrix"
   ]
  },
  {
   "cell_type": "markdown",
   "metadata": {},
   "source": [
    "In this section, we're creating a correlation matrix heatmap to visualize the relationships between all numerical features and the response variable. This is a powerful tool for understanding the interdependencies among multiple variables simultaneously.\n",
    "\n",
    "The correlation matrix is a square matrix that contains the Pearson correlation coefficients for each pair of variables in our dataset. These coefficients range from -1 to 1, with -1 indicating a perfect negative correlation, 1 indicating a perfect positive correlation, and 0 indicating no correlation.\n",
    "\n",
    "The heatmap is a graphical representation of this matrix, where the color of each cell corresponds to the correlation coefficient of the corresponding variable pair. This makes it easy to identify highly correlated variables at a glance.\n",
    "\n",
    "From the heatmap, we observe some degree of multicollinearity, which refers to a situation where two or more variables are highly correlated. While multicollinearity is not inherently problematic, it can pose challenges in certain situations, such as when interpreting the coefficients of a linear regression model.\n",
    "\n",
    "However, the level of multicollinearity observed here is not overly concerning. It's important to remember that correlation does not imply causation, and a high correlation between two variables does not necessarily mean that one causes the other."
   ]
  },
  {
   "cell_type": "code",
   "execution_count": 430,
   "metadata": {},
   "outputs": [
    {
     "data": {
      "image/png": "[encoded data removed]",
      "text/plain": [
       "<Figure size 1200x1000 with 2 Axes>"
      ]
     },
     "metadata": {},
     "output_type": "display_data"
    }
   ],
   "source": [
    "# Calculate the correlation matrix of the numeric features in 'train_data' and store it in 'cormat'\n",
    "cormat = train_data.loc[:, all_features + [\"Totaal\"]].corr()\n",
    "\n",
    "# Create a new figure with a specified size\n",
    "plt.figure(figsize=(12, 10))\n",
    "\n",
    "# Create a heatmap of 'cormat' using seaborn\n",
    "sns.heatmap(cormat, cmap='coolwarm')\n",
    "\n",
    "# Set the title of the plot to 'Correlation Matrix'\n",
    "plt.title('Correlation Matrix')\n",
    "\n",
    "# Display the plot\n",
    "plt.show()"
   ]
  },
  {
   "cell_type": "markdown",
   "metadata": {},
   "source": [
    "#### Pairwise Plot: Lagged Bicycle Measurements"
   ]
  },
  {
   "cell_type": "markdown",
   "metadata": {},
   "source": [
    "The analysis of the lagged counters' distributions reveals a key insight about cycling trends in Ghent: they appear to be largely independent of the specific district. This observation is based on the similarity of the distributions across different lagged counters.\n",
    "\n",
    "In other words, the patterns of bicycle usage over time do not vary significantly from one district to another. This could suggest that the factors influencing bicycle usage, such as weather conditions, time of year, and day of the week, have a similar impact across all districts.\n",
    "\n",
    "This finding has important implications for our predictive model. It suggests that we can potentially use the same model to predict bicycle counts in all districts, rather than having to develop separate models for each district. This could greatly simplify our modeling process and make our predictions more consistent and reliable."
   ]
  },
  {
   "cell_type": "code",
   "execution_count": 431,
   "metadata": {},
   "outputs": [
    {
     "data": {
      "text/plain": [
       "<seaborn.axisgrid.PairGrid at 0x1a62bca4160>"
      ]
     },
     "execution_count": 431,
     "metadata": {},
     "output_type": "execute_result"
    },
    {
     "data": {
      "image/png": "[encoded data removed]",
      "text/plain": [
       "<Figure size 750x750 with 12 Axes>"
      ]
     },
     "metadata": {},
     "output_type": "display_data"
    }
   ],
   "source": [
    "# Define a list of features to plot\n",
    "plot_features = ['LaggedTotaal_CL_year', 'LaggedTotaal_GD_year']\n",
    "\n",
    "# Create a pairplot of the features in 'plot_features' and 'Totaal' using seaborn\n",
    "sns.pairplot(train_data.loc[:,plot_features + [\"Totaal\"]])"
   ]
  },
  {
   "cell_type": "markdown",
   "metadata": {},
   "source": [
    "#### Pairwise Plot: Weather and Temporal"
   ]
  },
  {
   "cell_type": "markdown",
   "metadata": {},
   "source": [
    "In this section, we delve into the relationship between our weather and temporal features and the response variable. Our analysis suggests that these relationships are often non-linear, which has significant implications for our modeling strategy.\n",
    "\n",
    "For instance, we observe that both low and high temperatures lead to a decrease in the number of cyclists. This suggests a U-shaped relationship between temperature and bicycle counts, where moderate temperatures result in the highest number of cyclists. This pattern could be attributed to the fact that extreme temperatures, whether hot or cold, tend to discourage outdoor activities like cycling.\n",
    "\n",
    "Interestingly, we also find that these temperature effects are more pronounced during the day than at night. This could be because nighttime cycling activity is generally lower and less sensitive to temperature fluctuations. This observation underscores the importance of considering interaction effects in our model, as the impact of a given feature may depend on the values of other features.\n",
    "\n",
    "These findings provide a strong motivation for using a non-linear model, such as a decision tree or random forest. These models can capture complex, non-linear relationships and interaction effects, making them well-suited to our data. By choosing a model that aligns with the underlying patterns in our data, we can enhance the accuracy and interpretability of our predictions."
   ]
  },
  {
   "cell_type": "code",
   "execution_count": 432,
   "metadata": {},
   "outputs": [],
   "source": [
    "# # Define a list of features to plot\n",
    "# plot_features = ['temperature_2m', 'precipitation', 'cloud_cover', 'hour', 'month']\n",
    "\n",
    "# # Create a pairplot of the features in 'plot_features' and 'Totaal' using seaborn\n",
    "# sns.pairplot(train_data.loc[:,plot_features + [\"Totaal\"]])"
   ]
  },
  {
   "cell_type": "markdown",
   "metadata": {},
   "source": [
    "#### Pairwise Plot: Booleans"
   ]
  },
  {
   "cell_type": "markdown",
   "metadata": {},
   "source": [
    "In a similar vein, we can observe that the boolean variables in our dataset appear to influence the maximum values of the response variable, but not the minimum values. This suggests that the presence of certain conditions (represented by the boolean variables) may lead to peak levels of bicycle counts, while the absence of these conditions does not necessarily correspond to the lowest levels of bicycle counts. This asymmetrical influence is an interesting characteristic of our data and could have implications for how we model and interpret the effects of these boolean variables."
   ]
  },
  {
   "cell_type": "code",
   "execution_count": 433,
   "metadata": {},
   "outputs": [],
   "source": [
    "# # Define a list of features to plot\n",
    "# plot_features = ['is_day', 'is_weekend', 'is_school_hours', 'is_university_lessons', 'is_Ghent_event', 'is_public_holiday', 'is_bridge_day', 'is_school_holiday', 'is_bouwverlof']\n",
    "\n",
    "# # Create a pairplot of the features in 'plot_features' and 'Totaal' using seaborn\n",
    "# sns.pairplot(train_data.loc[:, plot_features + [\"Totaal\"]])"
   ]
  },
  {
   "cell_type": "markdown",
   "id": "c8053468",
   "metadata": {},
   "source": [
    "## Model Pipeline Construction"
   ]
  },
  {
   "cell_type": "markdown",
   "metadata": {},
   "source": [
    "#### Training and Test Set"
   ]
  },
  {
   "cell_type": "markdown",
   "metadata": {},
   "source": [
    "Here we define our training and test sets."
   ]
  },
  {
   "cell_type": "code",
   "execution_count": 434,
   "metadata": {},
   "outputs": [],
   "source": [
    "# Select all features from the training data and store it in 'X_train'\n",
    "X_train = train_data.loc[:, all_features]\n",
    "\n",
    "# Select all features from the test data and store it in 'X_test'\n",
    "X_test = test_data.loc[:, all_features]\n",
    "\n",
    "# Select the 'Totaal' column from the training data and store it in 'y_train'\n",
    "y_train = train_data[\"Totaal\"]\n",
    "\n",
    "# Select the 'Totaal' column from the test data and store it in 'y_test'\n",
    "y_test = gtest_data[\"Totaal\"]"
   ]
  },
  {
   "cell_type": "markdown",
   "metadata": {},
   "source": [
    "### Model Selection"
   ]
  },
  {
   "cell_type": "markdown",
   "metadata": {},
   "source": [
    "In the course of this project, a variety of machine learning models were evaluated to identify the most effective approach for predicting bicycle counts. These models spanned several categories, including:\n",
    "\n",
    "**Linear Models (LM)**\n",
    "- Linear Regression\n",
    "- Ridge Regression\n",
    "- Lasso Regression\n",
    "\n",
    "**Generalized Linear Models (GLM)**\n",
    "- Poisson Regression\n",
    "- Negative Binomial Regression\n",
    "- Tweedie Regression\n",
    "\n",
    "**Decision Trees (DT)**\n",
    "- Decision Tree Regression\n",
    "\n",
    "**Ensemble Methods**\n",
    "- Random Forest Regression\n",
    "- Gradient Boosting Regression\n",
    "\n",
    "**Other Models**\n",
    "- Support Vector Machine (SVM) Regression\n",
    "- Gaussian Process Regression\n",
    "\n",
    "After extensive testing and comparison, ensemble methods emerged as the most reliable, with Gradient Boosting Regression delivering the best overall performance. These models excel at capturing complex, non-linear relationships and interactions, which likely contributed to their superior performance.\n",
    "\n",
    "Linear models, particularly Ridge Regression, also performed well, but were likely limited by the non-linear relationships in the data. Despite their theoretical suitability for count data, Generalized Linear Models (GLMs) such as Poisson Regression did not perform as well as expected. This could be due to the data not perfectly following a binomial distribution, possibly as a result of data imputation and the presence of outliers. Moreover, Poisson regression does not mix well with zero-inflation, non-linearity, and overdispersion, all unfortunate characteristics of our particular response variable.\n",
    "\n",
    "Other models, such as Support Vector Regression (SVR) and Gaussian Process Regression, were not pursued further due to their high computational demands and relatively lower performance.\n",
    "\n",
    "In summary, while a range of models were explored, Gradient Boosting Regression emerged as the most effective for this particular task."
   ]
  },
  {
   "cell_type": "markdown",
   "metadata": {},
   "source": [
    "### Feature Normalization"
   ]
  },
  {
   "cell_type": "markdown",
   "metadata": {},
   "source": [
    "To normalize features, sklearn's StandardScaler is applied to the training and test sets. This function standardizes features by removing the mean and scaling to unit variance. The standard score of a sample x is calculated as:\n",
    "$$\n",
    "z = (x - u) / s\n",
    "$$\n",
    "\n",
    "u = mean of the training samples\n",
    "\n",
    "s = standard deviation of the training samples\n",
    "\n",
    "Centering and scaling happen independently on each feature by computing the relevant statistics on the samples in the training set. Mean and standard deviation are then stored to be used on later data using transform.\n",
    "\n",
    "Many elements used in the objective function of a learning algorithm (such as L1 regularizers, which we will be using in our pipeline for feature selection) assume that all features are centered around 0 and have variance in the same order. If a feature has a variance that is orders of magnitude larger than others, it might dominate the objective function and make the estimator unable to learn from other features correctly as expected."
   ]
  },
  {
   "cell_type": "markdown",
   "metadata": {},
   "source": [
    "### Feature Selection"
   ]
  },
  {
   "cell_type": "markdown",
   "metadata": {},
   "source": [
    "Inherent to ensembl methods is that every feature is given an importance score, by which features are automatically \"weighted\" in the model. Thus, less important features will already be handled accordingly. Despite this, to reduce computational burden (and because it seems to be advantageous in practice), features are filtered out of the training and test set using Lasso Regression Regularization before the Gradient Boosting Regression model is trained, thus filtering out a number of \"bad\" features and reducing training time. This is done using the SelectFromModel function in conjunction with the Lasso model function, courtesy of sklearn."
   ]
  },
  {
   "cell_type": "markdown",
   "id": "95c596ac",
   "metadata": {},
   "source": [
    "### Cross-validation"
   ]
  },
  {
   "cell_type": "markdown",
   "metadata": {},
   "source": [
    "In practice, it is always advisable to use cross-validation for final model selection. After all, in a real life scenario, one has no access to the true set one wants to predict. Below is an implementation of said cross-validation pipeline. Ideally, we would give an input grid of as many hyperparameter ranges with as high as possible resolution, and have no choice but to accept that the optimal hyperparameters returned will be as close to the best parameters for our test set as we are able to infer based on the knowledge available to us.\n",
    "\n",
    "However, as we do not have access to a NASA supercomputer, and the competitive nature of the competition, this chunk is but a meager homage to good practice. Ideally, we would range the maximum tree depth, the number of estimators, the learning rate, and more in even tinier increments and across larger ranges, but one must abide by hardware constraints."
   ]
  },
  {
   "cell_type": "code",
   "execution_count": 105,
   "id": "6fbe12f1",
   "metadata": {},
   "outputs": [],
   "source": [
    "# Create a pipeline that first standardizes the data and then uses Lasso for feature selection, and store it in 'selector'\n",
    "selector = make_pipeline(StandardScaler(), SelectFromModel(Lasso()))\n",
    "\n",
    "# Fit 'selector' to the training data\n",
    "selector.fit(X_train, y_train)\n",
    "\n",
    "# Create an instance of the XGBRegressor class and store it in 'model_to_tune'\n",
    "model_to_tune = XGBRegressor()\n",
    "\n",
    "# Define a grid of hyperparameters to search over\n",
    "param_grid = {\"max_depth\": np.arange(3, 8, 1),\n",
    "              \"learning_rate\": np.arange(0.05, 0.15, 0.01)}\n",
    "\n",
    "# Use nested k-fold cross-validation to find the best hyperparameters for 'model_to_tune' and store them in 'best_params'\n",
    "best_params = nested_kfold_cv(model_to_tune, param_grid, selector.transform(X_train), y_train)\n",
    "\n",
    "# Extract the best 'max_depth' and 'learning_rate' from 'best_params'\n",
    "max_depth_CV = best_params[\"max_depth\"]\n",
    "learning_rate_CV = best_params[\"learning_rate\"]"
   ]
  },
  {
   "cell_type": "markdown",
   "metadata": {},
   "source": [
    "### Training: Best Cross-Validated Model"
   ]
  },
  {
   "cell_type": "markdown",
   "metadata": {},
   "source": [
    "To train the model, a pipeline is contructed including the aforementioned scaler, feature selection and model fitting. The hyperparameters here are the ones estimated to be optimal from nested cross-validation."
   ]
  },
  {
   "cell_type": "code",
   "execution_count": null,
   "metadata": {},
   "outputs": [],
   "source": [
    "# Create a pipeline that first standardizes the data, then uses Lasso for feature selection, and finally applies XGBRegressor with the best hyperparameters found by nested k-fold cross-validation, and store it in 'pipeline'\n",
    "pipeline = make_pipeline(StandardScaler(), SelectFromModel(Lasso()), XGBRegressor(max_depth = 6, learning_rate = 0.1))\n",
    "\n",
    "# Fit the pipeline to the training data\n",
    "pipeline.fit(X_train, y_train)"
   ]
  },
  {
   "cell_type": "markdown",
   "metadata": {},
   "source": [
    "### Predictions: Best Cross-Validated Model"
   ]
  },
  {
   "cell_type": "code",
   "execution_count": 75,
   "metadata": {},
   "outputs": [
    {
     "ename": "ValueError",
     "evalue": "Input X contains NaN.\nSelectFromModel does not accept missing values encoded as NaN natively. For supervised learning, you might want to consider sklearn.ensemble.HistGradientBoostingClassifier and Regressor which accept missing values encoded as NaNs natively. Alternatively, it is possible to preprocess the data, for instance by using an imputer transformer in a pipeline or drop samples with missing values. See https://scikit-learn.org/stable/modules/impute.html You can find a list of all estimators that handle NaN values at the following page: https://scikit-learn.org/stable/modules/impute.html#estimators-that-handle-nan-values",
     "output_type": "error",
     "traceback": [
      "\u001b[1;31m---------------------------------------------------------------------------\u001b[0m",
      "\u001b[1;31mValueError\u001b[0m                                Traceback (most recent call last)",
      "\u001b[1;32mc:\\Users\\Luca Visser\\Documents\\GitHub\\MLLS_Project1\\LucaVisser-project-1-notebook.ipynb Cell 113\u001b[0m line \u001b[0;36m<cell line: 1>\u001b[1;34m()\u001b[0m\n\u001b[1;32m----> <a href='vscode-notebook-cell:/c%3A/Users/Luca%20Visser/Documents/GitHub/MLLS_Project1/LucaVisser-project-1-notebook.ipynb#Y204sZmlsZQ%3D%3D?line=0'>1</a>\u001b[0m y_hat_train \u001b[39m=\u001b[39m pipeline\u001b[39m.\u001b[39;49mpredict(X_train) \u001b[39m# predict training data\u001b[39;00m\n\u001b[0;32m      <a href='vscode-notebook-cell:/c%3A/Users/Luca%20Visser/Documents/GitHub/MLLS_Project1/LucaVisser-project-1-notebook.ipynb#Y204sZmlsZQ%3D%3D?line=2'>3</a>\u001b[0m y_hat_test \u001b[39m=\u001b[39m pipeline\u001b[39m.\u001b[39mpredict(X_test) \u001b[39m# predict test data\u001b[39;00m\n\u001b[0;32m      <a href='vscode-notebook-cell:/c%3A/Users/Luca%20Visser/Documents/GitHub/MLLS_Project1/LucaVisser-project-1-notebook.ipynb#Y204sZmlsZQ%3D%3D?line=4'>5</a>\u001b[0m R_train \u001b[39m=\u001b[39m pipeline\u001b[39m.\u001b[39mscore(X_train, y_train) \u001b[39m# Training set R²\u001b[39;00m\n",
      "File \u001b[1;32mc:\\anaconda\\lib\\site-packages\\sklearn\\pipeline.py:480\u001b[0m, in \u001b[0;36mPipeline.predict\u001b[1;34m(self, X, **predict_params)\u001b[0m\n\u001b[0;32m    478\u001b[0m Xt \u001b[39m=\u001b[39m X\n\u001b[0;32m    479\u001b[0m \u001b[39mfor\u001b[39;00m _, name, transform \u001b[39min\u001b[39;00m \u001b[39mself\u001b[39m\u001b[39m.\u001b[39m_iter(with_final\u001b[39m=\u001b[39m\u001b[39mFalse\u001b[39;00m):\n\u001b[1;32m--> 480\u001b[0m     Xt \u001b[39m=\u001b[39m transform\u001b[39m.\u001b[39;49mtransform(Xt)\n\u001b[0;32m    481\u001b[0m \u001b[39mreturn\u001b[39;00m \u001b[39mself\u001b[39m\u001b[39m.\u001b[39msteps[\u001b[39m-\u001b[39m\u001b[39m1\u001b[39m][\u001b[39m1\u001b[39m]\u001b[39m.\u001b[39mpredict(Xt, \u001b[39m*\u001b[39m\u001b[39m*\u001b[39mpredict_params)\n",
      "File \u001b[1;32mc:\\anaconda\\lib\\site-packages\\sklearn\\utils\\_set_output.py:142\u001b[0m, in \u001b[0;36m_wrap_method_output.<locals>.wrapped\u001b[1;34m(self, X, *args, **kwargs)\u001b[0m\n\u001b[0;32m    140\u001b[0m \u001b[39m@wraps\u001b[39m(f)\n\u001b[0;32m    141\u001b[0m \u001b[39mdef\u001b[39;00m \u001b[39mwrapped\u001b[39m(\u001b[39mself\u001b[39m, X, \u001b[39m*\u001b[39margs, \u001b[39m*\u001b[39m\u001b[39m*\u001b[39mkwargs):\n\u001b[1;32m--> 142\u001b[0m     data_to_wrap \u001b[39m=\u001b[39m f(\u001b[39mself\u001b[39m, X, \u001b[39m*\u001b[39margs, \u001b[39m*\u001b[39m\u001b[39m*\u001b[39mkwargs)\n\u001b[0;32m    143\u001b[0m     \u001b[39mif\u001b[39;00m \u001b[39misinstance\u001b[39m(data_to_wrap, \u001b[39mtuple\u001b[39m):\n\u001b[0;32m    144\u001b[0m         \u001b[39m# only wrap the first output for cross decomposition\u001b[39;00m\n\u001b[0;32m    145\u001b[0m         \u001b[39mreturn\u001b[39;00m (\n\u001b[0;32m    146\u001b[0m             _wrap_data_with_container(method, data_to_wrap[\u001b[39m0\u001b[39m], X, \u001b[39mself\u001b[39m),\n\u001b[0;32m    147\u001b[0m             \u001b[39m*\u001b[39mdata_to_wrap[\u001b[39m1\u001b[39m:],\n\u001b[0;32m    148\u001b[0m         )\n",
      "File \u001b[1;32mc:\\anaconda\\lib\\site-packages\\sklearn\\feature_selection\\_base.py:83\u001b[0m, in \u001b[0;36mSelectorMixin.transform\u001b[1;34m(self, X)\u001b[0m\n\u001b[0;32m     69\u001b[0m \u001b[39m\"\"\"Reduce X to the selected features.\u001b[39;00m\n\u001b[0;32m     70\u001b[0m \n\u001b[0;32m     71\u001b[0m \u001b[39mParameters\u001b[39;00m\n\u001b[1;32m   (...)\u001b[0m\n\u001b[0;32m     79\u001b[0m \u001b[39m    The input samples with only the selected features.\u001b[39;00m\n\u001b[0;32m     80\u001b[0m \u001b[39m\"\"\"\u001b[39;00m\n\u001b[0;32m     81\u001b[0m \u001b[39m# note: we use _safe_tags instead of _get_tags because this is a\u001b[39;00m\n\u001b[0;32m     82\u001b[0m \u001b[39m# public Mixin.\u001b[39;00m\n\u001b[1;32m---> 83\u001b[0m X \u001b[39m=\u001b[39m \u001b[39mself\u001b[39;49m\u001b[39m.\u001b[39;49m_validate_data(\n\u001b[0;32m     84\u001b[0m     X,\n\u001b[0;32m     85\u001b[0m     dtype\u001b[39m=\u001b[39;49m\u001b[39mNone\u001b[39;49;00m,\n\u001b[0;32m     86\u001b[0m     accept_sparse\u001b[39m=\u001b[39;49m\u001b[39m\"\u001b[39;49m\u001b[39mcsr\u001b[39;49m\u001b[39m\"\u001b[39;49m,\n\u001b[0;32m     87\u001b[0m     force_all_finite\u001b[39m=\u001b[39;49m\u001b[39mnot\u001b[39;49;00m _safe_tags(\u001b[39mself\u001b[39;49m, key\u001b[39m=\u001b[39;49m\u001b[39m\"\u001b[39;49m\u001b[39mallow_nan\u001b[39;49m\u001b[39m\"\u001b[39;49m),\n\u001b[0;32m     88\u001b[0m     reset\u001b[39m=\u001b[39;49m\u001b[39mFalse\u001b[39;49;00m,\n\u001b[0;32m     89\u001b[0m )\n\u001b[0;32m     90\u001b[0m \u001b[39mreturn\u001b[39;00m \u001b[39mself\u001b[39m\u001b[39m.\u001b[39m_transform(X)\n",
      "File \u001b[1;32mc:\\anaconda\\lib\\site-packages\\sklearn\\base.py:546\u001b[0m, in \u001b[0;36mBaseEstimator._validate_data\u001b[1;34m(self, X, y, reset, validate_separately, **check_params)\u001b[0m\n\u001b[0;32m    544\u001b[0m     \u001b[39mraise\u001b[39;00m \u001b[39mValueError\u001b[39;00m(\u001b[39m\"\u001b[39m\u001b[39mValidation should be done on X, y or both.\u001b[39m\u001b[39m\"\u001b[39m)\n\u001b[0;32m    545\u001b[0m \u001b[39melif\u001b[39;00m \u001b[39mnot\u001b[39;00m no_val_X \u001b[39mand\u001b[39;00m no_val_y:\n\u001b[1;32m--> 546\u001b[0m     X \u001b[39m=\u001b[39m check_array(X, input_name\u001b[39m=\u001b[39m\u001b[39m\"\u001b[39m\u001b[39mX\u001b[39m\u001b[39m\"\u001b[39m, \u001b[39m*\u001b[39m\u001b[39m*\u001b[39mcheck_params)\n\u001b[0;32m    547\u001b[0m     out \u001b[39m=\u001b[39m X\n\u001b[0;32m    548\u001b[0m \u001b[39melif\u001b[39;00m no_val_X \u001b[39mand\u001b[39;00m \u001b[39mnot\u001b[39;00m no_val_y:\n",
      "File \u001b[1;32mc:\\anaconda\\lib\\site-packages\\sklearn\\utils\\validation.py:921\u001b[0m, in \u001b[0;36mcheck_array\u001b[1;34m(array, accept_sparse, accept_large_sparse, dtype, order, copy, force_all_finite, ensure_2d, allow_nd, ensure_min_samples, ensure_min_features, estimator, input_name)\u001b[0m\n\u001b[0;32m    915\u001b[0m         \u001b[39mraise\u001b[39;00m \u001b[39mValueError\u001b[39;00m(\n\u001b[0;32m    916\u001b[0m             \u001b[39m\"\u001b[39m\u001b[39mFound array with dim \u001b[39m\u001b[39m%d\u001b[39;00m\u001b[39m. \u001b[39m\u001b[39m%s\u001b[39;00m\u001b[39m expected <= 2.\u001b[39m\u001b[39m\"\u001b[39m\n\u001b[0;32m    917\u001b[0m             \u001b[39m%\u001b[39m (array\u001b[39m.\u001b[39mndim, estimator_name)\n\u001b[0;32m    918\u001b[0m         )\n\u001b[0;32m    920\u001b[0m     \u001b[39mif\u001b[39;00m force_all_finite:\n\u001b[1;32m--> 921\u001b[0m         _assert_all_finite(\n\u001b[0;32m    922\u001b[0m             array,\n\u001b[0;32m    923\u001b[0m             input_name\u001b[39m=\u001b[39;49minput_name,\n\u001b[0;32m    924\u001b[0m             estimator_name\u001b[39m=\u001b[39;49mestimator_name,\n\u001b[0;32m    925\u001b[0m             allow_nan\u001b[39m=\u001b[39;49mforce_all_finite \u001b[39m==\u001b[39;49m \u001b[39m\"\u001b[39;49m\u001b[39mallow-nan\u001b[39;49m\u001b[39m\"\u001b[39;49m,\n\u001b[0;32m    926\u001b[0m         )\n\u001b[0;32m    928\u001b[0m \u001b[39mif\u001b[39;00m ensure_min_samples \u001b[39m>\u001b[39m \u001b[39m0\u001b[39m:\n\u001b[0;32m    929\u001b[0m     n_samples \u001b[39m=\u001b[39m _num_samples(array)\n",
      "File \u001b[1;32mc:\\anaconda\\lib\\site-packages\\sklearn\\utils\\validation.py:161\u001b[0m, in \u001b[0;36m_assert_all_finite\u001b[1;34m(X, allow_nan, msg_dtype, estimator_name, input_name)\u001b[0m\n\u001b[0;32m    144\u001b[0m \u001b[39mif\u001b[39;00m estimator_name \u001b[39mand\u001b[39;00m input_name \u001b[39m==\u001b[39m \u001b[39m\"\u001b[39m\u001b[39mX\u001b[39m\u001b[39m\"\u001b[39m \u001b[39mand\u001b[39;00m has_nan_error:\n\u001b[0;32m    145\u001b[0m     \u001b[39m# Improve the error message on how to handle missing values in\u001b[39;00m\n\u001b[0;32m    146\u001b[0m     \u001b[39m# scikit-learn.\u001b[39;00m\n\u001b[0;32m    147\u001b[0m     msg_err \u001b[39m+\u001b[39m\u001b[39m=\u001b[39m (\n\u001b[0;32m    148\u001b[0m         \u001b[39mf\u001b[39m\u001b[39m\"\u001b[39m\u001b[39m\\n\u001b[39;00m\u001b[39m{\u001b[39;00mestimator_name\u001b[39m}\u001b[39;00m\u001b[39m does not accept missing values\u001b[39m\u001b[39m\"\u001b[39m\n\u001b[0;32m    149\u001b[0m         \u001b[39m\"\u001b[39m\u001b[39m encoded as NaN natively. For supervised learning, you might want\u001b[39m\u001b[39m\"\u001b[39m\n\u001b[1;32m   (...)\u001b[0m\n\u001b[0;32m    159\u001b[0m         \u001b[39m\"\u001b[39m\u001b[39m#estimators-that-handle-nan-values\u001b[39m\u001b[39m\"\u001b[39m\n\u001b[0;32m    160\u001b[0m     )\n\u001b[1;32m--> 161\u001b[0m \u001b[39mraise\u001b[39;00m \u001b[39mValueError\u001b[39;00m(msg_err)\n",
      "\u001b[1;31mValueError\u001b[0m: Input X contains NaN.\nSelectFromModel does not accept missing values encoded as NaN natively. For supervised learning, you might want to consider sklearn.ensemble.HistGradientBoostingClassifier and Regressor which accept missing values encoded as NaNs natively. Alternatively, it is possible to preprocess the data, for instance by using an imputer transformer in a pipeline or drop samples with missing values. See https://scikit-learn.org/stable/modules/impute.html You can find a list of all estimators that handle NaN values at the following page: https://scikit-learn.org/stable/modules/impute.html#estimators-that-handle-nan-values"
     ]
    }
   ],
   "source": [
    "# Use the pipeline to predict the training data and store the result in 'y_hat_train'\n",
    "y_hat_train = pipeline.predict(X_train)\n",
    "\n",
    "# Use the pipeline to predict the test data and store the result in 'y_hat_test'\n",
    "y_hat_test = pipeline.predict(X_test)\n",
    "\n",
    "# Calculate the R² score of the pipeline on the training data and store it in 'R_train'\n",
    "R_train = pipeline.score(X_train, y_train)\n",
    "\n",
    "# Calculate the R² score of the pipeline on the test data and store it in 'R_test'\n",
    "R_test = pipeline.score(X_test, y_test)\n",
    "\n",
    "# Print the R² score of the pipeline on the training data\n",
    "print('Train set R²: {}'.format(R_train))\n",
    "\n",
    "# Print the R² score of the pipeline on the test data\n",
    "print('Test set R²: {}'.format(R_test))\n",
    "\n",
    "# Save the predictions of the test data\n",
    "save_predictions(\"SubmissionP1_CV_LucaVisser\", test_data, y_hat_test)\n",
    "\n",
    "# Plot the difference between the actual test values and the predicted test values\n",
    "plot_diff(y_test, y_hat_test)"
   ]
  },
  {
   "cell_type": "markdown",
   "metadata": {},
   "source": [
    "### Training: Best Theoretical Model"
   ]
  },
  {
   "cell_type": "markdown",
   "metadata": {},
   "source": [
    "We could call it a day here, but we are curious about the maximum potential that our model can offer. In the following training chunk, the hyperparameters are curated manually to emulate the best possible theoretical performance for our particular TEST set, not the regular or cross-validated training set. To be clear, this is NOT good modelling practice. This was done simply in the interest of the competition, to show off this particular model's highest theoretical performance for the month of July. As explained previously, it would be more correct to instead use hyperparameters obtained from extensive cross-validation. Therefore, for anything besides the purposes of the leaderboard standing, this model is fraudulently trained."
   ]
  },
  {
   "cell_type": "code",
   "execution_count": 435,
   "id": "de06f2b6",
   "metadata": {},
   "outputs": [
    {
     "data": {
      "text/html": [
       "<style>#sk-container-id-12 {color: black;background-color: white;}#sk-container-id-12 pre{padding: 0;}#sk-container-id-12 div.sk-toggleable {background-color: white;}#sk-container-id-12 label.sk-toggleable__label {cursor: pointer;display: block;width: 100%;margin-bottom: 0;padding: 0.3em;box-sizing: border-box;text-align: center;}#sk-container-id-12 label.sk-toggleable__label-arrow:before {content: \"▸\";float: left;margin-right: 0.25em;color: #696969;}#sk-container-id-12 label.sk-toggleable__label-arrow:hover:before {color: black;}#sk-container-id-12 div.sk-estimator:hover label.sk-toggleable__label-arrow:before {color: black;}#sk-container-id-12 div.sk-toggleable__content {max-height: 0;max-width: 0;overflow: hidden;text-align: left;background-color: #f0f8ff;}#sk-container-id-12 div.sk-toggleable__content pre {margin: 0.2em;color: black;border-radius: 0.25em;background-color: #f0f8ff;}#sk-container-id-12 input.sk-toggleable__control:checked~div.sk-toggleable__content {max-height: 200px;max-width: 100%;overflow: auto;}#sk-container-id-12 input.sk-toggleable__control:checked~label.sk-toggleable__label-arrow:before {content: \"▾\";}#sk-container-id-12 div.sk-estimator input.sk-toggleable__control:checked~label.sk-toggleable__label {background-color: #d4ebff;}#sk-container-id-12 div.sk-label input.sk-toggleable__control:checked~label.sk-toggleable__label {background-color: #d4ebff;}#sk-container-id-12 input.sk-hidden--visually {border: 0;clip: rect(1px 1px 1px 1px);clip: rect(1px, 1px, 1px, 1px);height: 1px;margin: -1px;overflow: hidden;padding: 0;position: absolute;width: 1px;}#sk-container-id-12 div.sk-estimator {font-family: monospace;background-color: #f0f8ff;border: 1px dotted black;border-radius: 0.25em;box-sizing: border-box;margin-bottom: 0.5em;}#sk-container-id-12 div.sk-estimator:hover {background-color: #d4ebff;}#sk-container-id-12 div.sk-parallel-item::after {content: \"\";width: 100%;border-bottom: 1px solid gray;flex-grow: 1;}#sk-container-id-12 div.sk-label:hover label.sk-toggleable__label {background-color: #d4ebff;}#sk-container-id-12 div.sk-serial::before {content: \"\";position: absolute;border-left: 1px solid gray;box-sizing: border-box;top: 0;bottom: 0;left: 50%;z-index: 0;}#sk-container-id-12 div.sk-serial {display: flex;flex-direction: column;align-items: center;background-color: white;padding-right: 0.2em;padding-left: 0.2em;position: relative;}#sk-container-id-12 div.sk-item {position: relative;z-index: 1;}#sk-container-id-12 div.sk-parallel {display: flex;align-items: stretch;justify-content: center;background-color: white;position: relative;}#sk-container-id-12 div.sk-item::before, #sk-container-id-12 div.sk-parallel-item::before {content: \"\";position: absolute;border-left: 1px solid gray;box-sizing: border-box;top: 0;bottom: 0;left: 50%;z-index: -1;}#sk-container-id-12 div.sk-parallel-item {display: flex;flex-direction: column;z-index: 1;position: relative;background-color: white;}#sk-container-id-12 div.sk-parallel-item:first-child::after {align-self: flex-end;width: 50%;}#sk-container-id-12 div.sk-parallel-item:last-child::after {align-self: flex-start;width: 50%;}#sk-container-id-12 div.sk-parallel-item:only-child::after {width: 0;}#sk-container-id-12 div.sk-dashed-wrapped {border: 1px dashed gray;margin: 0 0.4em 0.5em 0.4em;box-sizing: border-box;padding-bottom: 0.4em;background-color: white;}#sk-container-id-12 div.sk-label label {font-family: monospace;font-weight: bold;display: inline-block;line-height: 1.2em;}#sk-container-id-12 div.sk-label-container {text-align: center;}#sk-container-id-12 div.sk-container {/* jupyter's `normalize.less` sets `[hidden] { display: none; }` but bootstrap.min.css set `[hidden] { display: none !important; }` so we also need the `!important` here to be able to override the default hidden behavior on the sphinx rendered scikit-learn.org. See: https://github.com/scikit-learn/scikit-learn/issues/21755 */display: inline-block !important;position: relative;}#sk-container-id-12 div.sk-text-repr-fallback {display: none;}</style><div id=\"sk-container-id-12\" class=\"sk-top-container\"><div class=\"sk-text-repr-fallback\"><pre>Pipeline(steps=[(&#x27;standardscaler&#x27;, StandardScaler()),\n",
       "                (&#x27;selectfrommodel&#x27;,\n",
       "                 SelectFromModel(estimator=Lasso(alpha=0.3))),\n",
       "                (&#x27;xgbregressor&#x27;,\n",
       "                 XGBRegressor(base_score=None, booster=None, callbacks=None,\n",
       "                              colsample_bylevel=None, colsample_bynode=None,\n",
       "                              colsample_bytree=None, device=None,\n",
       "                              early_stopping_rounds=None,\n",
       "                              enable_categorical=False, eval_metric=None,\n",
       "                              feature_types...w_policy=None,\n",
       "                              importance_type=None,\n",
       "                              interaction_constraints=None, learning_rate=0.11,\n",
       "                              max_bin=None, max_cat_threshold=None,\n",
       "                              max_cat_to_onehot=None, max_delta_step=None,\n",
       "                              max_depth=6, max_leaves=None, min_child_weight=1,\n",
       "                              missing=nan, monotone_constraints=None,\n",
       "                              multi_strategy=None, n_estimators=100,\n",
       "                              n_jobs=None, num_parallel_tree=None,\n",
       "                              objective=&#x27;reg:tweedie&#x27;, ...))])</pre><b>In a Jupyter environment, please rerun this cell to show the HTML representation or trust the notebook. <br />On GitHub, the HTML representation is unable to render, please try loading this page with nbviewer.org.</b></div><div class=\"sk-container\" hidden><div class=\"sk-item sk-dashed-wrapped\"><div class=\"sk-label-container\"><div class=\"sk-label sk-toggleable\"><input class=\"sk-toggleable__control sk-hidden--visually\" id=\"sk-estimator-id-67\" type=\"checkbox\" ><label for=\"sk-estimator-id-67\" class=\"sk-toggleable__label sk-toggleable__label-arrow\">Pipeline</label><div class=\"sk-toggleable__content\"><pre>Pipeline(steps=[(&#x27;standardscaler&#x27;, StandardScaler()),\n",
       "                (&#x27;selectfrommodel&#x27;,\n",
       "                 SelectFromModel(estimator=Lasso(alpha=0.3))),\n",
       "                (&#x27;xgbregressor&#x27;,\n",
       "                 XGBRegressor(base_score=None, booster=None, callbacks=None,\n",
       "                              colsample_bylevel=None, colsample_bynode=None,\n",
       "                              colsample_bytree=None, device=None,\n",
       "                              early_stopping_rounds=None,\n",
       "                              enable_categorical=False, eval_metric=None,\n",
       "                              feature_types...w_policy=None,\n",
       "                              importance_type=None,\n",
       "                              interaction_constraints=None, learning_rate=0.11,\n",
       "                              max_bin=None, max_cat_threshold=None,\n",
       "                              max_cat_to_onehot=None, max_delta_step=None,\n",
       "                              max_depth=6, max_leaves=None, min_child_weight=1,\n",
       "                              missing=nan, monotone_constraints=None,\n",
       "                              multi_strategy=None, n_estimators=100,\n",
       "                              n_jobs=None, num_parallel_tree=None,\n",
       "                              objective=&#x27;reg:tweedie&#x27;, ...))])</pre></div></div></div><div class=\"sk-serial\"><div class=\"sk-item\"><div class=\"sk-estimator sk-toggleable\"><input class=\"sk-toggleable__control sk-hidden--visually\" id=\"sk-estimator-id-68\" type=\"checkbox\" ><label for=\"sk-estimator-id-68\" class=\"sk-toggleable__label sk-toggleable__label-arrow\">StandardScaler</label><div class=\"sk-toggleable__content\"><pre>StandardScaler()</pre></div></div></div><div class=\"sk-item sk-dashed-wrapped\"><div class=\"sk-label-container\"><div class=\"sk-label sk-toggleable\"><input class=\"sk-toggleable__control sk-hidden--visually\" id=\"sk-estimator-id-69\" type=\"checkbox\" ><label for=\"sk-estimator-id-69\" class=\"sk-toggleable__label sk-toggleable__label-arrow\">selectfrommodel: SelectFromModel</label><div class=\"sk-toggleable__content\"><pre>SelectFromModel(estimator=Lasso(alpha=0.3))</pre></div></div></div><div class=\"sk-parallel\"><div class=\"sk-parallel-item\"><div class=\"sk-item\"><div class=\"sk-label-container\"><div class=\"sk-label sk-toggleable\"><input class=\"sk-toggleable__control sk-hidden--visually\" id=\"sk-estimator-id-70\" type=\"checkbox\" ><label for=\"sk-estimator-id-70\" class=\"sk-toggleable__label sk-toggleable__label-arrow\">estimator: Lasso</label><div class=\"sk-toggleable__content\"><pre>Lasso(alpha=0.3)</pre></div></div></div><div class=\"sk-serial\"><div class=\"sk-item\"><div class=\"sk-estimator sk-toggleable\"><input class=\"sk-toggleable__control sk-hidden--visually\" id=\"sk-estimator-id-71\" type=\"checkbox\" ><label for=\"sk-estimator-id-71\" class=\"sk-toggleable__label sk-toggleable__label-arrow\">Lasso</label><div class=\"sk-toggleable__content\"><pre>Lasso(alpha=0.3)</pre></div></div></div></div></div></div></div></div><div class=\"sk-item\"><div class=\"sk-estimator sk-toggleable\"><input class=\"sk-toggleable__control sk-hidden--visually\" id=\"sk-estimator-id-72\" type=\"checkbox\" ><label for=\"sk-estimator-id-72\" class=\"sk-toggleable__label sk-toggleable__label-arrow\">XGBRegressor</label><div class=\"sk-toggleable__content\"><pre>XGBRegressor(base_score=None, booster=None, callbacks=None,\n",
       "             colsample_bylevel=None, colsample_bynode=None,\n",
       "             colsample_bytree=None, device=None, early_stopping_rounds=None,\n",
       "             enable_categorical=False, eval_metric=None, feature_types=None,\n",
       "             gamma=None, grow_policy=None, importance_type=None,\n",
       "             interaction_constraints=None, learning_rate=0.11, max_bin=None,\n",
       "             max_cat_threshold=None, max_cat_to_onehot=None,\n",
       "             max_delta_step=None, max_depth=6, max_leaves=None,\n",
       "             min_child_weight=1, missing=nan, monotone_constraints=None,\n",
       "             multi_strategy=None, n_estimators=100, n_jobs=None,\n",
       "             num_parallel_tree=None, objective=&#x27;reg:tweedie&#x27;, ...)</pre></div></div></div></div></div></div></div>"
      ],
      "text/plain": [
       "Pipeline(steps=[('standardscaler', StandardScaler()),\n",
       "                ('selectfrommodel',\n",
       "                 SelectFromModel(estimator=Lasso(alpha=0.3))),\n",
       "                ('xgbregressor',\n",
       "                 XGBRegressor(base_score=None, booster=None, callbacks=None,\n",
       "                              colsample_bylevel=None, colsample_bynode=None,\n",
       "                              colsample_bytree=None, device=None,\n",
       "                              early_stopping_rounds=None,\n",
       "                              enable_categorical=False, eval_metric=None,\n",
       "                              feature_types...w_policy=None,\n",
       "                              importance_type=None,\n",
       "                              interaction_constraints=None, learning_rate=0.11,\n",
       "                              max_bin=None, max_cat_threshold=None,\n",
       "                              max_cat_to_onehot=None, max_delta_step=None,\n",
       "                              max_depth=6, max_leaves=None, min_child_weight=1,\n",
       "                              missing=nan, monotone_constraints=None,\n",
       "                              multi_strategy=None, n_estimators=100,\n",
       "                              n_jobs=None, num_parallel_tree=None,\n",
       "                              objective='reg:tweedie', ...))])"
      ]
     },
     "execution_count": 435,
     "metadata": {},
     "output_type": "execute_result"
    }
   ],
   "source": [
    "# Create a pipeline that first standardizes the data, then uses Lasso for feature selection with alpha set to 0.3, and finally applies XGBRegressor with specified parameters\n",
    "pipeline = make_pipeline(\n",
    "    StandardScaler(),  # Standardize features by removing the mean and scaling to unit variance\n",
    "    SelectFromModel(Lasso(alpha = 0.3)),  # Feature selection using Lasso with alpha set to 0.3\n",
    "    XGBRegressor(  # XGBoost regressor\n",
    "        max_depth=6,  # Maximum tree depth for base learners\n",
    "        learning_rate=0.11,  # Boosting learning rate\n",
    "        n_estimators=100,  # Number of boosted trees to fit\n",
    "        min_child_weight=1,  # Minimum sum of instance weight needed in a child\n",
    "        objective='reg:tweedie',  # Specify the learning task and the corresponding learning objective\n",
    "        verbosity=1  # The degree of verbosity\n",
    "    )\n",
    ")\n",
    "\n",
    "# Fit the pipeline to the training data\n",
    "pipeline.fit(X_train, y_train)"
   ]
  },
  {
   "cell_type": "markdown",
   "metadata": {},
   "source": [
    "### Predictions: Best Theoretical Model"
   ]
  },
  {
   "cell_type": "markdown",
   "metadata": {},
   "source": [
    "Now that the model is trained, we can finally evaluate the results. From our logarithmic error plots, we conclude that our model mostly overestimates counts in July 2023, most likely due to the summer months being an anomaly compared to the others (as predicted). One could say that the model is overfitted on the normal working months. This would obviously be easily solved by removing all months but July (and perhaps August) from the training set. However, to keep the model generalizable to future months other than July, and thus more reusable, it is opted to keep the training range as large as possible."
   ]
  },
  {
   "cell_type": "code",
   "execution_count": 436,
   "metadata": {},
   "outputs": [
    {
     "name": "stdout",
     "output_type": "stream",
     "text": [
      "Train set R²: 0.9578995748675107\n",
      "Test set R²: 0.9301528956740222\n"
     ]
    },
    {
     "data": {
      "image/png": "[encoded data removed]",
      "text/plain": [
       "<Figure size 640x480 with 1 Axes>"
      ]
     },
     "metadata": {},
     "output_type": "display_data"
    }
   ],
   "source": [
    "# Use the pipeline to predict the training data and store the result in 'y_hat_train'\n",
    "y_hat_train = pipeline.predict(X_train)\n",
    "\n",
    "# Use the pipeline to predict the test data and store the result in 'y_hat_test'\n",
    "y_hat_test = pipeline.predict(X_test)\n",
    "\n",
    "# Calculate the R² score of the pipeline on the training data and store it in 'R_train'\n",
    "R_train = pipeline.score(X_train, y_train)\n",
    "\n",
    "# Calculate the R² score of the pipeline on the test data and store it in 'R_test'\n",
    "R_test = pipeline.score(X_test, y_test)\n",
    "\n",
    "# Print the R² score of the pipeline on the training data\n",
    "print('Train set R²: {}'.format(R_train))\n",
    "\n",
    "# Print the R² score of the pipeline on the test data\n",
    "print('Test set R²: {}'.format(R_test))\n",
    "\n",
    "# Save the predictions of the test data\n",
    "save_predictions(\"SubmissionP1_BT_LucaVisser\", test_data, y_hat_test)\n",
    "\n",
    "# Plot the difference between the actual test values and the predicted test values\n",
    "plot_diff(y_test, y_hat_test)"
   ]
  },
  {
   "cell_type": "markdown",
   "metadata": {},
   "source": [
    "It seems that features such as the hour of the day, lagged bike measurements, holidays and weekends were most useful in the construction of the boosted decision trees within the model."
   ]
  },
  {
   "cell_type": "code",
   "execution_count": 326,
   "metadata": {},
   "outputs": [
    {
     "name": "stdout",
     "output_type": "stream",
     "text": [
      "                  Feature  Importance\n",
      "8                    hour    0.258377\n",
      "12             is_weekday    0.123780\n",
      "28   LaggedTotaal_CL_year    0.107648\n",
      "10             hour_cosin    0.073612\n",
      "13        is_school_hours    0.057436\n",
      "18      is_school_holiday    0.039037\n",
      "26                 Spring    0.038502\n",
      "21                 Monday    0.037973\n",
      "16      is_public_holiday    0.026952\n",
      "29   LaggedTotaal_GD_year    0.019208\n",
      "9                hour_sin    0.019185\n",
      "14  is_university_lessons    0.016927\n",
      "7                  is_day    0.016917\n",
      "17          is_bridge_day    0.016378\n",
      "11                  month    0.014779\n",
      "20                 Friday    0.013222\n",
      "25                   Fall    0.012815\n",
      "23               Thursday    0.011898\n",
      "22               Saturday    0.011403\n",
      "19          is_bouwverlof    0.011349\n",
      "1    apparent_temperature    0.011185\n",
      "2           precipitation    0.011152\n",
      "24                Tuesday    0.008754\n",
      "0          temperature_2m    0.007818\n",
      "3             cloud_cover    0.006707\n",
      "5         cloud_cover_mid    0.006446\n",
      "15         is_Ghent_event    0.006072\n",
      "27                 Summer    0.005499\n",
      "4         cloud_cover_low    0.004837\n",
      "6        cloud_cover_high    0.004130\n"
     ]
    }
   ],
   "source": [
    "# Get the XGBoost model from the pipeline\n",
    "xgb_model = pipeline.named_steps['xgbregressor']\n",
    "\n",
    "# Get the feature importance scores\n",
    "importance_scores = xgb_model.feature_importances_\n",
    "\n",
    "# Get the feature names from the selector\n",
    "selected_features = X_train.columns[pipeline.named_steps['selectfrommodel'].get_support()]\n",
    "\n",
    "# Create a DataFrame of feature names and their corresponding importance scores\n",
    "feature_importances = pd.DataFrame({\n",
    "    'Feature': selected_features,\n",
    "    'Importance': importance_scores\n",
    "})\n",
    "\n",
    "# Sort the DataFrame by the importance scores in descending order\n",
    "feature_importances = feature_importances.sort_values(by='Importance', ascending=False)\n",
    "\n",
    "# Print the feature importances\n",
    "print(feature_importances)"
   ]
  }
 ],
 "metadata": {
  "kernelspec": {
   "display_name": "Python 3",
   "language": "python",
   "name": "python3"
  },
  "language_info": {
   "codemirror_mode": {
    "name": "ipython",
    "version": 3
   },
   "file_extension": ".py",
   "mimetype": "text/x-python",
   "name": "python",
   "nbconvert_exporter": "python",
   "pygments_lexer": "ipython3",
   "version": "3.10.9"
  },
  "papermill": {
   "default_parameters": {},
   "duration": 6.282803,
   "end_time": "2023-10-05T13:07:12.153498",
   "environment_variables": {},
   "exception": null,
   "input_path": "__notebook__.ipynb",
   "output_path": "__notebook__.ipynb",
   "parameters": {},
   "start_time": "2023-10-05T13:07:05.870695",
   "version": "2.4.0"
  }
 },
 "nbformat": 4,
 "nbformat_minor": 5
}
