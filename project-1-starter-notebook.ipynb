{
 "cells": [
  {
   "cell_type": "markdown",
   "id": "79fc4903",
   "metadata": {
    "papermill": {
     "duration": 0.003807,
     "end_time": "2023-10-05T13:07:10.410584",
     "exception": false,
     "start_time": "2023-10-05T13:07:10.406777",
     "status": "completed"
    },
    "tags": []
   },
   "source": [
    "# Project 1 Starter Notebook\n",
    "\n",
    "This notebook is meant to help you start up easily.\n",
    "It will assume you have downloaded the relevant data.\n",
    "For more information about the competition, refer to the kaggle pages.\n",
    "\n",
    "Let's load in and inspect all data first:"
   ]
  },
  {
   "cell_type": "code",
   "execution_count": 1,
   "id": "9bd562c1",
   "metadata": {
    "execution": {
     "iopub.execute_input": "2023-10-05T13:07:10.421143Z",
     "iopub.status.busy": "2023-10-05T13:07:10.420739Z",
     "iopub.status.idle": "2023-10-05T13:07:11.322401Z",
     "shell.execute_reply": "2023-10-05T13:07:11.321284Z"
    },
    "papermill": {
     "duration": 0.908964,
     "end_time": "2023-10-05T13:07:11.324928",
     "exception": false,
     "start_time": "2023-10-05T13:07:10.415964",
     "status": "completed"
    },
    "tags": []
   },
   "outputs": [
    {
     "name": "stdout",
     "output_type": "stream",
     "text": [
      "(21189, 3)\n",
      "2021-03-01T00\n",
      "2023-07-31T23\n"
     ]
    },
    {
     "data": {
      "text/html": [
       "<div>\n",
       "<style scoped>\n",
       "    .dataframe tbody tr th:only-of-type {\n",
       "        vertical-align: middle;\n",
       "    }\n",
       "\n",
       "    .dataframe tbody tr th {\n",
       "        vertical-align: top;\n",
       "    }\n",
       "\n",
       "    .dataframe thead th {\n",
       "        text-align: right;\n",
       "    }\n",
       "</style>\n",
       "<table border=\"1\" class=\"dataframe\">\n",
       "  <thead>\n",
       "    <tr style=\"text-align: right;\">\n",
       "      <th></th>\n",
       "      <th>Datum</th>\n",
       "      <th>Date_hour</th>\n",
       "      <th>Totaal</th>\n",
       "    </tr>\n",
       "  </thead>\n",
       "  <tbody>\n",
       "    <tr>\n",
       "      <th>0</th>\n",
       "      <td>2021-03-01</td>\n",
       "      <td>2021-03-01T00</td>\n",
       "      <td>5.0</td>\n",
       "    </tr>\n",
       "    <tr>\n",
       "      <th>1</th>\n",
       "      <td>2021-03-01</td>\n",
       "      <td>2021-03-01T01</td>\n",
       "      <td>1.0</td>\n",
       "    </tr>\n",
       "    <tr>\n",
       "      <th>2</th>\n",
       "      <td>2021-03-01</td>\n",
       "      <td>2021-03-01T02</td>\n",
       "      <td>0.0</td>\n",
       "    </tr>\n",
       "    <tr>\n",
       "      <th>3</th>\n",
       "      <td>2021-03-01</td>\n",
       "      <td>2021-03-01T03</td>\n",
       "      <td>2.0</td>\n",
       "    </tr>\n",
       "    <tr>\n",
       "      <th>4</th>\n",
       "      <td>2021-03-01</td>\n",
       "      <td>2021-03-01T04</td>\n",
       "      <td>21.0</td>\n",
       "    </tr>\n",
       "  </tbody>\n",
       "</table>\n",
       "</div>"
      ],
      "text/plain": [
       "        Datum      Date_hour  Totaal\n",
       "0  2021-03-01  2021-03-01T00     5.0\n",
       "1  2021-03-01  2021-03-01T01     1.0\n",
       "2  2021-03-01  2021-03-01T02     0.0\n",
       "3  2021-03-01  2021-03-01T03     2.0\n",
       "4  2021-03-01  2021-03-01T04    21.0"
      ]
     },
     "execution_count": 1,
     "metadata": {},
     "output_type": "execute_result"
    }
   ],
   "source": [
    "import pandas as pd\n",
    "import numpy as np\n",
    "import datetime\n",
    "\n",
    "# read in data\n",
    "bicycle_data_2021 = pd.read_csv(\"input/bicycle-counter-prediction/fietstelpaal-coupure-links-2021-gent.csv\", sep = \";\")\n",
    "bicycle_data_2022 = pd.read_csv(\"input/bicycle-counter-prediction/fietstelpaal-coupure-links-2022-gent.csv\", sep = \";\")\n",
    "bicycle_data_2023 = pd.read_csv(\"input/bicycle-counter-prediction/fietstelpaal-coupure-links-2023-gent.csv\", sep = \";\")\n",
    "bicycle_data = pd.concat([bicycle_data_2021, bicycle_data_2022, bicycle_data_2023])\n",
    "bicycle_data[\"Date_hour\"] = bicycle_data['Ordening'].str.extract(r'^(.*?T\\d{2})..')\n",
    "bicycle_data = bicycle_data.groupby(['Datum', 'Date_hour'])['Totaal'].sum().reset_index(name ='Totaal')\n",
    "print(bicycle_data.shape)\n",
    "print(min(bicycle_data[\"Date_hour\"]))\n",
    "print(max(bicycle_data[\"Date_hour\"]))\n",
    "bicycle_data.head()"
   ]
  },
  {
   "cell_type": "code",
   "execution_count": 2,
   "id": "c722d1d4",
   "metadata": {},
   "outputs": [
    {
     "name": "stdout",
     "output_type": "stream",
     "text": [
      "(4343, 2)\n",
      "2023-01-01T00\n",
      "2023-06-30T23\n"
     ]
    },
    {
     "data": {
      "text/html": [
       "<div>\n",
       "<style scoped>\n",
       "    .dataframe tbody tr th:only-of-type {\n",
       "        vertical-align: middle;\n",
       "    }\n",
       "\n",
       "    .dataframe tbody tr th {\n",
       "        vertical-align: top;\n",
       "    }\n",
       "\n",
       "    .dataframe thead th {\n",
       "        text-align: right;\n",
       "    }\n",
       "</style>\n",
       "<table border=\"1\" class=\"dataframe\">\n",
       "  <thead>\n",
       "    <tr style=\"text-align: right;\">\n",
       "      <th></th>\n",
       "      <th>Date_hour</th>\n",
       "      <th>Totaal</th>\n",
       "    </tr>\n",
       "  </thead>\n",
       "  <tbody>\n",
       "    <tr>\n",
       "      <th>0</th>\n",
       "      <td>2023-01-01T00</td>\n",
       "      <td>111.0</td>\n",
       "    </tr>\n",
       "    <tr>\n",
       "      <th>1</th>\n",
       "      <td>2023-01-01T01</td>\n",
       "      <td>201.0</td>\n",
       "    </tr>\n",
       "    <tr>\n",
       "      <th>2</th>\n",
       "      <td>2023-01-01T02</td>\n",
       "      <td>170.0</td>\n",
       "    </tr>\n",
       "    <tr>\n",
       "      <th>3</th>\n",
       "      <td>2023-01-01T03</td>\n",
       "      <td>144.0</td>\n",
       "    </tr>\n",
       "    <tr>\n",
       "      <th>4</th>\n",
       "      <td>2023-01-01T04</td>\n",
       "      <td>155.0</td>\n",
       "    </tr>\n",
       "  </tbody>\n",
       "</table>\n",
       "</div>"
      ],
      "text/plain": [
       "       Date_hour  Totaal\n",
       "0  2023-01-01T00   111.0\n",
       "1  2023-01-01T01   201.0\n",
       "2  2023-01-01T02   170.0\n",
       "3  2023-01-01T03   144.0\n",
       "4  2023-01-01T04   155.0"
      ]
     },
     "execution_count": 2,
     "metadata": {},
     "output_type": "execute_result"
    }
   ],
   "source": [
    "train_rawdata = pd.read_csv(\"input/bicycle-counter-prediction/train_data.csv\")\n",
    "print(train_rawdata.shape)\n",
    "print(min(train_rawdata[\"Date_hour\"]))\n",
    "print(max(train_rawdata[\"Date_hour\"]))\n",
    "train_rawdata.head()"
   ]
  },
  {
   "cell_type": "code",
   "execution_count": 3,
   "id": "a553121a",
   "metadata": {
    "execution": {
     "iopub.execute_input": "2023-10-05T13:07:11.334552Z",
     "iopub.status.busy": "2023-10-05T13:07:11.334158Z",
     "iopub.status.idle": "2023-10-05T13:07:11.350689Z",
     "shell.execute_reply": "2023-10-05T13:07:11.349496Z"
    },
    "papermill": {
     "duration": 0.024278,
     "end_time": "2023-10-05T13:07:11.353291",
     "exception": false,
     "start_time": "2023-10-05T13:07:11.329013",
     "status": "completed"
    },
    "tags": []
   },
   "outputs": [
    {
     "name": "stdout",
     "output_type": "stream",
     "text": [
      "(744, 2)\n",
      "2023-07-01T00\n",
      "2023-07-31T23\n"
     ]
    },
    {
     "data": {
      "text/html": [
       "<div>\n",
       "<style scoped>\n",
       "    .dataframe tbody tr th:only-of-type {\n",
       "        vertical-align: middle;\n",
       "    }\n",
       "\n",
       "    .dataframe tbody tr th {\n",
       "        vertical-align: top;\n",
       "    }\n",
       "\n",
       "    .dataframe thead th {\n",
       "        text-align: right;\n",
       "    }\n",
       "</style>\n",
       "<table border=\"1\" class=\"dataframe\">\n",
       "  <thead>\n",
       "    <tr style=\"text-align: right;\">\n",
       "      <th></th>\n",
       "      <th>Id</th>\n",
       "      <th>Date_hour</th>\n",
       "    </tr>\n",
       "  </thead>\n",
       "  <tbody>\n",
       "    <tr>\n",
       "      <th>0</th>\n",
       "      <td>0</td>\n",
       "      <td>2023-07-01T00</td>\n",
       "    </tr>\n",
       "    <tr>\n",
       "      <th>1</th>\n",
       "      <td>1</td>\n",
       "      <td>2023-07-01T01</td>\n",
       "    </tr>\n",
       "    <tr>\n",
       "      <th>2</th>\n",
       "      <td>2</td>\n",
       "      <td>2023-07-01T02</td>\n",
       "    </tr>\n",
       "    <tr>\n",
       "      <th>3</th>\n",
       "      <td>3</td>\n",
       "      <td>2023-07-01T03</td>\n",
       "    </tr>\n",
       "    <tr>\n",
       "      <th>4</th>\n",
       "      <td>4</td>\n",
       "      <td>2023-07-01T04</td>\n",
       "    </tr>\n",
       "  </tbody>\n",
       "</table>\n",
       "</div>"
      ],
      "text/plain": [
       "   Id      Date_hour\n",
       "0   0  2023-07-01T00\n",
       "1   1  2023-07-01T01\n",
       "2   2  2023-07-01T02\n",
       "3   3  2023-07-01T03\n",
       "4   4  2023-07-01T04"
      ]
     },
     "execution_count": 3,
     "metadata": {},
     "output_type": "execute_result"
    }
   ],
   "source": [
    "test_rawdata = pd.read_csv(\"input/bicycle-counter-prediction/test_data.csv\")\n",
    "print(test_rawdata.shape)\n",
    "print(min(test_rawdata[\"Date_hour\"]))\n",
    "print(max(test_rawdata[\"Date_hour\"]))\n",
    "test_rawdata.head()"
   ]
  },
  {
   "cell_type": "code",
   "execution_count": 4,
   "id": "dc38fe36",
   "metadata": {
    "execution": {
     "iopub.execute_input": "2023-10-05T13:07:11.363693Z",
     "iopub.status.busy": "2023-10-05T13:07:11.363313Z",
     "iopub.status.idle": "2023-10-05T13:07:11.385294Z",
     "shell.execute_reply": "2023-10-05T13:07:11.384112Z"
    },
    "papermill": {
     "duration": 0.030206,
     "end_time": "2023-10-05T13:07:11.387816",
     "exception": false,
     "start_time": "2023-10-05T13:07:11.357610",
     "status": "completed"
    },
    "tags": []
   },
   "outputs": [
    {
     "name": "stdout",
     "output_type": "stream",
     "text": [
      "(33024, 7)\n",
      "time                         0\n",
      "temperature_2m (°C)          0\n",
      "apparent_temperature (°C)    0\n",
      "precipitation (mm)           0\n",
      "weathercode (wmo code)       0\n",
      "cloudcover (%)               0\n",
      "is_day ()                    0\n",
      "dtype: int64\n"
     ]
    },
    {
     "data": {
      "text/html": [
       "<div>\n",
       "<style scoped>\n",
       "    .dataframe tbody tr th:only-of-type {\n",
       "        vertical-align: middle;\n",
       "    }\n",
       "\n",
       "    .dataframe tbody tr th {\n",
       "        vertical-align: top;\n",
       "    }\n",
       "\n",
       "    .dataframe thead th {\n",
       "        text-align: right;\n",
       "    }\n",
       "</style>\n",
       "<table border=\"1\" class=\"dataframe\">\n",
       "  <thead>\n",
       "    <tr style=\"text-align: right;\">\n",
       "      <th></th>\n",
       "      <th>time</th>\n",
       "      <th>temperature_2m (°C)</th>\n",
       "      <th>apparent_temperature (°C)</th>\n",
       "      <th>precipitation (mm)</th>\n",
       "      <th>weathercode (wmo code)</th>\n",
       "      <th>cloudcover (%)</th>\n",
       "      <th>is_day ()</th>\n",
       "    </tr>\n",
       "  </thead>\n",
       "  <tbody>\n",
       "    <tr>\n",
       "      <th>0</th>\n",
       "      <td>2020-01-01T00:00</td>\n",
       "      <td>3.3</td>\n",
       "      <td>-0.1</td>\n",
       "      <td>0.0</td>\n",
       "      <td>1.0</td>\n",
       "      <td>44.0</td>\n",
       "      <td>0</td>\n",
       "    </tr>\n",
       "    <tr>\n",
       "      <th>1</th>\n",
       "      <td>2020-01-01T01:00</td>\n",
       "      <td>2.8</td>\n",
       "      <td>-0.6</td>\n",
       "      <td>0.0</td>\n",
       "      <td>0.0</td>\n",
       "      <td>17.0</td>\n",
       "      <td>0</td>\n",
       "    </tr>\n",
       "    <tr>\n",
       "      <th>2</th>\n",
       "      <td>2020-01-01T02:00</td>\n",
       "      <td>2.5</td>\n",
       "      <td>-1.0</td>\n",
       "      <td>0.0</td>\n",
       "      <td>0.0</td>\n",
       "      <td>10.0</td>\n",
       "      <td>0</td>\n",
       "    </tr>\n",
       "    <tr>\n",
       "      <th>3</th>\n",
       "      <td>2020-01-01T03:00</td>\n",
       "      <td>1.9</td>\n",
       "      <td>-1.6</td>\n",
       "      <td>0.0</td>\n",
       "      <td>0.0</td>\n",
       "      <td>3.0</td>\n",
       "      <td>0</td>\n",
       "    </tr>\n",
       "    <tr>\n",
       "      <th>4</th>\n",
       "      <td>2020-01-01T04:00</td>\n",
       "      <td>1.4</td>\n",
       "      <td>-2.2</td>\n",
       "      <td>0.0</td>\n",
       "      <td>0.0</td>\n",
       "      <td>0.0</td>\n",
       "      <td>0</td>\n",
       "    </tr>\n",
       "  </tbody>\n",
       "</table>\n",
       "</div>"
      ],
      "text/plain": [
       "               time  temperature_2m (°C)  apparent_temperature (°C)  \\\n",
       "0  2020-01-01T00:00                  3.3                       -0.1   \n",
       "1  2020-01-01T01:00                  2.8                       -0.6   \n",
       "2  2020-01-01T02:00                  2.5                       -1.0   \n",
       "3  2020-01-01T03:00                  1.9                       -1.6   \n",
       "4  2020-01-01T04:00                  1.4                       -2.2   \n",
       "\n",
       "   precipitation (mm)  weathercode (wmo code)  cloudcover (%)  is_day ()  \n",
       "0                 0.0                     1.0            44.0          0  \n",
       "1                 0.0                     0.0            17.0          0  \n",
       "2                 0.0                     0.0            10.0          0  \n",
       "3                 0.0                     0.0             3.0          0  \n",
       "4                 0.0                     0.0             0.0          0  "
      ]
     },
     "execution_count": 4,
     "metadata": {},
     "output_type": "execute_result"
    }
   ],
   "source": [
    "# read in data\n",
    "weather_rawdata = pd.read_csv(\"input/bicycle-counter-prediction/open-meteo-51.10N3.70E13m.csv\", skiprows=2).dropna()\n",
    "print(weather_rawdata.shape)\n",
    "print(weather_rawdata.isna().sum())\n",
    "weather_rawdata.head()"
   ]
  },
  {
   "cell_type": "code",
   "execution_count": 5,
   "id": "216daffe",
   "metadata": {},
   "outputs": [
    {
     "data": {
      "text/html": [
       "<div>\n",
       "<style scoped>\n",
       "    .dataframe tbody tr th:only-of-type {\n",
       "        vertical-align: middle;\n",
       "    }\n",
       "\n",
       "    .dataframe tbody tr th {\n",
       "        vertical-align: top;\n",
       "    }\n",
       "\n",
       "    .dataframe thead th {\n",
       "        text-align: right;\n",
       "    }\n",
       "</style>\n",
       "<table border=\"1\" class=\"dataframe\">\n",
       "  <thead>\n",
       "    <tr style=\"text-align: right;\">\n",
       "      <th></th>\n",
       "      <th>name</th>\n",
       "      <th>start</th>\n",
       "      <th>end</th>\n",
       "    </tr>\n",
       "  </thead>\n",
       "  <tbody>\n",
       "    <tr>\n",
       "      <th>0</th>\n",
       "      <td>Christmas holiday 2020</td>\n",
       "      <td>2020-12-21</td>\n",
       "      <td>2021-01-03</td>\n",
       "    </tr>\n",
       "    <tr>\n",
       "      <th>1</th>\n",
       "      <td>Spring break 2021</td>\n",
       "      <td>2021-02-15</td>\n",
       "      <td>2021-02-21</td>\n",
       "    </tr>\n",
       "    <tr>\n",
       "      <th>2</th>\n",
       "      <td>Easter holiday 2021</td>\n",
       "      <td>2021-04-05</td>\n",
       "      <td>2021-04-18</td>\n",
       "    </tr>\n",
       "    <tr>\n",
       "      <th>3</th>\n",
       "      <td>Summer holiday 2021</td>\n",
       "      <td>2021-07-01</td>\n",
       "      <td>2021-08-31</td>\n",
       "    </tr>\n",
       "    <tr>\n",
       "      <th>4</th>\n",
       "      <td>Autumn break 2021</td>\n",
       "      <td>2021-11-01</td>\n",
       "      <td>2021-11-07</td>\n",
       "    </tr>\n",
       "  </tbody>\n",
       "</table>\n",
       "</div>"
      ],
      "text/plain": [
       "                     name       start         end\n",
       "0  Christmas holiday 2020  2020-12-21  2021-01-03\n",
       "1       Spring break 2021  2021-02-15  2021-02-21\n",
       "2     Easter holiday 2021  2021-04-05  2021-04-18\n",
       "3     Summer holiday 2021  2021-07-01  2021-08-31\n",
       "4       Autumn break 2021  2021-11-01  2021-11-07"
      ]
     },
     "execution_count": 5,
     "metadata": {},
     "output_type": "execute_result"
    }
   ],
   "source": [
    "school_holidays_data = pd.read_csv(\"input/bicycle-counter-prediction/school_holidays.csv\", sep = \";\")\n",
    "school_holidays_data.head()"
   ]
  },
  {
   "cell_type": "code",
   "execution_count": 6,
   "id": "d00da270",
   "metadata": {},
   "outputs": [
    {
     "name": "stdout",
     "output_type": "stream",
     "text": [
      "{datetime.date(2021, 1, 1): 'Nieuwjaar', datetime.date(2021, 4, 4): 'Pasen', datetime.date(2021, 4, 5): 'Paasmaandag', datetime.date(2021, 5, 1): 'Dag van de Arbeid', datetime.date(2021, 5, 13): 'O. L. H. Hemelvaart', datetime.date(2021, 5, 23): 'Pinksteren', datetime.date(2021, 5, 24): 'Pinkstermaandag', datetime.date(2021, 7, 21): 'Nationale feestdag', datetime.date(2021, 8, 15): 'O. L. V. Hemelvaart', datetime.date(2021, 11, 1): 'Allerheiligen', datetime.date(2021, 11, 11): 'Wapenstilstand', datetime.date(2021, 12, 25): 'Kerstmis', datetime.date(2022, 1, 1): 'Nieuwjaar', datetime.date(2022, 4, 17): 'Pasen', datetime.date(2022, 4, 18): 'Paasmaandag', datetime.date(2022, 5, 1): 'Dag van de Arbeid', datetime.date(2022, 5, 26): 'O. L. H. Hemelvaart', datetime.date(2022, 6, 5): 'Pinksteren', datetime.date(2022, 6, 6): 'Pinkstermaandag', datetime.date(2022, 7, 21): 'Nationale feestdag', datetime.date(2022, 8, 15): 'O. L. V. Hemelvaart', datetime.date(2022, 11, 1): 'Allerheiligen', datetime.date(2022, 11, 11): 'Wapenstilstand', datetime.date(2022, 12, 25): 'Kerstmis', datetime.date(2023, 1, 1): 'Nieuwjaar', datetime.date(2023, 4, 9): 'Pasen', datetime.date(2023, 4, 10): 'Paasmaandag', datetime.date(2023, 5, 1): 'Dag van de Arbeid', datetime.date(2023, 5, 18): 'O. L. H. Hemelvaart', datetime.date(2023, 5, 28): 'Pinksteren', datetime.date(2023, 5, 29): 'Pinkstermaandag', datetime.date(2023, 7, 21): 'Nationale feestdag', datetime.date(2023, 8, 15): 'O. L. V. Hemelvaart', datetime.date(2023, 11, 1): 'Allerheiligen', datetime.date(2023, 11, 11): 'Wapenstilstand', datetime.date(2023, 12, 25): 'Kerstmis'}\n"
     ]
    }
   ],
   "source": [
    "import holidays\n",
    "belgian_holidays = holidays.Belgium(years=[2021, 2022, 2023])\n",
    "print(belgian_holidays)"
   ]
  },
  {
   "cell_type": "code",
   "execution_count": 7,
   "id": "c0dab92c",
   "metadata": {},
   "outputs": [
    {
     "name": "stdout",
     "output_type": "stream",
     "text": [
      "{'Christmas holiday 2020': [datetime.datetime(2020, 12, 21, 0, 0), datetime.datetime(2021, 1, 3, 0, 0)], 'Spring break 2021': [datetime.datetime(2021, 2, 15, 0, 0), datetime.datetime(2021, 2, 21, 0, 0)], 'Easter holiday 2021': [datetime.datetime(2021, 4, 5, 0, 0), datetime.datetime(2021, 4, 18, 0, 0)], 'Summer holiday 2021': [datetime.datetime(2021, 7, 1, 0, 0), datetime.datetime(2021, 8, 31, 0, 0)], 'Autumn break 2021': [datetime.datetime(2021, 11, 1, 0, 0), datetime.datetime(2021, 11, 7, 0, 0)], 'Christmas holiday 2021': [datetime.datetime(2021, 12, 27, 0, 0), datetime.datetime(2022, 1, 9, 0, 0)], 'Spring break 2022': [datetime.datetime(2022, 2, 28, 0, 0), datetime.datetime(2022, 3, 6, 0, 0)], 'Easter holiday 2022': [datetime.datetime(2022, 4, 4, 0, 0), datetime.datetime(2022, 4, 18, 0, 0)], 'Summer holiday 2022': [datetime.datetime(2022, 7, 1, 0, 0), datetime.datetime(2022, 8, 31, 0, 0)], 'Autumn break 2022': [datetime.datetime(2022, 10, 31, 0, 0), datetime.datetime(2022, 11, 6, 0, 0)], 'Christmas holiday 2022': [datetime.datetime(2022, 12, 26, 0, 0), datetime.datetime(2023, 1, 8, 0, 0)], 'Spring break 2023': [datetime.datetime(2023, 2, 20, 0, 0), datetime.datetime(2023, 2, 26, 0, 0)], 'Easter holiday 2023': [datetime.datetime(2023, 4, 3, 0, 0), datetime.datetime(2023, 4, 16, 0, 0)], 'Summer holiday 2023': [datetime.datetime(2023, 7, 1, 0, 0), datetime.datetime(2023, 8, 31, 0, 0)], 'Autumn break 2023': [datetime.datetime(2023, 10, 30, 0, 0), datetime.datetime(2023, 11, 5, 0, 0)], 'Christmas holiday 2023': [datetime.datetime(2023, 12, 25, 0, 0), datetime.datetime(2024, 1, 7, 0, 0)]}\n"
     ]
    }
   ],
   "source": [
    "import datetime\n",
    "school_holidays = {}\n",
    "for index, row in school_holidays_data.iterrows():\n",
    "    school_holidays[row['name']] = [datetime.datetime.strptime(row['start'], '%Y-%m-%d'), datetime.datetime.strptime(row['end'], '%Y-%m-%d')]\n",
    "print(school_holidays)"
   ]
  },
  {
   "cell_type": "markdown",
   "id": "801ffed0",
   "metadata": {
    "papermill": {
     "duration": 0.003826,
     "end_time": "2023-10-05T13:07:11.396027",
     "exception": false,
     "start_time": "2023-10-05T13:07:11.392201",
     "status": "completed"
    },
    "tags": []
   },
   "source": [
    "The weather data downloaded from open meteo carries times in a slightly different format than the bicycle counter data.\n",
    "Note that you are encouraged to create and download your own weather data with more features.\n",
    "The following code converts this data:"
   ]
  },
  {
   "cell_type": "code",
   "execution_count": 8,
   "id": "c3befa9e",
   "metadata": {
    "execution": {
     "iopub.execute_input": "2023-10-05T13:07:11.405857Z",
     "iopub.status.busy": "2023-10-05T13:07:11.405515Z",
     "iopub.status.idle": "2023-10-05T13:07:11.439824Z",
     "shell.execute_reply": "2023-10-05T13:07:11.438961Z"
    },
    "papermill": {
     "duration": 0.042494,
     "end_time": "2023-10-05T13:07:11.442463",
     "exception": false,
     "start_time": "2023-10-05T13:07:11.399969",
     "status": "completed"
    },
    "tags": []
   },
   "outputs": [
    {
     "name": "stdout",
     "output_type": "stream",
     "text": [
      "(21192, 8)\n",
      "2021-03-01T00\n",
      "2023-07-31T23\n"
     ]
    },
    {
     "data": {
      "text/html": [
       "<div>\n",
       "<style scoped>\n",
       "    .dataframe tbody tr th:only-of-type {\n",
       "        vertical-align: middle;\n",
       "    }\n",
       "\n",
       "    .dataframe tbody tr th {\n",
       "        vertical-align: top;\n",
       "    }\n",
       "\n",
       "    .dataframe thead th {\n",
       "        text-align: right;\n",
       "    }\n",
       "</style>\n",
       "<table border=\"1\" class=\"dataframe\">\n",
       "  <thead>\n",
       "    <tr style=\"text-align: right;\">\n",
       "      <th></th>\n",
       "      <th>temperature_2m</th>\n",
       "      <th>apparent_temperature</th>\n",
       "      <th>precipitation</th>\n",
       "      <th>weathercode</th>\n",
       "      <th>cloudcover</th>\n",
       "      <th>is_day</th>\n",
       "      <th>Date_hour</th>\n",
       "      <th>date</th>\n",
       "    </tr>\n",
       "  </thead>\n",
       "  <tbody>\n",
       "    <tr>\n",
       "      <th>10200</th>\n",
       "      <td>4.0</td>\n",
       "      <td>0.9</td>\n",
       "      <td>0.0</td>\n",
       "      <td>0.0</td>\n",
       "      <td>0.0</td>\n",
       "      <td>0</td>\n",
       "      <td>2021-03-01T00</td>\n",
       "      <td>2021-03-01</td>\n",
       "    </tr>\n",
       "    <tr>\n",
       "      <th>10201</th>\n",
       "      <td>3.6</td>\n",
       "      <td>0.5</td>\n",
       "      <td>0.0</td>\n",
       "      <td>0.0</td>\n",
       "      <td>0.0</td>\n",
       "      <td>0</td>\n",
       "      <td>2021-03-01T01</td>\n",
       "      <td>2021-03-01</td>\n",
       "    </tr>\n",
       "    <tr>\n",
       "      <th>10202</th>\n",
       "      <td>3.2</td>\n",
       "      <td>0.1</td>\n",
       "      <td>0.0</td>\n",
       "      <td>0.0</td>\n",
       "      <td>0.0</td>\n",
       "      <td>0</td>\n",
       "      <td>2021-03-01T02</td>\n",
       "      <td>2021-03-01</td>\n",
       "    </tr>\n",
       "    <tr>\n",
       "      <th>10203</th>\n",
       "      <td>2.9</td>\n",
       "      <td>-0.4</td>\n",
       "      <td>0.0</td>\n",
       "      <td>0.0</td>\n",
       "      <td>0.0</td>\n",
       "      <td>0</td>\n",
       "      <td>2021-03-01T03</td>\n",
       "      <td>2021-03-01</td>\n",
       "    </tr>\n",
       "    <tr>\n",
       "      <th>10204</th>\n",
       "      <td>2.6</td>\n",
       "      <td>-0.8</td>\n",
       "      <td>0.0</td>\n",
       "      <td>0.0</td>\n",
       "      <td>0.0</td>\n",
       "      <td>0</td>\n",
       "      <td>2021-03-01T04</td>\n",
       "      <td>2021-03-01</td>\n",
       "    </tr>\n",
       "  </tbody>\n",
       "</table>\n",
       "</div>"
      ],
      "text/plain": [
       "       temperature_2m  apparent_temperature  precipitation  weathercode  \\\n",
       "10200             4.0                   0.9            0.0          0.0   \n",
       "10201             3.6                   0.5            0.0          0.0   \n",
       "10202             3.2                   0.1            0.0          0.0   \n",
       "10203             2.9                  -0.4            0.0          0.0   \n",
       "10204             2.6                  -0.8            0.0          0.0   \n",
       "\n",
       "       cloudcover  is_day      Date_hour        date  \n",
       "10200         0.0       0  2021-03-01T00  2021-03-01  \n",
       "10201         0.0       0  2021-03-01T01  2021-03-01  \n",
       "10202         0.0       0  2021-03-01T02  2021-03-01  \n",
       "10203         0.0       0  2021-03-01T03  2021-03-01  \n",
       "10204         0.0       0  2021-03-01T04  2021-03-01  "
      ]
     },
     "execution_count": 8,
     "metadata": {},
     "output_type": "execute_result"
    }
   ],
   "source": [
    "from datetime import timedelta\n",
    "\n",
    "weather_data = weather_rawdata.copy()\n",
    "weather_data.columns = weather_data.columns.str.split(' ').str[0]\n",
    "weather_data[\"Date_hour\"] = weather_data[\"time\"].str.split(':', expand = True)[0]\n",
    "weather_data = weather_data.drop(\"time\", axis = 1)\n",
    "weather_data = weather_data[(min(bicycle_data[\"Date_hour\"]) <= weather_data['Date_hour']) & (weather_data['Date_hour'] <= max(test_rawdata[\"Date_hour\"]))]\n",
    "date_time = pd.to_datetime(weather_data['Date_hour'])\n",
    "weather_data[\"date\"] = date_time.dt.date\n",
    "\n",
    "print(weather_data.shape)\n",
    "print(min(weather_data[\"Date_hour\"]))\n",
    "print(max(weather_data[\"Date_hour\"]))\n",
    "weather_data.head()"
   ]
  },
  {
   "cell_type": "markdown",
   "id": "ee5d088e",
   "metadata": {},
   "source": [
    "### Feature engineering"
   ]
  },
  {
   "cell_type": "code",
   "execution_count": 9,
   "id": "00d9ad00",
   "metadata": {},
   "outputs": [
    {
     "name": "stdout",
     "output_type": "stream",
     "text": [
      "(21192, 15)\n"
     ]
    },
    {
     "data": {
      "text/html": [
       "<div>\n",
       "<style scoped>\n",
       "    .dataframe tbody tr th:only-of-type {\n",
       "        vertical-align: middle;\n",
       "    }\n",
       "\n",
       "    .dataframe tbody tr th {\n",
       "        vertical-align: top;\n",
       "    }\n",
       "\n",
       "    .dataframe thead th {\n",
       "        text-align: right;\n",
       "    }\n",
       "</style>\n",
       "<table border=\"1\" class=\"dataframe\">\n",
       "  <thead>\n",
       "    <tr style=\"text-align: right;\">\n",
       "      <th></th>\n",
       "      <th>temperature_2m</th>\n",
       "      <th>apparent_temperature</th>\n",
       "      <th>precipitation</th>\n",
       "      <th>weathercode</th>\n",
       "      <th>cloudcover</th>\n",
       "      <th>is_day</th>\n",
       "      <th>Date_hour</th>\n",
       "      <th>date</th>\n",
       "      <th>weekday</th>\n",
       "      <th>hour</th>\n",
       "      <th>month</th>\n",
       "      <th>hour_sin</th>\n",
       "      <th>season</th>\n",
       "      <th>next_day</th>\n",
       "      <th>prev_day</th>\n",
       "    </tr>\n",
       "  </thead>\n",
       "  <tbody>\n",
       "    <tr>\n",
       "      <th>10200</th>\n",
       "      <td>4.0</td>\n",
       "      <td>0.9</td>\n",
       "      <td>0.0</td>\n",
       "      <td>0.0</td>\n",
       "      <td>0.0</td>\n",
       "      <td>0</td>\n",
       "      <td>2021-03-01T00</td>\n",
       "      <td>2021-03-01</td>\n",
       "      <td>Monday</td>\n",
       "      <td>0</td>\n",
       "      <td>3</td>\n",
       "      <td>0.000000</td>\n",
       "      <td>Spring</td>\n",
       "      <td>2021-03-02 00:00:00</td>\n",
       "      <td>2021-02-28 00:00:00</td>\n",
       "    </tr>\n",
       "    <tr>\n",
       "      <th>10201</th>\n",
       "      <td>3.6</td>\n",
       "      <td>0.5</td>\n",
       "      <td>0.0</td>\n",
       "      <td>0.0</td>\n",
       "      <td>0.0</td>\n",
       "      <td>0</td>\n",
       "      <td>2021-03-01T01</td>\n",
       "      <td>2021-03-01</td>\n",
       "      <td>Monday</td>\n",
       "      <td>1</td>\n",
       "      <td>3</td>\n",
       "      <td>0.258819</td>\n",
       "      <td>Spring</td>\n",
       "      <td>2021-03-02 01:00:00</td>\n",
       "      <td>2021-02-28 01:00:00</td>\n",
       "    </tr>\n",
       "    <tr>\n",
       "      <th>10202</th>\n",
       "      <td>3.2</td>\n",
       "      <td>0.1</td>\n",
       "      <td>0.0</td>\n",
       "      <td>0.0</td>\n",
       "      <td>0.0</td>\n",
       "      <td>0</td>\n",
       "      <td>2021-03-01T02</td>\n",
       "      <td>2021-03-01</td>\n",
       "      <td>Monday</td>\n",
       "      <td>2</td>\n",
       "      <td>3</td>\n",
       "      <td>0.500000</td>\n",
       "      <td>Spring</td>\n",
       "      <td>2021-03-02 02:00:00</td>\n",
       "      <td>2021-02-28 02:00:00</td>\n",
       "    </tr>\n",
       "    <tr>\n",
       "      <th>10203</th>\n",
       "      <td>2.9</td>\n",
       "      <td>-0.4</td>\n",
       "      <td>0.0</td>\n",
       "      <td>0.0</td>\n",
       "      <td>0.0</td>\n",
       "      <td>0</td>\n",
       "      <td>2021-03-01T03</td>\n",
       "      <td>2021-03-01</td>\n",
       "      <td>Monday</td>\n",
       "      <td>3</td>\n",
       "      <td>3</td>\n",
       "      <td>0.707107</td>\n",
       "      <td>Spring</td>\n",
       "      <td>2021-03-02 03:00:00</td>\n",
       "      <td>2021-02-28 03:00:00</td>\n",
       "    </tr>\n",
       "    <tr>\n",
       "      <th>10204</th>\n",
       "      <td>2.6</td>\n",
       "      <td>-0.8</td>\n",
       "      <td>0.0</td>\n",
       "      <td>0.0</td>\n",
       "      <td>0.0</td>\n",
       "      <td>0</td>\n",
       "      <td>2021-03-01T04</td>\n",
       "      <td>2021-03-01</td>\n",
       "      <td>Monday</td>\n",
       "      <td>4</td>\n",
       "      <td>3</td>\n",
       "      <td>0.866025</td>\n",
       "      <td>Spring</td>\n",
       "      <td>2021-03-02 04:00:00</td>\n",
       "      <td>2021-02-28 04:00:00</td>\n",
       "    </tr>\n",
       "  </tbody>\n",
       "</table>\n",
       "</div>"
      ],
      "text/plain": [
       "       temperature_2m  apparent_temperature  precipitation  weathercode  \\\n",
       "10200             4.0                   0.9            0.0          0.0   \n",
       "10201             3.6                   0.5            0.0          0.0   \n",
       "10202             3.2                   0.1            0.0          0.0   \n",
       "10203             2.9                  -0.4            0.0          0.0   \n",
       "10204             2.6                  -0.8            0.0          0.0   \n",
       "\n",
       "       cloudcover  is_day      Date_hour        date weekday  hour  month  \\\n",
       "10200         0.0       0  2021-03-01T00  2021-03-01  Monday     0      3   \n",
       "10201         0.0       0  2021-03-01T01  2021-03-01  Monday     1      3   \n",
       "10202         0.0       0  2021-03-01T02  2021-03-01  Monday     2      3   \n",
       "10203         0.0       0  2021-03-01T03  2021-03-01  Monday     3      3   \n",
       "10204         0.0       0  2021-03-01T04  2021-03-01  Monday     4      3   \n",
       "\n",
       "       hour_sin  season            next_day            prev_day  \n",
       "10200  0.000000  Spring 2021-03-02 00:00:00 2021-02-28 00:00:00  \n",
       "10201  0.258819  Spring 2021-03-02 01:00:00 2021-02-28 01:00:00  \n",
       "10202  0.500000  Spring 2021-03-02 02:00:00 2021-02-28 02:00:00  \n",
       "10203  0.707107  Spring 2021-03-02 03:00:00 2021-02-28 03:00:00  \n",
       "10204  0.866025  Spring 2021-03-02 04:00:00 2021-02-28 04:00:00  "
      ]
     },
     "execution_count": 9,
     "metadata": {},
     "output_type": "execute_result"
    }
   ],
   "source": [
    "feature_data = weather_data.copy()\n",
    "feature_data['weekday'] = date_time.dt.strftime('%A')\n",
    "feature_data['hour'] = date_time.dt.hour\n",
    "feature_data[\"month\"] = date_time.dt.month\n",
    "feature_data['hour_sin'] = np.sin(2 * np.pi * feature_data['hour'] / 24)\n",
    "def get_season(date):\n",
    "    month = date.month\n",
    "    if 3 <= month <= 5:\n",
    "        return 'Spring'\n",
    "    elif 6 <= month <= 8:\n",
    "        return 'Summer'\n",
    "    elif 9 <= month <= 11:\n",
    "        return 'Fall'\n",
    "    else:\n",
    "        return 'Winter'\n",
    "feature_data['season'] = feature_data['date'].apply(get_season)\n",
    "feature_data['next_day'] = date_time + timedelta(days=1)\n",
    "feature_data['prev_day'] = date_time - timedelta(days=1)\n",
    "print(feature_data.shape)\n",
    "feature_data.head()"
   ]
  },
  {
   "cell_type": "code",
   "execution_count": 10,
   "id": "01e1ebdc",
   "metadata": {},
   "outputs": [
    {
     "name": "stdout",
     "output_type": "stream",
     "text": [
      "(21192, 19)\n"
     ]
    },
    {
     "data": {
      "text/html": [
       "<div>\n",
       "<style scoped>\n",
       "    .dataframe tbody tr th:only-of-type {\n",
       "        vertical-align: middle;\n",
       "    }\n",
       "\n",
       "    .dataframe tbody tr th {\n",
       "        vertical-align: top;\n",
       "    }\n",
       "\n",
       "    .dataframe thead th {\n",
       "        text-align: right;\n",
       "    }\n",
       "</style>\n",
       "<table border=\"1\" class=\"dataframe\">\n",
       "  <thead>\n",
       "    <tr style=\"text-align: right;\">\n",
       "      <th></th>\n",
       "      <th>temperature_2m</th>\n",
       "      <th>apparent_temperature</th>\n",
       "      <th>precipitation</th>\n",
       "      <th>weathercode</th>\n",
       "      <th>cloudcover</th>\n",
       "      <th>is_day</th>\n",
       "      <th>Date_hour</th>\n",
       "      <th>date</th>\n",
       "      <th>weekday</th>\n",
       "      <th>hour</th>\n",
       "      <th>month</th>\n",
       "      <th>hour_sin</th>\n",
       "      <th>season</th>\n",
       "      <th>next_day</th>\n",
       "      <th>prev_day</th>\n",
       "      <th>is_school_hours</th>\n",
       "      <th>is_weekend</th>\n",
       "      <th>is_university_lessons</th>\n",
       "      <th>is_Ghent_event</th>\n",
       "    </tr>\n",
       "  </thead>\n",
       "  <tbody>\n",
       "    <tr>\n",
       "      <th>10200</th>\n",
       "      <td>4.0</td>\n",
       "      <td>0.9</td>\n",
       "      <td>0.0</td>\n",
       "      <td>0.0</td>\n",
       "      <td>0.0</td>\n",
       "      <td>0</td>\n",
       "      <td>2021-03-01T00</td>\n",
       "      <td>2021-03-01</td>\n",
       "      <td>Monday</td>\n",
       "      <td>0</td>\n",
       "      <td>3</td>\n",
       "      <td>0.000000</td>\n",
       "      <td>Spring</td>\n",
       "      <td>2021-03-02 00:00:00</td>\n",
       "      <td>2021-02-28 00:00:00</td>\n",
       "      <td>0</td>\n",
       "      <td>0</td>\n",
       "      <td>0</td>\n",
       "      <td>0</td>\n",
       "    </tr>\n",
       "    <tr>\n",
       "      <th>10201</th>\n",
       "      <td>3.6</td>\n",
       "      <td>0.5</td>\n",
       "      <td>0.0</td>\n",
       "      <td>0.0</td>\n",
       "      <td>0.0</td>\n",
       "      <td>0</td>\n",
       "      <td>2021-03-01T01</td>\n",
       "      <td>2021-03-01</td>\n",
       "      <td>Monday</td>\n",
       "      <td>1</td>\n",
       "      <td>3</td>\n",
       "      <td>0.258819</td>\n",
       "      <td>Spring</td>\n",
       "      <td>2021-03-02 01:00:00</td>\n",
       "      <td>2021-02-28 01:00:00</td>\n",
       "      <td>0</td>\n",
       "      <td>0</td>\n",
       "      <td>0</td>\n",
       "      <td>0</td>\n",
       "    </tr>\n",
       "    <tr>\n",
       "      <th>10202</th>\n",
       "      <td>3.2</td>\n",
       "      <td>0.1</td>\n",
       "      <td>0.0</td>\n",
       "      <td>0.0</td>\n",
       "      <td>0.0</td>\n",
       "      <td>0</td>\n",
       "      <td>2021-03-01T02</td>\n",
       "      <td>2021-03-01</td>\n",
       "      <td>Monday</td>\n",
       "      <td>2</td>\n",
       "      <td>3</td>\n",
       "      <td>0.500000</td>\n",
       "      <td>Spring</td>\n",
       "      <td>2021-03-02 02:00:00</td>\n",
       "      <td>2021-02-28 02:00:00</td>\n",
       "      <td>0</td>\n",
       "      <td>0</td>\n",
       "      <td>0</td>\n",
       "      <td>0</td>\n",
       "    </tr>\n",
       "    <tr>\n",
       "      <th>10203</th>\n",
       "      <td>2.9</td>\n",
       "      <td>-0.4</td>\n",
       "      <td>0.0</td>\n",
       "      <td>0.0</td>\n",
       "      <td>0.0</td>\n",
       "      <td>0</td>\n",
       "      <td>2021-03-01T03</td>\n",
       "      <td>2021-03-01</td>\n",
       "      <td>Monday</td>\n",
       "      <td>3</td>\n",
       "      <td>3</td>\n",
       "      <td>0.707107</td>\n",
       "      <td>Spring</td>\n",
       "      <td>2021-03-02 03:00:00</td>\n",
       "      <td>2021-02-28 03:00:00</td>\n",
       "      <td>0</td>\n",
       "      <td>0</td>\n",
       "      <td>0</td>\n",
       "      <td>0</td>\n",
       "    </tr>\n",
       "    <tr>\n",
       "      <th>10204</th>\n",
       "      <td>2.6</td>\n",
       "      <td>-0.8</td>\n",
       "      <td>0.0</td>\n",
       "      <td>0.0</td>\n",
       "      <td>0.0</td>\n",
       "      <td>0</td>\n",
       "      <td>2021-03-01T04</td>\n",
       "      <td>2021-03-01</td>\n",
       "      <td>Monday</td>\n",
       "      <td>4</td>\n",
       "      <td>3</td>\n",
       "      <td>0.866025</td>\n",
       "      <td>Spring</td>\n",
       "      <td>2021-03-02 04:00:00</td>\n",
       "      <td>2021-02-28 04:00:00</td>\n",
       "      <td>0</td>\n",
       "      <td>0</td>\n",
       "      <td>0</td>\n",
       "      <td>0</td>\n",
       "    </tr>\n",
       "  </tbody>\n",
       "</table>\n",
       "</div>"
      ],
      "text/plain": [
       "       temperature_2m  apparent_temperature  precipitation  weathercode  \\\n",
       "10200             4.0                   0.9            0.0          0.0   \n",
       "10201             3.6                   0.5            0.0          0.0   \n",
       "10202             3.2                   0.1            0.0          0.0   \n",
       "10203             2.9                  -0.4            0.0          0.0   \n",
       "10204             2.6                  -0.8            0.0          0.0   \n",
       "\n",
       "       cloudcover  is_day      Date_hour        date weekday  hour  month  \\\n",
       "10200         0.0       0  2021-03-01T00  2021-03-01  Monday     0      3   \n",
       "10201         0.0       0  2021-03-01T01  2021-03-01  Monday     1      3   \n",
       "10202         0.0       0  2021-03-01T02  2021-03-01  Monday     2      3   \n",
       "10203         0.0       0  2021-03-01T03  2021-03-01  Monday     3      3   \n",
       "10204         0.0       0  2021-03-01T04  2021-03-01  Monday     4      3   \n",
       "\n",
       "       hour_sin  season            next_day            prev_day  \\\n",
       "10200  0.000000  Spring 2021-03-02 00:00:00 2021-02-28 00:00:00   \n",
       "10201  0.258819  Spring 2021-03-02 01:00:00 2021-02-28 01:00:00   \n",
       "10202  0.500000  Spring 2021-03-02 02:00:00 2021-02-28 02:00:00   \n",
       "10203  0.707107  Spring 2021-03-02 03:00:00 2021-02-28 03:00:00   \n",
       "10204  0.866025  Spring 2021-03-02 04:00:00 2021-02-28 04:00:00   \n",
       "\n",
       "       is_school_hours  is_weekend  is_university_lessons  is_Ghent_event  \n",
       "10200                0           0                      0               0  \n",
       "10201                0           0                      0               0  \n",
       "10202                0           0                      0               0  \n",
       "10203                0           0                      0               0  \n",
       "10204                0           0                      0               0  "
      ]
     },
     "execution_count": 10,
     "metadata": {},
     "output_type": "execute_result"
    }
   ],
   "source": [
    "feature_data['is_school_hours'] = ((date_time.dt.hour >= 8) & (date_time.dt.hour <= 17)).astype(int)\n",
    "feature_data['is_weekend'] = (feature_data['weekday'].isin([\"Saturday\", \"Sunday\"])).astype(int)\n",
    "feature_data['is_university_lessons'] = (weather_data[\"Date_hour\"].apply(lambda dt:('02-13' <= dt <= '04-01') or ('04-17' <= dt <= '05-20'))).astype(int)\n",
    "feature_data['is_Ghent_event'] = (weather_data[\"Date_hour\"].apply(lambda dt:('07-14' <= dt <= '07-23'))).astype(int)\n",
    "\n",
    "print(feature_data.shape)\n",
    "feature_data.head()"
   ]
  },
  {
   "cell_type": "code",
   "execution_count": 11,
   "id": "6e2ef8cf",
   "metadata": {},
   "outputs": [
    {
     "name": "stdout",
     "output_type": "stream",
     "text": [
      "(21192, 21)\n"
     ]
    },
    {
     "data": {
      "text/html": [
       "<div>\n",
       "<style scoped>\n",
       "    .dataframe tbody tr th:only-of-type {\n",
       "        vertical-align: middle;\n",
       "    }\n",
       "\n",
       "    .dataframe tbody tr th {\n",
       "        vertical-align: top;\n",
       "    }\n",
       "\n",
       "    .dataframe thead th {\n",
       "        text-align: right;\n",
       "    }\n",
       "</style>\n",
       "<table border=\"1\" class=\"dataframe\">\n",
       "  <thead>\n",
       "    <tr style=\"text-align: right;\">\n",
       "      <th></th>\n",
       "      <th>temperature_2m</th>\n",
       "      <th>apparent_temperature</th>\n",
       "      <th>precipitation</th>\n",
       "      <th>weathercode</th>\n",
       "      <th>cloudcover</th>\n",
       "      <th>is_day</th>\n",
       "      <th>Date_hour</th>\n",
       "      <th>date</th>\n",
       "      <th>weekday</th>\n",
       "      <th>hour</th>\n",
       "      <th>...</th>\n",
       "      <th>hour_sin</th>\n",
       "      <th>season</th>\n",
       "      <th>next_day</th>\n",
       "      <th>prev_day</th>\n",
       "      <th>is_school_hours</th>\n",
       "      <th>is_weekend</th>\n",
       "      <th>is_university_lessons</th>\n",
       "      <th>is_Ghent_event</th>\n",
       "      <th>is_public_holiday</th>\n",
       "      <th>is_school_holiday</th>\n",
       "    </tr>\n",
       "  </thead>\n",
       "  <tbody>\n",
       "    <tr>\n",
       "      <th>10200</th>\n",
       "      <td>4.0</td>\n",
       "      <td>0.9</td>\n",
       "      <td>0.0</td>\n",
       "      <td>0.0</td>\n",
       "      <td>0.0</td>\n",
       "      <td>0</td>\n",
       "      <td>2021-03-01T00</td>\n",
       "      <td>2021-03-01</td>\n",
       "      <td>Monday</td>\n",
       "      <td>0</td>\n",
       "      <td>...</td>\n",
       "      <td>0.000000</td>\n",
       "      <td>Spring</td>\n",
       "      <td>2021-03-02 00:00:00</td>\n",
       "      <td>2021-02-28 00:00:00</td>\n",
       "      <td>0</td>\n",
       "      <td>0</td>\n",
       "      <td>0</td>\n",
       "      <td>0</td>\n",
       "      <td>0</td>\n",
       "      <td>0</td>\n",
       "    </tr>\n",
       "    <tr>\n",
       "      <th>10201</th>\n",
       "      <td>3.6</td>\n",
       "      <td>0.5</td>\n",
       "      <td>0.0</td>\n",
       "      <td>0.0</td>\n",
       "      <td>0.0</td>\n",
       "      <td>0</td>\n",
       "      <td>2021-03-01T01</td>\n",
       "      <td>2021-03-01</td>\n",
       "      <td>Monday</td>\n",
       "      <td>1</td>\n",
       "      <td>...</td>\n",
       "      <td>0.258819</td>\n",
       "      <td>Spring</td>\n",
       "      <td>2021-03-02 01:00:00</td>\n",
       "      <td>2021-02-28 01:00:00</td>\n",
       "      <td>0</td>\n",
       "      <td>0</td>\n",
       "      <td>0</td>\n",
       "      <td>0</td>\n",
       "      <td>0</td>\n",
       "      <td>0</td>\n",
       "    </tr>\n",
       "    <tr>\n",
       "      <th>10202</th>\n",
       "      <td>3.2</td>\n",
       "      <td>0.1</td>\n",
       "      <td>0.0</td>\n",
       "      <td>0.0</td>\n",
       "      <td>0.0</td>\n",
       "      <td>0</td>\n",
       "      <td>2021-03-01T02</td>\n",
       "      <td>2021-03-01</td>\n",
       "      <td>Monday</td>\n",
       "      <td>2</td>\n",
       "      <td>...</td>\n",
       "      <td>0.500000</td>\n",
       "      <td>Spring</td>\n",
       "      <td>2021-03-02 02:00:00</td>\n",
       "      <td>2021-02-28 02:00:00</td>\n",
       "      <td>0</td>\n",
       "      <td>0</td>\n",
       "      <td>0</td>\n",
       "      <td>0</td>\n",
       "      <td>0</td>\n",
       "      <td>0</td>\n",
       "    </tr>\n",
       "    <tr>\n",
       "      <th>10203</th>\n",
       "      <td>2.9</td>\n",
       "      <td>-0.4</td>\n",
       "      <td>0.0</td>\n",
       "      <td>0.0</td>\n",
       "      <td>0.0</td>\n",
       "      <td>0</td>\n",
       "      <td>2021-03-01T03</td>\n",
       "      <td>2021-03-01</td>\n",
       "      <td>Monday</td>\n",
       "      <td>3</td>\n",
       "      <td>...</td>\n",
       "      <td>0.707107</td>\n",
       "      <td>Spring</td>\n",
       "      <td>2021-03-02 03:00:00</td>\n",
       "      <td>2021-02-28 03:00:00</td>\n",
       "      <td>0</td>\n",
       "      <td>0</td>\n",
       "      <td>0</td>\n",
       "      <td>0</td>\n",
       "      <td>0</td>\n",
       "      <td>0</td>\n",
       "    </tr>\n",
       "    <tr>\n",
       "      <th>10204</th>\n",
       "      <td>2.6</td>\n",
       "      <td>-0.8</td>\n",
       "      <td>0.0</td>\n",
       "      <td>0.0</td>\n",
       "      <td>0.0</td>\n",
       "      <td>0</td>\n",
       "      <td>2021-03-01T04</td>\n",
       "      <td>2021-03-01</td>\n",
       "      <td>Monday</td>\n",
       "      <td>4</td>\n",
       "      <td>...</td>\n",
       "      <td>0.866025</td>\n",
       "      <td>Spring</td>\n",
       "      <td>2021-03-02 04:00:00</td>\n",
       "      <td>2021-02-28 04:00:00</td>\n",
       "      <td>0</td>\n",
       "      <td>0</td>\n",
       "      <td>0</td>\n",
       "      <td>0</td>\n",
       "      <td>0</td>\n",
       "      <td>0</td>\n",
       "    </tr>\n",
       "  </tbody>\n",
       "</table>\n",
       "<p>5 rows × 21 columns</p>\n",
       "</div>"
      ],
      "text/plain": [
       "       temperature_2m  apparent_temperature  precipitation  weathercode  \\\n",
       "10200             4.0                   0.9            0.0          0.0   \n",
       "10201             3.6                   0.5            0.0          0.0   \n",
       "10202             3.2                   0.1            0.0          0.0   \n",
       "10203             2.9                  -0.4            0.0          0.0   \n",
       "10204             2.6                  -0.8            0.0          0.0   \n",
       "\n",
       "       cloudcover  is_day      Date_hour        date weekday  hour  ...  \\\n",
       "10200         0.0       0  2021-03-01T00  2021-03-01  Monday     0  ...   \n",
       "10201         0.0       0  2021-03-01T01  2021-03-01  Monday     1  ...   \n",
       "10202         0.0       0  2021-03-01T02  2021-03-01  Monday     2  ...   \n",
       "10203         0.0       0  2021-03-01T03  2021-03-01  Monday     3  ...   \n",
       "10204         0.0       0  2021-03-01T04  2021-03-01  Monday     4  ...   \n",
       "\n",
       "       hour_sin  season            next_day            prev_day  \\\n",
       "10200  0.000000  Spring 2021-03-02 00:00:00 2021-02-28 00:00:00   \n",
       "10201  0.258819  Spring 2021-03-02 01:00:00 2021-02-28 01:00:00   \n",
       "10202  0.500000  Spring 2021-03-02 02:00:00 2021-02-28 02:00:00   \n",
       "10203  0.707107  Spring 2021-03-02 03:00:00 2021-02-28 03:00:00   \n",
       "10204  0.866025  Spring 2021-03-02 04:00:00 2021-02-28 04:00:00   \n",
       "\n",
       "      is_school_hours  is_weekend  is_university_lessons  is_Ghent_event  \\\n",
       "10200               0           0                      0               0   \n",
       "10201               0           0                      0               0   \n",
       "10202               0           0                      0               0   \n",
       "10203               0           0                      0               0   \n",
       "10204               0           0                      0               0   \n",
       "\n",
       "       is_public_holiday  is_school_holiday  \n",
       "10200                  0                  0  \n",
       "10201                  0                  0  \n",
       "10202                  0                  0  \n",
       "10203                  0                  0  \n",
       "10204                  0                  0  \n",
       "\n",
       "[5 rows x 21 columns]"
      ]
     },
     "execution_count": 11,
     "metadata": {},
     "output_type": "execute_result"
    }
   ],
   "source": [
    "feature_data['is_public_holiday'] = (date_time.dt.date.isin(belgian_holidays)).astype(int)\n",
    "# feature_data['is_bridge_day'] = (feature_data['weekday'].isin([\"Monday\", \"Friday\"]) & feature_data['next_day'].dt.date.isin(belgian_holidays) | weather_data['prev_day'].dt.date.isin(belgian_holidays)).astype(int)\n",
    "is_school_holiday = [0] * len(date_time)\n",
    "for i, check_date in enumerate(date_time):\n",
    "    for holiday, date_range in school_holidays.items():\n",
    "        start_date = date_range[0]\n",
    "        end_date = date_range[1]\n",
    "        if start_date <= check_date <= end_date:\n",
    "            is_school_holiday[i] = 1\n",
    "feature_data[\"is_school_holiday\"] = is_school_holiday\n",
    "print(feature_data.shape)\n",
    "feature_data.head()"
   ]
  },
  {
   "cell_type": "code",
   "execution_count": 12,
   "id": "8b26f623",
   "metadata": {},
   "outputs": [
    {
     "data": {
      "text/html": [
       "<div>\n",
       "<style scoped>\n",
       "    .dataframe tbody tr th:only-of-type {\n",
       "        vertical-align: middle;\n",
       "    }\n",
       "\n",
       "    .dataframe tbody tr th {\n",
       "        vertical-align: top;\n",
       "    }\n",
       "\n",
       "    .dataframe thead th {\n",
       "        text-align: right;\n",
       "    }\n",
       "</style>\n",
       "<table border=\"1\" class=\"dataframe\">\n",
       "  <thead>\n",
       "    <tr style=\"text-align: right;\">\n",
       "      <th></th>\n",
       "      <th>Friday</th>\n",
       "      <th>Monday</th>\n",
       "      <th>Saturday</th>\n",
       "      <th>Sunday</th>\n",
       "      <th>Thursday</th>\n",
       "      <th>Tuesday</th>\n",
       "      <th>Wednesday</th>\n",
       "      <th>Fall</th>\n",
       "      <th>Spring</th>\n",
       "      <th>Summer</th>\n",
       "      <th>Winter</th>\n",
       "    </tr>\n",
       "  </thead>\n",
       "  <tbody>\n",
       "    <tr>\n",
       "      <th>10200</th>\n",
       "      <td>0</td>\n",
       "      <td>1</td>\n",
       "      <td>0</td>\n",
       "      <td>0</td>\n",
       "      <td>0</td>\n",
       "      <td>0</td>\n",
       "      <td>0</td>\n",
       "      <td>0</td>\n",
       "      <td>1</td>\n",
       "      <td>0</td>\n",
       "      <td>0</td>\n",
       "    </tr>\n",
       "    <tr>\n",
       "      <th>10201</th>\n",
       "      <td>0</td>\n",
       "      <td>1</td>\n",
       "      <td>0</td>\n",
       "      <td>0</td>\n",
       "      <td>0</td>\n",
       "      <td>0</td>\n",
       "      <td>0</td>\n",
       "      <td>0</td>\n",
       "      <td>1</td>\n",
       "      <td>0</td>\n",
       "      <td>0</td>\n",
       "    </tr>\n",
       "    <tr>\n",
       "      <th>10202</th>\n",
       "      <td>0</td>\n",
       "      <td>1</td>\n",
       "      <td>0</td>\n",
       "      <td>0</td>\n",
       "      <td>0</td>\n",
       "      <td>0</td>\n",
       "      <td>0</td>\n",
       "      <td>0</td>\n",
       "      <td>1</td>\n",
       "      <td>0</td>\n",
       "      <td>0</td>\n",
       "    </tr>\n",
       "    <tr>\n",
       "      <th>10203</th>\n",
       "      <td>0</td>\n",
       "      <td>1</td>\n",
       "      <td>0</td>\n",
       "      <td>0</td>\n",
       "      <td>0</td>\n",
       "      <td>0</td>\n",
       "      <td>0</td>\n",
       "      <td>0</td>\n",
       "      <td>1</td>\n",
       "      <td>0</td>\n",
       "      <td>0</td>\n",
       "    </tr>\n",
       "    <tr>\n",
       "      <th>10204</th>\n",
       "      <td>0</td>\n",
       "      <td>1</td>\n",
       "      <td>0</td>\n",
       "      <td>0</td>\n",
       "      <td>0</td>\n",
       "      <td>0</td>\n",
       "      <td>0</td>\n",
       "      <td>0</td>\n",
       "      <td>1</td>\n",
       "      <td>0</td>\n",
       "      <td>0</td>\n",
       "    </tr>\n",
       "  </tbody>\n",
       "</table>\n",
       "</div>"
      ],
      "text/plain": [
       "       Friday  Monday  Saturday  Sunday  Thursday  Tuesday  Wednesday  Fall  \\\n",
       "10200       0       1         0       0         0        0          0     0   \n",
       "10201       0       1         0       0         0        0          0     0   \n",
       "10202       0       1         0       0         0        0          0     0   \n",
       "10203       0       1         0       0         0        0          0     0   \n",
       "10204       0       1         0       0         0        0          0     0   \n",
       "\n",
       "       Spring  Summer  Winter  \n",
       "10200       1       0       0  \n",
       "10201       1       0       0  \n",
       "10202       1       0       0  \n",
       "10203       1       0       0  \n",
       "10204       1       0       0  "
      ]
     },
     "execution_count": 12,
     "metadata": {},
     "output_type": "execute_result"
    }
   ],
   "source": [
    "dummies = pd.concat([pd.get_dummies(feature_data.weekday), pd.get_dummies(feature_data.season)], axis = 1)\n",
    "dummies.head()"
   ]
  },
  {
   "cell_type": "code",
   "execution_count": 13,
   "id": "c1d132f2",
   "metadata": {},
   "outputs": [
    {
     "name": "stdout",
     "output_type": "stream",
     "text": [
      "(21192, 32)\n"
     ]
    },
    {
     "data": {
      "text/html": [
       "<div>\n",
       "<style scoped>\n",
       "    .dataframe tbody tr th:only-of-type {\n",
       "        vertical-align: middle;\n",
       "    }\n",
       "\n",
       "    .dataframe tbody tr th {\n",
       "        vertical-align: top;\n",
       "    }\n",
       "\n",
       "    .dataframe thead th {\n",
       "        text-align: right;\n",
       "    }\n",
       "</style>\n",
       "<table border=\"1\" class=\"dataframe\">\n",
       "  <thead>\n",
       "    <tr style=\"text-align: right;\">\n",
       "      <th></th>\n",
       "      <th>temperature_2m</th>\n",
       "      <th>apparent_temperature</th>\n",
       "      <th>precipitation</th>\n",
       "      <th>weathercode</th>\n",
       "      <th>cloudcover</th>\n",
       "      <th>is_day</th>\n",
       "      <th>Date_hour</th>\n",
       "      <th>date</th>\n",
       "      <th>weekday</th>\n",
       "      <th>hour</th>\n",
       "      <th>...</th>\n",
       "      <th>Monday</th>\n",
       "      <th>Saturday</th>\n",
       "      <th>Sunday</th>\n",
       "      <th>Thursday</th>\n",
       "      <th>Tuesday</th>\n",
       "      <th>Wednesday</th>\n",
       "      <th>Fall</th>\n",
       "      <th>Spring</th>\n",
       "      <th>Summer</th>\n",
       "      <th>Winter</th>\n",
       "    </tr>\n",
       "  </thead>\n",
       "  <tbody>\n",
       "    <tr>\n",
       "      <th>10200</th>\n",
       "      <td>4.0</td>\n",
       "      <td>0.9</td>\n",
       "      <td>0.0</td>\n",
       "      <td>0.0</td>\n",
       "      <td>0.0</td>\n",
       "      <td>0</td>\n",
       "      <td>2021-03-01T00</td>\n",
       "      <td>2021-03-01</td>\n",
       "      <td>Monday</td>\n",
       "      <td>0</td>\n",
       "      <td>...</td>\n",
       "      <td>1</td>\n",
       "      <td>0</td>\n",
       "      <td>0</td>\n",
       "      <td>0</td>\n",
       "      <td>0</td>\n",
       "      <td>0</td>\n",
       "      <td>0</td>\n",
       "      <td>1</td>\n",
       "      <td>0</td>\n",
       "      <td>0</td>\n",
       "    </tr>\n",
       "    <tr>\n",
       "      <th>10201</th>\n",
       "      <td>3.6</td>\n",
       "      <td>0.5</td>\n",
       "      <td>0.0</td>\n",
       "      <td>0.0</td>\n",
       "      <td>0.0</td>\n",
       "      <td>0</td>\n",
       "      <td>2021-03-01T01</td>\n",
       "      <td>2021-03-01</td>\n",
       "      <td>Monday</td>\n",
       "      <td>1</td>\n",
       "      <td>...</td>\n",
       "      <td>1</td>\n",
       "      <td>0</td>\n",
       "      <td>0</td>\n",
       "      <td>0</td>\n",
       "      <td>0</td>\n",
       "      <td>0</td>\n",
       "      <td>0</td>\n",
       "      <td>1</td>\n",
       "      <td>0</td>\n",
       "      <td>0</td>\n",
       "    </tr>\n",
       "    <tr>\n",
       "      <th>10202</th>\n",
       "      <td>3.2</td>\n",
       "      <td>0.1</td>\n",
       "      <td>0.0</td>\n",
       "      <td>0.0</td>\n",
       "      <td>0.0</td>\n",
       "      <td>0</td>\n",
       "      <td>2021-03-01T02</td>\n",
       "      <td>2021-03-01</td>\n",
       "      <td>Monday</td>\n",
       "      <td>2</td>\n",
       "      <td>...</td>\n",
       "      <td>1</td>\n",
       "      <td>0</td>\n",
       "      <td>0</td>\n",
       "      <td>0</td>\n",
       "      <td>0</td>\n",
       "      <td>0</td>\n",
       "      <td>0</td>\n",
       "      <td>1</td>\n",
       "      <td>0</td>\n",
       "      <td>0</td>\n",
       "    </tr>\n",
       "    <tr>\n",
       "      <th>10203</th>\n",
       "      <td>2.9</td>\n",
       "      <td>-0.4</td>\n",
       "      <td>0.0</td>\n",
       "      <td>0.0</td>\n",
       "      <td>0.0</td>\n",
       "      <td>0</td>\n",
       "      <td>2021-03-01T03</td>\n",
       "      <td>2021-03-01</td>\n",
       "      <td>Monday</td>\n",
       "      <td>3</td>\n",
       "      <td>...</td>\n",
       "      <td>1</td>\n",
       "      <td>0</td>\n",
       "      <td>0</td>\n",
       "      <td>0</td>\n",
       "      <td>0</td>\n",
       "      <td>0</td>\n",
       "      <td>0</td>\n",
       "      <td>1</td>\n",
       "      <td>0</td>\n",
       "      <td>0</td>\n",
       "    </tr>\n",
       "    <tr>\n",
       "      <th>10204</th>\n",
       "      <td>2.6</td>\n",
       "      <td>-0.8</td>\n",
       "      <td>0.0</td>\n",
       "      <td>0.0</td>\n",
       "      <td>0.0</td>\n",
       "      <td>0</td>\n",
       "      <td>2021-03-01T04</td>\n",
       "      <td>2021-03-01</td>\n",
       "      <td>Monday</td>\n",
       "      <td>4</td>\n",
       "      <td>...</td>\n",
       "      <td>1</td>\n",
       "      <td>0</td>\n",
       "      <td>0</td>\n",
       "      <td>0</td>\n",
       "      <td>0</td>\n",
       "      <td>0</td>\n",
       "      <td>0</td>\n",
       "      <td>1</td>\n",
       "      <td>0</td>\n",
       "      <td>0</td>\n",
       "    </tr>\n",
       "  </tbody>\n",
       "</table>\n",
       "<p>5 rows × 32 columns</p>\n",
       "</div>"
      ],
      "text/plain": [
       "       temperature_2m  apparent_temperature  precipitation  weathercode  \\\n",
       "10200             4.0                   0.9            0.0          0.0   \n",
       "10201             3.6                   0.5            0.0          0.0   \n",
       "10202             3.2                   0.1            0.0          0.0   \n",
       "10203             2.9                  -0.4            0.0          0.0   \n",
       "10204             2.6                  -0.8            0.0          0.0   \n",
       "\n",
       "       cloudcover  is_day      Date_hour        date weekday  hour  ...  \\\n",
       "10200         0.0       0  2021-03-01T00  2021-03-01  Monday     0  ...   \n",
       "10201         0.0       0  2021-03-01T01  2021-03-01  Monday     1  ...   \n",
       "10202         0.0       0  2021-03-01T02  2021-03-01  Monday     2  ...   \n",
       "10203         0.0       0  2021-03-01T03  2021-03-01  Monday     3  ...   \n",
       "10204         0.0       0  2021-03-01T04  2021-03-01  Monday     4  ...   \n",
       "\n",
       "       Monday  Saturday Sunday Thursday Tuesday  Wednesday  Fall  Spring  \\\n",
       "10200       1         0      0        0       0          0     0       1   \n",
       "10201       1         0      0        0       0          0     0       1   \n",
       "10202       1         0      0        0       0          0     0       1   \n",
       "10203       1         0      0        0       0          0     0       1   \n",
       "10204       1         0      0        0       0          0     0       1   \n",
       "\n",
       "       Summer  Winter  \n",
       "10200       0       0  \n",
       "10201       0       0  \n",
       "10202       0       0  \n",
       "10203       0       0  \n",
       "10204       0       0  \n",
       "\n",
       "[5 rows x 32 columns]"
      ]
     },
     "execution_count": 13,
     "metadata": {},
     "output_type": "execute_result"
    }
   ],
   "source": [
    "feature_data = pd.concat([feature_data, dummies], axis=1)\n",
    "print(feature_data.shape)\n",
    "feature_data.head()"
   ]
  },
  {
   "cell_type": "markdown",
   "id": "7c8b6a82",
   "metadata": {
    "papermill": {
     "duration": 0.004415,
     "end_time": "2023-10-05T13:07:11.451031",
     "exception": false,
     "start_time": "2023-10-05T13:07:11.446616",
     "status": "completed"
    },
    "tags": []
   },
   "source": [
    "The following code merges the bicycle data with the weather data to get a train set:"
   ]
  },
  {
   "cell_type": "code",
   "execution_count": 14,
   "id": "4532c799",
   "metadata": {
    "execution": {
     "iopub.execute_input": "2023-10-05T13:07:11.461511Z",
     "iopub.status.busy": "2023-10-05T13:07:11.460524Z",
     "iopub.status.idle": "2023-10-05T13:07:11.491422Z",
     "shell.execute_reply": "2023-10-05T13:07:11.489607Z"
    },
    "papermill": {
     "duration": 0.038917,
     "end_time": "2023-10-05T13:07:11.494156",
     "exception": false,
     "start_time": "2023-10-05T13:07:11.455239",
     "status": "completed"
    },
    "tags": []
   },
   "outputs": [
    {
     "name": "stdout",
     "output_type": "stream",
     "text": [
      "(20445, 34)\n"
     ]
    },
    {
     "data": {
      "text/html": [
       "<div>\n",
       "<style scoped>\n",
       "    .dataframe tbody tr th:only-of-type {\n",
       "        vertical-align: middle;\n",
       "    }\n",
       "\n",
       "    .dataframe tbody tr th {\n",
       "        vertical-align: top;\n",
       "    }\n",
       "\n",
       "    .dataframe thead th {\n",
       "        text-align: right;\n",
       "    }\n",
       "</style>\n",
       "<table border=\"1\" class=\"dataframe\">\n",
       "  <thead>\n",
       "    <tr style=\"text-align: right;\">\n",
       "      <th></th>\n",
       "      <th>temperature_2m</th>\n",
       "      <th>apparent_temperature</th>\n",
       "      <th>precipitation</th>\n",
       "      <th>weathercode</th>\n",
       "      <th>cloudcover</th>\n",
       "      <th>is_day</th>\n",
       "      <th>Date_hour</th>\n",
       "      <th>date</th>\n",
       "      <th>weekday</th>\n",
       "      <th>hour</th>\n",
       "      <th>...</th>\n",
       "      <th>Sunday</th>\n",
       "      <th>Thursday</th>\n",
       "      <th>Tuesday</th>\n",
       "      <th>Wednesday</th>\n",
       "      <th>Fall</th>\n",
       "      <th>Spring</th>\n",
       "      <th>Summer</th>\n",
       "      <th>Winter</th>\n",
       "      <th>Datum</th>\n",
       "      <th>Totaal</th>\n",
       "    </tr>\n",
       "  </thead>\n",
       "  <tbody>\n",
       "    <tr>\n",
       "      <th>0</th>\n",
       "      <td>4.0</td>\n",
       "      <td>0.9</td>\n",
       "      <td>0.0</td>\n",
       "      <td>0.0</td>\n",
       "      <td>0.0</td>\n",
       "      <td>0</td>\n",
       "      <td>2021-03-01T00</td>\n",
       "      <td>2021-03-01</td>\n",
       "      <td>Monday</td>\n",
       "      <td>0</td>\n",
       "      <td>...</td>\n",
       "      <td>0</td>\n",
       "      <td>0</td>\n",
       "      <td>0</td>\n",
       "      <td>0</td>\n",
       "      <td>0</td>\n",
       "      <td>1</td>\n",
       "      <td>0</td>\n",
       "      <td>0</td>\n",
       "      <td>2021-03-01</td>\n",
       "      <td>5.0</td>\n",
       "    </tr>\n",
       "    <tr>\n",
       "      <th>1</th>\n",
       "      <td>3.6</td>\n",
       "      <td>0.5</td>\n",
       "      <td>0.0</td>\n",
       "      <td>0.0</td>\n",
       "      <td>0.0</td>\n",
       "      <td>0</td>\n",
       "      <td>2021-03-01T01</td>\n",
       "      <td>2021-03-01</td>\n",
       "      <td>Monday</td>\n",
       "      <td>1</td>\n",
       "      <td>...</td>\n",
       "      <td>0</td>\n",
       "      <td>0</td>\n",
       "      <td>0</td>\n",
       "      <td>0</td>\n",
       "      <td>0</td>\n",
       "      <td>1</td>\n",
       "      <td>0</td>\n",
       "      <td>0</td>\n",
       "      <td>2021-03-01</td>\n",
       "      <td>1.0</td>\n",
       "    </tr>\n",
       "    <tr>\n",
       "      <th>2</th>\n",
       "      <td>3.2</td>\n",
       "      <td>0.1</td>\n",
       "      <td>0.0</td>\n",
       "      <td>0.0</td>\n",
       "      <td>0.0</td>\n",
       "      <td>0</td>\n",
       "      <td>2021-03-01T02</td>\n",
       "      <td>2021-03-01</td>\n",
       "      <td>Monday</td>\n",
       "      <td>2</td>\n",
       "      <td>...</td>\n",
       "      <td>0</td>\n",
       "      <td>0</td>\n",
       "      <td>0</td>\n",
       "      <td>0</td>\n",
       "      <td>0</td>\n",
       "      <td>1</td>\n",
       "      <td>0</td>\n",
       "      <td>0</td>\n",
       "      <td>2021-03-01</td>\n",
       "      <td>0.0</td>\n",
       "    </tr>\n",
       "    <tr>\n",
       "      <th>3</th>\n",
       "      <td>2.9</td>\n",
       "      <td>-0.4</td>\n",
       "      <td>0.0</td>\n",
       "      <td>0.0</td>\n",
       "      <td>0.0</td>\n",
       "      <td>0</td>\n",
       "      <td>2021-03-01T03</td>\n",
       "      <td>2021-03-01</td>\n",
       "      <td>Monday</td>\n",
       "      <td>3</td>\n",
       "      <td>...</td>\n",
       "      <td>0</td>\n",
       "      <td>0</td>\n",
       "      <td>0</td>\n",
       "      <td>0</td>\n",
       "      <td>0</td>\n",
       "      <td>1</td>\n",
       "      <td>0</td>\n",
       "      <td>0</td>\n",
       "      <td>2021-03-01</td>\n",
       "      <td>2.0</td>\n",
       "    </tr>\n",
       "    <tr>\n",
       "      <th>4</th>\n",
       "      <td>2.6</td>\n",
       "      <td>-0.8</td>\n",
       "      <td>0.0</td>\n",
       "      <td>0.0</td>\n",
       "      <td>0.0</td>\n",
       "      <td>0</td>\n",
       "      <td>2021-03-01T04</td>\n",
       "      <td>2021-03-01</td>\n",
       "      <td>Monday</td>\n",
       "      <td>4</td>\n",
       "      <td>...</td>\n",
       "      <td>0</td>\n",
       "      <td>0</td>\n",
       "      <td>0</td>\n",
       "      <td>0</td>\n",
       "      <td>0</td>\n",
       "      <td>1</td>\n",
       "      <td>0</td>\n",
       "      <td>0</td>\n",
       "      <td>2021-03-01</td>\n",
       "      <td>21.0</td>\n",
       "    </tr>\n",
       "  </tbody>\n",
       "</table>\n",
       "<p>5 rows × 34 columns</p>\n",
       "</div>"
      ],
      "text/plain": [
       "   temperature_2m  apparent_temperature  precipitation  weathercode  \\\n",
       "0             4.0                   0.9            0.0          0.0   \n",
       "1             3.6                   0.5            0.0          0.0   \n",
       "2             3.2                   0.1            0.0          0.0   \n",
       "3             2.9                  -0.4            0.0          0.0   \n",
       "4             2.6                  -0.8            0.0          0.0   \n",
       "\n",
       "   cloudcover  is_day      Date_hour        date weekday  hour  ...  Sunday  \\\n",
       "0         0.0       0  2021-03-01T00  2021-03-01  Monday     0  ...       0   \n",
       "1         0.0       0  2021-03-01T01  2021-03-01  Monday     1  ...       0   \n",
       "2         0.0       0  2021-03-01T02  2021-03-01  Monday     2  ...       0   \n",
       "3         0.0       0  2021-03-01T03  2021-03-01  Monday     3  ...       0   \n",
       "4         0.0       0  2021-03-01T04  2021-03-01  Monday     4  ...       0   \n",
       "\n",
       "   Thursday Tuesday Wednesday Fall  Spring  Summer  Winter       Datum  Totaal  \n",
       "0         0       0         0    0       1       0       0  2021-03-01     5.0  \n",
       "1         0       0         0    0       1       0       0  2021-03-01     1.0  \n",
       "2         0       0         0    0       1       0       0  2021-03-01     0.0  \n",
       "3         0       0         0    0       1       0       0  2021-03-01     2.0  \n",
       "4         0       0         0    0       1       0       0  2021-03-01    21.0  \n",
       "\n",
       "[5 rows x 34 columns]"
      ]
     },
     "execution_count": 14,
     "metadata": {},
     "output_type": "execute_result"
    }
   ],
   "source": [
    "all_data = feature_data.merge(bicycle_data, on = \"Date_hour\")\n",
    "train_data = all_data[all_data[\"Date_hour\"] < min(test_rawdata[\"Date_hour\"])]\n",
    "print(train_data.shape)\n",
    "train_data.head()"
   ]
  },
  {
   "cell_type": "code",
   "execution_count": 15,
   "id": "40db5e52",
   "metadata": {},
   "outputs": [
    {
     "name": "stdout",
     "output_type": "stream",
     "text": [
      "(8759, 3)\n"
     ]
    },
    {
     "data": {
      "text/html": [
       "<div>\n",
       "<style scoped>\n",
       "    .dataframe tbody tr th:only-of-type {\n",
       "        vertical-align: middle;\n",
       "    }\n",
       "\n",
       "    .dataframe tbody tr th {\n",
       "        vertical-align: top;\n",
       "    }\n",
       "\n",
       "    .dataframe thead th {\n",
       "        text-align: right;\n",
       "    }\n",
       "</style>\n",
       "<table border=\"1\" class=\"dataframe\">\n",
       "  <thead>\n",
       "    <tr style=\"text-align: right;\">\n",
       "      <th></th>\n",
       "      <th>Datum</th>\n",
       "      <th>Date_hour</th>\n",
       "      <th>Totaal</th>\n",
       "    </tr>\n",
       "  </thead>\n",
       "  <tbody>\n",
       "    <tr>\n",
       "      <th>0</th>\n",
       "      <td>2022-01-01</td>\n",
       "      <td>2022-01-01T00</td>\n",
       "      <td>30</td>\n",
       "    </tr>\n",
       "    <tr>\n",
       "      <th>1</th>\n",
       "      <td>2022-01-01</td>\n",
       "      <td>2022-01-01T01</td>\n",
       "      <td>110</td>\n",
       "    </tr>\n",
       "    <tr>\n",
       "      <th>2</th>\n",
       "      <td>2022-01-01</td>\n",
       "      <td>2022-01-01T02</td>\n",
       "      <td>117</td>\n",
       "    </tr>\n",
       "    <tr>\n",
       "      <th>3</th>\n",
       "      <td>2022-01-01</td>\n",
       "      <td>2022-01-01T03</td>\n",
       "      <td>148</td>\n",
       "    </tr>\n",
       "    <tr>\n",
       "      <th>4</th>\n",
       "      <td>2022-01-01</td>\n",
       "      <td>2022-01-01T04</td>\n",
       "      <td>150</td>\n",
       "    </tr>\n",
       "  </tbody>\n",
       "</table>\n",
       "</div>"
      ],
      "text/plain": [
       "        Datum      Date_hour  Totaal\n",
       "0  2022-01-01  2022-01-01T00      30\n",
       "1  2022-01-01  2022-01-01T01     110\n",
       "2  2022-01-01  2022-01-01T02     117\n",
       "3  2022-01-01  2022-01-01T03     148\n",
       "4  2022-01-01  2022-01-01T04     150"
      ]
     },
     "execution_count": 15,
     "metadata": {},
     "output_type": "execute_result"
    }
   ],
   "source": [
    "bicycle_data_2022[\"Date_hour\"] = bicycle_data_2022['Ordening'].str.extract(r'^(.*?T\\d{2})..')\n",
    "bicycle_data_2022 = bicycle_data_2022.groupby(['Datum', 'Date_hour'])['Totaal'].sum().reset_index(name ='Totaal')\n",
    "print(bicycle_data_2022.shape)\n",
    "bicycle_data_2022.head()"
   ]
  },
  {
   "cell_type": "code",
   "execution_count": 16,
   "id": "b7d5b1b4",
   "metadata": {},
   "outputs": [
    {
     "name": "stdout",
     "output_type": "stream",
     "text": [
      "(4343, 34)\n"
     ]
    },
    {
     "data": {
      "text/html": [
       "<div>\n",
       "<style scoped>\n",
       "    .dataframe tbody tr th:only-of-type {\n",
       "        vertical-align: middle;\n",
       "    }\n",
       "\n",
       "    .dataframe tbody tr th {\n",
       "        vertical-align: top;\n",
       "    }\n",
       "\n",
       "    .dataframe thead th {\n",
       "        text-align: right;\n",
       "    }\n",
       "</style>\n",
       "<table border=\"1\" class=\"dataframe\">\n",
       "  <thead>\n",
       "    <tr style=\"text-align: right;\">\n",
       "      <th></th>\n",
       "      <th>Date_hour</th>\n",
       "      <th>Totaal</th>\n",
       "      <th>temperature_2m</th>\n",
       "      <th>apparent_temperature</th>\n",
       "      <th>precipitation</th>\n",
       "      <th>weathercode</th>\n",
       "      <th>cloudcover</th>\n",
       "      <th>is_day</th>\n",
       "      <th>date</th>\n",
       "      <th>weekday</th>\n",
       "      <th>...</th>\n",
       "      <th>Saturday</th>\n",
       "      <th>Sunday</th>\n",
       "      <th>Thursday</th>\n",
       "      <th>Tuesday</th>\n",
       "      <th>Wednesday</th>\n",
       "      <th>Fall</th>\n",
       "      <th>Spring</th>\n",
       "      <th>Summer</th>\n",
       "      <th>Winter</th>\n",
       "      <th>Totaal_2022</th>\n",
       "    </tr>\n",
       "  </thead>\n",
       "  <tbody>\n",
       "    <tr>\n",
       "      <th>0</th>\n",
       "      <td>2023-01-01T00</td>\n",
       "      <td>111.0</td>\n",
       "      <td>15.8</td>\n",
       "      <td>9.3</td>\n",
       "      <td>0.0</td>\n",
       "      <td>3.0</td>\n",
       "      <td>86.0</td>\n",
       "      <td>0</td>\n",
       "      <td>2023-01-01</td>\n",
       "      <td>Sunday</td>\n",
       "      <td>...</td>\n",
       "      <td>0</td>\n",
       "      <td>1</td>\n",
       "      <td>0</td>\n",
       "      <td>0</td>\n",
       "      <td>0</td>\n",
       "      <td>0</td>\n",
       "      <td>0</td>\n",
       "      <td>0</td>\n",
       "      <td>1</td>\n",
       "      <td>30</td>\n",
       "    </tr>\n",
       "    <tr>\n",
       "      <th>1</th>\n",
       "      <td>2023-01-01T01</td>\n",
       "      <td>201.0</td>\n",
       "      <td>15.3</td>\n",
       "      <td>8.9</td>\n",
       "      <td>0.0</td>\n",
       "      <td>3.0</td>\n",
       "      <td>80.0</td>\n",
       "      <td>0</td>\n",
       "      <td>2023-01-01</td>\n",
       "      <td>Sunday</td>\n",
       "      <td>...</td>\n",
       "      <td>0</td>\n",
       "      <td>1</td>\n",
       "      <td>0</td>\n",
       "      <td>0</td>\n",
       "      <td>0</td>\n",
       "      <td>0</td>\n",
       "      <td>0</td>\n",
       "      <td>0</td>\n",
       "      <td>1</td>\n",
       "      <td>110</td>\n",
       "    </tr>\n",
       "    <tr>\n",
       "      <th>2</th>\n",
       "      <td>2023-01-01T02</td>\n",
       "      <td>170.0</td>\n",
       "      <td>14.7</td>\n",
       "      <td>8.8</td>\n",
       "      <td>0.0</td>\n",
       "      <td>2.0</td>\n",
       "      <td>70.0</td>\n",
       "      <td>0</td>\n",
       "      <td>2023-01-01</td>\n",
       "      <td>Sunday</td>\n",
       "      <td>...</td>\n",
       "      <td>0</td>\n",
       "      <td>1</td>\n",
       "      <td>0</td>\n",
       "      <td>0</td>\n",
       "      <td>0</td>\n",
       "      <td>0</td>\n",
       "      <td>0</td>\n",
       "      <td>0</td>\n",
       "      <td>1</td>\n",
       "      <td>117</td>\n",
       "    </tr>\n",
       "    <tr>\n",
       "      <th>3</th>\n",
       "      <td>2023-01-01T03</td>\n",
       "      <td>144.0</td>\n",
       "      <td>14.3</td>\n",
       "      <td>9.0</td>\n",
       "      <td>0.0</td>\n",
       "      <td>3.0</td>\n",
       "      <td>99.0</td>\n",
       "      <td>0</td>\n",
       "      <td>2023-01-01</td>\n",
       "      <td>Sunday</td>\n",
       "      <td>...</td>\n",
       "      <td>0</td>\n",
       "      <td>1</td>\n",
       "      <td>0</td>\n",
       "      <td>0</td>\n",
       "      <td>0</td>\n",
       "      <td>0</td>\n",
       "      <td>0</td>\n",
       "      <td>0</td>\n",
       "      <td>1</td>\n",
       "      <td>148</td>\n",
       "    </tr>\n",
       "    <tr>\n",
       "      <th>4</th>\n",
       "      <td>2023-01-01T04</td>\n",
       "      <td>155.0</td>\n",
       "      <td>13.8</td>\n",
       "      <td>9.3</td>\n",
       "      <td>0.0</td>\n",
       "      <td>2.0</td>\n",
       "      <td>70.0</td>\n",
       "      <td>0</td>\n",
       "      <td>2023-01-01</td>\n",
       "      <td>Sunday</td>\n",
       "      <td>...</td>\n",
       "      <td>0</td>\n",
       "      <td>1</td>\n",
       "      <td>0</td>\n",
       "      <td>0</td>\n",
       "      <td>0</td>\n",
       "      <td>0</td>\n",
       "      <td>0</td>\n",
       "      <td>0</td>\n",
       "      <td>1</td>\n",
       "      <td>150</td>\n",
       "    </tr>\n",
       "  </tbody>\n",
       "</table>\n",
       "<p>5 rows × 34 columns</p>\n",
       "</div>"
      ],
      "text/plain": [
       "       Date_hour  Totaal  temperature_2m  apparent_temperature  precipitation  \\\n",
       "0  2023-01-01T00   111.0            15.8                   9.3            0.0   \n",
       "1  2023-01-01T01   201.0            15.3                   8.9            0.0   \n",
       "2  2023-01-01T02   170.0            14.7                   8.8            0.0   \n",
       "3  2023-01-01T03   144.0            14.3                   9.0            0.0   \n",
       "4  2023-01-01T04   155.0            13.8                   9.3            0.0   \n",
       "\n",
       "   weathercode  cloudcover  is_day        date weekday  ...  Saturday  Sunday  \\\n",
       "0          3.0        86.0       0  2023-01-01  Sunday  ...         0       1   \n",
       "1          3.0        80.0       0  2023-01-01  Sunday  ...         0       1   \n",
       "2          2.0        70.0       0  2023-01-01  Sunday  ...         0       1   \n",
       "3          3.0        99.0       0  2023-01-01  Sunday  ...         0       1   \n",
       "4          2.0        70.0       0  2023-01-01  Sunday  ...         0       1   \n",
       "\n",
       "   Thursday Tuesday Wednesday Fall  Spring  Summer  Winter  Totaal_2022  \n",
       "0         0       0         0    0       0       0       1           30  \n",
       "1         0       0         0    0       0       0       1          110  \n",
       "2         0       0         0    0       0       0       1          117  \n",
       "3         0       0         0    0       0       0       1          148  \n",
       "4         0       0         0    0       0       0       1          150  \n",
       "\n",
       "[5 rows x 34 columns]"
      ]
     },
     "execution_count": 16,
     "metadata": {},
     "output_type": "execute_result"
    }
   ],
   "source": [
    "train_data_orig = train_rawdata.merge(feature_data, on = \"Date_hour\", how = 'left')\n",
    "train_data_orig[\"Totaal_2022\"] = bicycle_data_2022[(\"2022-01-01\" <= bicycle_data_2022[\"Datum\"]) & (bicycle_data_2022[\"Datum\"] <= \"2022-06-30\")][\"Totaal\"]\n",
    "print(train_data_orig.shape)\n",
    "train_data_orig.head()"
   ]
  },
  {
   "cell_type": "code",
   "execution_count": 17,
   "id": "807a0d35",
   "metadata": {},
   "outputs": [
    {
     "name": "stdout",
     "output_type": "stream",
     "text": [
      "(2976, 34)\n"
     ]
    },
    {
     "data": {
      "text/html": [
       "<div>\n",
       "<style scoped>\n",
       "    .dataframe tbody tr th:only-of-type {\n",
       "        vertical-align: middle;\n",
       "    }\n",
       "\n",
       "    .dataframe tbody tr th {\n",
       "        vertical-align: top;\n",
       "    }\n",
       "\n",
       "    .dataframe thead th {\n",
       "        text-align: right;\n",
       "    }\n",
       "</style>\n",
       "<table border=\"1\" class=\"dataframe\">\n",
       "  <thead>\n",
       "    <tr style=\"text-align: right;\">\n",
       "      <th></th>\n",
       "      <th>temperature_2m</th>\n",
       "      <th>apparent_temperature</th>\n",
       "      <th>precipitation</th>\n",
       "      <th>weathercode</th>\n",
       "      <th>cloudcover</th>\n",
       "      <th>is_day</th>\n",
       "      <th>Date_hour</th>\n",
       "      <th>date</th>\n",
       "      <th>weekday</th>\n",
       "      <th>hour</th>\n",
       "      <th>...</th>\n",
       "      <th>Sunday</th>\n",
       "      <th>Thursday</th>\n",
       "      <th>Tuesday</th>\n",
       "      <th>Wednesday</th>\n",
       "      <th>Fall</th>\n",
       "      <th>Spring</th>\n",
       "      <th>Summer</th>\n",
       "      <th>Winter</th>\n",
       "      <th>Datum</th>\n",
       "      <th>Totaal</th>\n",
       "    </tr>\n",
       "  </thead>\n",
       "  <tbody>\n",
       "    <tr>\n",
       "      <th>2927</th>\n",
       "      <td>13.7</td>\n",
       "      <td>12.6</td>\n",
       "      <td>0.0</td>\n",
       "      <td>3.0</td>\n",
       "      <td>100.0</td>\n",
       "      <td>0</td>\n",
       "      <td>2021-07-01T00</td>\n",
       "      <td>2021-07-01</td>\n",
       "      <td>Thursday</td>\n",
       "      <td>0</td>\n",
       "      <td>...</td>\n",
       "      <td>0</td>\n",
       "      <td>1</td>\n",
       "      <td>0</td>\n",
       "      <td>0</td>\n",
       "      <td>0</td>\n",
       "      <td>0</td>\n",
       "      <td>1</td>\n",
       "      <td>0</td>\n",
       "      <td>2021-07-01</td>\n",
       "      <td>82.0</td>\n",
       "    </tr>\n",
       "    <tr>\n",
       "      <th>2928</th>\n",
       "      <td>13.6</td>\n",
       "      <td>12.5</td>\n",
       "      <td>0.0</td>\n",
       "      <td>3.0</td>\n",
       "      <td>100.0</td>\n",
       "      <td>0</td>\n",
       "      <td>2021-07-01T01</td>\n",
       "      <td>2021-07-01</td>\n",
       "      <td>Thursday</td>\n",
       "      <td>1</td>\n",
       "      <td>...</td>\n",
       "      <td>0</td>\n",
       "      <td>1</td>\n",
       "      <td>0</td>\n",
       "      <td>0</td>\n",
       "      <td>0</td>\n",
       "      <td>0</td>\n",
       "      <td>1</td>\n",
       "      <td>0</td>\n",
       "      <td>2021-07-01</td>\n",
       "      <td>59.0</td>\n",
       "    </tr>\n",
       "    <tr>\n",
       "      <th>2929</th>\n",
       "      <td>13.5</td>\n",
       "      <td>12.2</td>\n",
       "      <td>0.0</td>\n",
       "      <td>3.0</td>\n",
       "      <td>100.0</td>\n",
       "      <td>0</td>\n",
       "      <td>2021-07-01T02</td>\n",
       "      <td>2021-07-01</td>\n",
       "      <td>Thursday</td>\n",
       "      <td>2</td>\n",
       "      <td>...</td>\n",
       "      <td>0</td>\n",
       "      <td>1</td>\n",
       "      <td>0</td>\n",
       "      <td>0</td>\n",
       "      <td>0</td>\n",
       "      <td>0</td>\n",
       "      <td>1</td>\n",
       "      <td>0</td>\n",
       "      <td>2021-07-01</td>\n",
       "      <td>24.0</td>\n",
       "    </tr>\n",
       "    <tr>\n",
       "      <th>2930</th>\n",
       "      <td>13.3</td>\n",
       "      <td>11.8</td>\n",
       "      <td>0.0</td>\n",
       "      <td>3.0</td>\n",
       "      <td>100.0</td>\n",
       "      <td>0</td>\n",
       "      <td>2021-07-01T03</td>\n",
       "      <td>2021-07-01</td>\n",
       "      <td>Thursday</td>\n",
       "      <td>3</td>\n",
       "      <td>...</td>\n",
       "      <td>0</td>\n",
       "      <td>1</td>\n",
       "      <td>0</td>\n",
       "      <td>0</td>\n",
       "      <td>0</td>\n",
       "      <td>0</td>\n",
       "      <td>1</td>\n",
       "      <td>0</td>\n",
       "      <td>2021-07-01</td>\n",
       "      <td>18.0</td>\n",
       "    </tr>\n",
       "    <tr>\n",
       "      <th>2931</th>\n",
       "      <td>13.1</td>\n",
       "      <td>11.7</td>\n",
       "      <td>0.0</td>\n",
       "      <td>3.0</td>\n",
       "      <td>100.0</td>\n",
       "      <td>1</td>\n",
       "      <td>2021-07-01T04</td>\n",
       "      <td>2021-07-01</td>\n",
       "      <td>Thursday</td>\n",
       "      <td>4</td>\n",
       "      <td>...</td>\n",
       "      <td>0</td>\n",
       "      <td>1</td>\n",
       "      <td>0</td>\n",
       "      <td>0</td>\n",
       "      <td>0</td>\n",
       "      <td>0</td>\n",
       "      <td>1</td>\n",
       "      <td>0</td>\n",
       "      <td>2021-07-01</td>\n",
       "      <td>42.0</td>\n",
       "    </tr>\n",
       "  </tbody>\n",
       "</table>\n",
       "<p>5 rows × 34 columns</p>\n",
       "</div>"
      ],
      "text/plain": [
       "      temperature_2m  apparent_temperature  precipitation  weathercode  \\\n",
       "2927            13.7                  12.6            0.0          3.0   \n",
       "2928            13.6                  12.5            0.0          3.0   \n",
       "2929            13.5                  12.2            0.0          3.0   \n",
       "2930            13.3                  11.8            0.0          3.0   \n",
       "2931            13.1                  11.7            0.0          3.0   \n",
       "\n",
       "      cloudcover  is_day      Date_hour        date   weekday  hour  ...  \\\n",
       "2927       100.0       0  2021-07-01T00  2021-07-01  Thursday     0  ...   \n",
       "2928       100.0       0  2021-07-01T01  2021-07-01  Thursday     1  ...   \n",
       "2929       100.0       0  2021-07-01T02  2021-07-01  Thursday     2  ...   \n",
       "2930       100.0       0  2021-07-01T03  2021-07-01  Thursday     3  ...   \n",
       "2931       100.0       1  2021-07-01T04  2021-07-01  Thursday     4  ...   \n",
       "\n",
       "      Sunday  Thursday Tuesday Wednesday Fall  Spring  Summer  Winter  \\\n",
       "2927       0         1       0         0    0       0       1       0   \n",
       "2928       0         1       0         0    0       0       1       0   \n",
       "2929       0         1       0         0    0       0       1       0   \n",
       "2930       0         1       0         0    0       0       1       0   \n",
       "2931       0         1       0         0    0       0       1       0   \n",
       "\n",
       "           Datum  Totaal  \n",
       "2927  2021-07-01    82.0  \n",
       "2928  2021-07-01    59.0  \n",
       "2929  2021-07-01    24.0  \n",
       "2930  2021-07-01    18.0  \n",
       "2931  2021-07-01    42.0  \n",
       "\n",
       "[5 rows x 34 columns]"
      ]
     },
     "execution_count": 17,
     "metadata": {},
     "output_type": "execute_result"
    }
   ],
   "source": [
    "train_data_summer = train_data[(train_data[\"month\"] <= 8) & (train_data[\"month\"] >= 7)]\n",
    "print(train_data_summer.shape)\n",
    "train_data_summer.head()"
   ]
  },
  {
   "cell_type": "markdown",
   "id": "4820a726",
   "metadata": {
    "papermill": {
     "duration": 0.004274,
     "end_time": "2023-10-05T13:07:11.503369",
     "exception": false,
     "start_time": "2023-10-05T13:07:11.499095",
     "status": "completed"
    },
    "tags": []
   },
   "source": [
    "The following does the same but then for the test set:"
   ]
  },
  {
   "cell_type": "code",
   "execution_count": 18,
   "id": "5f3df659",
   "metadata": {
    "execution": {
     "iopub.execute_input": "2023-10-05T13:07:11.513749Z",
     "iopub.status.busy": "2023-10-05T13:07:11.513342Z",
     "iopub.status.idle": "2023-10-05T13:07:11.529940Z",
     "shell.execute_reply": "2023-10-05T13:07:11.528659Z"
    },
    "papermill": {
     "duration": 0.024913,
     "end_time": "2023-10-05T13:07:11.532636",
     "exception": false,
     "start_time": "2023-10-05T13:07:11.507723",
     "status": "completed"
    },
    "tags": []
   },
   "outputs": [
    {
     "name": "stdout",
     "output_type": "stream",
     "text": [
      "(744, 34)\n"
     ]
    },
    {
     "data": {
      "text/html": [
       "<div>\n",
       "<style scoped>\n",
       "    .dataframe tbody tr th:only-of-type {\n",
       "        vertical-align: middle;\n",
       "    }\n",
       "\n",
       "    .dataframe tbody tr th {\n",
       "        vertical-align: top;\n",
       "    }\n",
       "\n",
       "    .dataframe thead th {\n",
       "        text-align: right;\n",
       "    }\n",
       "</style>\n",
       "<table border=\"1\" class=\"dataframe\">\n",
       "  <thead>\n",
       "    <tr style=\"text-align: right;\">\n",
       "      <th></th>\n",
       "      <th>Id</th>\n",
       "      <th>Date_hour</th>\n",
       "      <th>temperature_2m</th>\n",
       "      <th>apparent_temperature</th>\n",
       "      <th>precipitation</th>\n",
       "      <th>weathercode</th>\n",
       "      <th>cloudcover</th>\n",
       "      <th>is_day</th>\n",
       "      <th>date</th>\n",
       "      <th>weekday</th>\n",
       "      <th>...</th>\n",
       "      <th>Saturday</th>\n",
       "      <th>Sunday</th>\n",
       "      <th>Thursday</th>\n",
       "      <th>Tuesday</th>\n",
       "      <th>Wednesday</th>\n",
       "      <th>Fall</th>\n",
       "      <th>Spring</th>\n",
       "      <th>Summer</th>\n",
       "      <th>Winter</th>\n",
       "      <th>Totaal_2022</th>\n",
       "    </tr>\n",
       "  </thead>\n",
       "  <tbody>\n",
       "    <tr>\n",
       "      <th>0</th>\n",
       "      <td>0</td>\n",
       "      <td>2023-07-01T00</td>\n",
       "      <td>18.0</td>\n",
       "      <td>15.7</td>\n",
       "      <td>0.0</td>\n",
       "      <td>3.0</td>\n",
       "      <td>100.0</td>\n",
       "      <td>0</td>\n",
       "      <td>2023-07-01</td>\n",
       "      <td>Saturday</td>\n",
       "      <td>...</td>\n",
       "      <td>1</td>\n",
       "      <td>0</td>\n",
       "      <td>0</td>\n",
       "      <td>0</td>\n",
       "      <td>0</td>\n",
       "      <td>0</td>\n",
       "      <td>0</td>\n",
       "      <td>1</td>\n",
       "      <td>0</td>\n",
       "      <td>96</td>\n",
       "    </tr>\n",
       "    <tr>\n",
       "      <th>1</th>\n",
       "      <td>1</td>\n",
       "      <td>2023-07-01T01</td>\n",
       "      <td>17.7</td>\n",
       "      <td>15.3</td>\n",
       "      <td>0.0</td>\n",
       "      <td>3.0</td>\n",
       "      <td>100.0</td>\n",
       "      <td>0</td>\n",
       "      <td>2023-07-01</td>\n",
       "      <td>Saturday</td>\n",
       "      <td>...</td>\n",
       "      <td>1</td>\n",
       "      <td>0</td>\n",
       "      <td>0</td>\n",
       "      <td>0</td>\n",
       "      <td>0</td>\n",
       "      <td>0</td>\n",
       "      <td>0</td>\n",
       "      <td>1</td>\n",
       "      <td>0</td>\n",
       "      <td>41</td>\n",
       "    </tr>\n",
       "    <tr>\n",
       "      <th>2</th>\n",
       "      <td>2</td>\n",
       "      <td>2023-07-01T02</td>\n",
       "      <td>17.4</td>\n",
       "      <td>15.0</td>\n",
       "      <td>0.0</td>\n",
       "      <td>3.0</td>\n",
       "      <td>100.0</td>\n",
       "      <td>0</td>\n",
       "      <td>2023-07-01</td>\n",
       "      <td>Saturday</td>\n",
       "      <td>...</td>\n",
       "      <td>1</td>\n",
       "      <td>0</td>\n",
       "      <td>0</td>\n",
       "      <td>0</td>\n",
       "      <td>0</td>\n",
       "      <td>0</td>\n",
       "      <td>0</td>\n",
       "      <td>1</td>\n",
       "      <td>0</td>\n",
       "      <td>17</td>\n",
       "    </tr>\n",
       "    <tr>\n",
       "      <th>3</th>\n",
       "      <td>3</td>\n",
       "      <td>2023-07-01T03</td>\n",
       "      <td>17.2</td>\n",
       "      <td>15.0</td>\n",
       "      <td>0.0</td>\n",
       "      <td>3.0</td>\n",
       "      <td>100.0</td>\n",
       "      <td>0</td>\n",
       "      <td>2023-07-01</td>\n",
       "      <td>Saturday</td>\n",
       "      <td>...</td>\n",
       "      <td>1</td>\n",
       "      <td>0</td>\n",
       "      <td>0</td>\n",
       "      <td>0</td>\n",
       "      <td>0</td>\n",
       "      <td>0</td>\n",
       "      <td>0</td>\n",
       "      <td>1</td>\n",
       "      <td>0</td>\n",
       "      <td>49</td>\n",
       "    </tr>\n",
       "    <tr>\n",
       "      <th>4</th>\n",
       "      <td>4</td>\n",
       "      <td>2023-07-01T04</td>\n",
       "      <td>17.1</td>\n",
       "      <td>15.3</td>\n",
       "      <td>0.0</td>\n",
       "      <td>3.0</td>\n",
       "      <td>100.0</td>\n",
       "      <td>1</td>\n",
       "      <td>2023-07-01</td>\n",
       "      <td>Saturday</td>\n",
       "      <td>...</td>\n",
       "      <td>1</td>\n",
       "      <td>0</td>\n",
       "      <td>0</td>\n",
       "      <td>0</td>\n",
       "      <td>0</td>\n",
       "      <td>0</td>\n",
       "      <td>0</td>\n",
       "      <td>1</td>\n",
       "      <td>0</td>\n",
       "      <td>37</td>\n",
       "    </tr>\n",
       "  </tbody>\n",
       "</table>\n",
       "<p>5 rows × 34 columns</p>\n",
       "</div>"
      ],
      "text/plain": [
       "   Id      Date_hour  temperature_2m  apparent_temperature  precipitation  \\\n",
       "0   0  2023-07-01T00            18.0                  15.7            0.0   \n",
       "1   1  2023-07-01T01            17.7                  15.3            0.0   \n",
       "2   2  2023-07-01T02            17.4                  15.0            0.0   \n",
       "3   3  2023-07-01T03            17.2                  15.0            0.0   \n",
       "4   4  2023-07-01T04            17.1                  15.3            0.0   \n",
       "\n",
       "   weathercode  cloudcover  is_day        date   weekday  ...  Saturday  \\\n",
       "0          3.0       100.0       0  2023-07-01  Saturday  ...         1   \n",
       "1          3.0       100.0       0  2023-07-01  Saturday  ...         1   \n",
       "2          3.0       100.0       0  2023-07-01  Saturday  ...         1   \n",
       "3          3.0       100.0       0  2023-07-01  Saturday  ...         1   \n",
       "4          3.0       100.0       1  2023-07-01  Saturday  ...         1   \n",
       "\n",
       "   Sunday  Thursday Tuesday Wednesday Fall  Spring  Summer  Winter  \\\n",
       "0       0         0       0         0    0       0       1       0   \n",
       "1       0         0       0         0    0       0       1       0   \n",
       "2       0         0       0         0    0       0       1       0   \n",
       "3       0         0       0         0    0       0       1       0   \n",
       "4       0         0       0         0    0       0       1       0   \n",
       "\n",
       "   Totaal_2022  \n",
       "0           96  \n",
       "1           41  \n",
       "2           17  \n",
       "3           49  \n",
       "4           37  \n",
       "\n",
       "[5 rows x 34 columns]"
      ]
     },
     "execution_count": 18,
     "metadata": {},
     "output_type": "execute_result"
    }
   ],
   "source": [
    "test_data = test_rawdata.merge(feature_data, on = \"Date_hour\", how = 'left')#.drop(\"Id\", axis = 1)\n",
    "Totaal_2022 = bicycle_data_2022[(\"2022-07-01\" <= bicycle_data_2022[\"Datum\"]) & (bicycle_data_2022[\"Datum\"] <= \"2022-07-31\")][\"Totaal\"].reset_index(drop=True)\n",
    "test_data[\"Totaal_2022\"] = Totaal_2022\n",
    "print(test_data.shape)\n",
    "test_data.head()"
   ]
  },
  {
   "cell_type": "code",
   "execution_count": 19,
   "id": "331d9145",
   "metadata": {},
   "outputs": [
    {
     "name": "stdout",
     "output_type": "stream",
     "text": [
      "(744, 3)\n"
     ]
    },
    {
     "data": {
      "text/html": [
       "<div>\n",
       "<style scoped>\n",
       "    .dataframe tbody tr th:only-of-type {\n",
       "        vertical-align: middle;\n",
       "    }\n",
       "\n",
       "    .dataframe tbody tr th {\n",
       "        vertical-align: top;\n",
       "    }\n",
       "\n",
       "    .dataframe thead th {\n",
       "        text-align: right;\n",
       "    }\n",
       "</style>\n",
       "<table border=\"1\" class=\"dataframe\">\n",
       "  <thead>\n",
       "    <tr style=\"text-align: right;\">\n",
       "      <th></th>\n",
       "      <th>Id</th>\n",
       "      <th>Date_hour</th>\n",
       "      <th>Totaal</th>\n",
       "    </tr>\n",
       "  </thead>\n",
       "  <tbody>\n",
       "    <tr>\n",
       "      <th>0</th>\n",
       "      <td>0</td>\n",
       "      <td>2023-07-01T00</td>\n",
       "      <td>150.0</td>\n",
       "    </tr>\n",
       "    <tr>\n",
       "      <th>1</th>\n",
       "      <td>1</td>\n",
       "      <td>2023-07-01T01</td>\n",
       "      <td>92.0</td>\n",
       "    </tr>\n",
       "    <tr>\n",
       "      <th>2</th>\n",
       "      <td>2</td>\n",
       "      <td>2023-07-01T02</td>\n",
       "      <td>49.0</td>\n",
       "    </tr>\n",
       "    <tr>\n",
       "      <th>3</th>\n",
       "      <td>3</td>\n",
       "      <td>2023-07-01T03</td>\n",
       "      <td>36.0</td>\n",
       "    </tr>\n",
       "    <tr>\n",
       "      <th>4</th>\n",
       "      <td>4</td>\n",
       "      <td>2023-07-01T04</td>\n",
       "      <td>57.0</td>\n",
       "    </tr>\n",
       "  </tbody>\n",
       "</table>\n",
       "</div>"
      ],
      "text/plain": [
       "   Id      Date_hour  Totaal\n",
       "0   0  2023-07-01T00   150.0\n",
       "1   1  2023-07-01T01    92.0\n",
       "2   2  2023-07-01T02    49.0\n",
       "3   3  2023-07-01T03    36.0\n",
       "4   4  2023-07-01T04    57.0"
      ]
     },
     "execution_count": 19,
     "metadata": {},
     "output_type": "execute_result"
    }
   ],
   "source": [
    "gtest_data = test_rawdata.merge(bicycle_data[[\"Totaal\", \"Date_hour\"]], on = \"Date_hour\", how = 'left')\n",
    "print(gtest_data.shape)\n",
    "gtest_data.head()"
   ]
  },
  {
   "cell_type": "markdown",
   "id": "e09cf517",
   "metadata": {},
   "source": [
    "## Preprocessing and setup"
   ]
  },
  {
   "cell_type": "markdown",
   "id": "094db392",
   "metadata": {},
   "source": [
    "### Feature Selection"
   ]
  },
  {
   "cell_type": "code",
   "execution_count": 20,
   "id": "69b629eb",
   "metadata": {},
   "outputs": [],
   "source": [
    "weekdays = [\"Monday\", \"Tuesday\", \"Wednesday\", \"Thursday\", \"Friday\", \"Saturday\", \"Sunday\"]\n",
    "season = [\"Winter\", \"Fall\", \"Spring\", \"Summer\"]\n",
    "chosen_features = ['temperature_2m', 'is_day', 'is_weekend', 'hour_sin', 'is_public_holiday', 'is_school_holiday', 'is_school_hours']"
   ]
  },
  {
   "cell_type": "code",
   "execution_count": 21,
   "id": "ba322496",
   "metadata": {},
   "outputs": [
    {
     "name": "stdout",
     "output_type": "stream",
     "text": [
      "['temperature_2m', 'apparent_temperature', 'precipitation', 'weathercode', 'cloudcover', 'is_day', 'hour', 'month', 'hour_sin', 'is_school_hours', 'is_weekend', 'is_university_lessons', 'is_Ghent_event', 'is_public_holiday', 'is_school_holiday', 'Friday', 'Monday', 'Saturday', 'Sunday', 'Thursday', 'Tuesday', 'Wednesday', 'Fall', 'Spring', 'Summer', 'Winter']\n"
     ]
    }
   ],
   "source": [
    "all_features = list(train_data.select_dtypes(include='number').columns)\n",
    "all_features.remove(\"Totaal\")\n",
    "print(all_features)"
   ]
  },
  {
   "cell_type": "code",
   "execution_count": 22,
   "id": "74b7bf66",
   "metadata": {},
   "outputs": [
    {
     "name": "stdout",
     "output_type": "stream",
     "text": [
      "['temperature_2m', 'apparent_temperature', 'precipitation', 'weathercode', 'cloudcover', 'is_day', 'hour', 'month', 'hour_sin', 'is_school_hours', 'is_weekend', 'is_university_lessons', 'is_Ghent_event', 'is_public_holiday', 'is_school_holiday', 'Friday', 'Monday', 'Saturday', 'Sunday', 'Thursday', 'Tuesday', 'Wednesday', 'Fall', 'Spring', 'Summer', 'Winter', 'Totaal_2022']\n"
     ]
    }
   ],
   "source": [
    "orig_features = list(train_data_orig.select_dtypes(include='number').columns)\n",
    "orig_features.remove(\"Totaal\")\n",
    "print(orig_features)"
   ]
  },
  {
   "cell_type": "markdown",
   "id": "823b7925",
   "metadata": {
    "papermill": {
     "duration": 0.004274,
     "end_time": "2023-10-05T13:07:11.541461",
     "exception": false,
     "start_time": "2023-10-05T13:07:11.537187",
     "status": "completed"
    },
    "tags": []
   },
   "source": [
    "### Pairwise Plot"
   ]
  },
  {
   "cell_type": "code",
   "execution_count": 22,
   "id": "0e0346d1",
   "metadata": {
    "execution": {
     "iopub.execute_input": "2023-10-05T13:07:11.552230Z",
     "iopub.status.busy": "2023-10-05T13:07:11.551667Z",
     "iopub.status.idle": "2023-10-05T13:07:11.556006Z",
     "shell.execute_reply": "2023-10-05T13:07:11.555201Z"
    },
    "papermill": {
     "duration": 0.012228,
     "end_time": "2023-10-05T13:07:11.558072",
     "exception": false,
     "start_time": "2023-10-05T13:07:11.545844",
     "status": "completed"
    },
    "tags": []
   },
   "outputs": [
    {
     "data": {
      "text/plain": [
       "<seaborn.axisgrid.PairGrid at 0x272824230a0>"
      ]
     },
     "execution_count": 22,
     "metadata": {},
     "output_type": "execute_result"
    },
    {
     "data": {
      "image/png": "[encoded data removed]",
      "text/plain": [
       "<Figure size 1440x1440 with 72 Axes>"
      ]
     },
     "metadata": {
      "needs_background": "light"
     },
     "output_type": "display_data"
    }
   ],
   "source": [
    "import seaborn as sns\n",
    "\n",
    "plot_features = ['temperature_2m', 'is_day', 'is_weekend', 'hour', 'is_public_holiday', 'is_school_holiday', 'is_school_hours']\n",
    "sns.pairplot(all_data.loc[:,plot_features + ['Totaal']])"
   ]
  },
  {
   "cell_type": "markdown",
   "id": "b39568d7",
   "metadata": {},
   "source": [
    "### Functions"
   ]
  },
  {
   "cell_type": "code",
   "execution_count": 25,
   "id": "404bbf73",
   "metadata": {},
   "outputs": [],
   "source": [
    "# Function to compute MSE\n",
    "def compute_MSE(y_true, y_predicted):\n",
    "    \"\"\"Obtain MSE between true y's and predicted y's\"\"\"\n",
    "    return(np.mean((y_true-y_predicted)**2))"
   ]
  },
  {
   "cell_type": "code",
   "execution_count": 26,
   "id": "fb0072c3",
   "metadata": {},
   "outputs": [],
   "source": [
    "import matplotlib.pyplot as plt\n",
    "\n",
    "def plot_diff(y_train, y_hat_train, y_test, y_hat_test):\n",
    "    y_test_reset = y_test.reset_index()\n",
    "    indices = y_test_reset.index.to_list()\n",
    "    time = np.divide(indices, max(indices))*31\n",
    "    logdiff_test = np.log10(y_hat_test - y_test)\n",
    "\n",
    "    plt.plot(time, logdiff_test, 'bo')\n",
    "    plt.xlabel('Day')\n",
    "    plt.ylabel('log10(y_hat_test - y_test)')\n",
    "    plt.grid(True)\n",
    "    plt.show()\n",
    "\n",
    "    y_train_reset = y_train.reset_index()\n",
    "    indices = y_train_reset.index.to_list()\n",
    "    time = np.divide(indices, max(indices))*6+1\n",
    "    logdiff_train = np.log10(y_hat_train - y_train)\n",
    "\n",
    "    plt.plot(time, logdiff_train, 'bo')\n",
    "    plt.xlabel('Month')\n",
    "    plt.ylabel('log10(y_hat_train - y_train)')\n",
    "    plt.grid(True)\n",
    "    plt.show()"
   ]
  },
  {
   "cell_type": "code",
   "execution_count": 27,
   "id": "6634f0a9",
   "metadata": {},
   "outputs": [],
   "source": [
    "def save_predictions(model, test_data, y_hat_test):\n",
    "    file = pd.DataFrame([test_data.loc[:, \"Id\"], y_hat_test]).T\n",
    "    file.columns = [\"Id\", \"Predicted\"]\n",
    "    file.to_csv(\"input/bicycle-counter-prediction/predictions/\" + model + \".csv\", index = False)"
   ]
  },
  {
   "cell_type": "markdown",
   "id": "c8053468",
   "metadata": {},
   "source": [
    "## Models"
   ]
  },
  {
   "cell_type": "markdown",
   "id": "fc162a75",
   "metadata": {},
   "source": [
    "### Linear Regression"
   ]
  },
  {
   "cell_type": "code",
   "execution_count": 239,
   "id": "20bfc112",
   "metadata": {},
   "outputs": [
    {
     "name": "stdout",
     "output_type": "stream",
     "text": [
      "Train set R²: 0.5945828428167288\n",
      "Test set R²: 0.559246873413593\n",
      "Best features: Index(['is_day', 'hour', 'hour_sin', 'is_school_hours', 'is_weekend',\n",
      "       'Sunday'],\n",
      "      dtype='object')\n"
     ]
    }
   ],
   "source": [
    "from sklearn.linear_model import LinearRegression\n",
    "import statsmodels.formula.api as smf\n",
    "from sklearn.pipeline import make_pipeline\n",
    "from sklearn.preprocessing import StandardScaler\n",
    "from sklearn.linear_model import Lasso\n",
    "from sklearn.linear_model import Ridge\n",
    "from sklearn.feature_selection import SelectFromModel\n",
    "\n",
    "X_train = train_data_summer.loc[:, all_features]\n",
    "X_test = test_data.loc[:, all_features]\n",
    "\n",
    "y_train = train_data_summer[\"Totaal\"]\n",
    "y_test = gtest_data[\"Totaal\"]\n",
    "\n",
    "LinReg = make_pipeline(StandardScaler(), SelectFromModel(Ridge()), LinearRegression()) # call an instance of the class LinearRegression\n",
    "\n",
    "LinReg.fit(X_train, y_train) # fit the model on the training data\n",
    "y_hat_train = LinReg.predict(X_train) # predict training data\n",
    "\n",
    "y_hat_test = LinReg.predict(X_test) # predict test data\n",
    "\n",
    "R_train = LinReg.score(X_train, y_train) # Training set R²\n",
    "R_test = LinReg.score(X_test, y_test) # Test set R²\n",
    "\n",
    "best_features = X_train.columns[LinReg.named_steps['selectfrommodel'].get_support()]\n",
    "\n",
    "print('Train set R²: {}'.format(R_train))\n",
    "print('Test set R²: {}'.format(R_test))\n",
    "print('Best features: {}'.format(best_features))"
   ]
  },
  {
   "cell_type": "markdown",
   "id": "523d093f",
   "metadata": {},
   "source": [
    "### Poisson Regression"
   ]
  },
  {
   "cell_type": "code",
   "execution_count": 240,
   "id": "f347a38f",
   "metadata": {},
   "outputs": [
    {
     "name": "stdout",
     "output_type": "stream",
     "text": [
      "Train set R²: 0.6021573152137683\n",
      "Test set R²: 0.5844664470678834\n",
      "Best features: Index(['is_day', 'hour', 'hour_sin', 'is_school_hours', 'is_weekend',\n",
      "       'Sunday'],\n",
      "      dtype='object')\n"
     ]
    }
   ],
   "source": [
    "from sklearn.linear_model import PoissonRegressor\n",
    "from sklearn.metrics import r2_score\n",
    "from sklearn.linear_model import Lasso\n",
    "from sklearn.feature_selection import SelectFromModel\n",
    "\n",
    "X_train = train_data_summer.loc[:, all_features]\n",
    "X_test = test_data.loc[:, all_features]\n",
    "\n",
    "y_train = train_data_summer[\"Totaal\"]\n",
    "y_test = gtest_data[\"Totaal\"]\n",
    "\n",
    "PoiReg = make_pipeline(StandardScaler(), SelectFromModel(Ridge()), PoissonRegressor()) # call an instance of the class LinearRegression\n",
    "\n",
    "PoiReg.fit(X_train, y_train) # fit the model on the training data\n",
    "y_hat_train = PoiReg.predict(X_train) # predict training data\n",
    "\n",
    "y_hat_test = PoiReg.predict(X_test) # predict test data\n",
    "\n",
    "R_train = r2_score(y_train, y_hat_train) # Training set R²\n",
    "R_test = r2_score(y_test, y_hat_test) # Test set R²\n",
    "\n",
    "best_features = X_train.columns[PoiReg.named_steps['selectfrommodel'].get_support()]\n",
    "\n",
    "print('Train set R²: {}'.format(R_train))\n",
    "print('Test set R²: {}'.format(R_test))\n",
    "print('Best features: {}'.format(best_features))"
   ]
  },
  {
   "cell_type": "markdown",
   "id": "371cf5da",
   "metadata": {},
   "source": [
    "### Negative binomial regression"
   ]
  },
  {
   "cell_type": "code",
   "execution_count": 241,
   "id": "52d5b11b",
   "metadata": {},
   "outputs": [
    {
     "name": "stdout",
     "output_type": "stream",
     "text": [
      "Train set R²: 0.5559684981399964\n",
      "Test set R²: 0.5527065967355017\n",
      "                 Generalized Linear Model Regression Results                  \n",
      "==============================================================================\n",
      "Dep. Variable:                 Totaal   No. Observations:                20445\n",
      "Model:                            GLM   Df Residuals:                    20433\n",
      "Model Family:        NegativeBinomial   Df Model:                           11\n",
      "Link Function:                    Log   Scale:                          1.0000\n",
      "Method:                          IRLS   Log-Likelihood:            -1.2997e+05\n",
      "Date:                Tue, 17 Oct 2023   Deviance:                       14120.\n",
      "Time:                        13:22:21   Pearson chi2:                 1.44e+04\n",
      "No. Iterations:                    13   Pseudo R-squ. (CS):             0.4639\n",
      "Covariance Type:            nonrobust                                         \n",
      "==================================================================================================\n",
      "                                     coef    std err          z      P>|z|      [0.025      0.975]\n",
      "--------------------------------------------------------------------------------------------------\n",
      "Intercept                          4.9527      0.021    239.484      0.000       4.912       4.993\n",
      "temperature_2m                     0.0017      0.002      0.902      0.367      -0.002       0.005\n",
      "is_day                             0.6568      0.035     18.520      0.000       0.587       0.726\n",
      "temperature_2m:is_day              0.0122      0.002      4.970      0.000       0.007       0.017\n",
      "hour_sin                          -0.5651      0.028    -20.135      0.000      -0.620      -0.510\n",
      "temperature_2m:hour_sin           -0.0444      0.003    -16.081      0.000      -0.050      -0.039\n",
      "is_day:hour_sin                    0.5361      0.044     12.082      0.000       0.449       0.623\n",
      "temperature_2m:is_day:hour_sin     0.0305      0.004      8.556      0.000       0.024       0.038\n",
      "is_weekend                        -0.6494      0.016    -41.573      0.000      -0.680      -0.619\n",
      "is_public_holiday                 -0.3263      0.038     -8.512      0.000      -0.401      -0.251\n",
      "is_school_holiday                 -0.4291      0.017    -25.557      0.000      -0.462      -0.396\n",
      "is_school_hours                    0.5097      0.022     23.416      0.000       0.467       0.552\n",
      "==================================================================================================\n"
     ]
    }
   ],
   "source": [
    "import statsmodels.api as sm\n",
    "import statsmodels.formula.api as smf\n",
    "\n",
    "X_train = train_data_summer.loc[:, all_features]\n",
    "X_test = test_data.loc[:, all_features]\n",
    "\n",
    "y_train = train_data_summer[\"Totaal\"]\n",
    "y_test = gtest_data[\"Totaal\"]\n",
    "\n",
    "formula = 'Totaal ~ temperature_2m * is_day * hour_sin + is_weekend + is_public_holiday + is_school_holiday + is_school_hours' \n",
    "\n",
    "# Create the model\n",
    "NBReg = smf.glm(formula=formula, data=train_data, family=sm.families.NegativeBinomial())\n",
    "\n",
    "results = NBReg.fit()\n",
    "\n",
    "y_hat_train = results.predict(X_train) # predict training data\n",
    "\n",
    "y_hat_test = results.predict(X_test) # predict test data\n",
    "\n",
    "R_train = r2_score(y_train, y_hat_train) # Training set R²\n",
    "R_test = r2_score(y_test, y_hat_test) # Test set R²\n",
    "\n",
    "print('Train set R²: {}'.format(R_train))\n",
    "print('Test set R²: {}'.format(R_test))\n",
    "\n",
    "print(results.summary())\n"
   ]
  },
  {
   "cell_type": "markdown",
   "id": "a49edd86",
   "metadata": {},
   "source": [
    "### Tweedie Regression"
   ]
  },
  {
   "cell_type": "code",
   "execution_count": 248,
   "id": "f832917f",
   "metadata": {},
   "outputs": [
    {
     "name": "stdout",
     "output_type": "stream",
     "text": [
      "Train set R²: 0.5284859585604492\n",
      "Test set R²: 0.6088700883463711\n",
      "Best features: Index(['apparent_temperature', 'is_school_hours', 'is_weekend',\n",
      "       'is_school_holiday', 'Monday', 'Saturday', 'Totaal_2022'],\n",
      "      dtype='object')\n"
     ]
    }
   ],
   "source": [
    "from sklearn.linear_model import TweedieRegressor\n",
    "\n",
    "X_train = train_data_orig.loc[:, orig_features]\n",
    "X_test = test_data.loc[:, orig_features]\n",
    "\n",
    "y_train = train_data_orig[\"Totaal\"]\n",
    "y_test = gtest_data[\"Totaal\"]\n",
    "\n",
    "TweReg = make_pipeline(StandardScaler(), SelectFromModel(Ridge()), TweedieRegressor()) # call an instance of the class LinearRegression\n",
    "\n",
    "TweReg.fit(X_train, y_train) # fit the model on the training data\n",
    "y_hat_train = TweReg.predict(X_train) # predict training data\n",
    "\n",
    "y_hat_test = TweReg.predict(X_test) # predict test data\n",
    "\n",
    "R_train = TweReg.score(X_train, y_train) # Training set R²\n",
    "R_test = TweReg.score(X_test, y_test) # Test set R²\n",
    "\n",
    "best_features = X_train.columns[TweReg.named_steps['selectfrommodel'].get_support()]\n",
    "\n",
    "print('Train set R²: {}'.format(R_train))\n",
    "print('Test set R²: {}'.format(R_test))\n",
    "print('Best features: {}'.format(best_features))"
   ]
  },
  {
   "cell_type": "markdown",
   "id": "53fc9753",
   "metadata": {},
   "source": [
    "### Ridge Regression"
   ]
  },
  {
   "cell_type": "code",
   "execution_count": 247,
   "id": "2696f56b",
   "metadata": {},
   "outputs": [
    {
     "name": "stdout",
     "output_type": "stream",
     "text": [
      "Train set R²: 0.6666732494753245\n",
      "Test set R²: 0.5073862074932403\n"
     ]
    }
   ],
   "source": [
    "from sklearn.linear_model import Ridge \n",
    "\n",
    "X_train = train_data_orig.loc[:, orig_features]\n",
    "X_test = test_data.loc[:, orig_features]\n",
    "\n",
    "y_train = train_data_orig[\"Totaal\"]\n",
    "y_test = gtest_data[\"Totaal\"]\n",
    "\n",
    "RidReg = make_pipeline(StandardScaler(), Ridge()) # call an instance of the class LinearRegression\n",
    "\n",
    "RidReg.fit(X_train, y_train) # fit the model on the training data\n",
    "y_hat_train = RidReg.predict(X_train) # predict training data\n",
    "\n",
    "y_hat_test = RidReg.predict(X_test) # predict test data\n",
    "\n",
    "R_train = RidReg.score(X_train, y_train) # Training set R²\n",
    "R_test = RidReg.score(X_test, y_test) # Test set R²\n",
    "\n",
    "print('Train set R²: {}'.format(R_train))\n",
    "print('Test set R²: {}'.format(R_test))"
   ]
  },
  {
   "cell_type": "markdown",
   "id": "5a049ee9",
   "metadata": {},
   "source": [
    "### Lasso Regression"
   ]
  },
  {
   "cell_type": "code",
   "execution_count": 34,
   "id": "479870c0",
   "metadata": {},
   "outputs": [
    {
     "name": "stdout",
     "output_type": "stream",
     "text": [
      "Train set R²: 0.666368563589834\n",
      "Test set R²: 0.5790058860347669\n"
     ]
    }
   ],
   "source": [
    "from sklearn.linear_model import Lasso \n",
    "\n",
    "X_train = train_data.loc[:, all_features]\n",
    "X_test = test_data.loc[:, all_features]\n",
    "\n",
    "y_train = train_data[\"Totaal\"]\n",
    "y_test = gtest_data[\"Totaal\"]\n",
    "\n",
    "LaReg = make_pipeline(StandardScaler(), Lasso()) # call an instance of the class LinearRegression\n",
    "\n",
    "LaReg.fit(X_train, y_train) # fit the model on the training data\n",
    "y_hat_train = LaReg.predict(X_train) # predict training data\n",
    "\n",
    "y_hat_test = LaReg.predict(X_test) # predict test data\n",
    "\n",
    "R_train = LaReg.score(X_train, y_train) # Training set R²\n",
    "R_test = LaReg.score(X_test, y_test) # Test set R²\n",
    "\n",
    "print('Train set R²: {}'.format(R_train))\n",
    "print('Test set R²: {}'.format(R_test))"
   ]
  },
  {
   "cell_type": "markdown",
   "id": "d2b41615",
   "metadata": {},
   "source": [
    "### SVM Regression"
   ]
  },
  {
   "cell_type": "code",
   "execution_count": 35,
   "id": "4ebe1bde",
   "metadata": {},
   "outputs": [
    {
     "name": "stdout",
     "output_type": "stream",
     "text": [
      "Train set R²: 0.43808049085210876\n",
      "Test set R²: 0.35077589735945014\n"
     ]
    }
   ],
   "source": [
    "from sklearn.svm import SVR\n",
    "\n",
    "X_train = train_data.loc[:, all_features]\n",
    "X_test = test_data.loc[:, all_features]\n",
    "\n",
    "y_train = train_data[\"Totaal\"]\n",
    "y_test = gtest_data[\"Totaal\"]\n",
    "\n",
    "SVMReg = make_pipeline(StandardScaler(), SelectFromModel(Ridge()), SVR()) # call an instance of the class LinearRegression\n",
    "\n",
    "SVMReg.fit(X_train, y_train) # fit the model on the training data\n",
    "\n",
    "y_hat_train = SVMReg.predict(X_train) # predict training data\n",
    "\n",
    "y_hat_test = SVMReg.predict(X_test) # predict test data\n",
    "\n",
    "R_train = SVMReg.score(X_train, y_train) # Training set R²\n",
    "R_test = SVMReg.score(X_test, y_test) # Test set R²\n",
    "\n",
    "print('Train set R²: {}'.format(R_train))\n",
    "print('Test set R²: {}'.format(R_test))"
   ]
  },
  {
   "cell_type": "markdown",
   "id": "6c12100b",
   "metadata": {},
   "source": [
    "### Gaussion Process Regression"
   ]
  },
  {
   "cell_type": "code",
   "execution_count": 250,
   "id": "a90c5c5a",
   "metadata": {},
   "outputs": [],
   "source": [
    "from sklearn.gaussian_process import GaussianProcessRegressor\n",
    "\n",
    "X_train = train_data.loc[:, all_features]\n",
    "X_test = test_data.loc[:, all_features]\n",
    "\n",
    "y_train = train_data[\"Totaal\"]\n",
    "y_test = gtest_data[\"Totaal\"]\n",
    "\n",
    "GPReg = make_pipeline(StandardScaler(), SelectFromModel(Ridge()), GaussianProcessRegressor()) # call an instance of the class LinearRegression\n",
    "\n",
    "GPReg.fit(X_train, y_train) # fit the model on the training data\n",
    "\n",
    "y_hat_train = GPReg.predict(X_train) # predict training data\n",
    "\n",
    "y_hat_test = GPReg.predict(X_test) # predict test data\n",
    "\n",
    "R_train = GPReg.score(X_train, y_train) # Training set R²\n",
    "R_test = GPReg.score(X_test, y_test) # Test set R²\n",
    "\n",
    "print('Train set R²: {}'.format(R_train))\n",
    "print('Test set R²: {}'.format(R_test))"
   ]
  },
  {
   "cell_type": "markdown",
   "id": "286a0082",
   "metadata": {},
   "source": [
    "### Decision Tree Regression"
   ]
  },
  {
   "cell_type": "code",
   "execution_count": 105,
   "id": "2f63af95",
   "metadata": {},
   "outputs": [
    {
     "name": "stdout",
     "output_type": "stream",
     "text": [
      "Train set R²: 0.9503435892000761\n",
      "Test set R²: 0.7113034184147131\n"
     ]
    }
   ],
   "source": [
    "from sklearn.tree import DecisionTreeRegressor\n",
    "\n",
    "X_train = train_data.loc[:, all_features]\n",
    "X_test = test_data.loc[:, all_features]\n",
    "\n",
    "y_train = train_data[\"Totaal\"]\n",
    "y_test = gtest_data[\"Totaal\"]\n",
    "\n",
    "DTReg = make_pipeline(StandardScaler(), SelectFromModel(Ridge()), DecisionTreeRegressor())\n",
    "\n",
    "DTReg.fit(X_train, y_train) # fit the model on the training data\n",
    "y_hat_train = DTReg.predict(X_train) # predict training data\n",
    "\n",
    "y_hat_test = DTReg.predict(X_test) # predict test data\n",
    "\n",
    "R_train = DTReg.score(X_train, y_train) # Training set R²\n",
    "R_test = DTReg.score(X_test, y_test) # Test set R²\n",
    "\n",
    "print('Train set R²: {}'.format(R_train))\n",
    "print('Test set R²: {}'.format(R_test))"
   ]
  },
  {
   "cell_type": "markdown",
   "id": "704f55a9",
   "metadata": {},
   "source": [
    "### Random Forest Regression"
   ]
  },
  {
   "cell_type": "code",
   "execution_count": 29,
   "id": "305721ae",
   "metadata": {},
   "outputs": [
    {
     "name": "stdout",
     "output_type": "stream",
     "text": [
      "Train set R²: 0.9817062270418866\n",
      "Test set R²: 0.829957223473859\n",
      "Best features: Index(['apparent_temperature', 'precipitation', 'weathercode', 'cloudcover',\n",
      "       'is_day', 'hour', 'hour_sin', 'is_school_hours', 'is_weekend',\n",
      "       'is_public_holiday', 'is_school_holiday', 'Friday', 'Sunday',\n",
      "       'Thursday', 'Tuesday', 'Wednesday', 'Fall', 'Winter'],\n",
      "      dtype='object')\n"
     ]
    },
    {
     "name": "stderr",
     "output_type": "stream",
     "text": [
      "d:\\anaconda3\\lib\\site-packages\\pandas\\core\\arraylike.py:402: RuntimeWarning: invalid value encountered in log10\n",
      "  result = getattr(ufunc, method)(*inputs, **kwargs)\n"
     ]
    },
    {
     "data": {
      "image/png": "[encoded data removed]",
      "text/plain": [
       "<Figure size 640x480 with 1 Axes>"
      ]
     },
     "metadata": {},
     "output_type": "display_data"
    },
    {
     "name": "stderr",
     "output_type": "stream",
     "text": [
      "d:\\anaconda3\\lib\\site-packages\\pandas\\core\\arraylike.py:402: RuntimeWarning: divide by zero encountered in log10\n",
      "  result = getattr(ufunc, method)(*inputs, **kwargs)\n",
      "d:\\anaconda3\\lib\\site-packages\\pandas\\core\\arraylike.py:402: RuntimeWarning: invalid value encountered in log10\n",
      "  result = getattr(ufunc, method)(*inputs, **kwargs)\n"
     ]
    },
    {
     "data": {
      "image/png": "[encoded data removed]",
      "text/plain": [
       "<Figure size 640x480 with 1 Axes>"
      ]
     },
     "metadata": {},
     "output_type": "display_data"
    }
   ],
   "source": [
    "from sklearn.ensemble import RandomForestRegressor\n",
    "from sklearn.pipeline import make_pipeline\n",
    "from sklearn.preprocessing import StandardScaler\n",
    "from sklearn.linear_model import Lasso\n",
    "from sklearn.linear_model import Ridge\n",
    "from sklearn.feature_selection import SelectFromModel\n",
    "\n",
    "X_train = train_data.loc[:, all_features]\n",
    "X_test = test_data.loc[:, all_features]\n",
    "\n",
    "y_train = train_data[\"Totaal\"]\n",
    "y_test = gtest_data[\"Totaal\"]\n",
    "\n",
    "RFReg = make_pipeline(StandardScaler(), SelectFromModel(Lasso()), RandomForestRegressor())\n",
    "\n",
    "RFReg.fit(X_train, y_train) # fit the model on the training data\n",
    "y_hat_train = RFReg.predict(X_train) # predict training data\n",
    "\n",
    "y_hat_test = RFReg.predict(X_test) # predict test data\n",
    "\n",
    "R_train = RFReg.score(X_train, y_train) # Training set R²\n",
    "R_test = RFReg.score(X_test, y_test) # Test set R²\n",
    "\n",
    "best_features = X_train.columns[RFReg.named_steps['selectfrommodel'].get_support()]\n",
    "\n",
    "print('Train set R²: {}'.format(R_train))\n",
    "print('Test set R²: {}'.format(R_test))\n",
    "print('Best features: {}'.format(best_features))\n",
    "\n",
    "plot_diff(y_train, y_hat_train, y_test, y_hat_test)\n",
    "\n",
    "save_predictions(\"RFReg\", test_data, y_hat_test)"
   ]
  },
  {
   "cell_type": "markdown",
   "id": "95c596ac",
   "metadata": {},
   "source": [
    "### Gradient Boosting Regression"
   ]
  },
  {
   "cell_type": "markdown",
   "id": "0065a801",
   "metadata": {},
   "source": [
    "#### sklearn"
   ]
  },
  {
   "cell_type": "code",
   "execution_count": 28,
   "id": "de06f2b6",
   "metadata": {},
   "outputs": [
    {
     "ename": "NameError",
     "evalue": "name 'train_data_red' is not defined",
     "output_type": "error",
     "traceback": [
      "\u001b[1;31m---------------------------------------------------------------------------\u001b[0m",
      "\u001b[1;31mNameError\u001b[0m                                 Traceback (most recent call last)",
      "\u001b[1;32md:\\Users\\Luca Visser\\Documents\\GitHub\\MLLS_Project1\\project-1-starter-notebook.ipynb Cell 59\u001b[0m line \u001b[0;36m7\n\u001b[0;32m      <a href='vscode-notebook-cell:/d%3A/Users/Luca%20Visser/Documents/GitHub/MLLS_Project1/project-1-starter-notebook.ipynb#Y112sZmlsZQ%3D%3D?line=3'>4</a>\u001b[0m \u001b[39mfrom\u001b[39;00m \u001b[39msklearn\u001b[39;00m\u001b[39m.\u001b[39;00m\u001b[39mmodel_selection\u001b[39;00m \u001b[39mimport\u001b[39;00m GridSearchCV\n\u001b[0;32m      <a href='vscode-notebook-cell:/d%3A/Users/Luca%20Visser/Documents/GitHub/MLLS_Project1/project-1-starter-notebook.ipynb#Y112sZmlsZQ%3D%3D?line=4'>5</a>\u001b[0m \u001b[39mfrom\u001b[39;00m \u001b[39msklearn\u001b[39;00m\u001b[39m.\u001b[39;00m\u001b[39mmodel_selection\u001b[39;00m \u001b[39mimport\u001b[39;00m RandomizedSearchCV\n\u001b[1;32m----> <a href='vscode-notebook-cell:/d%3A/Users/Luca%20Visser/Documents/GitHub/MLLS_Project1/project-1-starter-notebook.ipynb#Y112sZmlsZQ%3D%3D?line=6'>7</a>\u001b[0m X_train \u001b[39m=\u001b[39m train_data_red\u001b[39m.\u001b[39mloc[:, all_features]\n\u001b[0;32m      <a href='vscode-notebook-cell:/d%3A/Users/Luca%20Visser/Documents/GitHub/MLLS_Project1/project-1-starter-notebook.ipynb#Y112sZmlsZQ%3D%3D?line=7'>8</a>\u001b[0m X_test \u001b[39m=\u001b[39m test_data\u001b[39m.\u001b[39mloc[:, all_features]\n\u001b[0;32m     <a href='vscode-notebook-cell:/d%3A/Users/Luca%20Visser/Documents/GitHub/MLLS_Project1/project-1-starter-notebook.ipynb#Y112sZmlsZQ%3D%3D?line=9'>10</a>\u001b[0m y_train \u001b[39m=\u001b[39m train_data_red[\u001b[39m\"\u001b[39m\u001b[39mTotaal\u001b[39m\u001b[39m\"\u001b[39m]\n",
      "\u001b[1;31mNameError\u001b[0m: name 'train_data_red' is not defined"
     ]
    }
   ],
   "source": [
    "from sklearn.ensemble import GradientBoostingRegressor\n",
    "from sklearn.pipeline import make_pipeline\n",
    "from sklearn.preprocessing import StandardScaler\n",
    "from sklearn.model_selection import GridSearchCV\n",
    "from sklearn.model_selection import RandomizedSearchCV\n",
    "\n",
    "X_train = train_data.loc[:, all_features]\n",
    "X_test = test_data.loc[:, all_features]\n",
    "\n",
    "y_train = train_data[\"Totaal\"]\n",
    "y_test = gtest_data[\"Totaal\"]\n",
    "\n",
    "GBReg = make_pipeline(StandardScaler(), SelectFromModel(Lasso()), GradientBoostingRegressor()).fit(X_train, y_train)\n",
    "\n",
    "y_hat_train = GBReg.predict(X_train) # predict training data\n",
    "\n",
    "y_hat_test = GBReg.predict(X_test) # predict test data\n",
    "\n",
    "R_train = GBReg.score(X_train, y_train) # Training set R²\n",
    "R_test = GBReg.score(X_test, y_test) # Test set R²\n",
    "\n",
    "best_features = X_train.columns[TweReg.named_steps['selectfrommodel'].get_support()]\n",
    "\n",
    "print('Train set R²: {}'.format(R_train))\n",
    "print('Test set R²: {}'.format(R_test))\n",
    "print('Best features: {}'.format(best_features))"
   ]
  },
  {
   "cell_type": "code",
   "execution_count": 45,
   "id": "7ebe9389",
   "metadata": {},
   "outputs": [
    {
     "name": "stdout",
     "output_type": "stream",
     "text": [
      "Train set R²: 0.8241281252742082\n",
      "Test set R²: 0.32726327161174174\n"
     ]
    }
   ],
   "source": [
    "from sklearn.ensemble import HistGradientBoostingRegressor\n",
    "from sklearn.pipeline import make_pipeline\n",
    "from sklearn.preprocessing import StandardScaler\n",
    "from sklearn.model_selection import cross_val_score\n",
    "\n",
    "X_train = train_data_red.loc[:, all_features]\n",
    "X_test = test_data.loc[:, all_features]\n",
    "\n",
    "y_train = train_data_red[\"Totaal\"]\n",
    "y_test = gtest_data[\"Totaal\"]\n",
    "\n",
    "HGBReg = make_pipeline(StandardScaler(), SelectFromModel(Ridge()), HistGradientBoostingRegressor())\n",
    "\n",
    "HGBReg.fit(X_train, y_train) # fit the model on the training data\n",
    "y_hat_train = HGBReg.predict(X_train) # predict training data\n",
    "\n",
    "y_hat_test = GBReg.predict(X_test) # predict test data\n",
    "\n",
    "R_train = HGBReg.score(X_train, y_train) # Training set R²\n",
    "R_test = HGBReg.score(X_test, y_test) # Test set R²\n",
    "\n",
    "print('Train set R²: {}'.format(R_train))\n",
    "print('Test set R²: {}'.format(R_test))"
   ]
  },
  {
   "cell_type": "markdown",
   "id": "bb0d27a3",
   "metadata": {},
   "source": [
    "#### XGBoost"
   ]
  },
  {
   "cell_type": "code",
   "execution_count": 47,
   "id": "c8c7d0bb",
   "metadata": {},
   "outputs": [
    {
     "name": "stdout",
     "output_type": "stream",
     "text": [
      "  1%|          | 1/100 [00:01<01:55,  1.17s/trial, best loss: -0.0]"
     ]
    },
    {
     "name": "stderr",
     "output_type": "stream",
     "text": [
      "C:\\Users\\Luca Visser\\AppData\\Roaming\\Python\\Python310\\site-packages\\xgboost\\sklearn.py:885: UserWarning: `eval_metric` in `fit` method is deprecated for better compatibility with scikit-learn, use `eval_metric` in constructor or`set_params` instead.\n",
      "  warnings.warn(\n",
      "\n",
      "C:\\Users\\Luca Visser\\AppData\\Roaming\\Python\\Python310\\site-packages\\xgboost\\sklearn.py:885: UserWarning: `early_stopping_rounds` in `fit` method is deprecated for better compatibility with scikit-learn, use `early_stopping_rounds` in constructor or`set_params` instead.\n",
      "  warnings.warn(\n",
      "\n",
      "C:\\Users\\Luca Visser\\AppData\\Roaming\\Python\\Python310\\site-packages\\xgboost\\core.py:160: UserWarning: [11:12:20] WARNING: C:\\buildkite-agent\\builds\\buildkite-windows-cpu-autoscaling-group-i-0cec3277c4d9d0165-1\\xgboost\\xgboost-ci-windows\\src\\metric\\auc.cc:320: Dataset is empty, or contains only positive or negative samples.\n",
      "  warnings.warn(smsg, UserWarning)\n",
      "\n",
      "C:\\Users\\Luca Visser\\AppData\\Roaming\\Python\\Python310\\site-packages\\xgboost\\sklearn.py:885: UserWarning: `eval_metric` in `fit` method is deprecated for better compatibility with scikit-learn, use `eval_metric` in constructor or`set_params` instead.\n",
      "  warnings.warn(\n"
     ]
    },
    {
     "name": "stdout",
     "output_type": "stream",
     "text": [
      "  2%|▏         | 2/100 [00:01<00:52,  1.85trial/s, best loss: -0.0]"
     ]
    },
    {
     "name": "stderr",
     "output_type": "stream",
     "text": [
      "\n",
      "C:\\Users\\Luca Visser\\AppData\\Roaming\\Python\\Python310\\site-packages\\xgboost\\sklearn.py:885: UserWarning: `early_stopping_rounds` in `fit` method is deprecated for better compatibility with scikit-learn, use `early_stopping_rounds` in constructor or`set_params` instead.\n",
      "  warnings.warn(\n",
      "\n",
      "C:\\Users\\Luca Visser\\AppData\\Roaming\\Python\\Python310\\site-packages\\xgboost\\core.py:160: UserWarning: [11:12:20] WARNING: C:\\buildkite-agent\\builds\\buildkite-windows-cpu-autoscaling-group-i-0cec3277c4d9d0165-1\\xgboost\\xgboost-ci-windows\\src\\metric\\auc.cc:320: Dataset is empty, or contains only positive or negative samples.\n",
      "  warnings.warn(smsg, UserWarning)\n",
      "\n",
      "C:\\Users\\Luca Visser\\AppData\\Roaming\\Python\\Python310\\site-packages\\xgboost\\sklearn.py:885: UserWarning: `eval_metric` in `fit` method is deprecated for better compatibility with scikit-learn, use `eval_metric` in constructor or`set_params` instead.\n",
      "  warnings.warn(\n",
      "\n",
      "C:\\Users\\Luca Visser\\AppData\\Roaming\\Python\\Python310\\site-packages\\xgboost\\sklearn.py:885: UserWarning: `early_stopping_rounds` in `fit` method is deprecated for better compatibility with scikit-learn, use `early_stopping_rounds` in constructor or`set_params` instead.\n",
      "  warnings.warn(\n",
      "\n",
      "C:\\Users\\Luca Visser\\AppData\\Roaming\\Python\\Python310\\site-packages\\xgboost\\core.py:160: UserWarning: [11:12:21] WARNING: C:\\buildkite-agent\\builds\\buildkite-windows-cpu-autoscaling-group-i-0cec3277c4d9d0165-1\\xgboost\\xgboost-ci-windows\\src\\metric\\auc.cc:320: Dataset is empty, or contains only positive or negative samples.\n",
      "  warnings.warn(smsg, UserWarning)\n",
      "\n",
      "C:\\Users\\Luca Visser\\AppData\\Roaming\\Python\\Python310\\site-packages\\xgboost\\sklearn.py:885: UserWarning: `eval_metric` in `fit` method is deprecated for better compatibility with scikit-learn, use `eval_metric` in constructor or`set_params` instead.\n",
      "  warnings.warn(\n",
      "\n",
      "C:\\Users\\Luca Visser\\AppData\\Roaming\\Python\\Python310\\site-packages\\xgboost\\sklearn.py:885: UserWarning: `early_stopping_rounds` in `fit` method is deprecated for better compatibility with scikit-learn, use `early_stopping_rounds` in constructor or`set_params` instead.\n",
      "  warnings.warn(\n",
      "\n",
      "C:\\Users\\Luca Visser\\AppData\\Roaming\\Python\\Python310\\site-packages\\xgboost\\core.py:160: UserWarning: [11:12:21] WARNING: C:\\buildkite-agent\\builds\\buildkite-windows-cpu-autoscaling-group-i-0cec3277c4d9d0165-1\\xgboost\\xgboost-ci-windows\\src\\metric\\auc.cc:320: Dataset is empty, or contains only positive or negative samples.\n",
      "  warnings.warn(smsg, UserWarning)\n",
      "\n"
     ]
    },
    {
     "name": "stdout",
     "output_type": "stream",
     "text": [
      "  6%|▌         | 6/100 [00:01<00:16,  5.64trial/s, best loss: -0.0]"
     ]
    },
    {
     "name": "stderr",
     "output_type": "stream",
     "text": [
      "C:\\Users\\Luca Visser\\AppData\\Roaming\\Python\\Python310\\site-packages\\xgboost\\sklearn.py:885: UserWarning: `eval_metric` in `fit` method is deprecated for better compatibility with scikit-learn, use `eval_metric` in constructor or`set_params` instead.\n",
      "  warnings.warn(\n",
      "\n",
      "C:\\Users\\Luca Visser\\AppData\\Roaming\\Python\\Python310\\site-packages\\xgboost\\sklearn.py:885: UserWarning: `early_stopping_rounds` in `fit` method is deprecated for better compatibility with scikit-learn, use `early_stopping_rounds` in constructor or`set_params` instead.\n",
      "  warnings.warn(\n",
      "\n",
      "C:\\Users\\Luca Visser\\AppData\\Roaming\\Python\\Python310\\site-packages\\xgboost\\core.py:160: UserWarning: [11:12:21] WARNING: C:\\buildkite-agent\\builds\\buildkite-windows-cpu-autoscaling-group-i-0cec3277c4d9d0165-1\\xgboost\\xgboost-ci-windows\\src\\metric\\auc.cc:320: Dataset is empty, or contains only positive or negative samples.\n",
      "  warnings.warn(smsg, UserWarning)\n",
      "\n",
      "C:\\Users\\Luca Visser\\AppData\\Roaming\\Python\\Python310\\site-packages\\xgboost\\sklearn.py:885: UserWarning: `eval_metric` in `fit` method is deprecated for better compatibility with scikit-learn, use `eval_metric` in constructor or`set_params` instead.\n",
      "  warnings.warn(\n",
      "\n",
      "C:\\Users\\Luca Visser\\AppData\\Roaming\\Python\\Python310\\site-packages\\xgboost\\sklearn.py:885: UserWarning: `early_stopping_rounds` in `fit` method is deprecated for better compatibility with scikit-learn, use `early_stopping_rounds` in constructor or`set_params` instead.\n",
      "  warnings.warn(\n",
      "\n",
      "C:\\Users\\Luca Visser\\AppData\\Roaming\\Python\\Python310\\site-packages\\xgboost\\core.py:160: UserWarning: [11:12:21] WARNING: C:\\buildkite-agent\\builds\\buildkite-windows-cpu-autoscaling-group-i-0cec3277c4d9d0165-1\\xgboost\\xgboost-ci-windows\\src\\metric\\auc.cc:320: Dataset is empty, or contains only positive or negative samples.\n",
      "  warnings.warn(smsg, UserWarning)\n",
      "\n",
      "C:\\Users\\Luca Visser\\AppData\\Roaming\\Python\\Python310\\site-packages\\xgboost\\sklearn.py:885: UserWarning: `eval_metric` in `fit` method is deprecated for better compatibility with scikit-learn, use `eval_metric` in constructor or`set_params` instead.\n",
      "  warnings.warn(\n"
     ]
    },
    {
     "name": "stdout",
     "output_type": "stream",
     "text": [
      "  8%|▊         | 8/100 [00:01<00:12,  7.27trial/s, best loss: -0.0]"
     ]
    },
    {
     "name": "stderr",
     "output_type": "stream",
     "text": [
      "\n",
      "C:\\Users\\Luca Visser\\AppData\\Roaming\\Python\\Python310\\site-packages\\xgboost\\sklearn.py:885: UserWarning: `early_stopping_rounds` in `fit` method is deprecated for better compatibility with scikit-learn, use `early_stopping_rounds` in constructor or`set_params` instead.\n",
      "  warnings.warn(\n",
      "\n",
      "C:\\Users\\Luca Visser\\AppData\\Roaming\\Python\\Python310\\site-packages\\xgboost\\core.py:160: UserWarning: [11:12:21] WARNING: C:\\buildkite-agent\\builds\\buildkite-windows-cpu-autoscaling-group-i-0cec3277c4d9d0165-1\\xgboost\\xgboost-ci-windows\\src\\metric\\auc.cc:320: Dataset is empty, or contains only positive or negative samples.\n",
      "  warnings.warn(smsg, UserWarning)\n",
      "\n",
      "C:\\Users\\Luca Visser\\AppData\\Roaming\\Python\\Python310\\site-packages\\xgboost\\sklearn.py:885: UserWarning: `eval_metric` in `fit` method is deprecated for better compatibility with scikit-learn, use `eval_metric` in constructor or`set_params` instead.\n",
      "  warnings.warn(\n",
      "\n",
      "C:\\Users\\Luca Visser\\AppData\\Roaming\\Python\\Python310\\site-packages\\xgboost\\sklearn.py:885: UserWarning: `early_stopping_rounds` in `fit` method is deprecated for better compatibility with scikit-learn, use `early_stopping_rounds` in constructor or`set_params` instead.\n",
      "  warnings.warn(\n",
      "\n",
      "C:\\Users\\Luca Visser\\AppData\\Roaming\\Python\\Python310\\site-packages\\xgboost\\core.py:160: UserWarning: [11:12:21] WARNING: C:\\buildkite-agent\\builds\\buildkite-windows-cpu-autoscaling-group-i-0cec3277c4d9d0165-1\\xgboost\\xgboost-ci-windows\\src\\metric\\auc.cc:320: Dataset is empty, or contains only positive or negative samples.\n",
      "  warnings.warn(smsg, UserWarning)\n",
      "\n",
      "C:\\Users\\Luca Visser\\AppData\\Roaming\\Python\\Python310\\site-packages\\xgboost\\sklearn.py:885: UserWarning: `eval_metric` in `fit` method is deprecated for better compatibility with scikit-learn, use `eval_metric` in constructor or`set_params` instead.\n",
      "  warnings.warn(\n",
      "\n",
      "C:\\Users\\Luca Visser\\AppData\\Roaming\\Python\\Python310\\site-packages\\xgboost\\sklearn.py:885: UserWarning: `early_stopping_rounds` in `fit` method is deprecated for better compatibility with scikit-learn, use `early_stopping_rounds` in constructor or`set_params` instead.\n",
      "  warnings.warn(\n",
      "\n",
      "C:\\Users\\Luca Visser\\AppData\\Roaming\\Python\\Python310\\site-packages\\xgboost\\core.py:160: UserWarning: [11:12:21] WARNING: C:\\buildkite-agent\\builds\\buildkite-windows-cpu-autoscaling-group-i-0cec3277c4d9d0165-1\\xgboost\\xgboost-ci-windows\\src\\metric\\auc.cc:320: Dataset is empty, or contains only positive or negative samples.\n",
      "  warnings.warn(smsg, UserWarning)\n",
      "\n"
     ]
    },
    {
     "name": "stdout",
     "output_type": "stream",
     "text": [
      " 10%|█         | 10/100 [00:01<00:10,  8.71trial/s, best loss: -0.0]"
     ]
    },
    {
     "name": "stderr",
     "output_type": "stream",
     "text": [
      "C:\\Users\\Luca Visser\\AppData\\Roaming\\Python\\Python310\\site-packages\\xgboost\\sklearn.py:885: UserWarning: `eval_metric` in `fit` method is deprecated for better compatibility with scikit-learn, use `eval_metric` in constructor or`set_params` instead.\n",
      "  warnings.warn(\n",
      "\n",
      "C:\\Users\\Luca Visser\\AppData\\Roaming\\Python\\Python310\\site-packages\\xgboost\\sklearn.py:885: UserWarning: `early_stopping_rounds` in `fit` method is deprecated for better compatibility with scikit-learn, use `early_stopping_rounds` in constructor or`set_params` instead.\n",
      "  warnings.warn(\n",
      "\n",
      "C:\\Users\\Luca Visser\\AppData\\Roaming\\Python\\Python310\\site-packages\\xgboost\\core.py:160: UserWarning: [11:12:21] WARNING: C:\\buildkite-agent\\builds\\buildkite-windows-cpu-autoscaling-group-i-0cec3277c4d9d0165-1\\xgboost\\xgboost-ci-windows\\src\\metric\\auc.cc:320: Dataset is empty, or contains only positive or negative samples.\n",
      "  warnings.warn(smsg, UserWarning)\n",
      "\n",
      "C:\\Users\\Luca Visser\\AppData\\Roaming\\Python\\Python310\\site-packages\\xgboost\\sklearn.py:885: UserWarning: `eval_metric` in `fit` method is deprecated for better compatibility with scikit-learn, use `eval_metric` in constructor or`set_params` instead.\n",
      "  warnings.warn(\n",
      "\n",
      "C:\\Users\\Luca Visser\\AppData\\Roaming\\Python\\Python310\\site-packages\\xgboost\\sklearn.py:885: UserWarning: `early_stopping_rounds` in `fit` method is deprecated for better compatibility with scikit-learn, use `early_stopping_rounds` in constructor or`set_params` instead.\n",
      "  warnings.warn(\n",
      "\n",
      "C:\\Users\\Luca Visser\\AppData\\Roaming\\Python\\Python310\\site-packages\\xgboost\\core.py:160: UserWarning: [11:12:21] WARNING: C:\\buildkite-agent\\builds\\buildkite-windows-cpu-autoscaling-group-i-0cec3277c4d9d0165-1\\xgboost\\xgboost-ci-windows\\src\\metric\\auc.cc:320: Dataset is empty, or contains only positive or negative samples.\n",
      "  warnings.warn(smsg, UserWarning)\n",
      "\n",
      "C:\\Users\\Luca Visser\\AppData\\Roaming\\Python\\Python310\\site-packages\\xgboost\\sklearn.py:885: UserWarning: `eval_metric` in `fit` method is deprecated for better compatibility with scikit-learn, use `eval_metric` in constructor or`set_params` instead.\n",
      "  warnings.warn(\n",
      "\n",
      "C:\\Users\\Luca Visser\\AppData\\Roaming\\Python\\Python310\\site-packages\\xgboost\\sklearn.py:885: UserWarning: `early_stopping_rounds` in `fit` method is deprecated for better compatibility with scikit-learn, use `early_stopping_rounds` in constructor or`set_params` instead.\n",
      "  warnings.warn(\n",
      "\n",
      "C:\\Users\\Luca Visser\\AppData\\Roaming\\Python\\Python310\\site-packages\\xgboost\\core.py:160: UserWarning: [11:12:21] WARNING: C:\\buildkite-agent\\builds\\buildkite-windows-cpu-autoscaling-group-i-0cec3277c4d9d0165-1\\xgboost\\xgboost-ci-windows\\src\\metric\\auc.cc:320: Dataset is empty, or contains only positive or negative samples.\n",
      "  warnings.warn(smsg, UserWarning)\n",
      "\n"
     ]
    },
    {
     "name": "stdout",
     "output_type": "stream",
     "text": [
      " 14%|█▍        | 14/100 [00:02<00:07, 11.02trial/s, best loss: -0.0]"
     ]
    },
    {
     "name": "stderr",
     "output_type": "stream",
     "text": [
      "C:\\Users\\Luca Visser\\AppData\\Roaming\\Python\\Python310\\site-packages\\xgboost\\sklearn.py:885: UserWarning: `eval_metric` in `fit` method is deprecated for better compatibility with scikit-learn, use `eval_metric` in constructor or`set_params` instead.\n",
      "  warnings.warn(\n",
      "\n",
      "C:\\Users\\Luca Visser\\AppData\\Roaming\\Python\\Python310\\site-packages\\xgboost\\sklearn.py:885: UserWarning: `early_stopping_rounds` in `fit` method is deprecated for better compatibility with scikit-learn, use `early_stopping_rounds` in constructor or`set_params` instead.\n",
      "  warnings.warn(\n",
      "\n",
      "C:\\Users\\Luca Visser\\AppData\\Roaming\\Python\\Python310\\site-packages\\xgboost\\core.py:160: UserWarning: [11:12:21] WARNING: C:\\buildkite-agent\\builds\\buildkite-windows-cpu-autoscaling-group-i-0cec3277c4d9d0165-1\\xgboost\\xgboost-ci-windows\\src\\metric\\auc.cc:320: Dataset is empty, or contains only positive or negative samples.\n",
      "  warnings.warn(smsg, UserWarning)\n",
      "\n",
      "C:\\Users\\Luca Visser\\AppData\\Roaming\\Python\\Python310\\site-packages\\xgboost\\sklearn.py:885: UserWarning: `eval_metric` in `fit` method is deprecated for better compatibility with scikit-learn, use `eval_metric` in constructor or`set_params` instead.\n",
      "  warnings.warn(\n",
      "\n",
      "C:\\Users\\Luca Visser\\AppData\\Roaming\\Python\\Python310\\site-packages\\xgboost\\sklearn.py:885: UserWarning: `early_stopping_rounds` in `fit` method is deprecated for better compatibility with scikit-learn, use `early_stopping_rounds` in constructor or`set_params` instead.\n",
      "  warnings.warn(\n",
      "\n",
      "C:\\Users\\Luca Visser\\AppData\\Roaming\\Python\\Python310\\site-packages\\xgboost\\core.py:160: UserWarning: [11:12:21] WARNING: C:\\buildkite-agent\\builds\\buildkite-windows-cpu-autoscaling-group-i-0cec3277c4d9d0165-1\\xgboost\\xgboost-ci-windows\\src\\metric\\auc.cc:320: Dataset is empty, or contains only positive or negative samples.\n",
      "  warnings.warn(smsg, UserWarning)\n",
      "\n",
      "C:\\Users\\Luca Visser\\AppData\\Roaming\\Python\\Python310\\site-packages\\xgboost\\sklearn.py:885: UserWarning: `eval_metric` in `fit` method is deprecated for better compatibility with scikit-learn, use `eval_metric` in constructor or`set_params` instead.\n",
      "  warnings.warn(\n",
      "\n",
      "C:\\Users\\Luca Visser\\AppData\\Roaming\\Python\\Python310\\site-packages\\xgboost\\sklearn.py:885: UserWarning: `early_stopping_rounds` in `fit` method is deprecated for better compatibility with scikit-learn, use `early_stopping_rounds` in constructor or`set_params` instead.\n",
      "  warnings.warn(\n",
      "\n",
      "C:\\Users\\Luca Visser\\AppData\\Roaming\\Python\\Python310\\site-packages\\xgboost\\core.py:160: UserWarning: [11:12:21] WARNING: C:\\buildkite-agent\\builds\\buildkite-windows-cpu-autoscaling-group-i-0cec3277c4d9d0165-1\\xgboost\\xgboost-ci-windows\\src\\metric\\auc.cc:320: Dataset is empty, or contains only positive or negative samples.\n",
      "  warnings.warn(smsg, UserWarning)\n",
      "\n"
     ]
    },
    {
     "name": "stdout",
     "output_type": "stream",
     "text": [
      " 18%|█▊        | 18/100 [00:02<00:06, 12.26trial/s, best loss: -0.0]"
     ]
    },
    {
     "name": "stderr",
     "output_type": "stream",
     "text": [
      "C:\\Users\\Luca Visser\\AppData\\Roaming\\Python\\Python310\\site-packages\\xgboost\\sklearn.py:885: UserWarning: `eval_metric` in `fit` method is deprecated for better compatibility with scikit-learn, use `eval_metric` in constructor or`set_params` instead.\n",
      "  warnings.warn(\n",
      "\n",
      "C:\\Users\\Luca Visser\\AppData\\Roaming\\Python\\Python310\\site-packages\\xgboost\\sklearn.py:885: UserWarning: `early_stopping_rounds` in `fit` method is deprecated for better compatibility with scikit-learn, use `early_stopping_rounds` in constructor or`set_params` instead.\n",
      "  warnings.warn(\n",
      "\n",
      "C:\\Users\\Luca Visser\\AppData\\Roaming\\Python\\Python310\\site-packages\\xgboost\\core.py:160: UserWarning: [11:12:22] WARNING: C:\\buildkite-agent\\builds\\buildkite-windows-cpu-autoscaling-group-i-0cec3277c4d9d0165-1\\xgboost\\xgboost-ci-windows\\src\\metric\\auc.cc:320: Dataset is empty, or contains only positive or negative samples.\n",
      "  warnings.warn(smsg, UserWarning)\n",
      "\n",
      "C:\\Users\\Luca Visser\\AppData\\Roaming\\Python\\Python310\\site-packages\\xgboost\\sklearn.py:885: UserWarning: `eval_metric` in `fit` method is deprecated for better compatibility with scikit-learn, use `eval_metric` in constructor or`set_params` instead.\n",
      "  warnings.warn(\n",
      "\n",
      "C:\\Users\\Luca Visser\\AppData\\Roaming\\Python\\Python310\\site-packages\\xgboost\\sklearn.py:885: UserWarning: `early_stopping_rounds` in `fit` method is deprecated for better compatibility with scikit-learn, use `early_stopping_rounds` in constructor or`set_params` instead.\n",
      "  warnings.warn(\n",
      "\n",
      "C:\\Users\\Luca Visser\\AppData\\Roaming\\Python\\Python310\\site-packages\\xgboost\\core.py:160: UserWarning: [11:12:22] WARNING: C:\\buildkite-agent\\builds\\buildkite-windows-cpu-autoscaling-group-i-0cec3277c4d9d0165-1\\xgboost\\xgboost-ci-windows\\src\\metric\\auc.cc:320: Dataset is empty, or contains only positive or negative samples.\n",
      "  warnings.warn(smsg, UserWarning)\n",
      "\n",
      "C:\\Users\\Luca Visser\\AppData\\Roaming\\Python\\Python310\\site-packages\\xgboost\\sklearn.py:885: UserWarning: `eval_metric` in `fit` method is deprecated for better compatibility with scikit-learn, use `eval_metric` in constructor or`set_params` instead.\n",
      "  warnings.warn(\n",
      "\n",
      "C:\\Users\\Luca Visser\\AppData\\Roaming\\Python\\Python310\\site-packages\\xgboost\\sklearn.py:885: UserWarning: `early_stopping_rounds` in `fit` method is deprecated for better compatibility with scikit-learn, use `early_stopping_rounds` in constructor or`set_params` instead.\n",
      "  warnings.warn(\n",
      "\n",
      "C:\\Users\\Luca Visser\\AppData\\Roaming\\Python\\Python310\\site-packages\\xgboost\\core.py:160: UserWarning: [11:12:22] WARNING: C:\\buildkite-agent\\builds\\buildkite-windows-cpu-autoscaling-group-i-0cec3277c4d9d0165-1\\xgboost\\xgboost-ci-windows\\src\\metric\\auc.cc:320: Dataset is empty, or contains only positive or negative samples.\n",
      "  warnings.warn(smsg, UserWarning)\n",
      "\n"
     ]
    },
    {
     "name": "stdout",
     "output_type": "stream",
     "text": [
      " 20%|██        | 20/100 [00:02<00:06, 12.40trial/s, best loss: -0.0]"
     ]
    },
    {
     "name": "stderr",
     "output_type": "stream",
     "text": [
      "C:\\Users\\Luca Visser\\AppData\\Roaming\\Python\\Python310\\site-packages\\xgboost\\sklearn.py:885: UserWarning: `eval_metric` in `fit` method is deprecated for better compatibility with scikit-learn, use `eval_metric` in constructor or`set_params` instead.\n",
      "  warnings.warn(\n",
      "\n",
      "C:\\Users\\Luca Visser\\AppData\\Roaming\\Python\\Python310\\site-packages\\xgboost\\sklearn.py:885: UserWarning: `early_stopping_rounds` in `fit` method is deprecated for better compatibility with scikit-learn, use `early_stopping_rounds` in constructor or`set_params` instead.\n",
      "  warnings.warn(\n",
      "\n",
      "C:\\Users\\Luca Visser\\AppData\\Roaming\\Python\\Python310\\site-packages\\xgboost\\core.py:160: UserWarning: [11:12:22] WARNING: C:\\buildkite-agent\\builds\\buildkite-windows-cpu-autoscaling-group-i-0cec3277c4d9d0165-1\\xgboost\\xgboost-ci-windows\\src\\metric\\auc.cc:320: Dataset is empty, or contains only positive or negative samples.\n",
      "  warnings.warn(smsg, UserWarning)\n",
      "\n",
      "C:\\Users\\Luca Visser\\AppData\\Roaming\\Python\\Python310\\site-packages\\xgboost\\sklearn.py:885: UserWarning: `eval_metric` in `fit` method is deprecated for better compatibility with scikit-learn, use `eval_metric` in constructor or`set_params` instead.\n",
      "  warnings.warn(\n",
      "\n",
      "C:\\Users\\Luca Visser\\AppData\\Roaming\\Python\\Python310\\site-packages\\xgboost\\sklearn.py:885: UserWarning: `early_stopping_rounds` in `fit` method is deprecated for better compatibility with scikit-learn, use `early_stopping_rounds` in constructor or`set_params` instead.\n",
      "  warnings.warn(\n",
      "\n",
      "C:\\Users\\Luca Visser\\AppData\\Roaming\\Python\\Python310\\site-packages\\xgboost\\core.py:160: UserWarning: [11:12:22] WARNING: C:\\buildkite-agent\\builds\\buildkite-windows-cpu-autoscaling-group-i-0cec3277c4d9d0165-1\\xgboost\\xgboost-ci-windows\\src\\metric\\auc.cc:320: Dataset is empty, or contains only positive or negative samples.\n",
      "  warnings.warn(smsg, UserWarning)\n",
      "\n",
      "C:\\Users\\Luca Visser\\AppData\\Roaming\\Python\\Python310\\site-packages\\xgboost\\sklearn.py:885: UserWarning: `eval_metric` in `fit` method is deprecated for better compatibility with scikit-learn, use `eval_metric` in constructor or`set_params` instead.\n",
      "  warnings.warn(\n"
     ]
    },
    {
     "name": "stdout",
     "output_type": "stream",
     "text": [
      " 22%|██▏       | 22/100 [00:02<00:06, 11.40trial/s, best loss: -0.0]"
     ]
    },
    {
     "name": "stderr",
     "output_type": "stream",
     "text": [
      "\n",
      "C:\\Users\\Luca Visser\\AppData\\Roaming\\Python\\Python310\\site-packages\\xgboost\\sklearn.py:885: UserWarning: `early_stopping_rounds` in `fit` method is deprecated for better compatibility with scikit-learn, use `early_stopping_rounds` in constructor or`set_params` instead.\n",
      "  warnings.warn(\n",
      "\n",
      "C:\\Users\\Luca Visser\\AppData\\Roaming\\Python\\Python310\\site-packages\\xgboost\\core.py:160: UserWarning: [11:12:22] WARNING: C:\\buildkite-agent\\builds\\buildkite-windows-cpu-autoscaling-group-i-0cec3277c4d9d0165-1\\xgboost\\xgboost-ci-windows\\src\\metric\\auc.cc:320: Dataset is empty, or contains only positive or negative samples.\n",
      "  warnings.warn(smsg, UserWarning)\n",
      "\n",
      "C:\\Users\\Luca Visser\\AppData\\Roaming\\Python\\Python310\\site-packages\\xgboost\\sklearn.py:885: UserWarning: `eval_metric` in `fit` method is deprecated for better compatibility with scikit-learn, use `eval_metric` in constructor or`set_params` instead.\n",
      "  warnings.warn(\n",
      "\n",
      "C:\\Users\\Luca Visser\\AppData\\Roaming\\Python\\Python310\\site-packages\\xgboost\\sklearn.py:885: UserWarning: `early_stopping_rounds` in `fit` method is deprecated for better compatibility with scikit-learn, use `early_stopping_rounds` in constructor or`set_params` instead.\n",
      "  warnings.warn(\n",
      "\n",
      "C:\\Users\\Luca Visser\\AppData\\Roaming\\Python\\Python310\\site-packages\\xgboost\\core.py:160: UserWarning: [11:12:22] WARNING: C:\\buildkite-agent\\builds\\buildkite-windows-cpu-autoscaling-group-i-0cec3277c4d9d0165-1\\xgboost\\xgboost-ci-windows\\src\\metric\\auc.cc:320: Dataset is empty, or contains only positive or negative samples.\n",
      "  warnings.warn(smsg, UserWarning)\n",
      "\n"
     ]
    },
    {
     "name": "stdout",
     "output_type": "stream",
     "text": [
      " 24%|██▍       | 24/100 [00:03<00:07, 10.83trial/s, best loss: -0.0]"
     ]
    },
    {
     "name": "stderr",
     "output_type": "stream",
     "text": [
      "C:\\Users\\Luca Visser\\AppData\\Roaming\\Python\\Python310\\site-packages\\xgboost\\sklearn.py:885: UserWarning: `eval_metric` in `fit` method is deprecated for better compatibility with scikit-learn, use `eval_metric` in constructor or`set_params` instead.\n",
      "  warnings.warn(\n",
      "\n",
      "C:\\Users\\Luca Visser\\AppData\\Roaming\\Python\\Python310\\site-packages\\xgboost\\sklearn.py:885: UserWarning: `early_stopping_rounds` in `fit` method is deprecated for better compatibility with scikit-learn, use `early_stopping_rounds` in constructor or`set_params` instead.\n",
      "  warnings.warn(\n",
      "\n",
      "C:\\Users\\Luca Visser\\AppData\\Roaming\\Python\\Python310\\site-packages\\xgboost\\core.py:160: UserWarning: [11:12:22] WARNING: C:\\buildkite-agent\\builds\\buildkite-windows-cpu-autoscaling-group-i-0cec3277c4d9d0165-1\\xgboost\\xgboost-ci-windows\\src\\metric\\auc.cc:320: Dataset is empty, or contains only positive or negative samples.\n",
      "  warnings.warn(smsg, UserWarning)\n",
      "\n",
      "C:\\Users\\Luca Visser\\AppData\\Roaming\\Python\\Python310\\site-packages\\xgboost\\sklearn.py:885: UserWarning: `eval_metric` in `fit` method is deprecated for better compatibility with scikit-learn, use `eval_metric` in constructor or`set_params` instead.\n",
      "  warnings.warn(\n",
      "\n",
      "C:\\Users\\Luca Visser\\AppData\\Roaming\\Python\\Python310\\site-packages\\xgboost\\sklearn.py:885: UserWarning: `early_stopping_rounds` in `fit` method is deprecated for better compatibility with scikit-learn, use `early_stopping_rounds` in constructor or`set_params` instead.\n",
      "  warnings.warn(\n",
      "\n",
      "C:\\Users\\Luca Visser\\AppData\\Roaming\\Python\\Python310\\site-packages\\xgboost\\core.py:160: UserWarning: [11:12:22] WARNING: C:\\buildkite-agent\\builds\\buildkite-windows-cpu-autoscaling-group-i-0cec3277c4d9d0165-1\\xgboost\\xgboost-ci-windows\\src\\metric\\auc.cc:320: Dataset is empty, or contains only positive or negative samples.\n",
      "  warnings.warn(smsg, UserWarning)\n",
      "\n",
      "C:\\Users\\Luca Visser\\AppData\\Roaming\\Python\\Python310\\site-packages\\xgboost\\sklearn.py:885: UserWarning: `eval_metric` in `fit` method is deprecated for better compatibility with scikit-learn, use `eval_metric` in constructor or`set_params` instead.\n",
      "  warnings.warn(\n"
     ]
    },
    {
     "name": "stdout",
     "output_type": "stream",
     "text": [
      " 26%|██▌       | 26/100 [00:03<00:07, 10.43trial/s, best loss: -0.0]"
     ]
    },
    {
     "name": "stderr",
     "output_type": "stream",
     "text": [
      "\n",
      "C:\\Users\\Luca Visser\\AppData\\Roaming\\Python\\Python310\\site-packages\\xgboost\\sklearn.py:885: UserWarning: `early_stopping_rounds` in `fit` method is deprecated for better compatibility with scikit-learn, use `early_stopping_rounds` in constructor or`set_params` instead.\n",
      "  warnings.warn(\n",
      "\n",
      "C:\\Users\\Luca Visser\\AppData\\Roaming\\Python\\Python310\\site-packages\\xgboost\\core.py:160: UserWarning: [11:12:22] WARNING: C:\\buildkite-agent\\builds\\buildkite-windows-cpu-autoscaling-group-i-0cec3277c4d9d0165-1\\xgboost\\xgboost-ci-windows\\src\\metric\\auc.cc:320: Dataset is empty, or contains only positive or negative samples.\n",
      "  warnings.warn(smsg, UserWarning)\n",
      "\n",
      "C:\\Users\\Luca Visser\\AppData\\Roaming\\Python\\Python310\\site-packages\\xgboost\\sklearn.py:885: UserWarning: `eval_metric` in `fit` method is deprecated for better compatibility with scikit-learn, use `eval_metric` in constructor or`set_params` instead.\n",
      "  warnings.warn(\n",
      "\n",
      "C:\\Users\\Luca Visser\\AppData\\Roaming\\Python\\Python310\\site-packages\\xgboost\\sklearn.py:885: UserWarning: `early_stopping_rounds` in `fit` method is deprecated for better compatibility with scikit-learn, use `early_stopping_rounds` in constructor or`set_params` instead.\n",
      "  warnings.warn(\n",
      "\n",
      "C:\\Users\\Luca Visser\\AppData\\Roaming\\Python\\Python310\\site-packages\\xgboost\\core.py:160: UserWarning: [11:12:22] WARNING: C:\\buildkite-agent\\builds\\buildkite-windows-cpu-autoscaling-group-i-0cec3277c4d9d0165-1\\xgboost\\xgboost-ci-windows\\src\\metric\\auc.cc:320: Dataset is empty, or contains only positive or negative samples.\n",
      "  warnings.warn(smsg, UserWarning)\n",
      "\n",
      "C:\\Users\\Luca Visser\\AppData\\Roaming\\Python\\Python310\\site-packages\\xgboost\\sklearn.py:885: UserWarning: `eval_metric` in `fit` method is deprecated for better compatibility with scikit-learn, use `eval_metric` in constructor or`set_params` instead.\n",
      "  warnings.warn(\n"
     ]
    },
    {
     "name": "stdout",
     "output_type": "stream",
     "text": [
      " 28%|██▊       | 28/100 [00:03<00:07,  9.92trial/s, best loss: -0.0]"
     ]
    },
    {
     "name": "stderr",
     "output_type": "stream",
     "text": [
      "\n",
      "C:\\Users\\Luca Visser\\AppData\\Roaming\\Python\\Python310\\site-packages\\xgboost\\sklearn.py:885: UserWarning: `early_stopping_rounds` in `fit` method is deprecated for better compatibility with scikit-learn, use `early_stopping_rounds` in constructor or`set_params` instead.\n",
      "  warnings.warn(\n",
      "\n",
      "C:\\Users\\Luca Visser\\AppData\\Roaming\\Python\\Python310\\site-packages\\xgboost\\core.py:160: UserWarning: [11:12:23] WARNING: C:\\buildkite-agent\\builds\\buildkite-windows-cpu-autoscaling-group-i-0cec3277c4d9d0165-1\\xgboost\\xgboost-ci-windows\\src\\metric\\auc.cc:320: Dataset is empty, or contains only positive or negative samples.\n",
      "  warnings.warn(smsg, UserWarning)\n",
      "\n",
      "C:\\Users\\Luca Visser\\AppData\\Roaming\\Python\\Python310\\site-packages\\xgboost\\sklearn.py:885: UserWarning: `eval_metric` in `fit` method is deprecated for better compatibility with scikit-learn, use `eval_metric` in constructor or`set_params` instead.\n",
      "  warnings.warn(\n",
      "\n",
      "C:\\Users\\Luca Visser\\AppData\\Roaming\\Python\\Python310\\site-packages\\xgboost\\sklearn.py:885: UserWarning: `early_stopping_rounds` in `fit` method is deprecated for better compatibility with scikit-learn, use `early_stopping_rounds` in constructor or`set_params` instead.\n",
      "  warnings.warn(\n",
      "\n",
      "C:\\Users\\Luca Visser\\AppData\\Roaming\\Python\\Python310\\site-packages\\xgboost\\core.py:160: UserWarning: [11:12:23] WARNING: C:\\buildkite-agent\\builds\\buildkite-windows-cpu-autoscaling-group-i-0cec3277c4d9d0165-1\\xgboost\\xgboost-ci-windows\\src\\metric\\auc.cc:320: Dataset is empty, or contains only positive or negative samples.\n",
      "  warnings.warn(smsg, UserWarning)\n",
      "\n"
     ]
    },
    {
     "name": "stdout",
     "output_type": "stream",
     "text": [
      " 30%|███       | 30/100 [00:03<00:07,  9.27trial/s, best loss: -0.0]"
     ]
    },
    {
     "name": "stderr",
     "output_type": "stream",
     "text": [
      "C:\\Users\\Luca Visser\\AppData\\Roaming\\Python\\Python310\\site-packages\\xgboost\\sklearn.py:885: UserWarning: `eval_metric` in `fit` method is deprecated for better compatibility with scikit-learn, use `eval_metric` in constructor or`set_params` instead.\n",
      "  warnings.warn(\n",
      "\n",
      "C:\\Users\\Luca Visser\\AppData\\Roaming\\Python\\Python310\\site-packages\\xgboost\\sklearn.py:885: UserWarning: `early_stopping_rounds` in `fit` method is deprecated for better compatibility with scikit-learn, use `early_stopping_rounds` in constructor or`set_params` instead.\n",
      "  warnings.warn(\n",
      "\n",
      "C:\\Users\\Luca Visser\\AppData\\Roaming\\Python\\Python310\\site-packages\\xgboost\\core.py:160: UserWarning: [11:12:23] WARNING: C:\\buildkite-agent\\builds\\buildkite-windows-cpu-autoscaling-group-i-0cec3277c4d9d0165-1\\xgboost\\xgboost-ci-windows\\src\\metric\\auc.cc:320: Dataset is empty, or contains only positive or negative samples.\n",
      "  warnings.warn(smsg, UserWarning)\n",
      "\n",
      "C:\\Users\\Luca Visser\\AppData\\Roaming\\Python\\Python310\\site-packages\\xgboost\\sklearn.py:885: UserWarning: `eval_metric` in `fit` method is deprecated for better compatibility with scikit-learn, use `eval_metric` in constructor or`set_params` instead.\n",
      "  warnings.warn(\n",
      "\n",
      "C:\\Users\\Luca Visser\\AppData\\Roaming\\Python\\Python310\\site-packages\\xgboost\\sklearn.py:885: UserWarning: `early_stopping_rounds` in `fit` method is deprecated for better compatibility with scikit-learn, use `early_stopping_rounds` in constructor or`set_params` instead.\n",
      "  warnings.warn(\n",
      "\n",
      "C:\\Users\\Luca Visser\\AppData\\Roaming\\Python\\Python310\\site-packages\\xgboost\\core.py:160: UserWarning: [11:12:23] WARNING: C:\\buildkite-agent\\builds\\buildkite-windows-cpu-autoscaling-group-i-0cec3277c4d9d0165-1\\xgboost\\xgboost-ci-windows\\src\\metric\\auc.cc:320: Dataset is empty, or contains only positive or negative samples.\n",
      "  warnings.warn(smsg, UserWarning)\n",
      "\n"
     ]
    },
    {
     "name": "stdout",
     "output_type": "stream",
     "text": [
      " 32%|███▏      | 32/100 [00:04<00:07,  8.96trial/s, best loss: -0.0]"
     ]
    },
    {
     "name": "stderr",
     "output_type": "stream",
     "text": [
      "C:\\Users\\Luca Visser\\AppData\\Roaming\\Python\\Python310\\site-packages\\xgboost\\sklearn.py:885: UserWarning: `eval_metric` in `fit` method is deprecated for better compatibility with scikit-learn, use `eval_metric` in constructor or`set_params` instead.\n",
      "  warnings.warn(\n",
      "\n",
      "C:\\Users\\Luca Visser\\AppData\\Roaming\\Python\\Python310\\site-packages\\xgboost\\sklearn.py:885: UserWarning: `early_stopping_rounds` in `fit` method is deprecated for better compatibility with scikit-learn, use `early_stopping_rounds` in constructor or`set_params` instead.\n",
      "  warnings.warn(\n",
      "\n",
      "C:\\Users\\Luca Visser\\AppData\\Roaming\\Python\\Python310\\site-packages\\xgboost\\core.py:160: UserWarning: [11:12:23] WARNING: C:\\buildkite-agent\\builds\\buildkite-windows-cpu-autoscaling-group-i-0cec3277c4d9d0165-1\\xgboost\\xgboost-ci-windows\\src\\metric\\auc.cc:320: Dataset is empty, or contains only positive or negative samples.\n",
      "  warnings.warn(smsg, UserWarning)\n",
      "\n",
      "C:\\Users\\Luca Visser\\AppData\\Roaming\\Python\\Python310\\site-packages\\xgboost\\sklearn.py:885: UserWarning: `eval_metric` in `fit` method is deprecated for better compatibility with scikit-learn, use `eval_metric` in constructor or`set_params` instead.\n",
      "  warnings.warn(\n",
      "\n",
      "C:\\Users\\Luca Visser\\AppData\\Roaming\\Python\\Python310\\site-packages\\xgboost\\sklearn.py:885: UserWarning: `early_stopping_rounds` in `fit` method is deprecated for better compatibility with scikit-learn, use `early_stopping_rounds` in constructor or`set_params` instead.\n",
      "  warnings.warn(\n",
      "\n",
      "C:\\Users\\Luca Visser\\AppData\\Roaming\\Python\\Python310\\site-packages\\xgboost\\core.py:160: UserWarning: [11:12:23] WARNING: C:\\buildkite-agent\\builds\\buildkite-windows-cpu-autoscaling-group-i-0cec3277c4d9d0165-1\\xgboost\\xgboost-ci-windows\\src\\metric\\auc.cc:320: Dataset is empty, or contains only positive or negative samples.\n",
      "  warnings.warn(smsg, UserWarning)\n",
      "\n"
     ]
    },
    {
     "name": "stdout",
     "output_type": "stream",
     "text": [
      " 34%|███▍      | 34/100 [00:04<00:07,  8.93trial/s, best loss: -0.0]"
     ]
    },
    {
     "name": "stderr",
     "output_type": "stream",
     "text": [
      "C:\\Users\\Luca Visser\\AppData\\Roaming\\Python\\Python310\\site-packages\\xgboost\\sklearn.py:885: UserWarning: `eval_metric` in `fit` method is deprecated for better compatibility with scikit-learn, use `eval_metric` in constructor or`set_params` instead.\n",
      "  warnings.warn(\n",
      "\n",
      "C:\\Users\\Luca Visser\\AppData\\Roaming\\Python\\Python310\\site-packages\\xgboost\\sklearn.py:885: UserWarning: `early_stopping_rounds` in `fit` method is deprecated for better compatibility with scikit-learn, use `early_stopping_rounds` in constructor or`set_params` instead.\n",
      "  warnings.warn(\n",
      "\n",
      "C:\\Users\\Luca Visser\\AppData\\Roaming\\Python\\Python310\\site-packages\\xgboost\\core.py:160: UserWarning: [11:12:23] WARNING: C:\\buildkite-agent\\builds\\buildkite-windows-cpu-autoscaling-group-i-0cec3277c4d9d0165-1\\xgboost\\xgboost-ci-windows\\src\\metric\\auc.cc:320: Dataset is empty, or contains only positive or negative samples.\n",
      "  warnings.warn(smsg, UserWarning)\n",
      "\n",
      "C:\\Users\\Luca Visser\\AppData\\Roaming\\Python\\Python310\\site-packages\\xgboost\\sklearn.py:885: UserWarning: `eval_metric` in `fit` method is deprecated for better compatibility with scikit-learn, use `eval_metric` in constructor or`set_params` instead.\n",
      "  warnings.warn(\n",
      "\n",
      "C:\\Users\\Luca Visser\\AppData\\Roaming\\Python\\Python310\\site-packages\\xgboost\\sklearn.py:885: UserWarning: `early_stopping_rounds` in `fit` method is deprecated for better compatibility with scikit-learn, use `early_stopping_rounds` in constructor or`set_params` instead.\n",
      "  warnings.warn(\n",
      "\n",
      "C:\\Users\\Luca Visser\\AppData\\Roaming\\Python\\Python310\\site-packages\\xgboost\\core.py:160: UserWarning: [11:12:23] WARNING: C:\\buildkite-agent\\builds\\buildkite-windows-cpu-autoscaling-group-i-0cec3277c4d9d0165-1\\xgboost\\xgboost-ci-windows\\src\\metric\\auc.cc:320: Dataset is empty, or contains only positive or negative samples.\n",
      "  warnings.warn(smsg, UserWarning)\n",
      "\n"
     ]
    },
    {
     "name": "stdout",
     "output_type": "stream",
     "text": [
      " 36%|███▌      | 36/100 [00:04<00:07,  8.88trial/s, best loss: -0.0]"
     ]
    },
    {
     "name": "stderr",
     "output_type": "stream",
     "text": [
      "C:\\Users\\Luca Visser\\AppData\\Roaming\\Python\\Python310\\site-packages\\xgboost\\sklearn.py:885: UserWarning: `eval_metric` in `fit` method is deprecated for better compatibility with scikit-learn, use `eval_metric` in constructor or`set_params` instead.\n",
      "  warnings.warn(\n",
      "\n",
      "C:\\Users\\Luca Visser\\AppData\\Roaming\\Python\\Python310\\site-packages\\xgboost\\sklearn.py:885: UserWarning: `early_stopping_rounds` in `fit` method is deprecated for better compatibility with scikit-learn, use `early_stopping_rounds` in constructor or`set_params` instead.\n",
      "  warnings.warn(\n",
      "\n",
      "C:\\Users\\Luca Visser\\AppData\\Roaming\\Python\\Python310\\site-packages\\xgboost\\core.py:160: UserWarning: [11:12:23] WARNING: C:\\buildkite-agent\\builds\\buildkite-windows-cpu-autoscaling-group-i-0cec3277c4d9d0165-1\\xgboost\\xgboost-ci-windows\\src\\metric\\auc.cc:320: Dataset is empty, or contains only positive or negative samples.\n",
      "  warnings.warn(smsg, UserWarning)\n",
      "\n",
      "C:\\Users\\Luca Visser\\AppData\\Roaming\\Python\\Python310\\site-packages\\xgboost\\core.py:160: UserWarning: [11:12:24] WARNING: C:\\buildkite-agent\\builds\\buildkite-windows-cpu-autoscaling-group-i-0cec3277c4d9d0165-1\\xgboost\\xgboost-ci-windows\\src\\metric\\auc.cc:320: Dataset is empty, or contains only positive or negative samples.\n",
      "  warnings.warn(smsg, UserWarning)\n",
      "\n",
      "C:\\Users\\Luca Visser\\AppData\\Roaming\\Python\\Python310\\site-packages\\xgboost\\sklearn.py:885: UserWarning: `eval_metric` in `fit` method is deprecated for better compatibility with scikit-learn, use `eval_metric` in constructor or`set_params` instead.\n",
      "  warnings.warn(\n",
      "\n",
      "C:\\Users\\Luca Visser\\AppData\\Roaming\\Python\\Python310\\site-packages\\xgboost\\sklearn.py:885: UserWarning: `early_stopping_rounds` in `fit` method is deprecated for better compatibility with scikit-learn, use `early_stopping_rounds` in constructor or`set_params` instead.\n",
      "  warnings.warn(\n",
      "\n",
      "C:\\Users\\Luca Visser\\AppData\\Roaming\\Python\\Python310\\site-packages\\xgboost\\core.py:160: UserWarning: [11:12:24] WARNING: C:\\buildkite-agent\\builds\\buildkite-windows-cpu-autoscaling-group-i-0cec3277c4d9d0165-1\\xgboost\\xgboost-ci-windows\\src\\metric\\auc.cc:320: Dataset is empty, or contains only positive or negative samples.\n",
      "  warnings.warn(smsg, UserWarning)\n",
      "\n"
     ]
    },
    {
     "name": "stdout",
     "output_type": "stream",
     "text": [
      " 38%|███▊      | 38/100 [00:04<00:06,  9.04trial/s, best loss: -0.0]"
     ]
    },
    {
     "name": "stderr",
     "output_type": "stream",
     "text": [
      "C:\\Users\\Luca Visser\\AppData\\Roaming\\Python\\Python310\\site-packages\\xgboost\\sklearn.py:885: UserWarning: `eval_metric` in `fit` method is deprecated for better compatibility with scikit-learn, use `eval_metric` in constructor or`set_params` instead.\n",
      "  warnings.warn(\n",
      "\n",
      "C:\\Users\\Luca Visser\\AppData\\Roaming\\Python\\Python310\\site-packages\\xgboost\\sklearn.py:885: UserWarning: `early_stopping_rounds` in `fit` method is deprecated for better compatibility with scikit-learn, use `early_stopping_rounds` in constructor or`set_params` instead.\n",
      "  warnings.warn(\n",
      "\n",
      "C:\\Users\\Luca Visser\\AppData\\Roaming\\Python\\Python310\\site-packages\\xgboost\\core.py:160: UserWarning: [11:12:24] WARNING: C:\\buildkite-agent\\builds\\buildkite-windows-cpu-autoscaling-group-i-0cec3277c4d9d0165-1\\xgboost\\xgboost-ci-windows\\src\\metric\\auc.cc:320: Dataset is empty, or contains only positive or negative samples.\n",
      "  warnings.warn(smsg, UserWarning)\n",
      "\n",
      "C:\\Users\\Luca Visser\\AppData\\Roaming\\Python\\Python310\\site-packages\\xgboost\\sklearn.py:885: UserWarning: `eval_metric` in `fit` method is deprecated for better compatibility with scikit-learn, use `eval_metric` in constructor or`set_params` instead.\n",
      "  warnings.warn(\n",
      "\n",
      "C:\\Users\\Luca Visser\\AppData\\Roaming\\Python\\Python310\\site-packages\\xgboost\\sklearn.py:885: UserWarning: `early_stopping_rounds` in `fit` method is deprecated for better compatibility with scikit-learn, use `early_stopping_rounds` in constructor or`set_params` instead.\n",
      "  warnings.warn(\n",
      "\n",
      "C:\\Users\\Luca Visser\\AppData\\Roaming\\Python\\Python310\\site-packages\\xgboost\\core.py:160: UserWarning: [11:12:24] WARNING: C:\\buildkite-agent\\builds\\buildkite-windows-cpu-autoscaling-group-i-0cec3277c4d9d0165-1\\xgboost\\xgboost-ci-windows\\src\\metric\\auc.cc:320: Dataset is empty, or contains only positive or negative samples.\n",
      "  warnings.warn(smsg, UserWarning)\n",
      "\n"
     ]
    },
    {
     "name": "stdout",
     "output_type": "stream",
     "text": [
      " 40%|████      | 40/100 [00:04<00:06,  9.02trial/s, best loss: -0.0]"
     ]
    },
    {
     "name": "stderr",
     "output_type": "stream",
     "text": [
      "C:\\Users\\Luca Visser\\AppData\\Roaming\\Python\\Python310\\site-packages\\xgboost\\sklearn.py:885: UserWarning: `eval_metric` in `fit` method is deprecated for better compatibility with scikit-learn, use `eval_metric` in constructor or`set_params` instead.\n",
      "  warnings.warn(\n",
      "\n",
      "C:\\Users\\Luca Visser\\AppData\\Roaming\\Python\\Python310\\site-packages\\xgboost\\sklearn.py:885: UserWarning: `early_stopping_rounds` in `fit` method is deprecated for better compatibility with scikit-learn, use `early_stopping_rounds` in constructor or`set_params` instead.\n",
      "  warnings.warn(\n",
      "\n",
      "C:\\Users\\Luca Visser\\AppData\\Roaming\\Python\\Python310\\site-packages\\xgboost\\core.py:160: UserWarning: [11:12:24] WARNING: C:\\buildkite-agent\\builds\\buildkite-windows-cpu-autoscaling-group-i-0cec3277c4d9d0165-1\\xgboost\\xgboost-ci-windows\\src\\metric\\auc.cc:320: Dataset is empty, or contains only positive or negative samples.\n",
      "  warnings.warn(smsg, UserWarning)\n",
      "\n",
      "C:\\Users\\Luca Visser\\AppData\\Roaming\\Python\\Python310\\site-packages\\xgboost\\sklearn.py:885: UserWarning: `eval_metric` in `fit` method is deprecated for better compatibility with scikit-learn, use `eval_metric` in constructor or`set_params` instead.\n",
      "  warnings.warn(\n",
      "\n",
      "C:\\Users\\Luca Visser\\AppData\\Roaming\\Python\\Python310\\site-packages\\xgboost\\sklearn.py:885: UserWarning: `early_stopping_rounds` in `fit` method is deprecated for better compatibility with scikit-learn, use `early_stopping_rounds` in constructor or`set_params` instead.\n",
      "  warnings.warn(\n",
      "\n",
      "C:\\Users\\Luca Visser\\AppData\\Roaming\\Python\\Python310\\site-packages\\xgboost\\core.py:160: UserWarning: [11:12:24] WARNING: C:\\buildkite-agent\\builds\\buildkite-windows-cpu-autoscaling-group-i-0cec3277c4d9d0165-1\\xgboost\\xgboost-ci-windows\\src\\metric\\auc.cc:320: Dataset is empty, or contains only positive or negative samples.\n",
      "  warnings.warn(smsg, UserWarning)\n",
      "\n"
     ]
    },
    {
     "name": "stdout",
     "output_type": "stream",
     "text": [
      " 42%|████▏     | 42/100 [00:05<00:06,  8.97trial/s, best loss: -0.0]"
     ]
    },
    {
     "name": "stderr",
     "output_type": "stream",
     "text": [
      "C:\\Users\\Luca Visser\\AppData\\Roaming\\Python\\Python310\\site-packages\\xgboost\\sklearn.py:885: UserWarning: `eval_metric` in `fit` method is deprecated for better compatibility with scikit-learn, use `eval_metric` in constructor or`set_params` instead.\n",
      "  warnings.warn(\n",
      "\n",
      "C:\\Users\\Luca Visser\\AppData\\Roaming\\Python\\Python310\\site-packages\\xgboost\\sklearn.py:885: UserWarning: `early_stopping_rounds` in `fit` method is deprecated for better compatibility with scikit-learn, use `early_stopping_rounds` in constructor or`set_params` instead.\n",
      "  warnings.warn(\n",
      "\n",
      "C:\\Users\\Luca Visser\\AppData\\Roaming\\Python\\Python310\\site-packages\\xgboost\\core.py:160: UserWarning: [11:12:24] WARNING: C:\\buildkite-agent\\builds\\buildkite-windows-cpu-autoscaling-group-i-0cec3277c4d9d0165-1\\xgboost\\xgboost-ci-windows\\src\\metric\\auc.cc:320: Dataset is empty, or contains only positive or negative samples.\n",
      "  warnings.warn(smsg, UserWarning)\n",
      "\n",
      "C:\\Users\\Luca Visser\\AppData\\Roaming\\Python\\Python310\\site-packages\\xgboost\\sklearn.py:885: UserWarning: `eval_metric` in `fit` method is deprecated for better compatibility with scikit-learn, use `eval_metric` in constructor or`set_params` instead.\n",
      "  warnings.warn(\n",
      "\n",
      "C:\\Users\\Luca Visser\\AppData\\Roaming\\Python\\Python310\\site-packages\\xgboost\\sklearn.py:885: UserWarning: `early_stopping_rounds` in `fit` method is deprecated for better compatibility with scikit-learn, use `early_stopping_rounds` in constructor or`set_params` instead.\n",
      "  warnings.warn(\n",
      "\n",
      "C:\\Users\\Luca Visser\\AppData\\Roaming\\Python\\Python310\\site-packages\\xgboost\\core.py:160: UserWarning: [11:12:24] WARNING: C:\\buildkite-agent\\builds\\buildkite-windows-cpu-autoscaling-group-i-0cec3277c4d9d0165-1\\xgboost\\xgboost-ci-windows\\src\\metric\\auc.cc:320: Dataset is empty, or contains only positive or negative samples.\n",
      "  warnings.warn(smsg, UserWarning)\n",
      "\n"
     ]
    },
    {
     "name": "stdout",
     "output_type": "stream",
     "text": [
      " 44%|████▍     | 44/100 [00:05<00:06,  9.00trial/s, best loss: -0.0]"
     ]
    },
    {
     "name": "stderr",
     "output_type": "stream",
     "text": [
      "C:\\Users\\Luca Visser\\AppData\\Roaming\\Python\\Python310\\site-packages\\xgboost\\sklearn.py:885: UserWarning: `eval_metric` in `fit` method is deprecated for better compatibility with scikit-learn, use `eval_metric` in constructor or`set_params` instead.\n",
      "  warnings.warn(\n",
      "\n",
      "C:\\Users\\Luca Visser\\AppData\\Roaming\\Python\\Python310\\site-packages\\xgboost\\sklearn.py:885: UserWarning: `early_stopping_rounds` in `fit` method is deprecated for better compatibility with scikit-learn, use `early_stopping_rounds` in constructor or`set_params` instead.\n",
      "  warnings.warn(\n",
      "\n",
      "C:\\Users\\Luca Visser\\AppData\\Roaming\\Python\\Python310\\site-packages\\xgboost\\core.py:160: UserWarning: [11:12:24] WARNING: C:\\buildkite-agent\\builds\\buildkite-windows-cpu-autoscaling-group-i-0cec3277c4d9d0165-1\\xgboost\\xgboost-ci-windows\\src\\metric\\auc.cc:320: Dataset is empty, or contains only positive or negative samples.\n",
      "  warnings.warn(smsg, UserWarning)\n",
      "\n",
      "C:\\Users\\Luca Visser\\AppData\\Roaming\\Python\\Python310\\site-packages\\xgboost\\sklearn.py:885: UserWarning: `eval_metric` in `fit` method is deprecated for better compatibility with scikit-learn, use `eval_metric` in constructor or`set_params` instead.\n",
      "  warnings.warn(\n",
      "\n",
      "C:\\Users\\Luca Visser\\AppData\\Roaming\\Python\\Python310\\site-packages\\xgboost\\sklearn.py:885: UserWarning: `early_stopping_rounds` in `fit` method is deprecated for better compatibility with scikit-learn, use `early_stopping_rounds` in constructor or`set_params` instead.\n",
      "  warnings.warn(\n",
      "\n",
      "C:\\Users\\Luca Visser\\AppData\\Roaming\\Python\\Python310\\site-packages\\xgboost\\core.py:160: UserWarning: [11:12:24] WARNING: C:\\buildkite-agent\\builds\\buildkite-windows-cpu-autoscaling-group-i-0cec3277c4d9d0165-1\\xgboost\\xgboost-ci-windows\\src\\metric\\auc.cc:320: Dataset is empty, or contains only positive or negative samples.\n",
      "  warnings.warn(smsg, UserWarning)\n",
      "\n",
      "C:\\Users\\Luca Visser\\AppData\\Roaming\\Python\\Python310\\site-packages\\xgboost\\core.py:160: UserWarning: [11:12:25] WARNING: C:\\buildkite-agent\\builds\\buildkite-windows-cpu-autoscaling-group-i-0cec3277c4d9d0165-1\\xgboost\\xgboost-ci-windows\\src\\metric\\auc.cc:320: Dataset is empty, or contains only positive or negative samples.\n",
      "  warnings.warn(smsg, UserWarning)\n",
      "\n"
     ]
    },
    {
     "name": "stdout",
     "output_type": "stream",
     "text": [
      " 46%|████▌     | 46/100 [00:05<00:06,  8.86trial/s, best loss: -0.0]"
     ]
    },
    {
     "name": "stderr",
     "output_type": "stream",
     "text": [
      "C:\\Users\\Luca Visser\\AppData\\Roaming\\Python\\Python310\\site-packages\\xgboost\\sklearn.py:885: UserWarning: `eval_metric` in `fit` method is deprecated for better compatibility with scikit-learn, use `eval_metric` in constructor or`set_params` instead.\n",
      "  warnings.warn(\n",
      "\n",
      "C:\\Users\\Luca Visser\\AppData\\Roaming\\Python\\Python310\\site-packages\\xgboost\\sklearn.py:885: UserWarning: `early_stopping_rounds` in `fit` method is deprecated for better compatibility with scikit-learn, use `early_stopping_rounds` in constructor or`set_params` instead.\n",
      "  warnings.warn(\n",
      "\n",
      "C:\\Users\\Luca Visser\\AppData\\Roaming\\Python\\Python310\\site-packages\\xgboost\\core.py:160: UserWarning: [11:12:25] WARNING: C:\\buildkite-agent\\builds\\buildkite-windows-cpu-autoscaling-group-i-0cec3277c4d9d0165-1\\xgboost\\xgboost-ci-windows\\src\\metric\\auc.cc:320: Dataset is empty, or contains only positive or negative samples.\n",
      "  warnings.warn(smsg, UserWarning)\n",
      "\n",
      "C:\\Users\\Luca Visser\\AppData\\Roaming\\Python\\Python310\\site-packages\\xgboost\\sklearn.py:885: UserWarning: `eval_metric` in `fit` method is deprecated for better compatibility with scikit-learn, use `eval_metric` in constructor or`set_params` instead.\n",
      "  warnings.warn(\n",
      "\n",
      "C:\\Users\\Luca Visser\\AppData\\Roaming\\Python\\Python310\\site-packages\\xgboost\\sklearn.py:885: UserWarning: `early_stopping_rounds` in `fit` method is deprecated for better compatibility with scikit-learn, use `early_stopping_rounds` in constructor or`set_params` instead.\n",
      "  warnings.warn(\n",
      "\n",
      "C:\\Users\\Luca Visser\\AppData\\Roaming\\Python\\Python310\\site-packages\\xgboost\\core.py:160: UserWarning: [11:12:25] WARNING: C:\\buildkite-agent\\builds\\buildkite-windows-cpu-autoscaling-group-i-0cec3277c4d9d0165-1\\xgboost\\xgboost-ci-windows\\src\\metric\\auc.cc:320: Dataset is empty, or contains only positive or negative samples.\n",
      "  warnings.warn(smsg, UserWarning)\n",
      "\n"
     ]
    },
    {
     "name": "stdout",
     "output_type": "stream",
     "text": [
      " 48%|████▊     | 48/100 [00:05<00:05,  8.77trial/s, best loss: -0.0]"
     ]
    },
    {
     "name": "stderr",
     "output_type": "stream",
     "text": [
      "C:\\Users\\Luca Visser\\AppData\\Roaming\\Python\\Python310\\site-packages\\xgboost\\sklearn.py:885: UserWarning: `eval_metric` in `fit` method is deprecated for better compatibility with scikit-learn, use `eval_metric` in constructor or`set_params` instead.\n",
      "  warnings.warn(\n",
      "\n",
      "C:\\Users\\Luca Visser\\AppData\\Roaming\\Python\\Python310\\site-packages\\xgboost\\sklearn.py:885: UserWarning: `early_stopping_rounds` in `fit` method is deprecated for better compatibility with scikit-learn, use `early_stopping_rounds` in constructor or`set_params` instead.\n",
      "  warnings.warn(\n",
      "\n",
      "C:\\Users\\Luca Visser\\AppData\\Roaming\\Python\\Python310\\site-packages\\xgboost\\core.py:160: UserWarning: [11:12:25] WARNING: C:\\buildkite-agent\\builds\\buildkite-windows-cpu-autoscaling-group-i-0cec3277c4d9d0165-1\\xgboost\\xgboost-ci-windows\\src\\metric\\auc.cc:320: Dataset is empty, or contains only positive or negative samples.\n",
      "  warnings.warn(smsg, UserWarning)\n",
      "\n",
      "C:\\Users\\Luca Visser\\AppData\\Roaming\\Python\\Python310\\site-packages\\xgboost\\sklearn.py:885: UserWarning: `eval_metric` in `fit` method is deprecated for better compatibility with scikit-learn, use `eval_metric` in constructor or`set_params` instead.\n",
      "  warnings.warn(\n",
      "\n",
      "C:\\Users\\Luca Visser\\AppData\\Roaming\\Python\\Python310\\site-packages\\xgboost\\sklearn.py:885: UserWarning: `early_stopping_rounds` in `fit` method is deprecated for better compatibility with scikit-learn, use `early_stopping_rounds` in constructor or`set_params` instead.\n",
      "  warnings.warn(\n",
      "\n",
      "C:\\Users\\Luca Visser\\AppData\\Roaming\\Python\\Python310\\site-packages\\xgboost\\core.py:160: UserWarning: [11:12:25] WARNING: C:\\buildkite-agent\\builds\\buildkite-windows-cpu-autoscaling-group-i-0cec3277c4d9d0165-1\\xgboost\\xgboost-ci-windows\\src\\metric\\auc.cc:320: Dataset is empty, or contains only positive or negative samples.\n",
      "  warnings.warn(smsg, UserWarning)\n",
      "\n"
     ]
    },
    {
     "name": "stdout",
     "output_type": "stream",
     "text": [
      " 50%|█████     | 50/100 [00:06<00:05,  8.71trial/s, best loss: -0.0]"
     ]
    },
    {
     "name": "stderr",
     "output_type": "stream",
     "text": [
      "C:\\Users\\Luca Visser\\AppData\\Roaming\\Python\\Python310\\site-packages\\xgboost\\sklearn.py:885: UserWarning: `eval_metric` in `fit` method is deprecated for better compatibility with scikit-learn, use `eval_metric` in constructor or`set_params` instead.\n",
      "  warnings.warn(\n",
      "\n",
      "C:\\Users\\Luca Visser\\AppData\\Roaming\\Python\\Python310\\site-packages\\xgboost\\sklearn.py:885: UserWarning: `early_stopping_rounds` in `fit` method is deprecated for better compatibility with scikit-learn, use `early_stopping_rounds` in constructor or`set_params` instead.\n",
      "  warnings.warn(\n",
      "\n",
      "C:\\Users\\Luca Visser\\AppData\\Roaming\\Python\\Python310\\site-packages\\xgboost\\core.py:160: UserWarning: [11:12:25] WARNING: C:\\buildkite-agent\\builds\\buildkite-windows-cpu-autoscaling-group-i-0cec3277c4d9d0165-1\\xgboost\\xgboost-ci-windows\\src\\metric\\auc.cc:320: Dataset is empty, or contains only positive or negative samples.\n",
      "  warnings.warn(smsg, UserWarning)\n",
      "\n",
      "C:\\Users\\Luca Visser\\AppData\\Roaming\\Python\\Python310\\site-packages\\xgboost\\sklearn.py:885: UserWarning: `eval_metric` in `fit` method is deprecated for better compatibility with scikit-learn, use `eval_metric` in constructor or`set_params` instead.\n",
      "  warnings.warn(\n",
      "\n",
      "C:\\Users\\Luca Visser\\AppData\\Roaming\\Python\\Python310\\site-packages\\xgboost\\sklearn.py:885: UserWarning: `early_stopping_rounds` in `fit` method is deprecated for better compatibility with scikit-learn, use `early_stopping_rounds` in constructor or`set_params` instead.\n",
      "  warnings.warn(\n",
      "\n",
      "C:\\Users\\Luca Visser\\AppData\\Roaming\\Python\\Python310\\site-packages\\xgboost\\core.py:160: UserWarning: [11:12:25] WARNING: C:\\buildkite-agent\\builds\\buildkite-windows-cpu-autoscaling-group-i-0cec3277c4d9d0165-1\\xgboost\\xgboost-ci-windows\\src\\metric\\auc.cc:320: Dataset is empty, or contains only positive or negative samples.\n",
      "  warnings.warn(smsg, UserWarning)\n",
      "\n"
     ]
    },
    {
     "name": "stdout",
     "output_type": "stream",
     "text": [
      " 51%|█████     | 51/100 [00:06<00:06,  7.34trial/s, best loss: -0.0]"
     ]
    },
    {
     "name": "stderr",
     "output_type": "stream",
     "text": [
      "C:\\Users\\Luca Visser\\AppData\\Roaming\\Python\\Python310\\site-packages\\xgboost\\sklearn.py:885: UserWarning: `eval_metric` in `fit` method is deprecated for better compatibility with scikit-learn, use `eval_metric` in constructor or`set_params` instead.\n",
      "  warnings.warn(\n",
      "\n",
      "C:\\Users\\Luca Visser\\AppData\\Roaming\\Python\\Python310\\site-packages\\xgboost\\sklearn.py:885: UserWarning: `early_stopping_rounds` in `fit` method is deprecated for better compatibility with scikit-learn, use `early_stopping_rounds` in constructor or`set_params` instead.\n",
      "  warnings.warn(\n",
      "\n",
      "C:\\Users\\Luca Visser\\AppData\\Roaming\\Python\\Python310\\site-packages\\xgboost\\core.py:160: UserWarning: [11:12:25] WARNING: C:\\buildkite-agent\\builds\\buildkite-windows-cpu-autoscaling-group-i-0cec3277c4d9d0165-1\\xgboost\\xgboost-ci-windows\\src\\metric\\auc.cc:320: Dataset is empty, or contains only positive or negative samples.\n",
      "  warnings.warn(smsg, UserWarning)\n",
      "\n",
      "C:\\Users\\Luca Visser\\AppData\\Roaming\\Python\\Python310\\site-packages\\xgboost\\sklearn.py:885: UserWarning: `eval_metric` in `fit` method is deprecated for better compatibility with scikit-learn, use `eval_metric` in constructor or`set_params` instead.\n",
      "  warnings.warn(\n",
      "\n",
      "C:\\Users\\Luca Visser\\AppData\\Roaming\\Python\\Python310\\site-packages\\xgboost\\sklearn.py:885: UserWarning: `early_stopping_rounds` in `fit` method is deprecated for better compatibility with scikit-learn, use `early_stopping_rounds` in constructor or`set_params` instead.\n",
      "  warnings.warn(\n",
      "\n",
      "C:\\Users\\Luca Visser\\AppData\\Roaming\\Python\\Python310\\site-packages\\xgboost\\core.py:160: UserWarning: [11:12:25] WARNING: C:\\buildkite-agent\\builds\\buildkite-windows-cpu-autoscaling-group-i-0cec3277c4d9d0165-1\\xgboost\\xgboost-ci-windows\\src\\metric\\auc.cc:320: Dataset is empty, or contains only positive or negative samples.\n",
      "  warnings.warn(smsg, UserWarning)\n"
     ]
    },
    {
     "name": "stdout",
     "output_type": "stream",
     "text": [
      " 53%|█████▎    | 53/100 [00:06<00:05,  7.88trial/s, best loss: -0.0]"
     ]
    },
    {
     "name": "stderr",
     "output_type": "stream",
     "text": [
      "\n",
      "C:\\Users\\Luca Visser\\AppData\\Roaming\\Python\\Python310\\site-packages\\xgboost\\core.py:160: UserWarning: [11:12:26] WARNING: C:\\buildkite-agent\\builds\\buildkite-windows-cpu-autoscaling-group-i-0cec3277c4d9d0165-1\\xgboost\\xgboost-ci-windows\\src\\metric\\auc.cc:320: Dataset is empty, or contains only positive or negative samples.\n",
      "  warnings.warn(smsg, UserWarning)\n",
      "\n",
      "C:\\Users\\Luca Visser\\AppData\\Roaming\\Python\\Python310\\site-packages\\xgboost\\sklearn.py:885: UserWarning: `eval_metric` in `fit` method is deprecated for better compatibility with scikit-learn, use `eval_metric` in constructor or`set_params` instead.\n",
      "  warnings.warn(\n",
      "\n",
      "C:\\Users\\Luca Visser\\AppData\\Roaming\\Python\\Python310\\site-packages\\xgboost\\sklearn.py:885: UserWarning: `early_stopping_rounds` in `fit` method is deprecated for better compatibility with scikit-learn, use `early_stopping_rounds` in constructor or`set_params` instead.\n",
      "  warnings.warn(\n",
      "\n",
      "C:\\Users\\Luca Visser\\AppData\\Roaming\\Python\\Python310\\site-packages\\xgboost\\core.py:160: UserWarning: [11:12:26] WARNING: C:\\buildkite-agent\\builds\\buildkite-windows-cpu-autoscaling-group-i-0cec3277c4d9d0165-1\\xgboost\\xgboost-ci-windows\\src\\metric\\auc.cc:320: Dataset is empty, or contains only positive or negative samples.\n",
      "  warnings.warn(smsg, UserWarning)\n",
      "\n"
     ]
    },
    {
     "name": "stdout",
     "output_type": "stream",
     "text": [
      " 55%|█████▌    | 55/100 [00:06<00:05,  8.09trial/s, best loss: -0.0]"
     ]
    },
    {
     "name": "stderr",
     "output_type": "stream",
     "text": [
      "C:\\Users\\Luca Visser\\AppData\\Roaming\\Python\\Python310\\site-packages\\xgboost\\sklearn.py:885: UserWarning: `eval_metric` in `fit` method is deprecated for better compatibility with scikit-learn, use `eval_metric` in constructor or`set_params` instead.\n",
      "  warnings.warn(\n",
      "\n",
      "C:\\Users\\Luca Visser\\AppData\\Roaming\\Python\\Python310\\site-packages\\xgboost\\sklearn.py:885: UserWarning: `early_stopping_rounds` in `fit` method is deprecated for better compatibility with scikit-learn, use `early_stopping_rounds` in constructor or`set_params` instead.\n",
      "  warnings.warn(\n",
      "\n",
      "C:\\Users\\Luca Visser\\AppData\\Roaming\\Python\\Python310\\site-packages\\xgboost\\core.py:160: UserWarning: [11:12:26] WARNING: C:\\buildkite-agent\\builds\\buildkite-windows-cpu-autoscaling-group-i-0cec3277c4d9d0165-1\\xgboost\\xgboost-ci-windows\\src\\metric\\auc.cc:320: Dataset is empty, or contains only positive or negative samples.\n",
      "  warnings.warn(smsg, UserWarning)\n",
      "\n",
      "C:\\Users\\Luca Visser\\AppData\\Roaming\\Python\\Python310\\site-packages\\xgboost\\sklearn.py:885: UserWarning: `eval_metric` in `fit` method is deprecated for better compatibility with scikit-learn, use `eval_metric` in constructor or`set_params` instead.\n",
      "  warnings.warn(\n",
      "\n",
      "C:\\Users\\Luca Visser\\AppData\\Roaming\\Python\\Python310\\site-packages\\xgboost\\sklearn.py:885: UserWarning: `early_stopping_rounds` in `fit` method is deprecated for better compatibility with scikit-learn, use `early_stopping_rounds` in constructor or`set_params` instead.\n",
      "  warnings.warn(\n",
      "\n",
      "C:\\Users\\Luca Visser\\AppData\\Roaming\\Python\\Python310\\site-packages\\xgboost\\core.py:160: UserWarning: [11:12:26] WARNING: C:\\buildkite-agent\\builds\\buildkite-windows-cpu-autoscaling-group-i-0cec3277c4d9d0165-1\\xgboost\\xgboost-ci-windows\\src\\metric\\auc.cc:320: Dataset is empty, or contains only positive or negative samples.\n",
      "  warnings.warn(smsg, UserWarning)\n",
      "\n"
     ]
    },
    {
     "name": "stdout",
     "output_type": "stream",
     "text": [
      " 57%|█████▋    | 57/100 [00:06<00:05,  8.03trial/s, best loss: -0.0]"
     ]
    },
    {
     "name": "stderr",
     "output_type": "stream",
     "text": [
      "C:\\Users\\Luca Visser\\AppData\\Roaming\\Python\\Python310\\site-packages\\xgboost\\sklearn.py:885: UserWarning: `eval_metric` in `fit` method is deprecated for better compatibility with scikit-learn, use `eval_metric` in constructor or`set_params` instead.\n",
      "  warnings.warn(\n",
      "\n",
      "C:\\Users\\Luca Visser\\AppData\\Roaming\\Python\\Python310\\site-packages\\xgboost\\sklearn.py:885: UserWarning: `early_stopping_rounds` in `fit` method is deprecated for better compatibility with scikit-learn, use `early_stopping_rounds` in constructor or`set_params` instead.\n",
      "  warnings.warn(\n",
      "\n",
      "C:\\Users\\Luca Visser\\AppData\\Roaming\\Python\\Python310\\site-packages\\xgboost\\core.py:160: UserWarning: [11:12:26] WARNING: C:\\buildkite-agent\\builds\\buildkite-windows-cpu-autoscaling-group-i-0cec3277c4d9d0165-1\\xgboost\\xgboost-ci-windows\\src\\metric\\auc.cc:320: Dataset is empty, or contains only positive or negative samples.\n",
      "  warnings.warn(smsg, UserWarning)\n",
      "\n",
      "C:\\Users\\Luca Visser\\AppData\\Roaming\\Python\\Python310\\site-packages\\xgboost\\sklearn.py:885: UserWarning: `eval_metric` in `fit` method is deprecated for better compatibility with scikit-learn, use `eval_metric` in constructor or`set_params` instead.\n",
      "  warnings.warn(\n",
      "\n",
      "C:\\Users\\Luca Visser\\AppData\\Roaming\\Python\\Python310\\site-packages\\xgboost\\sklearn.py:885: UserWarning: `early_stopping_rounds` in `fit` method is deprecated for better compatibility with scikit-learn, use `early_stopping_rounds` in constructor or`set_params` instead.\n",
      "  warnings.warn(\n",
      "\n",
      "C:\\Users\\Luca Visser\\AppData\\Roaming\\Python\\Python310\\site-packages\\xgboost\\core.py:160: UserWarning: [11:12:26] WARNING: C:\\buildkite-agent\\builds\\buildkite-windows-cpu-autoscaling-group-i-0cec3277c4d9d0165-1\\xgboost\\xgboost-ci-windows\\src\\metric\\auc.cc:320: Dataset is empty, or contains only positive or negative samples.\n",
      "  warnings.warn(smsg, UserWarning)\n",
      "\n"
     ]
    },
    {
     "name": "stdout",
     "output_type": "stream",
     "text": [
      " 59%|█████▉    | 59/100 [00:07<00:05,  8.14trial/s, best loss: -0.0]"
     ]
    },
    {
     "name": "stderr",
     "output_type": "stream",
     "text": [
      "C:\\Users\\Luca Visser\\AppData\\Roaming\\Python\\Python310\\site-packages\\xgboost\\sklearn.py:885: UserWarning: `eval_metric` in `fit` method is deprecated for better compatibility with scikit-learn, use `eval_metric` in constructor or`set_params` instead.\n",
      "  warnings.warn(\n",
      "\n",
      "C:\\Users\\Luca Visser\\AppData\\Roaming\\Python\\Python310\\site-packages\\xgboost\\sklearn.py:885: UserWarning: `early_stopping_rounds` in `fit` method is deprecated for better compatibility with scikit-learn, use `early_stopping_rounds` in constructor or`set_params` instead.\n",
      "  warnings.warn(\n",
      "\n",
      "C:\\Users\\Luca Visser\\AppData\\Roaming\\Python\\Python310\\site-packages\\xgboost\\core.py:160: UserWarning: [11:12:26] WARNING: C:\\buildkite-agent\\builds\\buildkite-windows-cpu-autoscaling-group-i-0cec3277c4d9d0165-1\\xgboost\\xgboost-ci-windows\\src\\metric\\auc.cc:320: Dataset is empty, or contains only positive or negative samples.\n",
      "  warnings.warn(smsg, UserWarning)\n",
      "\n",
      "C:\\Users\\Luca Visser\\AppData\\Roaming\\Python\\Python310\\site-packages\\xgboost\\sklearn.py:885: UserWarning: `eval_metric` in `fit` method is deprecated for better compatibility with scikit-learn, use `eval_metric` in constructor or`set_params` instead.\n",
      "  warnings.warn(\n",
      "\n",
      "C:\\Users\\Luca Visser\\AppData\\Roaming\\Python\\Python310\\site-packages\\xgboost\\sklearn.py:885: UserWarning: `early_stopping_rounds` in `fit` method is deprecated for better compatibility with scikit-learn, use `early_stopping_rounds` in constructor or`set_params` instead.\n",
      "  warnings.warn(\n",
      "\n",
      "C:\\Users\\Luca Visser\\AppData\\Roaming\\Python\\Python310\\site-packages\\xgboost\\core.py:160: UserWarning: [11:12:26] WARNING: C:\\buildkite-agent\\builds\\buildkite-windows-cpu-autoscaling-group-i-0cec3277c4d9d0165-1\\xgboost\\xgboost-ci-windows\\src\\metric\\auc.cc:320: Dataset is empty, or contains only positive or negative samples.\n",
      "  warnings.warn(smsg, UserWarning)\n",
      "\n"
     ]
    },
    {
     "name": "stdout",
     "output_type": "stream",
     "text": [
      " 61%|██████    | 61/100 [00:07<00:04,  8.18trial/s, best loss: -0.0]"
     ]
    },
    {
     "name": "stderr",
     "output_type": "stream",
     "text": [
      "C:\\Users\\Luca Visser\\AppData\\Roaming\\Python\\Python310\\site-packages\\xgboost\\sklearn.py:885: UserWarning: `eval_metric` in `fit` method is deprecated for better compatibility with scikit-learn, use `eval_metric` in constructor or`set_params` instead.\n",
      "  warnings.warn(\n",
      "\n",
      "C:\\Users\\Luca Visser\\AppData\\Roaming\\Python\\Python310\\site-packages\\xgboost\\sklearn.py:885: UserWarning: `early_stopping_rounds` in `fit` method is deprecated for better compatibility with scikit-learn, use `early_stopping_rounds` in constructor or`set_params` instead.\n",
      "  warnings.warn(\n",
      "\n",
      "C:\\Users\\Luca Visser\\AppData\\Roaming\\Python\\Python310\\site-packages\\xgboost\\core.py:160: UserWarning: [11:12:26] WARNING: C:\\buildkite-agent\\builds\\buildkite-windows-cpu-autoscaling-group-i-0cec3277c4d9d0165-1\\xgboost\\xgboost-ci-windows\\src\\metric\\auc.cc:320: Dataset is empty, or contains only positive or negative samples.\n",
      "  warnings.warn(smsg, UserWarning)\n",
      "\n",
      "C:\\Users\\Luca Visser\\AppData\\Roaming\\Python\\Python310\\site-packages\\xgboost\\sklearn.py:885: UserWarning: `eval_metric` in `fit` method is deprecated for better compatibility with scikit-learn, use `eval_metric` in constructor or`set_params` instead.\n",
      "  warnings.warn(\n",
      "\n",
      "C:\\Users\\Luca Visser\\AppData\\Roaming\\Python\\Python310\\site-packages\\xgboost\\sklearn.py:885: UserWarning: `early_stopping_rounds` in `fit` method is deprecated for better compatibility with scikit-learn, use `early_stopping_rounds` in constructor or`set_params` instead.\n",
      "  warnings.warn(\n",
      "\n",
      "C:\\Users\\Luca Visser\\AppData\\Roaming\\Python\\Python310\\site-packages\\xgboost\\core.py:160: UserWarning: [11:12:27] WARNING: C:\\buildkite-agent\\builds\\buildkite-windows-cpu-autoscaling-group-i-0cec3277c4d9d0165-1\\xgboost\\xgboost-ci-windows\\src\\metric\\auc.cc:320: Dataset is empty, or contains only positive or negative samples.\n",
      "  warnings.warn(smsg, UserWarning)\n",
      "\n"
     ]
    },
    {
     "name": "stdout",
     "output_type": "stream",
     "text": [
      " 63%|██████▎   | 63/100 [00:07<00:04,  8.12trial/s, best loss: -0.0]"
     ]
    },
    {
     "name": "stderr",
     "output_type": "stream",
     "text": [
      "C:\\Users\\Luca Visser\\AppData\\Roaming\\Python\\Python310\\site-packages\\xgboost\\sklearn.py:885: UserWarning: `eval_metric` in `fit` method is deprecated for better compatibility with scikit-learn, use `eval_metric` in constructor or`set_params` instead.\n",
      "  warnings.warn(\n",
      "\n",
      "C:\\Users\\Luca Visser\\AppData\\Roaming\\Python\\Python310\\site-packages\\xgboost\\sklearn.py:885: UserWarning: `early_stopping_rounds` in `fit` method is deprecated for better compatibility with scikit-learn, use `early_stopping_rounds` in constructor or`set_params` instead.\n",
      "  warnings.warn(\n",
      "\n",
      "C:\\Users\\Luca Visser\\AppData\\Roaming\\Python\\Python310\\site-packages\\xgboost\\core.py:160: UserWarning: [11:12:27] WARNING: C:\\buildkite-agent\\builds\\buildkite-windows-cpu-autoscaling-group-i-0cec3277c4d9d0165-1\\xgboost\\xgboost-ci-windows\\src\\metric\\auc.cc:320: Dataset is empty, or contains only positive or negative samples.\n",
      "  warnings.warn(smsg, UserWarning)\n",
      "\n",
      "C:\\Users\\Luca Visser\\AppData\\Roaming\\Python\\Python310\\site-packages\\xgboost\\sklearn.py:885: UserWarning: `eval_metric` in `fit` method is deprecated for better compatibility with scikit-learn, use `eval_metric` in constructor or`set_params` instead.\n",
      "  warnings.warn(\n",
      "\n",
      "C:\\Users\\Luca Visser\\AppData\\Roaming\\Python\\Python310\\site-packages\\xgboost\\sklearn.py:885: UserWarning: `early_stopping_rounds` in `fit` method is deprecated for better compatibility with scikit-learn, use `early_stopping_rounds` in constructor or`set_params` instead.\n",
      "  warnings.warn(\n",
      "\n",
      "C:\\Users\\Luca Visser\\AppData\\Roaming\\Python\\Python310\\site-packages\\xgboost\\core.py:160: UserWarning: [11:12:27] WARNING: C:\\buildkite-agent\\builds\\buildkite-windows-cpu-autoscaling-group-i-0cec3277c4d9d0165-1\\xgboost\\xgboost-ci-windows\\src\\metric\\auc.cc:320: Dataset is empty, or contains only positive or negative samples.\n",
      "  warnings.warn(smsg, UserWarning)\n",
      "\n"
     ]
    },
    {
     "name": "stdout",
     "output_type": "stream",
     "text": [
      " 65%|██████▌   | 65/100 [00:07<00:04,  8.00trial/s, best loss: -0.0]"
     ]
    },
    {
     "name": "stderr",
     "output_type": "stream",
     "text": [
      "C:\\Users\\Luca Visser\\AppData\\Roaming\\Python\\Python310\\site-packages\\xgboost\\sklearn.py:885: UserWarning: `eval_metric` in `fit` method is deprecated for better compatibility with scikit-learn, use `eval_metric` in constructor or`set_params` instead.\n",
      "  warnings.warn(\n",
      "\n",
      "C:\\Users\\Luca Visser\\AppData\\Roaming\\Python\\Python310\\site-packages\\xgboost\\sklearn.py:885: UserWarning: `early_stopping_rounds` in `fit` method is deprecated for better compatibility with scikit-learn, use `early_stopping_rounds` in constructor or`set_params` instead.\n",
      "  warnings.warn(\n",
      "\n",
      "C:\\Users\\Luca Visser\\AppData\\Roaming\\Python\\Python310\\site-packages\\xgboost\\core.py:160: UserWarning: [11:12:27] WARNING: C:\\buildkite-agent\\builds\\buildkite-windows-cpu-autoscaling-group-i-0cec3277c4d9d0165-1\\xgboost\\xgboost-ci-windows\\src\\metric\\auc.cc:320: Dataset is empty, or contains only positive or negative samples.\n",
      "  warnings.warn(smsg, UserWarning)\n",
      "\n",
      "C:\\Users\\Luca Visser\\AppData\\Roaming\\Python\\Python310\\site-packages\\xgboost\\sklearn.py:885: UserWarning: `eval_metric` in `fit` method is deprecated for better compatibility with scikit-learn, use `eval_metric` in constructor or`set_params` instead.\n",
      "  warnings.warn(\n",
      "\n",
      "C:\\Users\\Luca Visser\\AppData\\Roaming\\Python\\Python310\\site-packages\\xgboost\\sklearn.py:885: UserWarning: `early_stopping_rounds` in `fit` method is deprecated for better compatibility with scikit-learn, use `early_stopping_rounds` in constructor or`set_params` instead.\n",
      "  warnings.warn(\n",
      "\n",
      "C:\\Users\\Luca Visser\\AppData\\Roaming\\Python\\Python310\\site-packages\\xgboost\\core.py:160: UserWarning: [11:12:27] WARNING: C:\\buildkite-agent\\builds\\buildkite-windows-cpu-autoscaling-group-i-0cec3277c4d9d0165-1\\xgboost\\xgboost-ci-windows\\src\\metric\\auc.cc:320: Dataset is empty, or contains only positive or negative samples.\n",
      "  warnings.warn(smsg, UserWarning)\n",
      "\n"
     ]
    },
    {
     "name": "stdout",
     "output_type": "stream",
     "text": [
      " 67%|██████▋   | 67/100 [00:08<00:04,  7.94trial/s, best loss: -0.0]"
     ]
    },
    {
     "name": "stderr",
     "output_type": "stream",
     "text": [
      "C:\\Users\\Luca Visser\\AppData\\Roaming\\Python\\Python310\\site-packages\\xgboost\\sklearn.py:885: UserWarning: `eval_metric` in `fit` method is deprecated for better compatibility with scikit-learn, use `eval_metric` in constructor or`set_params` instead.\n",
      "  warnings.warn(\n",
      "\n",
      "C:\\Users\\Luca Visser\\AppData\\Roaming\\Python\\Python310\\site-packages\\xgboost\\sklearn.py:885: UserWarning: `early_stopping_rounds` in `fit` method is deprecated for better compatibility with scikit-learn, use `early_stopping_rounds` in constructor or`set_params` instead.\n",
      "  warnings.warn(\n",
      "\n",
      "C:\\Users\\Luca Visser\\AppData\\Roaming\\Python\\Python310\\site-packages\\xgboost\\core.py:160: UserWarning: [11:12:27] WARNING: C:\\buildkite-agent\\builds\\buildkite-windows-cpu-autoscaling-group-i-0cec3277c4d9d0165-1\\xgboost\\xgboost-ci-windows\\src\\metric\\auc.cc:320: Dataset is empty, or contains only positive or negative samples.\n",
      "  warnings.warn(smsg, UserWarning)\n",
      "\n",
      "C:\\Users\\Luca Visser\\AppData\\Roaming\\Python\\Python310\\site-packages\\xgboost\\sklearn.py:885: UserWarning: `eval_metric` in `fit` method is deprecated for better compatibility with scikit-learn, use `eval_metric` in constructor or`set_params` instead.\n",
      "  warnings.warn(\n",
      "\n",
      "C:\\Users\\Luca Visser\\AppData\\Roaming\\Python\\Python310\\site-packages\\xgboost\\sklearn.py:885: UserWarning: `early_stopping_rounds` in `fit` method is deprecated for better compatibility with scikit-learn, use `early_stopping_rounds` in constructor or`set_params` instead.\n",
      "  warnings.warn(\n",
      "\n",
      "C:\\Users\\Luca Visser\\AppData\\Roaming\\Python\\Python310\\site-packages\\xgboost\\core.py:160: UserWarning: [11:12:27] WARNING: C:\\buildkite-agent\\builds\\buildkite-windows-cpu-autoscaling-group-i-0cec3277c4d9d0165-1\\xgboost\\xgboost-ci-windows\\src\\metric\\auc.cc:320: Dataset is empty, or contains only positive or negative samples.\n",
      "  warnings.warn(smsg, UserWarning)\n",
      "\n"
     ]
    },
    {
     "name": "stdout",
     "output_type": "stream",
     "text": [
      " 69%|██████▉   | 69/100 [00:08<00:03,  8.03trial/s, best loss: -0.0]"
     ]
    },
    {
     "name": "stderr",
     "output_type": "stream",
     "text": [
      "C:\\Users\\Luca Visser\\AppData\\Roaming\\Python\\Python310\\site-packages\\xgboost\\sklearn.py:885: UserWarning: `eval_metric` in `fit` method is deprecated for better compatibility with scikit-learn, use `eval_metric` in constructor or`set_params` instead.\n",
      "  warnings.warn(\n",
      "\n",
      "C:\\Users\\Luca Visser\\AppData\\Roaming\\Python\\Python310\\site-packages\\xgboost\\sklearn.py:885: UserWarning: `early_stopping_rounds` in `fit` method is deprecated for better compatibility with scikit-learn, use `early_stopping_rounds` in constructor or`set_params` instead.\n",
      "  warnings.warn(\n",
      "\n",
      "C:\\Users\\Luca Visser\\AppData\\Roaming\\Python\\Python310\\site-packages\\xgboost\\core.py:160: UserWarning: [11:12:27] WARNING: C:\\buildkite-agent\\builds\\buildkite-windows-cpu-autoscaling-group-i-0cec3277c4d9d0165-1\\xgboost\\xgboost-ci-windows\\src\\metric\\auc.cc:320: Dataset is empty, or contains only positive or negative samples.\n",
      "  warnings.warn(smsg, UserWarning)\n",
      "\n",
      "C:\\Users\\Luca Visser\\AppData\\Roaming\\Python\\Python310\\site-packages\\xgboost\\sklearn.py:885: UserWarning: `eval_metric` in `fit` method is deprecated for better compatibility with scikit-learn, use `eval_metric` in constructor or`set_params` instead.\n",
      "  warnings.warn(\n",
      "\n",
      "C:\\Users\\Luca Visser\\AppData\\Roaming\\Python\\Python310\\site-packages\\xgboost\\sklearn.py:885: UserWarning: `early_stopping_rounds` in `fit` method is deprecated for better compatibility with scikit-learn, use `early_stopping_rounds` in constructor or`set_params` instead.\n",
      "  warnings.warn(\n",
      "\n",
      "C:\\Users\\Luca Visser\\AppData\\Roaming\\Python\\Python310\\site-packages\\xgboost\\core.py:160: UserWarning: [11:12:28] WARNING: C:\\buildkite-agent\\builds\\buildkite-windows-cpu-autoscaling-group-i-0cec3277c4d9d0165-1\\xgboost\\xgboost-ci-windows\\src\\metric\\auc.cc:320: Dataset is empty, or contains only positive or negative samples.\n",
      "  warnings.warn(smsg, UserWarning)\n",
      "\n"
     ]
    },
    {
     "name": "stdout",
     "output_type": "stream",
     "text": [
      " 70%|███████   | 70/100 [00:08<00:03,  7.97trial/s, best loss: -0.0]"
     ]
    },
    {
     "name": "stderr",
     "output_type": "stream",
     "text": [
      "C:\\Users\\Luca Visser\\AppData\\Roaming\\Python\\Python310\\site-packages\\xgboost\\sklearn.py:885: UserWarning: `eval_metric` in `fit` method is deprecated for better compatibility with scikit-learn, use `eval_metric` in constructor or`set_params` instead.\n",
      "  warnings.warn(\n",
      "\n",
      "C:\\Users\\Luca Visser\\AppData\\Roaming\\Python\\Python310\\site-packages\\xgboost\\sklearn.py:885: UserWarning: `early_stopping_rounds` in `fit` method is deprecated for better compatibility with scikit-learn, use `early_stopping_rounds` in constructor or`set_params` instead.\n",
      "  warnings.warn(\n",
      "\n",
      "C:\\Users\\Luca Visser\\AppData\\Roaming\\Python\\Python310\\site-packages\\xgboost\\core.py:160: UserWarning: [11:12:28] WARNING: C:\\buildkite-agent\\builds\\buildkite-windows-cpu-autoscaling-group-i-0cec3277c4d9d0165-1\\xgboost\\xgboost-ci-windows\\src\\metric\\auc.cc:320: Dataset is empty, or contains only positive or negative samples.\n",
      "  warnings.warn(smsg, UserWarning)\n",
      "\n",
      "C:\\Users\\Luca Visser\\AppData\\Roaming\\Python\\Python310\\site-packages\\xgboost\\sklearn.py:885: UserWarning: `eval_metric` in `fit` method is deprecated for better compatibility with scikit-learn, use `eval_metric` in constructor or`set_params` instead.\n",
      "  warnings.warn(\n",
      "\n",
      "C:\\Users\\Luca Visser\\AppData\\Roaming\\Python\\Python310\\site-packages\\xgboost\\sklearn.py:885: UserWarning: `early_stopping_rounds` in `fit` method is deprecated for better compatibility with scikit-learn, use `early_stopping_rounds` in constructor or`set_params` instead.\n",
      "  warnings.warn(\n",
      "\n",
      "C:\\Users\\Luca Visser\\AppData\\Roaming\\Python\\Python310\\site-packages\\xgboost\\core.py:160: UserWarning: [11:12:28] WARNING: C:\\buildkite-agent\\builds\\buildkite-windows-cpu-autoscaling-group-i-0cec3277c4d9d0165-1\\xgboost\\xgboost-ci-windows\\src\\metric\\auc.cc:320: Dataset is empty, or contains only positive or negative samples.\n",
      "  warnings.warn(smsg, UserWarning)\n",
      "\n"
     ]
    },
    {
     "name": "stdout",
     "output_type": "stream",
     "text": [
      " 72%|███████▏  | 72/100 [00:08<00:03,  7.12trial/s, best loss: -0.0]"
     ]
    },
    {
     "name": "stderr",
     "output_type": "stream",
     "text": [
      "C:\\Users\\Luca Visser\\AppData\\Roaming\\Python\\Python310\\site-packages\\xgboost\\sklearn.py:885: UserWarning: `eval_metric` in `fit` method is deprecated for better compatibility with scikit-learn, use `eval_metric` in constructor or`set_params` instead.\n",
      "  warnings.warn(\n",
      "\n",
      "C:\\Users\\Luca Visser\\AppData\\Roaming\\Python\\Python310\\site-packages\\xgboost\\sklearn.py:885: UserWarning: `early_stopping_rounds` in `fit` method is deprecated for better compatibility with scikit-learn, use `early_stopping_rounds` in constructor or`set_params` instead.\n",
      "  warnings.warn(\n",
      "\n",
      "C:\\Users\\Luca Visser\\AppData\\Roaming\\Python\\Python310\\site-packages\\xgboost\\core.py:160: UserWarning: [11:12:28] WARNING: C:\\buildkite-agent\\builds\\buildkite-windows-cpu-autoscaling-group-i-0cec3277c4d9d0165-1\\xgboost\\xgboost-ci-windows\\src\\metric\\auc.cc:320: Dataset is empty, or contains only positive or negative samples.\n",
      "  warnings.warn(smsg, UserWarning)\n",
      "\n",
      "C:\\Users\\Luca Visser\\AppData\\Roaming\\Python\\Python310\\site-packages\\xgboost\\sklearn.py:885: UserWarning: `eval_metric` in `fit` method is deprecated for better compatibility with scikit-learn, use `eval_metric` in constructor or`set_params` instead.\n",
      "  warnings.warn(\n",
      "\n",
      "C:\\Users\\Luca Visser\\AppData\\Roaming\\Python\\Python310\\site-packages\\xgboost\\sklearn.py:885: UserWarning: `early_stopping_rounds` in `fit` method is deprecated for better compatibility with scikit-learn, use `early_stopping_rounds` in constructor or`set_params` instead.\n",
      "  warnings.warn(\n",
      "\n",
      "C:\\Users\\Luca Visser\\AppData\\Roaming\\Python\\Python310\\site-packages\\xgboost\\core.py:160: UserWarning: [11:12:28] WARNING: C:\\buildkite-agent\\builds\\buildkite-windows-cpu-autoscaling-group-i-0cec3277c4d9d0165-1\\xgboost\\xgboost-ci-windows\\src\\metric\\auc.cc:320: Dataset is empty, or contains only positive or negative samples.\n",
      "  warnings.warn(smsg, UserWarning)\n",
      "\n"
     ]
    },
    {
     "name": "stdout",
     "output_type": "stream",
     "text": [
      " 74%|███████▍  | 74/100 [00:09<00:03,  7.13trial/s, best loss: -0.0]"
     ]
    },
    {
     "name": "stderr",
     "output_type": "stream",
     "text": [
      "C:\\Users\\Luca Visser\\AppData\\Roaming\\Python\\Python310\\site-packages\\xgboost\\sklearn.py:885: UserWarning: `eval_metric` in `fit` method is deprecated for better compatibility with scikit-learn, use `eval_metric` in constructor or`set_params` instead.\n",
      "  warnings.warn(\n",
      "\n",
      "C:\\Users\\Luca Visser\\AppData\\Roaming\\Python\\Python310\\site-packages\\xgboost\\sklearn.py:885: UserWarning: `early_stopping_rounds` in `fit` method is deprecated for better compatibility with scikit-learn, use `early_stopping_rounds` in constructor or`set_params` instead.\n",
      "  warnings.warn(\n",
      "\n",
      "C:\\Users\\Luca Visser\\AppData\\Roaming\\Python\\Python310\\site-packages\\xgboost\\core.py:160: UserWarning: [11:12:28] WARNING: C:\\buildkite-agent\\builds\\buildkite-windows-cpu-autoscaling-group-i-0cec3277c4d9d0165-1\\xgboost\\xgboost-ci-windows\\src\\metric\\auc.cc:320: Dataset is empty, or contains only positive or negative samples.\n",
      "  warnings.warn(smsg, UserWarning)\n",
      "\n",
      "C:\\Users\\Luca Visser\\AppData\\Roaming\\Python\\Python310\\site-packages\\xgboost\\sklearn.py:885: UserWarning: `eval_metric` in `fit` method is deprecated for better compatibility with scikit-learn, use `eval_metric` in constructor or`set_params` instead.\n",
      "  warnings.warn(\n",
      "\n",
      "C:\\Users\\Luca Visser\\AppData\\Roaming\\Python\\Python310\\site-packages\\xgboost\\sklearn.py:885: UserWarning: `early_stopping_rounds` in `fit` method is deprecated for better compatibility with scikit-learn, use `early_stopping_rounds` in constructor or`set_params` instead.\n",
      "  warnings.warn(\n",
      "\n",
      "C:\\Users\\Luca Visser\\AppData\\Roaming\\Python\\Python310\\site-packages\\xgboost\\core.py:160: UserWarning: [11:12:28] WARNING: C:\\buildkite-agent\\builds\\buildkite-windows-cpu-autoscaling-group-i-0cec3277c4d9d0165-1\\xgboost\\xgboost-ci-windows\\src\\metric\\auc.cc:320: Dataset is empty, or contains only positive or negative samples.\n",
      "  warnings.warn(smsg, UserWarning)\n",
      "\n"
     ]
    },
    {
     "name": "stdout",
     "output_type": "stream",
     "text": [
      " 77%|███████▋  | 77/100 [00:09<00:03,  7.35trial/s, best loss: -0.0]"
     ]
    },
    {
     "name": "stderr",
     "output_type": "stream",
     "text": [
      "C:\\Users\\Luca Visser\\AppData\\Roaming\\Python\\Python310\\site-packages\\xgboost\\sklearn.py:885: UserWarning: `eval_metric` in `fit` method is deprecated for better compatibility with scikit-learn, use `eval_metric` in constructor or`set_params` instead.\n",
      "  warnings.warn(\n",
      "\n",
      "C:\\Users\\Luca Visser\\AppData\\Roaming\\Python\\Python310\\site-packages\\xgboost\\sklearn.py:885: UserWarning: `early_stopping_rounds` in `fit` method is deprecated for better compatibility with scikit-learn, use `early_stopping_rounds` in constructor or`set_params` instead.\n",
      "  warnings.warn(\n",
      "\n",
      "C:\\Users\\Luca Visser\\AppData\\Roaming\\Python\\Python310\\site-packages\\xgboost\\core.py:160: UserWarning: [11:12:29] WARNING: C:\\buildkite-agent\\builds\\buildkite-windows-cpu-autoscaling-group-i-0cec3277c4d9d0165-1\\xgboost\\xgboost-ci-windows\\src\\metric\\auc.cc:320: Dataset is empty, or contains only positive or negative samples.\n",
      "  warnings.warn(smsg, UserWarning)\n",
      "\n",
      "C:\\Users\\Luca Visser\\AppData\\Roaming\\Python\\Python310\\site-packages\\xgboost\\sklearn.py:885: UserWarning: `eval_metric` in `fit` method is deprecated for better compatibility with scikit-learn, use `eval_metric` in constructor or`set_params` instead.\n",
      "  warnings.warn(\n",
      "\n",
      "C:\\Users\\Luca Visser\\AppData\\Roaming\\Python\\Python310\\site-packages\\xgboost\\sklearn.py:885: UserWarning: `early_stopping_rounds` in `fit` method is deprecated for better compatibility with scikit-learn, use `early_stopping_rounds` in constructor or`set_params` instead.\n",
      "  warnings.warn(\n",
      "\n",
      "C:\\Users\\Luca Visser\\AppData\\Roaming\\Python\\Python310\\site-packages\\xgboost\\core.py:160: UserWarning: [11:12:29] WARNING: C:\\buildkite-agent\\builds\\buildkite-windows-cpu-autoscaling-group-i-0cec3277c4d9d0165-1\\xgboost\\xgboost-ci-windows\\src\\metric\\auc.cc:320: Dataset is empty, or contains only positive or negative samples.\n",
      "  warnings.warn(smsg, UserWarning)\n",
      "\n"
     ]
    },
    {
     "name": "stdout",
     "output_type": "stream",
     "text": [
      " 79%|███████▉  | 79/100 [00:09<00:02,  7.54trial/s, best loss: -0.0]"
     ]
    },
    {
     "name": "stderr",
     "output_type": "stream",
     "text": [
      "C:\\Users\\Luca Visser\\AppData\\Roaming\\Python\\Python310\\site-packages\\xgboost\\sklearn.py:885: UserWarning: `eval_metric` in `fit` method is deprecated for better compatibility with scikit-learn, use `eval_metric` in constructor or`set_params` instead.\n",
      "  warnings.warn(\n",
      "\n",
      "C:\\Users\\Luca Visser\\AppData\\Roaming\\Python\\Python310\\site-packages\\xgboost\\sklearn.py:885: UserWarning: `early_stopping_rounds` in `fit` method is deprecated for better compatibility with scikit-learn, use `early_stopping_rounds` in constructor or`set_params` instead.\n",
      "  warnings.warn(\n",
      "\n",
      "C:\\Users\\Luca Visser\\AppData\\Roaming\\Python\\Python310\\site-packages\\xgboost\\core.py:160: UserWarning: [11:12:29] WARNING: C:\\buildkite-agent\\builds\\buildkite-windows-cpu-autoscaling-group-i-0cec3277c4d9d0165-1\\xgboost\\xgboost-ci-windows\\src\\metric\\auc.cc:320: Dataset is empty, or contains only positive or negative samples.\n",
      "  warnings.warn(smsg, UserWarning)\n",
      "\n",
      "C:\\Users\\Luca Visser\\AppData\\Roaming\\Python\\Python310\\site-packages\\xgboost\\sklearn.py:885: UserWarning: `eval_metric` in `fit` method is deprecated for better compatibility with scikit-learn, use `eval_metric` in constructor or`set_params` instead.\n",
      "  warnings.warn(\n",
      "\n",
      "C:\\Users\\Luca Visser\\AppData\\Roaming\\Python\\Python310\\site-packages\\xgboost\\sklearn.py:885: UserWarning: `early_stopping_rounds` in `fit` method is deprecated for better compatibility with scikit-learn, use `early_stopping_rounds` in constructor or`set_params` instead.\n",
      "  warnings.warn(\n",
      "\n",
      "C:\\Users\\Luca Visser\\AppData\\Roaming\\Python\\Python310\\site-packages\\xgboost\\core.py:160: UserWarning: [11:12:29] WARNING: C:\\buildkite-agent\\builds\\buildkite-windows-cpu-autoscaling-group-i-0cec3277c4d9d0165-1\\xgboost\\xgboost-ci-windows\\src\\metric\\auc.cc:320: Dataset is empty, or contains only positive or negative samples.\n",
      "  warnings.warn(smsg, UserWarning)\n",
      "\n"
     ]
    },
    {
     "name": "stdout",
     "output_type": "stream",
     "text": [
      " 81%|████████  | 81/100 [00:10<00:02,  7.65trial/s, best loss: -0.0]"
     ]
    },
    {
     "name": "stderr",
     "output_type": "stream",
     "text": [
      "C:\\Users\\Luca Visser\\AppData\\Roaming\\Python\\Python310\\site-packages\\xgboost\\sklearn.py:885: UserWarning: `eval_metric` in `fit` method is deprecated for better compatibility with scikit-learn, use `eval_metric` in constructor or`set_params` instead.\n",
      "  warnings.warn(\n",
      "\n",
      "C:\\Users\\Luca Visser\\AppData\\Roaming\\Python\\Python310\\site-packages\\xgboost\\sklearn.py:885: UserWarning: `early_stopping_rounds` in `fit` method is deprecated for better compatibility with scikit-learn, use `early_stopping_rounds` in constructor or`set_params` instead.\n",
      "  warnings.warn(\n",
      "\n",
      "C:\\Users\\Luca Visser\\AppData\\Roaming\\Python\\Python310\\site-packages\\xgboost\\core.py:160: UserWarning: [11:12:29] WARNING: C:\\buildkite-agent\\builds\\buildkite-windows-cpu-autoscaling-group-i-0cec3277c4d9d0165-1\\xgboost\\xgboost-ci-windows\\src\\metric\\auc.cc:320: Dataset is empty, or contains only positive or negative samples.\n",
      "  warnings.warn(smsg, UserWarning)\n",
      "\n",
      "C:\\Users\\Luca Visser\\AppData\\Roaming\\Python\\Python310\\site-packages\\xgboost\\sklearn.py:885: UserWarning: `eval_metric` in `fit` method is deprecated for better compatibility with scikit-learn, use `eval_metric` in constructor or`set_params` instead.\n",
      "  warnings.warn(\n",
      "\n",
      "C:\\Users\\Luca Visser\\AppData\\Roaming\\Python\\Python310\\site-packages\\xgboost\\sklearn.py:885: UserWarning: `early_stopping_rounds` in `fit` method is deprecated for better compatibility with scikit-learn, use `early_stopping_rounds` in constructor or`set_params` instead.\n",
      "  warnings.warn(\n",
      "\n",
      "C:\\Users\\Luca Visser\\AppData\\Roaming\\Python\\Python310\\site-packages\\xgboost\\core.py:160: UserWarning: [11:12:29] WARNING: C:\\buildkite-agent\\builds\\buildkite-windows-cpu-autoscaling-group-i-0cec3277c4d9d0165-1\\xgboost\\xgboost-ci-windows\\src\\metric\\auc.cc:320: Dataset is empty, or contains only positive or negative samples.\n",
      "  warnings.warn(smsg, UserWarning)\n",
      "\n"
     ]
    },
    {
     "name": "stdout",
     "output_type": "stream",
     "text": [
      " 83%|████████▎ | 83/100 [00:10<00:02,  7.42trial/s, best loss: -0.0]"
     ]
    },
    {
     "name": "stderr",
     "output_type": "stream",
     "text": [
      "C:\\Users\\Luca Visser\\AppData\\Roaming\\Python\\Python310\\site-packages\\xgboost\\sklearn.py:885: UserWarning: `eval_metric` in `fit` method is deprecated for better compatibility with scikit-learn, use `eval_metric` in constructor or`set_params` instead.\n",
      "  warnings.warn(\n",
      "\n",
      "C:\\Users\\Luca Visser\\AppData\\Roaming\\Python\\Python310\\site-packages\\xgboost\\sklearn.py:885: UserWarning: `early_stopping_rounds` in `fit` method is deprecated for better compatibility with scikit-learn, use `early_stopping_rounds` in constructor or`set_params` instead.\n",
      "  warnings.warn(\n",
      "\n",
      "C:\\Users\\Luca Visser\\AppData\\Roaming\\Python\\Python310\\site-packages\\xgboost\\core.py:160: UserWarning: [11:12:29] WARNING: C:\\buildkite-agent\\builds\\buildkite-windows-cpu-autoscaling-group-i-0cec3277c4d9d0165-1\\xgboost\\xgboost-ci-windows\\src\\metric\\auc.cc:320: Dataset is empty, or contains only positive or negative samples.\n",
      "  warnings.warn(smsg, UserWarning)\n",
      "\n",
      "C:\\Users\\Luca Visser\\AppData\\Roaming\\Python\\Python310\\site-packages\\xgboost\\sklearn.py:885: UserWarning: `eval_metric` in `fit` method is deprecated for better compatibility with scikit-learn, use `eval_metric` in constructor or`set_params` instead.\n",
      "  warnings.warn(\n",
      "\n",
      "C:\\Users\\Luca Visser\\AppData\\Roaming\\Python\\Python310\\site-packages\\xgboost\\sklearn.py:885: UserWarning: `early_stopping_rounds` in `fit` method is deprecated for better compatibility with scikit-learn, use `early_stopping_rounds` in constructor or`set_params` instead.\n",
      "  warnings.warn(\n",
      "\n",
      "C:\\Users\\Luca Visser\\AppData\\Roaming\\Python\\Python310\\site-packages\\xgboost\\core.py:160: UserWarning: [11:12:30] WARNING: C:\\buildkite-agent\\builds\\buildkite-windows-cpu-autoscaling-group-i-0cec3277c4d9d0165-1\\xgboost\\xgboost-ci-windows\\src\\metric\\auc.cc:320: Dataset is empty, or contains only positive or negative samples.\n",
      "  warnings.warn(smsg, UserWarning)\n",
      "\n"
     ]
    },
    {
     "name": "stdout",
     "output_type": "stream",
     "text": [
      " 84%|████████▍ | 84/100 [00:10<00:02,  7.39trial/s, best loss: -0.0]"
     ]
    },
    {
     "name": "stderr",
     "output_type": "stream",
     "text": [
      "C:\\Users\\Luca Visser\\AppData\\Roaming\\Python\\Python310\\site-packages\\xgboost\\sklearn.py:885: UserWarning: `eval_metric` in `fit` method is deprecated for better compatibility with scikit-learn, use `eval_metric` in constructor or`set_params` instead.\n",
      "  warnings.warn(\n",
      "\n",
      "C:\\Users\\Luca Visser\\AppData\\Roaming\\Python\\Python310\\site-packages\\xgboost\\sklearn.py:885: UserWarning: `early_stopping_rounds` in `fit` method is deprecated for better compatibility with scikit-learn, use `early_stopping_rounds` in constructor or`set_params` instead.\n",
      "  warnings.warn(\n",
      "\n",
      "C:\\Users\\Luca Visser\\AppData\\Roaming\\Python\\Python310\\site-packages\\xgboost\\core.py:160: UserWarning: [11:12:30] WARNING: C:\\buildkite-agent\\builds\\buildkite-windows-cpu-autoscaling-group-i-0cec3277c4d9d0165-1\\xgboost\\xgboost-ci-windows\\src\\metric\\auc.cc:320: Dataset is empty, or contains only positive or negative samples.\n",
      "  warnings.warn(smsg, UserWarning)\n",
      "\n",
      "C:\\Users\\Luca Visser\\AppData\\Roaming\\Python\\Python310\\site-packages\\xgboost\\sklearn.py:885: UserWarning: `eval_metric` in `fit` method is deprecated for better compatibility with scikit-learn, use `eval_metric` in constructor or`set_params` instead.\n",
      "  warnings.warn(\n",
      "\n",
      "C:\\Users\\Luca Visser\\AppData\\Roaming\\Python\\Python310\\site-packages\\xgboost\\sklearn.py:885: UserWarning: `early_stopping_rounds` in `fit` method is deprecated for better compatibility with scikit-learn, use `early_stopping_rounds` in constructor or`set_params` instead.\n",
      "  warnings.warn(\n",
      "\n",
      "C:\\Users\\Luca Visser\\AppData\\Roaming\\Python\\Python310\\site-packages\\xgboost\\core.py:160: UserWarning: [11:12:30] WARNING: C:\\buildkite-agent\\builds\\buildkite-windows-cpu-autoscaling-group-i-0cec3277c4d9d0165-1\\xgboost\\xgboost-ci-windows\\src\\metric\\auc.cc:320: Dataset is empty, or contains only positive or negative samples.\n",
      "  warnings.warn(smsg, UserWarning)\n",
      "\n"
     ]
    },
    {
     "name": "stdout",
     "output_type": "stream",
     "text": [
      " 86%|████████▌ | 86/100 [00:10<00:02,  6.54trial/s, best loss: -0.0]"
     ]
    },
    {
     "name": "stderr",
     "output_type": "stream",
     "text": [
      "C:\\Users\\Luca Visser\\AppData\\Roaming\\Python\\Python310\\site-packages\\xgboost\\sklearn.py:885: UserWarning: `eval_metric` in `fit` method is deprecated for better compatibility with scikit-learn, use `eval_metric` in constructor or`set_params` instead.\n",
      "  warnings.warn(\n",
      "\n",
      "C:\\Users\\Luca Visser\\AppData\\Roaming\\Python\\Python310\\site-packages\\xgboost\\sklearn.py:885: UserWarning: `early_stopping_rounds` in `fit` method is deprecated for better compatibility with scikit-learn, use `early_stopping_rounds` in constructor or`set_params` instead.\n",
      "  warnings.warn(\n",
      "\n",
      "C:\\Users\\Luca Visser\\AppData\\Roaming\\Python\\Python310\\site-packages\\xgboost\\core.py:160: UserWarning: [11:12:30] WARNING: C:\\buildkite-agent\\builds\\buildkite-windows-cpu-autoscaling-group-i-0cec3277c4d9d0165-1\\xgboost\\xgboost-ci-windows\\src\\metric\\auc.cc:320: Dataset is empty, or contains only positive or negative samples.\n",
      "  warnings.warn(smsg, UserWarning)\n",
      "\n",
      "C:\\Users\\Luca Visser\\AppData\\Roaming\\Python\\Python310\\site-packages\\xgboost\\sklearn.py:885: UserWarning: `eval_metric` in `fit` method is deprecated for better compatibility with scikit-learn, use `eval_metric` in constructor or`set_params` instead.\n",
      "  warnings.warn(\n"
     ]
    },
    {
     "name": "stdout",
     "output_type": "stream",
     "text": [
      " 87%|████████▋ | 87/100 [00:11<00:02,  6.26trial/s, best loss: -0.0]"
     ]
    },
    {
     "name": "stderr",
     "output_type": "stream",
     "text": [
      "\n",
      "C:\\Users\\Luca Visser\\AppData\\Roaming\\Python\\Python310\\site-packages\\xgboost\\sklearn.py:885: UserWarning: `early_stopping_rounds` in `fit` method is deprecated for better compatibility with scikit-learn, use `early_stopping_rounds` in constructor or`set_params` instead.\n",
      "  warnings.warn(\n",
      "\n",
      "C:\\Users\\Luca Visser\\AppData\\Roaming\\Python\\Python310\\site-packages\\xgboost\\core.py:160: UserWarning: [11:12:30] WARNING: C:\\buildkite-agent\\builds\\buildkite-windows-cpu-autoscaling-group-i-0cec3277c4d9d0165-1\\xgboost\\xgboost-ci-windows\\src\\metric\\auc.cc:320: Dataset is empty, or contains only positive or negative samples.\n",
      "  warnings.warn(smsg, UserWarning)\n",
      "\n",
      "C:\\Users\\Luca Visser\\AppData\\Roaming\\Python\\Python310\\site-packages\\xgboost\\sklearn.py:885: UserWarning: `eval_metric` in `fit` method is deprecated for better compatibility with scikit-learn, use `eval_metric` in constructor or`set_params` instead.\n",
      "  warnings.warn(\n"
     ]
    },
    {
     "name": "stdout",
     "output_type": "stream",
     "text": [
      " 88%|████████▊ | 88/100 [00:11<00:02,  5.59trial/s, best loss: -0.0]"
     ]
    },
    {
     "name": "stderr",
     "output_type": "stream",
     "text": [
      "\n",
      "C:\\Users\\Luca Visser\\AppData\\Roaming\\Python\\Python310\\site-packages\\xgboost\\sklearn.py:885: UserWarning: `early_stopping_rounds` in `fit` method is deprecated for better compatibility with scikit-learn, use `early_stopping_rounds` in constructor or`set_params` instead.\n",
      "  warnings.warn(\n",
      "\n",
      "C:\\Users\\Luca Visser\\AppData\\Roaming\\Python\\Python310\\site-packages\\xgboost\\core.py:160: UserWarning: [11:12:30] WARNING: C:\\buildkite-agent\\builds\\buildkite-windows-cpu-autoscaling-group-i-0cec3277c4d9d0165-1\\xgboost\\xgboost-ci-windows\\src\\metric\\auc.cc:320: Dataset is empty, or contains only positive or negative samples.\n",
      "  warnings.warn(smsg, UserWarning)\n",
      "\n",
      "C:\\Users\\Luca Visser\\AppData\\Roaming\\Python\\Python310\\site-packages\\xgboost\\sklearn.py:885: UserWarning: `eval_metric` in `fit` method is deprecated for better compatibility with scikit-learn, use `eval_metric` in constructor or`set_params` instead.\n",
      "  warnings.warn(\n"
     ]
    },
    {
     "name": "stdout",
     "output_type": "stream",
     "text": [
      " 89%|████████▉ | 89/100 [00:11<00:01,  5.53trial/s, best loss: -0.0]"
     ]
    },
    {
     "name": "stderr",
     "output_type": "stream",
     "text": [
      "\n",
      "C:\\Users\\Luca Visser\\AppData\\Roaming\\Python\\Python310\\site-packages\\xgboost\\sklearn.py:885: UserWarning: `early_stopping_rounds` in `fit` method is deprecated for better compatibility with scikit-learn, use `early_stopping_rounds` in constructor or`set_params` instead.\n",
      "  warnings.warn(\n",
      "\n",
      "C:\\Users\\Luca Visser\\AppData\\Roaming\\Python\\Python310\\site-packages\\xgboost\\core.py:160: UserWarning: [11:12:31] WARNING: C:\\buildkite-agent\\builds\\buildkite-windows-cpu-autoscaling-group-i-0cec3277c4d9d0165-1\\xgboost\\xgboost-ci-windows\\src\\metric\\auc.cc:320: Dataset is empty, or contains only positive or negative samples.\n",
      "  warnings.warn(smsg, UserWarning)\n",
      "\n",
      "C:\\Users\\Luca Visser\\AppData\\Roaming\\Python\\Python310\\site-packages\\xgboost\\sklearn.py:885: UserWarning: `eval_metric` in `fit` method is deprecated for better compatibility with scikit-learn, use `eval_metric` in constructor or`set_params` instead.\n",
      "  warnings.warn(\n"
     ]
    },
    {
     "name": "stdout",
     "output_type": "stream",
     "text": [
      " 90%|█████████ | 90/100 [00:11<00:01,  5.69trial/s, best loss: -0.0]"
     ]
    },
    {
     "name": "stderr",
     "output_type": "stream",
     "text": [
      "\n",
      "C:\\Users\\Luca Visser\\AppData\\Roaming\\Python\\Python310\\site-packages\\xgboost\\sklearn.py:885: UserWarning: `early_stopping_rounds` in `fit` method is deprecated for better compatibility with scikit-learn, use `early_stopping_rounds` in constructor or`set_params` instead.\n",
      "  warnings.warn(\n",
      "\n",
      "C:\\Users\\Luca Visser\\AppData\\Roaming\\Python\\Python310\\site-packages\\xgboost\\core.py:160: UserWarning: [11:12:31] WARNING: C:\\buildkite-agent\\builds\\buildkite-windows-cpu-autoscaling-group-i-0cec3277c4d9d0165-1\\xgboost\\xgboost-ci-windows\\src\\metric\\auc.cc:320: Dataset is empty, or contains only positive or negative samples.\n",
      "  warnings.warn(smsg, UserWarning)\n",
      "\n",
      "C:\\Users\\Luca Visser\\AppData\\Roaming\\Python\\Python310\\site-packages\\xgboost\\sklearn.py:885: UserWarning: `eval_metric` in `fit` method is deprecated for better compatibility with scikit-learn, use `eval_metric` in constructor or`set_params` instead.\n",
      "  warnings.warn(\n",
      "\n",
      "C:\\Users\\Luca Visser\\AppData\\Roaming\\Python\\Python310\\site-packages\\xgboost\\sklearn.py:885: UserWarning: `early_stopping_rounds` in `fit` method is deprecated for better compatibility with scikit-learn, use `early_stopping_rounds` in constructor or`set_params` instead.\n",
      "  warnings.warn(\n",
      "\n",
      "C:\\Users\\Luca Visser\\AppData\\Roaming\\Python\\Python310\\site-packages\\xgboost\\core.py:160: UserWarning: [11:12:31] WARNING: C:\\buildkite-agent\\builds\\buildkite-windows-cpu-autoscaling-group-i-0cec3277c4d9d0165-1\\xgboost\\xgboost-ci-windows\\src\\metric\\auc.cc:320: Dataset is empty, or contains only positive or negative samples.\n",
      "  warnings.warn(smsg, UserWarning)\n",
      "\n"
     ]
    },
    {
     "name": "stdout",
     "output_type": "stream",
     "text": [
      " 92%|█████████▏| 92/100 [00:11<00:01,  5.97trial/s, best loss: -0.0]"
     ]
    },
    {
     "name": "stderr",
     "output_type": "stream",
     "text": [
      "C:\\Users\\Luca Visser\\AppData\\Roaming\\Python\\Python310\\site-packages\\xgboost\\sklearn.py:885: UserWarning: `eval_metric` in `fit` method is deprecated for better compatibility with scikit-learn, use `eval_metric` in constructor or`set_params` instead.\n",
      "  warnings.warn(\n",
      "\n",
      "C:\\Users\\Luca Visser\\AppData\\Roaming\\Python\\Python310\\site-packages\\xgboost\\sklearn.py:885: UserWarning: `early_stopping_rounds` in `fit` method is deprecated for better compatibility with scikit-learn, use `early_stopping_rounds` in constructor or`set_params` instead.\n",
      "  warnings.warn(\n",
      "\n",
      "C:\\Users\\Luca Visser\\AppData\\Roaming\\Python\\Python310\\site-packages\\xgboost\\core.py:160: UserWarning: [11:12:31] WARNING: C:\\buildkite-agent\\builds\\buildkite-windows-cpu-autoscaling-group-i-0cec3277c4d9d0165-1\\xgboost\\xgboost-ci-windows\\src\\metric\\auc.cc:320: Dataset is empty, or contains only positive or negative samples.\n",
      "  warnings.warn(smsg, UserWarning)\n",
      "\n",
      "C:\\Users\\Luca Visser\\AppData\\Roaming\\Python\\Python310\\site-packages\\xgboost\\sklearn.py:885: UserWarning: `eval_metric` in `fit` method is deprecated for better compatibility with scikit-learn, use `eval_metric` in constructor or`set_params` instead.\n",
      "  warnings.warn(\n",
      "\n",
      "C:\\Users\\Luca Visser\\AppData\\Roaming\\Python\\Python310\\site-packages\\xgboost\\sklearn.py:885: UserWarning: `early_stopping_rounds` in `fit` method is deprecated for better compatibility with scikit-learn, use `early_stopping_rounds` in constructor or`set_params` instead.\n",
      "  warnings.warn(\n",
      "\n",
      "C:\\Users\\Luca Visser\\AppData\\Roaming\\Python\\Python310\\site-packages\\xgboost\\core.py:160: UserWarning: [11:12:31] WARNING: C:\\buildkite-agent\\builds\\buildkite-windows-cpu-autoscaling-group-i-0cec3277c4d9d0165-1\\xgboost\\xgboost-ci-windows\\src\\metric\\auc.cc:320: Dataset is empty, or contains only positive or negative samples.\n",
      "  warnings.warn(smsg, UserWarning)\n",
      "\n"
     ]
    },
    {
     "name": "stdout",
     "output_type": "stream",
     "text": [
      " 94%|█████████▍| 94/100 [00:12<00:00,  6.04trial/s, best loss: -0.0]"
     ]
    },
    {
     "name": "stderr",
     "output_type": "stream",
     "text": [
      "C:\\Users\\Luca Visser\\AppData\\Roaming\\Python\\Python310\\site-packages\\xgboost\\sklearn.py:885: UserWarning: `eval_metric` in `fit` method is deprecated for better compatibility with scikit-learn, use `eval_metric` in constructor or`set_params` instead.\n",
      "  warnings.warn(\n",
      "\n",
      "C:\\Users\\Luca Visser\\AppData\\Roaming\\Python\\Python310\\site-packages\\xgboost\\sklearn.py:885: UserWarning: `early_stopping_rounds` in `fit` method is deprecated for better compatibility with scikit-learn, use `early_stopping_rounds` in constructor or`set_params` instead.\n",
      "  warnings.warn(\n",
      "\n",
      "C:\\Users\\Luca Visser\\AppData\\Roaming\\Python\\Python310\\site-packages\\xgboost\\core.py:160: UserWarning: [11:12:31] WARNING: C:\\buildkite-agent\\builds\\buildkite-windows-cpu-autoscaling-group-i-0cec3277c4d9d0165-1\\xgboost\\xgboost-ci-windows\\src\\metric\\auc.cc:320: Dataset is empty, or contains only positive or negative samples.\n",
      "  warnings.warn(smsg, UserWarning)\n",
      "\n",
      "C:\\Users\\Luca Visser\\AppData\\Roaming\\Python\\Python310\\site-packages\\xgboost\\sklearn.py:885: UserWarning: `eval_metric` in `fit` method is deprecated for better compatibility with scikit-learn, use `eval_metric` in constructor or`set_params` instead.\n",
      "  warnings.warn(\n",
      "\n",
      "C:\\Users\\Luca Visser\\AppData\\Roaming\\Python\\Python310\\site-packages\\xgboost\\sklearn.py:885: UserWarning: `early_stopping_rounds` in `fit` method is deprecated for better compatibility with scikit-learn, use `early_stopping_rounds` in constructor or`set_params` instead.\n",
      "  warnings.warn(\n",
      "\n",
      "C:\\Users\\Luca Visser\\AppData\\Roaming\\Python\\Python310\\site-packages\\xgboost\\core.py:160: UserWarning: [11:12:32] WARNING: C:\\buildkite-agent\\builds\\buildkite-windows-cpu-autoscaling-group-i-0cec3277c4d9d0165-1\\xgboost\\xgboost-ci-windows\\src\\metric\\auc.cc:320: Dataset is empty, or contains only positive or negative samples.\n",
      "  warnings.warn(smsg, UserWarning)\n",
      "\n"
     ]
    },
    {
     "name": "stdout",
     "output_type": "stream",
     "text": [
      " 96%|█████████▌| 96/100 [00:12<00:00,  6.25trial/s, best loss: -0.0]"
     ]
    },
    {
     "name": "stderr",
     "output_type": "stream",
     "text": [
      "C:\\Users\\Luca Visser\\AppData\\Roaming\\Python\\Python310\\site-packages\\xgboost\\sklearn.py:885: UserWarning: `eval_metric` in `fit` method is deprecated for better compatibility with scikit-learn, use `eval_metric` in constructor or`set_params` instead.\n",
      "  warnings.warn(\n",
      "\n",
      "C:\\Users\\Luca Visser\\AppData\\Roaming\\Python\\Python310\\site-packages\\xgboost\\sklearn.py:885: UserWarning: `early_stopping_rounds` in `fit` method is deprecated for better compatibility with scikit-learn, use `early_stopping_rounds` in constructor or`set_params` instead.\n",
      "  warnings.warn(\n",
      "\n",
      "C:\\Users\\Luca Visser\\AppData\\Roaming\\Python\\Python310\\site-packages\\xgboost\\core.py:160: UserWarning: [11:12:32] WARNING: C:\\buildkite-agent\\builds\\buildkite-windows-cpu-autoscaling-group-i-0cec3277c4d9d0165-1\\xgboost\\xgboost-ci-windows\\src\\metric\\auc.cc:320: Dataset is empty, or contains only positive or negative samples.\n",
      "  warnings.warn(smsg, UserWarning)\n",
      "\n",
      "C:\\Users\\Luca Visser\\AppData\\Roaming\\Python\\Python310\\site-packages\\xgboost\\sklearn.py:885: UserWarning: `eval_metric` in `fit` method is deprecated for better compatibility with scikit-learn, use `eval_metric` in constructor or`set_params` instead.\n",
      "  warnings.warn(\n",
      "\n",
      "C:\\Users\\Luca Visser\\AppData\\Roaming\\Python\\Python310\\site-packages\\xgboost\\sklearn.py:885: UserWarning: `early_stopping_rounds` in `fit` method is deprecated for better compatibility with scikit-learn, use `early_stopping_rounds` in constructor or`set_params` instead.\n",
      "  warnings.warn(\n",
      "\n",
      "C:\\Users\\Luca Visser\\AppData\\Roaming\\Python\\Python310\\site-packages\\xgboost\\core.py:160: UserWarning: [11:12:32] WARNING: C:\\buildkite-agent\\builds\\buildkite-windows-cpu-autoscaling-group-i-0cec3277c4d9d0165-1\\xgboost\\xgboost-ci-windows\\src\\metric\\auc.cc:320: Dataset is empty, or contains only positive or negative samples.\n",
      "  warnings.warn(smsg, UserWarning)\n",
      "\n"
     ]
    },
    {
     "name": "stdout",
     "output_type": "stream",
     "text": [
      " 98%|█████████▊| 98/100 [00:12<00:00,  6.41trial/s, best loss: -0.0]"
     ]
    },
    {
     "name": "stderr",
     "output_type": "stream",
     "text": [
      "C:\\Users\\Luca Visser\\AppData\\Roaming\\Python\\Python310\\site-packages\\xgboost\\sklearn.py:885: UserWarning: `eval_metric` in `fit` method is deprecated for better compatibility with scikit-learn, use `eval_metric` in constructor or`set_params` instead.\n",
      "  warnings.warn(\n",
      "\n",
      "C:\\Users\\Luca Visser\\AppData\\Roaming\\Python\\Python310\\site-packages\\xgboost\\sklearn.py:885: UserWarning: `early_stopping_rounds` in `fit` method is deprecated for better compatibility with scikit-learn, use `early_stopping_rounds` in constructor or`set_params` instead.\n",
      "  warnings.warn(\n",
      "\n",
      "C:\\Users\\Luca Visser\\AppData\\Roaming\\Python\\Python310\\site-packages\\xgboost\\core.py:160: UserWarning: [11:12:32] WARNING: C:\\buildkite-agent\\builds\\buildkite-windows-cpu-autoscaling-group-i-0cec3277c4d9d0165-1\\xgboost\\xgboost-ci-windows\\src\\metric\\auc.cc:320: Dataset is empty, or contains only positive or negative samples.\n",
      "  warnings.warn(smsg, UserWarning)\n",
      "\n",
      "C:\\Users\\Luca Visser\\AppData\\Roaming\\Python\\Python310\\site-packages\\xgboost\\sklearn.py:885: UserWarning: `eval_metric` in `fit` method is deprecated for better compatibility with scikit-learn, use `eval_metric` in constructor or`set_params` instead.\n",
      "  warnings.warn(\n"
     ]
    },
    {
     "name": "stdout",
     "output_type": "stream",
     "text": [
      " 99%|█████████▉| 99/100 [00:13<00:00,  5.87trial/s, best loss: -0.0]"
     ]
    },
    {
     "name": "stderr",
     "output_type": "stream",
     "text": [
      "\n",
      "C:\\Users\\Luca Visser\\AppData\\Roaming\\Python\\Python310\\site-packages\\xgboost\\sklearn.py:885: UserWarning: `early_stopping_rounds` in `fit` method is deprecated for better compatibility with scikit-learn, use `early_stopping_rounds` in constructor or`set_params` instead.\n",
      "  warnings.warn(\n",
      "\n",
      "C:\\Users\\Luca Visser\\AppData\\Roaming\\Python\\Python310\\site-packages\\xgboost\\core.py:160: UserWarning: [11:12:32] WARNING: C:\\buildkite-agent\\builds\\buildkite-windows-cpu-autoscaling-group-i-0cec3277c4d9d0165-1\\xgboost\\xgboost-ci-windows\\src\\metric\\auc.cc:320: Dataset is empty, or contains only positive or negative samples.\n",
      "  warnings.warn(smsg, UserWarning)\n",
      "\n",
      "C:\\Users\\Luca Visser\\AppData\\Roaming\\Python\\Python310\\site-packages\\xgboost\\sklearn.py:885: UserWarning: `eval_metric` in `fit` method is deprecated for better compatibility with scikit-learn, use `eval_metric` in constructor or`set_params` instead.\n",
      "  warnings.warn(\n",
      "\n",
      "C:\\Users\\Luca Visser\\AppData\\Roaming\\Python\\Python310\\site-packages\\xgboost\\sklearn.py:885: UserWarning: `early_stopping_rounds` in `fit` method is deprecated for better compatibility with scikit-learn, use `early_stopping_rounds` in constructor or`set_params` instead.\n",
      "  warnings.warn(\n",
      "\n",
      "C:\\Users\\Luca Visser\\AppData\\Roaming\\Python\\Python310\\site-packages\\xgboost\\core.py:160: UserWarning: [11:12:32] WARNING: C:\\buildkite-agent\\builds\\buildkite-windows-cpu-autoscaling-group-i-0cec3277c4d9d0165-1\\xgboost\\xgboost-ci-windows\\src\\metric\\auc.cc:320: Dataset is empty, or contains only positive or negative samples.\n",
      "  warnings.warn(smsg, UserWarning)\n",
      "\n"
     ]
    },
    {
     "name": "stdout",
     "output_type": "stream",
     "text": [
      "100%|██████████| 100/100 [00:13<00:00,  7.57trial/s, best loss: -0.0]\n"
     ]
    }
   ],
   "source": [
    "import xgboost as xgb\n",
    "from sklearn.metrics import r2_score\n",
    "from sklearn.metrics import accuracy_score\n",
    "from hyperopt import STATUS_OK, Trials, fmin, hp, tpe\n",
    "\n",
    "X_train = train_data_red.loc[:, all_features]\n",
    "X_test = test_data.loc[:, all_features]\n",
    "\n",
    "y_train = train_data_red[\"Totaal\"]\n",
    "y_test = gtest_data[\"Totaal\"]\n",
    "\n",
    "def objective(space):\n",
    "    reg=xgb.XGBRegressor(\n",
    "                    n_estimators =space['n_estimators'], max_depth = int(space['max_depth']), gamma = space['gamma'],\n",
    "                    reg_alpha = int(space['reg_alpha']),min_child_weight=int(space['min_child_weight']),\n",
    "                    colsample_bytree=int(space['colsample_bytree']))\n",
    "    \n",
    "    evaluation = [( X_train, y_train), ( X_test, y_test)]\n",
    "    \n",
    "    reg.fit(X_train, y_train,\n",
    "            eval_set=evaluation, eval_metric=\"auc\",\n",
    "            early_stopping_rounds=10,verbose=False)\n",
    "    \n",
    "\n",
    "    pred = reg.predict(X_test)\n",
    "    accuracy = accuracy_score(y_test, pred>0.5)\n",
    "    return {'loss': -accuracy, 'status': STATUS_OK }\n",
    "\n",
    "space={'max_depth': hp.quniform(\"max_depth\", 1, 18, 1),\n",
    "        'gamma': hp.uniform ('gamma', 1,9),\n",
    "        'reg_alpha' : hp.quniform('reg_alpha', 40,180,1),\n",
    "        'reg_lambda' : hp.uniform('reg_lambda', 0,1),\n",
    "        'colsample_bytree' : hp.uniform('colsample_bytree', 0.5,1),\n",
    "        'min_child_weight' : hp.quniform('min_child_weight', 0, 10, 1),\n",
    "        'n_estimators': 180,\n",
    "        'seed': 0\n",
    "    }\n",
    "\n",
    "trials = Trials()\n",
    "\n",
    "best_hyperparams = fmin(fn = objective,\n",
    "                        space = space,\n",
    "                        algo = tpe.suggest,\n",
    "                        max_evals = 100,\n",
    "                        trials = trials)"
   ]
  },
  {
   "cell_type": "code",
   "execution_count": 48,
   "id": "5b6eabf7",
   "metadata": {},
   "outputs": [
    {
     "name": "stdout",
     "output_type": "stream",
     "text": [
      "The best hyperparameters are :  \n",
      "\n",
      "{'colsample_bytree': 0.9198241093694609, 'gamma': 4.8838747783450245, 'max_depth': 6.0, 'min_child_weight': 3.0, 'reg_alpha': 67.0, 'reg_lambda': 0.09537885933332957}\n",
      "Train set R²: 0.9011111754477018\n",
      "Test set R²: 0.2948445767284168\n"
     ]
    },
    {
     "name": "stderr",
     "output_type": "stream",
     "text": [
      "C:\\Users\\Luca Visser\\AppData\\Roaming\\Python\\Python310\\site-packages\\pandas\\core\\arraylike.py:397: RuntimeWarning: invalid value encountered in log10\n",
      "  result = getattr(ufunc, method)(*inputs, **kwargs)\n"
     ]
    },
    {
     "data": {
      "image/png": "[encoded data removed]",
      "text/plain": [
       "<Figure size 432x288 with 1 Axes>"
      ]
     },
     "metadata": {
      "needs_background": "light"
     },
     "output_type": "display_data"
    },
    {
     "name": "stderr",
     "output_type": "stream",
     "text": [
      "C:\\Users\\Luca Visser\\AppData\\Roaming\\Python\\Python310\\site-packages\\pandas\\core\\arraylike.py:397: RuntimeWarning: invalid value encountered in log10\n",
      "  result = getattr(ufunc, method)(*inputs, **kwargs)\n"
     ]
    },
    {
     "data": {
      "image/png": "[encoded data removed]",
      "text/plain": [
       "<Figure size 432x288 with 1 Axes>"
      ]
     },
     "metadata": {
      "needs_background": "light"
     },
     "output_type": "display_data"
    }
   ],
   "source": [
    "import xgboost as xgb\n",
    "from sklearn.metrics import r2_score\n",
    "\n",
    "print(\"The best hyperparameters are : \",\"\\n\")\n",
    "print(best_hyperparams)\n",
    "\n",
    "best_hyperparams[\"max_depth\"] = int(best_hyperparams[\"max_depth\"])\n",
    "\n",
    "dmatrix = xgb.DMatrix(X_train, label=y_train)\n",
    "\n",
    "XGBReg =  xgb.train(best_hyperparams, dmatrix)\n",
    "\n",
    "y_hat_train = XGBReg.predict(xgb.DMatrix(X_train))\n",
    "y_hat_test = XGBReg.predict(xgb.DMatrix(X_test))\n",
    "\n",
    "R_train = r2_score(y_train, y_hat_train) # Training set R²\n",
    "R_test = r2_score(y_test, y_hat_test) # Test set R²\n",
    "\n",
    "print('Train set R²: {}'.format(R_train))\n",
    "print('Test set R²: {}'.format(R_test))\n",
    "\n",
    "plot_diff(y_train, y_hat_train, y_test, y_hat_test)"
   ]
  }
 ],
 "metadata": {
  "kernelspec": {
   "display_name": "Python 3",
   "language": "python",
   "name": "python3"
  },
  "language_info": {
   "codemirror_mode": {
    "name": "ipython",
    "version": 3
   },
   "file_extension": ".py",
   "mimetype": "text/x-python",
   "name": "python",
   "nbconvert_exporter": "python",
   "pygments_lexer": "ipython3",
   "version": "3.10.9"
  },
  "papermill": {
   "default_parameters": {},
   "duration": 6.282803,
   "end_time": "2023-10-05T13:07:12.153498",
   "environment_variables": {},
   "exception": null,
   "input_path": "__notebook__.ipynb",
   "output_path": "__notebook__.ipynb",
   "parameters": {},
   "start_time": "2023-10-05T13:07:05.870695",
   "version": "2.4.0"
  }
 },
 "nbformat": 4,
 "nbformat_minor": 5
}
