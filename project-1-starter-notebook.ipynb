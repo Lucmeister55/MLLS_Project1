{
 "cells": [
  {
   "cell_type": "markdown",
   "id": "79fc4903",
   "metadata": {
    "papermill": {
     "duration": 0.003807,
     "end_time": "2023-10-05T13:07:10.410584",
     "exception": false,
     "start_time": "2023-10-05T13:07:10.406777",
     "status": "completed"
    },
    "tags": []
   },
   "source": [
    "# Project 1 Starter Notebook\n",
    "\n",
    "This notebook is meant to help you start up easily.\n",
    "It will assume you have downloaded the relevant data.\n",
    "For more information about the competition, refer to the kaggle pages.\n",
    "\n",
    "Let's load in and inspect all data first:"
   ]
  },
  {
   "cell_type": "code",
   "execution_count": 83,
   "id": "9bd562c1",
   "metadata": {
    "execution": {
     "iopub.execute_input": "2023-10-05T13:07:10.421143Z",
     "iopub.status.busy": "2023-10-05T13:07:10.420739Z",
     "iopub.status.idle": "2023-10-05T13:07:11.322401Z",
     "shell.execute_reply": "2023-10-05T13:07:11.321284Z"
    },
    "papermill": {
     "duration": 0.908964,
     "end_time": "2023-10-05T13:07:11.324928",
     "exception": false,
     "start_time": "2023-10-05T13:07:10.415964",
     "status": "completed"
    },
    "tags": []
   },
   "outputs": [
    {
     "name": "stdout",
     "output_type": "stream",
     "text": [
      "(21189, 3)\n",
      "2021-03-01T00\n",
      "2023-07-31T23\n"
     ]
    },
    {
     "data": {
      "text/html": [
       "<div>\n",
       "<style scoped>\n",
       "    .dataframe tbody tr th:only-of-type {\n",
       "        vertical-align: middle;\n",
       "    }\n",
       "\n",
       "    .dataframe tbody tr th {\n",
       "        vertical-align: top;\n",
       "    }\n",
       "\n",
       "    .dataframe thead th {\n",
       "        text-align: right;\n",
       "    }\n",
       "</style>\n",
       "<table border=\"1\" class=\"dataframe\">\n",
       "  <thead>\n",
       "    <tr style=\"text-align: right;\">\n",
       "      <th></th>\n",
       "      <th>Datum</th>\n",
       "      <th>Date_hour</th>\n",
       "      <th>Totaal</th>\n",
       "    </tr>\n",
       "  </thead>\n",
       "  <tbody>\n",
       "    <tr>\n",
       "      <th>0</th>\n",
       "      <td>2021-03-01</td>\n",
       "      <td>2021-03-01T00</td>\n",
       "      <td>5.0</td>\n",
       "    </tr>\n",
       "    <tr>\n",
       "      <th>1</th>\n",
       "      <td>2021-03-01</td>\n",
       "      <td>2021-03-01T01</td>\n",
       "      <td>1.0</td>\n",
       "    </tr>\n",
       "    <tr>\n",
       "      <th>2</th>\n",
       "      <td>2021-03-01</td>\n",
       "      <td>2021-03-01T02</td>\n",
       "      <td>0.0</td>\n",
       "    </tr>\n",
       "    <tr>\n",
       "      <th>3</th>\n",
       "      <td>2021-03-01</td>\n",
       "      <td>2021-03-01T03</td>\n",
       "      <td>2.0</td>\n",
       "    </tr>\n",
       "    <tr>\n",
       "      <th>4</th>\n",
       "      <td>2021-03-01</td>\n",
       "      <td>2021-03-01T04</td>\n",
       "      <td>21.0</td>\n",
       "    </tr>\n",
       "  </tbody>\n",
       "</table>\n",
       "</div>"
      ],
      "text/plain": [
       "        Datum      Date_hour  Totaal\n",
       "0  2021-03-01  2021-03-01T00     5.0\n",
       "1  2021-03-01  2021-03-01T01     1.0\n",
       "2  2021-03-01  2021-03-01T02     0.0\n",
       "3  2021-03-01  2021-03-01T03     2.0\n",
       "4  2021-03-01  2021-03-01T04    21.0"
      ]
     },
     "execution_count": 83,
     "metadata": {},
     "output_type": "execute_result"
    }
   ],
   "source": [
    "import pandas as pd\n",
    "import numpy as np\n",
    "import datetime\n",
    "\n",
    "# read in data\n",
    "bicycle_data_2021 = pd.read_csv(\"input/bicycle-counter-prediction/fietstelpaal-coupure-links-2021-gent.csv\", sep = \";\")\n",
    "bicycle_data_2022 = pd.read_csv(\"input/bicycle-counter-prediction/fietstelpaal-coupure-links-2022-gent.csv\", sep = \";\")\n",
    "bicycle_data_2023 = pd.read_csv(\"input/bicycle-counter-prediction/fietstelpaal-coupure-links-2023-gent.csv\", sep = \";\")\n",
    "bicycle_data = pd.concat([bicycle_data_2021, bicycle_data_2022, bicycle_data_2023])\n",
    "bicycle_data[\"Date_hour\"] = bicycle_data['Ordening'].str.extract(r'^(.*?T\\d{2})..')\n",
    "bicycle_data = bicycle_data.groupby(['Datum', 'Date_hour'])['Totaal'].sum().reset_index(name ='Totaal')\n",
    "print(bicycle_data.shape)\n",
    "print(min(bicycle_data[\"Date_hour\"]))\n",
    "print(max(bicycle_data[\"Date_hour\"]))\n",
    "bicycle_data.head()"
   ]
  },
  {
   "cell_type": "code",
   "execution_count": 84,
   "id": "c722d1d4",
   "metadata": {},
   "outputs": [
    {
     "name": "stdout",
     "output_type": "stream",
     "text": [
      "(4343, 2)\n",
      "2023-01-01T00\n",
      "2023-06-30T23\n"
     ]
    },
    {
     "data": {
      "text/html": [
       "<div>\n",
       "<style scoped>\n",
       "    .dataframe tbody tr th:only-of-type {\n",
       "        vertical-align: middle;\n",
       "    }\n",
       "\n",
       "    .dataframe tbody tr th {\n",
       "        vertical-align: top;\n",
       "    }\n",
       "\n",
       "    .dataframe thead th {\n",
       "        text-align: right;\n",
       "    }\n",
       "</style>\n",
       "<table border=\"1\" class=\"dataframe\">\n",
       "  <thead>\n",
       "    <tr style=\"text-align: right;\">\n",
       "      <th></th>\n",
       "      <th>Date_hour</th>\n",
       "      <th>Totaal</th>\n",
       "    </tr>\n",
       "  </thead>\n",
       "  <tbody>\n",
       "    <tr>\n",
       "      <th>0</th>\n",
       "      <td>2023-01-01T00</td>\n",
       "      <td>111.0</td>\n",
       "    </tr>\n",
       "    <tr>\n",
       "      <th>1</th>\n",
       "      <td>2023-01-01T01</td>\n",
       "      <td>201.0</td>\n",
       "    </tr>\n",
       "    <tr>\n",
       "      <th>2</th>\n",
       "      <td>2023-01-01T02</td>\n",
       "      <td>170.0</td>\n",
       "    </tr>\n",
       "    <tr>\n",
       "      <th>3</th>\n",
       "      <td>2023-01-01T03</td>\n",
       "      <td>144.0</td>\n",
       "    </tr>\n",
       "    <tr>\n",
       "      <th>4</th>\n",
       "      <td>2023-01-01T04</td>\n",
       "      <td>155.0</td>\n",
       "    </tr>\n",
       "  </tbody>\n",
       "</table>\n",
       "</div>"
      ],
      "text/plain": [
       "       Date_hour  Totaal\n",
       "0  2023-01-01T00   111.0\n",
       "1  2023-01-01T01   201.0\n",
       "2  2023-01-01T02   170.0\n",
       "3  2023-01-01T03   144.0\n",
       "4  2023-01-01T04   155.0"
      ]
     },
     "execution_count": 84,
     "metadata": {},
     "output_type": "execute_result"
    }
   ],
   "source": [
    "train_rawdata = pd.read_csv(\"input/bicycle-counter-prediction/train_data.csv\")\n",
    "print(train_rawdata.shape)\n",
    "print(min(train_rawdata[\"Date_hour\"]))\n",
    "print(max(train_rawdata[\"Date_hour\"]))\n",
    "train_rawdata.head()"
   ]
  },
  {
   "cell_type": "code",
   "execution_count": 85,
   "id": "a553121a",
   "metadata": {
    "execution": {
     "iopub.execute_input": "2023-10-05T13:07:11.334552Z",
     "iopub.status.busy": "2023-10-05T13:07:11.334158Z",
     "iopub.status.idle": "2023-10-05T13:07:11.350689Z",
     "shell.execute_reply": "2023-10-05T13:07:11.349496Z"
    },
    "papermill": {
     "duration": 0.024278,
     "end_time": "2023-10-05T13:07:11.353291",
     "exception": false,
     "start_time": "2023-10-05T13:07:11.329013",
     "status": "completed"
    },
    "tags": []
   },
   "outputs": [
    {
     "name": "stdout",
     "output_type": "stream",
     "text": [
      "(744, 2)\n",
      "2023-07-01T00\n",
      "2023-07-31T23\n"
     ]
    },
    {
     "data": {
      "text/html": [
       "<div>\n",
       "<style scoped>\n",
       "    .dataframe tbody tr th:only-of-type {\n",
       "        vertical-align: middle;\n",
       "    }\n",
       "\n",
       "    .dataframe tbody tr th {\n",
       "        vertical-align: top;\n",
       "    }\n",
       "\n",
       "    .dataframe thead th {\n",
       "        text-align: right;\n",
       "    }\n",
       "</style>\n",
       "<table border=\"1\" class=\"dataframe\">\n",
       "  <thead>\n",
       "    <tr style=\"text-align: right;\">\n",
       "      <th></th>\n",
       "      <th>Id</th>\n",
       "      <th>Date_hour</th>\n",
       "    </tr>\n",
       "  </thead>\n",
       "  <tbody>\n",
       "    <tr>\n",
       "      <th>0</th>\n",
       "      <td>0</td>\n",
       "      <td>2023-07-01T00</td>\n",
       "    </tr>\n",
       "    <tr>\n",
       "      <th>1</th>\n",
       "      <td>1</td>\n",
       "      <td>2023-07-01T01</td>\n",
       "    </tr>\n",
       "    <tr>\n",
       "      <th>2</th>\n",
       "      <td>2</td>\n",
       "      <td>2023-07-01T02</td>\n",
       "    </tr>\n",
       "    <tr>\n",
       "      <th>3</th>\n",
       "      <td>3</td>\n",
       "      <td>2023-07-01T03</td>\n",
       "    </tr>\n",
       "    <tr>\n",
       "      <th>4</th>\n",
       "      <td>4</td>\n",
       "      <td>2023-07-01T04</td>\n",
       "    </tr>\n",
       "  </tbody>\n",
       "</table>\n",
       "</div>"
      ],
      "text/plain": [
       "   Id      Date_hour\n",
       "0   0  2023-07-01T00\n",
       "1   1  2023-07-01T01\n",
       "2   2  2023-07-01T02\n",
       "3   3  2023-07-01T03\n",
       "4   4  2023-07-01T04"
      ]
     },
     "execution_count": 85,
     "metadata": {},
     "output_type": "execute_result"
    }
   ],
   "source": [
    "test_rawdata = pd.read_csv(\"input/bicycle-counter-prediction/test_data.csv\")\n",
    "print(test_rawdata.shape)\n",
    "print(min(test_rawdata[\"Date_hour\"]))\n",
    "print(max(test_rawdata[\"Date_hour\"]))\n",
    "test_rawdata.head()"
   ]
  },
  {
   "cell_type": "code",
   "execution_count": 86,
   "id": "dc38fe36",
   "metadata": {
    "execution": {
     "iopub.execute_input": "2023-10-05T13:07:11.363693Z",
     "iopub.status.busy": "2023-10-05T13:07:11.363313Z",
     "iopub.status.idle": "2023-10-05T13:07:11.385294Z",
     "shell.execute_reply": "2023-10-05T13:07:11.384112Z"
    },
    "papermill": {
     "duration": 0.030206,
     "end_time": "2023-10-05T13:07:11.387816",
     "exception": false,
     "start_time": "2023-10-05T13:07:11.357610",
     "status": "completed"
    },
    "tags": []
   },
   "outputs": [
    {
     "name": "stdout",
     "output_type": "stream",
     "text": [
      "(24264, 42)\n",
      "time                                       0\n",
      "temperature_2m (°C)                        0\n",
      "relativehumidity_2m (%)                    0\n",
      "dewpoint_2m (°C)                           0\n",
      "apparent_temperature (°C)                  0\n",
      "precipitation (mm)                         0\n",
      "rain (mm)                                  0\n",
      "snowfall (cm)                              0\n",
      "snow_depth (m)                             0\n",
      "weathercode (wmo code)                     0\n",
      "pressure_msl (hPa)                         0\n",
      "surface_pressure (hPa)                     0\n",
      "cloudcover (%)                             0\n",
      "cloudcover_low (%)                         0\n",
      "cloudcover_mid (%)                         0\n",
      "cloudcover_high (%)                        0\n",
      "et0_fao_evapotranspiration (mm)            0\n",
      "vapor_pressure_deficit (kPa)               0\n",
      "windspeed_10m (km/h)                       0\n",
      "windspeed_100m (km/h)                      0\n",
      "winddirection_10m (°)                      0\n",
      "winddirection_100m (°)                     0\n",
      "windgusts_10m (km/h)                       0\n",
      "soil_temperature_0_to_7cm (°C)             0\n",
      "soil_temperature_7_to_28cm (°C)            0\n",
      "soil_temperature_28_to_100cm (°C)          0\n",
      "soil_temperature_100_to_255cm (°C)         0\n",
      "soil_moisture_0_to_7cm (m³/m³)             0\n",
      "soil_moisture_7_to_28cm (m³/m³)            0\n",
      "soil_moisture_28_to_100cm (m³/m³)          0\n",
      "soil_moisture_100_to_255cm (m³/m³)         0\n",
      "is_day ()                                  0\n",
      "shortwave_radiation (W/m²)                 0\n",
      "direct_radiation (W/m²)                    0\n",
      "diffuse_radiation (W/m²)                   0\n",
      "direct_normal_irradiance (W/m²)            0\n",
      "terrestrial_radiation (W/m²)               0\n",
      "shortwave_radiation_instant (W/m²)         0\n",
      "direct_radiation_instant (W/m²)            0\n",
      "diffuse_radiation_instant (W/m²)           0\n",
      "direct_normal_irradiance_instant (W/m²)    0\n",
      "terrestrial_radiation_instant (W/m²)       0\n",
      "dtype: int64\n"
     ]
    },
    {
     "data": {
      "text/html": [
       "<div>\n",
       "<style scoped>\n",
       "    .dataframe tbody tr th:only-of-type {\n",
       "        vertical-align: middle;\n",
       "    }\n",
       "\n",
       "    .dataframe tbody tr th {\n",
       "        vertical-align: top;\n",
       "    }\n",
       "\n",
       "    .dataframe thead th {\n",
       "        text-align: right;\n",
       "    }\n",
       "</style>\n",
       "<table border=\"1\" class=\"dataframe\">\n",
       "  <thead>\n",
       "    <tr style=\"text-align: right;\">\n",
       "      <th></th>\n",
       "      <th>time</th>\n",
       "      <th>temperature_2m (°C)</th>\n",
       "      <th>relativehumidity_2m (%)</th>\n",
       "      <th>dewpoint_2m (°C)</th>\n",
       "      <th>apparent_temperature (°C)</th>\n",
       "      <th>precipitation (mm)</th>\n",
       "      <th>rain (mm)</th>\n",
       "      <th>snowfall (cm)</th>\n",
       "      <th>snow_depth (m)</th>\n",
       "      <th>weathercode (wmo code)</th>\n",
       "      <th>...</th>\n",
       "      <th>shortwave_radiation (W/m²)</th>\n",
       "      <th>direct_radiation (W/m²)</th>\n",
       "      <th>diffuse_radiation (W/m²)</th>\n",
       "      <th>direct_normal_irradiance (W/m²)</th>\n",
       "      <th>terrestrial_radiation (W/m²)</th>\n",
       "      <th>shortwave_radiation_instant (W/m²)</th>\n",
       "      <th>direct_radiation_instant (W/m²)</th>\n",
       "      <th>diffuse_radiation_instant (W/m²)</th>\n",
       "      <th>direct_normal_irradiance_instant (W/m²)</th>\n",
       "      <th>terrestrial_radiation_instant (W/m²)</th>\n",
       "    </tr>\n",
       "  </thead>\n",
       "  <tbody>\n",
       "    <tr>\n",
       "      <th>0</th>\n",
       "      <td>2021-01-01T00:00</td>\n",
       "      <td>0.1</td>\n",
       "      <td>97.0</td>\n",
       "      <td>-0.3</td>\n",
       "      <td>-2.7</td>\n",
       "      <td>0.0</td>\n",
       "      <td>0.0</td>\n",
       "      <td>0.0</td>\n",
       "      <td>0.0</td>\n",
       "      <td>1.0</td>\n",
       "      <td>...</td>\n",
       "      <td>0.0</td>\n",
       "      <td>0.0</td>\n",
       "      <td>0.0</td>\n",
       "      <td>0.0</td>\n",
       "      <td>0.0</td>\n",
       "      <td>0.0</td>\n",
       "      <td>0.0</td>\n",
       "      <td>0.0</td>\n",
       "      <td>0.0</td>\n",
       "      <td>0.0</td>\n",
       "    </tr>\n",
       "    <tr>\n",
       "      <th>1</th>\n",
       "      <td>2021-01-01T01:00</td>\n",
       "      <td>0.1</td>\n",
       "      <td>97.0</td>\n",
       "      <td>-0.3</td>\n",
       "      <td>-2.8</td>\n",
       "      <td>0.0</td>\n",
       "      <td>0.0</td>\n",
       "      <td>0.0</td>\n",
       "      <td>0.0</td>\n",
       "      <td>2.0</td>\n",
       "      <td>...</td>\n",
       "      <td>0.0</td>\n",
       "      <td>0.0</td>\n",
       "      <td>0.0</td>\n",
       "      <td>0.0</td>\n",
       "      <td>0.0</td>\n",
       "      <td>0.0</td>\n",
       "      <td>0.0</td>\n",
       "      <td>0.0</td>\n",
       "      <td>0.0</td>\n",
       "      <td>0.0</td>\n",
       "    </tr>\n",
       "    <tr>\n",
       "      <th>2</th>\n",
       "      <td>2021-01-01T02:00</td>\n",
       "      <td>-0.8</td>\n",
       "      <td>98.0</td>\n",
       "      <td>-1.0</td>\n",
       "      <td>-3.9</td>\n",
       "      <td>0.0</td>\n",
       "      <td>0.0</td>\n",
       "      <td>0.0</td>\n",
       "      <td>0.0</td>\n",
       "      <td>2.0</td>\n",
       "      <td>...</td>\n",
       "      <td>0.0</td>\n",
       "      <td>0.0</td>\n",
       "      <td>0.0</td>\n",
       "      <td>0.0</td>\n",
       "      <td>0.0</td>\n",
       "      <td>0.0</td>\n",
       "      <td>0.0</td>\n",
       "      <td>0.0</td>\n",
       "      <td>0.0</td>\n",
       "      <td>0.0</td>\n",
       "    </tr>\n",
       "    <tr>\n",
       "      <th>3</th>\n",
       "      <td>2021-01-01T03:00</td>\n",
       "      <td>-1.1</td>\n",
       "      <td>97.0</td>\n",
       "      <td>-1.4</td>\n",
       "      <td>-4.4</td>\n",
       "      <td>0.0</td>\n",
       "      <td>0.0</td>\n",
       "      <td>0.0</td>\n",
       "      <td>0.0</td>\n",
       "      <td>2.0</td>\n",
       "      <td>...</td>\n",
       "      <td>0.0</td>\n",
       "      <td>0.0</td>\n",
       "      <td>0.0</td>\n",
       "      <td>0.0</td>\n",
       "      <td>0.0</td>\n",
       "      <td>0.0</td>\n",
       "      <td>0.0</td>\n",
       "      <td>0.0</td>\n",
       "      <td>0.0</td>\n",
       "      <td>0.0</td>\n",
       "    </tr>\n",
       "    <tr>\n",
       "      <th>4</th>\n",
       "      <td>2021-01-01T04:00</td>\n",
       "      <td>-1.0</td>\n",
       "      <td>97.0</td>\n",
       "      <td>-1.4</td>\n",
       "      <td>-4.3</td>\n",
       "      <td>0.0</td>\n",
       "      <td>0.0</td>\n",
       "      <td>0.0</td>\n",
       "      <td>0.0</td>\n",
       "      <td>1.0</td>\n",
       "      <td>...</td>\n",
       "      <td>0.0</td>\n",
       "      <td>0.0</td>\n",
       "      <td>0.0</td>\n",
       "      <td>0.0</td>\n",
       "      <td>0.0</td>\n",
       "      <td>0.0</td>\n",
       "      <td>0.0</td>\n",
       "      <td>0.0</td>\n",
       "      <td>0.0</td>\n",
       "      <td>0.0</td>\n",
       "    </tr>\n",
       "  </tbody>\n",
       "</table>\n",
       "<p>5 rows × 42 columns</p>\n",
       "</div>"
      ],
      "text/plain": [
       "               time  temperature_2m (°C)  relativehumidity_2m (%)  \\\n",
       "0  2021-01-01T00:00                  0.1                     97.0   \n",
       "1  2021-01-01T01:00                  0.1                     97.0   \n",
       "2  2021-01-01T02:00                 -0.8                     98.0   \n",
       "3  2021-01-01T03:00                 -1.1                     97.0   \n",
       "4  2021-01-01T04:00                 -1.0                     97.0   \n",
       "\n",
       "   dewpoint_2m (°C)  apparent_temperature (°C)  precipitation (mm)  rain (mm)  \\\n",
       "0              -0.3                       -2.7                 0.0        0.0   \n",
       "1              -0.3                       -2.8                 0.0        0.0   \n",
       "2              -1.0                       -3.9                 0.0        0.0   \n",
       "3              -1.4                       -4.4                 0.0        0.0   \n",
       "4              -1.4                       -4.3                 0.0        0.0   \n",
       "\n",
       "   snowfall (cm)  snow_depth (m)  weathercode (wmo code)  ...  \\\n",
       "0            0.0             0.0                     1.0  ...   \n",
       "1            0.0             0.0                     2.0  ...   \n",
       "2            0.0             0.0                     2.0  ...   \n",
       "3            0.0             0.0                     2.0  ...   \n",
       "4            0.0             0.0                     1.0  ...   \n",
       "\n",
       "   shortwave_radiation (W/m²)  direct_radiation (W/m²)  \\\n",
       "0                         0.0                      0.0   \n",
       "1                         0.0                      0.0   \n",
       "2                         0.0                      0.0   \n",
       "3                         0.0                      0.0   \n",
       "4                         0.0                      0.0   \n",
       "\n",
       "   diffuse_radiation (W/m²)  direct_normal_irradiance (W/m²)  \\\n",
       "0                       0.0                              0.0   \n",
       "1                       0.0                              0.0   \n",
       "2                       0.0                              0.0   \n",
       "3                       0.0                              0.0   \n",
       "4                       0.0                              0.0   \n",
       "\n",
       "   terrestrial_radiation (W/m²)  shortwave_radiation_instant (W/m²)  \\\n",
       "0                           0.0                                 0.0   \n",
       "1                           0.0                                 0.0   \n",
       "2                           0.0                                 0.0   \n",
       "3                           0.0                                 0.0   \n",
       "4                           0.0                                 0.0   \n",
       "\n",
       "   direct_radiation_instant (W/m²)  diffuse_radiation_instant (W/m²)  \\\n",
       "0                              0.0                               0.0   \n",
       "1                              0.0                               0.0   \n",
       "2                              0.0                               0.0   \n",
       "3                              0.0                               0.0   \n",
       "4                              0.0                               0.0   \n",
       "\n",
       "   direct_normal_irradiance_instant (W/m²)  \\\n",
       "0                                      0.0   \n",
       "1                                      0.0   \n",
       "2                                      0.0   \n",
       "3                                      0.0   \n",
       "4                                      0.0   \n",
       "\n",
       "   terrestrial_radiation_instant (W/m²)  \n",
       "0                                   0.0  \n",
       "1                                   0.0  \n",
       "2                                   0.0  \n",
       "3                                   0.0  \n",
       "4                                   0.0  \n",
       "\n",
       "[5 rows x 42 columns]"
      ]
     },
     "execution_count": 86,
     "metadata": {},
     "output_type": "execute_result"
    }
   ],
   "source": [
    "# read in data\n",
    "weather_rawdata = pd.read_csv(\"input/bicycle-counter-prediction/open-meteo-51.10N3.70E13m.csv\", skiprows=2).dropna()\n",
    "print(weather_rawdata.shape)\n",
    "print(weather_rawdata.isna().sum())\n",
    "weather_rawdata.head()"
   ]
  },
  {
   "cell_type": "code",
   "execution_count": 87,
   "id": "216daffe",
   "metadata": {},
   "outputs": [
    {
     "data": {
      "text/html": [
       "<div>\n",
       "<style scoped>\n",
       "    .dataframe tbody tr th:only-of-type {\n",
       "        vertical-align: middle;\n",
       "    }\n",
       "\n",
       "    .dataframe tbody tr th {\n",
       "        vertical-align: top;\n",
       "    }\n",
       "\n",
       "    .dataframe thead th {\n",
       "        text-align: right;\n",
       "    }\n",
       "</style>\n",
       "<table border=\"1\" class=\"dataframe\">\n",
       "  <thead>\n",
       "    <tr style=\"text-align: right;\">\n",
       "      <th></th>\n",
       "      <th>name</th>\n",
       "      <th>start</th>\n",
       "      <th>end</th>\n",
       "    </tr>\n",
       "  </thead>\n",
       "  <tbody>\n",
       "    <tr>\n",
       "      <th>0</th>\n",
       "      <td>Christmas holiday 2020</td>\n",
       "      <td>2020-12-21</td>\n",
       "      <td>2021-01-03</td>\n",
       "    </tr>\n",
       "    <tr>\n",
       "      <th>1</th>\n",
       "      <td>Spring break 2021</td>\n",
       "      <td>2021-02-15</td>\n",
       "      <td>2021-02-21</td>\n",
       "    </tr>\n",
       "    <tr>\n",
       "      <th>2</th>\n",
       "      <td>Easter holiday 2021</td>\n",
       "      <td>2021-04-05</td>\n",
       "      <td>2021-04-18</td>\n",
       "    </tr>\n",
       "    <tr>\n",
       "      <th>3</th>\n",
       "      <td>Summer holiday 2021</td>\n",
       "      <td>2021-07-01</td>\n",
       "      <td>2021-08-31</td>\n",
       "    </tr>\n",
       "    <tr>\n",
       "      <th>4</th>\n",
       "      <td>Autumn break 2021</td>\n",
       "      <td>2021-11-01</td>\n",
       "      <td>2021-11-07</td>\n",
       "    </tr>\n",
       "  </tbody>\n",
       "</table>\n",
       "</div>"
      ],
      "text/plain": [
       "                     name       start         end\n",
       "0  Christmas holiday 2020  2020-12-21  2021-01-03\n",
       "1       Spring break 2021  2021-02-15  2021-02-21\n",
       "2     Easter holiday 2021  2021-04-05  2021-04-18\n",
       "3     Summer holiday 2021  2021-07-01  2021-08-31\n",
       "4       Autumn break 2021  2021-11-01  2021-11-07"
      ]
     },
     "execution_count": 87,
     "metadata": {},
     "output_type": "execute_result"
    }
   ],
   "source": [
    "school_holidays_data = pd.read_csv(\"input/bicycle-counter-prediction/school_holidays.csv\", sep = \";\")\n",
    "school_holidays_data.head()"
   ]
  },
  {
   "cell_type": "code",
   "execution_count": 88,
   "id": "d00da270",
   "metadata": {},
   "outputs": [
    {
     "name": "stdout",
     "output_type": "stream",
     "text": [
      "{datetime.date(2021, 1, 1): 'Nieuwjaar', datetime.date(2021, 4, 4): 'Pasen', datetime.date(2021, 4, 5): 'Paasmaandag', datetime.date(2021, 5, 1): 'Dag van de Arbeid', datetime.date(2021, 5, 13): 'O. L. H. Hemelvaart', datetime.date(2021, 5, 23): 'Pinksteren', datetime.date(2021, 5, 24): 'Pinkstermaandag', datetime.date(2021, 7, 21): 'Nationale feestdag', datetime.date(2021, 8, 15): 'O. L. V. Hemelvaart', datetime.date(2021, 11, 1): 'Allerheiligen', datetime.date(2021, 11, 11): 'Wapenstilstand', datetime.date(2021, 12, 25): 'Kerstmis', datetime.date(2022, 1, 1): 'Nieuwjaar', datetime.date(2022, 4, 17): 'Pasen', datetime.date(2022, 4, 18): 'Paasmaandag', datetime.date(2022, 5, 1): 'Dag van de Arbeid', datetime.date(2022, 5, 26): 'O. L. H. Hemelvaart', datetime.date(2022, 6, 5): 'Pinksteren', datetime.date(2022, 6, 6): 'Pinkstermaandag', datetime.date(2022, 7, 21): 'Nationale feestdag', datetime.date(2022, 8, 15): 'O. L. V. Hemelvaart', datetime.date(2022, 11, 1): 'Allerheiligen', datetime.date(2022, 11, 11): 'Wapenstilstand', datetime.date(2022, 12, 25): 'Kerstmis', datetime.date(2023, 1, 1): 'Nieuwjaar', datetime.date(2023, 4, 9): 'Pasen', datetime.date(2023, 4, 10): 'Paasmaandag', datetime.date(2023, 5, 1): 'Dag van de Arbeid', datetime.date(2023, 5, 18): 'O. L. H. Hemelvaart', datetime.date(2023, 5, 28): 'Pinksteren', datetime.date(2023, 5, 29): 'Pinkstermaandag', datetime.date(2023, 7, 21): 'Nationale feestdag', datetime.date(2023, 8, 15): 'O. L. V. Hemelvaart', datetime.date(2023, 11, 1): 'Allerheiligen', datetime.date(2023, 11, 11): 'Wapenstilstand', datetime.date(2023, 12, 25): 'Kerstmis'}\n"
     ]
    }
   ],
   "source": [
    "import holidays\n",
    "belgian_holidays = holidays.Belgium(years=[2021, 2022, 2023])\n",
    "print(belgian_holidays)"
   ]
  },
  {
   "cell_type": "code",
   "execution_count": 89,
   "id": "c0dab92c",
   "metadata": {},
   "outputs": [
    {
     "name": "stdout",
     "output_type": "stream",
     "text": [
      "{'Christmas holiday 2020': [datetime.datetime(2020, 12, 21, 0, 0), datetime.datetime(2021, 1, 3, 0, 0)], 'Spring break 2021': [datetime.datetime(2021, 2, 15, 0, 0), datetime.datetime(2021, 2, 21, 0, 0)], 'Easter holiday 2021': [datetime.datetime(2021, 4, 5, 0, 0), datetime.datetime(2021, 4, 18, 0, 0)], 'Summer holiday 2021': [datetime.datetime(2021, 7, 1, 0, 0), datetime.datetime(2021, 8, 31, 0, 0)], 'Autumn break 2021': [datetime.datetime(2021, 11, 1, 0, 0), datetime.datetime(2021, 11, 7, 0, 0)], 'Christmas holiday 2021': [datetime.datetime(2021, 12, 27, 0, 0), datetime.datetime(2022, 1, 9, 0, 0)], 'Spring break 2022': [datetime.datetime(2022, 2, 28, 0, 0), datetime.datetime(2022, 3, 6, 0, 0)], 'Easter holiday 2022': [datetime.datetime(2022, 4, 4, 0, 0), datetime.datetime(2022, 4, 18, 0, 0)], 'Summer holiday 2022': [datetime.datetime(2022, 7, 1, 0, 0), datetime.datetime(2022, 8, 31, 0, 0)], 'Autumn break 2022': [datetime.datetime(2022, 10, 31, 0, 0), datetime.datetime(2022, 11, 6, 0, 0)], 'Christmas holiday 2022': [datetime.datetime(2022, 12, 26, 0, 0), datetime.datetime(2023, 1, 8, 0, 0)], 'Spring break 2023': [datetime.datetime(2023, 2, 20, 0, 0), datetime.datetime(2023, 2, 26, 0, 0)], 'Easter holiday 2023': [datetime.datetime(2023, 4, 3, 0, 0), datetime.datetime(2023, 4, 16, 0, 0)], 'Summer holiday 2023': [datetime.datetime(2023, 7, 1, 0, 0), datetime.datetime(2023, 8, 31, 0, 0)], 'Autumn break 2023': [datetime.datetime(2023, 10, 30, 0, 0), datetime.datetime(2023, 11, 5, 0, 0)], 'Christmas holiday 2023': [datetime.datetime(2023, 12, 25, 0, 0), datetime.datetime(2024, 1, 7, 0, 0)]}\n"
     ]
    }
   ],
   "source": [
    "import datetime\n",
    "school_holidays = {}\n",
    "for index, row in school_holidays_data.iterrows():\n",
    "    school_holidays[row['name']] = [datetime.datetime.strptime(row['start'], '%Y-%m-%d'), datetime.datetime.strptime(row['end'], '%Y-%m-%d')]\n",
    "print(school_holidays)"
   ]
  },
  {
   "cell_type": "markdown",
   "id": "801ffed0",
   "metadata": {
    "papermill": {
     "duration": 0.003826,
     "end_time": "2023-10-05T13:07:11.396027",
     "exception": false,
     "start_time": "2023-10-05T13:07:11.392201",
     "status": "completed"
    },
    "tags": []
   },
   "source": [
    "The weather data downloaded from open meteo carries times in a slightly different format than the bicycle counter data.\n",
    "Note that you are encouraged to create and download your own weather data with more features.\n",
    "The following code converts this data:"
   ]
  },
  {
   "cell_type": "code",
   "execution_count": 90,
   "id": "c3befa9e",
   "metadata": {
    "execution": {
     "iopub.execute_input": "2023-10-05T13:07:11.405857Z",
     "iopub.status.busy": "2023-10-05T13:07:11.405515Z",
     "iopub.status.idle": "2023-10-05T13:07:11.439824Z",
     "shell.execute_reply": "2023-10-05T13:07:11.438961Z"
    },
    "papermill": {
     "duration": 0.042494,
     "end_time": "2023-10-05T13:07:11.442463",
     "exception": false,
     "start_time": "2023-10-05T13:07:11.399969",
     "status": "completed"
    },
    "tags": []
   },
   "outputs": [
    {
     "name": "stdout",
     "output_type": "stream",
     "text": [
      "(21192, 43)\n",
      "2021-03-01T00\n",
      "2023-07-31T23\n"
     ]
    },
    {
     "data": {
      "text/html": [
       "<div>\n",
       "<style scoped>\n",
       "    .dataframe tbody tr th:only-of-type {\n",
       "        vertical-align: middle;\n",
       "    }\n",
       "\n",
       "    .dataframe tbody tr th {\n",
       "        vertical-align: top;\n",
       "    }\n",
       "\n",
       "    .dataframe thead th {\n",
       "        text-align: right;\n",
       "    }\n",
       "</style>\n",
       "<table border=\"1\" class=\"dataframe\">\n",
       "  <thead>\n",
       "    <tr style=\"text-align: right;\">\n",
       "      <th></th>\n",
       "      <th>temperature_2m</th>\n",
       "      <th>relativehumidity_2m</th>\n",
       "      <th>dewpoint_2m</th>\n",
       "      <th>apparent_temperature</th>\n",
       "      <th>precipitation</th>\n",
       "      <th>rain</th>\n",
       "      <th>snowfall</th>\n",
       "      <th>snow_depth</th>\n",
       "      <th>weathercode</th>\n",
       "      <th>pressure_msl</th>\n",
       "      <th>...</th>\n",
       "      <th>diffuse_radiation</th>\n",
       "      <th>direct_normal_irradiance</th>\n",
       "      <th>terrestrial_radiation</th>\n",
       "      <th>shortwave_radiation_instant</th>\n",
       "      <th>direct_radiation_instant</th>\n",
       "      <th>diffuse_radiation_instant</th>\n",
       "      <th>direct_normal_irradiance_instant</th>\n",
       "      <th>terrestrial_radiation_instant</th>\n",
       "      <th>Date_hour</th>\n",
       "      <th>date</th>\n",
       "    </tr>\n",
       "  </thead>\n",
       "  <tbody>\n",
       "    <tr>\n",
       "      <th>1416</th>\n",
       "      <td>4.0</td>\n",
       "      <td>95.0</td>\n",
       "      <td>3.2</td>\n",
       "      <td>0.9</td>\n",
       "      <td>0.0</td>\n",
       "      <td>0.0</td>\n",
       "      <td>0.0</td>\n",
       "      <td>0.0</td>\n",
       "      <td>0.0</td>\n",
       "      <td>1033.6</td>\n",
       "      <td>...</td>\n",
       "      <td>0.0</td>\n",
       "      <td>0.0</td>\n",
       "      <td>0.0</td>\n",
       "      <td>0.0</td>\n",
       "      <td>0.0</td>\n",
       "      <td>0.0</td>\n",
       "      <td>0.0</td>\n",
       "      <td>0.0</td>\n",
       "      <td>2021-03-01T00</td>\n",
       "      <td>2021-03-01</td>\n",
       "    </tr>\n",
       "    <tr>\n",
       "      <th>1417</th>\n",
       "      <td>3.6</td>\n",
       "      <td>96.0</td>\n",
       "      <td>2.9</td>\n",
       "      <td>0.5</td>\n",
       "      <td>0.0</td>\n",
       "      <td>0.0</td>\n",
       "      <td>0.0</td>\n",
       "      <td>0.0</td>\n",
       "      <td>0.0</td>\n",
       "      <td>1033.7</td>\n",
       "      <td>...</td>\n",
       "      <td>0.0</td>\n",
       "      <td>0.0</td>\n",
       "      <td>0.0</td>\n",
       "      <td>0.0</td>\n",
       "      <td>0.0</td>\n",
       "      <td>0.0</td>\n",
       "      <td>0.0</td>\n",
       "      <td>0.0</td>\n",
       "      <td>2021-03-01T01</td>\n",
       "      <td>2021-03-01</td>\n",
       "    </tr>\n",
       "    <tr>\n",
       "      <th>1418</th>\n",
       "      <td>3.2</td>\n",
       "      <td>96.0</td>\n",
       "      <td>2.7</td>\n",
       "      <td>0.1</td>\n",
       "      <td>0.0</td>\n",
       "      <td>0.0</td>\n",
       "      <td>0.0</td>\n",
       "      <td>0.0</td>\n",
       "      <td>0.0</td>\n",
       "      <td>1033.5</td>\n",
       "      <td>...</td>\n",
       "      <td>0.0</td>\n",
       "      <td>0.0</td>\n",
       "      <td>0.0</td>\n",
       "      <td>0.0</td>\n",
       "      <td>0.0</td>\n",
       "      <td>0.0</td>\n",
       "      <td>0.0</td>\n",
       "      <td>0.0</td>\n",
       "      <td>2021-03-01T02</td>\n",
       "      <td>2021-03-01</td>\n",
       "    </tr>\n",
       "    <tr>\n",
       "      <th>1419</th>\n",
       "      <td>2.9</td>\n",
       "      <td>97.0</td>\n",
       "      <td>2.4</td>\n",
       "      <td>-0.4</td>\n",
       "      <td>0.0</td>\n",
       "      <td>0.0</td>\n",
       "      <td>0.0</td>\n",
       "      <td>0.0</td>\n",
       "      <td>0.0</td>\n",
       "      <td>1033.1</td>\n",
       "      <td>...</td>\n",
       "      <td>0.0</td>\n",
       "      <td>0.0</td>\n",
       "      <td>0.0</td>\n",
       "      <td>0.0</td>\n",
       "      <td>0.0</td>\n",
       "      <td>0.0</td>\n",
       "      <td>0.0</td>\n",
       "      <td>0.0</td>\n",
       "      <td>2021-03-01T03</td>\n",
       "      <td>2021-03-01</td>\n",
       "    </tr>\n",
       "    <tr>\n",
       "      <th>1420</th>\n",
       "      <td>2.6</td>\n",
       "      <td>97.0</td>\n",
       "      <td>2.2</td>\n",
       "      <td>-0.8</td>\n",
       "      <td>0.0</td>\n",
       "      <td>0.0</td>\n",
       "      <td>0.0</td>\n",
       "      <td>0.0</td>\n",
       "      <td>0.0</td>\n",
       "      <td>1033.1</td>\n",
       "      <td>...</td>\n",
       "      <td>0.0</td>\n",
       "      <td>0.0</td>\n",
       "      <td>0.0</td>\n",
       "      <td>0.0</td>\n",
       "      <td>0.0</td>\n",
       "      <td>0.0</td>\n",
       "      <td>0.0</td>\n",
       "      <td>0.0</td>\n",
       "      <td>2021-03-01T04</td>\n",
       "      <td>2021-03-01</td>\n",
       "    </tr>\n",
       "  </tbody>\n",
       "</table>\n",
       "<p>5 rows × 43 columns</p>\n",
       "</div>"
      ],
      "text/plain": [
       "      temperature_2m  relativehumidity_2m  dewpoint_2m  apparent_temperature  \\\n",
       "1416             4.0                 95.0          3.2                   0.9   \n",
       "1417             3.6                 96.0          2.9                   0.5   \n",
       "1418             3.2                 96.0          2.7                   0.1   \n",
       "1419             2.9                 97.0          2.4                  -0.4   \n",
       "1420             2.6                 97.0          2.2                  -0.8   \n",
       "\n",
       "      precipitation  rain  snowfall  snow_depth  weathercode  pressure_msl  \\\n",
       "1416            0.0   0.0       0.0         0.0          0.0        1033.6   \n",
       "1417            0.0   0.0       0.0         0.0          0.0        1033.7   \n",
       "1418            0.0   0.0       0.0         0.0          0.0        1033.5   \n",
       "1419            0.0   0.0       0.0         0.0          0.0        1033.1   \n",
       "1420            0.0   0.0       0.0         0.0          0.0        1033.1   \n",
       "\n",
       "      ...  diffuse_radiation  direct_normal_irradiance  terrestrial_radiation  \\\n",
       "1416  ...                0.0                       0.0                    0.0   \n",
       "1417  ...                0.0                       0.0                    0.0   \n",
       "1418  ...                0.0                       0.0                    0.0   \n",
       "1419  ...                0.0                       0.0                    0.0   \n",
       "1420  ...                0.0                       0.0                    0.0   \n",
       "\n",
       "      shortwave_radiation_instant  direct_radiation_instant  \\\n",
       "1416                          0.0                       0.0   \n",
       "1417                          0.0                       0.0   \n",
       "1418                          0.0                       0.0   \n",
       "1419                          0.0                       0.0   \n",
       "1420                          0.0                       0.0   \n",
       "\n",
       "      diffuse_radiation_instant  direct_normal_irradiance_instant  \\\n",
       "1416                        0.0                               0.0   \n",
       "1417                        0.0                               0.0   \n",
       "1418                        0.0                               0.0   \n",
       "1419                        0.0                               0.0   \n",
       "1420                        0.0                               0.0   \n",
       "\n",
       "      terrestrial_radiation_instant      Date_hour        date  \n",
       "1416                            0.0  2021-03-01T00  2021-03-01  \n",
       "1417                            0.0  2021-03-01T01  2021-03-01  \n",
       "1418                            0.0  2021-03-01T02  2021-03-01  \n",
       "1419                            0.0  2021-03-01T03  2021-03-01  \n",
       "1420                            0.0  2021-03-01T04  2021-03-01  \n",
       "\n",
       "[5 rows x 43 columns]"
      ]
     },
     "execution_count": 90,
     "metadata": {},
     "output_type": "execute_result"
    }
   ],
   "source": [
    "from datetime import timedelta\n",
    "\n",
    "weather_data = weather_rawdata.copy()\n",
    "weather_data.columns = weather_data.columns.str.split(' ').str[0]\n",
    "weather_data[\"Date_hour\"] = weather_data[\"time\"].str.split(':', expand = True)[0]\n",
    "weather_data = weather_data.drop(\"time\", axis = 1)\n",
    "weather_data = weather_data[(min(bicycle_data[\"Date_hour\"]) <= weather_data['Date_hour']) & (weather_data['Date_hour'] <= max(test_rawdata[\"Date_hour\"]))]\n",
    "date_time = pd.to_datetime(weather_data['Date_hour'])\n",
    "weather_data[\"date\"] = date_time.dt.date\n",
    "\n",
    "print(weather_data.shape)\n",
    "print(min(weather_data[\"Date_hour\"]))\n",
    "print(max(weather_data[\"Date_hour\"]))\n",
    "weather_data.head()"
   ]
  },
  {
   "cell_type": "markdown",
   "id": "ee5d088e",
   "metadata": {},
   "source": [
    "### Feature engineering"
   ]
  },
  {
   "cell_type": "code",
   "execution_count": 91,
   "id": "00d9ad00",
   "metadata": {},
   "outputs": [
    {
     "name": "stdout",
     "output_type": "stream",
     "text": [
      "(21192, 50)\n"
     ]
    },
    {
     "data": {
      "text/html": [
       "<div>\n",
       "<style scoped>\n",
       "    .dataframe tbody tr th:only-of-type {\n",
       "        vertical-align: middle;\n",
       "    }\n",
       "\n",
       "    .dataframe tbody tr th {\n",
       "        vertical-align: top;\n",
       "    }\n",
       "\n",
       "    .dataframe thead th {\n",
       "        text-align: right;\n",
       "    }\n",
       "</style>\n",
       "<table border=\"1\" class=\"dataframe\">\n",
       "  <thead>\n",
       "    <tr style=\"text-align: right;\">\n",
       "      <th></th>\n",
       "      <th>temperature_2m</th>\n",
       "      <th>relativehumidity_2m</th>\n",
       "      <th>dewpoint_2m</th>\n",
       "      <th>apparent_temperature</th>\n",
       "      <th>precipitation</th>\n",
       "      <th>rain</th>\n",
       "      <th>snowfall</th>\n",
       "      <th>snow_depth</th>\n",
       "      <th>weathercode</th>\n",
       "      <th>pressure_msl</th>\n",
       "      <th>...</th>\n",
       "      <th>terrestrial_radiation_instant</th>\n",
       "      <th>Date_hour</th>\n",
       "      <th>date</th>\n",
       "      <th>weekday</th>\n",
       "      <th>hour</th>\n",
       "      <th>month</th>\n",
       "      <th>hour_sin</th>\n",
       "      <th>season</th>\n",
       "      <th>next_day</th>\n",
       "      <th>prev_day</th>\n",
       "    </tr>\n",
       "  </thead>\n",
       "  <tbody>\n",
       "    <tr>\n",
       "      <th>1416</th>\n",
       "      <td>4.0</td>\n",
       "      <td>95.0</td>\n",
       "      <td>3.2</td>\n",
       "      <td>0.9</td>\n",
       "      <td>0.0</td>\n",
       "      <td>0.0</td>\n",
       "      <td>0.0</td>\n",
       "      <td>0.0</td>\n",
       "      <td>0.0</td>\n",
       "      <td>1033.6</td>\n",
       "      <td>...</td>\n",
       "      <td>0.0</td>\n",
       "      <td>2021-03-01T00</td>\n",
       "      <td>2021-03-01</td>\n",
       "      <td>Monday</td>\n",
       "      <td>0</td>\n",
       "      <td>3</td>\n",
       "      <td>0.000000</td>\n",
       "      <td>Spring</td>\n",
       "      <td>2021-03-02 00:00:00</td>\n",
       "      <td>2021-02-28 00:00:00</td>\n",
       "    </tr>\n",
       "    <tr>\n",
       "      <th>1417</th>\n",
       "      <td>3.6</td>\n",
       "      <td>96.0</td>\n",
       "      <td>2.9</td>\n",
       "      <td>0.5</td>\n",
       "      <td>0.0</td>\n",
       "      <td>0.0</td>\n",
       "      <td>0.0</td>\n",
       "      <td>0.0</td>\n",
       "      <td>0.0</td>\n",
       "      <td>1033.7</td>\n",
       "      <td>...</td>\n",
       "      <td>0.0</td>\n",
       "      <td>2021-03-01T01</td>\n",
       "      <td>2021-03-01</td>\n",
       "      <td>Monday</td>\n",
       "      <td>1</td>\n",
       "      <td>3</td>\n",
       "      <td>0.258819</td>\n",
       "      <td>Spring</td>\n",
       "      <td>2021-03-02 01:00:00</td>\n",
       "      <td>2021-02-28 01:00:00</td>\n",
       "    </tr>\n",
       "    <tr>\n",
       "      <th>1418</th>\n",
       "      <td>3.2</td>\n",
       "      <td>96.0</td>\n",
       "      <td>2.7</td>\n",
       "      <td>0.1</td>\n",
       "      <td>0.0</td>\n",
       "      <td>0.0</td>\n",
       "      <td>0.0</td>\n",
       "      <td>0.0</td>\n",
       "      <td>0.0</td>\n",
       "      <td>1033.5</td>\n",
       "      <td>...</td>\n",
       "      <td>0.0</td>\n",
       "      <td>2021-03-01T02</td>\n",
       "      <td>2021-03-01</td>\n",
       "      <td>Monday</td>\n",
       "      <td>2</td>\n",
       "      <td>3</td>\n",
       "      <td>0.500000</td>\n",
       "      <td>Spring</td>\n",
       "      <td>2021-03-02 02:00:00</td>\n",
       "      <td>2021-02-28 02:00:00</td>\n",
       "    </tr>\n",
       "    <tr>\n",
       "      <th>1419</th>\n",
       "      <td>2.9</td>\n",
       "      <td>97.0</td>\n",
       "      <td>2.4</td>\n",
       "      <td>-0.4</td>\n",
       "      <td>0.0</td>\n",
       "      <td>0.0</td>\n",
       "      <td>0.0</td>\n",
       "      <td>0.0</td>\n",
       "      <td>0.0</td>\n",
       "      <td>1033.1</td>\n",
       "      <td>...</td>\n",
       "      <td>0.0</td>\n",
       "      <td>2021-03-01T03</td>\n",
       "      <td>2021-03-01</td>\n",
       "      <td>Monday</td>\n",
       "      <td>3</td>\n",
       "      <td>3</td>\n",
       "      <td>0.707107</td>\n",
       "      <td>Spring</td>\n",
       "      <td>2021-03-02 03:00:00</td>\n",
       "      <td>2021-02-28 03:00:00</td>\n",
       "    </tr>\n",
       "    <tr>\n",
       "      <th>1420</th>\n",
       "      <td>2.6</td>\n",
       "      <td>97.0</td>\n",
       "      <td>2.2</td>\n",
       "      <td>-0.8</td>\n",
       "      <td>0.0</td>\n",
       "      <td>0.0</td>\n",
       "      <td>0.0</td>\n",
       "      <td>0.0</td>\n",
       "      <td>0.0</td>\n",
       "      <td>1033.1</td>\n",
       "      <td>...</td>\n",
       "      <td>0.0</td>\n",
       "      <td>2021-03-01T04</td>\n",
       "      <td>2021-03-01</td>\n",
       "      <td>Monday</td>\n",
       "      <td>4</td>\n",
       "      <td>3</td>\n",
       "      <td>0.866025</td>\n",
       "      <td>Spring</td>\n",
       "      <td>2021-03-02 04:00:00</td>\n",
       "      <td>2021-02-28 04:00:00</td>\n",
       "    </tr>\n",
       "  </tbody>\n",
       "</table>\n",
       "<p>5 rows × 50 columns</p>\n",
       "</div>"
      ],
      "text/plain": [
       "      temperature_2m  relativehumidity_2m  dewpoint_2m  apparent_temperature  \\\n",
       "1416             4.0                 95.0          3.2                   0.9   \n",
       "1417             3.6                 96.0          2.9                   0.5   \n",
       "1418             3.2                 96.0          2.7                   0.1   \n",
       "1419             2.9                 97.0          2.4                  -0.4   \n",
       "1420             2.6                 97.0          2.2                  -0.8   \n",
       "\n",
       "      precipitation  rain  snowfall  snow_depth  weathercode  pressure_msl  \\\n",
       "1416            0.0   0.0       0.0         0.0          0.0        1033.6   \n",
       "1417            0.0   0.0       0.0         0.0          0.0        1033.7   \n",
       "1418            0.0   0.0       0.0         0.0          0.0        1033.5   \n",
       "1419            0.0   0.0       0.0         0.0          0.0        1033.1   \n",
       "1420            0.0   0.0       0.0         0.0          0.0        1033.1   \n",
       "\n",
       "      ...  terrestrial_radiation_instant      Date_hour        date  weekday  \\\n",
       "1416  ...                            0.0  2021-03-01T00  2021-03-01   Monday   \n",
       "1417  ...                            0.0  2021-03-01T01  2021-03-01   Monday   \n",
       "1418  ...                            0.0  2021-03-01T02  2021-03-01   Monday   \n",
       "1419  ...                            0.0  2021-03-01T03  2021-03-01   Monday   \n",
       "1420  ...                            0.0  2021-03-01T04  2021-03-01   Monday   \n",
       "\n",
       "      hour  month  hour_sin  season            next_day            prev_day  \n",
       "1416     0      3  0.000000  Spring 2021-03-02 00:00:00 2021-02-28 00:00:00  \n",
       "1417     1      3  0.258819  Spring 2021-03-02 01:00:00 2021-02-28 01:00:00  \n",
       "1418     2      3  0.500000  Spring 2021-03-02 02:00:00 2021-02-28 02:00:00  \n",
       "1419     3      3  0.707107  Spring 2021-03-02 03:00:00 2021-02-28 03:00:00  \n",
       "1420     4      3  0.866025  Spring 2021-03-02 04:00:00 2021-02-28 04:00:00  \n",
       "\n",
       "[5 rows x 50 columns]"
      ]
     },
     "execution_count": 91,
     "metadata": {},
     "output_type": "execute_result"
    }
   ],
   "source": [
    "feature_data = weather_data.copy()\n",
    "feature_data['weekday'] = date_time.dt.strftime('%A')\n",
    "feature_data['hour'] = date_time.dt.hour\n",
    "feature_data[\"month\"] = date_time.dt.month\n",
    "feature_data['hour_sin'] = np.sin(2 * np.pi * feature_data['hour'] / 24)\n",
    "def get_season(date):\n",
    "    month = date.month\n",
    "    if 3 <= month <= 5:\n",
    "        return 'Spring'\n",
    "    elif 6 <= month <= 8:\n",
    "        return 'Summer'\n",
    "    elif 9 <= month <= 11:\n",
    "        return 'Fall'\n",
    "    else:\n",
    "        return 'Winter'\n",
    "feature_data['season'] = feature_data['date'].apply(get_season)\n",
    "feature_data['next_day'] = date_time + timedelta(days=1)\n",
    "feature_data['prev_day'] = date_time - timedelta(days=1)\n",
    "print(feature_data.shape)\n",
    "feature_data.head()"
   ]
  },
  {
   "cell_type": "code",
   "execution_count": 92,
   "id": "01e1ebdc",
   "metadata": {},
   "outputs": [
    {
     "name": "stdout",
     "output_type": "stream",
     "text": [
      "(21192, 54)\n"
     ]
    },
    {
     "data": {
      "text/html": [
       "<div>\n",
       "<style scoped>\n",
       "    .dataframe tbody tr th:only-of-type {\n",
       "        vertical-align: middle;\n",
       "    }\n",
       "\n",
       "    .dataframe tbody tr th {\n",
       "        vertical-align: top;\n",
       "    }\n",
       "\n",
       "    .dataframe thead th {\n",
       "        text-align: right;\n",
       "    }\n",
       "</style>\n",
       "<table border=\"1\" class=\"dataframe\">\n",
       "  <thead>\n",
       "    <tr style=\"text-align: right;\">\n",
       "      <th></th>\n",
       "      <th>temperature_2m</th>\n",
       "      <th>relativehumidity_2m</th>\n",
       "      <th>dewpoint_2m</th>\n",
       "      <th>apparent_temperature</th>\n",
       "      <th>precipitation</th>\n",
       "      <th>rain</th>\n",
       "      <th>snowfall</th>\n",
       "      <th>snow_depth</th>\n",
       "      <th>weathercode</th>\n",
       "      <th>pressure_msl</th>\n",
       "      <th>...</th>\n",
       "      <th>hour</th>\n",
       "      <th>month</th>\n",
       "      <th>hour_sin</th>\n",
       "      <th>season</th>\n",
       "      <th>next_day</th>\n",
       "      <th>prev_day</th>\n",
       "      <th>is_school_hours</th>\n",
       "      <th>is_weekend</th>\n",
       "      <th>is_university_lessons</th>\n",
       "      <th>is_Ghent_event</th>\n",
       "    </tr>\n",
       "  </thead>\n",
       "  <tbody>\n",
       "    <tr>\n",
       "      <th>1416</th>\n",
       "      <td>4.0</td>\n",
       "      <td>95.0</td>\n",
       "      <td>3.2</td>\n",
       "      <td>0.9</td>\n",
       "      <td>0.0</td>\n",
       "      <td>0.0</td>\n",
       "      <td>0.0</td>\n",
       "      <td>0.0</td>\n",
       "      <td>0.0</td>\n",
       "      <td>1033.6</td>\n",
       "      <td>...</td>\n",
       "      <td>0</td>\n",
       "      <td>3</td>\n",
       "      <td>0.000000</td>\n",
       "      <td>Spring</td>\n",
       "      <td>2021-03-02 00:00:00</td>\n",
       "      <td>2021-02-28 00:00:00</td>\n",
       "      <td>0</td>\n",
       "      <td>0</td>\n",
       "      <td>0</td>\n",
       "      <td>0</td>\n",
       "    </tr>\n",
       "    <tr>\n",
       "      <th>1417</th>\n",
       "      <td>3.6</td>\n",
       "      <td>96.0</td>\n",
       "      <td>2.9</td>\n",
       "      <td>0.5</td>\n",
       "      <td>0.0</td>\n",
       "      <td>0.0</td>\n",
       "      <td>0.0</td>\n",
       "      <td>0.0</td>\n",
       "      <td>0.0</td>\n",
       "      <td>1033.7</td>\n",
       "      <td>...</td>\n",
       "      <td>1</td>\n",
       "      <td>3</td>\n",
       "      <td>0.258819</td>\n",
       "      <td>Spring</td>\n",
       "      <td>2021-03-02 01:00:00</td>\n",
       "      <td>2021-02-28 01:00:00</td>\n",
       "      <td>0</td>\n",
       "      <td>0</td>\n",
       "      <td>0</td>\n",
       "      <td>0</td>\n",
       "    </tr>\n",
       "    <tr>\n",
       "      <th>1418</th>\n",
       "      <td>3.2</td>\n",
       "      <td>96.0</td>\n",
       "      <td>2.7</td>\n",
       "      <td>0.1</td>\n",
       "      <td>0.0</td>\n",
       "      <td>0.0</td>\n",
       "      <td>0.0</td>\n",
       "      <td>0.0</td>\n",
       "      <td>0.0</td>\n",
       "      <td>1033.5</td>\n",
       "      <td>...</td>\n",
       "      <td>2</td>\n",
       "      <td>3</td>\n",
       "      <td>0.500000</td>\n",
       "      <td>Spring</td>\n",
       "      <td>2021-03-02 02:00:00</td>\n",
       "      <td>2021-02-28 02:00:00</td>\n",
       "      <td>0</td>\n",
       "      <td>0</td>\n",
       "      <td>0</td>\n",
       "      <td>0</td>\n",
       "    </tr>\n",
       "    <tr>\n",
       "      <th>1419</th>\n",
       "      <td>2.9</td>\n",
       "      <td>97.0</td>\n",
       "      <td>2.4</td>\n",
       "      <td>-0.4</td>\n",
       "      <td>0.0</td>\n",
       "      <td>0.0</td>\n",
       "      <td>0.0</td>\n",
       "      <td>0.0</td>\n",
       "      <td>0.0</td>\n",
       "      <td>1033.1</td>\n",
       "      <td>...</td>\n",
       "      <td>3</td>\n",
       "      <td>3</td>\n",
       "      <td>0.707107</td>\n",
       "      <td>Spring</td>\n",
       "      <td>2021-03-02 03:00:00</td>\n",
       "      <td>2021-02-28 03:00:00</td>\n",
       "      <td>0</td>\n",
       "      <td>0</td>\n",
       "      <td>0</td>\n",
       "      <td>0</td>\n",
       "    </tr>\n",
       "    <tr>\n",
       "      <th>1420</th>\n",
       "      <td>2.6</td>\n",
       "      <td>97.0</td>\n",
       "      <td>2.2</td>\n",
       "      <td>-0.8</td>\n",
       "      <td>0.0</td>\n",
       "      <td>0.0</td>\n",
       "      <td>0.0</td>\n",
       "      <td>0.0</td>\n",
       "      <td>0.0</td>\n",
       "      <td>1033.1</td>\n",
       "      <td>...</td>\n",
       "      <td>4</td>\n",
       "      <td>3</td>\n",
       "      <td>0.866025</td>\n",
       "      <td>Spring</td>\n",
       "      <td>2021-03-02 04:00:00</td>\n",
       "      <td>2021-02-28 04:00:00</td>\n",
       "      <td>0</td>\n",
       "      <td>0</td>\n",
       "      <td>0</td>\n",
       "      <td>0</td>\n",
       "    </tr>\n",
       "  </tbody>\n",
       "</table>\n",
       "<p>5 rows × 54 columns</p>\n",
       "</div>"
      ],
      "text/plain": [
       "      temperature_2m  relativehumidity_2m  dewpoint_2m  apparent_temperature  \\\n",
       "1416             4.0                 95.0          3.2                   0.9   \n",
       "1417             3.6                 96.0          2.9                   0.5   \n",
       "1418             3.2                 96.0          2.7                   0.1   \n",
       "1419             2.9                 97.0          2.4                  -0.4   \n",
       "1420             2.6                 97.0          2.2                  -0.8   \n",
       "\n",
       "      precipitation  rain  snowfall  snow_depth  weathercode  pressure_msl  \\\n",
       "1416            0.0   0.0       0.0         0.0          0.0        1033.6   \n",
       "1417            0.0   0.0       0.0         0.0          0.0        1033.7   \n",
       "1418            0.0   0.0       0.0         0.0          0.0        1033.5   \n",
       "1419            0.0   0.0       0.0         0.0          0.0        1033.1   \n",
       "1420            0.0   0.0       0.0         0.0          0.0        1033.1   \n",
       "\n",
       "      ...  hour  month  hour_sin  season            next_day  \\\n",
       "1416  ...     0      3  0.000000  Spring 2021-03-02 00:00:00   \n",
       "1417  ...     1      3  0.258819  Spring 2021-03-02 01:00:00   \n",
       "1418  ...     2      3  0.500000  Spring 2021-03-02 02:00:00   \n",
       "1419  ...     3      3  0.707107  Spring 2021-03-02 03:00:00   \n",
       "1420  ...     4      3  0.866025  Spring 2021-03-02 04:00:00   \n",
       "\n",
       "                prev_day  is_school_hours  is_weekend  is_university_lessons  \\\n",
       "1416 2021-02-28 00:00:00                0           0                      0   \n",
       "1417 2021-02-28 01:00:00                0           0                      0   \n",
       "1418 2021-02-28 02:00:00                0           0                      0   \n",
       "1419 2021-02-28 03:00:00                0           0                      0   \n",
       "1420 2021-02-28 04:00:00                0           0                      0   \n",
       "\n",
       "      is_Ghent_event  \n",
       "1416               0  \n",
       "1417               0  \n",
       "1418               0  \n",
       "1419               0  \n",
       "1420               0  \n",
       "\n",
       "[5 rows x 54 columns]"
      ]
     },
     "execution_count": 92,
     "metadata": {},
     "output_type": "execute_result"
    }
   ],
   "source": [
    "feature_data['is_school_hours'] = ((date_time.dt.hour >= 8) & (date_time.dt.hour <= 17)).astype(int)\n",
    "feature_data['is_weekend'] = (feature_data['weekday'].isin([\"Saturday\", \"Sunday\"])).astype(int)\n",
    "feature_data['is_university_lessons'] = (weather_data[\"Date_hour\"].apply(lambda dt:('02-13' <= dt <= '04-01') or ('04-17' <= dt <= '05-20'))).astype(int)\n",
    "feature_data['is_Ghent_event'] = (weather_data[\"Date_hour\"].apply(lambda dt:('07-14' <= dt <= '07-23'))).astype(int)\n",
    "\n",
    "print(feature_data.shape)\n",
    "feature_data.head()"
   ]
  },
  {
   "cell_type": "code",
   "execution_count": 93,
   "id": "6e2ef8cf",
   "metadata": {},
   "outputs": [
    {
     "name": "stdout",
     "output_type": "stream",
     "text": [
      "(21192, 56)\n"
     ]
    },
    {
     "data": {
      "text/html": [
       "<div>\n",
       "<style scoped>\n",
       "    .dataframe tbody tr th:only-of-type {\n",
       "        vertical-align: middle;\n",
       "    }\n",
       "\n",
       "    .dataframe tbody tr th {\n",
       "        vertical-align: top;\n",
       "    }\n",
       "\n",
       "    .dataframe thead th {\n",
       "        text-align: right;\n",
       "    }\n",
       "</style>\n",
       "<table border=\"1\" class=\"dataframe\">\n",
       "  <thead>\n",
       "    <tr style=\"text-align: right;\">\n",
       "      <th></th>\n",
       "      <th>temperature_2m</th>\n",
       "      <th>relativehumidity_2m</th>\n",
       "      <th>dewpoint_2m</th>\n",
       "      <th>apparent_temperature</th>\n",
       "      <th>precipitation</th>\n",
       "      <th>rain</th>\n",
       "      <th>snowfall</th>\n",
       "      <th>snow_depth</th>\n",
       "      <th>weathercode</th>\n",
       "      <th>pressure_msl</th>\n",
       "      <th>...</th>\n",
       "      <th>hour_sin</th>\n",
       "      <th>season</th>\n",
       "      <th>next_day</th>\n",
       "      <th>prev_day</th>\n",
       "      <th>is_school_hours</th>\n",
       "      <th>is_weekend</th>\n",
       "      <th>is_university_lessons</th>\n",
       "      <th>is_Ghent_event</th>\n",
       "      <th>is_public_holiday</th>\n",
       "      <th>is_school_holiday</th>\n",
       "    </tr>\n",
       "  </thead>\n",
       "  <tbody>\n",
       "    <tr>\n",
       "      <th>1416</th>\n",
       "      <td>4.0</td>\n",
       "      <td>95.0</td>\n",
       "      <td>3.2</td>\n",
       "      <td>0.9</td>\n",
       "      <td>0.0</td>\n",
       "      <td>0.0</td>\n",
       "      <td>0.0</td>\n",
       "      <td>0.0</td>\n",
       "      <td>0.0</td>\n",
       "      <td>1033.6</td>\n",
       "      <td>...</td>\n",
       "      <td>0.000000</td>\n",
       "      <td>Spring</td>\n",
       "      <td>2021-03-02 00:00:00</td>\n",
       "      <td>2021-02-28 00:00:00</td>\n",
       "      <td>0</td>\n",
       "      <td>0</td>\n",
       "      <td>0</td>\n",
       "      <td>0</td>\n",
       "      <td>0</td>\n",
       "      <td>0</td>\n",
       "    </tr>\n",
       "    <tr>\n",
       "      <th>1417</th>\n",
       "      <td>3.6</td>\n",
       "      <td>96.0</td>\n",
       "      <td>2.9</td>\n",
       "      <td>0.5</td>\n",
       "      <td>0.0</td>\n",
       "      <td>0.0</td>\n",
       "      <td>0.0</td>\n",
       "      <td>0.0</td>\n",
       "      <td>0.0</td>\n",
       "      <td>1033.7</td>\n",
       "      <td>...</td>\n",
       "      <td>0.258819</td>\n",
       "      <td>Spring</td>\n",
       "      <td>2021-03-02 01:00:00</td>\n",
       "      <td>2021-02-28 01:00:00</td>\n",
       "      <td>0</td>\n",
       "      <td>0</td>\n",
       "      <td>0</td>\n",
       "      <td>0</td>\n",
       "      <td>0</td>\n",
       "      <td>0</td>\n",
       "    </tr>\n",
       "    <tr>\n",
       "      <th>1418</th>\n",
       "      <td>3.2</td>\n",
       "      <td>96.0</td>\n",
       "      <td>2.7</td>\n",
       "      <td>0.1</td>\n",
       "      <td>0.0</td>\n",
       "      <td>0.0</td>\n",
       "      <td>0.0</td>\n",
       "      <td>0.0</td>\n",
       "      <td>0.0</td>\n",
       "      <td>1033.5</td>\n",
       "      <td>...</td>\n",
       "      <td>0.500000</td>\n",
       "      <td>Spring</td>\n",
       "      <td>2021-03-02 02:00:00</td>\n",
       "      <td>2021-02-28 02:00:00</td>\n",
       "      <td>0</td>\n",
       "      <td>0</td>\n",
       "      <td>0</td>\n",
       "      <td>0</td>\n",
       "      <td>0</td>\n",
       "      <td>0</td>\n",
       "    </tr>\n",
       "    <tr>\n",
       "      <th>1419</th>\n",
       "      <td>2.9</td>\n",
       "      <td>97.0</td>\n",
       "      <td>2.4</td>\n",
       "      <td>-0.4</td>\n",
       "      <td>0.0</td>\n",
       "      <td>0.0</td>\n",
       "      <td>0.0</td>\n",
       "      <td>0.0</td>\n",
       "      <td>0.0</td>\n",
       "      <td>1033.1</td>\n",
       "      <td>...</td>\n",
       "      <td>0.707107</td>\n",
       "      <td>Spring</td>\n",
       "      <td>2021-03-02 03:00:00</td>\n",
       "      <td>2021-02-28 03:00:00</td>\n",
       "      <td>0</td>\n",
       "      <td>0</td>\n",
       "      <td>0</td>\n",
       "      <td>0</td>\n",
       "      <td>0</td>\n",
       "      <td>0</td>\n",
       "    </tr>\n",
       "    <tr>\n",
       "      <th>1420</th>\n",
       "      <td>2.6</td>\n",
       "      <td>97.0</td>\n",
       "      <td>2.2</td>\n",
       "      <td>-0.8</td>\n",
       "      <td>0.0</td>\n",
       "      <td>0.0</td>\n",
       "      <td>0.0</td>\n",
       "      <td>0.0</td>\n",
       "      <td>0.0</td>\n",
       "      <td>1033.1</td>\n",
       "      <td>...</td>\n",
       "      <td>0.866025</td>\n",
       "      <td>Spring</td>\n",
       "      <td>2021-03-02 04:00:00</td>\n",
       "      <td>2021-02-28 04:00:00</td>\n",
       "      <td>0</td>\n",
       "      <td>0</td>\n",
       "      <td>0</td>\n",
       "      <td>0</td>\n",
       "      <td>0</td>\n",
       "      <td>0</td>\n",
       "    </tr>\n",
       "  </tbody>\n",
       "</table>\n",
       "<p>5 rows × 56 columns</p>\n",
       "</div>"
      ],
      "text/plain": [
       "      temperature_2m  relativehumidity_2m  dewpoint_2m  apparent_temperature  \\\n",
       "1416             4.0                 95.0          3.2                   0.9   \n",
       "1417             3.6                 96.0          2.9                   0.5   \n",
       "1418             3.2                 96.0          2.7                   0.1   \n",
       "1419             2.9                 97.0          2.4                  -0.4   \n",
       "1420             2.6                 97.0          2.2                  -0.8   \n",
       "\n",
       "      precipitation  rain  snowfall  snow_depth  weathercode  pressure_msl  \\\n",
       "1416            0.0   0.0       0.0         0.0          0.0        1033.6   \n",
       "1417            0.0   0.0       0.0         0.0          0.0        1033.7   \n",
       "1418            0.0   0.0       0.0         0.0          0.0        1033.5   \n",
       "1419            0.0   0.0       0.0         0.0          0.0        1033.1   \n",
       "1420            0.0   0.0       0.0         0.0          0.0        1033.1   \n",
       "\n",
       "      ...  hour_sin  season            next_day            prev_day  \\\n",
       "1416  ...  0.000000  Spring 2021-03-02 00:00:00 2021-02-28 00:00:00   \n",
       "1417  ...  0.258819  Spring 2021-03-02 01:00:00 2021-02-28 01:00:00   \n",
       "1418  ...  0.500000  Spring 2021-03-02 02:00:00 2021-02-28 02:00:00   \n",
       "1419  ...  0.707107  Spring 2021-03-02 03:00:00 2021-02-28 03:00:00   \n",
       "1420  ...  0.866025  Spring 2021-03-02 04:00:00 2021-02-28 04:00:00   \n",
       "\n",
       "      is_school_hours  is_weekend  is_university_lessons  is_Ghent_event  \\\n",
       "1416                0           0                      0               0   \n",
       "1417                0           0                      0               0   \n",
       "1418                0           0                      0               0   \n",
       "1419                0           0                      0               0   \n",
       "1420                0           0                      0               0   \n",
       "\n",
       "      is_public_holiday  is_school_holiday  \n",
       "1416                  0                  0  \n",
       "1417                  0                  0  \n",
       "1418                  0                  0  \n",
       "1419                  0                  0  \n",
       "1420                  0                  0  \n",
       "\n",
       "[5 rows x 56 columns]"
      ]
     },
     "execution_count": 93,
     "metadata": {},
     "output_type": "execute_result"
    }
   ],
   "source": [
    "feature_data['is_public_holiday'] = (date_time.dt.date.isin(belgian_holidays)).astype(int)\n",
    "# feature_data['is_bridge_day'] = (feature_data['weekday'].isin([\"Monday\", \"Friday\"]) & feature_data['next_day'].dt.date.isin(belgian_holidays) | weather_data['prev_day'].dt.date.isin(belgian_holidays)).astype(int)\n",
    "is_school_holiday = [0] * len(date_time)\n",
    "for i, check_date in enumerate(date_time):\n",
    "    for holiday, date_range in school_holidays.items():\n",
    "        start_date = date_range[0]\n",
    "        end_date = date_range[1]\n",
    "        if start_date <= check_date <= end_date:\n",
    "            is_school_holiday[i] = 1\n",
    "feature_data[\"is_school_holiday\"] = is_school_holiday\n",
    "print(feature_data.shape)\n",
    "feature_data.head()"
   ]
  },
  {
   "cell_type": "code",
   "execution_count": 122,
   "id": "8b26f623",
   "metadata": {},
   "outputs": [
    {
     "data": {
      "text/html": [
       "<div>\n",
       "<style scoped>\n",
       "    .dataframe tbody tr th:only-of-type {\n",
       "        vertical-align: middle;\n",
       "    }\n",
       "\n",
       "    .dataframe tbody tr th {\n",
       "        vertical-align: top;\n",
       "    }\n",
       "\n",
       "    .dataframe thead th {\n",
       "        text-align: right;\n",
       "    }\n",
       "</style>\n",
       "<table border=\"1\" class=\"dataframe\">\n",
       "  <thead>\n",
       "    <tr style=\"text-align: right;\">\n",
       "      <th></th>\n",
       "      <th>Friday</th>\n",
       "      <th>Monday</th>\n",
       "      <th>Saturday</th>\n",
       "      <th>Sunday</th>\n",
       "      <th>Thursday</th>\n",
       "      <th>Tuesday</th>\n",
       "      <th>Wednesday</th>\n",
       "      <th>Fall</th>\n",
       "      <th>Spring</th>\n",
       "      <th>Summer</th>\n",
       "      <th>...</th>\n",
       "      <th>3</th>\n",
       "      <th>4</th>\n",
       "      <th>5</th>\n",
       "      <th>6</th>\n",
       "      <th>7</th>\n",
       "      <th>8</th>\n",
       "      <th>9</th>\n",
       "      <th>10</th>\n",
       "      <th>11</th>\n",
       "      <th>12</th>\n",
       "    </tr>\n",
       "  </thead>\n",
       "  <tbody>\n",
       "    <tr>\n",
       "      <th>1416</th>\n",
       "      <td>0</td>\n",
       "      <td>1</td>\n",
       "      <td>0</td>\n",
       "      <td>0</td>\n",
       "      <td>0</td>\n",
       "      <td>0</td>\n",
       "      <td>0</td>\n",
       "      <td>0</td>\n",
       "      <td>1</td>\n",
       "      <td>0</td>\n",
       "      <td>...</td>\n",
       "      <td>1</td>\n",
       "      <td>0</td>\n",
       "      <td>0</td>\n",
       "      <td>0</td>\n",
       "      <td>0</td>\n",
       "      <td>0</td>\n",
       "      <td>0</td>\n",
       "      <td>0</td>\n",
       "      <td>0</td>\n",
       "      <td>0</td>\n",
       "    </tr>\n",
       "    <tr>\n",
       "      <th>1417</th>\n",
       "      <td>0</td>\n",
       "      <td>1</td>\n",
       "      <td>0</td>\n",
       "      <td>0</td>\n",
       "      <td>0</td>\n",
       "      <td>0</td>\n",
       "      <td>0</td>\n",
       "      <td>0</td>\n",
       "      <td>1</td>\n",
       "      <td>0</td>\n",
       "      <td>...</td>\n",
       "      <td>1</td>\n",
       "      <td>0</td>\n",
       "      <td>0</td>\n",
       "      <td>0</td>\n",
       "      <td>0</td>\n",
       "      <td>0</td>\n",
       "      <td>0</td>\n",
       "      <td>0</td>\n",
       "      <td>0</td>\n",
       "      <td>0</td>\n",
       "    </tr>\n",
       "    <tr>\n",
       "      <th>1418</th>\n",
       "      <td>0</td>\n",
       "      <td>1</td>\n",
       "      <td>0</td>\n",
       "      <td>0</td>\n",
       "      <td>0</td>\n",
       "      <td>0</td>\n",
       "      <td>0</td>\n",
       "      <td>0</td>\n",
       "      <td>1</td>\n",
       "      <td>0</td>\n",
       "      <td>...</td>\n",
       "      <td>1</td>\n",
       "      <td>0</td>\n",
       "      <td>0</td>\n",
       "      <td>0</td>\n",
       "      <td>0</td>\n",
       "      <td>0</td>\n",
       "      <td>0</td>\n",
       "      <td>0</td>\n",
       "      <td>0</td>\n",
       "      <td>0</td>\n",
       "    </tr>\n",
       "    <tr>\n",
       "      <th>1419</th>\n",
       "      <td>0</td>\n",
       "      <td>1</td>\n",
       "      <td>0</td>\n",
       "      <td>0</td>\n",
       "      <td>0</td>\n",
       "      <td>0</td>\n",
       "      <td>0</td>\n",
       "      <td>0</td>\n",
       "      <td>1</td>\n",
       "      <td>0</td>\n",
       "      <td>...</td>\n",
       "      <td>1</td>\n",
       "      <td>0</td>\n",
       "      <td>0</td>\n",
       "      <td>0</td>\n",
       "      <td>0</td>\n",
       "      <td>0</td>\n",
       "      <td>0</td>\n",
       "      <td>0</td>\n",
       "      <td>0</td>\n",
       "      <td>0</td>\n",
       "    </tr>\n",
       "    <tr>\n",
       "      <th>1420</th>\n",
       "      <td>0</td>\n",
       "      <td>1</td>\n",
       "      <td>0</td>\n",
       "      <td>0</td>\n",
       "      <td>0</td>\n",
       "      <td>0</td>\n",
       "      <td>0</td>\n",
       "      <td>0</td>\n",
       "      <td>1</td>\n",
       "      <td>0</td>\n",
       "      <td>...</td>\n",
       "      <td>1</td>\n",
       "      <td>0</td>\n",
       "      <td>0</td>\n",
       "      <td>0</td>\n",
       "      <td>0</td>\n",
       "      <td>0</td>\n",
       "      <td>0</td>\n",
       "      <td>0</td>\n",
       "      <td>0</td>\n",
       "      <td>0</td>\n",
       "    </tr>\n",
       "  </tbody>\n",
       "</table>\n",
       "<p>5 rows × 23 columns</p>\n",
       "</div>"
      ],
      "text/plain": [
       "      Friday  Monday  Saturday  Sunday  Thursday  Tuesday  Wednesday  Fall  \\\n",
       "1416       0       1         0       0         0        0          0     0   \n",
       "1417       0       1         0       0         0        0          0     0   \n",
       "1418       0       1         0       0         0        0          0     0   \n",
       "1419       0       1         0       0         0        0          0     0   \n",
       "1420       0       1         0       0         0        0          0     0   \n",
       "\n",
       "      Spring  Summer  ...  3  4  5  6  7  8  9  10  11  12  \n",
       "1416       1       0  ...  1  0  0  0  0  0  0   0   0   0  \n",
       "1417       1       0  ...  1  0  0  0  0  0  0   0   0   0  \n",
       "1418       1       0  ...  1  0  0  0  0  0  0   0   0   0  \n",
       "1419       1       0  ...  1  0  0  0  0  0  0   0   0   0  \n",
       "1420       1       0  ...  1  0  0  0  0  0  0   0   0   0  \n",
       "\n",
       "[5 rows x 23 columns]"
      ]
     },
     "execution_count": 122,
     "metadata": {},
     "output_type": "execute_result"
    }
   ],
   "source": [
    "dummies = pd.concat([pd.get_dummies(feature_data.weekday), pd.get_dummies(feature_data.season)], axis = 1)\n",
    "dummies.head()"
   ]
  },
  {
   "cell_type": "code",
   "execution_count": 95,
   "id": "c1d132f2",
   "metadata": {},
   "outputs": [
    {
     "name": "stdout",
     "output_type": "stream",
     "text": [
      "(21192, 67)\n"
     ]
    },
    {
     "data": {
      "text/html": [
       "<div>\n",
       "<style scoped>\n",
       "    .dataframe tbody tr th:only-of-type {\n",
       "        vertical-align: middle;\n",
       "    }\n",
       "\n",
       "    .dataframe tbody tr th {\n",
       "        vertical-align: top;\n",
       "    }\n",
       "\n",
       "    .dataframe thead th {\n",
       "        text-align: right;\n",
       "    }\n",
       "</style>\n",
       "<table border=\"1\" class=\"dataframe\">\n",
       "  <thead>\n",
       "    <tr style=\"text-align: right;\">\n",
       "      <th></th>\n",
       "      <th>temperature_2m</th>\n",
       "      <th>relativehumidity_2m</th>\n",
       "      <th>dewpoint_2m</th>\n",
       "      <th>apparent_temperature</th>\n",
       "      <th>precipitation</th>\n",
       "      <th>rain</th>\n",
       "      <th>snowfall</th>\n",
       "      <th>snow_depth</th>\n",
       "      <th>weathercode</th>\n",
       "      <th>pressure_msl</th>\n",
       "      <th>...</th>\n",
       "      <th>Monday</th>\n",
       "      <th>Saturday</th>\n",
       "      <th>Sunday</th>\n",
       "      <th>Thursday</th>\n",
       "      <th>Tuesday</th>\n",
       "      <th>Wednesday</th>\n",
       "      <th>Fall</th>\n",
       "      <th>Spring</th>\n",
       "      <th>Summer</th>\n",
       "      <th>Winter</th>\n",
       "    </tr>\n",
       "  </thead>\n",
       "  <tbody>\n",
       "    <tr>\n",
       "      <th>1416</th>\n",
       "      <td>4.0</td>\n",
       "      <td>95.0</td>\n",
       "      <td>3.2</td>\n",
       "      <td>0.9</td>\n",
       "      <td>0.0</td>\n",
       "      <td>0.0</td>\n",
       "      <td>0.0</td>\n",
       "      <td>0.0</td>\n",
       "      <td>0.0</td>\n",
       "      <td>1033.6</td>\n",
       "      <td>...</td>\n",
       "      <td>1</td>\n",
       "      <td>0</td>\n",
       "      <td>0</td>\n",
       "      <td>0</td>\n",
       "      <td>0</td>\n",
       "      <td>0</td>\n",
       "      <td>0</td>\n",
       "      <td>1</td>\n",
       "      <td>0</td>\n",
       "      <td>0</td>\n",
       "    </tr>\n",
       "    <tr>\n",
       "      <th>1417</th>\n",
       "      <td>3.6</td>\n",
       "      <td>96.0</td>\n",
       "      <td>2.9</td>\n",
       "      <td>0.5</td>\n",
       "      <td>0.0</td>\n",
       "      <td>0.0</td>\n",
       "      <td>0.0</td>\n",
       "      <td>0.0</td>\n",
       "      <td>0.0</td>\n",
       "      <td>1033.7</td>\n",
       "      <td>...</td>\n",
       "      <td>1</td>\n",
       "      <td>0</td>\n",
       "      <td>0</td>\n",
       "      <td>0</td>\n",
       "      <td>0</td>\n",
       "      <td>0</td>\n",
       "      <td>0</td>\n",
       "      <td>1</td>\n",
       "      <td>0</td>\n",
       "      <td>0</td>\n",
       "    </tr>\n",
       "    <tr>\n",
       "      <th>1418</th>\n",
       "      <td>3.2</td>\n",
       "      <td>96.0</td>\n",
       "      <td>2.7</td>\n",
       "      <td>0.1</td>\n",
       "      <td>0.0</td>\n",
       "      <td>0.0</td>\n",
       "      <td>0.0</td>\n",
       "      <td>0.0</td>\n",
       "      <td>0.0</td>\n",
       "      <td>1033.5</td>\n",
       "      <td>...</td>\n",
       "      <td>1</td>\n",
       "      <td>0</td>\n",
       "      <td>0</td>\n",
       "      <td>0</td>\n",
       "      <td>0</td>\n",
       "      <td>0</td>\n",
       "      <td>0</td>\n",
       "      <td>1</td>\n",
       "      <td>0</td>\n",
       "      <td>0</td>\n",
       "    </tr>\n",
       "    <tr>\n",
       "      <th>1419</th>\n",
       "      <td>2.9</td>\n",
       "      <td>97.0</td>\n",
       "      <td>2.4</td>\n",
       "      <td>-0.4</td>\n",
       "      <td>0.0</td>\n",
       "      <td>0.0</td>\n",
       "      <td>0.0</td>\n",
       "      <td>0.0</td>\n",
       "      <td>0.0</td>\n",
       "      <td>1033.1</td>\n",
       "      <td>...</td>\n",
       "      <td>1</td>\n",
       "      <td>0</td>\n",
       "      <td>0</td>\n",
       "      <td>0</td>\n",
       "      <td>0</td>\n",
       "      <td>0</td>\n",
       "      <td>0</td>\n",
       "      <td>1</td>\n",
       "      <td>0</td>\n",
       "      <td>0</td>\n",
       "    </tr>\n",
       "    <tr>\n",
       "      <th>1420</th>\n",
       "      <td>2.6</td>\n",
       "      <td>97.0</td>\n",
       "      <td>2.2</td>\n",
       "      <td>-0.8</td>\n",
       "      <td>0.0</td>\n",
       "      <td>0.0</td>\n",
       "      <td>0.0</td>\n",
       "      <td>0.0</td>\n",
       "      <td>0.0</td>\n",
       "      <td>1033.1</td>\n",
       "      <td>...</td>\n",
       "      <td>1</td>\n",
       "      <td>0</td>\n",
       "      <td>0</td>\n",
       "      <td>0</td>\n",
       "      <td>0</td>\n",
       "      <td>0</td>\n",
       "      <td>0</td>\n",
       "      <td>1</td>\n",
       "      <td>0</td>\n",
       "      <td>0</td>\n",
       "    </tr>\n",
       "  </tbody>\n",
       "</table>\n",
       "<p>5 rows × 67 columns</p>\n",
       "</div>"
      ],
      "text/plain": [
       "      temperature_2m  relativehumidity_2m  dewpoint_2m  apparent_temperature  \\\n",
       "1416             4.0                 95.0          3.2                   0.9   \n",
       "1417             3.6                 96.0          2.9                   0.5   \n",
       "1418             3.2                 96.0          2.7                   0.1   \n",
       "1419             2.9                 97.0          2.4                  -0.4   \n",
       "1420             2.6                 97.0          2.2                  -0.8   \n",
       "\n",
       "      precipitation  rain  snowfall  snow_depth  weathercode  pressure_msl  \\\n",
       "1416            0.0   0.0       0.0         0.0          0.0        1033.6   \n",
       "1417            0.0   0.0       0.0         0.0          0.0        1033.7   \n",
       "1418            0.0   0.0       0.0         0.0          0.0        1033.5   \n",
       "1419            0.0   0.0       0.0         0.0          0.0        1033.1   \n",
       "1420            0.0   0.0       0.0         0.0          0.0        1033.1   \n",
       "\n",
       "      ...  Monday  Saturday  Sunday  Thursday  Tuesday  Wednesday  Fall  \\\n",
       "1416  ...       1         0       0         0        0          0     0   \n",
       "1417  ...       1         0       0         0        0          0     0   \n",
       "1418  ...       1         0       0         0        0          0     0   \n",
       "1419  ...       1         0       0         0        0          0     0   \n",
       "1420  ...       1         0       0         0        0          0     0   \n",
       "\n",
       "      Spring  Summer  Winter  \n",
       "1416       1       0       0  \n",
       "1417       1       0       0  \n",
       "1418       1       0       0  \n",
       "1419       1       0       0  \n",
       "1420       1       0       0  \n",
       "\n",
       "[5 rows x 67 columns]"
      ]
     },
     "execution_count": 95,
     "metadata": {},
     "output_type": "execute_result"
    }
   ],
   "source": [
    "feature_data = pd.concat([feature_data, dummies], axis=1)\n",
    "print(feature_data.shape)\n",
    "feature_data.head()"
   ]
  },
  {
   "cell_type": "markdown",
   "id": "7c8b6a82",
   "metadata": {
    "papermill": {
     "duration": 0.004415,
     "end_time": "2023-10-05T13:07:11.451031",
     "exception": false,
     "start_time": "2023-10-05T13:07:11.446616",
     "status": "completed"
    },
    "tags": []
   },
   "source": [
    "The following code merges the bicycle data with the weather data to get a train set:"
   ]
  },
  {
   "cell_type": "code",
   "execution_count": 96,
   "id": "4532c799",
   "metadata": {
    "execution": {
     "iopub.execute_input": "2023-10-05T13:07:11.461511Z",
     "iopub.status.busy": "2023-10-05T13:07:11.460524Z",
     "iopub.status.idle": "2023-10-05T13:07:11.491422Z",
     "shell.execute_reply": "2023-10-05T13:07:11.489607Z"
    },
    "papermill": {
     "duration": 0.038917,
     "end_time": "2023-10-05T13:07:11.494156",
     "exception": false,
     "start_time": "2023-10-05T13:07:11.455239",
     "status": "completed"
    },
    "tags": []
   },
   "outputs": [
    {
     "name": "stdout",
     "output_type": "stream",
     "text": [
      "(20445, 69)\n"
     ]
    },
    {
     "data": {
      "text/html": [
       "<div>\n",
       "<style scoped>\n",
       "    .dataframe tbody tr th:only-of-type {\n",
       "        vertical-align: middle;\n",
       "    }\n",
       "\n",
       "    .dataframe tbody tr th {\n",
       "        vertical-align: top;\n",
       "    }\n",
       "\n",
       "    .dataframe thead th {\n",
       "        text-align: right;\n",
       "    }\n",
       "</style>\n",
       "<table border=\"1\" class=\"dataframe\">\n",
       "  <thead>\n",
       "    <tr style=\"text-align: right;\">\n",
       "      <th></th>\n",
       "      <th>temperature_2m</th>\n",
       "      <th>relativehumidity_2m</th>\n",
       "      <th>dewpoint_2m</th>\n",
       "      <th>apparent_temperature</th>\n",
       "      <th>precipitation</th>\n",
       "      <th>rain</th>\n",
       "      <th>snowfall</th>\n",
       "      <th>snow_depth</th>\n",
       "      <th>weathercode</th>\n",
       "      <th>pressure_msl</th>\n",
       "      <th>...</th>\n",
       "      <th>Sunday</th>\n",
       "      <th>Thursday</th>\n",
       "      <th>Tuesday</th>\n",
       "      <th>Wednesday</th>\n",
       "      <th>Fall</th>\n",
       "      <th>Spring</th>\n",
       "      <th>Summer</th>\n",
       "      <th>Winter</th>\n",
       "      <th>Datum</th>\n",
       "      <th>Totaal</th>\n",
       "    </tr>\n",
       "  </thead>\n",
       "  <tbody>\n",
       "    <tr>\n",
       "      <th>0</th>\n",
       "      <td>4.0</td>\n",
       "      <td>95.0</td>\n",
       "      <td>3.2</td>\n",
       "      <td>0.9</td>\n",
       "      <td>0.0</td>\n",
       "      <td>0.0</td>\n",
       "      <td>0.0</td>\n",
       "      <td>0.0</td>\n",
       "      <td>0.0</td>\n",
       "      <td>1033.6</td>\n",
       "      <td>...</td>\n",
       "      <td>0</td>\n",
       "      <td>0</td>\n",
       "      <td>0</td>\n",
       "      <td>0</td>\n",
       "      <td>0</td>\n",
       "      <td>1</td>\n",
       "      <td>0</td>\n",
       "      <td>0</td>\n",
       "      <td>2021-03-01</td>\n",
       "      <td>5.0</td>\n",
       "    </tr>\n",
       "    <tr>\n",
       "      <th>1</th>\n",
       "      <td>3.6</td>\n",
       "      <td>96.0</td>\n",
       "      <td>2.9</td>\n",
       "      <td>0.5</td>\n",
       "      <td>0.0</td>\n",
       "      <td>0.0</td>\n",
       "      <td>0.0</td>\n",
       "      <td>0.0</td>\n",
       "      <td>0.0</td>\n",
       "      <td>1033.7</td>\n",
       "      <td>...</td>\n",
       "      <td>0</td>\n",
       "      <td>0</td>\n",
       "      <td>0</td>\n",
       "      <td>0</td>\n",
       "      <td>0</td>\n",
       "      <td>1</td>\n",
       "      <td>0</td>\n",
       "      <td>0</td>\n",
       "      <td>2021-03-01</td>\n",
       "      <td>1.0</td>\n",
       "    </tr>\n",
       "    <tr>\n",
       "      <th>2</th>\n",
       "      <td>3.2</td>\n",
       "      <td>96.0</td>\n",
       "      <td>2.7</td>\n",
       "      <td>0.1</td>\n",
       "      <td>0.0</td>\n",
       "      <td>0.0</td>\n",
       "      <td>0.0</td>\n",
       "      <td>0.0</td>\n",
       "      <td>0.0</td>\n",
       "      <td>1033.5</td>\n",
       "      <td>...</td>\n",
       "      <td>0</td>\n",
       "      <td>0</td>\n",
       "      <td>0</td>\n",
       "      <td>0</td>\n",
       "      <td>0</td>\n",
       "      <td>1</td>\n",
       "      <td>0</td>\n",
       "      <td>0</td>\n",
       "      <td>2021-03-01</td>\n",
       "      <td>0.0</td>\n",
       "    </tr>\n",
       "    <tr>\n",
       "      <th>3</th>\n",
       "      <td>2.9</td>\n",
       "      <td>97.0</td>\n",
       "      <td>2.4</td>\n",
       "      <td>-0.4</td>\n",
       "      <td>0.0</td>\n",
       "      <td>0.0</td>\n",
       "      <td>0.0</td>\n",
       "      <td>0.0</td>\n",
       "      <td>0.0</td>\n",
       "      <td>1033.1</td>\n",
       "      <td>...</td>\n",
       "      <td>0</td>\n",
       "      <td>0</td>\n",
       "      <td>0</td>\n",
       "      <td>0</td>\n",
       "      <td>0</td>\n",
       "      <td>1</td>\n",
       "      <td>0</td>\n",
       "      <td>0</td>\n",
       "      <td>2021-03-01</td>\n",
       "      <td>2.0</td>\n",
       "    </tr>\n",
       "    <tr>\n",
       "      <th>4</th>\n",
       "      <td>2.6</td>\n",
       "      <td>97.0</td>\n",
       "      <td>2.2</td>\n",
       "      <td>-0.8</td>\n",
       "      <td>0.0</td>\n",
       "      <td>0.0</td>\n",
       "      <td>0.0</td>\n",
       "      <td>0.0</td>\n",
       "      <td>0.0</td>\n",
       "      <td>1033.1</td>\n",
       "      <td>...</td>\n",
       "      <td>0</td>\n",
       "      <td>0</td>\n",
       "      <td>0</td>\n",
       "      <td>0</td>\n",
       "      <td>0</td>\n",
       "      <td>1</td>\n",
       "      <td>0</td>\n",
       "      <td>0</td>\n",
       "      <td>2021-03-01</td>\n",
       "      <td>21.0</td>\n",
       "    </tr>\n",
       "  </tbody>\n",
       "</table>\n",
       "<p>5 rows × 69 columns</p>\n",
       "</div>"
      ],
      "text/plain": [
       "   temperature_2m  relativehumidity_2m  dewpoint_2m  apparent_temperature  \\\n",
       "0             4.0                 95.0          3.2                   0.9   \n",
       "1             3.6                 96.0          2.9                   0.5   \n",
       "2             3.2                 96.0          2.7                   0.1   \n",
       "3             2.9                 97.0          2.4                  -0.4   \n",
       "4             2.6                 97.0          2.2                  -0.8   \n",
       "\n",
       "   precipitation  rain  snowfall  snow_depth  weathercode  pressure_msl  ...  \\\n",
       "0            0.0   0.0       0.0         0.0          0.0        1033.6  ...   \n",
       "1            0.0   0.0       0.0         0.0          0.0        1033.7  ...   \n",
       "2            0.0   0.0       0.0         0.0          0.0        1033.5  ...   \n",
       "3            0.0   0.0       0.0         0.0          0.0        1033.1  ...   \n",
       "4            0.0   0.0       0.0         0.0          0.0        1033.1  ...   \n",
       "\n",
       "   Sunday  Thursday  Tuesday  Wednesday  Fall  Spring  Summer  Winter  \\\n",
       "0       0         0        0          0     0       1       0       0   \n",
       "1       0         0        0          0     0       1       0       0   \n",
       "2       0         0        0          0     0       1       0       0   \n",
       "3       0         0        0          0     0       1       0       0   \n",
       "4       0         0        0          0     0       1       0       0   \n",
       "\n",
       "        Datum  Totaal  \n",
       "0  2021-03-01     5.0  \n",
       "1  2021-03-01     1.0  \n",
       "2  2021-03-01     0.0  \n",
       "3  2021-03-01     2.0  \n",
       "4  2021-03-01    21.0  \n",
       "\n",
       "[5 rows x 69 columns]"
      ]
     },
     "execution_count": 96,
     "metadata": {},
     "output_type": "execute_result"
    }
   ],
   "source": [
    "all_data = feature_data.merge(bicycle_data, on = \"Date_hour\")\n",
    "train_data = all_data[all_data[\"Date_hour\"] < min(test_rawdata[\"Date_hour\"])]\n",
    "print(train_data.shape)\n",
    "train_data.head()"
   ]
  },
  {
   "cell_type": "code",
   "execution_count": 97,
   "id": "40db5e52",
   "metadata": {},
   "outputs": [
    {
     "name": "stdout",
     "output_type": "stream",
     "text": [
      "(8759, 3)\n"
     ]
    },
    {
     "data": {
      "text/html": [
       "<div>\n",
       "<style scoped>\n",
       "    .dataframe tbody tr th:only-of-type {\n",
       "        vertical-align: middle;\n",
       "    }\n",
       "\n",
       "    .dataframe tbody tr th {\n",
       "        vertical-align: top;\n",
       "    }\n",
       "\n",
       "    .dataframe thead th {\n",
       "        text-align: right;\n",
       "    }\n",
       "</style>\n",
       "<table border=\"1\" class=\"dataframe\">\n",
       "  <thead>\n",
       "    <tr style=\"text-align: right;\">\n",
       "      <th></th>\n",
       "      <th>Datum</th>\n",
       "      <th>Date_hour</th>\n",
       "      <th>Totaal</th>\n",
       "    </tr>\n",
       "  </thead>\n",
       "  <tbody>\n",
       "    <tr>\n",
       "      <th>0</th>\n",
       "      <td>2022-01-01</td>\n",
       "      <td>2022-01-01T00</td>\n",
       "      <td>30</td>\n",
       "    </tr>\n",
       "    <tr>\n",
       "      <th>1</th>\n",
       "      <td>2022-01-01</td>\n",
       "      <td>2022-01-01T01</td>\n",
       "      <td>110</td>\n",
       "    </tr>\n",
       "    <tr>\n",
       "      <th>2</th>\n",
       "      <td>2022-01-01</td>\n",
       "      <td>2022-01-01T02</td>\n",
       "      <td>117</td>\n",
       "    </tr>\n",
       "    <tr>\n",
       "      <th>3</th>\n",
       "      <td>2022-01-01</td>\n",
       "      <td>2022-01-01T03</td>\n",
       "      <td>148</td>\n",
       "    </tr>\n",
       "    <tr>\n",
       "      <th>4</th>\n",
       "      <td>2022-01-01</td>\n",
       "      <td>2022-01-01T04</td>\n",
       "      <td>150</td>\n",
       "    </tr>\n",
       "  </tbody>\n",
       "</table>\n",
       "</div>"
      ],
      "text/plain": [
       "        Datum      Date_hour  Totaal\n",
       "0  2022-01-01  2022-01-01T00      30\n",
       "1  2022-01-01  2022-01-01T01     110\n",
       "2  2022-01-01  2022-01-01T02     117\n",
       "3  2022-01-01  2022-01-01T03     148\n",
       "4  2022-01-01  2022-01-01T04     150"
      ]
     },
     "execution_count": 97,
     "metadata": {},
     "output_type": "execute_result"
    }
   ],
   "source": [
    "bicycle_data_2022[\"Date_hour\"] = bicycle_data_2022['Ordening'].str.extract(r'^(.*?T\\d{2})..')\n",
    "bicycle_data_2022 = bicycle_data_2022.groupby(['Datum', 'Date_hour'])['Totaal'].sum().reset_index(name ='Totaal')\n",
    "print(bicycle_data_2022.shape)\n",
    "bicycle_data_2022.head()"
   ]
  },
  {
   "cell_type": "code",
   "execution_count": 98,
   "id": "b7d5b1b4",
   "metadata": {},
   "outputs": [
    {
     "name": "stdout",
     "output_type": "stream",
     "text": [
      "(4343, 69)\n"
     ]
    },
    {
     "data": {
      "text/html": [
       "<div>\n",
       "<style scoped>\n",
       "    .dataframe tbody tr th:only-of-type {\n",
       "        vertical-align: middle;\n",
       "    }\n",
       "\n",
       "    .dataframe tbody tr th {\n",
       "        vertical-align: top;\n",
       "    }\n",
       "\n",
       "    .dataframe thead th {\n",
       "        text-align: right;\n",
       "    }\n",
       "</style>\n",
       "<table border=\"1\" class=\"dataframe\">\n",
       "  <thead>\n",
       "    <tr style=\"text-align: right;\">\n",
       "      <th></th>\n",
       "      <th>Date_hour</th>\n",
       "      <th>Totaal</th>\n",
       "      <th>temperature_2m</th>\n",
       "      <th>relativehumidity_2m</th>\n",
       "      <th>dewpoint_2m</th>\n",
       "      <th>apparent_temperature</th>\n",
       "      <th>precipitation</th>\n",
       "      <th>rain</th>\n",
       "      <th>snowfall</th>\n",
       "      <th>snow_depth</th>\n",
       "      <th>...</th>\n",
       "      <th>Saturday</th>\n",
       "      <th>Sunday</th>\n",
       "      <th>Thursday</th>\n",
       "      <th>Tuesday</th>\n",
       "      <th>Wednesday</th>\n",
       "      <th>Fall</th>\n",
       "      <th>Spring</th>\n",
       "      <th>Summer</th>\n",
       "      <th>Winter</th>\n",
       "      <th>Totaal_2022</th>\n",
       "    </tr>\n",
       "  </thead>\n",
       "  <tbody>\n",
       "    <tr>\n",
       "      <th>0</th>\n",
       "      <td>2023-01-01T00</td>\n",
       "      <td>111.0</td>\n",
       "      <td>15.8</td>\n",
       "      <td>50.0</td>\n",
       "      <td>5.3</td>\n",
       "      <td>9.3</td>\n",
       "      <td>0.0</td>\n",
       "      <td>0.0</td>\n",
       "      <td>0.0</td>\n",
       "      <td>0.0</td>\n",
       "      <td>...</td>\n",
       "      <td>0</td>\n",
       "      <td>1</td>\n",
       "      <td>0</td>\n",
       "      <td>0</td>\n",
       "      <td>0</td>\n",
       "      <td>0</td>\n",
       "      <td>0</td>\n",
       "      <td>0</td>\n",
       "      <td>1</td>\n",
       "      <td>30</td>\n",
       "    </tr>\n",
       "    <tr>\n",
       "      <th>1</th>\n",
       "      <td>2023-01-01T01</td>\n",
       "      <td>201.0</td>\n",
       "      <td>15.3</td>\n",
       "      <td>54.0</td>\n",
       "      <td>6.1</td>\n",
       "      <td>8.9</td>\n",
       "      <td>0.0</td>\n",
       "      <td>0.0</td>\n",
       "      <td>0.0</td>\n",
       "      <td>0.0</td>\n",
       "      <td>...</td>\n",
       "      <td>0</td>\n",
       "      <td>1</td>\n",
       "      <td>0</td>\n",
       "      <td>0</td>\n",
       "      <td>0</td>\n",
       "      <td>0</td>\n",
       "      <td>0</td>\n",
       "      <td>0</td>\n",
       "      <td>1</td>\n",
       "      <td>110</td>\n",
       "    </tr>\n",
       "    <tr>\n",
       "      <th>2</th>\n",
       "      <td>2023-01-01T02</td>\n",
       "      <td>170.0</td>\n",
       "      <td>14.7</td>\n",
       "      <td>59.0</td>\n",
       "      <td>6.9</td>\n",
       "      <td>8.8</td>\n",
       "      <td>0.0</td>\n",
       "      <td>0.0</td>\n",
       "      <td>0.0</td>\n",
       "      <td>0.0</td>\n",
       "      <td>...</td>\n",
       "      <td>0</td>\n",
       "      <td>1</td>\n",
       "      <td>0</td>\n",
       "      <td>0</td>\n",
       "      <td>0</td>\n",
       "      <td>0</td>\n",
       "      <td>0</td>\n",
       "      <td>0</td>\n",
       "      <td>1</td>\n",
       "      <td>117</td>\n",
       "    </tr>\n",
       "    <tr>\n",
       "      <th>3</th>\n",
       "      <td>2023-01-01T03</td>\n",
       "      <td>144.0</td>\n",
       "      <td>14.3</td>\n",
       "      <td>65.0</td>\n",
       "      <td>7.7</td>\n",
       "      <td>9.0</td>\n",
       "      <td>0.0</td>\n",
       "      <td>0.0</td>\n",
       "      <td>0.0</td>\n",
       "      <td>0.0</td>\n",
       "      <td>...</td>\n",
       "      <td>0</td>\n",
       "      <td>1</td>\n",
       "      <td>0</td>\n",
       "      <td>0</td>\n",
       "      <td>0</td>\n",
       "      <td>0</td>\n",
       "      <td>0</td>\n",
       "      <td>0</td>\n",
       "      <td>1</td>\n",
       "      <td>148</td>\n",
       "    </tr>\n",
       "    <tr>\n",
       "      <th>4</th>\n",
       "      <td>2023-01-01T04</td>\n",
       "      <td>155.0</td>\n",
       "      <td>13.8</td>\n",
       "      <td>68.0</td>\n",
       "      <td>8.0</td>\n",
       "      <td>9.3</td>\n",
       "      <td>0.0</td>\n",
       "      <td>0.0</td>\n",
       "      <td>0.0</td>\n",
       "      <td>0.0</td>\n",
       "      <td>...</td>\n",
       "      <td>0</td>\n",
       "      <td>1</td>\n",
       "      <td>0</td>\n",
       "      <td>0</td>\n",
       "      <td>0</td>\n",
       "      <td>0</td>\n",
       "      <td>0</td>\n",
       "      <td>0</td>\n",
       "      <td>1</td>\n",
       "      <td>150</td>\n",
       "    </tr>\n",
       "  </tbody>\n",
       "</table>\n",
       "<p>5 rows × 69 columns</p>\n",
       "</div>"
      ],
      "text/plain": [
       "       Date_hour  Totaal  temperature_2m  relativehumidity_2m  dewpoint_2m  \\\n",
       "0  2023-01-01T00   111.0            15.8                 50.0          5.3   \n",
       "1  2023-01-01T01   201.0            15.3                 54.0          6.1   \n",
       "2  2023-01-01T02   170.0            14.7                 59.0          6.9   \n",
       "3  2023-01-01T03   144.0            14.3                 65.0          7.7   \n",
       "4  2023-01-01T04   155.0            13.8                 68.0          8.0   \n",
       "\n",
       "   apparent_temperature  precipitation  rain  snowfall  snow_depth  ...  \\\n",
       "0                   9.3            0.0   0.0       0.0         0.0  ...   \n",
       "1                   8.9            0.0   0.0       0.0         0.0  ...   \n",
       "2                   8.8            0.0   0.0       0.0         0.0  ...   \n",
       "3                   9.0            0.0   0.0       0.0         0.0  ...   \n",
       "4                   9.3            0.0   0.0       0.0         0.0  ...   \n",
       "\n",
       "   Saturday  Sunday  Thursday  Tuesday  Wednesday  Fall  Spring  Summer  \\\n",
       "0         0       1         0        0          0     0       0       0   \n",
       "1         0       1         0        0          0     0       0       0   \n",
       "2         0       1         0        0          0     0       0       0   \n",
       "3         0       1         0        0          0     0       0       0   \n",
       "4         0       1         0        0          0     0       0       0   \n",
       "\n",
       "   Winter  Totaal_2022  \n",
       "0       1           30  \n",
       "1       1          110  \n",
       "2       1          117  \n",
       "3       1          148  \n",
       "4       1          150  \n",
       "\n",
       "[5 rows x 69 columns]"
      ]
     },
     "execution_count": 98,
     "metadata": {},
     "output_type": "execute_result"
    }
   ],
   "source": [
    "train_data_red = train_rawdata.merge(feature_data, on = \"Date_hour\", how = 'left')\n",
    "train_data_red[\"Totaal_2022\"] = bicycle_data_2022[(\"2022-01-01\" <= bicycle_data_2022[\"Datum\"]) & (bicycle_data_2022[\"Datum\"] <= \"2022-06-30\")][\"Totaal\"]\n",
    "print(train_data_red.shape)\n",
    "train_data_red.head()"
   ]
  },
  {
   "cell_type": "markdown",
   "id": "4820a726",
   "metadata": {
    "papermill": {
     "duration": 0.004274,
     "end_time": "2023-10-05T13:07:11.503369",
     "exception": false,
     "start_time": "2023-10-05T13:07:11.499095",
     "status": "completed"
    },
    "tags": []
   },
   "source": [
    "The following does the same but then for the test set:"
   ]
  },
  {
   "cell_type": "code",
   "execution_count": 99,
   "id": "5f3df659",
   "metadata": {
    "execution": {
     "iopub.execute_input": "2023-10-05T13:07:11.513749Z",
     "iopub.status.busy": "2023-10-05T13:07:11.513342Z",
     "iopub.status.idle": "2023-10-05T13:07:11.529940Z",
     "shell.execute_reply": "2023-10-05T13:07:11.528659Z"
    },
    "papermill": {
     "duration": 0.024913,
     "end_time": "2023-10-05T13:07:11.532636",
     "exception": false,
     "start_time": "2023-10-05T13:07:11.507723",
     "status": "completed"
    },
    "tags": []
   },
   "outputs": [
    {
     "name": "stdout",
     "output_type": "stream",
     "text": [
      "(744, 68)\n"
     ]
    },
    {
     "data": {
      "text/html": [
       "<div>\n",
       "<style scoped>\n",
       "    .dataframe tbody tr th:only-of-type {\n",
       "        vertical-align: middle;\n",
       "    }\n",
       "\n",
       "    .dataframe tbody tr th {\n",
       "        vertical-align: top;\n",
       "    }\n",
       "\n",
       "    .dataframe thead th {\n",
       "        text-align: right;\n",
       "    }\n",
       "</style>\n",
       "<table border=\"1\" class=\"dataframe\">\n",
       "  <thead>\n",
       "    <tr style=\"text-align: right;\">\n",
       "      <th></th>\n",
       "      <th>Date_hour</th>\n",
       "      <th>temperature_2m</th>\n",
       "      <th>relativehumidity_2m</th>\n",
       "      <th>dewpoint_2m</th>\n",
       "      <th>apparent_temperature</th>\n",
       "      <th>precipitation</th>\n",
       "      <th>rain</th>\n",
       "      <th>snowfall</th>\n",
       "      <th>snow_depth</th>\n",
       "      <th>weathercode</th>\n",
       "      <th>...</th>\n",
       "      <th>Saturday</th>\n",
       "      <th>Sunday</th>\n",
       "      <th>Thursday</th>\n",
       "      <th>Tuesday</th>\n",
       "      <th>Wednesday</th>\n",
       "      <th>Fall</th>\n",
       "      <th>Spring</th>\n",
       "      <th>Summer</th>\n",
       "      <th>Winter</th>\n",
       "      <th>Totaal_2022</th>\n",
       "    </tr>\n",
       "  </thead>\n",
       "  <tbody>\n",
       "    <tr>\n",
       "      <th>0</th>\n",
       "      <td>2023-07-01T00</td>\n",
       "      <td>18.0</td>\n",
       "      <td>66.0</td>\n",
       "      <td>11.6</td>\n",
       "      <td>15.7</td>\n",
       "      <td>0.0</td>\n",
       "      <td>0.0</td>\n",
       "      <td>0.0</td>\n",
       "      <td>0.0</td>\n",
       "      <td>3.0</td>\n",
       "      <td>...</td>\n",
       "      <td>1</td>\n",
       "      <td>0</td>\n",
       "      <td>0</td>\n",
       "      <td>0</td>\n",
       "      <td>0</td>\n",
       "      <td>0</td>\n",
       "      <td>0</td>\n",
       "      <td>1</td>\n",
       "      <td>0</td>\n",
       "      <td>96</td>\n",
       "    </tr>\n",
       "    <tr>\n",
       "      <th>1</th>\n",
       "      <td>2023-07-01T01</td>\n",
       "      <td>17.7</td>\n",
       "      <td>69.0</td>\n",
       "      <td>12.0</td>\n",
       "      <td>15.3</td>\n",
       "      <td>0.0</td>\n",
       "      <td>0.0</td>\n",
       "      <td>0.0</td>\n",
       "      <td>0.0</td>\n",
       "      <td>3.0</td>\n",
       "      <td>...</td>\n",
       "      <td>1</td>\n",
       "      <td>0</td>\n",
       "      <td>0</td>\n",
       "      <td>0</td>\n",
       "      <td>0</td>\n",
       "      <td>0</td>\n",
       "      <td>0</td>\n",
       "      <td>1</td>\n",
       "      <td>0</td>\n",
       "      <td>41</td>\n",
       "    </tr>\n",
       "    <tr>\n",
       "      <th>2</th>\n",
       "      <td>2023-07-01T02</td>\n",
       "      <td>17.4</td>\n",
       "      <td>73.0</td>\n",
       "      <td>12.6</td>\n",
       "      <td>15.0</td>\n",
       "      <td>0.0</td>\n",
       "      <td>0.0</td>\n",
       "      <td>0.0</td>\n",
       "      <td>0.0</td>\n",
       "      <td>3.0</td>\n",
       "      <td>...</td>\n",
       "      <td>1</td>\n",
       "      <td>0</td>\n",
       "      <td>0</td>\n",
       "      <td>0</td>\n",
       "      <td>0</td>\n",
       "      <td>0</td>\n",
       "      <td>0</td>\n",
       "      <td>1</td>\n",
       "      <td>0</td>\n",
       "      <td>17</td>\n",
       "    </tr>\n",
       "    <tr>\n",
       "      <th>3</th>\n",
       "      <td>2023-07-01T03</td>\n",
       "      <td>17.2</td>\n",
       "      <td>77.0</td>\n",
       "      <td>13.1</td>\n",
       "      <td>15.0</td>\n",
       "      <td>0.0</td>\n",
       "      <td>0.0</td>\n",
       "      <td>0.0</td>\n",
       "      <td>0.0</td>\n",
       "      <td>3.0</td>\n",
       "      <td>...</td>\n",
       "      <td>1</td>\n",
       "      <td>0</td>\n",
       "      <td>0</td>\n",
       "      <td>0</td>\n",
       "      <td>0</td>\n",
       "      <td>0</td>\n",
       "      <td>0</td>\n",
       "      <td>1</td>\n",
       "      <td>0</td>\n",
       "      <td>49</td>\n",
       "    </tr>\n",
       "    <tr>\n",
       "      <th>4</th>\n",
       "      <td>2023-07-01T04</td>\n",
       "      <td>17.1</td>\n",
       "      <td>80.0</td>\n",
       "      <td>13.7</td>\n",
       "      <td>15.3</td>\n",
       "      <td>0.0</td>\n",
       "      <td>0.0</td>\n",
       "      <td>0.0</td>\n",
       "      <td>0.0</td>\n",
       "      <td>3.0</td>\n",
       "      <td>...</td>\n",
       "      <td>1</td>\n",
       "      <td>0</td>\n",
       "      <td>0</td>\n",
       "      <td>0</td>\n",
       "      <td>0</td>\n",
       "      <td>0</td>\n",
       "      <td>0</td>\n",
       "      <td>1</td>\n",
       "      <td>0</td>\n",
       "      <td>37</td>\n",
       "    </tr>\n",
       "  </tbody>\n",
       "</table>\n",
       "<p>5 rows × 68 columns</p>\n",
       "</div>"
      ],
      "text/plain": [
       "       Date_hour  temperature_2m  relativehumidity_2m  dewpoint_2m  \\\n",
       "0  2023-07-01T00            18.0                 66.0         11.6   \n",
       "1  2023-07-01T01            17.7                 69.0         12.0   \n",
       "2  2023-07-01T02            17.4                 73.0         12.6   \n",
       "3  2023-07-01T03            17.2                 77.0         13.1   \n",
       "4  2023-07-01T04            17.1                 80.0         13.7   \n",
       "\n",
       "   apparent_temperature  precipitation  rain  snowfall  snow_depth  \\\n",
       "0                  15.7            0.0   0.0       0.0         0.0   \n",
       "1                  15.3            0.0   0.0       0.0         0.0   \n",
       "2                  15.0            0.0   0.0       0.0         0.0   \n",
       "3                  15.0            0.0   0.0       0.0         0.0   \n",
       "4                  15.3            0.0   0.0       0.0         0.0   \n",
       "\n",
       "   weathercode  ...  Saturday  Sunday  Thursday  Tuesday  Wednesday  Fall  \\\n",
       "0          3.0  ...         1       0         0        0          0     0   \n",
       "1          3.0  ...         1       0         0        0          0     0   \n",
       "2          3.0  ...         1       0         0        0          0     0   \n",
       "3          3.0  ...         1       0         0        0          0     0   \n",
       "4          3.0  ...         1       0         0        0          0     0   \n",
       "\n",
       "   Spring  Summer  Winter  Totaal_2022  \n",
       "0       0       1       0           96  \n",
       "1       0       1       0           41  \n",
       "2       0       1       0           17  \n",
       "3       0       1       0           49  \n",
       "4       0       1       0           37  \n",
       "\n",
       "[5 rows x 68 columns]"
      ]
     },
     "execution_count": 99,
     "metadata": {},
     "output_type": "execute_result"
    }
   ],
   "source": [
    "test_data = test_rawdata.merge(feature_data, on = \"Date_hour\", how = 'left').drop(\"Id\", axis = 1)\n",
    "Totaal_2022 = bicycle_data_2022[(\"2022-07-01\" <= bicycle_data_2022[\"Datum\"]) & (bicycle_data_2022[\"Datum\"] <= \"2022-07-31\")][\"Totaal\"].reset_index(drop=True)\n",
    "test_data[\"Totaal_2022\"] = Totaal_2022\n",
    "print(test_data.shape)\n",
    "test_data.head()"
   ]
  },
  {
   "cell_type": "code",
   "execution_count": 100,
   "id": "331d9145",
   "metadata": {},
   "outputs": [
    {
     "name": "stdout",
     "output_type": "stream",
     "text": [
      "(744, 3)\n"
     ]
    },
    {
     "data": {
      "text/html": [
       "<div>\n",
       "<style scoped>\n",
       "    .dataframe tbody tr th:only-of-type {\n",
       "        vertical-align: middle;\n",
       "    }\n",
       "\n",
       "    .dataframe tbody tr th {\n",
       "        vertical-align: top;\n",
       "    }\n",
       "\n",
       "    .dataframe thead th {\n",
       "        text-align: right;\n",
       "    }\n",
       "</style>\n",
       "<table border=\"1\" class=\"dataframe\">\n",
       "  <thead>\n",
       "    <tr style=\"text-align: right;\">\n",
       "      <th></th>\n",
       "      <th>Id</th>\n",
       "      <th>Date_hour</th>\n",
       "      <th>Totaal</th>\n",
       "    </tr>\n",
       "  </thead>\n",
       "  <tbody>\n",
       "    <tr>\n",
       "      <th>0</th>\n",
       "      <td>0</td>\n",
       "      <td>2023-07-01T00</td>\n",
       "      <td>150.0</td>\n",
       "    </tr>\n",
       "    <tr>\n",
       "      <th>1</th>\n",
       "      <td>1</td>\n",
       "      <td>2023-07-01T01</td>\n",
       "      <td>92.0</td>\n",
       "    </tr>\n",
       "    <tr>\n",
       "      <th>2</th>\n",
       "      <td>2</td>\n",
       "      <td>2023-07-01T02</td>\n",
       "      <td>49.0</td>\n",
       "    </tr>\n",
       "    <tr>\n",
       "      <th>3</th>\n",
       "      <td>3</td>\n",
       "      <td>2023-07-01T03</td>\n",
       "      <td>36.0</td>\n",
       "    </tr>\n",
       "    <tr>\n",
       "      <th>4</th>\n",
       "      <td>4</td>\n",
       "      <td>2023-07-01T04</td>\n",
       "      <td>57.0</td>\n",
       "    </tr>\n",
       "  </tbody>\n",
       "</table>\n",
       "</div>"
      ],
      "text/plain": [
       "   Id      Date_hour  Totaal\n",
       "0   0  2023-07-01T00   150.0\n",
       "1   1  2023-07-01T01    92.0\n",
       "2   2  2023-07-01T02    49.0\n",
       "3   3  2023-07-01T03    36.0\n",
       "4   4  2023-07-01T04    57.0"
      ]
     },
     "execution_count": 100,
     "metadata": {},
     "output_type": "execute_result"
    }
   ],
   "source": [
    "gtest_data = test_rawdata.merge(bicycle_data[[\"Totaal\", \"Date_hour\"]], on = \"Date_hour\", how = 'left')\n",
    "print(gtest_data.shape)\n",
    "gtest_data.head()"
   ]
  },
  {
   "cell_type": "markdown",
   "id": "e09cf517",
   "metadata": {},
   "source": [
    "## Models"
   ]
  },
  {
   "cell_type": "markdown",
   "id": "094db392",
   "metadata": {},
   "source": [
    "### Feature Selection"
   ]
  },
  {
   "cell_type": "code",
   "execution_count": 101,
   "id": "f47b67ae",
   "metadata": {},
   "outputs": [
    {
     "name": "stdout",
     "output_type": "stream",
     "text": [
      "['is_day', 'direct_normal_irradiance', 'terrestrial_radiation', 'direct_normal_irradiance_instant', 'is_school_hours']\n"
     ]
    }
   ],
   "source": [
    "from sklearn.feature_selection import SelectKBest\n",
    "from sklearn.feature_selection import mutual_info_regression\n",
    "from sklearn.feature_selection import r_regression\n",
    "\n",
    "X = train_data.loc[:, train_data.columns != \"Totaal\"].select_dtypes(include=np.number)\n",
    "y = train_data[\"Totaal\"]\n",
    "\n",
    "SKB = SelectKBest(r_regression, k=5)\n",
    "SKB.fit(X, y)\n",
    "selected_feature_indices = SKB.get_support(indices=True)\n",
    "selected_feature_names = [X.columns[i] for i in selected_feature_indices]\n",
    "\n",
    "print(selected_feature_names)"
   ]
  },
  {
   "cell_type": "code",
   "execution_count": 102,
   "id": "69b629eb",
   "metadata": {},
   "outputs": [
    {
     "name": "stdout",
     "output_type": "stream",
     "text": [
      "Index(['temperature_2m', 'relativehumidity_2m', 'dewpoint_2m',\n",
      "       'apparent_temperature', 'precipitation', 'rain', 'snowfall',\n",
      "       'snow_depth', 'weathercode', 'pressure_msl', 'surface_pressure',\n",
      "       'cloudcover', 'cloudcover_low', 'cloudcover_mid', 'cloudcover_high',\n",
      "       'et0_fao_evapotranspiration', 'vapor_pressure_deficit', 'windspeed_10m',\n",
      "       'windspeed_100m', 'winddirection_10m', 'winddirection_100m',\n",
      "       'windgusts_10m', 'soil_temperature_0_to_7cm',\n",
      "       'soil_temperature_7_to_28cm', 'soil_temperature_28_to_100cm',\n",
      "       'soil_temperature_100_to_255cm', 'soil_moisture_0_to_7cm',\n",
      "       'soil_moisture_7_to_28cm', 'soil_moisture_28_to_100cm',\n",
      "       'soil_moisture_100_to_255cm', 'is_day', 'shortwave_radiation',\n",
      "       'direct_radiation', 'diffuse_radiation', 'direct_normal_irradiance',\n",
      "       'terrestrial_radiation', 'shortwave_radiation_instant',\n",
      "       'direct_radiation_instant', 'diffuse_radiation_instant',\n",
      "       'direct_normal_irradiance_instant', 'terrestrial_radiation_instant',\n",
      "       'hour', 'month', 'hour_sin', 'is_school_hours', 'is_weekend',\n",
      "       'is_university_lessons', 'is_Ghent_event', 'is_public_holiday',\n",
      "       'is_school_holiday', 'Friday', 'Monday', 'Saturday', 'Sunday',\n",
      "       'Thursday', 'Tuesday', 'Wednesday', 'Fall', 'Spring', 'Summer',\n",
      "       'Winter', 'Totaal_2022'],\n",
      "      dtype='object')\n"
     ]
    }
   ],
   "source": [
    "weekdays = [\"Monday\", \"Tuesday\", \"Wednesday\", \"Thursday\", \"Friday\", \"Saturday\", \"Sunday\"]\n",
    "season = [\"Winter\", \"Fall\", \"Spring\", \"Summer\"]\n",
    "chosen_features = ['temperature_2m', 'is_day', 'is_weekend', 'hour_sin', 'is_public_holiday', 'is_school_holiday', 'is_school_hours']\n",
    "#features = selected_feature_names\n",
    "\n",
    "all_features = test_data.select_dtypes(include='number').columns\n",
    "print(all_features)"
   ]
  },
  {
   "cell_type": "markdown",
   "id": "823b7925",
   "metadata": {
    "papermill": {
     "duration": 0.004274,
     "end_time": "2023-10-05T13:07:11.541461",
     "exception": false,
     "start_time": "2023-10-05T13:07:11.537187",
     "status": "completed"
    },
    "tags": []
   },
   "source": [
    "### Preprocessing"
   ]
  },
  {
   "cell_type": "code",
   "execution_count": 56,
   "id": "0e0346d1",
   "metadata": {
    "execution": {
     "iopub.execute_input": "2023-10-05T13:07:11.552230Z",
     "iopub.status.busy": "2023-10-05T13:07:11.551667Z",
     "iopub.status.idle": "2023-10-05T13:07:11.556006Z",
     "shell.execute_reply": "2023-10-05T13:07:11.555201Z"
    },
    "papermill": {
     "duration": 0.012228,
     "end_time": "2023-10-05T13:07:11.558072",
     "exception": false,
     "start_time": "2023-10-05T13:07:11.545844",
     "status": "completed"
    },
    "tags": []
   },
   "outputs": [
    {
     "data": {
      "text/plain": [
       "<seaborn.axisgrid.PairGrid at 0x1cb3c60df60>"
      ]
     },
     "execution_count": 56,
     "metadata": {},
     "output_type": "execute_result"
    },
    {
     "data": {
      "image/png": "[encoded data removed]",
      "text/plain": [
       "<Figure size 1440x1440 with 72 Axes>"
      ]
     },
     "metadata": {
      "needs_background": "light"
     },
     "output_type": "display_data"
    }
   ],
   "source": [
    "import seaborn as sns\n",
    "\n",
    "plot_features = ['temperature_2m', 'is_day', 'is_weekend', 'hour', 'is_public_holiday', 'is_school_holiday', 'is_school_hours']\n",
    "sns.pairplot(all_data.loc[:,plot_features + ['Totaal']])"
   ]
  },
  {
   "cell_type": "code",
   "execution_count": 57,
   "id": "404bbf73",
   "metadata": {},
   "outputs": [],
   "source": [
    "# Function to compute MSE\n",
    "def compute_MSE(y_true, y_predicted):\n",
    "    \"\"\"Obtain MSE between true y's and predicted y's\"\"\"\n",
    "    return(np.mean((y_true-y_predicted)**2))"
   ]
  },
  {
   "cell_type": "code",
   "execution_count": 58,
   "id": "fb0072c3",
   "metadata": {},
   "outputs": [],
   "source": [
    "import matplotlib.pyplot as plt\n",
    "\n",
    "def plot_diff(y_train, y_hat_train, y_test, y_hat_test):\n",
    "    y_test_reset = y_test.reset_index()\n",
    "    indices = y_test_reset.index.to_list()\n",
    "    time = np.divide(indices, max(indices))*31\n",
    "    logdiff_test = np.log10(y_hat_test - y_test)\n",
    "\n",
    "    plt.plot(time, logdiff_test, 'bo')\n",
    "    plt.xlabel('Day')\n",
    "    plt.ylabel('log10(y_hat_test - y_test)')\n",
    "    plt.grid(True)\n",
    "    plt.show()\n",
    "\n",
    "    y_train_reset = y_train.reset_index()\n",
    "    indices = y_train_reset.index.to_list()\n",
    "    time = np.divide(indices, max(indices))*6+1\n",
    "    logdiff_train = np.log10(y_hat_train - y_train)\n",
    "\n",
    "    plt.plot(time, logdiff_train, 'bo')\n",
    "    plt.xlabel('Month')\n",
    "    plt.ylabel('log10(y_hat_train - y_train)')\n",
    "    plt.grid(True)\n",
    "    plt.show()"
   ]
  },
  {
   "cell_type": "markdown",
   "id": "fc162a75",
   "metadata": {},
   "source": [
    "### Linear Regression"
   ]
  },
  {
   "cell_type": "code",
   "execution_count": 103,
   "id": "20bfc112",
   "metadata": {},
   "outputs": [
    {
     "name": "stderr",
     "output_type": "stream",
     "text": [
      "c:\\anaconda\\lib\\site-packages\\sklearn\\linear_model\\_coordinate_descent.py:631: ConvergenceWarning: Objective did not converge. You might want to increase the number of iterations, check the scale of the features or consider increasing regularisation. Duality gap: 4.149e+07, tolerance: 4.391e+04\n",
      "  model = cd_fast.enet_coordinate_descent(\n"
     ]
    },
    {
     "name": "stdout",
     "output_type": "stream",
     "text": [
      "Best features: Index(['temperature_2m', 'relativehumidity_2m', 'dewpoint_2m', 'precipitation',\n",
      "       'surface_pressure', 'cloudcover', 'cloudcover_low', 'cloudcover_mid',\n",
      "       'cloudcover_high', 'windspeed_10m', 'windspeed_100m',\n",
      "       'winddirection_10m', 'winddirection_100m', 'windgusts_10m',\n",
      "       'soil_temperature_0_to_7cm', 'soil_temperature_7_to_28cm',\n",
      "       'soil_temperature_28_to_100cm', 'soil_temperature_100_to_255cm',\n",
      "       'is_day', 'shortwave_radiation', 'diffuse_radiation',\n",
      "       'direct_normal_irradiance', 'terrestrial_radiation',\n",
      "       'shortwave_radiation_instant', 'direct_radiation_instant',\n",
      "       'diffuse_radiation_instant', 'direct_normal_irradiance_instant',\n",
      "       'terrestrial_radiation_instant', 'hour', 'month', 'is_school_hours',\n",
      "       'is_weekend', 'is_public_holiday', 'is_school_holiday', 'Friday',\n",
      "       'Monday', 'Saturday', 'Tuesday', 'Totaal_2022'],\n",
      "      dtype='object')\n",
      "Train set R²: 0.6771256121137272\n",
      "Test set R²: 0.19569783370690375\n"
     ]
    }
   ],
   "source": [
    "from sklearn.linear_model import LinearRegression\n",
    "import statsmodels.formula.api as smf\n",
    "from sklearn.pipeline import make_pipeline\n",
    "from sklearn.preprocessing import StandardScaler\n",
    "from sklearn.preprocessing import PolynomialFeatures\n",
    "from sklearn.preprocessing import MinMaxScaler\n",
    "from sklearn.preprocessing import Normalizer\n",
    "from sklearn.linear_model import Lasso\n",
    "from sklearn.feature_selection import SelectFromModel\n",
    "\n",
    "X_train = train_data_red.loc[:, all_features]\n",
    "X_test = test_data.loc[:, all_features]\n",
    "\n",
    "y_train = train_data_red[\"Totaal\"]\n",
    "y_test = gtest_data[\"Totaal\"]\n",
    "\n",
    "LinReg = make_pipeline(SelectFromModel(Lasso()), StandardScaler(), LinearRegression()) # call an instance of the class LinearRegression\n",
    "\n",
    "LinReg.fit(X_train, y_train) # fit the model on the training data\n",
    "y_hat_train = LinReg.predict(X_train) # predict training data\n",
    "\n",
    "y_hat_test = LinReg.predict(X_test) # predict test data\n",
    "\n",
    "R_train = LinReg.score(X_train, y_train) # Training set R²\n",
    "R_test = LinReg.score(X_test, y_test) # Test set R²\n",
    "\n",
    "best_features = X_train.columns[LinReg.named_steps['selectfrommodel'].get_support()]\n",
    "\n",
    "print('Train set R²: {}'.format(R_train))\n",
    "print('Test set R²: {}'.format(R_test))\n",
    "print('Best features: {}'.format(best_features))"
   ]
  },
  {
   "cell_type": "markdown",
   "id": "523d093f",
   "metadata": {},
   "source": [
    "### Poisson Regression"
   ]
  },
  {
   "cell_type": "code",
   "execution_count": 104,
   "id": "f347a38f",
   "metadata": {},
   "outputs": [
    {
     "name": "stderr",
     "output_type": "stream",
     "text": [
      "c:\\anaconda\\lib\\site-packages\\sklearn\\linear_model\\_coordinate_descent.py:631: ConvergenceWarning: Objective did not converge. You might want to increase the number of iterations, check the scale of the features or consider increasing regularisation. Duality gap: 4.149e+07, tolerance: 4.391e+04\n",
      "  model = cd_fast.enet_coordinate_descent(\n"
     ]
    },
    {
     "name": "stdout",
     "output_type": "stream",
     "text": [
      "Best features: Index(['temperature_2m', 'relativehumidity_2m', 'dewpoint_2m', 'precipitation',\n",
      "       'surface_pressure', 'cloudcover', 'cloudcover_low', 'cloudcover_mid',\n",
      "       'cloudcover_high', 'windspeed_10m', 'windspeed_100m',\n",
      "       'winddirection_10m', 'winddirection_100m', 'windgusts_10m',\n",
      "       'soil_temperature_0_to_7cm', 'soil_temperature_7_to_28cm',\n",
      "       'soil_temperature_28_to_100cm', 'soil_temperature_100_to_255cm',\n",
      "       'is_day', 'shortwave_radiation', 'diffuse_radiation',\n",
      "       'direct_normal_irradiance', 'terrestrial_radiation',\n",
      "       'shortwave_radiation_instant', 'direct_radiation_instant',\n",
      "       'diffuse_radiation_instant', 'direct_normal_irradiance_instant',\n",
      "       'terrestrial_radiation_instant', 'hour', 'month', 'is_school_hours',\n",
      "       'is_weekend', 'is_public_holiday', 'is_school_holiday', 'Friday',\n",
      "       'Monday', 'Saturday', 'Tuesday', 'Totaal_2022'],\n",
      "      dtype='object')\n",
      "Train set R²: 0.6821283361197168\n",
      "Test set R²: 0.17736713834429985\n"
     ]
    },
    {
     "name": "stderr",
     "output_type": "stream",
     "text": [
      "c:\\anaconda\\lib\\site-packages\\sklearn\\linear_model\\_glm\\glm.py:284: ConvergenceWarning: lbfgs failed to converge (status=1):\n",
      "STOP: TOTAL NO. of ITERATIONS REACHED LIMIT.\n",
      "\n",
      "Increase the number of iterations (max_iter) or scale the data as shown in:\n",
      "    https://scikit-learn.org/stable/modules/preprocessing.html\n",
      "  self.n_iter_ = _check_optimize_result(\"lbfgs\", opt_res)\n"
     ]
    }
   ],
   "source": [
    "from sklearn.linear_model import PoissonRegressor\n",
    "from sklearn.metrics import r2_score\n",
    "from sklearn.linear_model import Lasso\n",
    "from sklearn.feature_selection import SelectFromModel\n",
    "\n",
    "X_train = train_data_red.loc[:, all_features]\n",
    "X_test = test_data.loc[:, all_features]\n",
    "\n",
    "y_train = train_data_red[\"Totaal\"]\n",
    "y_test = gtest_data[\"Totaal\"]\n",
    "\n",
    "PoiReg = make_pipeline(SelectFromModel(Lasso()), StandardScaler(), PoissonRegressor()) # call an instance of the class LinearRegression\n",
    "\n",
    "PoiReg.fit(X_train, y_train) # fit the model on the training data\n",
    "y_hat_train = PoiReg.predict(X_train) # predict training data\n",
    "\n",
    "y_hat_test = PoiReg.predict(X_test) # predict test data\n",
    "\n",
    "R_train = r2_score(y_train, y_hat_train) # Training set R²\n",
    "R_test = r2_score(y_test, y_hat_test) # Test set R²\n",
    "\n",
    "best_features = X_train.columns[PoiReg.named_steps['selectfrommodel'].get_support()]\n",
    "\n",
    "print('Train set R²: {}'.format(R_train))\n",
    "print('Test set R²: {}'.format(R_test))\n",
    "print('Best features: {}'.format(best_features))"
   ]
  },
  {
   "cell_type": "markdown",
   "id": "371cf5da",
   "metadata": {},
   "source": [
    "### Negative binomial regression"
   ]
  },
  {
   "cell_type": "code",
   "execution_count": 61,
   "id": "52d5b11b",
   "metadata": {},
   "outputs": [
    {
     "ename": "PatsyError",
     "evalue": "Number of rows mismatch between data argument and Totaal_2022 (20445 versus 744)\n    Totaal ~ temperature_2m * is_day * hour_sin + is_weekend + is_public_holiday + is_school_holiday + is_school_hours + apparent_temperature + month + Totaal_2022\n                                                                                                                                                        ^^^^^^^^^^^",
     "output_type": "error",
     "traceback": [
      "\u001b[1;31m---------------------------------------------------------------------------\u001b[0m",
      "\u001b[1;31mPatsyError\u001b[0m                                Traceback (most recent call last)",
      "\u001b[1;32mc:\\Users\\Luca Visser\\Documents\\GitHub\\MLLS_Project1\\project-1-starter-notebook.ipynb Cell 37\u001b[0m line \u001b[0;36m<cell line: 13>\u001b[1;34m()\u001b[0m\n\u001b[0;32m     <a href='vscode-notebook-cell:/c%3A/Users/Luca%20Visser/Documents/GitHub/MLLS_Project1/project-1-starter-notebook.ipynb#X51sZmlsZQ%3D%3D?line=9'>10</a>\u001b[0m formula \u001b[39m=\u001b[39m \u001b[39m'\u001b[39m\u001b[39mTotaal ~ temperature_2m * is_day * hour_sin + is_weekend + is_public_holiday + is_school_holiday + is_school_hours + apparent_temperature + month + Totaal_2022\u001b[39m\u001b[39m'\u001b[39m \n\u001b[0;32m     <a href='vscode-notebook-cell:/c%3A/Users/Luca%20Visser/Documents/GitHub/MLLS_Project1/project-1-starter-notebook.ipynb#X51sZmlsZQ%3D%3D?line=11'>12</a>\u001b[0m \u001b[39m# Create the model\u001b[39;00m\n\u001b[1;32m---> <a href='vscode-notebook-cell:/c%3A/Users/Luca%20Visser/Documents/GitHub/MLLS_Project1/project-1-starter-notebook.ipynb#X51sZmlsZQ%3D%3D?line=12'>13</a>\u001b[0m NBReg \u001b[39m=\u001b[39m smf\u001b[39m.\u001b[39;49mglm(formula\u001b[39m=\u001b[39;49mformula, data\u001b[39m=\u001b[39;49mtrain_data, family\u001b[39m=\u001b[39;49msm\u001b[39m.\u001b[39;49mfamilies\u001b[39m.\u001b[39;49mNegativeBinomial())\n\u001b[0;32m     <a href='vscode-notebook-cell:/c%3A/Users/Luca%20Visser/Documents/GitHub/MLLS_Project1/project-1-starter-notebook.ipynb#X51sZmlsZQ%3D%3D?line=14'>15</a>\u001b[0m results \u001b[39m=\u001b[39m NBReg\u001b[39m.\u001b[39mfit()\n\u001b[0;32m     <a href='vscode-notebook-cell:/c%3A/Users/Luca%20Visser/Documents/GitHub/MLLS_Project1/project-1-starter-notebook.ipynb#X51sZmlsZQ%3D%3D?line=16'>17</a>\u001b[0m y_hat_train \u001b[39m=\u001b[39m results\u001b[39m.\u001b[39mpredict(X_train) \u001b[39m# predict training data\u001b[39;00m\n",
      "File \u001b[1;32mc:\\anaconda\\lib\\site-packages\\statsmodels\\base\\model.py:200\u001b[0m, in \u001b[0;36mModel.from_formula\u001b[1;34m(cls, formula, data, subset, drop_cols, *args, **kwargs)\u001b[0m\n\u001b[0;32m    197\u001b[0m \u001b[39mif\u001b[39;00m missing \u001b[39m==\u001b[39m \u001b[39m'\u001b[39m\u001b[39mnone\u001b[39m\u001b[39m'\u001b[39m:  \u001b[39m# with patsy it's drop or raise. let's raise.\u001b[39;00m\n\u001b[0;32m    198\u001b[0m     missing \u001b[39m=\u001b[39m \u001b[39m'\u001b[39m\u001b[39mraise\u001b[39m\u001b[39m'\u001b[39m\n\u001b[1;32m--> 200\u001b[0m tmp \u001b[39m=\u001b[39m handle_formula_data(data, \u001b[39mNone\u001b[39;49;00m, formula, depth\u001b[39m=\u001b[39;49meval_env,\n\u001b[0;32m    201\u001b[0m                           missing\u001b[39m=\u001b[39;49mmissing)\n\u001b[0;32m    202\u001b[0m ((endog, exog), missing_idx, design_info) \u001b[39m=\u001b[39m tmp\n\u001b[0;32m    203\u001b[0m max_endog \u001b[39m=\u001b[39m \u001b[39mcls\u001b[39m\u001b[39m.\u001b[39m_formula_max_endog\n",
      "File \u001b[1;32mc:\\anaconda\\lib\\site-packages\\statsmodels\\formula\\formulatools.py:63\u001b[0m, in \u001b[0;36mhandle_formula_data\u001b[1;34m(Y, X, formula, depth, missing)\u001b[0m\n\u001b[0;32m     61\u001b[0m \u001b[39melse\u001b[39;00m:\n\u001b[0;32m     62\u001b[0m     \u001b[39mif\u001b[39;00m data_util\u001b[39m.\u001b[39m_is_using_pandas(Y, \u001b[39mNone\u001b[39;00m):\n\u001b[1;32m---> 63\u001b[0m         result \u001b[39m=\u001b[39m dmatrices(formula, Y, depth, return_type\u001b[39m=\u001b[39;49m\u001b[39m'\u001b[39;49m\u001b[39mdataframe\u001b[39;49m\u001b[39m'\u001b[39;49m,\n\u001b[0;32m     64\u001b[0m                            NA_action\u001b[39m=\u001b[39;49mna_action)\n\u001b[0;32m     65\u001b[0m     \u001b[39melse\u001b[39;00m:\n\u001b[0;32m     66\u001b[0m         result \u001b[39m=\u001b[39m dmatrices(formula, Y, depth, return_type\u001b[39m=\u001b[39m\u001b[39m'\u001b[39m\u001b[39mdataframe\u001b[39m\u001b[39m'\u001b[39m,\n\u001b[0;32m     67\u001b[0m                            NA_action\u001b[39m=\u001b[39mna_action)\n",
      "File \u001b[1;32mc:\\anaconda\\lib\\site-packages\\patsy\\highlevel.py:309\u001b[0m, in \u001b[0;36mdmatrices\u001b[1;34m(formula_like, data, eval_env, NA_action, return_type)\u001b[0m\n\u001b[0;32m    299\u001b[0m \u001b[39m\"\"\"Construct two design matrices given a formula_like and data.\u001b[39;00m\n\u001b[0;32m    300\u001b[0m \n\u001b[0;32m    301\u001b[0m \u001b[39mThis function is identical to :func:`dmatrix`, except that it requires\u001b[39;00m\n\u001b[1;32m   (...)\u001b[0m\n\u001b[0;32m    306\u001b[0m \u001b[39mSee :func:`dmatrix` for details.\u001b[39;00m\n\u001b[0;32m    307\u001b[0m \u001b[39m\"\"\"\u001b[39;00m\n\u001b[0;32m    308\u001b[0m eval_env \u001b[39m=\u001b[39m EvalEnvironment\u001b[39m.\u001b[39mcapture(eval_env, reference\u001b[39m=\u001b[39m\u001b[39m1\u001b[39m)\n\u001b[1;32m--> 309\u001b[0m (lhs, rhs) \u001b[39m=\u001b[39m _do_highlevel_design(formula_like, data, eval_env,\n\u001b[0;32m    310\u001b[0m                                   NA_action, return_type)\n\u001b[0;32m    311\u001b[0m \u001b[39mif\u001b[39;00m lhs\u001b[39m.\u001b[39mshape[\u001b[39m1\u001b[39m] \u001b[39m==\u001b[39m \u001b[39m0\u001b[39m:\n\u001b[0;32m    312\u001b[0m     \u001b[39mraise\u001b[39;00m PatsyError(\u001b[39m\"\u001b[39m\u001b[39mmodel is missing required outcome variables\u001b[39m\u001b[39m\"\u001b[39m)\n",
      "File \u001b[1;32mc:\\anaconda\\lib\\site-packages\\patsy\\highlevel.py:167\u001b[0m, in \u001b[0;36m_do_highlevel_design\u001b[1;34m(formula_like, data, eval_env, NA_action, return_type)\u001b[0m\n\u001b[0;32m    164\u001b[0m design_infos \u001b[39m=\u001b[39m _try_incr_builders(formula_like, data_iter_maker, eval_env,\n\u001b[0;32m    165\u001b[0m                                   NA_action)\n\u001b[0;32m    166\u001b[0m \u001b[39mif\u001b[39;00m design_infos \u001b[39mis\u001b[39;00m \u001b[39mnot\u001b[39;00m \u001b[39mNone\u001b[39;00m:\n\u001b[1;32m--> 167\u001b[0m     \u001b[39mreturn\u001b[39;00m build_design_matrices(design_infos, data,\n\u001b[0;32m    168\u001b[0m                                  NA_action\u001b[39m=\u001b[39;49mNA_action,\n\u001b[0;32m    169\u001b[0m                                  return_type\u001b[39m=\u001b[39;49mreturn_type)\n\u001b[0;32m    170\u001b[0m \u001b[39melse\u001b[39;00m:\n\u001b[0;32m    171\u001b[0m     \u001b[39m# No builders, but maybe we can still get matrices\u001b[39;00m\n\u001b[0;32m    172\u001b[0m     \u001b[39mif\u001b[39;00m \u001b[39misinstance\u001b[39m(formula_like, \u001b[39mtuple\u001b[39m):\n",
      "File \u001b[1;32mc:\\anaconda\\lib\\site-packages\\patsy\\build.py:893\u001b[0m, in \u001b[0;36mbuild_design_matrices\u001b[1;34m(design_infos, data, NA_action, return_type, dtype)\u001b[0m\n\u001b[0;32m    891\u001b[0m name \u001b[39m=\u001b[39m factor_info\u001b[39m.\u001b[39mfactor\u001b[39m.\u001b[39mname()\n\u001b[0;32m    892\u001b[0m origin \u001b[39m=\u001b[39m factor_info\u001b[39m.\u001b[39mfactor\u001b[39m.\u001b[39morigin\n\u001b[1;32m--> 893\u001b[0m rows_checker\u001b[39m.\u001b[39;49mcheck(value\u001b[39m.\u001b[39;49mshape[\u001b[39m0\u001b[39;49m], name, origin)\n\u001b[0;32m    894\u001b[0m \u001b[39mif\u001b[39;00m (have_pandas\n\u001b[0;32m    895\u001b[0m     \u001b[39mand\u001b[39;00m \u001b[39misinstance\u001b[39m(value, (pandas\u001b[39m.\u001b[39mSeries, pandas\u001b[39m.\u001b[39mDataFrame))):\n\u001b[0;32m    896\u001b[0m     index_checker\u001b[39m.\u001b[39mcheck(value\u001b[39m.\u001b[39mindex, name, origin)\n",
      "File \u001b[1;32mc:\\anaconda\\lib\\site-packages\\patsy\\build.py:795\u001b[0m, in \u001b[0;36m_CheckMatch.check\u001b[1;34m(self, seen_value, desc, origin)\u001b[0m\n\u001b[0;32m    792\u001b[0m     msg \u001b[39m+\u001b[39m\u001b[39m=\u001b[39m \u001b[39m\"\u001b[39m\u001b[39m (\u001b[39m\u001b[39m%r\u001b[39;00m\u001b[39m versus \u001b[39m\u001b[39m%r\u001b[39;00m\u001b[39m)\u001b[39m\u001b[39m\"\u001b[39m \u001b[39m%\u001b[39m (\u001b[39mself\u001b[39m\u001b[39m.\u001b[39mvalue, seen_value)\n\u001b[0;32m    793\u001b[0m \u001b[39m# XX FIXME: this is a case where having discontiguous Origins\u001b[39;00m\n\u001b[0;32m    794\u001b[0m \u001b[39m# would be useful...\u001b[39;00m\n\u001b[1;32m--> 795\u001b[0m \u001b[39mraise\u001b[39;00m PatsyError(msg, origin)\n",
      "\u001b[1;31mPatsyError\u001b[0m: Number of rows mismatch between data argument and Totaal_2022 (20445 versus 744)\n    Totaal ~ temperature_2m * is_day * hour_sin + is_weekend + is_public_holiday + is_school_holiday + is_school_hours + apparent_temperature + month + Totaal_2022\n                                                                                                                                                        ^^^^^^^^^^^"
     ]
    }
   ],
   "source": [
    "import statsmodels.api as sm\n",
    "import statsmodels.formula.api as smf\n",
    "\n",
    "X_train = train_data_red.loc[:, all_features]\n",
    "X_test = test_data.loc[:, all_features]\n",
    "\n",
    "y_train = train_data_red[\"Totaal\"]\n",
    "y_test = gtest_data[\"Totaal\"]\n",
    "\n",
    "formula = 'Totaal ~ temperature_2m * is_day * hour_sin + is_weekend + is_public_holiday + is_school_holiday + is_school_hours + apparent_temperature + month + Totaal_2022' \n",
    "\n",
    "# Create the model\n",
    "NBReg = smf.glm(formula=formula, data=train_data, family=sm.families.NegativeBinomial())\n",
    "\n",
    "results = NBReg.fit()\n",
    "\n",
    "y_hat_train = results.predict(X_train) # predict training data\n",
    "\n",
    "y_hat_test = results.predict(X_test) # predict test data\n",
    "\n",
    "R_train = r2_score(y_train, y_hat_train) # Training set R²\n",
    "R_test = r2_score(y_test, y_hat_test) # Test set R²\n",
    "\n",
    "print('Train set R²: {}'.format(R_train))\n",
    "print('Test set R²: {}'.format(R_test))\n",
    "\n",
    "print(results.summary())\n"
   ]
  },
  {
   "cell_type": "markdown",
   "id": "a49edd86",
   "metadata": {},
   "source": [
    "### Tweedie Regression"
   ]
  },
  {
   "cell_type": "code",
   "execution_count": 131,
   "id": "f832917f",
   "metadata": {},
   "outputs": [
    {
     "name": "stderr",
     "output_type": "stream",
     "text": [
      "c:\\anaconda\\lib\\site-packages\\sklearn\\linear_model\\_coordinate_descent.py:631: ConvergenceWarning: Objective did not converge. You might want to increase the number of iterations, check the scale of the features or consider increasing regularisation. Duality gap: 4.149e+07, tolerance: 4.391e+04\n",
      "  model = cd_fast.enet_coordinate_descent(\n"
     ]
    },
    {
     "name": "stdout",
     "output_type": "stream",
     "text": [
      "Train set R²: 0.6418267097792667\n",
      "Test set R²: 0.6942667957687114\n",
      "Best features: Index(['temperature_2m', 'relativehumidity_2m', 'dewpoint_2m', 'precipitation',\n",
      "       'surface_pressure', 'cloudcover', 'cloudcover_low', 'cloudcover_mid',\n",
      "       'cloudcover_high', 'windspeed_10m', 'windspeed_100m',\n",
      "       'winddirection_10m', 'winddirection_100m', 'windgusts_10m',\n",
      "       'soil_temperature_0_to_7cm', 'soil_temperature_7_to_28cm',\n",
      "       'soil_temperature_28_to_100cm', 'soil_temperature_100_to_255cm',\n",
      "       'is_day', 'shortwave_radiation', 'diffuse_radiation',\n",
      "       'direct_normal_irradiance', 'terrestrial_radiation',\n",
      "       'shortwave_radiation_instant', 'direct_radiation_instant',\n",
      "       'diffuse_radiation_instant', 'direct_normal_irradiance_instant',\n",
      "       'terrestrial_radiation_instant', 'hour', 'month', 'is_school_hours',\n",
      "       'is_weekend', 'is_public_holiday', 'is_school_holiday', 'Friday',\n",
      "       'Monday', 'Saturday', 'Tuesday', 'Totaal_2022'],\n",
      "      dtype='object')\n"
     ]
    }
   ],
   "source": [
    "from sklearn.linear_model import TweedieRegressor\n",
    "\n",
    "X_train = train_data_red.loc[:, all_features]\n",
    "X_test = test_data.loc[:, all_features]\n",
    "\n",
    "y_train = train_data_red[\"Totaal\"]\n",
    "y_test = gtest_data[\"Totaal\"]\n",
    "\n",
    "TweReg = make_pipeline(SelectFromModel(Lasso()), StandardScaler(), TweedieRegressor(alpha = 0.3)) # call an instance of the class LinearRegression\n",
    "\n",
    "TweReg.fit(X_train, y_train) # fit the model on the training data\n",
    "y_hat_train = TweReg.predict(X_train) # predict training data\n",
    "\n",
    "y_hat_test = TweReg.predict(X_test) # predict test data\n",
    "\n",
    "R_train = TweReg.score(X_train, y_train) # Training set R²\n",
    "R_test = TweReg.score(X_test, y_test) # Test set R²\n",
    "\n",
    "best_features = X_train.columns[TweReg.named_steps['selectfrommodel'].get_support()]\n",
    "\n",
    "print('Train set R²: {}'.format(R_train))\n",
    "print('Test set R²: {}'.format(R_test))\n",
    "print('Best features: {}'.format(best_features))"
   ]
  },
  {
   "cell_type": "markdown",
   "id": "53fc9753",
   "metadata": {},
   "source": [
    "### Ridge Regression"
   ]
  },
  {
   "cell_type": "code",
   "execution_count": 132,
   "id": "2696f56b",
   "metadata": {},
   "outputs": [
    {
     "name": "stdout",
     "output_type": "stream",
     "text": [
      "Train set R²: 0.6769370499877292\n",
      "Test set R²: 0.20407340340914237\n"
     ]
    },
    {
     "name": "stderr",
     "output_type": "stream",
     "text": [
      "c:\\anaconda\\lib\\site-packages\\sklearn\\linear_model\\_coordinate_descent.py:631: ConvergenceWarning: Objective did not converge. You might want to increase the number of iterations, check the scale of the features or consider increasing regularisation. Duality gap: 4.149e+07, tolerance: 4.391e+04\n",
      "  model = cd_fast.enet_coordinate_descent(\n"
     ]
    }
   ],
   "source": [
    "from sklearn.linear_model import Ridge \n",
    "\n",
    "X_train = train_data_red.loc[:, all_features]\n",
    "X_test = test_data.loc[:, all_features]\n",
    "\n",
    "y_train = train_data_red[\"Totaal\"]\n",
    "y_test = gtest_data[\"Totaal\"]\n",
    "\n",
    "RidReg = make_pipeline(SelectFromModel(Lasso()), StandardScaler(), Ridge()) # call an instance of the class LinearRegression\n",
    "\n",
    "RidReg.fit(X_train, y_train) # fit the model on the training data\n",
    "y_hat_train = RidReg.predict(X_train) # predict training data\n",
    "\n",
    "y_hat_test = RidReg.predict(X_test) # predict test data\n",
    "\n",
    "R_train = RidReg.score(X_train, y_train) # Training set R²\n",
    "R_test = RidReg.score(X_test, y_test) # Test set R²\n",
    "\n",
    "print('Train set R²: {}'.format(R_train))\n",
    "print('Test set R²: {}'.format(R_test))"
   ]
  },
  {
   "cell_type": "markdown",
   "id": "d2b41615",
   "metadata": {},
   "source": [
    "### SVM Regression"
   ]
  },
  {
   "cell_type": "code",
   "execution_count": 110,
   "id": "4ebe1bde",
   "metadata": {},
   "outputs": [
    {
     "name": "stderr",
     "output_type": "stream",
     "text": [
      "c:\\anaconda\\lib\\site-packages\\sklearn\\linear_model\\_coordinate_descent.py:631: ConvergenceWarning: Objective did not converge. You might want to increase the number of iterations, check the scale of the features or consider increasing regularisation. Duality gap: 4.149e+07, tolerance: 4.391e+04\n",
      "  model = cd_fast.enet_coordinate_descent(\n"
     ]
    },
    {
     "name": "stdout",
     "output_type": "stream",
     "text": [
      "Train set R²: 0.24804086888231647\n",
      "Test set R²: 0.3634157744267714\n"
     ]
    }
   ],
   "source": [
    "from sklearn.svm import SVR\n",
    "\n",
    "X_train = train_data_red.loc[:, all_features]\n",
    "X_test = test_data.loc[:, all_features]\n",
    "\n",
    "y_train = train_data_red[\"Totaal\"]\n",
    "y_test = gtest_data[\"Totaal\"]\n",
    "\n",
    "SVMReg = make_pipeline(SelectFromModel(Lasso()), StandardScaler(), SVR()) # call an instance of the class LinearRegression\n",
    "\n",
    "SVMReg.fit(X_train, y_train) # fit the model on the training data\n",
    "\n",
    "y_hat_train = SVMReg.predict(X_train) # predict training data\n",
    "\n",
    "y_hat_test = SVMReg.predict(X_test) # predict test data\n",
    "\n",
    "R_train = SVMReg.score(X_train, y_train) # Training set R²\n",
    "R_test = SVMReg.score(X_test, y_test) # Test set R²\n",
    "\n",
    "print('Train set R²: {}'.format(R_train))\n",
    "print('Test set R²: {}'.format(R_test))"
   ]
  },
  {
   "cell_type": "markdown",
   "id": "6c12100b",
   "metadata": {},
   "source": [
    "### Gaussion Process Regression"
   ]
  },
  {
   "cell_type": "code",
   "execution_count": 111,
   "id": "a90c5c5a",
   "metadata": {},
   "outputs": [
    {
     "name": "stderr",
     "output_type": "stream",
     "text": [
      "c:\\anaconda\\lib\\site-packages\\sklearn\\linear_model\\_coordinate_descent.py:631: ConvergenceWarning: Objective did not converge. You might want to increase the number of iterations, check the scale of the features or consider increasing regularisation. Duality gap: 4.149e+07, tolerance: 4.391e+04\n",
      "  model = cd_fast.enet_coordinate_descent(\n"
     ]
    },
    {
     "name": "stdout",
     "output_type": "stream",
     "text": [
      "Train set R²: 1.0\n",
      "Test set R²: -1.7007973319984826\n"
     ]
    }
   ],
   "source": [
    "from sklearn.gaussian_process import GaussianProcessRegressor\n",
    "\n",
    "X_train = train_data_red.loc[:, all_features]\n",
    "X_test = test_data.loc[:, all_features]\n",
    "\n",
    "y_train = train_data_red[\"Totaal\"]\n",
    "y_test = gtest_data[\"Totaal\"]\n",
    "\n",
    "GPReg = make_pipeline(SelectFromModel(Lasso()), StandardScaler(), GaussianProcessRegressor()) # call an instance of the class LinearRegression\n",
    "\n",
    "GPReg.fit(X_train, y_train) # fit the model on the training data\n",
    "\n",
    "y_hat_train = GPReg.predict(X_train) # predict training data\n",
    "\n",
    "y_hat_test = GPReg.predict(X_test) # predict test data\n",
    "\n",
    "R_train = GPReg.score(X_train, y_train) # Training set R²\n",
    "R_test = GPReg.score(X_test, y_test) # Test set R²\n",
    "\n",
    "print('Train set R²: {}'.format(R_train))\n",
    "print('Test set R²: {}'.format(R_test))"
   ]
  },
  {
   "cell_type": "markdown",
   "id": "286a0082",
   "metadata": {},
   "source": [
    "### Decision Tree Regression"
   ]
  },
  {
   "cell_type": "code",
   "execution_count": 112,
   "id": "2f63af95",
   "metadata": {},
   "outputs": [
    {
     "name": "stderr",
     "output_type": "stream",
     "text": [
      "c:\\anaconda\\lib\\site-packages\\sklearn\\linear_model\\_coordinate_descent.py:631: ConvergenceWarning: Objective did not converge. You might want to increase the number of iterations, check the scale of the features or consider increasing regularisation. Duality gap: 4.149e+07, tolerance: 4.391e+04\n",
      "  model = cd_fast.enet_coordinate_descent(\n"
     ]
    },
    {
     "name": "stdout",
     "output_type": "stream",
     "text": [
      "Train set R²: 1.0\n",
      "Test set R²: -0.1297107610009125\n"
     ]
    }
   ],
   "source": [
    "from sklearn.tree import DecisionTreeRegressor\n",
    "\n",
    "X_train = train_data_red.loc[:, all_features]\n",
    "X_test = test_data.loc[:, all_features]\n",
    "\n",
    "y_train = train_data_red[\"Totaal\"]\n",
    "y_test = gtest_data[\"Totaal\"]\n",
    "\n",
    "DTReg = make_pipeline(SelectFromModel(Lasso()), StandardScaler(), DecisionTreeRegressor())\n",
    "\n",
    "DTReg.fit(X_train, y_train) # fit the model on the training data\n",
    "y_hat_train = DTReg.predict(X_train) # predict training data\n",
    "\n",
    "y_hat_test = DTReg.predict(X_test) # predict test data\n",
    "\n",
    "R_train = DTReg.score(X_train, y_train) # Training set R²\n",
    "R_test = DTReg.score(X_test, y_test) # Test set R²\n",
    "\n",
    "print('Train set R²: {}'.format(R_train))\n",
    "print('Test set R²: {}'.format(R_test))"
   ]
  },
  {
   "cell_type": "markdown",
   "id": "704f55a9",
   "metadata": {},
   "source": [
    "### Random Forest Regression"
   ]
  },
  {
   "cell_type": "code",
   "execution_count": 142,
   "id": "305721ae",
   "metadata": {},
   "outputs": [
    {
     "name": "stdout",
     "output_type": "stream",
     "text": [
      "Train set R²: 0.9836206438048494\n",
      "Test set R²: 0.5085971198697712\n"
     ]
    }
   ],
   "source": [
    "from sklearn.ensemble import RandomForestRegressor\n",
    "\n",
    "X_train = train_data_red.loc[:, all_features]\n",
    "X_test = test_data.loc[:, all_features]\n",
    "\n",
    "y_train = train_data_red[\"Totaal\"]\n",
    "y_test = gtest_data[\"Totaal\"]\n",
    "\n",
    "RFReg = make_pipeline(SelectFromModel(Lasso()), StandardScaler(), RandomForestRegressor())\n",
    "\n",
    "RFReg.fit(X_train, y_train) # fit the model on the training data\n",
    "y_hat_train = RFReg.predict(X_train) # predict training data\n",
    "\n",
    "y_hat_test = RFReg.predict(X_test) # predict test data\n",
    "\n",
    "R_train = RFReg.score(X_train, y_train) # Training set R²\n",
    "R_test = RFReg.score(X_test, y_test) # Test set R²\n",
    "\n",
    "print('Train set R²: {}'.format(R_train))\n",
    "print('Test set R²: {}'.format(R_test))"
   ]
  },
  {
   "cell_type": "markdown",
   "id": "95c596ac",
   "metadata": {},
   "source": [
    "### Gradient Boosting Regression"
   ]
  },
  {
   "cell_type": "markdown",
   "id": "0065a801",
   "metadata": {},
   "source": [
    "#### sklearn"
   ]
  },
  {
   "cell_type": "code",
   "execution_count": 143,
   "id": "de06f2b6",
   "metadata": {},
   "outputs": [
    {
     "name": "stderr",
     "output_type": "stream",
     "text": [
      "c:\\anaconda\\lib\\site-packages\\sklearn\\linear_model\\_coordinate_descent.py:631: ConvergenceWarning: Objective did not converge. You might want to increase the number of iterations, check the scale of the features or consider increasing regularisation. Duality gap: 4.149e+07, tolerance: 4.391e+04\n",
      "  model = cd_fast.enet_coordinate_descent(\n"
     ]
    },
    {
     "name": "stdout",
     "output_type": "stream",
     "text": [
      "Train set R²: 0.8497376555740745\n",
      "Test set R²: 0.628718237193604\n",
      "Best features: Index(['temperature_2m', 'relativehumidity_2m', 'dewpoint_2m', 'precipitation',\n",
      "       'surface_pressure', 'cloudcover', 'cloudcover_low', 'cloudcover_mid',\n",
      "       'cloudcover_high', 'windspeed_10m', 'windspeed_100m',\n",
      "       'winddirection_10m', 'winddirection_100m', 'windgusts_10m',\n",
      "       'soil_temperature_0_to_7cm', 'soil_temperature_7_to_28cm',\n",
      "       'soil_temperature_28_to_100cm', 'soil_temperature_100_to_255cm',\n",
      "       'is_day', 'shortwave_radiation', 'diffuse_radiation',\n",
      "       'direct_normal_irradiance', 'terrestrial_radiation',\n",
      "       'shortwave_radiation_instant', 'direct_radiation_instant',\n",
      "       'diffuse_radiation_instant', 'direct_normal_irradiance_instant',\n",
      "       'terrestrial_radiation_instant', 'hour', 'month', 'is_school_hours',\n",
      "       'is_weekend', 'is_public_holiday', 'is_school_holiday', 'Friday',\n",
      "       'Monday', 'Saturday', 'Tuesday', 'Totaal_2022'],\n",
      "      dtype='object')\n"
     ]
    }
   ],
   "source": [
    "from sklearn.ensemble import GradientBoostingRegressor\n",
    "from sklearn.pipeline import make_pipeline\n",
    "from sklearn.preprocessing import StandardScaler\n",
    "from sklearn.model_selection import GridSearchCV\n",
    "from sklearn.model_selection import RandomizedSearchCV\n",
    "\n",
    "X_train = train_data_red.loc[:, all_features]\n",
    "X_test = test_data.loc[:, all_features]\n",
    "\n",
    "y_train = train_data_red[\"Totaal\"]\n",
    "y_test = gtest_data[\"Totaal\"]\n",
    "\n",
    "GBReg = make_pipeline(SelectFromModel(Lasso()), StandardScaler(), GradientBoostingRegressor()).fit(X_train, y_train)\n",
    "\n",
    "y_hat_train = GBReg.predict(X_train) # predict training data\n",
    "\n",
    "y_hat_test = GBReg.predict(X_test) # predict test data\n",
    "\n",
    "R_train = GBReg.score(X_train, y_train) # Training set R²\n",
    "R_test = GBReg.score(X_test, y_test) # Test set R²\n",
    "\n",
    "best_features = X_train.columns[TweReg.named_steps['selectfrommodel'].get_support()]\n",
    "\n",
    "print('Train set R²: {}'.format(R_train))\n",
    "print('Test set R²: {}'.format(R_test))\n",
    "print('Best features: {}'.format(best_features))"
   ]
  },
  {
   "cell_type": "code",
   "execution_count": 144,
   "id": "7ebe9389",
   "metadata": {},
   "outputs": [
    {
     "name": "stderr",
     "output_type": "stream",
     "text": [
      "c:\\anaconda\\lib\\site-packages\\sklearn\\linear_model\\_coordinate_descent.py:631: ConvergenceWarning: Objective did not converge. You might want to increase the number of iterations, check the scale of the features or consider increasing regularisation. Duality gap: 4.149e+07, tolerance: 4.391e+04\n",
      "  model = cd_fast.enet_coordinate_descent(\n"
     ]
    },
    {
     "name": "stdout",
     "output_type": "stream",
     "text": [
      "Train set R²: 0.9736682695920336\n",
      "Test set R²: 0.6441695736875355\n"
     ]
    }
   ],
   "source": [
    "from sklearn.ensemble import HistGradientBoostingRegressor\n",
    "from sklearn.pipeline import make_pipeline\n",
    "from sklearn.preprocessing import StandardScaler\n",
    "from sklearn.model_selection import cross_val_score\n",
    "\n",
    "X_train = train_data_red.loc[:, all_features]\n",
    "X_test = test_data.loc[:, all_features]\n",
    "\n",
    "y_train = train_data_red[\"Totaal\"]\n",
    "y_test = gtest_data[\"Totaal\"]\n",
    "\n",
    "HGBReg = make_pipeline(SelectFromModel(Lasso()), StandardScaler(), HistGradientBoostingRegressor())\n",
    "\n",
    "HGBReg.fit(X_train, y_train) # fit the model on the training data\n",
    "y_hat_train = HGBReg.predict(X_train) # predict training data\n",
    "\n",
    "y_hat_test = GBReg.predict(X_test) # predict test data\n",
    "\n",
    "R_train = HGBReg.score(X_train, y_train) # Training set R²\n",
    "R_test = HGBReg.score(X_test, y_test) # Test set R²\n",
    "\n",
    "print('Train set R²: {}'.format(R_train))\n",
    "print('Test set R²: {}'.format(R_test))"
   ]
  },
  {
   "cell_type": "markdown",
   "id": "bb0d27a3",
   "metadata": {},
   "source": [
    "#### XGBoost"
   ]
  },
  {
   "cell_type": "code",
   "execution_count": 116,
   "id": "c8c7d0bb",
   "metadata": {},
   "outputs": [
    {
     "name": "stdout",
     "output_type": "stream",
     "text": [
      "  0%|          | 0/100 [00:00<?, ?trial/s, best loss=?]"
     ]
    },
    {
     "name": "stderr",
     "output_type": "stream",
     "text": [
      "C:\\Users\\Luca Visser\\AppData\\Roaming\\Python\\Python310\\site-packages\\xgboost\\sklearn.py:885: UserWarning: `eval_metric` in `fit` method is deprecated for better compatibility with scikit-learn, use `eval_metric` in constructor or`set_params` instead.\n",
      "  warnings.warn(\n",
      "\n",
      "C:\\Users\\Luca Visser\\AppData\\Roaming\\Python\\Python310\\site-packages\\xgboost\\sklearn.py:885: UserWarning: `early_stopping_rounds` in `fit` method is deprecated for better compatibility with scikit-learn, use `early_stopping_rounds` in constructor or`set_params` instead.\n",
      "  warnings.warn(\n",
      "\n",
      "C:\\Users\\Luca Visser\\AppData\\Roaming\\Python\\Python310\\site-packages\\xgboost\\core.py:160: UserWarning: [01:45:24] WARNING: C:\\buildkite-agent\\builds\\buildkite-windows-cpu-autoscaling-group-i-0cec3277c4d9d0165-1\\xgboost\\xgboost-ci-windows\\src\\metric\\auc.cc:320: Dataset is empty, or contains only positive or negative samples.\n",
      "  warnings.warn(smsg, UserWarning)\n",
      "\n"
     ]
    },
    {
     "name": "stdout",
     "output_type": "stream",
     "text": [
      "  2%|▏         | 2/100 [00:00<00:35,  2.76trial/s, best loss: -0.0]"
     ]
    },
    {
     "name": "stderr",
     "output_type": "stream",
     "text": [
      "C:\\Users\\Luca Visser\\AppData\\Roaming\\Python\\Python310\\site-packages\\xgboost\\sklearn.py:885: UserWarning: `eval_metric` in `fit` method is deprecated for better compatibility with scikit-learn, use `eval_metric` in constructor or`set_params` instead.\n",
      "  warnings.warn(\n",
      "\n",
      "C:\\Users\\Luca Visser\\AppData\\Roaming\\Python\\Python310\\site-packages\\xgboost\\sklearn.py:885: UserWarning: `early_stopping_rounds` in `fit` method is deprecated for better compatibility with scikit-learn, use `early_stopping_rounds` in constructor or`set_params` instead.\n",
      "  warnings.warn(\n",
      "\n",
      "C:\\Users\\Luca Visser\\AppData\\Roaming\\Python\\Python310\\site-packages\\xgboost\\core.py:160: UserWarning: [01:45:24] WARNING: C:\\buildkite-agent\\builds\\buildkite-windows-cpu-autoscaling-group-i-0cec3277c4d9d0165-1\\xgboost\\xgboost-ci-windows\\src\\metric\\auc.cc:320: Dataset is empty, or contains only positive or negative samples.\n",
      "  warnings.warn(smsg, UserWarning)\n",
      "\n",
      "C:\\Users\\Luca Visser\\AppData\\Roaming\\Python\\Python310\\site-packages\\xgboost\\sklearn.py:885: UserWarning: `eval_metric` in `fit` method is deprecated for better compatibility with scikit-learn, use `eval_metric` in constructor or`set_params` instead.\n",
      "  warnings.warn(\n",
      "\n",
      "C:\\Users\\Luca Visser\\AppData\\Roaming\\Python\\Python310\\site-packages\\xgboost\\sklearn.py:885: UserWarning: `early_stopping_rounds` in `fit` method is deprecated for better compatibility with scikit-learn, use `early_stopping_rounds` in constructor or`set_params` instead.\n",
      "  warnings.warn(\n",
      "\n",
      "C:\\Users\\Luca Visser\\AppData\\Roaming\\Python\\Python310\\site-packages\\xgboost\\core.py:160: UserWarning: [01:45:24] WARNING: C:\\buildkite-agent\\builds\\buildkite-windows-cpu-autoscaling-group-i-0cec3277c4d9d0165-1\\xgboost\\xgboost-ci-windows\\src\\metric\\auc.cc:320: Dataset is empty, or contains only positive or negative samples.\n",
      "  warnings.warn(smsg, UserWarning)\n",
      "\n"
     ]
    },
    {
     "name": "stdout",
     "output_type": "stream",
     "text": [
      "  3%|▎         | 3/100 [00:01<00:42,  2.30trial/s, best loss: -0.0]"
     ]
    },
    {
     "name": "stderr",
     "output_type": "stream",
     "text": [
      "C:\\Users\\Luca Visser\\AppData\\Roaming\\Python\\Python310\\site-packages\\xgboost\\core.py:160: UserWarning: [01:45:25] WARNING: C:\\buildkite-agent\\builds\\buildkite-windows-cpu-autoscaling-group-i-0cec3277c4d9d0165-1\\xgboost\\xgboost-ci-windows\\src\\metric\\auc.cc:320: Dataset is empty, or contains only positive or negative samples.\n",
      "  warnings.warn(smsg, UserWarning)\n",
      "\n",
      "C:\\Users\\Luca Visser\\AppData\\Roaming\\Python\\Python310\\site-packages\\xgboost\\sklearn.py:885: UserWarning: `eval_metric` in `fit` method is deprecated for better compatibility with scikit-learn, use `eval_metric` in constructor or`set_params` instead.\n",
      "  warnings.warn(\n",
      "\n",
      "C:\\Users\\Luca Visser\\AppData\\Roaming\\Python\\Python310\\site-packages\\xgboost\\sklearn.py:885: UserWarning: `early_stopping_rounds` in `fit` method is deprecated for better compatibility with scikit-learn, use `early_stopping_rounds` in constructor or`set_params` instead.\n",
      "  warnings.warn(\n",
      "\n",
      "C:\\Users\\Luca Visser\\AppData\\Roaming\\Python\\Python310\\site-packages\\xgboost\\core.py:160: UserWarning: [01:45:25] WARNING: C:\\buildkite-agent\\builds\\buildkite-windows-cpu-autoscaling-group-i-0cec3277c4d9d0165-1\\xgboost\\xgboost-ci-windows\\src\\metric\\auc.cc:320: Dataset is empty, or contains only positive or negative samples.\n",
      "  warnings.warn(smsg, UserWarning)\n",
      "\n"
     ]
    },
    {
     "name": "stdout",
     "output_type": "stream",
     "text": [
      "  5%|▌         | 5/100 [00:01<00:32,  2.95trial/s, best loss: -0.0]"
     ]
    },
    {
     "name": "stderr",
     "output_type": "stream",
     "text": [
      "C:\\Users\\Luca Visser\\AppData\\Roaming\\Python\\Python310\\site-packages\\xgboost\\sklearn.py:885: UserWarning: `eval_metric` in `fit` method is deprecated for better compatibility with scikit-learn, use `eval_metric` in constructor or`set_params` instead.\n",
      "  warnings.warn(\n",
      "\n",
      "C:\\Users\\Luca Visser\\AppData\\Roaming\\Python\\Python310\\site-packages\\xgboost\\sklearn.py:885: UserWarning: `early_stopping_rounds` in `fit` method is deprecated for better compatibility with scikit-learn, use `early_stopping_rounds` in constructor or`set_params` instead.\n",
      "  warnings.warn(\n",
      "\n",
      "C:\\Users\\Luca Visser\\AppData\\Roaming\\Python\\Python310\\site-packages\\xgboost\\core.py:160: UserWarning: [01:45:25] WARNING: C:\\buildkite-agent\\builds\\buildkite-windows-cpu-autoscaling-group-i-0cec3277c4d9d0165-1\\xgboost\\xgboost-ci-windows\\src\\metric\\auc.cc:320: Dataset is empty, or contains only positive or negative samples.\n",
      "  warnings.warn(smsg, UserWarning)\n",
      "\n",
      "C:\\Users\\Luca Visser\\AppData\\Roaming\\Python\\Python310\\site-packages\\xgboost\\sklearn.py:885: UserWarning: `eval_metric` in `fit` method is deprecated for better compatibility with scikit-learn, use `eval_metric` in constructor or`set_params` instead.\n",
      "  warnings.warn(\n",
      "\n",
      "C:\\Users\\Luca Visser\\AppData\\Roaming\\Python\\Python310\\site-packages\\xgboost\\sklearn.py:885: UserWarning: `early_stopping_rounds` in `fit` method is deprecated for better compatibility with scikit-learn, use `early_stopping_rounds` in constructor or`set_params` instead.\n",
      "  warnings.warn(\n",
      "\n",
      "C:\\Users\\Luca Visser\\AppData\\Roaming\\Python\\Python310\\site-packages\\xgboost\\core.py:160: UserWarning: [01:45:25] WARNING: C:\\buildkite-agent\\builds\\buildkite-windows-cpu-autoscaling-group-i-0cec3277c4d9d0165-1\\xgboost\\xgboost-ci-windows\\src\\metric\\auc.cc:320: Dataset is empty, or contains only positive or negative samples.\n",
      "  warnings.warn(smsg, UserWarning)\n",
      "\n"
     ]
    },
    {
     "name": "stdout",
     "output_type": "stream",
     "text": [
      "  6%|▌         | 6/100 [00:02<00:25,  3.66trial/s, best loss: -0.0]"
     ]
    },
    {
     "name": "stderr",
     "output_type": "stream",
     "text": [
      "C:\\Users\\Luca Visser\\AppData\\Roaming\\Python\\Python310\\site-packages\\xgboost\\sklearn.py:885: UserWarning: `eval_metric` in `fit` method is deprecated for better compatibility with scikit-learn, use `eval_metric` in constructor or`set_params` instead.\n",
      "  warnings.warn(\n",
      "\n",
      "C:\\Users\\Luca Visser\\AppData\\Roaming\\Python\\Python310\\site-packages\\xgboost\\sklearn.py:885: UserWarning: `early_stopping_rounds` in `fit` method is deprecated for better compatibility with scikit-learn, use `early_stopping_rounds` in constructor or`set_params` instead.\n",
      "  warnings.warn(\n",
      "\n",
      "C:\\Users\\Luca Visser\\AppData\\Roaming\\Python\\Python310\\site-packages\\xgboost\\core.py:160: UserWarning: [01:45:25] WARNING: C:\\buildkite-agent\\builds\\buildkite-windows-cpu-autoscaling-group-i-0cec3277c4d9d0165-1\\xgboost\\xgboost-ci-windows\\src\\metric\\auc.cc:320: Dataset is empty, or contains only positive or negative samples.\n",
      "  warnings.warn(smsg, UserWarning)\n",
      "\n",
      "C:\\Users\\Luca Visser\\AppData\\Roaming\\Python\\Python310\\site-packages\\xgboost\\core.py:160: UserWarning: [01:45:26] WARNING: C:\\buildkite-agent\\builds\\buildkite-windows-cpu-autoscaling-group-i-0cec3277c4d9d0165-1\\xgboost\\xgboost-ci-windows\\src\\metric\\auc.cc:320: Dataset is empty, or contains only positive or negative samples.\n",
      "  warnings.warn(smsg, UserWarning)\n",
      "\n"
     ]
    },
    {
     "name": "stdout",
     "output_type": "stream",
     "text": [
      "  7%|▋         | 7/100 [00:02<00:26,  3.51trial/s, best loss: -0.0]"
     ]
    },
    {
     "name": "stderr",
     "output_type": "stream",
     "text": [
      "C:\\Users\\Luca Visser\\AppData\\Roaming\\Python\\Python310\\site-packages\\xgboost\\sklearn.py:885: UserWarning: `eval_metric` in `fit` method is deprecated for better compatibility with scikit-learn, use `eval_metric` in constructor or`set_params` instead.\n",
      "  warnings.warn(\n",
      "\n",
      "C:\\Users\\Luca Visser\\AppData\\Roaming\\Python\\Python310\\site-packages\\xgboost\\sklearn.py:885: UserWarning: `early_stopping_rounds` in `fit` method is deprecated for better compatibility with scikit-learn, use `early_stopping_rounds` in constructor or`set_params` instead.\n",
      "  warnings.warn(\n",
      "\n",
      "C:\\Users\\Luca Visser\\AppData\\Roaming\\Python\\Python310\\site-packages\\xgboost\\core.py:160: UserWarning: [01:45:26] WARNING: C:\\buildkite-agent\\builds\\buildkite-windows-cpu-autoscaling-group-i-0cec3277c4d9d0165-1\\xgboost\\xgboost-ci-windows\\src\\metric\\auc.cc:320: Dataset is empty, or contains only positive or negative samples.\n",
      "  warnings.warn(smsg, UserWarning)\n",
      "\n"
     ]
    },
    {
     "name": "stdout",
     "output_type": "stream",
     "text": [
      "  8%|▊         | 8/100 [00:02<00:30,  3.05trial/s, best loss: -0.0]"
     ]
    },
    {
     "name": "stderr",
     "output_type": "stream",
     "text": [
      "C:\\Users\\Luca Visser\\AppData\\Roaming\\Python\\Python310\\site-packages\\xgboost\\sklearn.py:885: UserWarning: `eval_metric` in `fit` method is deprecated for better compatibility with scikit-learn, use `eval_metric` in constructor or`set_params` instead.\n",
      "  warnings.warn(\n",
      "\n",
      "C:\\Users\\Luca Visser\\AppData\\Roaming\\Python\\Python310\\site-packages\\xgboost\\sklearn.py:885: UserWarning: `early_stopping_rounds` in `fit` method is deprecated for better compatibility with scikit-learn, use `early_stopping_rounds` in constructor or`set_params` instead.\n",
      "  warnings.warn(\n",
      "\n",
      "C:\\Users\\Luca Visser\\AppData\\Roaming\\Python\\Python310\\site-packages\\xgboost\\core.py:160: UserWarning: [01:45:26] WARNING: C:\\buildkite-agent\\builds\\buildkite-windows-cpu-autoscaling-group-i-0cec3277c4d9d0165-1\\xgboost\\xgboost-ci-windows\\src\\metric\\auc.cc:320: Dataset is empty, or contains only positive or negative samples.\n",
      "  warnings.warn(smsg, UserWarning)\n",
      "\n"
     ]
    },
    {
     "name": "stdout",
     "output_type": "stream",
     "text": [
      " 10%|█         | 10/100 [00:03<00:26,  3.43trial/s, best loss: -0.0]"
     ]
    },
    {
     "name": "stderr",
     "output_type": "stream",
     "text": [
      "C:\\Users\\Luca Visser\\AppData\\Roaming\\Python\\Python310\\site-packages\\xgboost\\sklearn.py:885: UserWarning: `eval_metric` in `fit` method is deprecated for better compatibility with scikit-learn, use `eval_metric` in constructor or`set_params` instead.\n",
      "  warnings.warn(\n",
      "\n",
      "C:\\Users\\Luca Visser\\AppData\\Roaming\\Python\\Python310\\site-packages\\xgboost\\sklearn.py:885: UserWarning: `early_stopping_rounds` in `fit` method is deprecated for better compatibility with scikit-learn, use `early_stopping_rounds` in constructor or`set_params` instead.\n",
      "  warnings.warn(\n",
      "\n",
      "C:\\Users\\Luca Visser\\AppData\\Roaming\\Python\\Python310\\site-packages\\xgboost\\core.py:160: UserWarning: [01:45:27] WARNING: C:\\buildkite-agent\\builds\\buildkite-windows-cpu-autoscaling-group-i-0cec3277c4d9d0165-1\\xgboost\\xgboost-ci-windows\\src\\metric\\auc.cc:320: Dataset is empty, or contains only positive or negative samples.\n",
      "  warnings.warn(smsg, UserWarning)\n",
      "\n",
      "C:\\Users\\Luca Visser\\AppData\\Roaming\\Python\\Python310\\site-packages\\xgboost\\sklearn.py:885: UserWarning: `eval_metric` in `fit` method is deprecated for better compatibility with scikit-learn, use `eval_metric` in constructor or`set_params` instead.\n",
      "  warnings.warn(\n",
      "\n",
      "C:\\Users\\Luca Visser\\AppData\\Roaming\\Python\\Python310\\site-packages\\xgboost\\sklearn.py:885: UserWarning: `early_stopping_rounds` in `fit` method is deprecated for better compatibility with scikit-learn, use `early_stopping_rounds` in constructor or`set_params` instead.\n",
      "  warnings.warn(\n",
      "\n",
      "C:\\Users\\Luca Visser\\AppData\\Roaming\\Python\\Python310\\site-packages\\xgboost\\core.py:160: UserWarning: [01:45:27] WARNING: C:\\buildkite-agent\\builds\\buildkite-windows-cpu-autoscaling-group-i-0cec3277c4d9d0165-1\\xgboost\\xgboost-ci-windows\\src\\metric\\auc.cc:320: Dataset is empty, or contains only positive or negative samples.\n",
      "  warnings.warn(smsg, UserWarning)\n",
      "\n"
     ]
    },
    {
     "name": "stdout",
     "output_type": "stream",
     "text": [
      " 12%|█▏        | 12/100 [00:03<00:18,  4.83trial/s, best loss: -0.0]"
     ]
    },
    {
     "name": "stderr",
     "output_type": "stream",
     "text": [
      "C:\\Users\\Luca Visser\\AppData\\Roaming\\Python\\Python310\\site-packages\\xgboost\\sklearn.py:885: UserWarning: `eval_metric` in `fit` method is deprecated for better compatibility with scikit-learn, use `eval_metric` in constructor or`set_params` instead.\n",
      "  warnings.warn(\n",
      "\n",
      "C:\\Users\\Luca Visser\\AppData\\Roaming\\Python\\Python310\\site-packages\\xgboost\\sklearn.py:885: UserWarning: `early_stopping_rounds` in `fit` method is deprecated for better compatibility with scikit-learn, use `early_stopping_rounds` in constructor or`set_params` instead.\n",
      "  warnings.warn(\n",
      "\n",
      "C:\\Users\\Luca Visser\\AppData\\Roaming\\Python\\Python310\\site-packages\\xgboost\\core.py:160: UserWarning: [01:45:27] WARNING: C:\\buildkite-agent\\builds\\buildkite-windows-cpu-autoscaling-group-i-0cec3277c4d9d0165-1\\xgboost\\xgboost-ci-windows\\src\\metric\\auc.cc:320: Dataset is empty, or contains only positive or negative samples.\n",
      "  warnings.warn(smsg, UserWarning)\n",
      "\n",
      "C:\\Users\\Luca Visser\\AppData\\Roaming\\Python\\Python310\\site-packages\\xgboost\\sklearn.py:885: UserWarning: `eval_metric` in `fit` method is deprecated for better compatibility with scikit-learn, use `eval_metric` in constructor or`set_params` instead.\n",
      "  warnings.warn(\n",
      "\n",
      "C:\\Users\\Luca Visser\\AppData\\Roaming\\Python\\Python310\\site-packages\\xgboost\\sklearn.py:885: UserWarning: `early_stopping_rounds` in `fit` method is deprecated for better compatibility with scikit-learn, use `early_stopping_rounds` in constructor or`set_params` instead.\n",
      "  warnings.warn(\n",
      "\n",
      "C:\\Users\\Luca Visser\\AppData\\Roaming\\Python\\Python310\\site-packages\\xgboost\\core.py:160: UserWarning: [01:45:27] WARNING: C:\\buildkite-agent\\builds\\buildkite-windows-cpu-autoscaling-group-i-0cec3277c4d9d0165-1\\xgboost\\xgboost-ci-windows\\src\\metric\\auc.cc:320: Dataset is empty, or contains only positive or negative samples.\n",
      "  warnings.warn(smsg, UserWarning)\n",
      "\n"
     ]
    },
    {
     "name": "stdout",
     "output_type": "stream",
     "text": [
      " 14%|█▍        | 14/100 [00:03<00:15,  5.42trial/s, best loss: -0.0]"
     ]
    },
    {
     "name": "stderr",
     "output_type": "stream",
     "text": [
      "C:\\Users\\Luca Visser\\AppData\\Roaming\\Python\\Python310\\site-packages\\xgboost\\sklearn.py:885: UserWarning: `eval_metric` in `fit` method is deprecated for better compatibility with scikit-learn, use `eval_metric` in constructor or`set_params` instead.\n",
      "  warnings.warn(\n",
      "\n",
      "C:\\Users\\Luca Visser\\AppData\\Roaming\\Python\\Python310\\site-packages\\xgboost\\sklearn.py:885: UserWarning: `early_stopping_rounds` in `fit` method is deprecated for better compatibility with scikit-learn, use `early_stopping_rounds` in constructor or`set_params` instead.\n",
      "  warnings.warn(\n",
      "\n",
      "C:\\Users\\Luca Visser\\AppData\\Roaming\\Python\\Python310\\site-packages\\xgboost\\core.py:160: UserWarning: [01:45:27] WARNING: C:\\buildkite-agent\\builds\\buildkite-windows-cpu-autoscaling-group-i-0cec3277c4d9d0165-1\\xgboost\\xgboost-ci-windows\\src\\metric\\auc.cc:320: Dataset is empty, or contains only positive or negative samples.\n",
      "  warnings.warn(smsg, UserWarning)\n",
      "\n",
      "C:\\Users\\Luca Visser\\AppData\\Roaming\\Python\\Python310\\site-packages\\xgboost\\sklearn.py:885: UserWarning: `eval_metric` in `fit` method is deprecated for better compatibility with scikit-learn, use `eval_metric` in constructor or`set_params` instead.\n",
      "  warnings.warn(\n",
      "\n",
      "C:\\Users\\Luca Visser\\AppData\\Roaming\\Python\\Python310\\site-packages\\xgboost\\sklearn.py:885: UserWarning: `early_stopping_rounds` in `fit` method is deprecated for better compatibility with scikit-learn, use `early_stopping_rounds` in constructor or`set_params` instead.\n",
      "  warnings.warn(\n",
      "\n",
      "C:\\Users\\Luca Visser\\AppData\\Roaming\\Python\\Python310\\site-packages\\xgboost\\core.py:160: UserWarning: [01:45:27] WARNING: C:\\buildkite-agent\\builds\\buildkite-windows-cpu-autoscaling-group-i-0cec3277c4d9d0165-1\\xgboost\\xgboost-ci-windows\\src\\metric\\auc.cc:320: Dataset is empty, or contains only positive or negative samples.\n",
      "  warnings.warn(smsg, UserWarning)\n",
      "\n"
     ]
    },
    {
     "name": "stdout",
     "output_type": "stream",
     "text": [
      " 16%|█▌        | 16/100 [00:04<00:13,  6.06trial/s, best loss: -0.0]"
     ]
    },
    {
     "name": "stderr",
     "output_type": "stream",
     "text": [
      "C:\\Users\\Luca Visser\\AppData\\Roaming\\Python\\Python310\\site-packages\\xgboost\\sklearn.py:885: UserWarning: `eval_metric` in `fit` method is deprecated for better compatibility with scikit-learn, use `eval_metric` in constructor or`set_params` instead.\n",
      "  warnings.warn(\n",
      "\n",
      "C:\\Users\\Luca Visser\\AppData\\Roaming\\Python\\Python310\\site-packages\\xgboost\\sklearn.py:885: UserWarning: `early_stopping_rounds` in `fit` method is deprecated for better compatibility with scikit-learn, use `early_stopping_rounds` in constructor or`set_params` instead.\n",
      "  warnings.warn(\n",
      "\n",
      "C:\\Users\\Luca Visser\\AppData\\Roaming\\Python\\Python310\\site-packages\\xgboost\\core.py:160: UserWarning: [01:45:27] WARNING: C:\\buildkite-agent\\builds\\buildkite-windows-cpu-autoscaling-group-i-0cec3277c4d9d0165-1\\xgboost\\xgboost-ci-windows\\src\\metric\\auc.cc:320: Dataset is empty, or contains only positive or negative samples.\n",
      "  warnings.warn(smsg, UserWarning)\n",
      "\n",
      "C:\\Users\\Luca Visser\\AppData\\Roaming\\Python\\Python310\\site-packages\\xgboost\\sklearn.py:885: UserWarning: `eval_metric` in `fit` method is deprecated for better compatibility with scikit-learn, use `eval_metric` in constructor or`set_params` instead.\n",
      "  warnings.warn(\n",
      "\n",
      "C:\\Users\\Luca Visser\\AppData\\Roaming\\Python\\Python310\\site-packages\\xgboost\\sklearn.py:885: UserWarning: `early_stopping_rounds` in `fit` method is deprecated for better compatibility with scikit-learn, use `early_stopping_rounds` in constructor or`set_params` instead.\n",
      "  warnings.warn(\n",
      "\n",
      "C:\\Users\\Luca Visser\\AppData\\Roaming\\Python\\Python310\\site-packages\\xgboost\\core.py:160: UserWarning: [01:45:28] WARNING: C:\\buildkite-agent\\builds\\buildkite-windows-cpu-autoscaling-group-i-0cec3277c4d9d0165-1\\xgboost\\xgboost-ci-windows\\src\\metric\\auc.cc:320: Dataset is empty, or contains only positive or negative samples.\n",
      "  warnings.warn(smsg, UserWarning)\n",
      "\n"
     ]
    },
    {
     "name": "stdout",
     "output_type": "stream",
     "text": [
      " 17%|█▋        | 17/100 [00:04<00:16,  4.88trial/s, best loss: -0.0]"
     ]
    },
    {
     "name": "stderr",
     "output_type": "stream",
     "text": [
      "C:\\Users\\Luca Visser\\AppData\\Roaming\\Python\\Python310\\site-packages\\xgboost\\sklearn.py:885: UserWarning: `eval_metric` in `fit` method is deprecated for better compatibility with scikit-learn, use `eval_metric` in constructor or`set_params` instead.\n",
      "  warnings.warn(\n",
      "\n",
      "C:\\Users\\Luca Visser\\AppData\\Roaming\\Python\\Python310\\site-packages\\xgboost\\sklearn.py:885: UserWarning: `early_stopping_rounds` in `fit` method is deprecated for better compatibility with scikit-learn, use `early_stopping_rounds` in constructor or`set_params` instead.\n",
      "  warnings.warn(\n",
      "\n",
      "C:\\Users\\Luca Visser\\AppData\\Roaming\\Python\\Python310\\site-packages\\xgboost\\core.py:160: UserWarning: [01:45:28] WARNING: C:\\buildkite-agent\\builds\\buildkite-windows-cpu-autoscaling-group-i-0cec3277c4d9d0165-1\\xgboost\\xgboost-ci-windows\\src\\metric\\auc.cc:320: Dataset is empty, or contains only positive or negative samples.\n",
      "  warnings.warn(smsg, UserWarning)\n",
      "\n"
     ]
    },
    {
     "name": "stdout",
     "output_type": "stream",
     "text": [
      " 19%|█▉        | 19/100 [00:05<00:17,  4.63trial/s, best loss: -0.0]"
     ]
    },
    {
     "name": "stderr",
     "output_type": "stream",
     "text": [
      "C:\\Users\\Luca Visser\\AppData\\Roaming\\Python\\Python310\\site-packages\\xgboost\\sklearn.py:885: UserWarning: `eval_metric` in `fit` method is deprecated for better compatibility with scikit-learn, use `eval_metric` in constructor or`set_params` instead.\n",
      "  warnings.warn(\n",
      "\n",
      "C:\\Users\\Luca Visser\\AppData\\Roaming\\Python\\Python310\\site-packages\\xgboost\\sklearn.py:885: UserWarning: `early_stopping_rounds` in `fit` method is deprecated for better compatibility with scikit-learn, use `early_stopping_rounds` in constructor or`set_params` instead.\n",
      "  warnings.warn(\n",
      "\n",
      "C:\\Users\\Luca Visser\\AppData\\Roaming\\Python\\Python310\\site-packages\\xgboost\\core.py:160: UserWarning: [01:45:28] WARNING: C:\\buildkite-agent\\builds\\buildkite-windows-cpu-autoscaling-group-i-0cec3277c4d9d0165-1\\xgboost\\xgboost-ci-windows\\src\\metric\\auc.cc:320: Dataset is empty, or contains only positive or negative samples.\n",
      "  warnings.warn(smsg, UserWarning)\n",
      "\n",
      "C:\\Users\\Luca Visser\\AppData\\Roaming\\Python\\Python310\\site-packages\\xgboost\\sklearn.py:885: UserWarning: `eval_metric` in `fit` method is deprecated for better compatibility with scikit-learn, use `eval_metric` in constructor or`set_params` instead.\n",
      "  warnings.warn(\n",
      "\n",
      "C:\\Users\\Luca Visser\\AppData\\Roaming\\Python\\Python310\\site-packages\\xgboost\\sklearn.py:885: UserWarning: `early_stopping_rounds` in `fit` method is deprecated for better compatibility with scikit-learn, use `early_stopping_rounds` in constructor or`set_params` instead.\n",
      "  warnings.warn(\n",
      "\n",
      "C:\\Users\\Luca Visser\\AppData\\Roaming\\Python\\Python310\\site-packages\\xgboost\\core.py:160: UserWarning: [01:45:28] WARNING: C:\\buildkite-agent\\builds\\buildkite-windows-cpu-autoscaling-group-i-0cec3277c4d9d0165-1\\xgboost\\xgboost-ci-windows\\src\\metric\\auc.cc:320: Dataset is empty, or contains only positive or negative samples.\n",
      "  warnings.warn(smsg, UserWarning)\n",
      "\n",
      "C:\\Users\\Luca Visser\\AppData\\Roaming\\Python\\Python310\\site-packages\\xgboost\\core.py:160: UserWarning: [01:45:29] WARNING: C:\\buildkite-agent\\builds\\buildkite-windows-cpu-autoscaling-group-i-0cec3277c4d9d0165-1\\xgboost\\xgboost-ci-windows\\src\\metric\\auc.cc:320: Dataset is empty, or contains only positive or negative samples.\n",
      "  warnings.warn(smsg, UserWarning)\n",
      "\n"
     ]
    },
    {
     "name": "stdout",
     "output_type": "stream",
     "text": [
      " 20%|██        | 20/100 [00:05<00:23,  3.40trial/s, best loss: -0.0]"
     ]
    },
    {
     "name": "stderr",
     "output_type": "stream",
     "text": [
      "C:\\Users\\Luca Visser\\AppData\\Roaming\\Python\\Python310\\site-packages\\xgboost\\sklearn.py:885: UserWarning: `eval_metric` in `fit` method is deprecated for better compatibility with scikit-learn, use `eval_metric` in constructor or`set_params` instead.\n",
      "  warnings.warn(\n",
      "\n",
      "C:\\Users\\Luca Visser\\AppData\\Roaming\\Python\\Python310\\site-packages\\xgboost\\sklearn.py:885: UserWarning: `early_stopping_rounds` in `fit` method is deprecated for better compatibility with scikit-learn, use `early_stopping_rounds` in constructor or`set_params` instead.\n",
      "  warnings.warn(\n",
      "\n",
      "C:\\Users\\Luca Visser\\AppData\\Roaming\\Python\\Python310\\site-packages\\xgboost\\core.py:160: UserWarning: [01:45:29] WARNING: C:\\buildkite-agent\\builds\\buildkite-windows-cpu-autoscaling-group-i-0cec3277c4d9d0165-1\\xgboost\\xgboost-ci-windows\\src\\metric\\auc.cc:320: Dataset is empty, or contains only positive or negative samples.\n",
      "  warnings.warn(smsg, UserWarning)\n",
      "\n"
     ]
    },
    {
     "name": "stdout",
     "output_type": "stream",
     "text": [
      " 22%|██▏       | 22/100 [00:06<00:22,  3.48trial/s, best loss: -0.0]"
     ]
    },
    {
     "name": "stderr",
     "output_type": "stream",
     "text": [
      "C:\\Users\\Luca Visser\\AppData\\Roaming\\Python\\Python310\\site-packages\\xgboost\\sklearn.py:885: UserWarning: `eval_metric` in `fit` method is deprecated for better compatibility with scikit-learn, use `eval_metric` in constructor or`set_params` instead.\n",
      "  warnings.warn(\n",
      "\n",
      "C:\\Users\\Luca Visser\\AppData\\Roaming\\Python\\Python310\\site-packages\\xgboost\\sklearn.py:885: UserWarning: `early_stopping_rounds` in `fit` method is deprecated for better compatibility with scikit-learn, use `early_stopping_rounds` in constructor or`set_params` instead.\n",
      "  warnings.warn(\n",
      "\n",
      "C:\\Users\\Luca Visser\\AppData\\Roaming\\Python\\Python310\\site-packages\\xgboost\\core.py:160: UserWarning: [01:45:29] WARNING: C:\\buildkite-agent\\builds\\buildkite-windows-cpu-autoscaling-group-i-0cec3277c4d9d0165-1\\xgboost\\xgboost-ci-windows\\src\\metric\\auc.cc:320: Dataset is empty, or contains only positive or negative samples.\n",
      "  warnings.warn(smsg, UserWarning)\n",
      "\n",
      "C:\\Users\\Luca Visser\\AppData\\Roaming\\Python\\Python310\\site-packages\\xgboost\\sklearn.py:885: UserWarning: `eval_metric` in `fit` method is deprecated for better compatibility with scikit-learn, use `eval_metric` in constructor or`set_params` instead.\n",
      "  warnings.warn(\n",
      "\n",
      "C:\\Users\\Luca Visser\\AppData\\Roaming\\Python\\Python310\\site-packages\\xgboost\\sklearn.py:885: UserWarning: `early_stopping_rounds` in `fit` method is deprecated for better compatibility with scikit-learn, use `early_stopping_rounds` in constructor or`set_params` instead.\n",
      "  warnings.warn(\n",
      "\n",
      "C:\\Users\\Luca Visser\\AppData\\Roaming\\Python\\Python310\\site-packages\\xgboost\\core.py:160: UserWarning: [01:45:29] WARNING: C:\\buildkite-agent\\builds\\buildkite-windows-cpu-autoscaling-group-i-0cec3277c4d9d0165-1\\xgboost\\xgboost-ci-windows\\src\\metric\\auc.cc:320: Dataset is empty, or contains only positive or negative samples.\n",
      "  warnings.warn(smsg, UserWarning)\n",
      "\n",
      "C:\\Users\\Luca Visser\\AppData\\Roaming\\Python\\Python310\\site-packages\\xgboost\\core.py:160: UserWarning: [01:45:30] WARNING: C:\\buildkite-agent\\builds\\buildkite-windows-cpu-autoscaling-group-i-0cec3277c4d9d0165-1\\xgboost\\xgboost-ci-windows\\src\\metric\\auc.cc:320: Dataset is empty, or contains only positive or negative samples.\n",
      "  warnings.warn(smsg, UserWarning)\n",
      "\n"
     ]
    },
    {
     "name": "stdout",
     "output_type": "stream",
     "text": [
      " 24%|██▍       | 24/100 [00:06<00:22,  3.36trial/s, best loss: -0.0]"
     ]
    },
    {
     "name": "stderr",
     "output_type": "stream",
     "text": [
      "C:\\Users\\Luca Visser\\AppData\\Roaming\\Python\\Python310\\site-packages\\xgboost\\sklearn.py:885: UserWarning: `eval_metric` in `fit` method is deprecated for better compatibility with scikit-learn, use `eval_metric` in constructor or`set_params` instead.\n",
      "  warnings.warn(\n",
      "\n",
      "C:\\Users\\Luca Visser\\AppData\\Roaming\\Python\\Python310\\site-packages\\xgboost\\sklearn.py:885: UserWarning: `early_stopping_rounds` in `fit` method is deprecated for better compatibility with scikit-learn, use `early_stopping_rounds` in constructor or`set_params` instead.\n",
      "  warnings.warn(\n",
      "\n",
      "C:\\Users\\Luca Visser\\AppData\\Roaming\\Python\\Python310\\site-packages\\xgboost\\core.py:160: UserWarning: [01:45:30] WARNING: C:\\buildkite-agent\\builds\\buildkite-windows-cpu-autoscaling-group-i-0cec3277c4d9d0165-1\\xgboost\\xgboost-ci-windows\\src\\metric\\auc.cc:320: Dataset is empty, or contains only positive or negative samples.\n",
      "  warnings.warn(smsg, UserWarning)\n",
      "\n"
     ]
    },
    {
     "name": "stdout",
     "output_type": "stream",
     "text": [
      " 25%|██▌       | 25/100 [00:06<00:20,  3.68trial/s, best loss: -0.0]"
     ]
    },
    {
     "name": "stderr",
     "output_type": "stream",
     "text": [
      "C:\\Users\\Luca Visser\\AppData\\Roaming\\Python\\Python310\\site-packages\\xgboost\\sklearn.py:885: UserWarning: `eval_metric` in `fit` method is deprecated for better compatibility with scikit-learn, use `eval_metric` in constructor or`set_params` instead.\n",
      "  warnings.warn(\n",
      "\n",
      "C:\\Users\\Luca Visser\\AppData\\Roaming\\Python\\Python310\\site-packages\\xgboost\\sklearn.py:885: UserWarning: `early_stopping_rounds` in `fit` method is deprecated for better compatibility with scikit-learn, use `early_stopping_rounds` in constructor or`set_params` instead.\n",
      "  warnings.warn(\n",
      "\n",
      "C:\\Users\\Luca Visser\\AppData\\Roaming\\Python\\Python310\\site-packages\\xgboost\\core.py:160: UserWarning: [01:45:30] WARNING: C:\\buildkite-agent\\builds\\buildkite-windows-cpu-autoscaling-group-i-0cec3277c4d9d0165-1\\xgboost\\xgboost-ci-windows\\src\\metric\\auc.cc:320: Dataset is empty, or contains only positive or negative samples.\n",
      "  warnings.warn(smsg, UserWarning)\n",
      "\n",
      "C:\\Users\\Luca Visser\\AppData\\Roaming\\Python\\Python310\\site-packages\\xgboost\\sklearn.py:885: UserWarning: `eval_metric` in `fit` method is deprecated for better compatibility with scikit-learn, use `eval_metric` in constructor or`set_params` instead.\n",
      "  warnings.warn(\n",
      "\n",
      "C:\\Users\\Luca Visser\\AppData\\Roaming\\Python\\Python310\\site-packages\\xgboost\\sklearn.py:885: UserWarning: `early_stopping_rounds` in `fit` method is deprecated for better compatibility with scikit-learn, use `early_stopping_rounds` in constructor or`set_params` instead.\n",
      "  warnings.warn(\n",
      "\n",
      "C:\\Users\\Luca Visser\\AppData\\Roaming\\Python\\Python310\\site-packages\\xgboost\\core.py:160: UserWarning: [01:45:30] WARNING: C:\\buildkite-agent\\builds\\buildkite-windows-cpu-autoscaling-group-i-0cec3277c4d9d0165-1\\xgboost\\xgboost-ci-windows\\src\\metric\\auc.cc:320: Dataset is empty, or contains only positive or negative samples.\n",
      "  warnings.warn(smsg, UserWarning)\n",
      "\n"
     ]
    },
    {
     "name": "stdout",
     "output_type": "stream",
     "text": [
      " 26%|██▌       | 26/100 [00:07<00:25,  2.92trial/s, best loss: -0.0]"
     ]
    },
    {
     "name": "stderr",
     "output_type": "stream",
     "text": [
      "C:\\Users\\Luca Visser\\AppData\\Roaming\\Python\\Python310\\site-packages\\xgboost\\core.py:160: UserWarning: [01:45:31] WARNING: C:\\buildkite-agent\\builds\\buildkite-windows-cpu-autoscaling-group-i-0cec3277c4d9d0165-1\\xgboost\\xgboost-ci-windows\\src\\metric\\auc.cc:320: Dataset is empty, or contains only positive or negative samples.\n",
      "  warnings.warn(smsg, UserWarning)\n",
      "\n"
     ]
    },
    {
     "name": "stdout",
     "output_type": "stream",
     "text": [
      " 27%|██▋       | 27/100 [00:07<00:23,  3.13trial/s, best loss: -0.0]"
     ]
    },
    {
     "name": "stderr",
     "output_type": "stream",
     "text": [
      "C:\\Users\\Luca Visser\\AppData\\Roaming\\Python\\Python310\\site-packages\\xgboost\\sklearn.py:885: UserWarning: `eval_metric` in `fit` method is deprecated for better compatibility with scikit-learn, use `eval_metric` in constructor or`set_params` instead.\n",
      "  warnings.warn(\n",
      "\n",
      "C:\\Users\\Luca Visser\\AppData\\Roaming\\Python\\Python310\\site-packages\\xgboost\\sklearn.py:885: UserWarning: `early_stopping_rounds` in `fit` method is deprecated for better compatibility with scikit-learn, use `early_stopping_rounds` in constructor or`set_params` instead.\n",
      "  warnings.warn(\n",
      "\n",
      "C:\\Users\\Luca Visser\\AppData\\Roaming\\Python\\Python310\\site-packages\\xgboost\\core.py:160: UserWarning: [01:45:31] WARNING: C:\\buildkite-agent\\builds\\buildkite-windows-cpu-autoscaling-group-i-0cec3277c4d9d0165-1\\xgboost\\xgboost-ci-windows\\src\\metric\\auc.cc:320: Dataset is empty, or contains only positive or negative samples.\n",
      "  warnings.warn(smsg, UserWarning)\n",
      "\n"
     ]
    },
    {
     "name": "stdout",
     "output_type": "stream",
     "text": [
      " 28%|██▊       | 28/100 [00:07<00:21,  3.42trial/s, best loss: -0.0]"
     ]
    },
    {
     "name": "stderr",
     "output_type": "stream",
     "text": [
      "C:\\Users\\Luca Visser\\AppData\\Roaming\\Python\\Python310\\site-packages\\xgboost\\sklearn.py:885: UserWarning: `eval_metric` in `fit` method is deprecated for better compatibility with scikit-learn, use `eval_metric` in constructor or`set_params` instead.\n",
      "  warnings.warn(\n",
      "\n",
      "C:\\Users\\Luca Visser\\AppData\\Roaming\\Python\\Python310\\site-packages\\xgboost\\sklearn.py:885: UserWarning: `early_stopping_rounds` in `fit` method is deprecated for better compatibility with scikit-learn, use `early_stopping_rounds` in constructor or`set_params` instead.\n",
      "  warnings.warn(\n",
      "\n",
      "C:\\Users\\Luca Visser\\AppData\\Roaming\\Python\\Python310\\site-packages\\xgboost\\core.py:160: UserWarning: [01:45:31] WARNING: C:\\buildkite-agent\\builds\\buildkite-windows-cpu-autoscaling-group-i-0cec3277c4d9d0165-1\\xgboost\\xgboost-ci-windows\\src\\metric\\auc.cc:320: Dataset is empty, or contains only positive or negative samples.\n",
      "  warnings.warn(smsg, UserWarning)\n",
      "\n",
      "C:\\Users\\Luca Visser\\AppData\\Roaming\\Python\\Python310\\site-packages\\xgboost\\sklearn.py:885: UserWarning: `eval_metric` in `fit` method is deprecated for better compatibility with scikit-learn, use `eval_metric` in constructor or`set_params` instead.\n",
      "  warnings.warn(\n",
      "\n",
      "C:\\Users\\Luca Visser\\AppData\\Roaming\\Python\\Python310\\site-packages\\xgboost\\sklearn.py:885: UserWarning: `early_stopping_rounds` in `fit` method is deprecated for better compatibility with scikit-learn, use `early_stopping_rounds` in constructor or`set_params` instead.\n",
      "  warnings.warn(\n",
      "\n",
      "C:\\Users\\Luca Visser\\AppData\\Roaming\\Python\\Python310\\site-packages\\xgboost\\core.py:160: UserWarning: [01:45:31] WARNING: C:\\buildkite-agent\\builds\\buildkite-windows-cpu-autoscaling-group-i-0cec3277c4d9d0165-1\\xgboost\\xgboost-ci-windows\\src\\metric\\auc.cc:320: Dataset is empty, or contains only positive or negative samples.\n",
      "  warnings.warn(smsg, UserWarning)\n",
      "\n"
     ]
    },
    {
     "name": "stdout",
     "output_type": "stream",
     "text": [
      " 29%|██▉       | 29/100 [00:08<00:23,  2.96trial/s, best loss: -0.0]"
     ]
    },
    {
     "name": "stderr",
     "output_type": "stream",
     "text": [
      "C:\\Users\\Luca Visser\\AppData\\Roaming\\Python\\Python310\\site-packages\\xgboost\\core.py:160: UserWarning: [01:45:32] WARNING: C:\\buildkite-agent\\builds\\buildkite-windows-cpu-autoscaling-group-i-0cec3277c4d9d0165-1\\xgboost\\xgboost-ci-windows\\src\\metric\\auc.cc:320: Dataset is empty, or contains only positive or negative samples.\n",
      "  warnings.warn(smsg, UserWarning)\n",
      "\n",
      "C:\\Users\\Luca Visser\\AppData\\Roaming\\Python\\Python310\\site-packages\\xgboost\\sklearn.py:885: UserWarning: `eval_metric` in `fit` method is deprecated for better compatibility with scikit-learn, use `eval_metric` in constructor or`set_params` instead.\n",
      "  warnings.warn(\n",
      "\n",
      "C:\\Users\\Luca Visser\\AppData\\Roaming\\Python\\Python310\\site-packages\\xgboost\\sklearn.py:885: UserWarning: `early_stopping_rounds` in `fit` method is deprecated for better compatibility with scikit-learn, use `early_stopping_rounds` in constructor or`set_params` instead.\n",
      "  warnings.warn(\n",
      "\n",
      "C:\\Users\\Luca Visser\\AppData\\Roaming\\Python\\Python310\\site-packages\\xgboost\\core.py:160: UserWarning: [01:45:32] WARNING: C:\\buildkite-agent\\builds\\buildkite-windows-cpu-autoscaling-group-i-0cec3277c4d9d0165-1\\xgboost\\xgboost-ci-windows\\src\\metric\\auc.cc:320: Dataset is empty, or contains only positive or negative samples.\n",
      "  warnings.warn(smsg, UserWarning)\n",
      "\n"
     ]
    },
    {
     "name": "stdout",
     "output_type": "stream",
     "text": [
      " 31%|███       | 31/100 [00:08<00:19,  3.62trial/s, best loss: -0.0]"
     ]
    },
    {
     "name": "stderr",
     "output_type": "stream",
     "text": [
      "C:\\Users\\Luca Visser\\AppData\\Roaming\\Python\\Python310\\site-packages\\xgboost\\sklearn.py:885: UserWarning: `eval_metric` in `fit` method is deprecated for better compatibility with scikit-learn, use `eval_metric` in constructor or`set_params` instead.\n",
      "  warnings.warn(\n",
      "\n",
      "C:\\Users\\Luca Visser\\AppData\\Roaming\\Python\\Python310\\site-packages\\xgboost\\sklearn.py:885: UserWarning: `early_stopping_rounds` in `fit` method is deprecated for better compatibility with scikit-learn, use `early_stopping_rounds` in constructor or`set_params` instead.\n",
      "  warnings.warn(\n",
      "\n",
      "C:\\Users\\Luca Visser\\AppData\\Roaming\\Python\\Python310\\site-packages\\xgboost\\core.py:160: UserWarning: [01:45:32] WARNING: C:\\buildkite-agent\\builds\\buildkite-windows-cpu-autoscaling-group-i-0cec3277c4d9d0165-1\\xgboost\\xgboost-ci-windows\\src\\metric\\auc.cc:320: Dataset is empty, or contains only positive or negative samples.\n",
      "  warnings.warn(smsg, UserWarning)\n",
      "\n",
      "C:\\Users\\Luca Visser\\AppData\\Roaming\\Python\\Python310\\site-packages\\xgboost\\sklearn.py:885: UserWarning: `eval_metric` in `fit` method is deprecated for better compatibility with scikit-learn, use `eval_metric` in constructor or`set_params` instead.\n",
      "  warnings.warn(\n",
      "\n",
      "C:\\Users\\Luca Visser\\AppData\\Roaming\\Python\\Python310\\site-packages\\xgboost\\sklearn.py:885: UserWarning: `early_stopping_rounds` in `fit` method is deprecated for better compatibility with scikit-learn, use `early_stopping_rounds` in constructor or`set_params` instead.\n",
      "  warnings.warn(\n",
      "\n",
      "C:\\Users\\Luca Visser\\AppData\\Roaming\\Python\\Python310\\site-packages\\xgboost\\core.py:160: UserWarning: [01:45:32] WARNING: C:\\buildkite-agent\\builds\\buildkite-windows-cpu-autoscaling-group-i-0cec3277c4d9d0165-1\\xgboost\\xgboost-ci-windows\\src\\metric\\auc.cc:320: Dataset is empty, or contains only positive or negative samples.\n",
      "  warnings.warn(smsg, UserWarning)\n",
      "\n"
     ]
    },
    {
     "name": "stdout",
     "output_type": "stream",
     "text": [
      " 32%|███▏      | 32/100 [00:09<00:23,  2.86trial/s, best loss: -0.0]"
     ]
    },
    {
     "name": "stderr",
     "output_type": "stream",
     "text": [
      "C:\\Users\\Luca Visser\\AppData\\Roaming\\Python\\Python310\\site-packages\\xgboost\\core.py:160: UserWarning: [01:45:33] WARNING: C:\\buildkite-agent\\builds\\buildkite-windows-cpu-autoscaling-group-i-0cec3277c4d9d0165-1\\xgboost\\xgboost-ci-windows\\src\\metric\\auc.cc:320: Dataset is empty, or contains only positive or negative samples.\n",
      "  warnings.warn(smsg, UserWarning)\n",
      "\n",
      "C:\\Users\\Luca Visser\\AppData\\Roaming\\Python\\Python310\\site-packages\\xgboost\\sklearn.py:885: UserWarning: `eval_metric` in `fit` method is deprecated for better compatibility with scikit-learn, use `eval_metric` in constructor or`set_params` instead.\n",
      "  warnings.warn(\n",
      "\n",
      "C:\\Users\\Luca Visser\\AppData\\Roaming\\Python\\Python310\\site-packages\\xgboost\\sklearn.py:885: UserWarning: `early_stopping_rounds` in `fit` method is deprecated for better compatibility with scikit-learn, use `early_stopping_rounds` in constructor or`set_params` instead.\n",
      "  warnings.warn(\n",
      "\n",
      "C:\\Users\\Luca Visser\\AppData\\Roaming\\Python\\Python310\\site-packages\\xgboost\\core.py:160: UserWarning: [01:45:33] WARNING: C:\\buildkite-agent\\builds\\buildkite-windows-cpu-autoscaling-group-i-0cec3277c4d9d0165-1\\xgboost\\xgboost-ci-windows\\src\\metric\\auc.cc:320: Dataset is empty, or contains only positive or negative samples.\n",
      "  warnings.warn(smsg, UserWarning)\n",
      "\n"
     ]
    },
    {
     "name": "stdout",
     "output_type": "stream",
     "text": [
      " 34%|███▍      | 34/100 [00:09<00:18,  3.61trial/s, best loss: -0.0]"
     ]
    },
    {
     "name": "stderr",
     "output_type": "stream",
     "text": [
      "C:\\Users\\Luca Visser\\AppData\\Roaming\\Python\\Python310\\site-packages\\xgboost\\sklearn.py:885: UserWarning: `eval_metric` in `fit` method is deprecated for better compatibility with scikit-learn, use `eval_metric` in constructor or`set_params` instead.\n",
      "  warnings.warn(\n",
      "\n",
      "C:\\Users\\Luca Visser\\AppData\\Roaming\\Python\\Python310\\site-packages\\xgboost\\sklearn.py:885: UserWarning: `early_stopping_rounds` in `fit` method is deprecated for better compatibility with scikit-learn, use `early_stopping_rounds` in constructor or`set_params` instead.\n",
      "  warnings.warn(\n",
      "\n",
      "C:\\Users\\Luca Visser\\AppData\\Roaming\\Python\\Python310\\site-packages\\xgboost\\core.py:160: UserWarning: [01:45:33] WARNING: C:\\buildkite-agent\\builds\\buildkite-windows-cpu-autoscaling-group-i-0cec3277c4d9d0165-1\\xgboost\\xgboost-ci-windows\\src\\metric\\auc.cc:320: Dataset is empty, or contains only positive or negative samples.\n",
      "  warnings.warn(smsg, UserWarning)\n",
      "\n",
      "C:\\Users\\Luca Visser\\AppData\\Roaming\\Python\\Python310\\site-packages\\xgboost\\sklearn.py:885: UserWarning: `eval_metric` in `fit` method is deprecated for better compatibility with scikit-learn, use `eval_metric` in constructor or`set_params` instead.\n",
      "  warnings.warn(\n",
      "\n",
      "C:\\Users\\Luca Visser\\AppData\\Roaming\\Python\\Python310\\site-packages\\xgboost\\sklearn.py:885: UserWarning: `early_stopping_rounds` in `fit` method is deprecated for better compatibility with scikit-learn, use `early_stopping_rounds` in constructor or`set_params` instead.\n",
      "  warnings.warn(\n",
      "\n",
      "C:\\Users\\Luca Visser\\AppData\\Roaming\\Python\\Python310\\site-packages\\xgboost\\core.py:160: UserWarning: [01:45:33] WARNING: C:\\buildkite-agent\\builds\\buildkite-windows-cpu-autoscaling-group-i-0cec3277c4d9d0165-1\\xgboost\\xgboost-ci-windows\\src\\metric\\auc.cc:320: Dataset is empty, or contains only positive or negative samples.\n",
      "  warnings.warn(smsg, UserWarning)\n",
      "\n"
     ]
    },
    {
     "name": "stdout",
     "output_type": "stream",
     "text": [
      " 35%|███▌      | 35/100 [00:10<00:23,  2.80trial/s, best loss: -0.0]"
     ]
    },
    {
     "name": "stderr",
     "output_type": "stream",
     "text": [
      "C:\\Users\\Luca Visser\\AppData\\Roaming\\Python\\Python310\\site-packages\\xgboost\\core.py:160: UserWarning: [01:45:34] WARNING: C:\\buildkite-agent\\builds\\buildkite-windows-cpu-autoscaling-group-i-0cec3277c4d9d0165-1\\xgboost\\xgboost-ci-windows\\src\\metric\\auc.cc:320: Dataset is empty, or contains only positive or negative samples.\n",
      "  warnings.warn(smsg, UserWarning)\n",
      "\n",
      "C:\\Users\\Luca Visser\\AppData\\Roaming\\Python\\Python310\\site-packages\\xgboost\\sklearn.py:885: UserWarning: `eval_metric` in `fit` method is deprecated for better compatibility with scikit-learn, use `eval_metric` in constructor or`set_params` instead.\n",
      "  warnings.warn(\n",
      "\n",
      "C:\\Users\\Luca Visser\\AppData\\Roaming\\Python\\Python310\\site-packages\\xgboost\\sklearn.py:885: UserWarning: `early_stopping_rounds` in `fit` method is deprecated for better compatibility with scikit-learn, use `early_stopping_rounds` in constructor or`set_params` instead.\n",
      "  warnings.warn(\n",
      "\n",
      "C:\\Users\\Luca Visser\\AppData\\Roaming\\Python\\Python310\\site-packages\\xgboost\\core.py:160: UserWarning: [01:45:34] WARNING: C:\\buildkite-agent\\builds\\buildkite-windows-cpu-autoscaling-group-i-0cec3277c4d9d0165-1\\xgboost\\xgboost-ci-windows\\src\\metric\\auc.cc:320: Dataset is empty, or contains only positive or negative samples.\n",
      "  warnings.warn(smsg, UserWarning)\n",
      "\n"
     ]
    },
    {
     "name": "stdout",
     "output_type": "stream",
     "text": [
      " 36%|███▌      | 36/100 [00:10<00:24,  2.59trial/s, best loss: -0.0]"
     ]
    },
    {
     "name": "stderr",
     "output_type": "stream",
     "text": [
      "C:\\Users\\Luca Visser\\AppData\\Roaming\\Python\\Python310\\site-packages\\xgboost\\sklearn.py:885: UserWarning: `eval_metric` in `fit` method is deprecated for better compatibility with scikit-learn, use `eval_metric` in constructor or`set_params` instead.\n",
      "  warnings.warn(\n",
      "\n",
      "C:\\Users\\Luca Visser\\AppData\\Roaming\\Python\\Python310\\site-packages\\xgboost\\sklearn.py:885: UserWarning: `early_stopping_rounds` in `fit` method is deprecated for better compatibility with scikit-learn, use `early_stopping_rounds` in constructor or`set_params` instead.\n",
      "  warnings.warn(\n",
      "\n",
      "C:\\Users\\Luca Visser\\AppData\\Roaming\\Python\\Python310\\site-packages\\xgboost\\core.py:160: UserWarning: [01:45:34] WARNING: C:\\buildkite-agent\\builds\\buildkite-windows-cpu-autoscaling-group-i-0cec3277c4d9d0165-1\\xgboost\\xgboost-ci-windows\\src\\metric\\auc.cc:320: Dataset is empty, or contains only positive or negative samples.\n",
      "  warnings.warn(smsg, UserWarning)\n",
      "\n"
     ]
    },
    {
     "name": "stdout",
     "output_type": "stream",
     "text": [
      " 37%|███▋      | 37/100 [00:11<00:22,  2.77trial/s, best loss: -0.0]"
     ]
    },
    {
     "name": "stderr",
     "output_type": "stream",
     "text": [
      "C:\\Users\\Luca Visser\\AppData\\Roaming\\Python\\Python310\\site-packages\\xgboost\\sklearn.py:885: UserWarning: `eval_metric` in `fit` method is deprecated for better compatibility with scikit-learn, use `eval_metric` in constructor or`set_params` instead.\n",
      "  warnings.warn(\n",
      "\n",
      "C:\\Users\\Luca Visser\\AppData\\Roaming\\Python\\Python310\\site-packages\\xgboost\\sklearn.py:885: UserWarning: `early_stopping_rounds` in `fit` method is deprecated for better compatibility with scikit-learn, use `early_stopping_rounds` in constructor or`set_params` instead.\n",
      "  warnings.warn(\n",
      "\n",
      "C:\\Users\\Luca Visser\\AppData\\Roaming\\Python\\Python310\\site-packages\\xgboost\\core.py:160: UserWarning: [01:45:34] WARNING: C:\\buildkite-agent\\builds\\buildkite-windows-cpu-autoscaling-group-i-0cec3277c4d9d0165-1\\xgboost\\xgboost-ci-windows\\src\\metric\\auc.cc:320: Dataset is empty, or contains only positive or negative samples.\n",
      "  warnings.warn(smsg, UserWarning)\n",
      "\n",
      "C:\\Users\\Luca Visser\\AppData\\Roaming\\Python\\Python310\\site-packages\\xgboost\\core.py:160: UserWarning: [01:45:35] WARNING: C:\\buildkite-agent\\builds\\buildkite-windows-cpu-autoscaling-group-i-0cec3277c4d9d0165-1\\xgboost\\xgboost-ci-windows\\src\\metric\\auc.cc:320: Dataset is empty, or contains only positive or negative samples.\n",
      "  warnings.warn(smsg, UserWarning)\n",
      "\n"
     ]
    },
    {
     "name": "stdout",
     "output_type": "stream",
     "text": [
      " 39%|███▉      | 39/100 [00:11<00:19,  3.20trial/s, best loss: -0.0]"
     ]
    },
    {
     "name": "stderr",
     "output_type": "stream",
     "text": [
      "C:\\Users\\Luca Visser\\AppData\\Roaming\\Python\\Python310\\site-packages\\xgboost\\sklearn.py:885: UserWarning: `eval_metric` in `fit` method is deprecated for better compatibility with scikit-learn, use `eval_metric` in constructor or`set_params` instead.\n",
      "  warnings.warn(\n",
      "\n",
      "C:\\Users\\Luca Visser\\AppData\\Roaming\\Python\\Python310\\site-packages\\xgboost\\sklearn.py:885: UserWarning: `early_stopping_rounds` in `fit` method is deprecated for better compatibility with scikit-learn, use `early_stopping_rounds` in constructor or`set_params` instead.\n",
      "  warnings.warn(\n",
      "\n",
      "C:\\Users\\Luca Visser\\AppData\\Roaming\\Python\\Python310\\site-packages\\xgboost\\core.py:160: UserWarning: [01:45:35] WARNING: C:\\buildkite-agent\\builds\\buildkite-windows-cpu-autoscaling-group-i-0cec3277c4d9d0165-1\\xgboost\\xgboost-ci-windows\\src\\metric\\auc.cc:320: Dataset is empty, or contains only positive or negative samples.\n",
      "  warnings.warn(smsg, UserWarning)\n",
      "\n",
      "C:\\Users\\Luca Visser\\AppData\\Roaming\\Python\\Python310\\site-packages\\xgboost\\sklearn.py:885: UserWarning: `eval_metric` in `fit` method is deprecated for better compatibility with scikit-learn, use `eval_metric` in constructor or`set_params` instead.\n",
      "  warnings.warn(\n",
      "\n",
      "C:\\Users\\Luca Visser\\AppData\\Roaming\\Python\\Python310\\site-packages\\xgboost\\sklearn.py:885: UserWarning: `early_stopping_rounds` in `fit` method is deprecated for better compatibility with scikit-learn, use `early_stopping_rounds` in constructor or`set_params` instead.\n",
      "  warnings.warn(\n",
      "\n",
      "C:\\Users\\Luca Visser\\AppData\\Roaming\\Python\\Python310\\site-packages\\xgboost\\core.py:160: UserWarning: [01:45:35] WARNING: C:\\buildkite-agent\\builds\\buildkite-windows-cpu-autoscaling-group-i-0cec3277c4d9d0165-1\\xgboost\\xgboost-ci-windows\\src\\metric\\auc.cc:320: Dataset is empty, or contains only positive or negative samples.\n",
      "  warnings.warn(smsg, UserWarning)\n",
      "\n"
     ]
    },
    {
     "name": "stdout",
     "output_type": "stream",
     "text": [
      " 40%|████      | 40/100 [00:12<00:22,  2.72trial/s, best loss: -0.0]"
     ]
    },
    {
     "name": "stderr",
     "output_type": "stream",
     "text": [
      "C:\\Users\\Luca Visser\\AppData\\Roaming\\Python\\Python310\\site-packages\\xgboost\\sklearn.py:885: UserWarning: `eval_metric` in `fit` method is deprecated for better compatibility with scikit-learn, use `eval_metric` in constructor or`set_params` instead.\n",
      "  warnings.warn(\n",
      "\n",
      "C:\\Users\\Luca Visser\\AppData\\Roaming\\Python\\Python310\\site-packages\\xgboost\\sklearn.py:885: UserWarning: `early_stopping_rounds` in `fit` method is deprecated for better compatibility with scikit-learn, use `early_stopping_rounds` in constructor or`set_params` instead.\n",
      "  warnings.warn(\n",
      "\n",
      "C:\\Users\\Luca Visser\\AppData\\Roaming\\Python\\Python310\\site-packages\\xgboost\\core.py:160: UserWarning: [01:45:35] WARNING: C:\\buildkite-agent\\builds\\buildkite-windows-cpu-autoscaling-group-i-0cec3277c4d9d0165-1\\xgboost\\xgboost-ci-windows\\src\\metric\\auc.cc:320: Dataset is empty, or contains only positive or negative samples.\n",
      "  warnings.warn(smsg, UserWarning)\n",
      "\n",
      "C:\\Users\\Luca Visser\\AppData\\Roaming\\Python\\Python310\\site-packages\\xgboost\\core.py:160: UserWarning: [01:45:36] WARNING: C:\\buildkite-agent\\builds\\buildkite-windows-cpu-autoscaling-group-i-0cec3277c4d9d0165-1\\xgboost\\xgboost-ci-windows\\src\\metric\\auc.cc:320: Dataset is empty, or contains only positive or negative samples.\n",
      "  warnings.warn(smsg, UserWarning)\n",
      "\n"
     ]
    },
    {
     "name": "stdout",
     "output_type": "stream",
     "text": [
      " 41%|████      | 41/100 [00:12<00:22,  2.66trial/s, best loss: -0.0]"
     ]
    },
    {
     "name": "stderr",
     "output_type": "stream",
     "text": [
      "C:\\Users\\Luca Visser\\AppData\\Roaming\\Python\\Python310\\site-packages\\xgboost\\sklearn.py:885: UserWarning: `eval_metric` in `fit` method is deprecated for better compatibility with scikit-learn, use `eval_metric` in constructor or`set_params` instead.\n",
      "  warnings.warn(\n",
      "\n",
      "C:\\Users\\Luca Visser\\AppData\\Roaming\\Python\\Python310\\site-packages\\xgboost\\sklearn.py:885: UserWarning: `early_stopping_rounds` in `fit` method is deprecated for better compatibility with scikit-learn, use `early_stopping_rounds` in constructor or`set_params` instead.\n",
      "  warnings.warn(\n",
      "\n",
      "C:\\Users\\Luca Visser\\AppData\\Roaming\\Python\\Python310\\site-packages\\xgboost\\core.py:160: UserWarning: [01:45:36] WARNING: C:\\buildkite-agent\\builds\\buildkite-windows-cpu-autoscaling-group-i-0cec3277c4d9d0165-1\\xgboost\\xgboost-ci-windows\\src\\metric\\auc.cc:320: Dataset is empty, or contains only positive or negative samples.\n",
      "  warnings.warn(smsg, UserWarning)\n",
      "\n"
     ]
    },
    {
     "name": "stdout",
     "output_type": "stream",
     "text": [
      " 42%|████▏     | 42/100 [00:12<00:22,  2.62trial/s, best loss: -0.0]"
     ]
    },
    {
     "name": "stderr",
     "output_type": "stream",
     "text": [
      "C:\\Users\\Luca Visser\\AppData\\Roaming\\Python\\Python310\\site-packages\\xgboost\\sklearn.py:885: UserWarning: `eval_metric` in `fit` method is deprecated for better compatibility with scikit-learn, use `eval_metric` in constructor or`set_params` instead.\n",
      "  warnings.warn(\n",
      "\n",
      "C:\\Users\\Luca Visser\\AppData\\Roaming\\Python\\Python310\\site-packages\\xgboost\\sklearn.py:885: UserWarning: `early_stopping_rounds` in `fit` method is deprecated for better compatibility with scikit-learn, use `early_stopping_rounds` in constructor or`set_params` instead.\n",
      "  warnings.warn(\n",
      "\n",
      "C:\\Users\\Luca Visser\\AppData\\Roaming\\Python\\Python310\\site-packages\\xgboost\\core.py:160: UserWarning: [01:45:36] WARNING: C:\\buildkite-agent\\builds\\buildkite-windows-cpu-autoscaling-group-i-0cec3277c4d9d0165-1\\xgboost\\xgboost-ci-windows\\src\\metric\\auc.cc:320: Dataset is empty, or contains only positive or negative samples.\n",
      "  warnings.warn(smsg, UserWarning)\n",
      "\n"
     ]
    },
    {
     "name": "stdout",
     "output_type": "stream",
     "text": [
      " 44%|████▍     | 44/100 [00:13<00:18,  3.09trial/s, best loss: -0.0]"
     ]
    },
    {
     "name": "stderr",
     "output_type": "stream",
     "text": [
      "C:\\Users\\Luca Visser\\AppData\\Roaming\\Python\\Python310\\site-packages\\xgboost\\sklearn.py:885: UserWarning: `eval_metric` in `fit` method is deprecated for better compatibility with scikit-learn, use `eval_metric` in constructor or`set_params` instead.\n",
      "  warnings.warn(\n",
      "\n",
      "C:\\Users\\Luca Visser\\AppData\\Roaming\\Python\\Python310\\site-packages\\xgboost\\sklearn.py:885: UserWarning: `early_stopping_rounds` in `fit` method is deprecated for better compatibility with scikit-learn, use `early_stopping_rounds` in constructor or`set_params` instead.\n",
      "  warnings.warn(\n",
      "\n",
      "C:\\Users\\Luca Visser\\AppData\\Roaming\\Python\\Python310\\site-packages\\xgboost\\core.py:160: UserWarning: [01:45:37] WARNING: C:\\buildkite-agent\\builds\\buildkite-windows-cpu-autoscaling-group-i-0cec3277c4d9d0165-1\\xgboost\\xgboost-ci-windows\\src\\metric\\auc.cc:320: Dataset is empty, or contains only positive or negative samples.\n",
      "  warnings.warn(smsg, UserWarning)\n",
      "\n",
      "C:\\Users\\Luca Visser\\AppData\\Roaming\\Python\\Python310\\site-packages\\xgboost\\sklearn.py:885: UserWarning: `eval_metric` in `fit` method is deprecated for better compatibility with scikit-learn, use `eval_metric` in constructor or`set_params` instead.\n",
      "  warnings.warn(\n"
     ]
    },
    {
     "name": "stdout",
     "output_type": "stream",
     "text": [
      " 45%|████▌     | 45/100 [00:13<00:15,  3.60trial/s, best loss: -0.0]"
     ]
    },
    {
     "name": "stderr",
     "output_type": "stream",
     "text": [
      "\n",
      "C:\\Users\\Luca Visser\\AppData\\Roaming\\Python\\Python310\\site-packages\\xgboost\\sklearn.py:885: UserWarning: `early_stopping_rounds` in `fit` method is deprecated for better compatibility with scikit-learn, use `early_stopping_rounds` in constructor or`set_params` instead.\n",
      "  warnings.warn(\n",
      "\n",
      "C:\\Users\\Luca Visser\\AppData\\Roaming\\Python\\Python310\\site-packages\\xgboost\\core.py:160: UserWarning: [01:45:37] WARNING: C:\\buildkite-agent\\builds\\buildkite-windows-cpu-autoscaling-group-i-0cec3277c4d9d0165-1\\xgboost\\xgboost-ci-windows\\src\\metric\\auc.cc:320: Dataset is empty, or contains only positive or negative samples.\n",
      "  warnings.warn(smsg, UserWarning)\n",
      "\n",
      "C:\\Users\\Luca Visser\\AppData\\Roaming\\Python\\Python310\\site-packages\\xgboost\\sklearn.py:885: UserWarning: `eval_metric` in `fit` method is deprecated for better compatibility with scikit-learn, use `eval_metric` in constructor or`set_params` instead.\n",
      "  warnings.warn(\n",
      "\n",
      "C:\\Users\\Luca Visser\\AppData\\Roaming\\Python\\Python310\\site-packages\\xgboost\\sklearn.py:885: UserWarning: `early_stopping_rounds` in `fit` method is deprecated for better compatibility with scikit-learn, use `early_stopping_rounds` in constructor or`set_params` instead.\n",
      "  warnings.warn(\n",
      "\n",
      "C:\\Users\\Luca Visser\\AppData\\Roaming\\Python\\Python310\\site-packages\\xgboost\\core.py:160: UserWarning: [01:45:37] WARNING: C:\\buildkite-agent\\builds\\buildkite-windows-cpu-autoscaling-group-i-0cec3277c4d9d0165-1\\xgboost\\xgboost-ci-windows\\src\\metric\\auc.cc:320: Dataset is empty, or contains only positive or negative samples.\n",
      "  warnings.warn(smsg, UserWarning)\n"
     ]
    },
    {
     "name": "stdout",
     "output_type": "stream",
     "text": [
      " 46%|████▌     | 46/100 [00:13<00:13,  4.06trial/s, best loss: -0.0]"
     ]
    },
    {
     "name": "stderr",
     "output_type": "stream",
     "text": [
      "\n",
      "C:\\Users\\Luca Visser\\AppData\\Roaming\\Python\\Python310\\site-packages\\xgboost\\sklearn.py:885: UserWarning: `eval_metric` in `fit` method is deprecated for better compatibility with scikit-learn, use `eval_metric` in constructor or`set_params` instead.\n",
      "  warnings.warn(\n",
      "\n",
      "C:\\Users\\Luca Visser\\AppData\\Roaming\\Python\\Python310\\site-packages\\xgboost\\sklearn.py:885: UserWarning: `early_stopping_rounds` in `fit` method is deprecated for better compatibility with scikit-learn, use `early_stopping_rounds` in constructor or`set_params` instead.\n",
      "  warnings.warn(\n",
      "\n",
      "C:\\Users\\Luca Visser\\AppData\\Roaming\\Python\\Python310\\site-packages\\xgboost\\core.py:160: UserWarning: [01:45:37] WARNING: C:\\buildkite-agent\\builds\\buildkite-windows-cpu-autoscaling-group-i-0cec3277c4d9d0165-1\\xgboost\\xgboost-ci-windows\\src\\metric\\auc.cc:320: Dataset is empty, or contains only positive or negative samples.\n",
      "  warnings.warn(smsg, UserWarning)\n",
      "\n"
     ]
    },
    {
     "name": "stdout",
     "output_type": "stream",
     "text": [
      " 47%|████▋     | 47/100 [00:14<00:18,  2.94trial/s, best loss: -0.0]"
     ]
    },
    {
     "name": "stderr",
     "output_type": "stream",
     "text": [
      "C:\\Users\\Luca Visser\\AppData\\Roaming\\Python\\Python310\\site-packages\\xgboost\\core.py:160: UserWarning: [01:45:38] WARNING: C:\\buildkite-agent\\builds\\buildkite-windows-cpu-autoscaling-group-i-0cec3277c4d9d0165-1\\xgboost\\xgboost-ci-windows\\src\\metric\\auc.cc:320: Dataset is empty, or contains only positive or negative samples.\n",
      "  warnings.warn(smsg, UserWarning)\n",
      "\n",
      "C:\\Users\\Luca Visser\\AppData\\Roaming\\Python\\Python310\\site-packages\\xgboost\\sklearn.py:885: UserWarning: `eval_metric` in `fit` method is deprecated for better compatibility with scikit-learn, use `eval_metric` in constructor or`set_params` instead.\n",
      "  warnings.warn(\n",
      "\n",
      "C:\\Users\\Luca Visser\\AppData\\Roaming\\Python\\Python310\\site-packages\\xgboost\\sklearn.py:885: UserWarning: `early_stopping_rounds` in `fit` method is deprecated for better compatibility with scikit-learn, use `early_stopping_rounds` in constructor or`set_params` instead.\n",
      "  warnings.warn(\n",
      "\n",
      "C:\\Users\\Luca Visser\\AppData\\Roaming\\Python\\Python310\\site-packages\\xgboost\\core.py:160: UserWarning: [01:45:38] WARNING: C:\\buildkite-agent\\builds\\buildkite-windows-cpu-autoscaling-group-i-0cec3277c4d9d0165-1\\xgboost\\xgboost-ci-windows\\src\\metric\\auc.cc:320: Dataset is empty, or contains only positive or negative samples.\n",
      "  warnings.warn(smsg, UserWarning)\n",
      "\n"
     ]
    },
    {
     "name": "stdout",
     "output_type": "stream",
     "text": [
      " 48%|████▊     | 48/100 [00:14<00:21,  2.40trial/s, best loss: -0.0]"
     ]
    },
    {
     "name": "stderr",
     "output_type": "stream",
     "text": [
      "C:\\Users\\Luca Visser\\AppData\\Roaming\\Python\\Python310\\site-packages\\xgboost\\sklearn.py:885: UserWarning: `eval_metric` in `fit` method is deprecated for better compatibility with scikit-learn, use `eval_metric` in constructor or`set_params` instead.\n",
      "  warnings.warn(\n",
      "\n",
      "C:\\Users\\Luca Visser\\AppData\\Roaming\\Python\\Python310\\site-packages\\xgboost\\sklearn.py:885: UserWarning: `early_stopping_rounds` in `fit` method is deprecated for better compatibility with scikit-learn, use `early_stopping_rounds` in constructor or`set_params` instead.\n",
      "  warnings.warn(\n",
      "\n",
      "C:\\Users\\Luca Visser\\AppData\\Roaming\\Python\\Python310\\site-packages\\xgboost\\core.py:160: UserWarning: [01:45:38] WARNING: C:\\buildkite-agent\\builds\\buildkite-windows-cpu-autoscaling-group-i-0cec3277c4d9d0165-1\\xgboost\\xgboost-ci-windows\\src\\metric\\auc.cc:320: Dataset is empty, or contains only positive or negative samples.\n",
      "  warnings.warn(smsg, UserWarning)\n",
      "\n"
     ]
    },
    {
     "name": "stdout",
     "output_type": "stream",
     "text": [
      " 49%|████▉     | 49/100 [00:15<00:19,  2.58trial/s, best loss: -0.0]"
     ]
    },
    {
     "name": "stderr",
     "output_type": "stream",
     "text": [
      "C:\\Users\\Luca Visser\\AppData\\Roaming\\Python\\Python310\\site-packages\\xgboost\\sklearn.py:885: UserWarning: `eval_metric` in `fit` method is deprecated for better compatibility with scikit-learn, use `eval_metric` in constructor or`set_params` instead.\n",
      "  warnings.warn(\n",
      "\n",
      "C:\\Users\\Luca Visser\\AppData\\Roaming\\Python\\Python310\\site-packages\\xgboost\\sklearn.py:885: UserWarning: `early_stopping_rounds` in `fit` method is deprecated for better compatibility with scikit-learn, use `early_stopping_rounds` in constructor or`set_params` instead.\n",
      "  warnings.warn(\n",
      "\n",
      "C:\\Users\\Luca Visser\\AppData\\Roaming\\Python\\Python310\\site-packages\\xgboost\\core.py:160: UserWarning: [01:45:39] WARNING: C:\\buildkite-agent\\builds\\buildkite-windows-cpu-autoscaling-group-i-0cec3277c4d9d0165-1\\xgboost\\xgboost-ci-windows\\src\\metric\\auc.cc:320: Dataset is empty, or contains only positive or negative samples.\n",
      "  warnings.warn(smsg, UserWarning)\n",
      "\n"
     ]
    },
    {
     "name": "stdout",
     "output_type": "stream",
     "text": [
      " 51%|█████     | 51/100 [00:15<00:16,  2.90trial/s, best loss: -0.0]"
     ]
    },
    {
     "name": "stderr",
     "output_type": "stream",
     "text": [
      "C:\\Users\\Luca Visser\\AppData\\Roaming\\Python\\Python310\\site-packages\\xgboost\\sklearn.py:885: UserWarning: `eval_metric` in `fit` method is deprecated for better compatibility with scikit-learn, use `eval_metric` in constructor or`set_params` instead.\n",
      "  warnings.warn(\n",
      "\n",
      "C:\\Users\\Luca Visser\\AppData\\Roaming\\Python\\Python310\\site-packages\\xgboost\\sklearn.py:885: UserWarning: `early_stopping_rounds` in `fit` method is deprecated for better compatibility with scikit-learn, use `early_stopping_rounds` in constructor or`set_params` instead.\n",
      "  warnings.warn(\n",
      "\n",
      "C:\\Users\\Luca Visser\\AppData\\Roaming\\Python\\Python310\\site-packages\\xgboost\\core.py:160: UserWarning: [01:45:39] WARNING: C:\\buildkite-agent\\builds\\buildkite-windows-cpu-autoscaling-group-i-0cec3277c4d9d0165-1\\xgboost\\xgboost-ci-windows\\src\\metric\\auc.cc:320: Dataset is empty, or contains only positive or negative samples.\n",
      "  warnings.warn(smsg, UserWarning)\n",
      "\n"
     ]
    },
    {
     "name": "stdout",
     "output_type": "stream",
     "text": [
      " 52%|█████▏    | 52/100 [00:16<00:14,  3.38trial/s, best loss: -0.0]"
     ]
    },
    {
     "name": "stderr",
     "output_type": "stream",
     "text": [
      "C:\\Users\\Luca Visser\\AppData\\Roaming\\Python\\Python310\\site-packages\\xgboost\\sklearn.py:885: UserWarning: `eval_metric` in `fit` method is deprecated for better compatibility with scikit-learn, use `eval_metric` in constructor or`set_params` instead.\n",
      "  warnings.warn(\n",
      "\n",
      "C:\\Users\\Luca Visser\\AppData\\Roaming\\Python\\Python310\\site-packages\\xgboost\\sklearn.py:885: UserWarning: `early_stopping_rounds` in `fit` method is deprecated for better compatibility with scikit-learn, use `early_stopping_rounds` in constructor or`set_params` instead.\n",
      "  warnings.warn(\n",
      "\n",
      "C:\\Users\\Luca Visser\\AppData\\Roaming\\Python\\Python310\\site-packages\\xgboost\\core.py:160: UserWarning: [01:45:39] WARNING: C:\\buildkite-agent\\builds\\buildkite-windows-cpu-autoscaling-group-i-0cec3277c4d9d0165-1\\xgboost\\xgboost-ci-windows\\src\\metric\\auc.cc:320: Dataset is empty, or contains only positive or negative samples.\n",
      "  warnings.warn(smsg, UserWarning)\n",
      "\n",
      "C:\\Users\\Luca Visser\\AppData\\Roaming\\Python\\Python310\\site-packages\\xgboost\\sklearn.py:885: UserWarning: `eval_metric` in `fit` method is deprecated for better compatibility with scikit-learn, use `eval_metric` in constructor or`set_params` instead.\n",
      "  warnings.warn(\n",
      "\n",
      "C:\\Users\\Luca Visser\\AppData\\Roaming\\Python\\Python310\\site-packages\\xgboost\\sklearn.py:885: UserWarning: `early_stopping_rounds` in `fit` method is deprecated for better compatibility with scikit-learn, use `early_stopping_rounds` in constructor or`set_params` instead.\n",
      "  warnings.warn(\n",
      "\n",
      "C:\\Users\\Luca Visser\\AppData\\Roaming\\Python\\Python310\\site-packages\\xgboost\\core.py:160: UserWarning: [01:45:40] WARNING: C:\\buildkite-agent\\builds\\buildkite-windows-cpu-autoscaling-group-i-0cec3277c4d9d0165-1\\xgboost\\xgboost-ci-windows\\src\\metric\\auc.cc:320: Dataset is empty, or contains only positive or negative samples.\n",
      "  warnings.warn(smsg, UserWarning)\n",
      "\n"
     ]
    },
    {
     "name": "stdout",
     "output_type": "stream",
     "text": [
      " 53%|█████▎    | 53/100 [00:16<00:15,  2.96trial/s, best loss: -0.0]"
     ]
    },
    {
     "name": "stderr",
     "output_type": "stream",
     "text": [
      "C:\\Users\\Luca Visser\\AppData\\Roaming\\Python\\Python310\\site-packages\\xgboost\\sklearn.py:885: UserWarning: `eval_metric` in `fit` method is deprecated for better compatibility with scikit-learn, use `eval_metric` in constructor or`set_params` instead.\n",
      "  warnings.warn(\n",
      "\n",
      "C:\\Users\\Luca Visser\\AppData\\Roaming\\Python\\Python310\\site-packages\\xgboost\\sklearn.py:885: UserWarning: `early_stopping_rounds` in `fit` method is deprecated for better compatibility with scikit-learn, use `early_stopping_rounds` in constructor or`set_params` instead.\n",
      "  warnings.warn(\n",
      "\n",
      "C:\\Users\\Luca Visser\\AppData\\Roaming\\Python\\Python310\\site-packages\\xgboost\\core.py:160: UserWarning: [01:45:40] WARNING: C:\\buildkite-agent\\builds\\buildkite-windows-cpu-autoscaling-group-i-0cec3277c4d9d0165-1\\xgboost\\xgboost-ci-windows\\src\\metric\\auc.cc:320: Dataset is empty, or contains only positive or negative samples.\n",
      "  warnings.warn(smsg, UserWarning)\n",
      "\n"
     ]
    },
    {
     "name": "stdout",
     "output_type": "stream",
     "text": [
      " 55%|█████▌    | 55/100 [00:17<00:15,  2.85trial/s, best loss: -0.0]"
     ]
    },
    {
     "name": "stderr",
     "output_type": "stream",
     "text": [
      "C:\\Users\\Luca Visser\\AppData\\Roaming\\Python\\Python310\\site-packages\\xgboost\\sklearn.py:885: UserWarning: `eval_metric` in `fit` method is deprecated for better compatibility with scikit-learn, use `eval_metric` in constructor or`set_params` instead.\n",
      "  warnings.warn(\n",
      "\n",
      "C:\\Users\\Luca Visser\\AppData\\Roaming\\Python\\Python310\\site-packages\\xgboost\\sklearn.py:885: UserWarning: `early_stopping_rounds` in `fit` method is deprecated for better compatibility with scikit-learn, use `early_stopping_rounds` in constructor or`set_params` instead.\n",
      "  warnings.warn(\n",
      "\n",
      "C:\\Users\\Luca Visser\\AppData\\Roaming\\Python\\Python310\\site-packages\\xgboost\\core.py:160: UserWarning: [01:45:40] WARNING: C:\\buildkite-agent\\builds\\buildkite-windows-cpu-autoscaling-group-i-0cec3277c4d9d0165-1\\xgboost\\xgboost-ci-windows\\src\\metric\\auc.cc:320: Dataset is empty, or contains only positive or negative samples.\n",
      "  warnings.warn(smsg, UserWarning)\n",
      "\n",
      "C:\\Users\\Luca Visser\\AppData\\Roaming\\Python\\Python310\\site-packages\\xgboost\\core.py:160: UserWarning: [01:45:41] WARNING: C:\\buildkite-agent\\builds\\buildkite-windows-cpu-autoscaling-group-i-0cec3277c4d9d0165-1\\xgboost\\xgboost-ci-windows\\src\\metric\\auc.cc:320: Dataset is empty, or contains only positive or negative samples.\n",
      "  warnings.warn(smsg, UserWarning)\n",
      "\n"
     ]
    },
    {
     "name": "stdout",
     "output_type": "stream",
     "text": [
      " 56%|█████▌    | 56/100 [00:17<00:13,  3.21trial/s, best loss: -0.0]"
     ]
    },
    {
     "name": "stderr",
     "output_type": "stream",
     "text": [
      "C:\\Users\\Luca Visser\\AppData\\Roaming\\Python\\Python310\\site-packages\\xgboost\\sklearn.py:885: UserWarning: `eval_metric` in `fit` method is deprecated for better compatibility with scikit-learn, use `eval_metric` in constructor or`set_params` instead.\n",
      "  warnings.warn(\n",
      "\n",
      "C:\\Users\\Luca Visser\\AppData\\Roaming\\Python\\Python310\\site-packages\\xgboost\\sklearn.py:885: UserWarning: `early_stopping_rounds` in `fit` method is deprecated for better compatibility with scikit-learn, use `early_stopping_rounds` in constructor or`set_params` instead.\n",
      "  warnings.warn(\n",
      "\n",
      "C:\\Users\\Luca Visser\\AppData\\Roaming\\Python\\Python310\\site-packages\\xgboost\\core.py:160: UserWarning: [01:45:41] WARNING: C:\\buildkite-agent\\builds\\buildkite-windows-cpu-autoscaling-group-i-0cec3277c4d9d0165-1\\xgboost\\xgboost-ci-windows\\src\\metric\\auc.cc:320: Dataset is empty, or contains only positive or negative samples.\n",
      "  warnings.warn(smsg, UserWarning)\n",
      "\n"
     ]
    },
    {
     "name": "stdout",
     "output_type": "stream",
     "text": [
      " 57%|█████▋    | 57/100 [00:17<00:12,  3.56trial/s, best loss: -0.0]"
     ]
    },
    {
     "name": "stderr",
     "output_type": "stream",
     "text": [
      "C:\\Users\\Luca Visser\\AppData\\Roaming\\Python\\Python310\\site-packages\\xgboost\\sklearn.py:885: UserWarning: `eval_metric` in `fit` method is deprecated for better compatibility with scikit-learn, use `eval_metric` in constructor or`set_params` instead.\n",
      "  warnings.warn(\n",
      "\n",
      "C:\\Users\\Luca Visser\\AppData\\Roaming\\Python\\Python310\\site-packages\\xgboost\\sklearn.py:885: UserWarning: `early_stopping_rounds` in `fit` method is deprecated for better compatibility with scikit-learn, use `early_stopping_rounds` in constructor or`set_params` instead.\n",
      "  warnings.warn(\n",
      "\n",
      "C:\\Users\\Luca Visser\\AppData\\Roaming\\Python\\Python310\\site-packages\\xgboost\\core.py:160: UserWarning: [01:45:41] WARNING: C:\\buildkite-agent\\builds\\buildkite-windows-cpu-autoscaling-group-i-0cec3277c4d9d0165-1\\xgboost\\xgboost-ci-windows\\src\\metric\\auc.cc:320: Dataset is empty, or contains only positive or negative samples.\n",
      "  warnings.warn(smsg, UserWarning)\n",
      "\n"
     ]
    },
    {
     "name": "stdout",
     "output_type": "stream",
     "text": [
      " 58%|█████▊    | 58/100 [00:17<00:10,  3.92trial/s, best loss: -0.0]"
     ]
    },
    {
     "name": "stderr",
     "output_type": "stream",
     "text": [
      "C:\\Users\\Luca Visser\\AppData\\Roaming\\Python\\Python310\\site-packages\\xgboost\\sklearn.py:885: UserWarning: `eval_metric` in `fit` method is deprecated for better compatibility with scikit-learn, use `eval_metric` in constructor or`set_params` instead.\n",
      "  warnings.warn(\n",
      "\n",
      "C:\\Users\\Luca Visser\\AppData\\Roaming\\Python\\Python310\\site-packages\\xgboost\\sklearn.py:885: UserWarning: `early_stopping_rounds` in `fit` method is deprecated for better compatibility with scikit-learn, use `early_stopping_rounds` in constructor or`set_params` instead.\n",
      "  warnings.warn(\n",
      "\n",
      "C:\\Users\\Luca Visser\\AppData\\Roaming\\Python\\Python310\\site-packages\\xgboost\\core.py:160: UserWarning: [01:45:41] WARNING: C:\\buildkite-agent\\builds\\buildkite-windows-cpu-autoscaling-group-i-0cec3277c4d9d0165-1\\xgboost\\xgboost-ci-windows\\src\\metric\\auc.cc:320: Dataset is empty, or contains only positive or negative samples.\n",
      "  warnings.warn(smsg, UserWarning)\n",
      "\n",
      "C:\\Users\\Luca Visser\\AppData\\Roaming\\Python\\Python310\\site-packages\\xgboost\\sklearn.py:885: UserWarning: `eval_metric` in `fit` method is deprecated for better compatibility with scikit-learn, use `eval_metric` in constructor or`set_params` instead.\n",
      "  warnings.warn(\n",
      "\n",
      "C:\\Users\\Luca Visser\\AppData\\Roaming\\Python\\Python310\\site-packages\\xgboost\\sklearn.py:885: UserWarning: `early_stopping_rounds` in `fit` method is deprecated for better compatibility with scikit-learn, use `early_stopping_rounds` in constructor or`set_params` instead.\n",
      "  warnings.warn(\n",
      "\n",
      "C:\\Users\\Luca Visser\\AppData\\Roaming\\Python\\Python310\\site-packages\\xgboost\\core.py:160: UserWarning: [01:45:41] WARNING: C:\\buildkite-agent\\builds\\buildkite-windows-cpu-autoscaling-group-i-0cec3277c4d9d0165-1\\xgboost\\xgboost-ci-windows\\src\\metric\\auc.cc:320: Dataset is empty, or contains only positive or negative samples.\n",
      "  warnings.warn(smsg, UserWarning)\n",
      "\n",
      "C:\\Users\\Luca Visser\\AppData\\Roaming\\Python\\Python310\\site-packages\\xgboost\\core.py:160: UserWarning: [01:45:42] WARNING: C:\\buildkite-agent\\builds\\buildkite-windows-cpu-autoscaling-group-i-0cec3277c4d9d0165-1\\xgboost\\xgboost-ci-windows\\src\\metric\\auc.cc:320: Dataset is empty, or contains only positive or negative samples.\n",
      "  warnings.warn(smsg, UserWarning)\n",
      "\n"
     ]
    },
    {
     "name": "stdout",
     "output_type": "stream",
     "text": [
      " 59%|█████▉    | 59/100 [00:18<00:14,  2.76trial/s, best loss: -0.0]"
     ]
    },
    {
     "name": "stderr",
     "output_type": "stream",
     "text": [
      "C:\\Users\\Luca Visser\\AppData\\Roaming\\Python\\Python310\\site-packages\\xgboost\\sklearn.py:885: UserWarning: `eval_metric` in `fit` method is deprecated for better compatibility with scikit-learn, use `eval_metric` in constructor or`set_params` instead.\n",
      "  warnings.warn(\n",
      "\n",
      "C:\\Users\\Luca Visser\\AppData\\Roaming\\Python\\Python310\\site-packages\\xgboost\\sklearn.py:885: UserWarning: `early_stopping_rounds` in `fit` method is deprecated for better compatibility with scikit-learn, use `early_stopping_rounds` in constructor or`set_params` instead.\n",
      "  warnings.warn(\n",
      "\n",
      "C:\\Users\\Luca Visser\\AppData\\Roaming\\Python\\Python310\\site-packages\\xgboost\\core.py:160: UserWarning: [01:45:42] WARNING: C:\\buildkite-agent\\builds\\buildkite-windows-cpu-autoscaling-group-i-0cec3277c4d9d0165-1\\xgboost\\xgboost-ci-windows\\src\\metric\\auc.cc:320: Dataset is empty, or contains only positive or negative samples.\n",
      "  warnings.warn(smsg, UserWarning)\n",
      "\n"
     ]
    },
    {
     "name": "stdout",
     "output_type": "stream",
     "text": [
      " 61%|██████    | 61/100 [00:19<00:12,  3.01trial/s, best loss: -0.0]"
     ]
    },
    {
     "name": "stderr",
     "output_type": "stream",
     "text": [
      "C:\\Users\\Luca Visser\\AppData\\Roaming\\Python\\Python310\\site-packages\\xgboost\\sklearn.py:885: UserWarning: `eval_metric` in `fit` method is deprecated for better compatibility with scikit-learn, use `eval_metric` in constructor or`set_params` instead.\n",
      "  warnings.warn(\n",
      "\n",
      "C:\\Users\\Luca Visser\\AppData\\Roaming\\Python\\Python310\\site-packages\\xgboost\\sklearn.py:885: UserWarning: `early_stopping_rounds` in `fit` method is deprecated for better compatibility with scikit-learn, use `early_stopping_rounds` in constructor or`set_params` instead.\n",
      "  warnings.warn(\n",
      "\n",
      "C:\\Users\\Luca Visser\\AppData\\Roaming\\Python\\Python310\\site-packages\\xgboost\\core.py:160: UserWarning: [01:45:42] WARNING: C:\\buildkite-agent\\builds\\buildkite-windows-cpu-autoscaling-group-i-0cec3277c4d9d0165-1\\xgboost\\xgboost-ci-windows\\src\\metric\\auc.cc:320: Dataset is empty, or contains only positive or negative samples.\n",
      "  warnings.warn(smsg, UserWarning)\n",
      "\n"
     ]
    },
    {
     "name": "stdout",
     "output_type": "stream",
     "text": [
      " 62%|██████▏   | 62/100 [00:19<00:12,  3.16trial/s, best loss: -0.0]"
     ]
    },
    {
     "name": "stderr",
     "output_type": "stream",
     "text": [
      "C:\\Users\\Luca Visser\\AppData\\Roaming\\Python\\Python310\\site-packages\\xgboost\\sklearn.py:885: UserWarning: `eval_metric` in `fit` method is deprecated for better compatibility with scikit-learn, use `eval_metric` in constructor or`set_params` instead.\n",
      "  warnings.warn(\n",
      "\n",
      "C:\\Users\\Luca Visser\\AppData\\Roaming\\Python\\Python310\\site-packages\\xgboost\\sklearn.py:885: UserWarning: `early_stopping_rounds` in `fit` method is deprecated for better compatibility with scikit-learn, use `early_stopping_rounds` in constructor or`set_params` instead.\n",
      "  warnings.warn(\n",
      "\n",
      "C:\\Users\\Luca Visser\\AppData\\Roaming\\Python\\Python310\\site-packages\\xgboost\\core.py:160: UserWarning: [01:45:43] WARNING: C:\\buildkite-agent\\builds\\buildkite-windows-cpu-autoscaling-group-i-0cec3277c4d9d0165-1\\xgboost\\xgboost-ci-windows\\src\\metric\\auc.cc:320: Dataset is empty, or contains only positive or negative samples.\n",
      "  warnings.warn(smsg, UserWarning)\n",
      "\n"
     ]
    },
    {
     "name": "stdout",
     "output_type": "stream",
     "text": [
      " 63%|██████▎   | 63/100 [00:19<00:10,  3.58trial/s, best loss: -0.0]"
     ]
    },
    {
     "name": "stderr",
     "output_type": "stream",
     "text": [
      "C:\\Users\\Luca Visser\\AppData\\Roaming\\Python\\Python310\\site-packages\\xgboost\\sklearn.py:885: UserWarning: `eval_metric` in `fit` method is deprecated for better compatibility with scikit-learn, use `eval_metric` in constructor or`set_params` instead.\n",
      "  warnings.warn(\n",
      "\n",
      "C:\\Users\\Luca Visser\\AppData\\Roaming\\Python\\Python310\\site-packages\\xgboost\\sklearn.py:885: UserWarning: `early_stopping_rounds` in `fit` method is deprecated for better compatibility with scikit-learn, use `early_stopping_rounds` in constructor or`set_params` instead.\n",
      "  warnings.warn(\n",
      "\n",
      "C:\\Users\\Luca Visser\\AppData\\Roaming\\Python\\Python310\\site-packages\\xgboost\\core.py:160: UserWarning: [01:45:43] WARNING: C:\\buildkite-agent\\builds\\buildkite-windows-cpu-autoscaling-group-i-0cec3277c4d9d0165-1\\xgboost\\xgboost-ci-windows\\src\\metric\\auc.cc:320: Dataset is empty, or contains only positive or negative samples.\n",
      "  warnings.warn(smsg, UserWarning)\n",
      "\n",
      "C:\\Users\\Luca Visser\\AppData\\Roaming\\Python\\Python310\\site-packages\\xgboost\\sklearn.py:885: UserWarning: `eval_metric` in `fit` method is deprecated for better compatibility with scikit-learn, use `eval_metric` in constructor or`set_params` instead.\n",
      "  warnings.warn(\n"
     ]
    },
    {
     "name": "stdout",
     "output_type": "stream",
     "text": [
      " 64%|██████▍   | 64/100 [00:19<00:09,  3.97trial/s, best loss: -0.0]"
     ]
    },
    {
     "name": "stderr",
     "output_type": "stream",
     "text": [
      "\n",
      "C:\\Users\\Luca Visser\\AppData\\Roaming\\Python\\Python310\\site-packages\\xgboost\\sklearn.py:885: UserWarning: `early_stopping_rounds` in `fit` method is deprecated for better compatibility with scikit-learn, use `early_stopping_rounds` in constructor or`set_params` instead.\n",
      "  warnings.warn(\n",
      "\n",
      "C:\\Users\\Luca Visser\\AppData\\Roaming\\Python\\Python310\\site-packages\\xgboost\\core.py:160: UserWarning: [01:45:43] WARNING: C:\\buildkite-agent\\builds\\buildkite-windows-cpu-autoscaling-group-i-0cec3277c4d9d0165-1\\xgboost\\xgboost-ci-windows\\src\\metric\\auc.cc:320: Dataset is empty, or contains only positive or negative samples.\n",
      "  warnings.warn(smsg, UserWarning)\n",
      "\n",
      "C:\\Users\\Luca Visser\\AppData\\Roaming\\Python\\Python310\\site-packages\\xgboost\\sklearn.py:885: UserWarning: `eval_metric` in `fit` method is deprecated for better compatibility with scikit-learn, use `eval_metric` in constructor or`set_params` instead.\n",
      "  warnings.warn(\n",
      "\n",
      "C:\\Users\\Luca Visser\\AppData\\Roaming\\Python\\Python310\\site-packages\\xgboost\\sklearn.py:885: UserWarning: `early_stopping_rounds` in `fit` method is deprecated for better compatibility with scikit-learn, use `early_stopping_rounds` in constructor or`set_params` instead.\n",
      "  warnings.warn(\n",
      "\n",
      "C:\\Users\\Luca Visser\\AppData\\Roaming\\Python\\Python310\\site-packages\\xgboost\\core.py:160: UserWarning: [01:45:43] WARNING: C:\\buildkite-agent\\builds\\buildkite-windows-cpu-autoscaling-group-i-0cec3277c4d9d0165-1\\xgboost\\xgboost-ci-windows\\src\\metric\\auc.cc:320: Dataset is empty, or contains only positive or negative samples.\n",
      "  warnings.warn(smsg, UserWarning)\n",
      "\n"
     ]
    },
    {
     "name": "stdout",
     "output_type": "stream",
     "text": [
      " 65%|██████▌   | 65/100 [00:20<00:11,  3.07trial/s, best loss: -0.0]"
     ]
    },
    {
     "name": "stderr",
     "output_type": "stream",
     "text": [
      "C:\\Users\\Luca Visser\\AppData\\Roaming\\Python\\Python310\\site-packages\\xgboost\\core.py:160: UserWarning: [01:45:44] WARNING: C:\\buildkite-agent\\builds\\buildkite-windows-cpu-autoscaling-group-i-0cec3277c4d9d0165-1\\xgboost\\xgboost-ci-windows\\src\\metric\\auc.cc:320: Dataset is empty, or contains only positive or negative samples.\n",
      "  warnings.warn(smsg, UserWarning)\n",
      "\n",
      "C:\\Users\\Luca Visser\\AppData\\Roaming\\Python\\Python310\\site-packages\\xgboost\\sklearn.py:885: UserWarning: `eval_metric` in `fit` method is deprecated for better compatibility with scikit-learn, use `eval_metric` in constructor or`set_params` instead.\n",
      "  warnings.warn(\n",
      "\n",
      "C:\\Users\\Luca Visser\\AppData\\Roaming\\Python\\Python310\\site-packages\\xgboost\\sklearn.py:885: UserWarning: `early_stopping_rounds` in `fit` method is deprecated for better compatibility with scikit-learn, use `early_stopping_rounds` in constructor or`set_params` instead.\n",
      "  warnings.warn(\n",
      "\n",
      "C:\\Users\\Luca Visser\\AppData\\Roaming\\Python\\Python310\\site-packages\\xgboost\\core.py:160: UserWarning: [01:45:44] WARNING: C:\\buildkite-agent\\builds\\buildkite-windows-cpu-autoscaling-group-i-0cec3277c4d9d0165-1\\xgboost\\xgboost-ci-windows\\src\\metric\\auc.cc:320: Dataset is empty, or contains only positive or negative samples.\n",
      "  warnings.warn(smsg, UserWarning)\n",
      "\n"
     ]
    },
    {
     "name": "stdout",
     "output_type": "stream",
     "text": [
      " 66%|██████▌   | 66/100 [00:21<00:15,  2.16trial/s, best loss: -0.0]"
     ]
    },
    {
     "name": "stderr",
     "output_type": "stream",
     "text": [
      "C:\\Users\\Luca Visser\\AppData\\Roaming\\Python\\Python310\\site-packages\\xgboost\\sklearn.py:885: UserWarning: `eval_metric` in `fit` method is deprecated for better compatibility with scikit-learn, use `eval_metric` in constructor or`set_params` instead.\n",
      "  warnings.warn(\n",
      "\n",
      "C:\\Users\\Luca Visser\\AppData\\Roaming\\Python\\Python310\\site-packages\\xgboost\\sklearn.py:885: UserWarning: `early_stopping_rounds` in `fit` method is deprecated for better compatibility with scikit-learn, use `early_stopping_rounds` in constructor or`set_params` instead.\n",
      "  warnings.warn(\n",
      "\n",
      "C:\\Users\\Luca Visser\\AppData\\Roaming\\Python\\Python310\\site-packages\\xgboost\\core.py:160: UserWarning: [01:45:45] WARNING: C:\\buildkite-agent\\builds\\buildkite-windows-cpu-autoscaling-group-i-0cec3277c4d9d0165-1\\xgboost\\xgboost-ci-windows\\src\\metric\\auc.cc:320: Dataset is empty, or contains only positive or negative samples.\n",
      "  warnings.warn(smsg, UserWarning)\n",
      "\n"
     ]
    },
    {
     "name": "stdout",
     "output_type": "stream",
     "text": [
      " 67%|██████▋   | 67/100 [00:21<00:15,  2.15trial/s, best loss: -0.0]"
     ]
    },
    {
     "name": "stderr",
     "output_type": "stream",
     "text": [
      "C:\\Users\\Luca Visser\\AppData\\Roaming\\Python\\Python310\\site-packages\\xgboost\\sklearn.py:885: UserWarning: `eval_metric` in `fit` method is deprecated for better compatibility with scikit-learn, use `eval_metric` in constructor or`set_params` instead.\n",
      "  warnings.warn(\n",
      "\n",
      "C:\\Users\\Luca Visser\\AppData\\Roaming\\Python\\Python310\\site-packages\\xgboost\\sklearn.py:885: UserWarning: `early_stopping_rounds` in `fit` method is deprecated for better compatibility with scikit-learn, use `early_stopping_rounds` in constructor or`set_params` instead.\n",
      "  warnings.warn(\n",
      "\n",
      "C:\\Users\\Luca Visser\\AppData\\Roaming\\Python\\Python310\\site-packages\\xgboost\\core.py:160: UserWarning: [01:45:45] WARNING: C:\\buildkite-agent\\builds\\buildkite-windows-cpu-autoscaling-group-i-0cec3277c4d9d0165-1\\xgboost\\xgboost-ci-windows\\src\\metric\\auc.cc:320: Dataset is empty, or contains only positive or negative samples.\n",
      "  warnings.warn(smsg, UserWarning)\n",
      "\n"
     ]
    },
    {
     "name": "stdout",
     "output_type": "stream",
     "text": [
      " 68%|██████▊   | 68/100 [00:22<00:16,  1.97trial/s, best loss: -0.0]"
     ]
    },
    {
     "name": "stderr",
     "output_type": "stream",
     "text": [
      "C:\\Users\\Luca Visser\\AppData\\Roaming\\Python\\Python310\\site-packages\\xgboost\\sklearn.py:885: UserWarning: `eval_metric` in `fit` method is deprecated for better compatibility with scikit-learn, use `eval_metric` in constructor or`set_params` instead.\n",
      "  warnings.warn(\n",
      "\n",
      "C:\\Users\\Luca Visser\\AppData\\Roaming\\Python\\Python310\\site-packages\\xgboost\\sklearn.py:885: UserWarning: `early_stopping_rounds` in `fit` method is deprecated for better compatibility with scikit-learn, use `early_stopping_rounds` in constructor or`set_params` instead.\n",
      "  warnings.warn(\n",
      "\n",
      "C:\\Users\\Luca Visser\\AppData\\Roaming\\Python\\Python310\\site-packages\\xgboost\\core.py:160: UserWarning: [01:45:46] WARNING: C:\\buildkite-agent\\builds\\buildkite-windows-cpu-autoscaling-group-i-0cec3277c4d9d0165-1\\xgboost\\xgboost-ci-windows\\src\\metric\\auc.cc:320: Dataset is empty, or contains only positive or negative samples.\n",
      "  warnings.warn(smsg, UserWarning)\n",
      "\n"
     ]
    },
    {
     "name": "stdout",
     "output_type": "stream",
     "text": [
      " 69%|██████▉   | 69/100 [00:22<00:16,  1.90trial/s, best loss: -0.0]"
     ]
    },
    {
     "name": "stderr",
     "output_type": "stream",
     "text": [
      "C:\\Users\\Luca Visser\\AppData\\Roaming\\Python\\Python310\\site-packages\\xgboost\\sklearn.py:885: UserWarning: `eval_metric` in `fit` method is deprecated for better compatibility with scikit-learn, use `eval_metric` in constructor or`set_params` instead.\n",
      "  warnings.warn(\n",
      "\n",
      "C:\\Users\\Luca Visser\\AppData\\Roaming\\Python\\Python310\\site-packages\\xgboost\\sklearn.py:885: UserWarning: `early_stopping_rounds` in `fit` method is deprecated for better compatibility with scikit-learn, use `early_stopping_rounds` in constructor or`set_params` instead.\n",
      "  warnings.warn(\n",
      "\n",
      "C:\\Users\\Luca Visser\\AppData\\Roaming\\Python\\Python310\\site-packages\\xgboost\\core.py:160: UserWarning: [01:45:46] WARNING: C:\\buildkite-agent\\builds\\buildkite-windows-cpu-autoscaling-group-i-0cec3277c4d9d0165-1\\xgboost\\xgboost-ci-windows\\src\\metric\\auc.cc:320: Dataset is empty, or contains only positive or negative samples.\n",
      "  warnings.warn(smsg, UserWarning)\n",
      "\n"
     ]
    },
    {
     "name": "stdout",
     "output_type": "stream",
     "text": [
      " 70%|███████   | 70/100 [00:23<00:15,  2.00trial/s, best loss: -0.0]"
     ]
    },
    {
     "name": "stderr",
     "output_type": "stream",
     "text": [
      "C:\\Users\\Luca Visser\\AppData\\Roaming\\Python\\Python310\\site-packages\\xgboost\\sklearn.py:885: UserWarning: `eval_metric` in `fit` method is deprecated for better compatibility with scikit-learn, use `eval_metric` in constructor or`set_params` instead.\n",
      "  warnings.warn(\n",
      "\n",
      "C:\\Users\\Luca Visser\\AppData\\Roaming\\Python\\Python310\\site-packages\\xgboost\\sklearn.py:885: UserWarning: `early_stopping_rounds` in `fit` method is deprecated for better compatibility with scikit-learn, use `early_stopping_rounds` in constructor or`set_params` instead.\n",
      "  warnings.warn(\n",
      "\n",
      "C:\\Users\\Luca Visser\\AppData\\Roaming\\Python\\Python310\\site-packages\\xgboost\\core.py:160: UserWarning: [01:45:47] WARNING: C:\\buildkite-agent\\builds\\buildkite-windows-cpu-autoscaling-group-i-0cec3277c4d9d0165-1\\xgboost\\xgboost-ci-windows\\src\\metric\\auc.cc:320: Dataset is empty, or contains only positive or negative samples.\n",
      "  warnings.warn(smsg, UserWarning)\n",
      "\n"
     ]
    },
    {
     "name": "stdout",
     "output_type": "stream",
     "text": [
      " 72%|███████▏  | 72/100 [00:23<00:12,  2.31trial/s, best loss: -0.0]"
     ]
    },
    {
     "name": "stderr",
     "output_type": "stream",
     "text": [
      "C:\\Users\\Luca Visser\\AppData\\Roaming\\Python\\Python310\\site-packages\\xgboost\\sklearn.py:885: UserWarning: `eval_metric` in `fit` method is deprecated for better compatibility with scikit-learn, use `eval_metric` in constructor or`set_params` instead.\n",
      "  warnings.warn(\n",
      "\n",
      "C:\\Users\\Luca Visser\\AppData\\Roaming\\Python\\Python310\\site-packages\\xgboost\\sklearn.py:885: UserWarning: `early_stopping_rounds` in `fit` method is deprecated for better compatibility with scikit-learn, use `early_stopping_rounds` in constructor or`set_params` instead.\n",
      "  warnings.warn(\n",
      "\n",
      "C:\\Users\\Luca Visser\\AppData\\Roaming\\Python\\Python310\\site-packages\\xgboost\\core.py:160: UserWarning: [01:45:47] WARNING: C:\\buildkite-agent\\builds\\buildkite-windows-cpu-autoscaling-group-i-0cec3277c4d9d0165-1\\xgboost\\xgboost-ci-windows\\src\\metric\\auc.cc:320: Dataset is empty, or contains only positive or negative samples.\n",
      "  warnings.warn(smsg, UserWarning)\n",
      "\n"
     ]
    },
    {
     "name": "stdout",
     "output_type": "stream",
     "text": [
      " 73%|███████▎  | 73/100 [00:24<00:10,  2.47trial/s, best loss: -0.0]"
     ]
    },
    {
     "name": "stderr",
     "output_type": "stream",
     "text": [
      "C:\\Users\\Luca Visser\\AppData\\Roaming\\Python\\Python310\\site-packages\\xgboost\\sklearn.py:885: UserWarning: `eval_metric` in `fit` method is deprecated for better compatibility with scikit-learn, use `eval_metric` in constructor or`set_params` instead.\n",
      "  warnings.warn(\n",
      "\n",
      "C:\\Users\\Luca Visser\\AppData\\Roaming\\Python\\Python310\\site-packages\\xgboost\\sklearn.py:885: UserWarning: `early_stopping_rounds` in `fit` method is deprecated for better compatibility with scikit-learn, use `early_stopping_rounds` in constructor or`set_params` instead.\n",
      "  warnings.warn(\n",
      "\n",
      "C:\\Users\\Luca Visser\\AppData\\Roaming\\Python\\Python310\\site-packages\\xgboost\\core.py:160: UserWarning: [01:45:47] WARNING: C:\\buildkite-agent\\builds\\buildkite-windows-cpu-autoscaling-group-i-0cec3277c4d9d0165-1\\xgboost\\xgboost-ci-windows\\src\\metric\\auc.cc:320: Dataset is empty, or contains only positive or negative samples.\n",
      "  warnings.warn(smsg, UserWarning)\n",
      "\n",
      "C:\\Users\\Luca Visser\\AppData\\Roaming\\Python\\Python310\\site-packages\\xgboost\\core.py:160: UserWarning: [01:45:48] WARNING: C:\\buildkite-agent\\builds\\buildkite-windows-cpu-autoscaling-group-i-0cec3277c4d9d0165-1\\xgboost\\xgboost-ci-windows\\src\\metric\\auc.cc:320: Dataset is empty, or contains only positive or negative samples.\n",
      "  warnings.warn(smsg, UserWarning)\n",
      "\n"
     ]
    },
    {
     "name": "stdout",
     "output_type": "stream",
     "text": [
      " 74%|███████▍  | 74/100 [00:24<00:09,  2.67trial/s, best loss: -0.0]"
     ]
    },
    {
     "name": "stderr",
     "output_type": "stream",
     "text": [
      "C:\\Users\\Luca Visser\\AppData\\Roaming\\Python\\Python310\\site-packages\\xgboost\\sklearn.py:885: UserWarning: `eval_metric` in `fit` method is deprecated for better compatibility with scikit-learn, use `eval_metric` in constructor or`set_params` instead.\n",
      "  warnings.warn(\n",
      "\n",
      "C:\\Users\\Luca Visser\\AppData\\Roaming\\Python\\Python310\\site-packages\\xgboost\\sklearn.py:885: UserWarning: `early_stopping_rounds` in `fit` method is deprecated for better compatibility with scikit-learn, use `early_stopping_rounds` in constructor or`set_params` instead.\n",
      "  warnings.warn(\n",
      "\n",
      "C:\\Users\\Luca Visser\\AppData\\Roaming\\Python\\Python310\\site-packages\\xgboost\\core.py:160: UserWarning: [01:45:48] WARNING: C:\\buildkite-agent\\builds\\buildkite-windows-cpu-autoscaling-group-i-0cec3277c4d9d0165-1\\xgboost\\xgboost-ci-windows\\src\\metric\\auc.cc:320: Dataset is empty, or contains only positive or negative samples.\n",
      "  warnings.warn(smsg, UserWarning)\n",
      "\n"
     ]
    },
    {
     "name": "stdout",
     "output_type": "stream",
     "text": [
      " 75%|███████▌  | 75/100 [00:24<00:08,  2.91trial/s, best loss: -0.0]"
     ]
    },
    {
     "name": "stderr",
     "output_type": "stream",
     "text": [
      "C:\\Users\\Luca Visser\\AppData\\Roaming\\Python\\Python310\\site-packages\\xgboost\\sklearn.py:885: UserWarning: `eval_metric` in `fit` method is deprecated for better compatibility with scikit-learn, use `eval_metric` in constructor or`set_params` instead.\n",
      "  warnings.warn(\n",
      "\n",
      "C:\\Users\\Luca Visser\\AppData\\Roaming\\Python\\Python310\\site-packages\\xgboost\\sklearn.py:885: UserWarning: `early_stopping_rounds` in `fit` method is deprecated for better compatibility with scikit-learn, use `early_stopping_rounds` in constructor or`set_params` instead.\n",
      "  warnings.warn(\n",
      "\n",
      "C:\\Users\\Luca Visser\\AppData\\Roaming\\Python\\Python310\\site-packages\\xgboost\\core.py:160: UserWarning: [01:45:48] WARNING: C:\\buildkite-agent\\builds\\buildkite-windows-cpu-autoscaling-group-i-0cec3277c4d9d0165-1\\xgboost\\xgboost-ci-windows\\src\\metric\\auc.cc:320: Dataset is empty, or contains only positive or negative samples.\n",
      "  warnings.warn(smsg, UserWarning)\n",
      "\n",
      "C:\\Users\\Luca Visser\\AppData\\Roaming\\Python\\Python310\\site-packages\\xgboost\\sklearn.py:885: UserWarning: `eval_metric` in `fit` method is deprecated for better compatibility with scikit-learn, use `eval_metric` in constructor or`set_params` instead.\n",
      "  warnings.warn(\n",
      "\n",
      "C:\\Users\\Luca Visser\\AppData\\Roaming\\Python\\Python310\\site-packages\\xgboost\\sklearn.py:885: UserWarning: `early_stopping_rounds` in `fit` method is deprecated for better compatibility with scikit-learn, use `early_stopping_rounds` in constructor or`set_params` instead.\n",
      "  warnings.warn(\n",
      "\n",
      "C:\\Users\\Luca Visser\\AppData\\Roaming\\Python\\Python310\\site-packages\\xgboost\\core.py:160: UserWarning: [01:45:48] WARNING: C:\\buildkite-agent\\builds\\buildkite-windows-cpu-autoscaling-group-i-0cec3277c4d9d0165-1\\xgboost\\xgboost-ci-windows\\src\\metric\\auc.cc:320: Dataset is empty, or contains only positive or negative samples.\n",
      "  warnings.warn(smsg, UserWarning)\n",
      "\n",
      "C:\\Users\\Luca Visser\\AppData\\Roaming\\Python\\Python310\\site-packages\\xgboost\\core.py:160: UserWarning: [01:45:49] WARNING: C:\\buildkite-agent\\builds\\buildkite-windows-cpu-autoscaling-group-i-0cec3277c4d9d0165-1\\xgboost\\xgboost-ci-windows\\src\\metric\\auc.cc:320: Dataset is empty, or contains only positive or negative samples.\n",
      "  warnings.warn(smsg, UserWarning)\n",
      "\n"
     ]
    },
    {
     "name": "stdout",
     "output_type": "stream",
     "text": [
      " 76%|███████▌  | 76/100 [00:25<00:11,  2.12trial/s, best loss: -0.0]"
     ]
    },
    {
     "name": "stderr",
     "output_type": "stream",
     "text": [
      "C:\\Users\\Luca Visser\\AppData\\Roaming\\Python\\Python310\\site-packages\\xgboost\\sklearn.py:885: UserWarning: `eval_metric` in `fit` method is deprecated for better compatibility with scikit-learn, use `eval_metric` in constructor or`set_params` instead.\n",
      "  warnings.warn(\n",
      "\n",
      "C:\\Users\\Luca Visser\\AppData\\Roaming\\Python\\Python310\\site-packages\\xgboost\\sklearn.py:885: UserWarning: `early_stopping_rounds` in `fit` method is deprecated for better compatibility with scikit-learn, use `early_stopping_rounds` in constructor or`set_params` instead.\n",
      "  warnings.warn(\n",
      "\n",
      "C:\\Users\\Luca Visser\\AppData\\Roaming\\Python\\Python310\\site-packages\\xgboost\\core.py:160: UserWarning: [01:45:49] WARNING: C:\\buildkite-agent\\builds\\buildkite-windows-cpu-autoscaling-group-i-0cec3277c4d9d0165-1\\xgboost\\xgboost-ci-windows\\src\\metric\\auc.cc:320: Dataset is empty, or contains only positive or negative samples.\n",
      "  warnings.warn(smsg, UserWarning)\n",
      "\n"
     ]
    },
    {
     "name": "stdout",
     "output_type": "stream",
     "text": [
      " 77%|███████▋  | 77/100 [00:26<00:11,  1.97trial/s, best loss: -0.0]"
     ]
    },
    {
     "name": "stderr",
     "output_type": "stream",
     "text": [
      "C:\\Users\\Luca Visser\\AppData\\Roaming\\Python\\Python310\\site-packages\\xgboost\\sklearn.py:885: UserWarning: `eval_metric` in `fit` method is deprecated for better compatibility with scikit-learn, use `eval_metric` in constructor or`set_params` instead.\n",
      "  warnings.warn(\n",
      "\n",
      "C:\\Users\\Luca Visser\\AppData\\Roaming\\Python\\Python310\\site-packages\\xgboost\\sklearn.py:885: UserWarning: `early_stopping_rounds` in `fit` method is deprecated for better compatibility with scikit-learn, use `early_stopping_rounds` in constructor or`set_params` instead.\n",
      "  warnings.warn(\n",
      "\n",
      "C:\\Users\\Luca Visser\\AppData\\Roaming\\Python\\Python310\\site-packages\\xgboost\\core.py:160: UserWarning: [01:45:50] WARNING: C:\\buildkite-agent\\builds\\buildkite-windows-cpu-autoscaling-group-i-0cec3277c4d9d0165-1\\xgboost\\xgboost-ci-windows\\src\\metric\\auc.cc:320: Dataset is empty, or contains only positive or negative samples.\n",
      "  warnings.warn(smsg, UserWarning)\n",
      "\n"
     ]
    },
    {
     "name": "stdout",
     "output_type": "stream",
     "text": [
      " 78%|███████▊  | 78/100 [00:27<00:14,  1.57trial/s, best loss: -0.0]"
     ]
    },
    {
     "name": "stderr",
     "output_type": "stream",
     "text": [
      "C:\\Users\\Luca Visser\\AppData\\Roaming\\Python\\Python310\\site-packages\\xgboost\\sklearn.py:885: UserWarning: `eval_metric` in `fit` method is deprecated for better compatibility with scikit-learn, use `eval_metric` in constructor or`set_params` instead.\n",
      "  warnings.warn(\n",
      "\n",
      "C:\\Users\\Luca Visser\\AppData\\Roaming\\Python\\Python310\\site-packages\\xgboost\\sklearn.py:885: UserWarning: `early_stopping_rounds` in `fit` method is deprecated for better compatibility with scikit-learn, use `early_stopping_rounds` in constructor or`set_params` instead.\n",
      "  warnings.warn(\n",
      "\n",
      "C:\\Users\\Luca Visser\\AppData\\Roaming\\Python\\Python310\\site-packages\\xgboost\\core.py:160: UserWarning: [01:45:51] WARNING: C:\\buildkite-agent\\builds\\buildkite-windows-cpu-autoscaling-group-i-0cec3277c4d9d0165-1\\xgboost\\xgboost-ci-windows\\src\\metric\\auc.cc:320: Dataset is empty, or contains only positive or negative samples.\n",
      "  warnings.warn(smsg, UserWarning)\n",
      "\n"
     ]
    },
    {
     "name": "stdout",
     "output_type": "stream",
     "text": [
      " 80%|████████  | 80/100 [00:28<00:10,  1.89trial/s, best loss: -0.0]"
     ]
    },
    {
     "name": "stderr",
     "output_type": "stream",
     "text": [
      "C:\\Users\\Luca Visser\\AppData\\Roaming\\Python\\Python310\\site-packages\\xgboost\\sklearn.py:885: UserWarning: `eval_metric` in `fit` method is deprecated for better compatibility with scikit-learn, use `eval_metric` in constructor or`set_params` instead.\n",
      "  warnings.warn(\n",
      "\n",
      "C:\\Users\\Luca Visser\\AppData\\Roaming\\Python\\Python310\\site-packages\\xgboost\\sklearn.py:885: UserWarning: `early_stopping_rounds` in `fit` method is deprecated for better compatibility with scikit-learn, use `early_stopping_rounds` in constructor or`set_params` instead.\n",
      "  warnings.warn(\n",
      "\n",
      "C:\\Users\\Luca Visser\\AppData\\Roaming\\Python\\Python310\\site-packages\\xgboost\\core.py:160: UserWarning: [01:45:51] WARNING: C:\\buildkite-agent\\builds\\buildkite-windows-cpu-autoscaling-group-i-0cec3277c4d9d0165-1\\xgboost\\xgboost-ci-windows\\src\\metric\\auc.cc:320: Dataset is empty, or contains only positive or negative samples.\n",
      "  warnings.warn(smsg, UserWarning)\n",
      "\n"
     ]
    },
    {
     "name": "stdout",
     "output_type": "stream",
     "text": [
      " 81%|████████  | 81/100 [00:28<00:08,  2.20trial/s, best loss: -0.0]"
     ]
    },
    {
     "name": "stderr",
     "output_type": "stream",
     "text": [
      "C:\\Users\\Luca Visser\\AppData\\Roaming\\Python\\Python310\\site-packages\\xgboost\\sklearn.py:885: UserWarning: `eval_metric` in `fit` method is deprecated for better compatibility with scikit-learn, use `eval_metric` in constructor or`set_params` instead.\n",
      "  warnings.warn(\n",
      "\n",
      "C:\\Users\\Luca Visser\\AppData\\Roaming\\Python\\Python310\\site-packages\\xgboost\\sklearn.py:885: UserWarning: `early_stopping_rounds` in `fit` method is deprecated for better compatibility with scikit-learn, use `early_stopping_rounds` in constructor or`set_params` instead.\n",
      "  warnings.warn(\n",
      "\n",
      "C:\\Users\\Luca Visser\\AppData\\Roaming\\Python\\Python310\\site-packages\\xgboost\\core.py:160: UserWarning: [01:45:52] WARNING: C:\\buildkite-agent\\builds\\buildkite-windows-cpu-autoscaling-group-i-0cec3277c4d9d0165-1\\xgboost\\xgboost-ci-windows\\src\\metric\\auc.cc:320: Dataset is empty, or contains only positive or negative samples.\n",
      "  warnings.warn(smsg, UserWarning)\n",
      "\n"
     ]
    },
    {
     "name": "stdout",
     "output_type": "stream",
     "text": [
      " 82%|████████▏ | 82/100 [00:28<00:07,  2.49trial/s, best loss: -0.0]"
     ]
    },
    {
     "name": "stderr",
     "output_type": "stream",
     "text": [
      "C:\\Users\\Luca Visser\\AppData\\Roaming\\Python\\Python310\\site-packages\\xgboost\\sklearn.py:885: UserWarning: `eval_metric` in `fit` method is deprecated for better compatibility with scikit-learn, use `eval_metric` in constructor or`set_params` instead.\n",
      "  warnings.warn(\n",
      "\n",
      "C:\\Users\\Luca Visser\\AppData\\Roaming\\Python\\Python310\\site-packages\\xgboost\\sklearn.py:885: UserWarning: `early_stopping_rounds` in `fit` method is deprecated for better compatibility with scikit-learn, use `early_stopping_rounds` in constructor or`set_params` instead.\n",
      "  warnings.warn(\n",
      "\n",
      "C:\\Users\\Luca Visser\\AppData\\Roaming\\Python\\Python310\\site-packages\\xgboost\\core.py:160: UserWarning: [01:45:52] WARNING: C:\\buildkite-agent\\builds\\buildkite-windows-cpu-autoscaling-group-i-0cec3277c4d9d0165-1\\xgboost\\xgboost-ci-windows\\src\\metric\\auc.cc:320: Dataset is empty, or contains only positive or negative samples.\n",
      "  warnings.warn(smsg, UserWarning)\n",
      "\n",
      "C:\\Users\\Luca Visser\\AppData\\Roaming\\Python\\Python310\\site-packages\\xgboost\\sklearn.py:885: UserWarning: `eval_metric` in `fit` method is deprecated for better compatibility with scikit-learn, use `eval_metric` in constructor or`set_params` instead.\n",
      "  warnings.warn(\n",
      "\n",
      "C:\\Users\\Luca Visser\\AppData\\Roaming\\Python\\Python310\\site-packages\\xgboost\\sklearn.py:885: UserWarning: `early_stopping_rounds` in `fit` method is deprecated for better compatibility with scikit-learn, use `early_stopping_rounds` in constructor or`set_params` instead.\n",
      "  warnings.warn(\n",
      "\n",
      "C:\\Users\\Luca Visser\\AppData\\Roaming\\Python\\Python310\\site-packages\\xgboost\\core.py:160: UserWarning: [01:45:52] WARNING: C:\\buildkite-agent\\builds\\buildkite-windows-cpu-autoscaling-group-i-0cec3277c4d9d0165-1\\xgboost\\xgboost-ci-windows\\src\\metric\\auc.cc:320: Dataset is empty, or contains only positive or negative samples.\n",
      "  warnings.warn(smsg, UserWarning)\n",
      "\n"
     ]
    },
    {
     "name": "stdout",
     "output_type": "stream",
     "text": [
      " 83%|████████▎ | 83/100 [00:29<00:07,  2.22trial/s, best loss: -0.0]"
     ]
    },
    {
     "name": "stderr",
     "output_type": "stream",
     "text": [
      "C:\\Users\\Luca Visser\\AppData\\Roaming\\Python\\Python310\\site-packages\\xgboost\\sklearn.py:885: UserWarning: `eval_metric` in `fit` method is deprecated for better compatibility with scikit-learn, use `eval_metric` in constructor or`set_params` instead.\n",
      "  warnings.warn(\n",
      "\n",
      "C:\\Users\\Luca Visser\\AppData\\Roaming\\Python\\Python310\\site-packages\\xgboost\\sklearn.py:885: UserWarning: `early_stopping_rounds` in `fit` method is deprecated for better compatibility with scikit-learn, use `early_stopping_rounds` in constructor or`set_params` instead.\n",
      "  warnings.warn(\n",
      "\n",
      "C:\\Users\\Luca Visser\\AppData\\Roaming\\Python\\Python310\\site-packages\\xgboost\\core.py:160: UserWarning: [01:45:53] WARNING: C:\\buildkite-agent\\builds\\buildkite-windows-cpu-autoscaling-group-i-0cec3277c4d9d0165-1\\xgboost\\xgboost-ci-windows\\src\\metric\\auc.cc:320: Dataset is empty, or contains only positive or negative samples.\n",
      "  warnings.warn(smsg, UserWarning)\n",
      "\n"
     ]
    },
    {
     "name": "stdout",
     "output_type": "stream",
     "text": [
      " 84%|████████▍ | 84/100 [00:30<00:09,  1.78trial/s, best loss: -0.0]"
     ]
    },
    {
     "name": "stderr",
     "output_type": "stream",
     "text": [
      "C:\\Users\\Luca Visser\\AppData\\Roaming\\Python\\Python310\\site-packages\\xgboost\\sklearn.py:885: UserWarning: `eval_metric` in `fit` method is deprecated for better compatibility with scikit-learn, use `eval_metric` in constructor or`set_params` instead.\n",
      "  warnings.warn(\n",
      "\n",
      "C:\\Users\\Luca Visser\\AppData\\Roaming\\Python\\Python310\\site-packages\\xgboost\\sklearn.py:885: UserWarning: `early_stopping_rounds` in `fit` method is deprecated for better compatibility with scikit-learn, use `early_stopping_rounds` in constructor or`set_params` instead.\n",
      "  warnings.warn(\n",
      "\n",
      "C:\\Users\\Luca Visser\\AppData\\Roaming\\Python\\Python310\\site-packages\\xgboost\\core.py:160: UserWarning: [01:45:54] WARNING: C:\\buildkite-agent\\builds\\buildkite-windows-cpu-autoscaling-group-i-0cec3277c4d9d0165-1\\xgboost\\xgboost-ci-windows\\src\\metric\\auc.cc:320: Dataset is empty, or contains only positive or negative samples.\n",
      "  warnings.warn(smsg, UserWarning)\n",
      "\n"
     ]
    },
    {
     "name": "stdout",
     "output_type": "stream",
     "text": [
      " 85%|████████▌ | 85/100 [00:30<00:08,  1.82trial/s, best loss: -0.0]"
     ]
    },
    {
     "name": "stderr",
     "output_type": "stream",
     "text": [
      "C:\\Users\\Luca Visser\\AppData\\Roaming\\Python\\Python310\\site-packages\\xgboost\\sklearn.py:885: UserWarning: `eval_metric` in `fit` method is deprecated for better compatibility with scikit-learn, use `eval_metric` in constructor or`set_params` instead.\n",
      "  warnings.warn(\n",
      "\n",
      "C:\\Users\\Luca Visser\\AppData\\Roaming\\Python\\Python310\\site-packages\\xgboost\\sklearn.py:885: UserWarning: `early_stopping_rounds` in `fit` method is deprecated for better compatibility with scikit-learn, use `early_stopping_rounds` in constructor or`set_params` instead.\n",
      "  warnings.warn(\n",
      "\n",
      "C:\\Users\\Luca Visser\\AppData\\Roaming\\Python\\Python310\\site-packages\\xgboost\\core.py:160: UserWarning: [01:45:54] WARNING: C:\\buildkite-agent\\builds\\buildkite-windows-cpu-autoscaling-group-i-0cec3277c4d9d0165-1\\xgboost\\xgboost-ci-windows\\src\\metric\\auc.cc:320: Dataset is empty, or contains only positive or negative samples.\n",
      "  warnings.warn(smsg, UserWarning)\n",
      "\n"
     ]
    },
    {
     "name": "stdout",
     "output_type": "stream",
     "text": [
      " 87%|████████▋ | 87/100 [00:31<00:05,  2.18trial/s, best loss: -0.0]"
     ]
    },
    {
     "name": "stderr",
     "output_type": "stream",
     "text": [
      "C:\\Users\\Luca Visser\\AppData\\Roaming\\Python\\Python310\\site-packages\\xgboost\\sklearn.py:885: UserWarning: `eval_metric` in `fit` method is deprecated for better compatibility with scikit-learn, use `eval_metric` in constructor or`set_params` instead.\n",
      "  warnings.warn(\n",
      "\n",
      "C:\\Users\\Luca Visser\\AppData\\Roaming\\Python\\Python310\\site-packages\\xgboost\\sklearn.py:885: UserWarning: `early_stopping_rounds` in `fit` method is deprecated for better compatibility with scikit-learn, use `early_stopping_rounds` in constructor or`set_params` instead.\n",
      "  warnings.warn(\n",
      "\n",
      "C:\\Users\\Luca Visser\\AppData\\Roaming\\Python\\Python310\\site-packages\\xgboost\\core.py:160: UserWarning: [01:45:54] WARNING: C:\\buildkite-agent\\builds\\buildkite-windows-cpu-autoscaling-group-i-0cec3277c4d9d0165-1\\xgboost\\xgboost-ci-windows\\src\\metric\\auc.cc:320: Dataset is empty, or contains only positive or negative samples.\n",
      "  warnings.warn(smsg, UserWarning)\n",
      "\n",
      "C:\\Users\\Luca Visser\\AppData\\Roaming\\Python\\Python310\\site-packages\\xgboost\\core.py:160: UserWarning: [01:45:55] WARNING: C:\\buildkite-agent\\builds\\buildkite-windows-cpu-autoscaling-group-i-0cec3277c4d9d0165-1\\xgboost\\xgboost-ci-windows\\src\\metric\\auc.cc:320: Dataset is empty, or contains only positive or negative samples.\n",
      "  warnings.warn(smsg, UserWarning)\n",
      "\n"
     ]
    },
    {
     "name": "stdout",
     "output_type": "stream",
     "text": [
      " 88%|████████▊ | 88/100 [00:31<00:04,  2.46trial/s, best loss: -0.0]"
     ]
    },
    {
     "name": "stderr",
     "output_type": "stream",
     "text": [
      "C:\\Users\\Luca Visser\\AppData\\Roaming\\Python\\Python310\\site-packages\\xgboost\\sklearn.py:885: UserWarning: `eval_metric` in `fit` method is deprecated for better compatibility with scikit-learn, use `eval_metric` in constructor or`set_params` instead.\n",
      "  warnings.warn(\n",
      "\n",
      "C:\\Users\\Luca Visser\\AppData\\Roaming\\Python\\Python310\\site-packages\\xgboost\\sklearn.py:885: UserWarning: `early_stopping_rounds` in `fit` method is deprecated for better compatibility with scikit-learn, use `early_stopping_rounds` in constructor or`set_params` instead.\n",
      "  warnings.warn(\n",
      "\n",
      "C:\\Users\\Luca Visser\\AppData\\Roaming\\Python\\Python310\\site-packages\\xgboost\\core.py:160: UserWarning: [01:45:55] WARNING: C:\\buildkite-agent\\builds\\buildkite-windows-cpu-autoscaling-group-i-0cec3277c4d9d0165-1\\xgboost\\xgboost-ci-windows\\src\\metric\\auc.cc:320: Dataset is empty, or contains only positive or negative samples.\n",
      "  warnings.warn(smsg, UserWarning)\n",
      "\n"
     ]
    },
    {
     "name": "stdout",
     "output_type": "stream",
     "text": [
      " 89%|████████▉ | 89/100 [00:31<00:04,  2.72trial/s, best loss: -0.0]"
     ]
    },
    {
     "name": "stderr",
     "output_type": "stream",
     "text": [
      "C:\\Users\\Luca Visser\\AppData\\Roaming\\Python\\Python310\\site-packages\\xgboost\\sklearn.py:885: UserWarning: `eval_metric` in `fit` method is deprecated for better compatibility with scikit-learn, use `eval_metric` in constructor or`set_params` instead.\n",
      "  warnings.warn(\n",
      "\n",
      "C:\\Users\\Luca Visser\\AppData\\Roaming\\Python\\Python310\\site-packages\\xgboost\\sklearn.py:885: UserWarning: `early_stopping_rounds` in `fit` method is deprecated for better compatibility with scikit-learn, use `early_stopping_rounds` in constructor or`set_params` instead.\n",
      "  warnings.warn(\n",
      "\n",
      "C:\\Users\\Luca Visser\\AppData\\Roaming\\Python\\Python310\\site-packages\\xgboost\\core.py:160: UserWarning: [01:45:55] WARNING: C:\\buildkite-agent\\builds\\buildkite-windows-cpu-autoscaling-group-i-0cec3277c4d9d0165-1\\xgboost\\xgboost-ci-windows\\src\\metric\\auc.cc:320: Dataset is empty, or contains only positive or negative samples.\n",
      "  warnings.warn(smsg, UserWarning)\n",
      "\n"
     ]
    },
    {
     "name": "stdout",
     "output_type": "stream",
     "text": [
      " 90%|█████████ | 90/100 [00:32<00:03,  2.97trial/s, best loss: -0.0]"
     ]
    },
    {
     "name": "stderr",
     "output_type": "stream",
     "text": [
      "C:\\Users\\Luca Visser\\AppData\\Roaming\\Python\\Python310\\site-packages\\xgboost\\sklearn.py:885: UserWarning: `eval_metric` in `fit` method is deprecated for better compatibility with scikit-learn, use `eval_metric` in constructor or`set_params` instead.\n",
      "  warnings.warn(\n",
      "\n",
      "C:\\Users\\Luca Visser\\AppData\\Roaming\\Python\\Python310\\site-packages\\xgboost\\sklearn.py:885: UserWarning: `early_stopping_rounds` in `fit` method is deprecated for better compatibility with scikit-learn, use `early_stopping_rounds` in constructor or`set_params` instead.\n",
      "  warnings.warn(\n",
      "\n",
      "C:\\Users\\Luca Visser\\AppData\\Roaming\\Python\\Python310\\site-packages\\xgboost\\core.py:160: UserWarning: [01:45:55] WARNING: C:\\buildkite-agent\\builds\\buildkite-windows-cpu-autoscaling-group-i-0cec3277c4d9d0165-1\\xgboost\\xgboost-ci-windows\\src\\metric\\auc.cc:320: Dataset is empty, or contains only positive or negative samples.\n",
      "  warnings.warn(smsg, UserWarning)\n",
      "\n"
     ]
    },
    {
     "name": "stdout",
     "output_type": "stream",
     "text": [
      " 91%|█████████ | 91/100 [00:32<00:02,  3.05trial/s, best loss: -0.0]"
     ]
    },
    {
     "name": "stderr",
     "output_type": "stream",
     "text": [
      "C:\\Users\\Luca Visser\\AppData\\Roaming\\Python\\Python310\\site-packages\\xgboost\\sklearn.py:885: UserWarning: `eval_metric` in `fit` method is deprecated for better compatibility with scikit-learn, use `eval_metric` in constructor or`set_params` instead.\n",
      "  warnings.warn(\n",
      "\n",
      "C:\\Users\\Luca Visser\\AppData\\Roaming\\Python\\Python310\\site-packages\\xgboost\\sklearn.py:885: UserWarning: `early_stopping_rounds` in `fit` method is deprecated for better compatibility with scikit-learn, use `early_stopping_rounds` in constructor or`set_params` instead.\n",
      "  warnings.warn(\n",
      "\n",
      "C:\\Users\\Luca Visser\\AppData\\Roaming\\Python\\Python310\\site-packages\\xgboost\\core.py:160: UserWarning: [01:45:56] WARNING: C:\\buildkite-agent\\builds\\buildkite-windows-cpu-autoscaling-group-i-0cec3277c4d9d0165-1\\xgboost\\xgboost-ci-windows\\src\\metric\\auc.cc:320: Dataset is empty, or contains only positive or negative samples.\n",
      "  warnings.warn(smsg, UserWarning)\n",
      "\n",
      "C:\\Users\\Luca Visser\\AppData\\Roaming\\Python\\Python310\\site-packages\\xgboost\\sklearn.py:885: UserWarning: `eval_metric` in `fit` method is deprecated for better compatibility with scikit-learn, use `eval_metric` in constructor or`set_params` instead.\n",
      "  warnings.warn(\n",
      "\n",
      "C:\\Users\\Luca Visser\\AppData\\Roaming\\Python\\Python310\\site-packages\\xgboost\\sklearn.py:885: UserWarning: `early_stopping_rounds` in `fit` method is deprecated for better compatibility with scikit-learn, use `early_stopping_rounds` in constructor or`set_params` instead.\n",
      "  warnings.warn(\n",
      "\n",
      "C:\\Users\\Luca Visser\\AppData\\Roaming\\Python\\Python310\\site-packages\\xgboost\\core.py:160: UserWarning: [01:45:56] WARNING: C:\\buildkite-agent\\builds\\buildkite-windows-cpu-autoscaling-group-i-0cec3277c4d9d0165-1\\xgboost\\xgboost-ci-windows\\src\\metric\\auc.cc:320: Dataset is empty, or contains only positive or negative samples.\n",
      "  warnings.warn(smsg, UserWarning)\n",
      "\n"
     ]
    },
    {
     "name": "stdout",
     "output_type": "stream",
     "text": [
      " 92%|█████████▏| 92/100 [00:33<00:03,  2.42trial/s, best loss: -0.0]"
     ]
    },
    {
     "name": "stderr",
     "output_type": "stream",
     "text": [
      "C:\\Users\\Luca Visser\\AppData\\Roaming\\Python\\Python310\\site-packages\\xgboost\\sklearn.py:885: UserWarning: `eval_metric` in `fit` method is deprecated for better compatibility with scikit-learn, use `eval_metric` in constructor or`set_params` instead.\n",
      "  warnings.warn(\n",
      "\n",
      "C:\\Users\\Luca Visser\\AppData\\Roaming\\Python\\Python310\\site-packages\\xgboost\\sklearn.py:885: UserWarning: `early_stopping_rounds` in `fit` method is deprecated for better compatibility with scikit-learn, use `early_stopping_rounds` in constructor or`set_params` instead.\n",
      "  warnings.warn(\n",
      "\n",
      "C:\\Users\\Luca Visser\\AppData\\Roaming\\Python\\Python310\\site-packages\\xgboost\\core.py:160: UserWarning: [01:45:57] WARNING: C:\\buildkite-agent\\builds\\buildkite-windows-cpu-autoscaling-group-i-0cec3277c4d9d0165-1\\xgboost\\xgboost-ci-windows\\src\\metric\\auc.cc:320: Dataset is empty, or contains only positive or negative samples.\n",
      "  warnings.warn(smsg, UserWarning)\n",
      "\n"
     ]
    },
    {
     "name": "stdout",
     "output_type": "stream",
     "text": [
      " 93%|█████████▎| 93/100 [00:33<00:03,  2.15trial/s, best loss: -0.0]"
     ]
    },
    {
     "name": "stderr",
     "output_type": "stream",
     "text": [
      "C:\\Users\\Luca Visser\\AppData\\Roaming\\Python\\Python310\\site-packages\\xgboost\\sklearn.py:885: UserWarning: `eval_metric` in `fit` method is deprecated for better compatibility with scikit-learn, use `eval_metric` in constructor or`set_params` instead.\n",
      "  warnings.warn(\n",
      "\n",
      "C:\\Users\\Luca Visser\\AppData\\Roaming\\Python\\Python310\\site-packages\\xgboost\\sklearn.py:885: UserWarning: `early_stopping_rounds` in `fit` method is deprecated for better compatibility with scikit-learn, use `early_stopping_rounds` in constructor or`set_params` instead.\n",
      "  warnings.warn(\n",
      "\n",
      "C:\\Users\\Luca Visser\\AppData\\Roaming\\Python\\Python310\\site-packages\\xgboost\\core.py:160: UserWarning: [01:45:57] WARNING: C:\\buildkite-agent\\builds\\buildkite-windows-cpu-autoscaling-group-i-0cec3277c4d9d0165-1\\xgboost\\xgboost-ci-windows\\src\\metric\\auc.cc:320: Dataset is empty, or contains only positive or negative samples.\n",
      "  warnings.warn(smsg, UserWarning)\n",
      "\n"
     ]
    },
    {
     "name": "stdout",
     "output_type": "stream",
     "text": [
      " 94%|█████████▍| 94/100 [00:34<00:03,  1.85trial/s, best loss: -0.0]"
     ]
    },
    {
     "name": "stderr",
     "output_type": "stream",
     "text": [
      "C:\\Users\\Luca Visser\\AppData\\Roaming\\Python\\Python310\\site-packages\\xgboost\\core.py:160: UserWarning: [01:45:58] WARNING: C:\\buildkite-agent\\builds\\buildkite-windows-cpu-autoscaling-group-i-0cec3277c4d9d0165-1\\xgboost\\xgboost-ci-windows\\src\\metric\\auc.cc:320: Dataset is empty, or contains only positive or negative samples.\n",
      "  warnings.warn(smsg, UserWarning)\n",
      "\n",
      "C:\\Users\\Luca Visser\\AppData\\Roaming\\Python\\Python310\\site-packages\\xgboost\\sklearn.py:885: UserWarning: `eval_metric` in `fit` method is deprecated for better compatibility with scikit-learn, use `eval_metric` in constructor or`set_params` instead.\n",
      "  warnings.warn(\n",
      "\n",
      "C:\\Users\\Luca Visser\\AppData\\Roaming\\Python\\Python310\\site-packages\\xgboost\\sklearn.py:885: UserWarning: `early_stopping_rounds` in `fit` method is deprecated for better compatibility with scikit-learn, use `early_stopping_rounds` in constructor or`set_params` instead.\n",
      "  warnings.warn(\n",
      "\n",
      "C:\\Users\\Luca Visser\\AppData\\Roaming\\Python\\Python310\\site-packages\\xgboost\\core.py:160: UserWarning: [01:45:58] WARNING: C:\\buildkite-agent\\builds\\buildkite-windows-cpu-autoscaling-group-i-0cec3277c4d9d0165-1\\xgboost\\xgboost-ci-windows\\src\\metric\\auc.cc:320: Dataset is empty, or contains only positive or negative samples.\n",
      "  warnings.warn(smsg, UserWarning)\n",
      "\n"
     ]
    },
    {
     "name": "stdout",
     "output_type": "stream",
     "text": [
      " 95%|█████████▌| 95/100 [00:34<00:02,  1.95trial/s, best loss: -0.0]"
     ]
    },
    {
     "name": "stderr",
     "output_type": "stream",
     "text": [
      "C:\\Users\\Luca Visser\\AppData\\Roaming\\Python\\Python310\\site-packages\\xgboost\\sklearn.py:885: UserWarning: `eval_metric` in `fit` method is deprecated for better compatibility with scikit-learn, use `eval_metric` in constructor or`set_params` instead.\n",
      "  warnings.warn(\n",
      "\n",
      "C:\\Users\\Luca Visser\\AppData\\Roaming\\Python\\Python310\\site-packages\\xgboost\\sklearn.py:885: UserWarning: `early_stopping_rounds` in `fit` method is deprecated for better compatibility with scikit-learn, use `early_stopping_rounds` in constructor or`set_params` instead.\n",
      "  warnings.warn(\n",
      "\n",
      "C:\\Users\\Luca Visser\\AppData\\Roaming\\Python\\Python310\\site-packages\\xgboost\\core.py:160: UserWarning: [01:45:58] WARNING: C:\\buildkite-agent\\builds\\buildkite-windows-cpu-autoscaling-group-i-0cec3277c4d9d0165-1\\xgboost\\xgboost-ci-windows\\src\\metric\\auc.cc:320: Dataset is empty, or contains only positive or negative samples.\n",
      "  warnings.warn(smsg, UserWarning)\n",
      "\n"
     ]
    },
    {
     "name": "stdout",
     "output_type": "stream",
     "text": [
      " 96%|█████████▌| 96/100 [00:35<00:02,  1.95trial/s, best loss: -0.0]"
     ]
    },
    {
     "name": "stderr",
     "output_type": "stream",
     "text": [
      "C:\\Users\\Luca Visser\\AppData\\Roaming\\Python\\Python310\\site-packages\\xgboost\\core.py:160: UserWarning: [01:45:59] WARNING: C:\\buildkite-agent\\builds\\buildkite-windows-cpu-autoscaling-group-i-0cec3277c4d9d0165-1\\xgboost\\xgboost-ci-windows\\src\\metric\\auc.cc:320: Dataset is empty, or contains only positive or negative samples.\n",
      "  warnings.warn(smsg, UserWarning)\n",
      "\n",
      "C:\\Users\\Luca Visser\\AppData\\Roaming\\Python\\Python310\\site-packages\\xgboost\\sklearn.py:885: UserWarning: `eval_metric` in `fit` method is deprecated for better compatibility with scikit-learn, use `eval_metric` in constructor or`set_params` instead.\n",
      "  warnings.warn(\n",
      "\n",
      "C:\\Users\\Luca Visser\\AppData\\Roaming\\Python\\Python310\\site-packages\\xgboost\\sklearn.py:885: UserWarning: `early_stopping_rounds` in `fit` method is deprecated for better compatibility with scikit-learn, use `early_stopping_rounds` in constructor or`set_params` instead.\n",
      "  warnings.warn(\n",
      "\n",
      "C:\\Users\\Luca Visser\\AppData\\Roaming\\Python\\Python310\\site-packages\\xgboost\\core.py:160: UserWarning: [01:45:59] WARNING: C:\\buildkite-agent\\builds\\buildkite-windows-cpu-autoscaling-group-i-0cec3277c4d9d0165-1\\xgboost\\xgboost-ci-windows\\src\\metric\\auc.cc:320: Dataset is empty, or contains only positive or negative samples.\n",
      "  warnings.warn(smsg, UserWarning)\n",
      "\n"
     ]
    },
    {
     "name": "stdout",
     "output_type": "stream",
     "text": [
      " 97%|█████████▋| 97/100 [00:35<00:01,  1.98trial/s, best loss: -0.0]"
     ]
    },
    {
     "name": "stderr",
     "output_type": "stream",
     "text": [
      "C:\\Users\\Luca Visser\\AppData\\Roaming\\Python\\Python310\\site-packages\\xgboost\\sklearn.py:885: UserWarning: `eval_metric` in `fit` method is deprecated for better compatibility with scikit-learn, use `eval_metric` in constructor or`set_params` instead.\n",
      "  warnings.warn(\n",
      "\n",
      "C:\\Users\\Luca Visser\\AppData\\Roaming\\Python\\Python310\\site-packages\\xgboost\\sklearn.py:885: UserWarning: `early_stopping_rounds` in `fit` method is deprecated for better compatibility with scikit-learn, use `early_stopping_rounds` in constructor or`set_params` instead.\n",
      "  warnings.warn(\n",
      "\n",
      "C:\\Users\\Luca Visser\\AppData\\Roaming\\Python\\Python310\\site-packages\\xgboost\\core.py:160: UserWarning: [01:45:59] WARNING: C:\\buildkite-agent\\builds\\buildkite-windows-cpu-autoscaling-group-i-0cec3277c4d9d0165-1\\xgboost\\xgboost-ci-windows\\src\\metric\\auc.cc:320: Dataset is empty, or contains only positive or negative samples.\n",
      "  warnings.warn(smsg, UserWarning)\n",
      "\n"
     ]
    },
    {
     "name": "stdout",
     "output_type": "stream",
     "text": [
      " 98%|█████████▊| 98/100 [00:36<00:01,  1.87trial/s, best loss: -0.0]"
     ]
    },
    {
     "name": "stderr",
     "output_type": "stream",
     "text": [
      "C:\\Users\\Luca Visser\\AppData\\Roaming\\Python\\Python310\\site-packages\\xgboost\\core.py:160: UserWarning: [01:46:00] WARNING: C:\\buildkite-agent\\builds\\buildkite-windows-cpu-autoscaling-group-i-0cec3277c4d9d0165-1\\xgboost\\xgboost-ci-windows\\src\\metric\\auc.cc:320: Dataset is empty, or contains only positive or negative samples.\n",
      "  warnings.warn(smsg, UserWarning)\n",
      "\n",
      "C:\\Users\\Luca Visser\\AppData\\Roaming\\Python\\Python310\\site-packages\\xgboost\\sklearn.py:885: UserWarning: `eval_metric` in `fit` method is deprecated for better compatibility with scikit-learn, use `eval_metric` in constructor or`set_params` instead.\n",
      "  warnings.warn(\n",
      "\n",
      "C:\\Users\\Luca Visser\\AppData\\Roaming\\Python\\Python310\\site-packages\\xgboost\\sklearn.py:885: UserWarning: `early_stopping_rounds` in `fit` method is deprecated for better compatibility with scikit-learn, use `early_stopping_rounds` in constructor or`set_params` instead.\n",
      "  warnings.warn(\n",
      "\n",
      "C:\\Users\\Luca Visser\\AppData\\Roaming\\Python\\Python310\\site-packages\\xgboost\\core.py:160: UserWarning: [01:46:00] WARNING: C:\\buildkite-agent\\builds\\buildkite-windows-cpu-autoscaling-group-i-0cec3277c4d9d0165-1\\xgboost\\xgboost-ci-windows\\src\\metric\\auc.cc:320: Dataset is empty, or contains only positive or negative samples.\n",
      "  warnings.warn(smsg, UserWarning)\n",
      "\n"
     ]
    },
    {
     "name": "stdout",
     "output_type": "stream",
     "text": [
      " 99%|█████████▉| 99/100 [00:36<00:00,  2.06trial/s, best loss: -0.0]"
     ]
    },
    {
     "name": "stderr",
     "output_type": "stream",
     "text": [
      "C:\\Users\\Luca Visser\\AppData\\Roaming\\Python\\Python310\\site-packages\\xgboost\\sklearn.py:885: UserWarning: `eval_metric` in `fit` method is deprecated for better compatibility with scikit-learn, use `eval_metric` in constructor or`set_params` instead.\n",
      "  warnings.warn(\n",
      "\n",
      "C:\\Users\\Luca Visser\\AppData\\Roaming\\Python\\Python310\\site-packages\\xgboost\\sklearn.py:885: UserWarning: `early_stopping_rounds` in `fit` method is deprecated for better compatibility with scikit-learn, use `early_stopping_rounds` in constructor or`set_params` instead.\n",
      "  warnings.warn(\n",
      "\n",
      "C:\\Users\\Luca Visser\\AppData\\Roaming\\Python\\Python310\\site-packages\\xgboost\\core.py:160: UserWarning: [01:46:00] WARNING: C:\\buildkite-agent\\builds\\buildkite-windows-cpu-autoscaling-group-i-0cec3277c4d9d0165-1\\xgboost\\xgboost-ci-windows\\src\\metric\\auc.cc:320: Dataset is empty, or contains only positive or negative samples.\n",
      "  warnings.warn(smsg, UserWarning)\n",
      "\n"
     ]
    },
    {
     "name": "stdout",
     "output_type": "stream",
     "text": [
      "100%|██████████| 100/100 [00:37<00:00,  2.69trial/s, best loss: -0.0]\n"
     ]
    }
   ],
   "source": [
    "import xgboost as xgb\n",
    "from sklearn.metrics import r2_score\n",
    "from sklearn.metrics import accuracy_score\n",
    "from hyperopt import STATUS_OK, Trials, fmin, hp, tpe\n",
    "\n",
    "X_train = train_data_red.loc[:, all_features]\n",
    "X_test = test_data.loc[:, all_features]\n",
    "\n",
    "y_train = train_data_red[\"Totaal\"]\n",
    "y_test = gtest_data[\"Totaal\"]\n",
    "\n",
    "def objective(space):\n",
    "    reg=xgb.XGBRegressor(\n",
    "                    n_estimators =space['n_estimators'], max_depth = int(space['max_depth']), gamma = space['gamma'],\n",
    "                    reg_alpha = int(space['reg_alpha']),min_child_weight=int(space['min_child_weight']),\n",
    "                    colsample_bytree=int(space['colsample_bytree']))\n",
    "    \n",
    "    evaluation = [( X_train, y_train), ( X_test, y_test)]\n",
    "    \n",
    "    reg.fit(X_train, y_train,\n",
    "            eval_set=evaluation, eval_metric=\"auc\",\n",
    "            early_stopping_rounds=10,verbose=False)\n",
    "    \n",
    "\n",
    "    pred = reg.predict(X_test)\n",
    "    accuracy = accuracy_score(y_test, pred>0.5)\n",
    "    return {'loss': -accuracy, 'status': STATUS_OK }\n",
    "\n",
    "space={'max_depth': hp.quniform(\"max_depth\", 1, 18, 1),\n",
    "        'gamma': hp.uniform ('gamma', 1,9),\n",
    "        'reg_alpha' : hp.quniform('reg_alpha', 40,180,1),\n",
    "        'reg_lambda' : hp.uniform('reg_lambda', 0,1),\n",
    "        'colsample_bytree' : hp.uniform('colsample_bytree', 0.5,1),\n",
    "        'min_child_weight' : hp.quniform('min_child_weight', 0, 10, 1),\n",
    "        'n_estimators': 180,\n",
    "        'seed': 0\n",
    "    }\n",
    "\n",
    "trials = Trials()\n",
    "\n",
    "best_hyperparams = fmin(fn = objective,\n",
    "                        space = space,\n",
    "                        algo = tpe.suggest,\n",
    "                        max_evals = 100,\n",
    "                        trials = trials)"
   ]
  },
  {
   "cell_type": "code",
   "execution_count": 117,
   "id": "5b6eabf7",
   "metadata": {},
   "outputs": [
    {
     "name": "stdout",
     "output_type": "stream",
     "text": [
      "The best hyperparameters are :  \n",
      "\n",
      "{'colsample_bytree': 0.7415418445506734, 'gamma': 4.872912417314612, 'max_depth': 18.0, 'min_child_weight': 5.0, 'reg_alpha': 70.0, 'reg_lambda': 0.9773508370657179}\n",
      "Train set R²: 0.9872497834544635\n",
      "Test set R²: 0.45424327143674426\n"
     ]
    },
    {
     "name": "stderr",
     "output_type": "stream",
     "text": [
      "C:\\Users\\Luca Visser\\AppData\\Roaming\\Python\\Python310\\site-packages\\pandas\\core\\arraylike.py:397: RuntimeWarning: invalid value encountered in log10\n",
      "  result = getattr(ufunc, method)(*inputs, **kwargs)\n"
     ]
    },
    {
     "data": {
      "image/png": "[encoded data removed]",
      "text/plain": [
       "<Figure size 432x288 with 1 Axes>"
      ]
     },
     "metadata": {
      "needs_background": "light"
     },
     "output_type": "display_data"
    },
    {
     "name": "stderr",
     "output_type": "stream",
     "text": [
      "C:\\Users\\Luca Visser\\AppData\\Roaming\\Python\\Python310\\site-packages\\pandas\\core\\arraylike.py:397: RuntimeWarning: invalid value encountered in log10\n",
      "  result = getattr(ufunc, method)(*inputs, **kwargs)\n"
     ]
    },
    {
     "data": {
      "image/png": "[encoded data removed]",
      "text/plain": [
       "<Figure size 432x288 with 1 Axes>"
      ]
     },
     "metadata": {
      "needs_background": "light"
     },
     "output_type": "display_data"
    }
   ],
   "source": [
    "import xgboost as xgb\n",
    "from sklearn.metrics import r2_score\n",
    "\n",
    "print(\"The best hyperparameters are : \",\"\\n\")\n",
    "print(best_hyperparams)\n",
    "\n",
    "best_hyperparams[\"max_depth\"] = int(best_hyperparams[\"max_depth\"])\n",
    "\n",
    "dmatrix = xgb.DMatrix(X_train, label=y_train)\n",
    "\n",
    "XGBReg =  xgb.train(best_hyperparams, dmatrix)\n",
    "\n",
    "y_hat_train = XGBReg.predict(xgb.DMatrix(X_train))\n",
    "y_hat_test = XGBReg.predict(xgb.DMatrix(X_test))\n",
    "\n",
    "R_train = r2_score(y_train, y_hat_train) # Training set R²\n",
    "R_test = r2_score(y_test, y_hat_test) # Test set R²\n",
    "\n",
    "print('Train set R²: {}'.format(R_train))\n",
    "print('Test set R²: {}'.format(R_test))\n",
    "\n",
    "plot_diff(y_train, y_hat_train, y_test, y_hat_test)"
   ]
  },
  {
   "cell_type": "markdown",
   "id": "b511ad3b",
   "metadata": {},
   "source": [
    "## Submission"
   ]
  },
  {
   "cell_type": "markdown",
   "id": "de2726e9",
   "metadata": {},
   "source": [
    "### Prediction"
   ]
  },
  {
   "cell_type": "code",
   "execution_count": 274,
   "id": "d5428bb3",
   "metadata": {},
   "outputs": [],
   "source": [
    "X = test_data.loc[:, features]\n",
    "\n",
    "LinReg_predictions = LinReg.predict(X)\n",
    "PoiReg_predictions = PoiReg.predict(X)\n",
    "GBReg_predictions = GBReg.predict(X)\n",
    "XGBReg_predictions = XGBReg.predict(xgb.DMatrix(X))\n",
    "\n",
    "predictions = {\"LinReg\": LinReg_predictions, \n",
    "               \"PoiReg\": PoiReg_predictions,\n",
    "               \"GBReg\": GBReg_predictions,\n",
    "               \"XGBReg\": XGBReg_predictions}"
   ]
  },
  {
   "cell_type": "markdown",
   "id": "8a03e6d9",
   "metadata": {
    "papermill": {
     "duration": 0.004012,
     "end_time": "2023-10-05T13:07:11.566503",
     "exception": false,
     "start_time": "2023-10-05T13:07:11.562491",
     "status": "completed"
    },
    "tags": []
   },
   "source": [
    "### Save results"
   ]
  },
  {
   "cell_type": "code",
   "execution_count": 275,
   "id": "034c7a7d",
   "metadata": {
    "execution": {
     "iopub.execute_input": "2023-10-05T13:07:11.596840Z",
     "iopub.status.busy": "2023-10-05T13:07:11.596218Z",
     "iopub.status.idle": "2023-10-05T13:07:11.615279Z",
     "shell.execute_reply": "2023-10-05T13:07:11.614218Z"
    },
    "papermill": {
     "duration": 0.027573,
     "end_time": "2023-10-05T13:07:11.618022",
     "exception": false,
     "start_time": "2023-10-05T13:07:11.590449",
     "status": "completed"
    },
    "tags": []
   },
   "outputs": [],
   "source": [
    "# format predictions with Ids into dataframe and save to csv.\n",
    "\n",
    "for model in predictions:\n",
    "    file = pd.DataFrame([test_data[\"Id\"], predictions[model]]).T\n",
    "    file.columns = [\"Id\", \"Predicted\"]\n",
    "    file.to_csv(\"input/bicycle-counter-prediction/\" + model + \".csv\", index = False)"
   ]
  }
 ],
 "metadata": {
  "kernelspec": {
   "display_name": "Python 3",
   "language": "python",
   "name": "python3"
  },
  "language_info": {
   "codemirror_mode": {
    "name": "ipython",
    "version": 3
   },
   "file_extension": ".py",
   "mimetype": "text/x-python",
   "name": "python",
   "nbconvert_exporter": "python",
   "pygments_lexer": "ipython3",
   "version": "3.10.9"
  },
  "papermill": {
   "default_parameters": {},
   "duration": 6.282803,
   "end_time": "2023-10-05T13:07:12.153498",
   "environment_variables": {},
   "exception": null,
   "input_path": "__notebook__.ipynb",
   "output_path": "__notebook__.ipynb",
   "parameters": {},
   "start_time": "2023-10-05T13:07:05.870695",
   "version": "2.4.0"
  }
 },
 "nbformat": 4,
 "nbformat_minor": 5
}
